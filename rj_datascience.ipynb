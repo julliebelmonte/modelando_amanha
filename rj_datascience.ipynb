{
 "cells": [
  {
   "cell_type": "code",
   "execution_count": 2,
   "metadata": {},
   "outputs": [],
   "source": [
    "import pandas as pd\n",
    "import numpy as np\n",
    "import matplotlib.pyplot as plt\n",
    "import seaborn as sns\n",
    "import re\n",
    "import plotly.express as px\n",
    "import plotly.graph_objects as go\n",
    "from plotly.subplots import make_subplots\n"
   ]
  },
  {
   "cell_type": "markdown",
   "metadata": {},
   "source": [
    "# Iniciando df"
   ]
  },
  {
   "cell_type": "code",
   "execution_count": 3,
   "metadata": {},
   "outputs": [],
   "source": [
    "#importando dados\n",
    "\n",
    "df_20 = pd.read_csv('state_of_data_2020.csv', low_memory=False)\n",
    "df_21 = pd.read_csv('state_of_data_2021.csv', low_memory=False)\n",
    "df_22 = pd.read_csv('State_of_data_2022.csv', low_memory=False)\n",
    "df_23 = pd.read_csv('State_of_data_2023.csv', low_memory=False)\n",
    "df_24 = pd.read_csv('State_of_data_2024.csv', low_memory=False)"
   ]
  },
  {
   "cell_type": "code",
   "execution_count": 4,
   "metadata": {},
   "outputs": [],
   "source": [
    "#df_21[\"('P2', 'gender')\"].value_counts()"
   ]
  },
  {
   "cell_type": "code",
   "execution_count": 5,
   "metadata": {},
   "outputs": [
    {
     "name": "stdout",
     "output_type": "stream",
     "text": [
      "('P0', 'id')\n",
      "('P1_a ', 'Idade')\n",
      "('P1_a_1 ', 'Faixa idade')\n",
      "('P1_b ', 'Genero')\n",
      "('P1_c ', 'Cor/raca/etnia')\n",
      "('P1_d ', 'PCD')\n",
      "('P1_e ', 'experiencia_profissional_prejudicada')\n",
      "('P1_e_1 ', 'Não acredito que minha experiência profissional seja afetada')\n",
      "('P1_e_2 ', 'Experiencia prejudicada devido a minha Cor Raça Etnia')\n",
      "('P1_e_3 ', 'Experiencia prejudicada devido a minha identidade de gênero')\n",
      "('P1_e_4 ', 'Experiencia prejudicada devido ao fato de ser PCD')\n",
      "('P1_f ', 'aspectos_prejudicados')\n",
      "('P1_f_1', 'Quantidade de oportunidades de emprego/vagas recebidas')\n",
      "('P1_f_2', 'Senioridade das vagas recebidas em relação à sua experiência')\n",
      "('P1_f_3', 'Aprovação em processos seletivos/entrevistas')\n",
      "('P1_f_4', 'Oportunidades de progressão de carreira')\n",
      "('P1_f_5', 'Velocidade de progressão de carreira')\n",
      "('P1_f_6', 'Nível de cobrança no trabalho/Stress no trabalho')\n",
      "('P1_f_7', 'Atenção dada diante das minhas opiniões e ideias')\n",
      "('P1_f_8', 'Relação com outros membros da empresa, em momentos de trabalho')\n",
      "('P1_f_9', 'Relação com outros membros da empresa, em momentos de integração e outros momentos fora do trabalho')\n",
      "('P1_g ', 'vive_no_brasil')\n",
      "('P1_i ', 'Estado onde mora')\n",
      "('P1_i_1 ', 'uf onde mora')\n",
      "('P1_i_2 ', 'Regiao onde mora')\n",
      "('P1_j ', 'Mudou de Estado?')\n",
      "('P1_k ', 'Regiao de origem')\n",
      "('P1_l ', 'Nivel de Ensino')\n",
      "('P1_m ', 'Área de Formação')\n",
      "('P2_a ', 'Qual sua situação atual de trabalho?')\n",
      "('P2_b ', 'Setor')\n",
      "('P2_c ', 'Numero de Funcionarios')\n",
      "('P2_d ', 'Gestor?')\n",
      "('P2_e ', 'Cargo como Gestor')\n",
      "('P2_f ', 'Cargo Atual')\n",
      "('P2_g ', 'Nivel')\n",
      "('P2_h ', 'Faixa salarial')\n",
      "('P2_i ', 'Quanto tempo de experiência na área de dados você tem?')\n",
      "('P2_j ', 'Quanto tempo de experiência na área de TI/Engenharia de Software você teve antes de começar a trabalhar na área de dados?')\n",
      "('P2_k ', 'Você está satisfeito na sua empresa atual?')\n",
      "('P2_l ', 'Qual o principal motivo da sua insatisfação com a empresa atual?')\n",
      "('P2_l_1 ', 'Falta de oportunidade de crescimento no emprego atual')\n",
      "('P2_l_2 ', 'Salário atual não corresponde ao mercado')\n",
      "('P2_l_3 ', 'Não tenho uma boa relação com meu líder/gestor')\n",
      "('P2_l_4 ', 'Gostaria de trabalhar em em outra área de atuação')\n",
      "('P2_l_5 ', 'Gostaria de receber mais benefícios')\n",
      "('P2_l_6 ', 'O clima de trabalho/ambiente não é bom')\n",
      "('P2_l_7 ', 'Falta de maturidade analítica na empresa')\n",
      "('P2_m ', 'Você participou de entrevistas de emprego nos últimos 6 meses?')\n",
      "('P2_n ', 'Você pretende mudar de emprego nos próximos 6 meses?')\n",
      "('P2_o ', 'Quais os principais critérios que você leva em consideração no momento de decidir onde trabalhar?')\n",
      "('P2_o_1 ', 'Remuneração/Salário')\n",
      "('P2_o_2 ', 'Benefícios')\n",
      "('P2_o_3 ', 'Propósito do trabalho e da empresa')\n",
      "('P2_o_4 ', 'Flexibilidade de trabalho remoto')\n",
      "('P2_o_5 ', 'Ambiente e clima de trabalho')\n",
      "('P2_o_6 ', 'Oportunidade de aprendizado e trabalhar com referências na área')\n",
      "('P2_o_7 ', 'Plano de carreira e oportunidades de crescimento profissional')\n",
      "('P2_o_8 ', 'Maturidade da empresa em termos de tecnologia e dados')\n",
      "('P2_o_9 ', 'Qualidade dos gestores e líderes')\n",
      "('P2_o_10 ', 'Reputação que a empresa tem no mercado')\n",
      "('P2_q ', 'Empresa que trabaha passou por layoff em 2023')\n",
      "('P2_r ', 'Atualmente qual a sua forma de trabalho?')\n",
      "('P2_s ', 'Qual a forma de trabalho ideal para você?')\n",
      "('P2_t ', 'Caso sua empresa decida pelo modelo 100% presencial qual será sua atitude?')\n",
      "('P3_a ', 'Qual o número aproximado de pessoas que atuam com dados na sua empresa hoje?')\n",
      "('P3_b ', 'Quais desses papéis/cargos fazem parte do time (ou chapter) de dados da sua empresa?')\n",
      "('P3_b_1 ', 'Analytics Engineer')\n",
      "('P3_b_2 ', 'Engenharia de Dados/Data Engineer')\n",
      "('P3_b_3 ', 'Analista de Dados/Data Analyst')\n",
      "('P3_b_4 ', 'Cientista de Dados/Data Scientist')\n",
      "('P3_b_5 ', 'Database Administrator/DBA')\n",
      "('P3_b_6 ', 'Analista de Business Intelligence/BI')\n",
      "('P3_b_7 ', 'Arquiteto de Dados/Data Architect')\n",
      "('P3_b_8 ', 'Data Product Manager/DPM')\n",
      "('P3_b_9 ', 'Business Analyst')\n",
      "('P3_c ', 'Quais dessas responsabilidades fazem parte da sua rotina atual de trabalho como gestor?')\n",
      "('P3_c_1 ', 'Pensar na visão de longo prazo de dados da empresa e fortalecimento da cultura analítica da companhia.')\n",
      "('P3_c_2 ', 'Organização de treinamentos e iniciativas com o objetivo de aumentar a maturidade analítica das áreas de negócios.')\n",
      "('P3_c_3 ', 'Atração, seleção e contratação de talentos para o time de dados.')\n",
      "('P3_c_4 ', 'Decisão sobre contratação de ferramentas e tecnologias relacionadas a dados.')\n",
      "('P3_c_5 ', 'Sou gestor da equipe responsável pela engenharia de dados e por manter o Data Lake da empresa como fonte única dos dados, garantindo a qualidade e confiabilidade da informação.')\n",
      "('P3_c_6 ', 'Sou gestor da equipe responsável pela entrega de dados, estudos, relatórios e dashboards para as áreas de negócio da empresa.')\n",
      "('P3_c_7 ', 'Sou gestor da equipe responsável por iniciativas e projetos envolvendo Inteligência Artificial e Machine Learning.')\n",
      "('P3_c_8 ', 'Apesar de ser gestor ainda atuo na parte técnica, construindo soluções/análises/modelos etc.')\n",
      "('P3_c_9 ', 'Gestão de projetos de dados, cuidando das etapas, equipes envolvidas, atingimento dos objetivos etc.')\n",
      "('P3_c_10 ', 'Gestão de produtos de dados, cuidando da visão dos produtos, backlog, feedback de usuários etc.')\n",
      "('P3_c_11 ', 'Gestão de pessoas, apoio no desenvolvimento das pessoas, evolução de carreira')\n",
      "('P3_d ', 'Quais são os 3 maiores desafios que você tem como gestor no atual momento?')\n",
      "('P3_d_1 ', 'a Contratar novos talentos.')\n",
      "('P3_d_2 ', 'b Reter talentos.')\n",
      "('P3_d_3 ', 'c Convencer a empresa a aumentar os investimentos na área de dados.')\n",
      "('P3_d_4 ', 'd Gestão de equipes no ambiente remoto.')\n",
      "('P3_d_5 ', 'e Gestão de projetos envolvendo áreas multidisciplinares da empresa.')\n",
      "('P3_d_6 ', 'f Organizar as informações e garantir a qualidade e confiabilidade.')\n",
      "('P3_d_7 ', 'g Conseguir processar e armazenar um alto volume de dados.')\n",
      "('P3_d_8 ', 'h Conseguir gerar valor para as áreas de negócios através de estudos e experimentos.')\n",
      "('P3_d_9 ', 'i Desenvolver e manter modelos Machine Learning em produção.')\n",
      "('P3_d_10 ', 'j Gerenciar a expectativa das áreas de negócio em relação as entregas das equipes de dados.')\n",
      "('P3_d_11 ', 'k Garantir a manutenção dos projetos e modelos em produção, em meio ao crescimento da empresa.')\n",
      "('P3_d_12 ', 'Conseguir levar inovação para a empresa através dos dados.')\n",
      "('P3_d_13 ', 'Garantir retorno do investimento (ROI) em projetos de dados.')\n",
      "('P3_d_14 ', 'Dividir o tempo entre entregas técnicas e gestão.')\n",
      "('P3_e ', 'AI Generativa é uma prioridade em sua empresa?')\n",
      "('P3_f ', 'Tipos de uso de AI Generativa e LLMs na empresa')\n",
      "('P3_f_1 ', 'Colaboradores usando AI generativa de forma independente e descentralizada')\n",
      "('P3_f_2 ', 'Direcionamento centralizado do uso de AI generativa')\n",
      "('P3_f_3 ', 'Desenvolvedores utilizando Copilots')\n",
      "('P3_f_4 ', 'AI Generativa e LLMs para melhorar produtos externos')\n",
      "('P3_f_5 ', 'AI Generativa e LLMs para melhorar produtos internos para os colaboradores')\n",
      "('P3_f_6 ', 'IA Generativa e LLMs como principal frente do negócio')\n",
      "('P3_f_7 ', 'IA Generativa e LLMs não é prioridade')\n",
      "('P3_f_8 ', 'Não sei opinar sobre o uso de IA Generativa e LLMs na empresa')\n",
      "('P3_g ', 'Motivos que levam a empresa a não usar AI Genrativa e LLMs')\n",
      "('P3_g_1 ', 'Falta de compreensão dos casos de uso')\n",
      "('P3_g_2 ', 'Falta de confiabilidade das saídas (alucinação dos modelos)')\n",
      "('P3_g_3 ', 'Incerteza em relação a regulamentação')\n",
      "('P3_g_4 ', 'Preocupações com segurança e privacidade de dados')\n",
      "('P3_g_5 ', 'Retorno sobre investimento (ROI) não comprovado de IA Generativa')\n",
      "('P3_g_6 ', 'Dados da empresa não estão prontos para uso de IA Generativa')\n",
      "('P3_g_7 ', 'Falta de expertise ou falta de recursos')\n",
      "('P3_g_8 ', 'Alta direção da empresa não vê valor ou não vê como prioridade')\n",
      "('P3_g_9 ', 'Preocupações com propriedade intelectual')\n",
      "('P4_a ', 'Mesmo que esse não seja seu cargo formal, você considera que sua atuação no dia a dia, reflete alguma das opções listadas abaixo?')\n",
      "('P4_a_1 ', 'Atuacao')\n",
      "('P4_b ', 'Quais das fontes de dados listadas você já analisou ou processou no trabalho?')\n",
      "('P4_b_1 ', 'Dados relacionais (estruturados em bancos SQL)')\n",
      "('P4_b_2 ', 'Dados armazenados em bancos NoSQL')\n",
      "('P4_b_3 ', 'Imagens')\n",
      "('P4_b_4 ', 'Textos/Documentos')\n",
      "('P4_b_5 ', 'Vídeos')\n",
      "('P4_b_6 ', 'Áudios')\n",
      "('P4_b_7 ', 'Planilhas')\n",
      "('P4_b_8 ', 'Dados georeferenciados')\n",
      "('P4_c ', 'Entre as fontes de dados listadas, quais você utiliza na maior parte do tempo?')\n",
      "('P4_c_1 ', 'Dados relacionais (estruturados em bancos SQL)')\n",
      "('P4_c_2 ', 'Dados armazenados em bancos NoSQL')\n",
      "('P4_c_3 ', 'Imagens')\n",
      "('P4_c_4 ', 'Textos/Documentos')\n",
      "('P4_c_5 ', 'Vídeos')\n",
      "('P4_c_6 ', 'Áudios')\n",
      "('P4_c_7 ', 'Planilhas')\n",
      "('P4_c_8 ', 'Dados georeferenciados')\n",
      "('P4_d ', 'Quais das linguagens listadas abaixo você utiliza no trabalho?')\n",
      "('P4_d_1 ', 'SQL')\n",
      "('P4_d_2 ', 'R ')\n",
      "('P4_d_3 ', 'Python')\n",
      "('P4_d_4 ', 'C/C++/C#')\n",
      "('P4_d_5 ', '.NET')\n",
      "('P4_d_6 ', 'Java')\n",
      "('P4_d_7 ', 'Julia')\n",
      "('P4_d_8 ', 'SAS/Stata')\n",
      "('P4_d_9 ', 'Visual Basic/VBA')\n",
      "('P4_d_10 ', 'Scala')\n",
      "('P4_d_11 ', 'Matlab')\n",
      "('P4_d_12 ', 'Rust')\n",
      "('P4_d_13 ', 'PHP')\n",
      "('P4_d_14 ', 'JavaScript')\n",
      "('P4_d_15 ', 'Não utilizo nenhuma linguagem')\n",
      "('P4_e ', 'Entre as linguagens listadas abaixo, qual é a que você mais utiliza no trabalho?')\n",
      "('P4_f ', 'Entre as linguagens listadas abaixo, qual é a sua preferida?')\n",
      "('P4_g ', 'Quais dos bancos de dados/fontes de dados listados abaixo você utiliza no trabalho?')\n",
      "('P4_g_1 ', 'MySQL')\n",
      "('P4_g_2 ', 'Oracle')\n",
      "('P4_g_3 ', 'SQL SERVER')\n",
      "('P4_g_4 ', 'Amazon Aurora ou RDS')\n",
      "('P4_g_5 ', 'DynamoDB')\n",
      "('P4_g_6 ', 'CoachDB')\n",
      "('P4_g_7 ', 'Cassandra')\n",
      "('P4_g_8 ', 'MongoDB')\n",
      "('P4_g_9 ', 'MariaDB')\n",
      "('P4_g_10 ', 'Datomic')\n",
      "('P4_g_11 ', 'S3')\n",
      "('P4_g_12 ', 'PostgreSQL')\n",
      "('P4_g_13 ', 'ElasticSearch')\n",
      "('P4_g_14 ', 'DB2')\n",
      "('P4_g_15 ', 'Microsoft Access')\n",
      "('P4_g_16 ', 'SQLite')\n",
      "('P4_g_17 ', 'Sybase')\n",
      "('P4_g_18 ', 'Firebase')\n",
      "('P4_g_19 ', 'Vertica')\n",
      "('P4_g_20 ', 'Redis')\n",
      "('P4_g_21 ', 'Neo4J')\n",
      "('P4_g_22 ', 'Google BigQuery')\n",
      "('P4_g_23 ', 'Google Firestore')\n",
      "('P4_g_24 ', 'Amazon Redshift')\n",
      "('P4_g_25 ', 'Amazon Athena')\n",
      "('P4_g_26 ', 'Snowflake')\n",
      "('P4_g_27 ', 'Databricks')\n",
      "('P4_g_28 ', 'HBase')\n",
      "('P4_g_29 ', 'Presto')\n",
      "('P4_g_30 ', 'Splunk')\n",
      "('P4_g_31 ', 'SAP HANA')\n",
      "('P4_g_32 ', 'Hive')\n",
      "('P4_g_33 ', 'Firebird')\n",
      "('P4_h ', 'Dentre as opções listadas, qual sua Cloud preferida?')\n",
      "('P4_h_1 ', 'Azure (Microsoft)')\n",
      "('P4_h_2 ', 'Amazon Web Services (AWS)')\n",
      "('P4_h_3 ', 'Google Cloud (GCP)')\n",
      "('P4_h_4 ', 'Oracle Cloud')\n",
      "('P4_h_5 ', 'IBM')\n",
      "('P4_h_6 ', 'Servidores On Premise/Não utilizamos Cloud')\n",
      "('P4_h_7 ', 'Cloud Própria')\n",
      "('P4_i ', 'Cloud preferida')\n",
      "('P4_j ', 'Ferramenta de BI utilizada no dia a dia')\n",
      "('P4_j_1 ', 'Microsoft PowerBI')\n",
      "('P4_j_2 ', 'Qlik View/Qlik Sense')\n",
      "('P4_j_3 ', 'Tableau')\n",
      "('P4_j_4 ', 'Metabase')\n",
      "('P4_j_5 ', 'Superset')\n",
      "('P4_j_6 ', 'Redash')\n",
      "('P4_j_7 ', 'Looker')\n",
      "('P4_j_8 ', 'Looker Studio(Google Data Studio)')\n",
      "('P4_j_9 ', 'Amazon Quicksight')\n",
      "('P4_j_10 ', 'Mode')\n",
      "('P4_j_11 ', 'Alteryx')\n",
      "('P4_j_12 ', 'MicroStrategy')\n",
      "('P4_j_13 ', 'IBM Analytics/Cognos')\n",
      "('P4_j_14 ', 'SAP Business Objects/SAP Analytics')\n",
      "('P4_j_15 ', 'Oracle Business Intelligence')\n",
      "('P4_j_16 ', 'Salesforce/Einstein Analytics')\n",
      "('P4_j_17 ', 'Birst')\n",
      "('P4_j_18 ', 'SAS Visual Analytics')\n",
      "('P4_j_19 ', 'Grafana')\n",
      "('P4_j_20 ', 'TIBCO Spotfire')\n",
      "('P4_j_21 ', 'Pentaho')\n",
      "('P4_j_22 ', 'Fazemos todas as análises utilizando apenas Excel ou planilhas do google')\n",
      "('P4_j_23 ', 'Não utilizo nenhuma ferramenta de BI no trabalho')\n",
      "('P4_k ', 'Qual sua ferramenta de BI preferida?')\n",
      "('P4_l ', 'Qual o tipo de uso de AI Generativa e LLMs na empresa')\n",
      "('P4_l_1 ', 'Colaboradores usando AI generativa de forma independente e descentralizada')\n",
      "('P4_l_2 ', 'Direcionamento centralizado do uso de AI generativa')\n",
      "('P4_l_3 ', 'Desenvolvedores utilizando Copilots')\n",
      "('P4_l_4 ', 'AI Generativa e LLMs para melhorar produtos externos para os clientes finais')\n",
      "('P4_l_5 ', 'AI Generativa e LLMs para melhorar produtos internos para os colaboradores')\n",
      "('P4_l_6 ', 'IA Generativa e LLMs como principal frente do negócio')\n",
      "('P4_l_7 ', 'IA Generativa e LLMs não é prioridade')\n",
      "('P4_l_8 ', 'Não sei opinar sobre o uso de IA Generativa e LLMs na empresa')\n",
      "('P4_m ', 'Utiliza ChatGPT ou LLMs no trabalho?')\n",
      "('P4_m_1 ', 'Não uso soluções de AI Generativa com foco em produtividade')\n",
      "('P4_m_2 ', 'Uso soluções gratuitas de AI Generativa com foco em produtividade')\n",
      "('P4_m_3 ', 'Uso e pago pelas soluções de AI Generativa com foco em produtividade')\n",
      "('P4_m_4 ', 'A empresa que trabalho paga pelas soluções de AI Generativa com foco em produtividade')\n",
      "('P4_m_5 ', 'Uso soluções do tipo Copilot')\n",
      "('P5_a ', 'Qual seu objetivo na área de dados?')\n",
      "('P5_b ', 'Qual oportunidade você está buscando?')\n",
      "('P5_c ', 'Há quanto tempo você busca uma oportunidade na área de dados?')\n",
      "('P5_d ', 'Como tem sido a busca por um emprego na área de dados?')\n",
      "('P6_a ', 'Quais das opções abaixo fazem parte da sua rotina no trabalho atual como engenheiro de dados?')\n",
      "('P6_a_1 ', 'Desenvolvo pipelines de dados utilizando linguagens de programação como Python, Scala, Java etc.')\n",
      "('P6_a_2 ', 'Realizo construções de ETL's em ferramentas como Pentaho, Talend, Dataflow etc.')\n",
      "('P6_a_3 ', 'Crio consultas através da linguagem SQL para exportar informações e compartilhar com as áreas de negócio.')\n",
      "('P6_a_4 ', 'Atuo na integração de diferentes fontes de dados através de plataformas proprietárias como Stitch Data, Fivetran etc.')\n",
      "('P6_a_5 ', 'Modelo soluções de arquitetura de dados, criando componentes de ingestão de dados, transformação e recuperação da informação.')\n",
      "('P6_a_6 ', 'Desenvolvo/cuido da manutenção de repositórios de dados baseados em streaming de eventos como Data Lakes e Data Lakehouses.')\n",
      "('P6_a_7 ', 'Atuo na modelagem dos dados, com o objetivo de criar conjuntos de dados como Data Warehouses, Data Marts etc.')\n",
      "('P6_a_8 ', 'Cuido da qualidade dos dados, metadados e dicionário de dados.')\n",
      "('P6_a_9 ', 'Nenhuma das opções listadas refletem meu dia a dia.')\n",
      "('P6_b ', 'Quais as ferramentas/tecnologias de ETL que você utiliza no trabalho como Data Engineer?')\n",
      "('P6_b_1 ', 'Scripts Python')\n",
      "('P6_b_2 ', 'SQL & Stored Procedures')\n",
      "('P6_b_3 ', 'Apache Airflow')\n",
      "('P6_b_4 ', 'Apache NiFi')\n",
      "('P6_b_5 ', 'Luigi')\n",
      "('P6_b_6 ', 'AWS Glue')\n",
      "('P6_b_7 ', 'Talend')\n",
      "('P6_b_8 ', 'Pentaho')\n",
      "('P6_b_9 ', 'Alteryx')\n",
      "('P6_b_10 ', 'Stitch')\n",
      "('P6_b_11 ', 'Fivetran')\n",
      "('P6_b_12 ', 'Google Dataflow')\n",
      "('P6_b_13 ', 'Oracle Data Integrator')\n",
      "('P6_b_14 ', 'IBM DataStage')\n",
      "('P6_b_15 ', 'SAP BW ETL')\n",
      "('P6_b_16 ', 'SQL Server Integration Services (SSIS))\n",
      "('P6_b_17 ', 'SAS Data Integration')\n",
      "('P6_b_18 ', 'Qlik Sense')\n",
      "('P6_b_19 ', 'Knime')\n",
      "('P6_b_20 ', 'Databricks')\n",
      "('P6_b_21 ', 'Não utilizo ferramentas de ETL')\n",
      "('P6_c ', 'Sua organização possui um Data Lake?')\n",
      "('P6_d ', 'Qual tecnologia utilizada como plataforma do Data Lake?')\n",
      "('P6_e ', 'Sua organização possui um Data Warehouse?')\n",
      "('P6_f ', 'Qual tecnologia utilizada como plataforma do Data Warehouse?')\n",
      "('P6_g ', 'Quais as ferramentas de gestão de Qualidade de dados, Metadados e catálogo de dados você utiliza no trabalho?')\n",
      "('P6_h ', 'Em qual das opções abaixo você gasta a maior parte do seu tempo?')\n",
      "('P6_h_1 ', 'Desenvolvendo pipelines de dados utilizando linguagens de programação como Python, Scala, Java etc.')\n",
      "('P6_h_2 ', 'Realizando construções de ETL's em ferramentas como Pentaho, Talend, Dataflow etc.')\n",
      "('P6_h_3 ', 'Criando consultas através da linguagem SQL para exportar informações e compartilhar com as áreas de negócio.')\n",
      "('P6_h_4 ', 'Atuando na integração de diferentes fontes de dados através de plataformas proprietárias como Stitch Data, Fivetran etc.')\n",
      "('P6_h_5 ', 'Modelando soluções de arquitetura de dados, criando componentes de ingestão de dados, transformação e recuperação da informação.')\n",
      "('P6_h_6 ', 'Desenvolvendo/cuidando da manutenção de repositórios de dados baseados em streaming de eventos como Data Lakes e Data Lakehouses.')\n",
      "('P6_h_7 ', 'Atuando na modelagem dos dados, com o objetivo de criar conjuntos de dados como Data Warehouses, Data Marts etc.')\n",
      "('P6_h_8 ', 'Cuidando da qualidade dos dados, metadados e dicionário de dados.')\n",
      "('P6_h_9 ', 'Nenhuma das opções listadas refletem meu dia a dia.')\n",
      "('P7_1 ', 'Quais das opções abaixo fazem parte da sua rotina no trabalho atual com análise de dados?')\n",
      "('P7_a_1 ', 'Processo e analiso dados utilizando linguagens de programação como Python, R etc.')\n",
      "('P7_a_2 ', 'Realizo construções de dashboards em ferramentas de BI como PowerBI, Tableau, Looker, Qlik etc.')\n",
      "('P7_a_3 ', 'Crio consultas através da linguagem SQL para exportar informações e compartilhar com as áreas de negócio.')\n",
      "('P7_a_4 ', 'Utilizo API's para extrair dados e complementar minhas análises.')\n",
      "('P7_a_5 ', 'Realizo experimentos e estudos utilizando metodologias estatísticas como teste de hipótese, modelos de regressão etc.')\n",
      "('P7_a_6 ', 'Desenvolvo/cuido da manutenção de ETL's utilizando tecnologias como Talend, Pentaho, Airflow, Dataflow etc.')\n",
      "('P7_a_7 ', 'Atuo na modelagem dos dados, com o objetivo de criar conjuntos de dados, Data Warehouses, Data Marts etc.')\n",
      "('P7_a_8 ', 'Desenvolvo/cuido da manutenção de planilhas para atender as áreas de negócio.')\n",
      "('P7_a_9 ', 'Utilizo ferramentas avançadas de estatística como SASS, PSS, Stata etc')\n",
      "('P7_a_10 ', 'Nenhuma das opções listadas refletem meu dia a dia.')\n",
      "('P7_b ', 'Quais as ferramentas/tecnologias de ETL que você utiliza no trabalho como Data Analyst?')\n",
      "('P7_b_1 ', 'Scripts Python')\n",
      "('P7_b_2 ', 'SQL & Stored Procedures')\n",
      "('P7_b_3 ', 'Apache Airflow')\n",
      "('P7_b_4 ', 'Apache NiFi')\n",
      "('P7_b_5 ', 'Luigi')\n",
      "('P7_b_6 ', 'AWS Glue')\n",
      "('P7_b_7 ', 'Talend')\n",
      "('P7_b_8 ', 'Pentaho')\n",
      "('P7_b_9 ', 'Alteryx')\n",
      "('P7_b_10 ', 'Stitch')\n",
      "('P7_b_11 ', 'Fivetran')\n",
      "('P7_b_12 ', 'Google Dataflow')\n",
      "('P7_b_13 ', 'Oracle Data Integrator')\n",
      "('P7_b_14 ', 'IBM DataStage')\n",
      "('P7_b_15 ', 'SAP BW ETL')\n",
      "('P7_b_16 ', 'SQL Server Integration Services (SSIS)')\n",
      "('P7_b_17 ', 'SAS Data Integration')\n",
      "('P7_b_18 ', 'Qlik Sense')\n",
      "('P7_b_19 ', 'Knime')\n",
      "('P7_b_20 ', 'Databricks')\n",
      "('P7_b_21 ', 'Não utilizo ferramentas de ETL')\n",
      "('P7_c ', 'Sua empresa utiliza alguma das ferramentas listadas para dar mais autonomia em análise de dados para as áreas de negócio?')\n",
      "('P7_c_1 ', 'Ferramentas de AutoML como H2O.ai, Data Robot, BigML etc.')\n",
      "('P7_c_2 ', '\"\"Point and Click\"\" Analytics como Alteryx, Knime, Rapidminer etc.')\n",
      "('P7_c_3 ', 'Product metricts & Insights como Mixpanel, Amplitude, Adobe Analytics.')\n",
      "('P7_c_4 ', 'Ferramentas de análise dentro de ferramentas de CRM como Salesforce Einstein Anaytics ou Zendesk dashboards.')\n",
      "('P7_c_5 ', 'Minha empresa não utiliza essas ferramentas.')\n",
      "('P7_c_6 ', 'Não sei informar.')\n",
      "('P7_d ', 'Em qual das opções abaixo você gasta a maior parte do seu tempo de trabalho?')\n",
      "('P7_d_1 ', 'Processando e analisando dados utilizando linguagens de programação como Python, R etc.')\n",
      "('P7_d_2 ', 'Realizando construções de dashboards em ferramentas de BI como PowerBI, Tableau, Looker, Qlik etc.')\n",
      "('P7_d_3 ', 'Criando consultas através da linguagem SQL para exportar informações e compartilhar com as áreas de negócio.')\n",
      "('P7_d_4 ', 'Utilizando API's para extrair dados e complementar minhas análises.')\n",
      "('P7_d_5 ', 'Realizando experimentos e estudos utilizando metodologias estatísticas como teste de hipótese, modelos de regressão etc.')\n",
      "('P7_d_6 ', 'Desenvolvendo/cuidando da manutenção de ETL's utilizando tecnologias como Talend, Pentaho, Airflow, Dataflow etc.')\n",
      "('P7_d_7 ', 'Atuando na modelagem dos dados, com o objetivo de criar conjuntos de dados, Data Warehouses, Data Marts etc.')\n",
      "('P7_d_8 ', 'Desenvolvendo/cuidando da manutenção de planilhas do Excel ou Google Sheets para atender as áreas de negócio.')\n",
      "('P7_d_9 ', 'Utilizando ferramentas avançadas de estatística como SAS, SPSS, Stata etc, para realizar análises.')\n",
      "('P7_d_10 ', 'Nenhuma das opções listadas refletem meu dia a dia.')\n",
      "('P8_a ', 'Quais das opções abaixo fazem parte da sua rotina no trabalho atual com ciência de dados?')\n",
      "('P8_a_1 ', 'Estudos Ad-hoc com o objetivo de confirmar hipóteses, realizar modelos preditivos, forecasts, análise de cluster para resolver problemas pontuais e responder perguntas das áreas de negócio.')\n",
      "('P8_a_2 ', 'Sou responsável pela coleta e limpeza dos dados que uso para análise e modelagem.')\n",
      "('P8_a_3 ', 'Sou responsável por entrar em contato com os times de negócio para definição do problema, identificar a solução e apresentação de resultados.')\n",
      "('P8_a_4 ', 'Desenvolvo modelos de Machine Learning com o objetivo de colocar em produção em sistemas (produtos de dados).')\n",
      "('P8_a_5 ', 'Sou responsável por colocar modelos em produção, criar os pipelines de dados, APIs de consumo e monitoramento.')\n",
      "('P8_a_6 ', 'Cuido da manutenção de modelos de Machine Learning já em produção, atuando no monitoramento, ajustes e refatoração quando necessário.')\n",
      "('P8_a_7 ', 'Realizo construções de dashboards em ferramentas de BI como PowerBI, Tableau, Looker, Qlik, etc')\n",
      "('P8_a_8 ', 'Utilizo ferramentas avançadas de estatística como SAS, SPSS, Stata etc, para realizar análises estatísticas e ajustar modelos.')\n",
      "('P8_a_9 ', 'Crio e dou manutenção em ETLs, DAGs e automações de pipelines de dados.')\n",
      "('P8_a_10 ', 'Crio e gerencio soluções de Feature Store e cultura de MLOps.')\n",
      "('P8_a_11 ', 'Sou responsável por criar e manter a infra que meus modelos e soluções rodam (clusters, servidores, API, containers, etc.)')\n",
      "('P8_a_12 ', 'Treino e aplico LLM's para solucionar problemas de negócio.')\n",
      "('P8_b ', 'Quais as técnicas e métodos listados abaixo você costuma utilizar no trabalho?')\n",
      "('P8_b_1 ', 'Utilizo modelos de regressão (linear, logística, GLM)')\n",
      "('P8_b_2 ', 'Utilizo redes neurais ou modelos baseados em árvore para criar modelos de classificação')\n",
      "('P8_b_3 ', 'Desenvolvo sistemas de recomendação (RecSys)')\n",
      "('P8_b_4 ', 'Utilizo métodos estatísticos Bayesianos para analisar dados')\n",
      "('P8_b_5 ', 'Utilizo técnicas de NLP (Natural Language Processing) para análisar dados não-estruturados')\n",
      "('P8_b_6 ', 'Utilizo métodos estatísticos clássicos (Testes de hipótese, análise multivariada, sobrevivência, dados longitudinais, inferência estatistica) para analisar dados')\n",
      "('P8_b_7 ', 'Utilizo cadeias de Markov ou HMM's para realizar análises de dados')\n",
      "('P8_b_8 ', 'Desenvolvo técnicas de Clusterização (K-means, Spectral, DBScan etc)')\n",
      "('P8_b_9 ', 'Realizo previsões através de modelos de Séries Temporais (Time Series)')\n",
      "('P8_b_10 ', 'Utilizo modelos de Reinforcement Learning (aprendizado por reforço)')\n",
      "('P8_b_11 ', 'Utilizo modelos de Machine Learning para detecção de fraude')\n",
      "('P8_b_12 ', 'Utilizo métodos de Visão Computacional')\n",
      "('P8_b_13 ', 'Utilizo modelos de Detecção de Churn')\n",
      "('P8_b_14 ', 'Utilizo LLM's para solucionar problemas de negócio')\n",
      "('P8_3 ', 'Quais dessas tecnologias fazem parte do seu dia a dia como cientista de dados?')\n",
      "('P8_c_1 ', 'Ferramentas de BI (PowerBI, Looker, Tableau, Qlik etc)')\n",
      "('P8_c_2 ', 'Planilhas (Excel, Google Sheets etc)')\n",
      "('P8_c_3 ', 'Ambientes de desenvolvimento local (R-studio, JupyterLab, Anaconda)')\n",
      "('P8_c_4 ', 'Ambientes de desenvolvimento na nuvem (Google Colab, AWS Sagemaker, Kaggle Notebooks etc)')\n",
      "('P8_c_5 ', 'Ferramentas de AutoML (Datarobot, H2O, Auto-Keras etc)')\n",
      "('P8_c_6 ', 'Ferramentas de ETL (Apache Airflow, NiFi, Stitch, Fivetran, Pentaho etc)')\n",
      "('P8_c_7 ', 'Plataformas de Machine Learning (TensorFlow, Azure Machine Learning, Kubeflow etc)')\n",
      "('P8_c_8 ', 'Feature Store (Feast, Hopsworks, AWS Feature Store, Databricks Feature Store etc)')\n",
      "('P8_c_9 ', 'Sistemas de controle de versão (Github, DVC, Neptune, Gitlab etc)')\n",
      "('P8_c_10 ', 'Plataformas de Data Apps (Streamlit, Shiny, Plotly Dash etc)')\n",
      "('P8_c_11 ', 'Ferramentas de estatística avançada como SPSS, SAS, etc.')\n",
      "('P8_d ', 'Em qual das opções abaixo você gasta a maior parte do seu tempo no trabalho?')\n",
      "('P8_d_1 ', 'Estudos Ad-hoc com o objetivo de confirmar hipóteses, realizar modelos preditivos, forecasts, análise de cluster para resolver problemas pontuais e responder perguntas das áreas de negócio.')\n",
      "('P8_d_2 ', 'Coletando e limpando os dados que uso para análise e modelagem.')\n",
      "('P8_d_3 ', 'Entrando em contato com os times de negócio para definição do problema, identificar a solução e apresentação de resultados.')\n",
      "('P8_d_4 ', 'Desenvolvendo modelos de Machine Learning com o objetivo de colocar em produção em sistemas (produtos de dados).')\n",
      "('P8_d_5 ', 'Colocando modelos em produção, criando os pipelines de dados, APIs de consumo e monitoramento.')\n",
      "('P8_d_6 ', 'Cuidando da manutenção de modelos de Machine Learning já em produção, atuando no monitoramento, ajustes e refatoração quando necessário.')\n",
      "('P8_d_7 ', 'Realizando construções de dashboards em ferramentas de BI como PowerBI, Tableau, Looker, Qlik, etc.')\n",
      "('P8_d_8 ', 'Utilizando ferramentas avançadas de estatística como SAS, SPSS, Stata etc, para realizar análises.')\n",
      "('P8_d_9 ', 'Criando e dando manutenção em ETLs, DAGs e automações de pipelines de dados.')\n",
      "('P8_d_10 ', 'Criando e gerenciando soluções de Feature Store e cultura de MLOps.')\n",
      "('P8_d_11 ', 'Criando e mantendo a infra que meus modelos e soluções rodam (clusters, servidores, API, containers, etc.)')\n",
      "('P8_d_12 ', 'Treinando e aplicando LLM's para solucionar problemas de negócio.')\n"
     ]
    }
   ],
   "source": [
    "for col in df_23.columns:\n",
    "   print(col)"
   ]
  },
  {
   "cell_type": "markdown",
   "metadata": {},
   "source": [
    "# Preparando dados: padronizar nomes das colunas, selecionar apenas as relevantes e juntar os 3 anos em um único df"
   ]
  },
  {
   "cell_type": "code",
   "execution_count": 6,
   "metadata": {},
   "outputs": [],
   "source": [
    "def load_data(dfs):\n",
    "    \"\"\"\n",
    "    Carrega e padroniza os datasets do State of Data e padroniza as colunas relacionadas a gênero.\n",
    "    \n",
    "    Args:\n",
    "        dfs: dicionário com ano como chave e DataFrame como valor\n",
    "        \n",
    "    Returns:\n",
    "        DataFrame unificado com os dados dos três anos\n",
    "    \"\"\"\n",
    "    datasets = dfs\n",
    "    \n",
    "    gender_columns = {\n",
    "        '2021': \"('P1_b ', 'Genero')\",\n",
    "        '2022': \"('P1_b ', 'Genero')\",\n",
    "        '2023': \"('P1_b ', 'Genero')\",\n",
    "        '2024': \"('1.b_genero')\"\n",
    "    }\n",
    "    \n",
    "    column_mapping = {\n",
    "        # Dados demográficos - Categoria P1\n",
    "        '2021': {\n",
    "            'idade': \"('P1_a ', 'Idade')\",\n",
    "            'faixa_idade': \"('P1_a_a ', 'Faixa idade')\",\n",
    "            'genero': \"('P1_b ', 'Genero')\",\n",
    "            'estado': \"('P1_e ', 'Estado onde mora')\",\n",
    "            'uf': \"('P1_e_a ', 'uf onde mora')\",\n",
    "            'regiao': \"('P1_e_b ', 'Regiao onde mora')\",\n",
    "            'regiao_origem': \"('P1_g_b ', 'Regiao de origem')\",\n",
    "            'mudou_estado': \"('P1_g_c ', 'Mudou de Estado?')\",\n",
    "            'nivel_ensino': \"('P1_h ', 'Nivel de Ensino')\",\n",
    "            'area_formacao': \"('P1_i ', 'Área de Formação')\"\n",
    "        },\n",
    "        '2022': {\n",
    "            'idade': \"('P1_a ', 'Idade')\",\n",
    "            'faixa_idade': \"('P1_a_1 ', 'Faixa idade')\",\n",
    "            'genero': \"('P1_b ', 'Genero')\",\n",
    "            'estado': \"('P1_i ', 'Estado onde mora')\",\n",
    "            'uf': \"('P1_i_1 ', 'uf onde mora')\",\n",
    "            'regiao': \"('P1_i_2 ', 'Regiao onde mora')\",\n",
    "            'regiao_origem': \"('P1_k ', 'Regiao de origem')\",\n",
    "            'mudou_estado': \"('P1_j ', 'Mudou de Estado?')\",\n",
    "            'nivel_ensino': \"('P1_l ', 'Nivel de Ensino')\",\n",
    "            'area_formacao': \"('P1_m ', 'Área de Formação')\"\n",
    "        },\n",
    "        '2023': {\n",
    "            'idade': \"('P1_a ', 'Idade')\",\n",
    "            'faixa_idade': \"('P1_a_1 ', 'Faixa idade')\",\n",
    "            'genero': \"('P1_b ', 'Genero')\",\n",
    "            'estado': \"('P1_i ', 'Estado onde mora')\",\n",
    "            'uf': \"('P1_i_1 ', 'uf onde mora')\",\n",
    "            'regiao': \"('P1_i_2 ', 'Regiao onde mora')\",\n",
    "            'regiao_origem': \"('P1_k ', 'Regiao de origem')\",\n",
    "            'mudou_estado': \"('P1_j ', 'Mudou de Estado?')\",\n",
    "            'nivel_ensino': \"('P1_l ', 'Nivel de Ensino')\",\n",
    "            'area_formacao': \"('P1_m ', 'Área de Formação')\"\n",
    "        },\n",
    "        '2024': {\n",
    "            'idade': '1.a_idade',\n",
    "            'faixa_idade': '1.a.1_faixa_idade',\n",
    "            'genero': '1.b_genero',\n",
    "            'estado': '1.i_estado_onde_mora',\n",
    "            'uf': '1.i.1_uf_onde_mora',\n",
    "            'regiao': '1.i.2_regiao_onde_mora',\n",
    "            'regiao_origem': '1.k.2_regiao_de_origem',\n",
    "            'mudou_estado': '1.j_vive_no_estado_de_formacao',\n",
    "            'nivel_ensino': '1.l_nivel_de_ensino',\n",
    "            'area_formacao': '1.m_área_de_formação'\n",
    "        }\n",
    "    }\n",
    "    \n",
    "    # Colunas para informações profissionais \n",
    "    professional_columns = {\n",
    "    '2021': {\n",
    "        'situacao': \"('P2_a ', 'Qual sua situação atual de trabalho?')\",\n",
    "        'setor': \"('P2_b ', 'Setor')\",\n",
    "        'cargo': \"('P2_f ', 'Cargo Atual')\",\n",
    "        'gestor':\"('P2_d ', 'Gestor?')\",\n",
    "        'nivel': \"('P2_g ', 'Nivel')\",\n",
    "        'faixa_salarial': \"('P2_h ', 'Faixa salarial')\",\n",
    "        'tempo_area_dados': \"('P2_i ', 'Quanto tempo de experiência na área de dados você tem?')\",\n",
    "        'tempo_area_ti': \"('P2_j ', 'Quanto tempo de experiência na área de TI/Engenharia de Software você teve antes de começar a trabalhar na área de dados?')\",\n",
    "        'modalidade': \"('P2_q ', 'Atualmente qual a sua forma de trabalho?')\"\n",
    "    },\n",
    "    '2022': {\n",
    "        'situacao': \"('P2_a ', 'Qual sua situação atual de trabalho?')\",\n",
    "        'setor': \"('P2_b ', 'Setor')\",\n",
    "        'cargo': \"('P2_f ', 'Cargo Atual')\",\n",
    "        'gestor':\"('P2_d ', 'Gestor?')\",\n",
    "        'nivel': \"('P2_g ', 'Nivel')\",\n",
    "        'faixa_salarial': \"('P2_h ', 'Faixa salarial')\",\n",
    "        'tempo_area_dados': \"('P2_i ', 'Quanto tempo de experiência na área de dados você tem?')\",\n",
    "        'tempo_area_ti': \"('P2_j ', 'Quanto tempo de experiência na área de TI/Engenharia de Software você teve antes de começar a trabalhar na área de dados?')\",\n",
    "        'modalidade': \"('P2_p ', 'Atualmente qual a sua forma de trabalho?')\"\n",
    "    },\n",
    "    '2023': {\n",
    "        'situacao': \"('P2_a ', 'Qual sua situação atual de trabalho?')\",\n",
    "        'setor': \"('P2_b ', 'Setor')\",\n",
    "        'cargo': \"('P2_f ', 'Cargo Atual')\",\n",
    "        'gestor':\"('P2_d ', 'Gestor?')\",\n",
    "        'nivel': \"('P2_g ', 'Nivel')\",\n",
    "        'faixa_salarial': \"('P2_h ', 'Faixa salarial')\",\n",
    "        'tempo_area_dados': \"('P2_i ', 'Quanto tempo de experiência na área de dados você tem?')\",\n",
    "        'tempo_area_ti': \"('P2_j ', 'Quanto tempo de experiência na área de TI/Engenharia de Software você teve antes de começar a trabalhar na área de dados?')\",\n",
    "        'modalidade': \"('P2_r ', 'Atualmente qual a sua forma de trabalho?')\"\n",
    "    },\n",
    "    '2024': {\n",
    "        'situacao': '2.a_situação_de_trabalho',\n",
    "        'setor': '2.b_setor',\n",
    "        'cargo': '2.f_cargo_atual',\n",
    "        'gestor':'2.d_atua_como_gestor',\n",
    "        'nivel': '2.g_nivel',\n",
    "        'faixa_salarial': '2.h_faixa_salarial',\n",
    "        'tempo_area_dados': '2.i_tempo_de_experiencia_em_dados',\n",
    "        'tempo_area_ti': '2.j_tempo_de_experiencia_em_ti',\n",
    "        'modalidade': '2.r_modelo_de_trabalho_atual'\n",
    "    }\n",
    "}\n",
    "    \n",
    "    \n",
    "    processed_data = []\n",
    "    \n",
    "    for year, df in datasets.items():\n",
    "        \n",
    "        df['ano_pesquisa'] = year\n",
    "        \n",
    "        # Criando um novo DataFrame apenas com colunas relevantes\n",
    "        year_data = pd.DataFrame()\n",
    "        year_data['ano_pesquisa'] = df['ano_pesquisa']\n",
    "        \n",
    "        # Colunas demográficas\n",
    "        for new_col, old_col in column_mapping[year].items():\n",
    "            year_data[new_col] = df[old_col]\n",
    "        \n",
    "        # Colunas profissionais\n",
    "        for new_col, old_col in professional_columns[year].items():\n",
    "            year_data[new_col] = df[old_col]\n",
    "        \n",
    "        processed_data.append(year_data)\n",
    " \n",
    "    combined_data = pd.concat(processed_data, ignore_index=True)\n",
    "    \n",
    "    return combined_data\n",
    "\n",
    "dfs = {\n",
    "    '2021': df_21,\n",
    "    '2022': df_22,\n",
    "    '2023': df_23,\n",
    "    '2024': df_24\n",
    "}\n",
    "\n",
    "df_unificado = load_data(dfs)\n"
   ]
  },
  {
   "cell_type": "code",
   "execution_count": 7,
   "metadata": {},
   "outputs": [
    {
     "data": {
      "text/html": [
       "<div>\n",
       "<style scoped>\n",
       "    .dataframe tbody tr th:only-of-type {\n",
       "        vertical-align: middle;\n",
       "    }\n",
       "\n",
       "    .dataframe tbody tr th {\n",
       "        vertical-align: top;\n",
       "    }\n",
       "\n",
       "    .dataframe thead th {\n",
       "        text-align: right;\n",
       "    }\n",
       "</style>\n",
       "<table border=\"1\" class=\"dataframe\">\n",
       "  <thead>\n",
       "    <tr style=\"text-align: right;\">\n",
       "      <th></th>\n",
       "      <th>ano_pesquisa</th>\n",
       "      <th>idade</th>\n",
       "      <th>faixa_idade</th>\n",
       "      <th>genero</th>\n",
       "      <th>estado</th>\n",
       "      <th>uf</th>\n",
       "      <th>regiao</th>\n",
       "      <th>regiao_origem</th>\n",
       "      <th>mudou_estado</th>\n",
       "      <th>nivel_ensino</th>\n",
       "      <th>area_formacao</th>\n",
       "      <th>situacao</th>\n",
       "      <th>setor</th>\n",
       "      <th>cargo</th>\n",
       "      <th>gestor</th>\n",
       "      <th>nivel</th>\n",
       "      <th>faixa_salarial</th>\n",
       "      <th>tempo_area_dados</th>\n",
       "      <th>tempo_area_ti</th>\n",
       "      <th>modalidade</th>\n",
       "    </tr>\n",
       "  </thead>\n",
       "  <tbody>\n",
       "    <tr>\n",
       "      <th>0</th>\n",
       "      <td>2021</td>\n",
       "      <td>38.0</td>\n",
       "      <td>35-39</td>\n",
       "      <td>Masculino</td>\n",
       "      <td>Ceará (CE)</td>\n",
       "      <td>CE</td>\n",
       "      <td>Nordeste</td>\n",
       "      <td>NaN</td>\n",
       "      <td>0</td>\n",
       "      <td>Pós-graduação</td>\n",
       "      <td>Química / Física</td>\n",
       "      <td>Empregado (CLT)</td>\n",
       "      <td>Marketing</td>\n",
       "      <td>NaN</td>\n",
       "      <td>1.0</td>\n",
       "      <td>NaN</td>\n",
       "      <td>de R$ 4.001/mês a R$ 6.000/mês</td>\n",
       "      <td>Mais de 10 anos</td>\n",
       "      <td>Não tive experiência na área de TI/Engenharia ...</td>\n",
       "      <td>Modelo 100% presencial</td>\n",
       "    </tr>\n",
       "    <tr>\n",
       "      <th>1</th>\n",
       "      <td>2021</td>\n",
       "      <td>39.0</td>\n",
       "      <td>35-39</td>\n",
       "      <td>Masculino</td>\n",
       "      <td>Bahia (BA)</td>\n",
       "      <td>BA</td>\n",
       "      <td>Nordeste</td>\n",
       "      <td>Sudeste</td>\n",
       "      <td>1</td>\n",
       "      <td>Pós-graduação</td>\n",
       "      <td>Economia/ Administração / Contabilidade / Fina...</td>\n",
       "      <td>Empreendedor ou Empregado (CNPJ)</td>\n",
       "      <td>Consultoria</td>\n",
       "      <td>NaN</td>\n",
       "      <td>1.0</td>\n",
       "      <td>NaN</td>\n",
       "      <td>de R$ 6.001/mês a R$ 8.000/mês</td>\n",
       "      <td>de 2 a 3 anos</td>\n",
       "      <td>Não tive experiência na área de TI/Engenharia ...</td>\n",
       "      <td>Modelo híbrido flexível (o funcionário tem lib...</td>\n",
       "    </tr>\n",
       "    <tr>\n",
       "      <th>2</th>\n",
       "      <td>2021</td>\n",
       "      <td>30.0</td>\n",
       "      <td>30-34</td>\n",
       "      <td>Masculino</td>\n",
       "      <td>Santa Catarina (SC)</td>\n",
       "      <td>SC</td>\n",
       "      <td>Sul</td>\n",
       "      <td>NaN</td>\n",
       "      <td>0</td>\n",
       "      <td>Pós-graduação</td>\n",
       "      <td>Computação / Engenharia de Software / Sistemas...</td>\n",
       "      <td>Empregado (CLT)</td>\n",
       "      <td>Indústria</td>\n",
       "      <td>NaN</td>\n",
       "      <td>1.0</td>\n",
       "      <td>NaN</td>\n",
       "      <td>de R$ 8.001/mês a R$ 12.000/mês</td>\n",
       "      <td>de 1 a 2 anos</td>\n",
       "      <td>de 2 a 3 anos</td>\n",
       "      <td>Modelo 100% presencial</td>\n",
       "    </tr>\n",
       "    <tr>\n",
       "      <th>3</th>\n",
       "      <td>2021</td>\n",
       "      <td>38.0</td>\n",
       "      <td>35-39</td>\n",
       "      <td>Feminino</td>\n",
       "      <td>São Paulo (SP)</td>\n",
       "      <td>SP</td>\n",
       "      <td>Sudeste</td>\n",
       "      <td>NaN</td>\n",
       "      <td>0</td>\n",
       "      <td>Pós-graduação</td>\n",
       "      <td>Outras</td>\n",
       "      <td>Empreendedor ou Empregado (CNPJ)</td>\n",
       "      <td>Serviços</td>\n",
       "      <td>NaN</td>\n",
       "      <td>1.0</td>\n",
       "      <td>NaN</td>\n",
       "      <td>de R$ 12.001/mês a R$ 16.000/mês</td>\n",
       "      <td>Mais de 10 anos</td>\n",
       "      <td>Menos de 1 ano</td>\n",
       "      <td>Modelo 100% presencial</td>\n",
       "    </tr>\n",
       "    <tr>\n",
       "      <th>4</th>\n",
       "      <td>2021</td>\n",
       "      <td>36.0</td>\n",
       "      <td>35-39</td>\n",
       "      <td>Masculino</td>\n",
       "      <td>Santa Catarina (SC)</td>\n",
       "      <td>SC</td>\n",
       "      <td>Sul</td>\n",
       "      <td>NaN</td>\n",
       "      <td>0</td>\n",
       "      <td>Pós-graduação</td>\n",
       "      <td>Outras Engenharias</td>\n",
       "      <td>Empreendedor ou Empregado (CNPJ)</td>\n",
       "      <td>Varejo</td>\n",
       "      <td>NaN</td>\n",
       "      <td>1.0</td>\n",
       "      <td>NaN</td>\n",
       "      <td>de R$ 8.001/mês a R$ 12.000/mês</td>\n",
       "      <td>de 1 a 2 anos</td>\n",
       "      <td>de 4 a 5 anos</td>\n",
       "      <td>Modelo 100% presencial</td>\n",
       "    </tr>\n",
       "  </tbody>\n",
       "</table>\n",
       "</div>"
      ],
      "text/plain": [
       "  ano_pesquisa  idade faixa_idade     genero               estado  uf  \\\n",
       "0         2021   38.0       35-39  Masculino           Ceará (CE)  CE   \n",
       "1         2021   39.0       35-39  Masculino           Bahia (BA)  BA   \n",
       "2         2021   30.0       30-34  Masculino  Santa Catarina (SC)  SC   \n",
       "3         2021   38.0       35-39   Feminino       São Paulo (SP)  SP   \n",
       "4         2021   36.0       35-39  Masculino  Santa Catarina (SC)  SC   \n",
       "\n",
       "     regiao regiao_origem mudou_estado   nivel_ensino  \\\n",
       "0  Nordeste           NaN            0  Pós-graduação   \n",
       "1  Nordeste       Sudeste            1  Pós-graduação   \n",
       "2       Sul           NaN            0  Pós-graduação   \n",
       "3   Sudeste           NaN            0  Pós-graduação   \n",
       "4       Sul           NaN            0  Pós-graduação   \n",
       "\n",
       "                                       area_formacao  \\\n",
       "0                                   Química / Física   \n",
       "1  Economia/ Administração / Contabilidade / Fina...   \n",
       "2  Computação / Engenharia de Software / Sistemas...   \n",
       "3                                             Outras   \n",
       "4                                 Outras Engenharias   \n",
       "\n",
       "                           situacao        setor cargo gestor nivel  \\\n",
       "0                   Empregado (CLT)    Marketing   NaN    1.0   NaN   \n",
       "1  Empreendedor ou Empregado (CNPJ)  Consultoria   NaN    1.0   NaN   \n",
       "2                   Empregado (CLT)    Indústria   NaN    1.0   NaN   \n",
       "3  Empreendedor ou Empregado (CNPJ)     Serviços   NaN    1.0   NaN   \n",
       "4  Empreendedor ou Empregado (CNPJ)       Varejo   NaN    1.0   NaN   \n",
       "\n",
       "                     faixa_salarial tempo_area_dados  \\\n",
       "0    de R$ 4.001/mês a R$ 6.000/mês  Mais de 10 anos   \n",
       "1    de R$ 6.001/mês a R$ 8.000/mês    de 2 a 3 anos   \n",
       "2   de R$ 8.001/mês a R$ 12.000/mês    de 1 a 2 anos   \n",
       "3  de R$ 12.001/mês a R$ 16.000/mês  Mais de 10 anos   \n",
       "4   de R$ 8.001/mês a R$ 12.000/mês    de 1 a 2 anos   \n",
       "\n",
       "                                       tempo_area_ti  \\\n",
       "0  Não tive experiência na área de TI/Engenharia ...   \n",
       "1  Não tive experiência na área de TI/Engenharia ...   \n",
       "2                                      de 2 a 3 anos   \n",
       "3                                     Menos de 1 ano   \n",
       "4                                      de 4 a 5 anos   \n",
       "\n",
       "                                          modalidade  \n",
       "0                             Modelo 100% presencial  \n",
       "1  Modelo híbrido flexível (o funcionário tem lib...  \n",
       "2                             Modelo 100% presencial  \n",
       "3                             Modelo 100% presencial  \n",
       "4                             Modelo 100% presencial  "
      ]
     },
     "execution_count": 7,
     "metadata": {},
     "output_type": "execute_result"
    }
   ],
   "source": [
    "df_unificado.head()"
   ]
  },
  {
   "cell_type": "code",
   "execution_count": 8,
   "metadata": {},
   "outputs": [
    {
     "data": {
      "text/plain": [
       "ano_pesquisa\n",
       "2023    5293\n",
       "2024    5217\n",
       "2022    4271\n",
       "2021    2645\n",
       "Name: count, dtype: int64"
      ]
     },
     "execution_count": 8,
     "metadata": {},
     "output_type": "execute_result"
    }
   ],
   "source": [
    "df_unificado[\"ano_pesquisa\"].value_counts()"
   ]
  },
  {
   "cell_type": "code",
   "execution_count": 9,
   "metadata": {},
   "outputs": [],
   "source": [
    "df_rj = df_unificado[df_unificado['uf'] == 'RJ']"
   ]
  },
  {
   "cell_type": "code",
   "execution_count": 10,
   "metadata": {},
   "outputs": [],
   "source": [
    "df_rj.to_excel(\"df_rj.xlsx\", index=False)"
   ]
  },
  {
   "cell_type": "code",
   "execution_count": 11,
   "metadata": {},
   "outputs": [
    {
     "data": {
      "text/plain": [
       "tempo_area_dados\n",
       "de 1 a 2 anos                             271\n",
       "de 3 a 4 anos                             241\n",
       "Mais de 10 anos                           157\n",
       "Menos de 1 ano                            151\n",
       "de 5 a 6 anos                             101\n",
       "de 7 a 10 anos                             78\n",
       "de 4 a 6 anos                              72\n",
       "Não tenho experiência na área de dados     66\n",
       "de 2 a 3 anos                              38\n",
       "de 4 a 5 anos                              31\n",
       "de 6 a 10 anos                             25\n",
       "Name: count, dtype: int64"
      ]
     },
     "execution_count": 11,
     "metadata": {},
     "output_type": "execute_result"
    }
   ],
   "source": [
    "df_rj[\"tempo_area_dados\"].value_counts()"
   ]
  },
  {
   "cell_type": "code",
   "execution_count": 12,
   "metadata": {},
   "outputs": [
    {
     "data": {
      "text/plain": [
       "ano_pesquisa\n",
       "2021    222\n",
       "2022    338\n",
       "2023    437\n",
       "2024    397\n",
       "Name: count, dtype: int64"
      ]
     },
     "execution_count": 12,
     "metadata": {},
     "output_type": "execute_result"
    }
   ],
   "source": [
    "df_rj[\"ano_pesquisa\"].value_counts().sort_index()"
   ]
  },
  {
   "cell_type": "code",
   "execution_count": 13,
   "metadata": {},
   "outputs": [],
   "source": [
    "# ajustando coluna genero\n",
    "\n",
    "df_rj = df_rj[df_rj['genero'].isin(['Masculino', 'Feminino'])]\n"
   ]
  },
  {
   "cell_type": "code",
   "execution_count": 14,
   "metadata": {},
   "outputs": [
    {
     "data": {
      "text/plain": [
       "ano_pesquisa  genero   \n",
       "2021          Masculino    178\n",
       "              Feminino      44\n",
       "2022          Masculino    260\n",
       "              Feminino      77\n",
       "2023          Masculino    327\n",
       "              Feminino     109\n",
       "2024          Masculino    293\n",
       "              Feminino     101\n",
       "Name: count, dtype: int64"
      ]
     },
     "execution_count": 14,
     "metadata": {},
     "output_type": "execute_result"
    }
   ],
   "source": [
    "df_rj.groupby(\"ano_pesquisa\")[\"genero\"].value_counts()"
   ]
  },
  {
   "cell_type": "code",
   "execution_count": 15,
   "metadata": {},
   "outputs": [],
   "source": [
    "# ajustando nivel ensino \n",
    "\n",
    "df_rj.loc[df_rj[\"nivel_ensino\"] == 'Prefiro não informar', \"nivel_ensino\"] = np.nan\n",
    "\n",
    "df_rj.loc[df_rj[\"nivel_ensino\"] == 'Pós-graduação', \"nivel_ensino\"] = 'Especialização Lato Sensu'\n",
    "\n",
    "ordem_nivel_ensino = ['Não tenho graduação formal', 'Estudante de Graduação', \n",
    "                      'Graduação/Bacharelado', 'Especialização Lato Sensu', \n",
    "                      'Mestrado', 'Doutorado ou Phd']\n",
    "\n",
    "df_rj['nivel_ensino'] = pd.Categorical(df_rj['nivel_ensino'], categories=ordem_nivel_ensino, ordered=True)"
   ]
  },
  {
   "cell_type": "code",
   "execution_count": 16,
   "metadata": {},
   "outputs": [
    {
     "data": {
      "text/plain": [
       "ano_pesquisa  nivel_ensino              \n",
       "2021          Especialização Lato Sensu      63\n",
       "              Graduação/Bacharelado          62\n",
       "              Mestrado                       40\n",
       "              Estudante de Graduação         36\n",
       "              Doutorado ou Phd               12\n",
       "              Não tenho graduação formal      8\n",
       "2022          Graduação/Bacharelado         108\n",
       "              Especialização Lato Sensu     104\n",
       "              Estudante de Graduação         56\n",
       "              Mestrado                       50\n",
       "              Doutorado ou Phd               11\n",
       "              Não tenho graduação formal      7\n",
       "2023          Graduação/Bacharelado         138\n",
       "              Especialização Lato Sensu     136\n",
       "              Mestrado                       72\n",
       "              Estudante de Graduação         67\n",
       "              Doutorado ou Phd               16\n",
       "              Não tenho graduação formal      6\n",
       "2024          Graduação/Bacharelado         142\n",
       "              Especialização Lato Sensu     127\n",
       "              Mestrado                       56\n",
       "              Estudante de Graduação         47\n",
       "              Doutorado ou Phd               17\n",
       "              Não tenho graduação formal      5\n",
       "Name: count, dtype: int64"
      ]
     },
     "execution_count": 16,
     "metadata": {},
     "output_type": "execute_result"
    }
   ],
   "source": [
    "df_rj.groupby(\"ano_pesquisa\")[\"nivel_ensino\"].value_counts()"
   ]
  },
  {
   "cell_type": "code",
   "execution_count": 17,
   "metadata": {},
   "outputs": [],
   "source": [
    "# ajustando faixa salarial\n",
    "\n",
    "df_rj[\"faixa_salarial\"] = df_rj[\"faixa_salarial\"].str.replace(r\"\\s+\", \" \", regex=True).str.strip()\n",
    "\n",
    "df_rj[\"faixa_salarial\"] = df_rj[\"faixa_salarial\"].replace({\n",
    "    'de R$ 1.001/mês a R$ 2.000/mês': \"R$1k-2k\",\n",
    "    'de R$ 2.001/mês a R$ 3.000/mês': \"R$2k-3k\",\n",
    "    'de R$ 2.001/mês a R$ 3000/mês': \"R$2k-3k\",\n",
    "    'de R$ 3.001/mês a R$ 4.000/mês': \"R$3k-4k\", \n",
    "    'de R$ 4.001/mês a R$ 6.000/mês': \"R$4k-6k\",\n",
    "    'de R$ 6.001/mês a R$ 8.000/mês': \"R$6k-8k\",\n",
    "    'de R$ 8.001/mês a R$ 12.000/mês': \"R$8k-12k\",\n",
    "    'de R$ 12.001/mês a R$ 16.000/mês': \"R$12k-16k\",\n",
    "    'de R$ 16.001/mês a R$ 20.000/mês': \"R$16k-20k\",\n",
    "    'de R$ 20.001/mês a R$ 25.000/mês': \"R$20k-25k\",\n",
    "    'de R$ 25.001/mês a R$ 30.000/mês': \"R$25k-30k\",\n",
    "    'de R$ 30.001/mês a R$ 40.000/mês': \"R$30k-40k\",\n",
    "    'Acima de R$ 40.001/mês': \"R$40k\"\n",
    "})\n",
    "\n",
    "faixas_salariais_ordem = [ \n",
    "    'R$1k-2k',\n",
    "    'R$2k-3k',\n",
    "    'R$3k-4k', \n",
    "    'R$4k-6k',\n",
    "    'R$6k-8k',\n",
    "    'R$8k-12k',\n",
    "    'R$12k-16k',\n",
    "    'R$16k-20k',\n",
    "    'R$20k-25k',\n",
    "    'R$25k-30k',\n",
    "    'R$30k-40k',\n",
    "    'R$40k'\n",
    "]\n",
    "\n",
    "df_rj['faixa_salarial'] = pd.Categorical(df_rj['faixa_salarial'], categories=faixas_salariais_ordem, ordered=True)\n"
   ]
  },
  {
   "cell_type": "code",
   "execution_count": 18,
   "metadata": {},
   "outputs": [
    {
     "data": {
      "text/plain": [
       "ano_pesquisa  faixa_salarial\n",
       "2021          R$8k-12k          46\n",
       "              R$4k-6k           36\n",
       "              R$6k-8k           28\n",
       "              R$2k-3k           18\n",
       "              R$12k-16k         18\n",
       "              R$3k-4k           12\n",
       "              R$1k-2k           10\n",
       "              R$16k-20k         10\n",
       "              R$20k-25k          4\n",
       "              R$25k-30k          2\n",
       "              R$30k-40k          1\n",
       "              R$40k              1\n",
       "2022          R$8k-12k          63\n",
       "              R$12k-16k         44\n",
       "              R$4k-6k           41\n",
       "              R$3k-4k           33\n",
       "              R$6k-8k           29\n",
       "              R$2k-3k           23\n",
       "              R$1k-2k           19\n",
       "              R$16k-20k         14\n",
       "              R$25k-30k          7\n",
       "              R$20k-25k          5\n",
       "              R$30k-40k          3\n",
       "              R$40k              0\n",
       "2023          R$8k-12k          95\n",
       "              R$4k-6k           58\n",
       "              R$6k-8k           48\n",
       "              R$12k-16k         44\n",
       "              R$3k-4k           31\n",
       "              R$2k-3k           29\n",
       "              R$1k-2k           27\n",
       "              R$16k-20k         24\n",
       "              R$20k-25k         17\n",
       "              R$25k-30k         10\n",
       "              R$30k-40k          8\n",
       "              R$40k              1\n",
       "2024          R$8k-12k          79\n",
       "              R$12k-16k         49\n",
       "              R$4k-6k           45\n",
       "              R$6k-8k           40\n",
       "              R$16k-20k         38\n",
       "              R$3k-4k           23\n",
       "              R$2k-3k           18\n",
       "              R$20k-25k         18\n",
       "              R$1k-2k           15\n",
       "              R$25k-30k         12\n",
       "              R$30k-40k         11\n",
       "              R$40k              5\n",
       "Name: count, dtype: int64"
      ]
     },
     "execution_count": 18,
     "metadata": {},
     "output_type": "execute_result"
    }
   ],
   "source": [
    "df_rj.groupby(\"ano_pesquisa\")[\"faixa_salarial\"].value_counts()"
   ]
  },
  {
   "cell_type": "code",
   "execution_count": 19,
   "metadata": {},
   "outputs": [],
   "source": [
    "# ajustando cargos\n",
    "\n",
    "mapeamento = {\n",
    "    # Analista de Dados\n",
    "    'Analista de Dados/Data Analyst': 'Analista de Dados',\n",
    "    'Analista de BI/BI Analyst': 'Analista de Dados',\n",
    "    'Analista de BI/BI Analyst/Analytics Engineer': 'Analista de Dados',\n",
    "    'Analista de Negócios/Business Analyst': 'Analista de Dados',\n",
    "    'Analista de Inteligência de Mercado/Market Intelligence': 'Analista de Dados',\n",
    "    'Analista de Marketing': 'Analista de Dados',\n",
    "    'Analista Administrativo': 'Analista de Dados',\n",
    "    'Estatístico': 'Analista de Dados',\n",
    "    'Economista': 'Analista de Dados',\n",
    "    \n",
    "    # Engenheiro de Dados\n",
    "    'Engenheiro de Dados/Arquiteto de Dados/Data Engineer/Data Architect': 'Engenheiro de Dados',\n",
    "    'Engenheiro de Dados/Data Engineer': 'Engenheiro de Dados',\n",
    "    'Analytics Engineer': 'Engenheiro de Dados',\n",
    "    'Arquiteto de Dados': 'Engenheiro de Dados',\n",
    "    'Arquiteto de dados': 'Engenheiro de Dados',\n",
    "    'DBA/Administrador de Banco de Dados': 'Engenheiro de Dados',\n",
    "    \n",
    "    # Cientista de Dados\n",
    "    'Cientista de Dados/Data Scientist': 'Cientista de Dados',\n",
    "    'Engenheiro de Machine Learning/ML Engineer': 'Cientista de Dados',\n",
    "    'Engenheiro de Machine Learning/ML Engineer/AI Engineer': 'Cientista de Dados',\n",
    "    \n",
    "    # Professor/Pesquisador\n",
    "    'Professor': 'Professor/Pesquisador',\n",
    "    'Professor/Pesquisador': 'Professor/Pesquisador',\n",
    "    \n",
    "    # Product Manager\n",
    "    'Data Product Manager/ Product Manager (PM/APM/DPM/GPM/PO)': 'Product Manager',\n",
    "    'Product Manager/ Product Owner (PM/APM/DPM/GPM/PO)': 'Product Manager',\n",
    "    'Product Manager': 'Product Manager',\n",
    "    \n",
    "    # Desenvolvedor\n",
    "    'Desenvolvedor/ Engenheiro de Software/ Analista de Sistemas': 'Desenvolvedor',\n",
    "    'Desenvolvedor ou Engenheiro de Software': 'Desenvolvedor',\n",
    "    'Analista de Sistemas/Analista de TI': 'Desenvolvedor',\n",
    "    'Analista de Suporte/Analista Técnico': 'Desenvolvedor',\n",
    "    'Suporte Técnico': 'Desenvolvedor',\n",
    "    'Técnico': 'Desenvolvedor',\n",
    "    \n",
    "    # Categorias que não se encaixam exatamente\n",
    "    'Outra Opção': 'Outro',\n",
    "    'Outro': 'Outro',\n",
    "    'Outras Engenharias (não inclui dev)': 'Outro'\n",
    "}\n",
    "\n",
    "df_rj['cargo'] = df_rj['cargo'].map(mapeamento).fillna(df_rj['cargo'])"
   ]
  },
  {
   "cell_type": "code",
   "execution_count": 20,
   "metadata": {},
   "outputs": [
    {
     "data": {
      "text/plain": [
       "ano_pesquisa  cargo                                           \n",
       "2021          Analista de Dados                                    84\n",
       "              Cientista de Dados                                   34\n",
       "              Engenheiro de Dados                                  17\n",
       "              Desenvolvedor                                         9\n",
       "              Outro                                                 9\n",
       "2022          Analista de Dados                                    93\n",
       "              Cientista de Dados                                   53\n",
       "              Engenheiro de Dados                                  43\n",
       "              Outro                                                28\n",
       "              Desenvolvedor                                        13\n",
       "              Professor/Pesquisador                                 1\n",
       "2023          Analista de Dados                                   151\n",
       "              Engenheiro de Dados                                  69\n",
       "              Cientista de Dados                                   63\n",
       "              Outro                                                33\n",
       "              Desenvolvedor                                        10\n",
       "              Product Manager                                       4\n",
       "              Professor/Pesquisador                                 2\n",
       "2024          Analista de Dados                                    99\n",
       "              Cientista de Dados                                   69\n",
       "              Engenheiro de Dados/Data Engineer/Data Architect     46\n",
       "              Outro                                                25\n",
       "              Desenvolvedor                                        19\n",
       "              Engenheiro de Dados                                  16\n",
       "              Product Manager                                       8\n",
       "              Arquiteto de Dados/Data Architect                     3\n",
       "              Professor/Pesquisador                                 2\n",
       "Name: count, dtype: int64"
      ]
     },
     "execution_count": 20,
     "metadata": {},
     "output_type": "execute_result"
    }
   ],
   "source": [
    "df_rj.groupby(\"ano_pesquisa\")[\"cargo\"].value_counts()"
   ]
  },
  {
   "cell_type": "code",
   "execution_count": 21,
   "metadata": {},
   "outputs": [],
   "source": [
    "# ajustando nivel senioridade\n",
    "\n",
    "df_rj[\"nivel\"] = df_rj[\"nivel\"].astype('category')\n",
    "\n",
    "if 'Gestor' not in df_rj[\"nivel\"].cat.categories:\n",
    "    df_rj[\"nivel\"] = df_rj[\"nivel\"].cat.add_categories(['Gestor'])\n",
    "\n",
    "\n",
    "df_rj.loc[df_rj[\"gestor\"] == 1.0, \"nivel\"] = \"Gestor\"\n",
    "\n",
    "df_rj[\"nivel\"] = df_rj[\"nivel\"].cat.reorder_categories(['Júnior', 'Pleno', 'Sênior', 'Gestor'])\n"
   ]
  },
  {
   "cell_type": "code",
   "execution_count": 22,
   "metadata": {},
   "outputs": [
    {
     "data": {
      "text/plain": [
       "ano_pesquisa  regiao_origem                 \n",
       "2021          Sudeste                           21\n",
       "              Nordeste                           9\n",
       "              Sul                                5\n",
       "              Centro-oeste                       2\n",
       "2022          Sudeste                           26\n",
       "              Nordeste                           9\n",
       "              Sul                                7\n",
       "              Centro-oeste                       1\n",
       "              Norte                              1\n",
       "2023          São Paulo (SP)                    17\n",
       "              Minas Gerais (MG)                 13\n",
       "              Bahia (BA)                         5\n",
       "              Santa Catarina (SC)                3\n",
       "              Ceará (CE)                         2\n",
       "              Distrito Federal (DF)              2\n",
       "              Espírito Santo (ES)                2\n",
       "              Maranhão (MA)                      2\n",
       "              Mato Grosso (MT)                   2\n",
       "              Nasci/me formei fora do Brasil     2\n",
       "              Pará (PA)                          2\n",
       "              Rio Grande do Sul (RS)             2\n",
       "              Rio de Janeiro (RJ)                2\n",
       "              Sergipe (SE)                       2\n",
       "              Amazonas (AM)                      1\n",
       "              Mato Grosso do Sul (MS)            1\n",
       "              Paraná (PR)                        1\n",
       "              Paraíba (PB)                       1\n",
       "              Piauí (PI)                         1\n",
       "              Rondônia (RO)                      1\n",
       "2024          Sudeste                           21\n",
       "              Nordeste                          10\n",
       "              Sul                                6\n",
       "              Centro-oeste                       3\n",
       "              Norte                              3\n",
       "Name: count, dtype: int64"
      ]
     },
     "execution_count": 22,
     "metadata": {},
     "output_type": "execute_result"
    }
   ],
   "source": [
    "df_rj.groupby(\"ano_pesquisa\")[\"regiao_origem\"].value_counts()"
   ]
  },
  {
   "cell_type": "code",
   "execution_count": 23,
   "metadata": {},
   "outputs": [],
   "source": [
    "mapeamento_areas = {\n",
    "    # TI / Computação\n",
    "    \"Computação / Engenharia de Software / Sistemas de Informação/ TI\": \"Computação / Engenharia de Software / TI\",\n",
    "\n",
    "    # Engenharia\n",
    "    \"Outras Engenharias\": \"Engenharia (outras)\",\n",
    "    \"Outras Engenharias (não incluir engenharia de software ou TI)\": \"Engenharia (outras)\",\n",
    "\n",
    "    # Economia / Administração / Finanças\n",
    "    \"Economia/ Administração / Contabilidade / Finanças/ Negócios\": \"Economia / Administração / Finanças / Negócios\",\n",
    "    \"Economia/ Administração / Contabilidade / Finanças\": \"Economia / Administração / Finanças / Negócios\",\n",
    "\n",
    "    # Estatística / Matemática\n",
    "    \"Estatística/ Matemática / Matemática Computacional/ Ciências Atuariais\": \"Estatística / Matemática / Ciências Atuariais\",\n",
    "    \"Estatística/ Matemática / Matemática Computacional\": \"Estatística / Matemática / Ciências Atuariais\",\n",
    "\n",
    "    # Química / Física\n",
    "    \"Química / Física\": \"Química / Física\",\n",
    "\n",
    "    # Saúde\n",
    "    \"Ciências Biológicas/ Farmácia/ Medicina/ Área da Saúde\": \"Ciências Biológicas / Medicina / Saúde\",\n",
    "    \"Ciências Biológicas/Farmácia/Medicina/Área da Saúde\": \"Ciências Biológicas / Medicina / Saúde\",\n",
    "\n",
    "    # Marketing / Comunicação\n",
    "    \"Marketing / Publicidade / Comunicação / Jornalismo\": \"Marketing / Comunicação / Jornalismo\",\n",
    "    \"Marketing / Publicidade / Comunicação / Jornalismo / Ciências Sociais\": \"Marketing / Comunicação / Jornalismo\",\n",
    "\n",
    "    # Ciências Sociais\n",
    "    \"Ciências Sociais\": \"Ciências Sociais\",\n",
    "\n",
    "    # Outras\n",
    "    \"Outra opção\": \"Outras\",\n",
    "    \"Outras\": \"Outras\",\n",
    "}\n",
    "\n",
    "df_rj[\"area_formacao\"] = df_rj[\"area_formacao\"].replace(mapeamento_areas)"
   ]
  },
  {
   "cell_type": "code",
   "execution_count": 24,
   "metadata": {},
   "outputs": [
    {
     "data": {
      "text/plain": [
       "situacao\n",
       "Empregado (CLT)                                                         939\n",
       "Empreendedor ou Empregado (CNPJ)                                        120\n",
       "Desempregado, buscando recolocação                                       98\n",
       "Estagiário                                                               79\n",
       "Servidor Público                                                         39\n",
       "Vivo no Brasil e trabalho remoto para empresa de fora do Brasil          29\n",
       "Somente Estudante (graduação)                                            28\n",
       "Trabalho na área Acadêmica/Pesquisador                                   21\n",
       "Freelancer                                                               15\n",
       "Somente Estudante (pós-graduação)                                         9\n",
       "Desempregado e não estou buscando recolocação                             7\n",
       "Prefiro não informar                                                      4\n",
       "Vivo no Brasil e trabalho remoto para empresa de fora do Brasil (PJ)      1\n",
       "Name: count, dtype: int64"
      ]
     },
     "execution_count": 24,
     "metadata": {},
     "output_type": "execute_result"
    }
   ],
   "source": [
    "df_rj[\"situacao\"].value_counts()"
   ]
  },
  {
   "cell_type": "code",
   "execution_count": 25,
   "metadata": {},
   "outputs": [],
   "source": [
    "mapeamento_situacao = {\n",
    "    # Trabalho formal\n",
    "    \"Empregado (CLT)\": \"Empregado (CLT)\",\n",
    "    \"Empreendedor ou Empregado (CNPJ)\": \"Empreendedor ou Empregado (CNPJ)\",\n",
    "    \"Servidor Público\": \"Servidor Público\",\n",
    "    \"Trabalho na área Acadêmica/Pesquisador\": \"Trabalho na área Acadêmica/Pesquisador\",\n",
    "    \"Freelancer\": \"Freelancer\",\n",
    "    \"Estagiário\": \"Estagiário\",\n",
    "\n",
    "    # Trabalho remoto internacional\n",
    "    \"Vivo no Brasil e trabalho remoto para empresa de fora do Brasil\": \"Vivo no Brasil e trabalho remoto para fora do país\",\n",
    "    \"Vivo no Brasil e trabalho remoto para empresa de fora do Brasil (PJ)\": \"Vivo no Brasil e trabalho remoto para fora do país\",\n",
    "\n",
    "    # Situação de desemprego\n",
    "    \"Desempregado, buscando recolocação\": \"Desempregado\",\n",
    "    \"Desempregado e não estou buscando recolocação\": \"Desempregado\",\n",
    "\n",
    "    # Estudantes\n",
    "    \"Somente Estudante (graduação)\": \"Somente Estudante\",\n",
    "    \"Somente Estudante (pós-graduação)\": \"Somente Estudante\",\n",
    "\n",
    "    # Remover\n",
    "    \"Prefiro não informar\": None\n",
    "}\n",
    "\n",
    "# Aplicar o mapeamento\n",
    "df_rj[\"situacao\"] = df_rj[\"situacao\"].replace(mapeamento_situacao)\n",
    "\n",
    "# Dropar valores nulos (ex: \"Prefiro não informar\")\n",
    "df_rj = df_rj[df_rj[\"situacao\"].notna()]\n"
   ]
  },
  {
   "cell_type": "code",
   "execution_count": 26,
   "metadata": {},
   "outputs": [
    {
     "data": {
      "text/html": [
       "<div>\n",
       "<style scoped>\n",
       "    .dataframe tbody tr th:only-of-type {\n",
       "        vertical-align: middle;\n",
       "    }\n",
       "\n",
       "    .dataframe tbody tr th {\n",
       "        vertical-align: top;\n",
       "    }\n",
       "\n",
       "    .dataframe thead th {\n",
       "        text-align: right;\n",
       "    }\n",
       "</style>\n",
       "<table border=\"1\" class=\"dataframe\">\n",
       "  <thead>\n",
       "    <tr style=\"text-align: right;\">\n",
       "      <th></th>\n",
       "      <th>ano_pesquisa</th>\n",
       "      <th>idade</th>\n",
       "      <th>faixa_idade</th>\n",
       "      <th>genero</th>\n",
       "      <th>estado</th>\n",
       "      <th>uf</th>\n",
       "      <th>regiao</th>\n",
       "      <th>regiao_origem</th>\n",
       "      <th>mudou_estado</th>\n",
       "      <th>nivel_ensino</th>\n",
       "      <th>area_formacao</th>\n",
       "      <th>situacao</th>\n",
       "      <th>setor</th>\n",
       "      <th>cargo</th>\n",
       "      <th>gestor</th>\n",
       "      <th>nivel</th>\n",
       "      <th>faixa_salarial</th>\n",
       "      <th>tempo_area_dados</th>\n",
       "      <th>tempo_area_ti</th>\n",
       "      <th>modalidade</th>\n",
       "    </tr>\n",
       "  </thead>\n",
       "  <tbody>\n",
       "    <tr>\n",
       "      <th>53</th>\n",
       "      <td>2021</td>\n",
       "      <td>39.0</td>\n",
       "      <td>35-39</td>\n",
       "      <td>Masculino</td>\n",
       "      <td>Rio de Janeiro (RJ)</td>\n",
       "      <td>RJ</td>\n",
       "      <td>Sudeste</td>\n",
       "      <td>NaN</td>\n",
       "      <td>0</td>\n",
       "      <td>Não tenho graduação formal</td>\n",
       "      <td>NaN</td>\n",
       "      <td>Empregado (CLT)</td>\n",
       "      <td>Varejo</td>\n",
       "      <td>NaN</td>\n",
       "      <td>1.0</td>\n",
       "      <td>Gestor</td>\n",
       "      <td>R$8k-12k</td>\n",
       "      <td>de 6 a 10 anos</td>\n",
       "      <td>Não tive experiência na área de TI/Engenharia ...</td>\n",
       "      <td>Modelo 100% remoto</td>\n",
       "    </tr>\n",
       "    <tr>\n",
       "      <th>54</th>\n",
       "      <td>2021</td>\n",
       "      <td>33.0</td>\n",
       "      <td>30-34</td>\n",
       "      <td>Masculino</td>\n",
       "      <td>Rio de Janeiro (RJ)</td>\n",
       "      <td>RJ</td>\n",
       "      <td>Sudeste</td>\n",
       "      <td>NaN</td>\n",
       "      <td>0</td>\n",
       "      <td>Especialização Lato Sensu</td>\n",
       "      <td>Computação / Engenharia de Software / TI</td>\n",
       "      <td>Empregado (CLT)</td>\n",
       "      <td>Varejo</td>\n",
       "      <td>NaN</td>\n",
       "      <td>1.0</td>\n",
       "      <td>Gestor</td>\n",
       "      <td>R$8k-12k</td>\n",
       "      <td>Mais de 10 anos</td>\n",
       "      <td>de 1 a 2 anos</td>\n",
       "      <td>Modelo híbrido com dias fixos de trabalho pres...</td>\n",
       "    </tr>\n",
       "    <tr>\n",
       "      <th>57</th>\n",
       "      <td>2021</td>\n",
       "      <td>37.0</td>\n",
       "      <td>35-39</td>\n",
       "      <td>Masculino</td>\n",
       "      <td>Rio de Janeiro (RJ)</td>\n",
       "      <td>RJ</td>\n",
       "      <td>Sudeste</td>\n",
       "      <td>NaN</td>\n",
       "      <td>0</td>\n",
       "      <td>Especialização Lato Sensu</td>\n",
       "      <td>Computação / Engenharia de Software / TI</td>\n",
       "      <td>Empregado (CLT)</td>\n",
       "      <td>Marketing</td>\n",
       "      <td>NaN</td>\n",
       "      <td>1.0</td>\n",
       "      <td>Gestor</td>\n",
       "      <td>R$20k-25k</td>\n",
       "      <td>de 6 a 10 anos</td>\n",
       "      <td>Mais de 10 anos</td>\n",
       "      <td>Modelo 100% remoto</td>\n",
       "    </tr>\n",
       "    <tr>\n",
       "      <th>85</th>\n",
       "      <td>2021</td>\n",
       "      <td>32.0</td>\n",
       "      <td>30-34</td>\n",
       "      <td>Masculino</td>\n",
       "      <td>Rio de Janeiro (RJ)</td>\n",
       "      <td>RJ</td>\n",
       "      <td>Sudeste</td>\n",
       "      <td>Sudeste</td>\n",
       "      <td>1</td>\n",
       "      <td>Especialização Lato Sensu</td>\n",
       "      <td>Economia / Administração / Finanças / Negócios</td>\n",
       "      <td>Servidor Público</td>\n",
       "      <td>Setor Público</td>\n",
       "      <td>NaN</td>\n",
       "      <td>1.0</td>\n",
       "      <td>Gestor</td>\n",
       "      <td>R$8k-12k</td>\n",
       "      <td>Não tenho experiência na área de dados</td>\n",
       "      <td>Não tive experiência na área de TI/Engenharia ...</td>\n",
       "      <td>Modelo 100% presencial</td>\n",
       "    </tr>\n",
       "    <tr>\n",
       "      <th>88</th>\n",
       "      <td>2021</td>\n",
       "      <td>35.0</td>\n",
       "      <td>35-39</td>\n",
       "      <td>Feminino</td>\n",
       "      <td>Rio de Janeiro (RJ)</td>\n",
       "      <td>RJ</td>\n",
       "      <td>Sudeste</td>\n",
       "      <td>NaN</td>\n",
       "      <td>0</td>\n",
       "      <td>Especialização Lato Sensu</td>\n",
       "      <td>Economia / Administração / Finanças / Negócios</td>\n",
       "      <td>Empregado (CLT)</td>\n",
       "      <td>Internet/Ecommerce</td>\n",
       "      <td>NaN</td>\n",
       "      <td>1.0</td>\n",
       "      <td>Gestor</td>\n",
       "      <td>R$20k-25k</td>\n",
       "      <td>de 6 a 10 anos</td>\n",
       "      <td>Não tive experiência na área de TI/Engenharia ...</td>\n",
       "      <td>Modelo 100% remoto</td>\n",
       "    </tr>\n",
       "  </tbody>\n",
       "</table>\n",
       "</div>"
      ],
      "text/plain": [
       "   ano_pesquisa  idade faixa_idade     genero               estado  uf  \\\n",
       "53         2021   39.0       35-39  Masculino  Rio de Janeiro (RJ)  RJ   \n",
       "54         2021   33.0       30-34  Masculino  Rio de Janeiro (RJ)  RJ   \n",
       "57         2021   37.0       35-39  Masculino  Rio de Janeiro (RJ)  RJ   \n",
       "85         2021   32.0       30-34  Masculino  Rio de Janeiro (RJ)  RJ   \n",
       "88         2021   35.0       35-39   Feminino  Rio de Janeiro (RJ)  RJ   \n",
       "\n",
       "     regiao regiao_origem mudou_estado                nivel_ensino  \\\n",
       "53  Sudeste           NaN            0  Não tenho graduação formal   \n",
       "54  Sudeste           NaN            0   Especialização Lato Sensu   \n",
       "57  Sudeste           NaN            0   Especialização Lato Sensu   \n",
       "85  Sudeste       Sudeste            1   Especialização Lato Sensu   \n",
       "88  Sudeste           NaN            0   Especialização Lato Sensu   \n",
       "\n",
       "                                     area_formacao          situacao  \\\n",
       "53                                             NaN   Empregado (CLT)   \n",
       "54        Computação / Engenharia de Software / TI   Empregado (CLT)   \n",
       "57        Computação / Engenharia de Software / TI   Empregado (CLT)   \n",
       "85  Economia / Administração / Finanças / Negócios  Servidor Público   \n",
       "88  Economia / Administração / Finanças / Negócios   Empregado (CLT)   \n",
       "\n",
       "                 setor cargo gestor   nivel faixa_salarial  \\\n",
       "53              Varejo   NaN    1.0  Gestor       R$8k-12k   \n",
       "54              Varejo   NaN    1.0  Gestor       R$8k-12k   \n",
       "57           Marketing   NaN    1.0  Gestor      R$20k-25k   \n",
       "85       Setor Público   NaN    1.0  Gestor       R$8k-12k   \n",
       "88  Internet/Ecommerce   NaN    1.0  Gestor      R$20k-25k   \n",
       "\n",
       "                          tempo_area_dados  \\\n",
       "53                          de 6 a 10 anos   \n",
       "54                         Mais de 10 anos   \n",
       "57                          de 6 a 10 anos   \n",
       "85  Não tenho experiência na área de dados   \n",
       "88                          de 6 a 10 anos   \n",
       "\n",
       "                                        tempo_area_ti  \\\n",
       "53  Não tive experiência na área de TI/Engenharia ...   \n",
       "54                                      de 1 a 2 anos   \n",
       "57                                    Mais de 10 anos   \n",
       "85  Não tive experiência na área de TI/Engenharia ...   \n",
       "88  Não tive experiência na área de TI/Engenharia ...   \n",
       "\n",
       "                                           modalidade  \n",
       "53                                 Modelo 100% remoto  \n",
       "54  Modelo híbrido com dias fixos de trabalho pres...  \n",
       "57                                 Modelo 100% remoto  \n",
       "85                             Modelo 100% presencial  \n",
       "88                                 Modelo 100% remoto  "
      ]
     },
     "execution_count": 26,
     "metadata": {},
     "output_type": "execute_result"
    }
   ],
   "source": [
    "df_rj.head()"
   ]
  },
  {
   "cell_type": "markdown",
   "metadata": {},
   "source": [
    "# Visualizando os dados"
   ]
  },
  {
   "cell_type": "code",
   "execution_count": 27,
   "metadata": {},
   "outputs": [
    {
     "name": "stderr",
     "output_type": "stream",
     "text": [
      "C:\\Users\\julli\\AppData\\Local\\Temp\\ipykernel_24260\\686790294.py:20: FutureWarning:\n",
      "\n",
      "The default of observed=False is deprecated and will be changed to True in a future version of pandas. Pass observed=False to retain current behavior or observed=True to adopt the future default and silence this warning.\n",
      "\n",
      "C:\\Users\\julli\\AppData\\Local\\Temp\\ipykernel_24260\\686790294.py:20: FutureWarning:\n",
      "\n",
      "The default of observed=False is deprecated and will be changed to True in a future version of pandas. Pass observed=False to retain current behavior or observed=True to adopt the future default and silence this warning.\n",
      "\n",
      "C:\\Users\\julli\\AppData\\Local\\Temp\\ipykernel_24260\\686790294.py:20: FutureWarning:\n",
      "\n",
      "The default of observed=False is deprecated and will be changed to True in a future version of pandas. Pass observed=False to retain current behavior or observed=True to adopt the future default and silence this warning.\n",
      "\n",
      "C:\\Users\\julli\\AppData\\Local\\Temp\\ipykernel_24260\\686790294.py:20: FutureWarning:\n",
      "\n",
      "The default of observed=False is deprecated and will be changed to True in a future version of pandas. Pass observed=False to retain current behavior or observed=True to adopt the future default and silence this warning.\n",
      "\n"
     ]
    },
    {
     "data": {
      "application/vnd.plotly.v1+json": {
       "config": {
        "plotlyServerURL": "https://plot.ly"
       },
       "data": [
        {
         "marker": {
          "color": "#FF7F50"
         },
         "name": "Feminino",
         "orientation": "h",
         "showlegend": true,
         "text": [
          2,
          2,
          4,
          10,
          6,
          8,
          2,
          2,
          1,
          0,
          0,
          0
         ],
         "type": "bar",
         "x": [
          2,
          2,
          4,
          10,
          6,
          8,
          2,
          2,
          1,
          0,
          0,
          0
         ],
         "xaxis": "x",
         "y": [
          "R$1k-2k",
          "R$2k-3k",
          "R$3k-4k",
          "R$4k-6k",
          "R$6k-8k",
          "R$8k-12k",
          "R$12k-16k",
          "R$16k-20k",
          "R$20k-25k",
          "R$25k-30k",
          "R$30k-40k",
          "R$40k"
         ],
         "yaxis": "y"
        },
        {
         "marker": {
          "color": "#1E90FF"
         },
         "name": "Masculino",
         "orientation": "h",
         "showlegend": true,
         "text": [
          8,
          16,
          8,
          26,
          22,
          38,
          16,
          8,
          3,
          2,
          1,
          1
         ],
         "type": "bar",
         "x": [
          8,
          16,
          8,
          26,
          22,
          38,
          16,
          8,
          3,
          2,
          1,
          1
         ],
         "xaxis": "x",
         "y": [
          "R$1k-2k",
          "R$2k-3k",
          "R$3k-4k",
          "R$4k-6k",
          "R$6k-8k",
          "R$8k-12k",
          "R$12k-16k",
          "R$16k-20k",
          "R$20k-25k",
          "R$25k-30k",
          "R$30k-40k",
          "R$40k"
         ],
         "yaxis": "y"
        },
        {
         "marker": {
          "color": "#FF7F50"
         },
         "name": "Feminino",
         "orientation": "h",
         "showlegend": false,
         "text": [
          7,
          4,
          12,
          7,
          7,
          17,
          8,
          2,
          1,
          2,
          0,
          0
         ],
         "type": "bar",
         "x": [
          7,
          4,
          12,
          7,
          7,
          17,
          8,
          2,
          1,
          2,
          0,
          0
         ],
         "xaxis": "x2",
         "y": [
          "R$1k-2k",
          "R$2k-3k",
          "R$3k-4k",
          "R$4k-6k",
          "R$6k-8k",
          "R$8k-12k",
          "R$12k-16k",
          "R$16k-20k",
          "R$20k-25k",
          "R$25k-30k",
          "R$30k-40k",
          "R$40k"
         ],
         "yaxis": "y2"
        },
        {
         "marker": {
          "color": "#1E90FF"
         },
         "name": "Masculino",
         "orientation": "h",
         "showlegend": false,
         "text": [
          12,
          19,
          21,
          34,
          22,
          46,
          36,
          12,
          4,
          5,
          3,
          0
         ],
         "type": "bar",
         "x": [
          12,
          19,
          21,
          34,
          22,
          46,
          36,
          12,
          4,
          5,
          3,
          0
         ],
         "xaxis": "x2",
         "y": [
          "R$1k-2k",
          "R$2k-3k",
          "R$3k-4k",
          "R$4k-6k",
          "R$6k-8k",
          "R$8k-12k",
          "R$12k-16k",
          "R$16k-20k",
          "R$20k-25k",
          "R$25k-30k",
          "R$30k-40k",
          "R$40k"
         ],
         "yaxis": "y2"
        },
        {
         "marker": {
          "color": "#FF7F50"
         },
         "name": "Feminino",
         "orientation": "h",
         "showlegend": false,
         "text": [
          7,
          5,
          5,
          15,
          14,
          27,
          10,
          8,
          1,
          2,
          0,
          0
         ],
         "type": "bar",
         "x": [
          7,
          5,
          5,
          15,
          14,
          27,
          10,
          8,
          1,
          2,
          0,
          0
         ],
         "xaxis": "x3",
         "y": [
          "R$1k-2k",
          "R$2k-3k",
          "R$3k-4k",
          "R$4k-6k",
          "R$6k-8k",
          "R$8k-12k",
          "R$12k-16k",
          "R$16k-20k",
          "R$20k-25k",
          "R$25k-30k",
          "R$30k-40k",
          "R$40k"
         ],
         "yaxis": "y3"
        },
        {
         "marker": {
          "color": "#1E90FF"
         },
         "name": "Masculino",
         "orientation": "h",
         "showlegend": false,
         "text": [
          20,
          24,
          26,
          43,
          34,
          68,
          34,
          16,
          16,
          8,
          8,
          1
         ],
         "type": "bar",
         "x": [
          20,
          24,
          26,
          43,
          34,
          68,
          34,
          16,
          16,
          8,
          8,
          1
         ],
         "xaxis": "x3",
         "y": [
          "R$1k-2k",
          "R$2k-3k",
          "R$3k-4k",
          "R$4k-6k",
          "R$6k-8k",
          "R$8k-12k",
          "R$12k-16k",
          "R$16k-20k",
          "R$20k-25k",
          "R$25k-30k",
          "R$30k-40k",
          "R$40k"
         ],
         "yaxis": "y3"
        },
        {
         "marker": {
          "color": "#FF7F50"
         },
         "name": "Feminino",
         "orientation": "h",
         "showlegend": false,
         "text": [
          5,
          3,
          4,
          13,
          11,
          22,
          12,
          10,
          3,
          1,
          5,
          0
         ],
         "type": "bar",
         "x": [
          5,
          3,
          4,
          13,
          11,
          22,
          12,
          10,
          3,
          1,
          5,
          0
         ],
         "xaxis": "x4",
         "y": [
          "R$1k-2k",
          "R$2k-3k",
          "R$3k-4k",
          "R$4k-6k",
          "R$6k-8k",
          "R$8k-12k",
          "R$12k-16k",
          "R$16k-20k",
          "R$20k-25k",
          "R$25k-30k",
          "R$30k-40k",
          "R$40k"
         ],
         "yaxis": "y4"
        },
        {
         "marker": {
          "color": "#1E90FF"
         },
         "name": "Masculino",
         "orientation": "h",
         "showlegend": false,
         "text": [
          9,
          15,
          19,
          32,
          29,
          56,
          37,
          28,
          15,
          11,
          6,
          5
         ],
         "type": "bar",
         "x": [
          9,
          15,
          19,
          32,
          29,
          56,
          37,
          28,
          15,
          11,
          6,
          5
         ],
         "xaxis": "x4",
         "y": [
          "R$1k-2k",
          "R$2k-3k",
          "R$3k-4k",
          "R$4k-6k",
          "R$6k-8k",
          "R$8k-12k",
          "R$12k-16k",
          "R$16k-20k",
          "R$20k-25k",
          "R$25k-30k",
          "R$30k-40k",
          "R$40k"
         ],
         "yaxis": "y4"
        }
       ],
       "layout": {
        "annotations": [
         {
          "font": {
           "size": 16
          },
          "showarrow": false,
          "text": "2021",
          "x": 0.10625,
          "xanchor": "center",
          "xref": "paper",
          "y": 1,
          "yanchor": "bottom",
          "yref": "paper"
         },
         {
          "font": {
           "size": 16
          },
          "showarrow": false,
          "text": "2022",
          "x": 0.36875,
          "xanchor": "center",
          "xref": "paper",
          "y": 1,
          "yanchor": "bottom",
          "yref": "paper"
         },
         {
          "font": {
           "size": 16
          },
          "showarrow": false,
          "text": "2023",
          "x": 0.6312500000000001,
          "xanchor": "center",
          "xref": "paper",
          "y": 1,
          "yanchor": "bottom",
          "yref": "paper"
         },
         {
          "font": {
           "size": 16
          },
          "showarrow": false,
          "text": "2024",
          "x": 0.89375,
          "xanchor": "center",
          "xref": "paper",
          "y": 1,
          "yanchor": "bottom",
          "yref": "paper"
         }
        ],
        "bargap": 0.1,
        "height": 600,
        "showlegend": true,
        "template": {
         "data": {
          "bar": [
           {
            "error_x": {
             "color": "#2a3f5f"
            },
            "error_y": {
             "color": "#2a3f5f"
            },
            "marker": {
             "line": {
              "color": "white",
              "width": 0.5
             },
             "pattern": {
              "fillmode": "overlay",
              "size": 10,
              "solidity": 0.2
             }
            },
            "type": "bar"
           }
          ],
          "barpolar": [
           {
            "marker": {
             "line": {
              "color": "white",
              "width": 0.5
             },
             "pattern": {
              "fillmode": "overlay",
              "size": 10,
              "solidity": 0.2
             }
            },
            "type": "barpolar"
           }
          ],
          "carpet": [
           {
            "aaxis": {
             "endlinecolor": "#2a3f5f",
             "gridcolor": "#C8D4E3",
             "linecolor": "#C8D4E3",
             "minorgridcolor": "#C8D4E3",
             "startlinecolor": "#2a3f5f"
            },
            "baxis": {
             "endlinecolor": "#2a3f5f",
             "gridcolor": "#C8D4E3",
             "linecolor": "#C8D4E3",
             "minorgridcolor": "#C8D4E3",
             "startlinecolor": "#2a3f5f"
            },
            "type": "carpet"
           }
          ],
          "choropleth": [
           {
            "colorbar": {
             "outlinewidth": 0,
             "ticks": ""
            },
            "type": "choropleth"
           }
          ],
          "contour": [
           {
            "colorbar": {
             "outlinewidth": 0,
             "ticks": ""
            },
            "colorscale": [
             [
              0,
              "#0d0887"
             ],
             [
              0.1111111111111111,
              "#46039f"
             ],
             [
              0.2222222222222222,
              "#7201a8"
             ],
             [
              0.3333333333333333,
              "#9c179e"
             ],
             [
              0.4444444444444444,
              "#bd3786"
             ],
             [
              0.5555555555555556,
              "#d8576b"
             ],
             [
              0.6666666666666666,
              "#ed7953"
             ],
             [
              0.7777777777777778,
              "#fb9f3a"
             ],
             [
              0.8888888888888888,
              "#fdca26"
             ],
             [
              1,
              "#f0f921"
             ]
            ],
            "type": "contour"
           }
          ],
          "contourcarpet": [
           {
            "colorbar": {
             "outlinewidth": 0,
             "ticks": ""
            },
            "type": "contourcarpet"
           }
          ],
          "heatmap": [
           {
            "colorbar": {
             "outlinewidth": 0,
             "ticks": ""
            },
            "colorscale": [
             [
              0,
              "#0d0887"
             ],
             [
              0.1111111111111111,
              "#46039f"
             ],
             [
              0.2222222222222222,
              "#7201a8"
             ],
             [
              0.3333333333333333,
              "#9c179e"
             ],
             [
              0.4444444444444444,
              "#bd3786"
             ],
             [
              0.5555555555555556,
              "#d8576b"
             ],
             [
              0.6666666666666666,
              "#ed7953"
             ],
             [
              0.7777777777777778,
              "#fb9f3a"
             ],
             [
              0.8888888888888888,
              "#fdca26"
             ],
             [
              1,
              "#f0f921"
             ]
            ],
            "type": "heatmap"
           }
          ],
          "heatmapgl": [
           {
            "colorbar": {
             "outlinewidth": 0,
             "ticks": ""
            },
            "colorscale": [
             [
              0,
              "#0d0887"
             ],
             [
              0.1111111111111111,
              "#46039f"
             ],
             [
              0.2222222222222222,
              "#7201a8"
             ],
             [
              0.3333333333333333,
              "#9c179e"
             ],
             [
              0.4444444444444444,
              "#bd3786"
             ],
             [
              0.5555555555555556,
              "#d8576b"
             ],
             [
              0.6666666666666666,
              "#ed7953"
             ],
             [
              0.7777777777777778,
              "#fb9f3a"
             ],
             [
              0.8888888888888888,
              "#fdca26"
             ],
             [
              1,
              "#f0f921"
             ]
            ],
            "type": "heatmapgl"
           }
          ],
          "histogram": [
           {
            "marker": {
             "pattern": {
              "fillmode": "overlay",
              "size": 10,
              "solidity": 0.2
             }
            },
            "type": "histogram"
           }
          ],
          "histogram2d": [
           {
            "colorbar": {
             "outlinewidth": 0,
             "ticks": ""
            },
            "colorscale": [
             [
              0,
              "#0d0887"
             ],
             [
              0.1111111111111111,
              "#46039f"
             ],
             [
              0.2222222222222222,
              "#7201a8"
             ],
             [
              0.3333333333333333,
              "#9c179e"
             ],
             [
              0.4444444444444444,
              "#bd3786"
             ],
             [
              0.5555555555555556,
              "#d8576b"
             ],
             [
              0.6666666666666666,
              "#ed7953"
             ],
             [
              0.7777777777777778,
              "#fb9f3a"
             ],
             [
              0.8888888888888888,
              "#fdca26"
             ],
             [
              1,
              "#f0f921"
             ]
            ],
            "type": "histogram2d"
           }
          ],
          "histogram2dcontour": [
           {
            "colorbar": {
             "outlinewidth": 0,
             "ticks": ""
            },
            "colorscale": [
             [
              0,
              "#0d0887"
             ],
             [
              0.1111111111111111,
              "#46039f"
             ],
             [
              0.2222222222222222,
              "#7201a8"
             ],
             [
              0.3333333333333333,
              "#9c179e"
             ],
             [
              0.4444444444444444,
              "#bd3786"
             ],
             [
              0.5555555555555556,
              "#d8576b"
             ],
             [
              0.6666666666666666,
              "#ed7953"
             ],
             [
              0.7777777777777778,
              "#fb9f3a"
             ],
             [
              0.8888888888888888,
              "#fdca26"
             ],
             [
              1,
              "#f0f921"
             ]
            ],
            "type": "histogram2dcontour"
           }
          ],
          "mesh3d": [
           {
            "colorbar": {
             "outlinewidth": 0,
             "ticks": ""
            },
            "type": "mesh3d"
           }
          ],
          "parcoords": [
           {
            "line": {
             "colorbar": {
              "outlinewidth": 0,
              "ticks": ""
             }
            },
            "type": "parcoords"
           }
          ],
          "pie": [
           {
            "automargin": true,
            "type": "pie"
           }
          ],
          "scatter": [
           {
            "fillpattern": {
             "fillmode": "overlay",
             "size": 10,
             "solidity": 0.2
            },
            "type": "scatter"
           }
          ],
          "scatter3d": [
           {
            "line": {
             "colorbar": {
              "outlinewidth": 0,
              "ticks": ""
             }
            },
            "marker": {
             "colorbar": {
              "outlinewidth": 0,
              "ticks": ""
             }
            },
            "type": "scatter3d"
           }
          ],
          "scattercarpet": [
           {
            "marker": {
             "colorbar": {
              "outlinewidth": 0,
              "ticks": ""
             }
            },
            "type": "scattercarpet"
           }
          ],
          "scattergeo": [
           {
            "marker": {
             "colorbar": {
              "outlinewidth": 0,
              "ticks": ""
             }
            },
            "type": "scattergeo"
           }
          ],
          "scattergl": [
           {
            "marker": {
             "colorbar": {
              "outlinewidth": 0,
              "ticks": ""
             }
            },
            "type": "scattergl"
           }
          ],
          "scattermapbox": [
           {
            "marker": {
             "colorbar": {
              "outlinewidth": 0,
              "ticks": ""
             }
            },
            "type": "scattermapbox"
           }
          ],
          "scatterpolar": [
           {
            "marker": {
             "colorbar": {
              "outlinewidth": 0,
              "ticks": ""
             }
            },
            "type": "scatterpolar"
           }
          ],
          "scatterpolargl": [
           {
            "marker": {
             "colorbar": {
              "outlinewidth": 0,
              "ticks": ""
             }
            },
            "type": "scatterpolargl"
           }
          ],
          "scatterternary": [
           {
            "marker": {
             "colorbar": {
              "outlinewidth": 0,
              "ticks": ""
             }
            },
            "type": "scatterternary"
           }
          ],
          "surface": [
           {
            "colorbar": {
             "outlinewidth": 0,
             "ticks": ""
            },
            "colorscale": [
             [
              0,
              "#0d0887"
             ],
             [
              0.1111111111111111,
              "#46039f"
             ],
             [
              0.2222222222222222,
              "#7201a8"
             ],
             [
              0.3333333333333333,
              "#9c179e"
             ],
             [
              0.4444444444444444,
              "#bd3786"
             ],
             [
              0.5555555555555556,
              "#d8576b"
             ],
             [
              0.6666666666666666,
              "#ed7953"
             ],
             [
              0.7777777777777778,
              "#fb9f3a"
             ],
             [
              0.8888888888888888,
              "#fdca26"
             ],
             [
              1,
              "#f0f921"
             ]
            ],
            "type": "surface"
           }
          ],
          "table": [
           {
            "cells": {
             "fill": {
              "color": "#EBF0F8"
             },
             "line": {
              "color": "white"
             }
            },
            "header": {
             "fill": {
              "color": "#C8D4E3"
             },
             "line": {
              "color": "white"
             }
            },
            "type": "table"
           }
          ]
         },
         "layout": {
          "annotationdefaults": {
           "arrowcolor": "#2a3f5f",
           "arrowhead": 0,
           "arrowwidth": 1
          },
          "autotypenumbers": "strict",
          "coloraxis": {
           "colorbar": {
            "outlinewidth": 0,
            "ticks": ""
           }
          },
          "colorscale": {
           "diverging": [
            [
             0,
             "#8e0152"
            ],
            [
             0.1,
             "#c51b7d"
            ],
            [
             0.2,
             "#de77ae"
            ],
            [
             0.3,
             "#f1b6da"
            ],
            [
             0.4,
             "#fde0ef"
            ],
            [
             0.5,
             "#f7f7f7"
            ],
            [
             0.6,
             "#e6f5d0"
            ],
            [
             0.7,
             "#b8e186"
            ],
            [
             0.8,
             "#7fbc41"
            ],
            [
             0.9,
             "#4d9221"
            ],
            [
             1,
             "#276419"
            ]
           ],
           "sequential": [
            [
             0,
             "#0d0887"
            ],
            [
             0.1111111111111111,
             "#46039f"
            ],
            [
             0.2222222222222222,
             "#7201a8"
            ],
            [
             0.3333333333333333,
             "#9c179e"
            ],
            [
             0.4444444444444444,
             "#bd3786"
            ],
            [
             0.5555555555555556,
             "#d8576b"
            ],
            [
             0.6666666666666666,
             "#ed7953"
            ],
            [
             0.7777777777777778,
             "#fb9f3a"
            ],
            [
             0.8888888888888888,
             "#fdca26"
            ],
            [
             1,
             "#f0f921"
            ]
           ],
           "sequentialminus": [
            [
             0,
             "#0d0887"
            ],
            [
             0.1111111111111111,
             "#46039f"
            ],
            [
             0.2222222222222222,
             "#7201a8"
            ],
            [
             0.3333333333333333,
             "#9c179e"
            ],
            [
             0.4444444444444444,
             "#bd3786"
            ],
            [
             0.5555555555555556,
             "#d8576b"
            ],
            [
             0.6666666666666666,
             "#ed7953"
            ],
            [
             0.7777777777777778,
             "#fb9f3a"
            ],
            [
             0.8888888888888888,
             "#fdca26"
            ],
            [
             1,
             "#f0f921"
            ]
           ]
          },
          "colorway": [
           "#636efa",
           "#EF553B",
           "#00cc96",
           "#ab63fa",
           "#FFA15A",
           "#19d3f3",
           "#FF6692",
           "#B6E880",
           "#FF97FF",
           "#FECB52"
          ],
          "font": {
           "color": "#2a3f5f"
          },
          "geo": {
           "bgcolor": "white",
           "lakecolor": "white",
           "landcolor": "white",
           "showlakes": true,
           "showland": true,
           "subunitcolor": "#C8D4E3"
          },
          "hoverlabel": {
           "align": "left"
          },
          "hovermode": "closest",
          "mapbox": {
           "style": "light"
          },
          "paper_bgcolor": "white",
          "plot_bgcolor": "white",
          "polar": {
           "angularaxis": {
            "gridcolor": "#EBF0F8",
            "linecolor": "#EBF0F8",
            "ticks": ""
           },
           "bgcolor": "white",
           "radialaxis": {
            "gridcolor": "#EBF0F8",
            "linecolor": "#EBF0F8",
            "ticks": ""
           }
          },
          "scene": {
           "xaxis": {
            "backgroundcolor": "white",
            "gridcolor": "#DFE8F3",
            "gridwidth": 2,
            "linecolor": "#EBF0F8",
            "showbackground": true,
            "ticks": "",
            "zerolinecolor": "#EBF0F8"
           },
           "yaxis": {
            "backgroundcolor": "white",
            "gridcolor": "#DFE8F3",
            "gridwidth": 2,
            "linecolor": "#EBF0F8",
            "showbackground": true,
            "ticks": "",
            "zerolinecolor": "#EBF0F8"
           },
           "zaxis": {
            "backgroundcolor": "white",
            "gridcolor": "#DFE8F3",
            "gridwidth": 2,
            "linecolor": "#EBF0F8",
            "showbackground": true,
            "ticks": "",
            "zerolinecolor": "#EBF0F8"
           }
          },
          "shapedefaults": {
           "line": {
            "color": "#2a3f5f"
           }
          },
          "ternary": {
           "aaxis": {
            "gridcolor": "#DFE8F3",
            "linecolor": "#A2B1C6",
            "ticks": ""
           },
           "baxis": {
            "gridcolor": "#DFE8F3",
            "linecolor": "#A2B1C6",
            "ticks": ""
           },
           "bgcolor": "white",
           "caxis": {
            "gridcolor": "#DFE8F3",
            "linecolor": "#A2B1C6",
            "ticks": ""
           }
          },
          "title": {
           "x": 0.05
          },
          "xaxis": {
           "automargin": true,
           "gridcolor": "#EBF0F8",
           "linecolor": "#EBF0F8",
           "ticks": "",
           "title": {
            "standoff": 15
           },
           "zerolinecolor": "#EBF0F8",
           "zerolinewidth": 2
          },
          "yaxis": {
           "automargin": true,
           "gridcolor": "#EBF0F8",
           "linecolor": "#EBF0F8",
           "ticks": "",
           "title": {
            "standoff": 15
           },
           "zerolinecolor": "#EBF0F8",
           "zerolinewidth": 2
          }
         }
        },
        "title": {
         "text": "Distribuição Salarial por Gênero (2021-2024)"
        },
        "xaxis": {
         "anchor": "y",
         "domain": [
          0,
          0.2125
         ],
         "title": {
          "text": "Quantidade de pessoas"
         }
        },
        "xaxis2": {
         "anchor": "y2",
         "domain": [
          0.2625,
          0.475
         ],
         "title": {
          "text": "Quantidade de pessoas"
         }
        },
        "xaxis3": {
         "anchor": "y3",
         "domain": [
          0.525,
          0.7375
         ],
         "title": {
          "text": "Quantidade de pessoas"
         }
        },
        "xaxis4": {
         "anchor": "y4",
         "domain": [
          0.7875,
          1
         ],
         "title": {
          "text": "Quantidade de pessoas"
         }
        },
        "yaxis": {
         "anchor": "x",
         "domain": [
          0,
          1
         ],
         "title": {
          "text": "Faixa Salarial"
         }
        },
        "yaxis2": {
         "anchor": "x2",
         "domain": [
          0,
          1
         ],
         "matches": "y",
         "showticklabels": false,
         "title": {
          "text": "Faixa Salarial"
         }
        },
        "yaxis3": {
         "anchor": "x3",
         "domain": [
          0,
          1
         ],
         "matches": "y",
         "showticklabels": false,
         "title": {
          "text": "Faixa Salarial"
         }
        },
        "yaxis4": {
         "anchor": "x4",
         "domain": [
          0,
          1
         ],
         "matches": "y",
         "showticklabels": false,
         "title": {
          "text": "Faixa Salarial"
         }
        }
       }
      }
     },
     "metadata": {},
     "output_type": "display_data"
    }
   ],
   "source": [
    "# Distribuição faixa salarial x genero\n",
    "\n",
    "def criar_piramide_salarial(df_rj):\n",
    "    # Configurações de cores\n",
    "    cores = {\"Masculino\": \"#1E90FF\", \"Feminino\": \"#FF7F50\"}\n",
    "\n",
    "    # Criando figura com subplots\n",
    "    fig = make_subplots(\n",
    "        rows=1,\n",
    "        cols=4,\n",
    "        subplot_titles=(\"2021\", \"2022\", \"2023\", \"2024\"),\n",
    "        shared_yaxes=True\n",
    "    )\n",
    "\n",
    "    anos = ['2021', '2022', '2023', '2024']\n",
    "\n",
    "    for idx, ano in enumerate(anos, 1):\n",
    "        # Filtrando dados do ano atual\n",
    "        df_grouped = df_rj[df_rj[\"ano_pesquisa\"] == ano]\n",
    "        df_grouped = df_grouped.groupby([\"faixa_salarial\", \"genero\"]).size().reset_index(name=\"count\")\n",
    "        \n",
    "        # Pivot para separar por gênero\n",
    "        df_plot = df_grouped.pivot(index=\"faixa_salarial\", columns=\"genero\", values=\"count\").fillna(0)\n",
    "\n",
    "        # Garantindo que as colunas existam\n",
    "        for genero in [\"Masculino\", \"Feminino\"]:\n",
    "            if genero not in df_plot.columns:\n",
    "                df_plot[genero] = 0\n",
    "\n",
    "        # Adicionando barras para Feminino\n",
    "        fig.add_trace(\n",
    "            go.Bar(\n",
    "                y=df_plot.index,\n",
    "                x=df_plot[\"Feminino\"],\n",
    "                name=\"Feminino\",  # Removemos o ano para agrupar na legenda\n",
    "                orientation=\"h\",\n",
    "                marker=dict(color=cores[\"Feminino\"]),\n",
    "                text=df_plot[\"Feminino\"].astype(int),\n",
    "                showlegend=True if idx == 1 else False  # Exibe legenda apenas no primeiro ano\n",
    "            ),\n",
    "            row=1,\n",
    "            col=idx\n",
    "        )\n",
    "\n",
    "        # Adicionando barras para Masculino\n",
    "        fig.add_trace(\n",
    "            go.Bar(\n",
    "                y=df_plot.index,\n",
    "                x=df_plot[\"Masculino\"],\n",
    "                name=\"Masculino\",  # Removemos o ano para agrupar na legenda\n",
    "                orientation=\"h\",\n",
    "                marker=dict(color=cores[\"Masculino\"]),\n",
    "                text=df_plot[\"Masculino\"].astype(int),\n",
    "                showlegend=True if idx == 1 else False  # Exibe legenda apenas no primeiro ano\n",
    "            ),\n",
    "            row=1,\n",
    "            col=idx\n",
    "        )\n",
    "\n",
    "    # Configurando layout\n",
    "    fig.update_layout(\n",
    "        title=\"Distribuição Salarial por Gênero (2021-2024)\",\n",
    "        template=\"plotly_white\",\n",
    "        height=600,\n",
    "        bargap=0.1,\n",
    "        showlegend=True\n",
    "    )\n",
    "\n",
    "    # Configurando eixos\n",
    "    fig.update_xaxes(title_text=\"Quantidade de pessoas\")\n",
    "    fig.update_yaxes(title_text=\"Faixa Salarial\")\n",
    "\n",
    "    return fig\n",
    "\n",
    "# Usar a função\n",
    "fig = criar_piramide_salarial(df_rj)\n",
    "fig.show()"
   ]
  },
  {
   "cell_type": "code",
   "execution_count": 28,
   "metadata": {},
   "outputs": [
    {
     "name": "stderr",
     "output_type": "stream",
     "text": [
      "C:\\Users\\julli\\AppData\\Local\\Temp\\ipykernel_24260\\3509208384.py:4: FutureWarning:\n",
      "\n",
      "The default of observed=False is deprecated and will be changed to True in a future version of pandas. Pass observed=False to retain current behavior or observed=True to adopt the future default and silence this warning.\n",
      "\n"
     ]
    },
    {
     "data": {
      "application/vnd.plotly.v1+json": {
       "config": {
        "plotlyServerURL": "https://plot.ly"
       },
       "data": [
        {
         "marker": {
          "color": "#FF7F50"
         },
         "name": "Feminino",
         "orientation": "h",
         "showlegend": true,
         "text": [
          "29.5%",
          "22.7%",
          "15.9%",
          "18.2%"
         ],
         "textposition": "outside",
         "type": "bar",
         "x": [
          -29.545454545454547,
          -22.727272727272727,
          -15.909090909090908,
          -18.181818181818183
         ],
         "xaxis": "x",
         "y": [
          "Júnior",
          "Pleno",
          "Sênior",
          "Gestor"
         ],
         "yaxis": "y"
        },
        {
         "marker": {
          "color": "#1E90FF"
         },
         "name": "Masculino",
         "orientation": "h",
         "showlegend": true,
         "text": [
          "19.1%",
          "31.5%",
          "18.5%",
          "15.2%"
         ],
         "textposition": "outside",
         "type": "bar",
         "x": [
          19.101123595505616,
          31.46067415730337,
          18.53932584269663,
          15.168539325842698
         ],
         "xaxis": "x",
         "y": [
          "Júnior",
          "Pleno",
          "Sênior",
          "Gestor"
         ],
         "yaxis": "y"
        },
        {
         "marker": {
          "color": "#FF7F50"
         },
         "name": "Feminino",
         "orientation": "h",
         "showlegend": false,
         "text": [
          "20.8%",
          "23.4%",
          "20.8%",
          "22.1%"
         ],
         "textposition": "outside",
         "type": "bar",
         "x": [
          -20.77922077922078,
          -23.376623376623375,
          -20.77922077922078,
          -22.07792207792208
         ],
         "xaxis": "x2",
         "y": [
          "Júnior",
          "Pleno",
          "Sênior",
          "Gestor"
         ],
         "yaxis": "y2"
        },
        {
         "marker": {
          "color": "#1E90FF"
         },
         "name": "Masculino",
         "orientation": "h",
         "showlegend": false,
         "text": [
          "25.6%",
          "20.9%",
          "22.9%",
          "14.7%"
         ],
         "textposition": "outside",
         "type": "bar",
         "x": [
          25.581395348837212,
          20.930232558139537,
          22.868217054263564,
          14.728682170542637
         ],
         "xaxis": "x2",
         "y": [
          "Júnior",
          "Pleno",
          "Sênior",
          "Gestor"
         ],
         "yaxis": "y2"
        },
        {
         "marker": {
          "color": "#FF7F50"
         },
         "name": "Feminino",
         "orientation": "h",
         "showlegend": false,
         "text": [
          "21.1%",
          "23.9%",
          "27.5%",
          "14.7%"
         ],
         "textposition": "outside",
         "type": "bar",
         "x": [
          -21.100917431192663,
          -23.853211009174313,
          -27.522935779816514,
          -14.678899082568808
         ],
         "xaxis": "x3",
         "y": [
          "Júnior",
          "Pleno",
          "Sênior",
          "Gestor"
         ],
         "yaxis": "y3"
        },
        {
         "marker": {
          "color": "#1E90FF"
         },
         "name": "Masculino",
         "orientation": "h",
         "showlegend": false,
         "text": [
          "21.4%",
          "27.8%",
          "28.1%",
          "14.4%"
         ],
         "textposition": "outside",
         "type": "bar",
         "x": [
          21.406727828746178,
          27.82874617737003,
          28.134556574923547,
          14.37308868501529
         ],
         "xaxis": "x3",
         "y": [
          "Júnior",
          "Pleno",
          "Sênior",
          "Gestor"
         ],
         "yaxis": "y3"
        },
        {
         "marker": {
          "color": "#FF7F50"
         },
         "name": "Feminino",
         "orientation": "h",
         "showlegend": false,
         "text": [
          "16.8%",
          "23.8%",
          "32.7%",
          "15.8%"
         ],
         "textposition": "outside",
         "type": "bar",
         "x": [
          -16.831683168316832,
          -23.762376237623762,
          -32.67326732673268,
          -15.841584158415841
         ],
         "xaxis": "x4",
         "y": [
          "Júnior",
          "Pleno",
          "Sênior",
          "Gestor"
         ],
         "yaxis": "y4"
        },
        {
         "marker": {
          "color": "#1E90FF"
         },
         "name": "Masculino",
         "orientation": "h",
         "showlegend": false,
         "text": [
          "21.0%",
          "24.4%",
          "27.1%",
          "18.9%"
         ],
         "textposition": "outside",
         "type": "bar",
         "x": [
          20.962199312714777,
          24.398625429553263,
          27.147766323024054,
          18.900343642611684
         ],
         "xaxis": "x4",
         "y": [
          "Júnior",
          "Pleno",
          "Sênior",
          "Gestor"
         ],
         "yaxis": "y4"
        }
       ],
       "layout": {
        "annotations": [
         {
          "font": {
           "size": 16
          },
          "showarrow": false,
          "text": "2021",
          "x": 0.10625,
          "xanchor": "center",
          "xref": "paper",
          "y": 1,
          "yanchor": "bottom",
          "yref": "paper"
         },
         {
          "font": {
           "size": 16
          },
          "showarrow": false,
          "text": "2022",
          "x": 0.36875,
          "xanchor": "center",
          "xref": "paper",
          "y": 1,
          "yanchor": "bottom",
          "yref": "paper"
         },
         {
          "font": {
           "size": 16
          },
          "showarrow": false,
          "text": "2023",
          "x": 0.6312500000000001,
          "xanchor": "center",
          "xref": "paper",
          "y": 1,
          "yanchor": "bottom",
          "yref": "paper"
         },
         {
          "font": {
           "size": 16
          },
          "showarrow": false,
          "text": "2024",
          "x": 0.89375,
          "xanchor": "center",
          "xref": "paper",
          "y": 1,
          "yanchor": "bottom",
          "yref": "paper"
         }
        ],
        "barmode": "relative",
        "shapes": [
         {
          "line": {
           "color": "black",
           "dash": "dot",
           "width": 1
          },
          "type": "line",
          "x0": 0,
          "x1": 0,
          "xref": "x",
          "y0": -0.5,
          "y1": 3.5,
          "yref": "y"
         },
         {
          "line": {
           "color": "black",
           "dash": "dot",
           "width": 1
          },
          "type": "line",
          "x0": 0,
          "x1": 0,
          "xref": "x2",
          "y0": -0.5,
          "y1": 3.5,
          "yref": "y2"
         },
         {
          "line": {
           "color": "black",
           "dash": "dot",
           "width": 1
          },
          "type": "line",
          "x0": 0,
          "x1": 0,
          "xref": "x3",
          "y0": -0.5,
          "y1": 3.5,
          "yref": "y3"
         },
         {
          "line": {
           "color": "black",
           "dash": "dot",
           "width": 1
          },
          "type": "line",
          "x0": 0,
          "x1": 0,
          "xref": "x4",
          "y0": -0.5,
          "y1": 3.5,
          "yref": "y4"
         }
        ],
        "template": {
         "data": {
          "bar": [
           {
            "error_x": {
             "color": "#2a3f5f"
            },
            "error_y": {
             "color": "#2a3f5f"
            },
            "marker": {
             "line": {
              "color": "white",
              "width": 0.5
             },
             "pattern": {
              "fillmode": "overlay",
              "size": 10,
              "solidity": 0.2
             }
            },
            "type": "bar"
           }
          ],
          "barpolar": [
           {
            "marker": {
             "line": {
              "color": "white",
              "width": 0.5
             },
             "pattern": {
              "fillmode": "overlay",
              "size": 10,
              "solidity": 0.2
             }
            },
            "type": "barpolar"
           }
          ],
          "carpet": [
           {
            "aaxis": {
             "endlinecolor": "#2a3f5f",
             "gridcolor": "#C8D4E3",
             "linecolor": "#C8D4E3",
             "minorgridcolor": "#C8D4E3",
             "startlinecolor": "#2a3f5f"
            },
            "baxis": {
             "endlinecolor": "#2a3f5f",
             "gridcolor": "#C8D4E3",
             "linecolor": "#C8D4E3",
             "minorgridcolor": "#C8D4E3",
             "startlinecolor": "#2a3f5f"
            },
            "type": "carpet"
           }
          ],
          "choropleth": [
           {
            "colorbar": {
             "outlinewidth": 0,
             "ticks": ""
            },
            "type": "choropleth"
           }
          ],
          "contour": [
           {
            "colorbar": {
             "outlinewidth": 0,
             "ticks": ""
            },
            "colorscale": [
             [
              0,
              "#0d0887"
             ],
             [
              0.1111111111111111,
              "#46039f"
             ],
             [
              0.2222222222222222,
              "#7201a8"
             ],
             [
              0.3333333333333333,
              "#9c179e"
             ],
             [
              0.4444444444444444,
              "#bd3786"
             ],
             [
              0.5555555555555556,
              "#d8576b"
             ],
             [
              0.6666666666666666,
              "#ed7953"
             ],
             [
              0.7777777777777778,
              "#fb9f3a"
             ],
             [
              0.8888888888888888,
              "#fdca26"
             ],
             [
              1,
              "#f0f921"
             ]
            ],
            "type": "contour"
           }
          ],
          "contourcarpet": [
           {
            "colorbar": {
             "outlinewidth": 0,
             "ticks": ""
            },
            "type": "contourcarpet"
           }
          ],
          "heatmap": [
           {
            "colorbar": {
             "outlinewidth": 0,
             "ticks": ""
            },
            "colorscale": [
             [
              0,
              "#0d0887"
             ],
             [
              0.1111111111111111,
              "#46039f"
             ],
             [
              0.2222222222222222,
              "#7201a8"
             ],
             [
              0.3333333333333333,
              "#9c179e"
             ],
             [
              0.4444444444444444,
              "#bd3786"
             ],
             [
              0.5555555555555556,
              "#d8576b"
             ],
             [
              0.6666666666666666,
              "#ed7953"
             ],
             [
              0.7777777777777778,
              "#fb9f3a"
             ],
             [
              0.8888888888888888,
              "#fdca26"
             ],
             [
              1,
              "#f0f921"
             ]
            ],
            "type": "heatmap"
           }
          ],
          "heatmapgl": [
           {
            "colorbar": {
             "outlinewidth": 0,
             "ticks": ""
            },
            "colorscale": [
             [
              0,
              "#0d0887"
             ],
             [
              0.1111111111111111,
              "#46039f"
             ],
             [
              0.2222222222222222,
              "#7201a8"
             ],
             [
              0.3333333333333333,
              "#9c179e"
             ],
             [
              0.4444444444444444,
              "#bd3786"
             ],
             [
              0.5555555555555556,
              "#d8576b"
             ],
             [
              0.6666666666666666,
              "#ed7953"
             ],
             [
              0.7777777777777778,
              "#fb9f3a"
             ],
             [
              0.8888888888888888,
              "#fdca26"
             ],
             [
              1,
              "#f0f921"
             ]
            ],
            "type": "heatmapgl"
           }
          ],
          "histogram": [
           {
            "marker": {
             "pattern": {
              "fillmode": "overlay",
              "size": 10,
              "solidity": 0.2
             }
            },
            "type": "histogram"
           }
          ],
          "histogram2d": [
           {
            "colorbar": {
             "outlinewidth": 0,
             "ticks": ""
            },
            "colorscale": [
             [
              0,
              "#0d0887"
             ],
             [
              0.1111111111111111,
              "#46039f"
             ],
             [
              0.2222222222222222,
              "#7201a8"
             ],
             [
              0.3333333333333333,
              "#9c179e"
             ],
             [
              0.4444444444444444,
              "#bd3786"
             ],
             [
              0.5555555555555556,
              "#d8576b"
             ],
             [
              0.6666666666666666,
              "#ed7953"
             ],
             [
              0.7777777777777778,
              "#fb9f3a"
             ],
             [
              0.8888888888888888,
              "#fdca26"
             ],
             [
              1,
              "#f0f921"
             ]
            ],
            "type": "histogram2d"
           }
          ],
          "histogram2dcontour": [
           {
            "colorbar": {
             "outlinewidth": 0,
             "ticks": ""
            },
            "colorscale": [
             [
              0,
              "#0d0887"
             ],
             [
              0.1111111111111111,
              "#46039f"
             ],
             [
              0.2222222222222222,
              "#7201a8"
             ],
             [
              0.3333333333333333,
              "#9c179e"
             ],
             [
              0.4444444444444444,
              "#bd3786"
             ],
             [
              0.5555555555555556,
              "#d8576b"
             ],
             [
              0.6666666666666666,
              "#ed7953"
             ],
             [
              0.7777777777777778,
              "#fb9f3a"
             ],
             [
              0.8888888888888888,
              "#fdca26"
             ],
             [
              1,
              "#f0f921"
             ]
            ],
            "type": "histogram2dcontour"
           }
          ],
          "mesh3d": [
           {
            "colorbar": {
             "outlinewidth": 0,
             "ticks": ""
            },
            "type": "mesh3d"
           }
          ],
          "parcoords": [
           {
            "line": {
             "colorbar": {
              "outlinewidth": 0,
              "ticks": ""
             }
            },
            "type": "parcoords"
           }
          ],
          "pie": [
           {
            "automargin": true,
            "type": "pie"
           }
          ],
          "scatter": [
           {
            "fillpattern": {
             "fillmode": "overlay",
             "size": 10,
             "solidity": 0.2
            },
            "type": "scatter"
           }
          ],
          "scatter3d": [
           {
            "line": {
             "colorbar": {
              "outlinewidth": 0,
              "ticks": ""
             }
            },
            "marker": {
             "colorbar": {
              "outlinewidth": 0,
              "ticks": ""
             }
            },
            "type": "scatter3d"
           }
          ],
          "scattercarpet": [
           {
            "marker": {
             "colorbar": {
              "outlinewidth": 0,
              "ticks": ""
             }
            },
            "type": "scattercarpet"
           }
          ],
          "scattergeo": [
           {
            "marker": {
             "colorbar": {
              "outlinewidth": 0,
              "ticks": ""
             }
            },
            "type": "scattergeo"
           }
          ],
          "scattergl": [
           {
            "marker": {
             "colorbar": {
              "outlinewidth": 0,
              "ticks": ""
             }
            },
            "type": "scattergl"
           }
          ],
          "scattermapbox": [
           {
            "marker": {
             "colorbar": {
              "outlinewidth": 0,
              "ticks": ""
             }
            },
            "type": "scattermapbox"
           }
          ],
          "scatterpolar": [
           {
            "marker": {
             "colorbar": {
              "outlinewidth": 0,
              "ticks": ""
             }
            },
            "type": "scatterpolar"
           }
          ],
          "scatterpolargl": [
           {
            "marker": {
             "colorbar": {
              "outlinewidth": 0,
              "ticks": ""
             }
            },
            "type": "scatterpolargl"
           }
          ],
          "scatterternary": [
           {
            "marker": {
             "colorbar": {
              "outlinewidth": 0,
              "ticks": ""
             }
            },
            "type": "scatterternary"
           }
          ],
          "surface": [
           {
            "colorbar": {
             "outlinewidth": 0,
             "ticks": ""
            },
            "colorscale": [
             [
              0,
              "#0d0887"
             ],
             [
              0.1111111111111111,
              "#46039f"
             ],
             [
              0.2222222222222222,
              "#7201a8"
             ],
             [
              0.3333333333333333,
              "#9c179e"
             ],
             [
              0.4444444444444444,
              "#bd3786"
             ],
             [
              0.5555555555555556,
              "#d8576b"
             ],
             [
              0.6666666666666666,
              "#ed7953"
             ],
             [
              0.7777777777777778,
              "#fb9f3a"
             ],
             [
              0.8888888888888888,
              "#fdca26"
             ],
             [
              1,
              "#f0f921"
             ]
            ],
            "type": "surface"
           }
          ],
          "table": [
           {
            "cells": {
             "fill": {
              "color": "#EBF0F8"
             },
             "line": {
              "color": "white"
             }
            },
            "header": {
             "fill": {
              "color": "#C8D4E3"
             },
             "line": {
              "color": "white"
             }
            },
            "type": "table"
           }
          ]
         },
         "layout": {
          "annotationdefaults": {
           "arrowcolor": "#2a3f5f",
           "arrowhead": 0,
           "arrowwidth": 1
          },
          "autotypenumbers": "strict",
          "coloraxis": {
           "colorbar": {
            "outlinewidth": 0,
            "ticks": ""
           }
          },
          "colorscale": {
           "diverging": [
            [
             0,
             "#8e0152"
            ],
            [
             0.1,
             "#c51b7d"
            ],
            [
             0.2,
             "#de77ae"
            ],
            [
             0.3,
             "#f1b6da"
            ],
            [
             0.4,
             "#fde0ef"
            ],
            [
             0.5,
             "#f7f7f7"
            ],
            [
             0.6,
             "#e6f5d0"
            ],
            [
             0.7,
             "#b8e186"
            ],
            [
             0.8,
             "#7fbc41"
            ],
            [
             0.9,
             "#4d9221"
            ],
            [
             1,
             "#276419"
            ]
           ],
           "sequential": [
            [
             0,
             "#0d0887"
            ],
            [
             0.1111111111111111,
             "#46039f"
            ],
            [
             0.2222222222222222,
             "#7201a8"
            ],
            [
             0.3333333333333333,
             "#9c179e"
            ],
            [
             0.4444444444444444,
             "#bd3786"
            ],
            [
             0.5555555555555556,
             "#d8576b"
            ],
            [
             0.6666666666666666,
             "#ed7953"
            ],
            [
             0.7777777777777778,
             "#fb9f3a"
            ],
            [
             0.8888888888888888,
             "#fdca26"
            ],
            [
             1,
             "#f0f921"
            ]
           ],
           "sequentialminus": [
            [
             0,
             "#0d0887"
            ],
            [
             0.1111111111111111,
             "#46039f"
            ],
            [
             0.2222222222222222,
             "#7201a8"
            ],
            [
             0.3333333333333333,
             "#9c179e"
            ],
            [
             0.4444444444444444,
             "#bd3786"
            ],
            [
             0.5555555555555556,
             "#d8576b"
            ],
            [
             0.6666666666666666,
             "#ed7953"
            ],
            [
             0.7777777777777778,
             "#fb9f3a"
            ],
            [
             0.8888888888888888,
             "#fdca26"
            ],
            [
             1,
             "#f0f921"
            ]
           ]
          },
          "colorway": [
           "#636efa",
           "#EF553B",
           "#00cc96",
           "#ab63fa",
           "#FFA15A",
           "#19d3f3",
           "#FF6692",
           "#B6E880",
           "#FF97FF",
           "#FECB52"
          ],
          "font": {
           "color": "#2a3f5f"
          },
          "geo": {
           "bgcolor": "white",
           "lakecolor": "white",
           "landcolor": "white",
           "showlakes": true,
           "showland": true,
           "subunitcolor": "#C8D4E3"
          },
          "hoverlabel": {
           "align": "left"
          },
          "hovermode": "closest",
          "mapbox": {
           "style": "light"
          },
          "paper_bgcolor": "white",
          "plot_bgcolor": "white",
          "polar": {
           "angularaxis": {
            "gridcolor": "#EBF0F8",
            "linecolor": "#EBF0F8",
            "ticks": ""
           },
           "bgcolor": "white",
           "radialaxis": {
            "gridcolor": "#EBF0F8",
            "linecolor": "#EBF0F8",
            "ticks": ""
           }
          },
          "scene": {
           "xaxis": {
            "backgroundcolor": "white",
            "gridcolor": "#DFE8F3",
            "gridwidth": 2,
            "linecolor": "#EBF0F8",
            "showbackground": true,
            "ticks": "",
            "zerolinecolor": "#EBF0F8"
           },
           "yaxis": {
            "backgroundcolor": "white",
            "gridcolor": "#DFE8F3",
            "gridwidth": 2,
            "linecolor": "#EBF0F8",
            "showbackground": true,
            "ticks": "",
            "zerolinecolor": "#EBF0F8"
           },
           "zaxis": {
            "backgroundcolor": "white",
            "gridcolor": "#DFE8F3",
            "gridwidth": 2,
            "linecolor": "#EBF0F8",
            "showbackground": true,
            "ticks": "",
            "zerolinecolor": "#EBF0F8"
           }
          },
          "shapedefaults": {
           "line": {
            "color": "#2a3f5f"
           }
          },
          "ternary": {
           "aaxis": {
            "gridcolor": "#DFE8F3",
            "linecolor": "#A2B1C6",
            "ticks": ""
           },
           "baxis": {
            "gridcolor": "#DFE8F3",
            "linecolor": "#A2B1C6",
            "ticks": ""
           },
           "bgcolor": "white",
           "caxis": {
            "gridcolor": "#DFE8F3",
            "linecolor": "#A2B1C6",
            "ticks": ""
           }
          },
          "title": {
           "x": 0.05
          },
          "xaxis": {
           "automargin": true,
           "gridcolor": "#EBF0F8",
           "linecolor": "#EBF0F8",
           "ticks": "",
           "title": {
            "standoff": 15
           },
           "zerolinecolor": "#EBF0F8",
           "zerolinewidth": 2
          },
          "yaxis": {
           "automargin": true,
           "gridcolor": "#EBF0F8",
           "linecolor": "#EBF0F8",
           "ticks": "",
           "title": {
            "standoff": 15
           },
           "zerolinecolor": "#EBF0F8",
           "zerolinewidth": 2
          }
         }
        },
        "title": {
         "text": "Distribuição de Senioridade por Gênero (2021-2024)"
        },
        "xaxis": {
         "anchor": "y",
         "domain": [
          0,
          0.2125
         ],
         "range": [
          -100,
          100
         ],
         "ticksuffix": "%",
         "title": {
          "text": "Proporção (%)"
         }
        },
        "xaxis2": {
         "anchor": "y2",
         "domain": [
          0.2625,
          0.475
         ],
         "range": [
          -100,
          100
         ],
         "ticksuffix": "%"
        },
        "xaxis3": {
         "anchor": "y3",
         "domain": [
          0.525,
          0.7375
         ],
         "range": [
          -100,
          100
         ],
         "ticksuffix": "%"
        },
        "xaxis4": {
         "anchor": "y4",
         "domain": [
          0.7875,
          1
         ],
         "range": [
          -100,
          100
         ],
         "ticksuffix": "%"
        },
        "yaxis": {
         "anchor": "x",
         "domain": [
          0,
          1
         ],
         "title": {
          "text": "Nível de Senioridade"
         }
        },
        "yaxis2": {
         "anchor": "x2",
         "domain": [
          0,
          1
         ],
         "matches": "y",
         "showticklabels": false
        },
        "yaxis3": {
         "anchor": "x3",
         "domain": [
          0,
          1
         ],
         "matches": "y",
         "showticklabels": false
        },
        "yaxis4": {
         "anchor": "x4",
         "domain": [
          0,
          1
         ],
         "matches": "y",
         "showticklabels": false
        }
       }
      }
     },
     "metadata": {},
     "output_type": "display_data"
    }
   ],
   "source": [
    "# Proporção niveis senioridade x genero\n",
    "\n",
    "# Criando um DataFrame agrupado para contar quantas pessoas há por nível de senioridade e gênero\n",
    "df_grouped = df_rj.groupby([\"ano_pesquisa\", \"nivel\", \"genero\"]).size().reset_index(name=\"count\")\n",
    "\n",
    "# Calculando o total por ano e gênero para depois calcular proporções\n",
    "totais_por_ano_genero = df_rj.groupby([\"ano_pesquisa\", \"genero\"]).size().reset_index(name=\"total\")\n",
    "df_grouped = df_grouped.merge(totais_por_ano_genero, on=[\"ano_pesquisa\", \"genero\"])\n",
    "\n",
    "# Calculando a proporção\n",
    "df_grouped[\"proporção\"] = df_grouped[\"count\"] / df_grouped[\"total\"] * 100\n",
    "\n",
    "# Criando a figura com subplots\n",
    "fig = make_subplots(rows=1, cols=4, shared_yaxes=True, subplot_titles=[\"2021\", \"2022\", \"2023\", \"2024\"])\n",
    "\n",
    "anos = ['2021', '2022', '2023', '2024']\n",
    "cores = {\"Masculino\": \"#1E90FF\", \"Feminino\": \"#FF7F50\"}\n",
    "\n",
    "for i, ano in enumerate(anos):\n",
    "    # Filtrando dados do ano atual\n",
    "    df_ano = df_grouped[df_grouped[\"ano_pesquisa\"] == ano]\n",
    "    \n",
    "    # Criando um pivot para senioridade x gênero\n",
    "    df_plot = df_ano.pivot(index=\"nivel\", columns=\"genero\", values=\"proporção\").fillna(0)\n",
    "    \n",
    "    # Garantindo que as colunas existam, preenchendo com 0 se necessário\n",
    "    for genero in [\"Masculino\", \"Feminino\"]:\n",
    "        if genero not in df_plot.columns:\n",
    "            df_plot[genero] = 0\n",
    "    \n",
    "    # Filtrando níveis que têm pelo menos um registro\n",
    "    df_plot = df_plot[(df_plot[\"Masculino\"] > 0) | (df_plot[\"Feminino\"] > 0)]\n",
    "    \n",
    "    # Se não houver dados, continue para o próximo ano\n",
    "    if df_plot.empty:\n",
    "        continue\n",
    "    \n",
    "    # Adicionando barras para Feminino (negativo para inverter no gráfico)\n",
    "    fig.add_trace(go.Bar(\n",
    "        y=df_plot.index,\n",
    "        x=-df_plot[\"Feminino\"],\n",
    "        name=\"Feminino\",\n",
    "        orientation=\"h\",\n",
    "        marker=dict(color=cores[\"Feminino\"]),\n",
    "        text=[f\"{val:.1f}%\" for val in df_plot[\"Feminino\"]],\n",
    "        textposition=\"outside\",\n",
    "        showlegend=True if i == 0 else False\n",
    "    ), row=1, col=i+1)\n",
    "\n",
    "    # Adicionando barras para Masculino\n",
    "    fig.add_trace(go.Bar(\n",
    "        y=df_plot.index,\n",
    "        x=df_plot[\"Masculino\"],\n",
    "        name=\"Masculino\",\n",
    "        orientation=\"h\",\n",
    "        marker=dict(color=cores[\"Masculino\"]),\n",
    "        text=[f\"{val:.1f}%\" for val in df_plot[\"Masculino\"]],\n",
    "        textposition=\"outside\",\n",
    "        showlegend=True if i == 0 else False\n",
    "    ), row=1, col=i+1)\n",
    "\n",
    "# Configurando layout\n",
    "fig.update_layout(\n",
    "    title=\"Distribuição de Senioridade por Gênero (2021-2024)\",\n",
    "    xaxis_title=\"Proporção (%)\",\n",
    "    yaxis_title=\"Nível de Senioridade\",\n",
    "    barmode=\"relative\",\n",
    "    template=\"plotly_white\"\n",
    ")\n",
    "\n",
    "# Ajustando os eixos X para mostrar valores em percentuais\n",
    "for i in range(1, 5):\n",
    "    fig.update_xaxes(ticksuffix=\"%\", range=[-100, 100], row=1, col=i)\n",
    "    \n",
    "    # Adicionando linhas de referência em 0\n",
    "    fig.add_shape(\n",
    "        type=\"line\",\n",
    "        x0=0, y0=-0.5,\n",
    "        x1=0, y1=len(df_plot.index) - 0.5,\n",
    "        line=dict(color=\"black\", width=1, dash=\"dot\"),\n",
    "        row=1, col=i\n",
    "    )\n",
    "\n",
    "fig.show()"
   ]
  },
  {
   "cell_type": "code",
   "execution_count": 29,
   "metadata": {},
   "outputs": [
    {
     "name": "stderr",
     "output_type": "stream",
     "text": [
      "C:\\Users\\julli\\AppData\\Local\\Temp\\ipykernel_24260\\148492902.py:7: FutureWarning:\n",
      "\n",
      "The default of observed=False is deprecated and will be changed to True in a future version of pandas. Pass observed=False to retain current behavior or observed=True to adopt the future default and silence this warning.\n",
      "\n"
     ]
    },
    {
     "name": "stdout",
     "output_type": "stream",
     "text": [
      "Verificação das somas por gênero:\n",
      "  ano_pesquisa     genero  proporção\n",
      "0         2021   Feminino      100.0\n",
      "1         2021  Masculino      100.0\n",
      "2         2022   Feminino      100.0\n",
      "3         2022  Masculino      100.0\n",
      "4         2023   Feminino      100.0\n",
      "5         2023  Masculino      100.0\n",
      "6         2024   Feminino      100.0\n",
      "7         2024  Masculino      100.0\n"
     ]
    },
    {
     "data": {
      "application/vnd.plotly.v1+json": {
       "config": {
        "plotlyServerURL": "https://plot.ly"
       },
       "data": [
        {
         "marker": {
          "color": "#FF7F50"
         },
         "name": "Feminino",
         "orientation": "h",
         "showlegend": true,
         "text": [
          "34%",
          "26%",
          "18%",
          "21%"
         ],
         "textposition": "outside",
         "type": "bar",
         "x": [
          -34.21052631578947,
          -26.31578947368421,
          -18.421052631578945,
          -21.052631578947366
         ],
         "xaxis": "x",
         "y": [
          "Júnior",
          "Pleno",
          "Sênior",
          "Gestor"
         ],
         "yaxis": "y"
        },
        {
         "marker": {
          "color": "#1E90FF"
         },
         "name": "Masculino",
         "orientation": "h",
         "showlegend": true,
         "text": [
          "23%",
          "37%",
          "22%",
          "18%"
         ],
         "textposition": "outside",
         "type": "bar",
         "x": [
          22.666666666666664,
          37.333333333333336,
          22,
          18
         ],
         "xaxis": "x",
         "y": [
          "Júnior",
          "Pleno",
          "Sênior",
          "Gestor"
         ],
         "yaxis": "y"
        },
        {
         "marker": {
          "color": "#FF7F50"
         },
         "name": "Feminino",
         "orientation": "h",
         "showlegend": false,
         "text": [
          "24%",
          "27%",
          "24%",
          "25%"
         ],
         "textposition": "outside",
         "type": "bar",
         "x": [
          -23.88059701492537,
          -26.865671641791046,
          -23.88059701492537,
          -25.37313432835821
         ],
         "xaxis": "x2",
         "y": [
          "Júnior",
          "Pleno",
          "Sênior",
          "Gestor"
         ],
         "yaxis": "y2"
        },
        {
         "marker": {
          "color": "#1E90FF"
         },
         "name": "Masculino",
         "orientation": "h",
         "showlegend": false,
         "text": [
          "30%",
          "25%",
          "27%",
          "18%"
         ],
         "textposition": "outside",
         "type": "bar",
         "x": [
          30.414746543778804,
          24.88479262672811,
          27.188940092165897,
          17.51152073732719
         ],
         "xaxis": "x2",
         "y": [
          "Júnior",
          "Pleno",
          "Sênior",
          "Gestor"
         ],
         "yaxis": "y2"
        },
        {
         "marker": {
          "color": "#FF7F50"
         },
         "name": "Feminino",
         "orientation": "h",
         "showlegend": false,
         "text": [
          "24%",
          "27%",
          "32%",
          "17%"
         ],
         "textposition": "outside",
         "type": "bar",
         "x": [
          -24.210526315789473,
          -27.368421052631582,
          -31.57894736842105,
          -16.842105263157894
         ],
         "xaxis": "x3",
         "y": [
          "Júnior",
          "Pleno",
          "Sênior",
          "Gestor"
         ],
         "yaxis": "y3"
        },
        {
         "marker": {
          "color": "#1E90FF"
         },
         "name": "Masculino",
         "orientation": "h",
         "showlegend": false,
         "text": [
          "23%",
          "30%",
          "31%",
          "16%"
         ],
         "textposition": "outside",
         "type": "bar",
         "x": [
          23.333333333333332,
          30.333333333333336,
          30.666666666666664,
          15.666666666666668
         ],
         "xaxis": "x3",
         "y": [
          "Júnior",
          "Pleno",
          "Sênior",
          "Gestor"
         ],
         "yaxis": "y3"
        },
        {
         "marker": {
          "color": "#FF7F50"
         },
         "name": "Feminino",
         "orientation": "h",
         "showlegend": false,
         "text": [
          "19%",
          "27%",
          "37%",
          "18%"
         ],
         "textposition": "outside",
         "type": "bar",
         "x": [
          -18.88888888888889,
          -26.666666666666668,
          -36.666666666666664,
          -17.77777777777778
         ],
         "xaxis": "x4",
         "y": [
          "Júnior",
          "Pleno",
          "Sênior",
          "Gestor"
         ],
         "yaxis": "y4"
        },
        {
         "marker": {
          "color": "#1E90FF"
         },
         "name": "Masculino",
         "orientation": "h",
         "showlegend": false,
         "text": [
          "23%",
          "27%",
          "30%",
          "21%"
         ],
         "textposition": "outside",
         "type": "bar",
         "x": [
          22.932330827067666,
          26.691729323308273,
          29.69924812030075,
          20.676691729323306
         ],
         "xaxis": "x4",
         "y": [
          "Júnior",
          "Pleno",
          "Sênior",
          "Gestor"
         ],
         "yaxis": "y4"
        }
       ],
       "layout": {
        "annotations": [
         {
          "font": {
           "size": 16
          },
          "showarrow": false,
          "text": "2021",
          "x": 0.10625,
          "xanchor": "center",
          "xref": "paper",
          "y": 1,
          "yanchor": "bottom",
          "yref": "paper"
         },
         {
          "font": {
           "size": 16
          },
          "showarrow": false,
          "text": "2022",
          "x": 0.36875,
          "xanchor": "center",
          "xref": "paper",
          "y": 1,
          "yanchor": "bottom",
          "yref": "paper"
         },
         {
          "font": {
           "size": 16
          },
          "showarrow": false,
          "text": "2023",
          "x": 0.6312500000000001,
          "xanchor": "center",
          "xref": "paper",
          "y": 1,
          "yanchor": "bottom",
          "yref": "paper"
         },
         {
          "font": {
           "size": 16
          },
          "showarrow": false,
          "text": "2024",
          "x": 0.89375,
          "xanchor": "center",
          "xref": "paper",
          "y": 1,
          "yanchor": "bottom",
          "yref": "paper"
         }
        ],
        "barmode": "relative",
        "shapes": [
         {
          "line": {
           "color": "black",
           "dash": "dot",
           "width": 1
          },
          "type": "line",
          "x0": 0,
          "x1": 0,
          "xref": "x",
          "y0": -0.5,
          "y1": 3.5,
          "yref": "y"
         },
         {
          "line": {
           "color": "black",
           "dash": "dot",
           "width": 1
          },
          "type": "line",
          "x0": 0,
          "x1": 0,
          "xref": "x2",
          "y0": -0.5,
          "y1": 3.5,
          "yref": "y2"
         },
         {
          "line": {
           "color": "black",
           "dash": "dot",
           "width": 1
          },
          "type": "line",
          "x0": 0,
          "x1": 0,
          "xref": "x3",
          "y0": -0.5,
          "y1": 3.5,
          "yref": "y3"
         },
         {
          "line": {
           "color": "black",
           "dash": "dot",
           "width": 1
          },
          "type": "line",
          "x0": 0,
          "x1": 0,
          "xref": "x4",
          "y0": -0.5,
          "y1": 3.5,
          "yref": "y4"
         }
        ],
        "template": {
         "data": {
          "bar": [
           {
            "error_x": {
             "color": "#2a3f5f"
            },
            "error_y": {
             "color": "#2a3f5f"
            },
            "marker": {
             "line": {
              "color": "white",
              "width": 0.5
             },
             "pattern": {
              "fillmode": "overlay",
              "size": 10,
              "solidity": 0.2
             }
            },
            "type": "bar"
           }
          ],
          "barpolar": [
           {
            "marker": {
             "line": {
              "color": "white",
              "width": 0.5
             },
             "pattern": {
              "fillmode": "overlay",
              "size": 10,
              "solidity": 0.2
             }
            },
            "type": "barpolar"
           }
          ],
          "carpet": [
           {
            "aaxis": {
             "endlinecolor": "#2a3f5f",
             "gridcolor": "#C8D4E3",
             "linecolor": "#C8D4E3",
             "minorgridcolor": "#C8D4E3",
             "startlinecolor": "#2a3f5f"
            },
            "baxis": {
             "endlinecolor": "#2a3f5f",
             "gridcolor": "#C8D4E3",
             "linecolor": "#C8D4E3",
             "minorgridcolor": "#C8D4E3",
             "startlinecolor": "#2a3f5f"
            },
            "type": "carpet"
           }
          ],
          "choropleth": [
           {
            "colorbar": {
             "outlinewidth": 0,
             "ticks": ""
            },
            "type": "choropleth"
           }
          ],
          "contour": [
           {
            "colorbar": {
             "outlinewidth": 0,
             "ticks": ""
            },
            "colorscale": [
             [
              0,
              "#0d0887"
             ],
             [
              0.1111111111111111,
              "#46039f"
             ],
             [
              0.2222222222222222,
              "#7201a8"
             ],
             [
              0.3333333333333333,
              "#9c179e"
             ],
             [
              0.4444444444444444,
              "#bd3786"
             ],
             [
              0.5555555555555556,
              "#d8576b"
             ],
             [
              0.6666666666666666,
              "#ed7953"
             ],
             [
              0.7777777777777778,
              "#fb9f3a"
             ],
             [
              0.8888888888888888,
              "#fdca26"
             ],
             [
              1,
              "#f0f921"
             ]
            ],
            "type": "contour"
           }
          ],
          "contourcarpet": [
           {
            "colorbar": {
             "outlinewidth": 0,
             "ticks": ""
            },
            "type": "contourcarpet"
           }
          ],
          "heatmap": [
           {
            "colorbar": {
             "outlinewidth": 0,
             "ticks": ""
            },
            "colorscale": [
             [
              0,
              "#0d0887"
             ],
             [
              0.1111111111111111,
              "#46039f"
             ],
             [
              0.2222222222222222,
              "#7201a8"
             ],
             [
              0.3333333333333333,
              "#9c179e"
             ],
             [
              0.4444444444444444,
              "#bd3786"
             ],
             [
              0.5555555555555556,
              "#d8576b"
             ],
             [
              0.6666666666666666,
              "#ed7953"
             ],
             [
              0.7777777777777778,
              "#fb9f3a"
             ],
             [
              0.8888888888888888,
              "#fdca26"
             ],
             [
              1,
              "#f0f921"
             ]
            ],
            "type": "heatmap"
           }
          ],
          "heatmapgl": [
           {
            "colorbar": {
             "outlinewidth": 0,
             "ticks": ""
            },
            "colorscale": [
             [
              0,
              "#0d0887"
             ],
             [
              0.1111111111111111,
              "#46039f"
             ],
             [
              0.2222222222222222,
              "#7201a8"
             ],
             [
              0.3333333333333333,
              "#9c179e"
             ],
             [
              0.4444444444444444,
              "#bd3786"
             ],
             [
              0.5555555555555556,
              "#d8576b"
             ],
             [
              0.6666666666666666,
              "#ed7953"
             ],
             [
              0.7777777777777778,
              "#fb9f3a"
             ],
             [
              0.8888888888888888,
              "#fdca26"
             ],
             [
              1,
              "#f0f921"
             ]
            ],
            "type": "heatmapgl"
           }
          ],
          "histogram": [
           {
            "marker": {
             "pattern": {
              "fillmode": "overlay",
              "size": 10,
              "solidity": 0.2
             }
            },
            "type": "histogram"
           }
          ],
          "histogram2d": [
           {
            "colorbar": {
             "outlinewidth": 0,
             "ticks": ""
            },
            "colorscale": [
             [
              0,
              "#0d0887"
             ],
             [
              0.1111111111111111,
              "#46039f"
             ],
             [
              0.2222222222222222,
              "#7201a8"
             ],
             [
              0.3333333333333333,
              "#9c179e"
             ],
             [
              0.4444444444444444,
              "#bd3786"
             ],
             [
              0.5555555555555556,
              "#d8576b"
             ],
             [
              0.6666666666666666,
              "#ed7953"
             ],
             [
              0.7777777777777778,
              "#fb9f3a"
             ],
             [
              0.8888888888888888,
              "#fdca26"
             ],
             [
              1,
              "#f0f921"
             ]
            ],
            "type": "histogram2d"
           }
          ],
          "histogram2dcontour": [
           {
            "colorbar": {
             "outlinewidth": 0,
             "ticks": ""
            },
            "colorscale": [
             [
              0,
              "#0d0887"
             ],
             [
              0.1111111111111111,
              "#46039f"
             ],
             [
              0.2222222222222222,
              "#7201a8"
             ],
             [
              0.3333333333333333,
              "#9c179e"
             ],
             [
              0.4444444444444444,
              "#bd3786"
             ],
             [
              0.5555555555555556,
              "#d8576b"
             ],
             [
              0.6666666666666666,
              "#ed7953"
             ],
             [
              0.7777777777777778,
              "#fb9f3a"
             ],
             [
              0.8888888888888888,
              "#fdca26"
             ],
             [
              1,
              "#f0f921"
             ]
            ],
            "type": "histogram2dcontour"
           }
          ],
          "mesh3d": [
           {
            "colorbar": {
             "outlinewidth": 0,
             "ticks": ""
            },
            "type": "mesh3d"
           }
          ],
          "parcoords": [
           {
            "line": {
             "colorbar": {
              "outlinewidth": 0,
              "ticks": ""
             }
            },
            "type": "parcoords"
           }
          ],
          "pie": [
           {
            "automargin": true,
            "type": "pie"
           }
          ],
          "scatter": [
           {
            "fillpattern": {
             "fillmode": "overlay",
             "size": 10,
             "solidity": 0.2
            },
            "type": "scatter"
           }
          ],
          "scatter3d": [
           {
            "line": {
             "colorbar": {
              "outlinewidth": 0,
              "ticks": ""
             }
            },
            "marker": {
             "colorbar": {
              "outlinewidth": 0,
              "ticks": ""
             }
            },
            "type": "scatter3d"
           }
          ],
          "scattercarpet": [
           {
            "marker": {
             "colorbar": {
              "outlinewidth": 0,
              "ticks": ""
             }
            },
            "type": "scattercarpet"
           }
          ],
          "scattergeo": [
           {
            "marker": {
             "colorbar": {
              "outlinewidth": 0,
              "ticks": ""
             }
            },
            "type": "scattergeo"
           }
          ],
          "scattergl": [
           {
            "marker": {
             "colorbar": {
              "outlinewidth": 0,
              "ticks": ""
             }
            },
            "type": "scattergl"
           }
          ],
          "scattermapbox": [
           {
            "marker": {
             "colorbar": {
              "outlinewidth": 0,
              "ticks": ""
             }
            },
            "type": "scattermapbox"
           }
          ],
          "scatterpolar": [
           {
            "marker": {
             "colorbar": {
              "outlinewidth": 0,
              "ticks": ""
             }
            },
            "type": "scatterpolar"
           }
          ],
          "scatterpolargl": [
           {
            "marker": {
             "colorbar": {
              "outlinewidth": 0,
              "ticks": ""
             }
            },
            "type": "scatterpolargl"
           }
          ],
          "scatterternary": [
           {
            "marker": {
             "colorbar": {
              "outlinewidth": 0,
              "ticks": ""
             }
            },
            "type": "scatterternary"
           }
          ],
          "surface": [
           {
            "colorbar": {
             "outlinewidth": 0,
             "ticks": ""
            },
            "colorscale": [
             [
              0,
              "#0d0887"
             ],
             [
              0.1111111111111111,
              "#46039f"
             ],
             [
              0.2222222222222222,
              "#7201a8"
             ],
             [
              0.3333333333333333,
              "#9c179e"
             ],
             [
              0.4444444444444444,
              "#bd3786"
             ],
             [
              0.5555555555555556,
              "#d8576b"
             ],
             [
              0.6666666666666666,
              "#ed7953"
             ],
             [
              0.7777777777777778,
              "#fb9f3a"
             ],
             [
              0.8888888888888888,
              "#fdca26"
             ],
             [
              1,
              "#f0f921"
             ]
            ],
            "type": "surface"
           }
          ],
          "table": [
           {
            "cells": {
             "fill": {
              "color": "#EBF0F8"
             },
             "line": {
              "color": "white"
             }
            },
            "header": {
             "fill": {
              "color": "#C8D4E3"
             },
             "line": {
              "color": "white"
             }
            },
            "type": "table"
           }
          ]
         },
         "layout": {
          "annotationdefaults": {
           "arrowcolor": "#2a3f5f",
           "arrowhead": 0,
           "arrowwidth": 1
          },
          "autotypenumbers": "strict",
          "coloraxis": {
           "colorbar": {
            "outlinewidth": 0,
            "ticks": ""
           }
          },
          "colorscale": {
           "diverging": [
            [
             0,
             "#8e0152"
            ],
            [
             0.1,
             "#c51b7d"
            ],
            [
             0.2,
             "#de77ae"
            ],
            [
             0.3,
             "#f1b6da"
            ],
            [
             0.4,
             "#fde0ef"
            ],
            [
             0.5,
             "#f7f7f7"
            ],
            [
             0.6,
             "#e6f5d0"
            ],
            [
             0.7,
             "#b8e186"
            ],
            [
             0.8,
             "#7fbc41"
            ],
            [
             0.9,
             "#4d9221"
            ],
            [
             1,
             "#276419"
            ]
           ],
           "sequential": [
            [
             0,
             "#0d0887"
            ],
            [
             0.1111111111111111,
             "#46039f"
            ],
            [
             0.2222222222222222,
             "#7201a8"
            ],
            [
             0.3333333333333333,
             "#9c179e"
            ],
            [
             0.4444444444444444,
             "#bd3786"
            ],
            [
             0.5555555555555556,
             "#d8576b"
            ],
            [
             0.6666666666666666,
             "#ed7953"
            ],
            [
             0.7777777777777778,
             "#fb9f3a"
            ],
            [
             0.8888888888888888,
             "#fdca26"
            ],
            [
             1,
             "#f0f921"
            ]
           ],
           "sequentialminus": [
            [
             0,
             "#0d0887"
            ],
            [
             0.1111111111111111,
             "#46039f"
            ],
            [
             0.2222222222222222,
             "#7201a8"
            ],
            [
             0.3333333333333333,
             "#9c179e"
            ],
            [
             0.4444444444444444,
             "#bd3786"
            ],
            [
             0.5555555555555556,
             "#d8576b"
            ],
            [
             0.6666666666666666,
             "#ed7953"
            ],
            [
             0.7777777777777778,
             "#fb9f3a"
            ],
            [
             0.8888888888888888,
             "#fdca26"
            ],
            [
             1,
             "#f0f921"
            ]
           ]
          },
          "colorway": [
           "#636efa",
           "#EF553B",
           "#00cc96",
           "#ab63fa",
           "#FFA15A",
           "#19d3f3",
           "#FF6692",
           "#B6E880",
           "#FF97FF",
           "#FECB52"
          ],
          "font": {
           "color": "#2a3f5f"
          },
          "geo": {
           "bgcolor": "white",
           "lakecolor": "white",
           "landcolor": "white",
           "showlakes": true,
           "showland": true,
           "subunitcolor": "#C8D4E3"
          },
          "hoverlabel": {
           "align": "left"
          },
          "hovermode": "closest",
          "mapbox": {
           "style": "light"
          },
          "paper_bgcolor": "white",
          "plot_bgcolor": "white",
          "polar": {
           "angularaxis": {
            "gridcolor": "#EBF0F8",
            "linecolor": "#EBF0F8",
            "ticks": ""
           },
           "bgcolor": "white",
           "radialaxis": {
            "gridcolor": "#EBF0F8",
            "linecolor": "#EBF0F8",
            "ticks": ""
           }
          },
          "scene": {
           "xaxis": {
            "backgroundcolor": "white",
            "gridcolor": "#DFE8F3",
            "gridwidth": 2,
            "linecolor": "#EBF0F8",
            "showbackground": true,
            "ticks": "",
            "zerolinecolor": "#EBF0F8"
           },
           "yaxis": {
            "backgroundcolor": "white",
            "gridcolor": "#DFE8F3",
            "gridwidth": 2,
            "linecolor": "#EBF0F8",
            "showbackground": true,
            "ticks": "",
            "zerolinecolor": "#EBF0F8"
           },
           "zaxis": {
            "backgroundcolor": "white",
            "gridcolor": "#DFE8F3",
            "gridwidth": 2,
            "linecolor": "#EBF0F8",
            "showbackground": true,
            "ticks": "",
            "zerolinecolor": "#EBF0F8"
           }
          },
          "shapedefaults": {
           "line": {
            "color": "#2a3f5f"
           }
          },
          "ternary": {
           "aaxis": {
            "gridcolor": "#DFE8F3",
            "linecolor": "#A2B1C6",
            "ticks": ""
           },
           "baxis": {
            "gridcolor": "#DFE8F3",
            "linecolor": "#A2B1C6",
            "ticks": ""
           },
           "bgcolor": "white",
           "caxis": {
            "gridcolor": "#DFE8F3",
            "linecolor": "#A2B1C6",
            "ticks": ""
           }
          },
          "title": {
           "x": 0.05
          },
          "xaxis": {
           "automargin": true,
           "gridcolor": "#EBF0F8",
           "linecolor": "#EBF0F8",
           "ticks": "",
           "title": {
            "standoff": 15
           },
           "zerolinecolor": "#EBF0F8",
           "zerolinewidth": 2
          },
          "yaxis": {
           "automargin": true,
           "gridcolor": "#EBF0F8",
           "linecolor": "#EBF0F8",
           "ticks": "",
           "title": {
            "standoff": 15
           },
           "zerolinecolor": "#EBF0F8",
           "zerolinewidth": 2
          }
         }
        },
        "title": {
         "text": "Distribuição de Senioridade por Gênero (2021-2024)"
        },
        "xaxis": {
         "anchor": "y",
         "domain": [
          0,
          0.2125
         ],
         "range": [
          -100,
          100
         ],
         "ticksuffix": "%",
         "title": {
          "text": "Proporção (%)"
         }
        },
        "xaxis2": {
         "anchor": "y2",
         "domain": [
          0.2625,
          0.475
         ],
         "range": [
          -100,
          100
         ],
         "ticksuffix": "%"
        },
        "xaxis3": {
         "anchor": "y3",
         "domain": [
          0.525,
          0.7375
         ],
         "range": [
          -100,
          100
         ],
         "ticksuffix": "%"
        },
        "xaxis4": {
         "anchor": "y4",
         "domain": [
          0.7875,
          1
         ],
         "range": [
          -100,
          100
         ],
         "ticksuffix": "%"
        },
        "yaxis": {
         "anchor": "x",
         "domain": [
          0,
          1
         ],
         "title": {
          "text": "Nível de Senioridade"
         }
        },
        "yaxis2": {
         "anchor": "x2",
         "domain": [
          0,
          1
         ],
         "matches": "y",
         "showticklabels": false
        },
        "yaxis3": {
         "anchor": "x3",
         "domain": [
          0,
          1
         ],
         "matches": "y",
         "showticklabels": false
        },
        "yaxis4": {
         "anchor": "x4",
         "domain": [
          0,
          1
         ],
         "matches": "y",
         "showticklabels": false
        }
       }
      }
     },
     "metadata": {},
     "output_type": "display_data"
    }
   ],
   "source": [
    "\n",
    "niveis_desejados = [\"Júnior\", \"Pleno\", \"Sênior\", \"Gestor\"] \n",
    "\n",
    "# Normaliza os nomes dos níveis para minúsculas no filtro\n",
    "df_filtrado = df_rj[df_rj[\"nivel\"].str.lower().isin([n.lower() for n in niveis_desejados])]\n",
    "\n",
    "# Agora agrupe pelos campos desejados\n",
    "df_grouped = df_filtrado.groupby([\"ano_pesquisa\", \"nivel\", \"genero\"]).size().reset_index(name=\"count\")\n",
    "\n",
    "# Calculando o total por ano e gênero para depois calcular proporções\n",
    "totais_por_ano_genero = df_filtrado.groupby([\"ano_pesquisa\", \"genero\"]).size().reset_index(name=\"total\")\n",
    "df_grouped = df_grouped.merge(totais_por_ano_genero, on=[\"ano_pesquisa\", \"genero\"])\n",
    "\n",
    "# Calculando a proporção\n",
    "df_grouped[\"proporção\"] = df_grouped[\"count\"] / df_grouped[\"total\"] * 100\n",
    "\n",
    "# Verificação (opcional): soma das proporções por ano e gênero deve ser 100%\n",
    "verificacao = df_grouped.groupby([\"ano_pesquisa\", \"genero\"])[\"proporção\"].sum().reset_index()\n",
    "print(\"Verificação das somas por gênero:\")\n",
    "print(verificacao)\n",
    "\n",
    "fig = make_subplots(rows=1, cols=4, shared_yaxes=True, subplot_titles=[\"2021\", \"2022\", \"2023\", \"2024\"])\n",
    "\n",
    "anos = ['2021', '2022', '2023', '2024']\n",
    "cores = {\"Masculino\": \"#1E90FF\", \"Feminino\": \"#FF7F50\"}\n",
    "\n",
    "for i, ano in enumerate(anos):\n",
    "    # Filtrando dados do ano atual\n",
    "    df_ano = df_grouped[df_grouped[\"ano_pesquisa\"] == ano]\n",
    "    \n",
    "    # Criando um pivot para senioridade x gênero\n",
    "    df_plot = df_ano.pivot(index=\"nivel\", columns=\"genero\", values=\"proporção\").fillna(0)\n",
    "    \n",
    "    # Garantindo que as colunas existam, preenchendo com 0 se necessário\n",
    "    for genero in [\"Masculino\", \"Feminino\"]:\n",
    "        if genero not in df_plot.columns:\n",
    "            df_plot[genero] = 0\n",
    "    \n",
    "    # Filtrando níveis que têm pelo menos um registro\n",
    "    df_plot = df_plot[(df_plot[\"Masculino\"] > 0) | (df_plot[\"Feminino\"] > 0)]\n",
    "    \n",
    "    # Se não houver dados, continue para o próximo ano\n",
    "    if df_plot.empty:\n",
    "        continue\n",
    "    \n",
    "    # Adicionando barras para Feminino (negativo para inverter no gráfico)\n",
    "    # Arredondando as porcentagens para números inteiros\n",
    "    fig.add_trace(go.Bar(\n",
    "        y=df_plot.index,\n",
    "        x=-df_plot[\"Feminino\"],\n",
    "        name=\"Feminino\",\n",
    "        orientation=\"h\",\n",
    "        marker=dict(color=cores[\"Feminino\"]),\n",
    "        text=[f\"{int(round(val))}%\" for val in df_plot[\"Feminino\"]],  # Arredondamento para inteiros\n",
    "        textposition=\"outside\",\n",
    "        showlegend=True if i == 0 else False\n",
    "    ), row=1, col=i+1)\n",
    "\n",
    "    # Adicionando barras para Masculino\n",
    "    # Arredondando as porcentagens para números inteiros\n",
    "    fig.add_trace(go.Bar(\n",
    "        y=df_plot.index,\n",
    "        x=df_plot[\"Masculino\"],\n",
    "        name=\"Masculino\",\n",
    "        orientation=\"h\",\n",
    "        marker=dict(color=cores[\"Masculino\"]),\n",
    "        text=[f\"{int(round(val))}%\" for val in df_plot[\"Masculino\"]],  # Arredondamento para inteiros\n",
    "        textposition=\"outside\",\n",
    "        showlegend=True if i == 0 else False\n",
    "    ), row=1, col=i+1)\n",
    "\n",
    "# Configurando layout\n",
    "fig.update_layout(\n",
    "    title=\"Distribuição de Senioridade por Gênero (2021-2024)\",\n",
    "    xaxis_title=\"Proporção (%)\",\n",
    "    yaxis_title=\"Nível de Senioridade\",\n",
    "    barmode=\"relative\",\n",
    "    template=\"plotly_white\"\n",
    ")\n",
    "\n",
    "# Ajustando os eixos X para mostrar valores em percentuais\n",
    "for i in range(1, 5):\n",
    "    fig.update_xaxes(ticksuffix=\"%\", range=[-100, 100], row=1, col=i)\n",
    "    \n",
    "    # Adicionando linhas de referência em 0\n",
    "    fig.add_shape(\n",
    "        type=\"line\",\n",
    "        x0=0, y0=-0.5,\n",
    "        x1=0, y1=len(df_plot.index) - 0.5,\n",
    "        line=dict(color=\"black\", width=1, dash=\"dot\"),\n",
    "        row=1, col=i\n",
    "    )\n",
    "\n",
    "fig.show()"
   ]
  },
  {
   "cell_type": "code",
   "execution_count": 30,
   "metadata": {},
   "outputs": [
    {
     "name": "stderr",
     "output_type": "stream",
     "text": [
      "C:\\Users\\julli\\AppData\\Local\\Temp\\ipykernel_24260\\3662411243.py:3: FutureWarning:\n",
      "\n",
      "The default of observed=False is deprecated and will be changed to True in a future version of pandas. Pass observed=False to retain current behavior or observed=True to adopt the future default and silence this warning.\n",
      "\n",
      "C:\\Users\\julli\\AppData\\Local\\Temp\\ipykernel_24260\\3662411243.py:5: FutureWarning:\n",
      "\n",
      "The default of observed=False is deprecated and will be changed to True in a future version of pandas. Pass observed=False to retain current behavior or observed=True to adopt the future default and silence this warning.\n",
      "\n"
     ]
    },
    {
     "data": {
      "application/vnd.plotly.v1+json": {
       "config": {
        "plotlyServerURL": "https://plot.ly"
       },
       "data": [
        {
         "marker": {
          "color": "#FF7F50"
         },
         "name": "Feminino",
         "orientation": "h",
         "showlegend": true,
         "text": "0.0%",
         "textposition": "inside",
         "type": "bar",
         "x": [
          0
         ],
         "xaxis": "x",
         "y": [
          "Não tenho graduação formal"
         ],
         "yaxis": "y"
        },
        {
         "marker": {
          "color": "#1E90FF"
         },
         "name": "Masculino",
         "orientation": "h",
         "showlegend": true,
         "text": "100.0%",
         "textposition": "inside",
         "type": "bar",
         "x": [
          100
         ],
         "xaxis": "x",
         "y": [
          "Não tenho graduação formal"
         ],
         "yaxis": "y"
        },
        {
         "marker": {
          "color": "#FF7F50"
         },
         "name": "Feminino",
         "orientation": "h",
         "showlegend": false,
         "text": "22.2%",
         "textposition": "inside",
         "type": "bar",
         "x": [
          22.22222222222222
         ],
         "xaxis": "x",
         "y": [
          "Estudante de Graduação"
         ],
         "yaxis": "y"
        },
        {
         "marker": {
          "color": "#1E90FF"
         },
         "name": "Masculino",
         "orientation": "h",
         "showlegend": false,
         "text": "77.8%",
         "textposition": "inside",
         "type": "bar",
         "x": [
          77.77777777777779
         ],
         "xaxis": "x",
         "y": [
          "Estudante de Graduação"
         ],
         "yaxis": "y"
        },
        {
         "marker": {
          "color": "#FF7F50"
         },
         "name": "Feminino",
         "orientation": "h",
         "showlegend": false,
         "text": "16.1%",
         "textposition": "inside",
         "type": "bar",
         "x": [
          16.129032258064516
         ],
         "xaxis": "x",
         "y": [
          "Graduação/Bacharelado"
         ],
         "yaxis": "y"
        },
        {
         "marker": {
          "color": "#1E90FF"
         },
         "name": "Masculino",
         "orientation": "h",
         "showlegend": false,
         "text": "83.9%",
         "textposition": "inside",
         "type": "bar",
         "x": [
          83.87096774193549
         ],
         "xaxis": "x",
         "y": [
          "Graduação/Bacharelado"
         ],
         "yaxis": "y"
        },
        {
         "marker": {
          "color": "#FF7F50"
         },
         "name": "Feminino",
         "orientation": "h",
         "showlegend": false,
         "text": "25.0%",
         "textposition": "inside",
         "type": "bar",
         "x": [
          25
         ],
         "xaxis": "x",
         "y": [
          "Mestrado"
         ],
         "yaxis": "y"
        },
        {
         "marker": {
          "color": "#1E90FF"
         },
         "name": "Masculino",
         "orientation": "h",
         "showlegend": false,
         "text": "75.0%",
         "textposition": "inside",
         "type": "bar",
         "x": [
          75
         ],
         "xaxis": "x",
         "y": [
          "Mestrado"
         ],
         "yaxis": "y"
        },
        {
         "marker": {
          "color": "#FF7F50"
         },
         "name": "Feminino",
         "orientation": "h",
         "showlegend": false,
         "text": "25.0%",
         "textposition": "inside",
         "type": "bar",
         "x": [
          25
         ],
         "xaxis": "x",
         "y": [
          "Doutorado ou Phd"
         ],
         "yaxis": "y"
        },
        {
         "marker": {
          "color": "#1E90FF"
         },
         "name": "Masculino",
         "orientation": "h",
         "showlegend": false,
         "text": "75.0%",
         "textposition": "inside",
         "type": "bar",
         "x": [
          75
         ],
         "xaxis": "x",
         "y": [
          "Doutorado ou Phd"
         ],
         "yaxis": "y"
        },
        {
         "marker": {
          "color": "#FF7F50"
         },
         "name": "Feminino",
         "orientation": "h",
         "showlegend": false,
         "text": "14.3%",
         "textposition": "inside",
         "type": "bar",
         "x": [
          14.285714285714285
         ],
         "xaxis": "x2",
         "y": [
          "Não tenho graduação formal"
         ],
         "yaxis": "y2"
        },
        {
         "marker": {
          "color": "#1E90FF"
         },
         "name": "Masculino",
         "orientation": "h",
         "showlegend": false,
         "text": "85.7%",
         "textposition": "inside",
         "type": "bar",
         "x": [
          85.71428571428571
         ],
         "xaxis": "x2",
         "y": [
          "Não tenho graduação formal"
         ],
         "yaxis": "y2"
        },
        {
         "marker": {
          "color": "#FF7F50"
         },
         "name": "Feminino",
         "orientation": "h",
         "showlegend": false,
         "text": "14.5%",
         "textposition": "inside",
         "type": "bar",
         "x": [
          14.545454545454545
         ],
         "xaxis": "x2",
         "y": [
          "Estudante de Graduação"
         ],
         "yaxis": "y2"
        },
        {
         "marker": {
          "color": "#1E90FF"
         },
         "name": "Masculino",
         "orientation": "h",
         "showlegend": false,
         "text": "85.5%",
         "textposition": "inside",
         "type": "bar",
         "x": [
          85.45454545454545
         ],
         "xaxis": "x2",
         "y": [
          "Estudante de Graduação"
         ],
         "yaxis": "y2"
        },
        {
         "marker": {
          "color": "#FF7F50"
         },
         "name": "Feminino",
         "orientation": "h",
         "showlegend": false,
         "text": "24.1%",
         "textposition": "inside",
         "type": "bar",
         "x": [
          24.074074074074073
         ],
         "xaxis": "x2",
         "y": [
          "Graduação/Bacharelado"
         ],
         "yaxis": "y2"
        },
        {
         "marker": {
          "color": "#1E90FF"
         },
         "name": "Masculino",
         "orientation": "h",
         "showlegend": false,
         "text": "75.9%",
         "textposition": "inside",
         "type": "bar",
         "x": [
          75.92592592592592
         ],
         "xaxis": "x2",
         "y": [
          "Graduação/Bacharelado"
         ],
         "yaxis": "y2"
        },
        {
         "marker": {
          "color": "#FF7F50"
         },
         "name": "Feminino",
         "orientation": "h",
         "showlegend": false,
         "text": "18.0%",
         "textposition": "inside",
         "type": "bar",
         "x": [
          18
         ],
         "xaxis": "x2",
         "y": [
          "Mestrado"
         ],
         "yaxis": "y2"
        },
        {
         "marker": {
          "color": "#1E90FF"
         },
         "name": "Masculino",
         "orientation": "h",
         "showlegend": false,
         "text": "82.0%",
         "textposition": "inside",
         "type": "bar",
         "x": [
          82
         ],
         "xaxis": "x2",
         "y": [
          "Mestrado"
         ],
         "yaxis": "y2"
        },
        {
         "marker": {
          "color": "#FF7F50"
         },
         "name": "Feminino",
         "orientation": "h",
         "showlegend": false,
         "text": "27.3%",
         "textposition": "inside",
         "type": "bar",
         "x": [
          27.27272727272727
         ],
         "xaxis": "x2",
         "y": [
          "Doutorado ou Phd"
         ],
         "yaxis": "y2"
        },
        {
         "marker": {
          "color": "#1E90FF"
         },
         "name": "Masculino",
         "orientation": "h",
         "showlegend": false,
         "text": "72.7%",
         "textposition": "inside",
         "type": "bar",
         "x": [
          72.72727272727273
         ],
         "xaxis": "x2",
         "y": [
          "Doutorado ou Phd"
         ],
         "yaxis": "y2"
        },
        {
         "marker": {
          "color": "#FF7F50"
         },
         "name": "Feminino",
         "orientation": "h",
         "showlegend": false,
         "text": "33.3%",
         "textposition": "inside",
         "type": "bar",
         "x": [
          33.33333333333333
         ],
         "xaxis": "x3",
         "y": [
          "Não tenho graduação formal"
         ],
         "yaxis": "y3"
        },
        {
         "marker": {
          "color": "#1E90FF"
         },
         "name": "Masculino",
         "orientation": "h",
         "showlegend": false,
         "text": "66.7%",
         "textposition": "inside",
         "type": "bar",
         "x": [
          66.66666666666666
         ],
         "xaxis": "x3",
         "y": [
          "Não tenho graduação formal"
         ],
         "yaxis": "y3"
        },
        {
         "marker": {
          "color": "#FF7F50"
         },
         "name": "Feminino",
         "orientation": "h",
         "showlegend": false,
         "text": "14.9%",
         "textposition": "inside",
         "type": "bar",
         "x": [
          14.925373134328357
         ],
         "xaxis": "x3",
         "y": [
          "Estudante de Graduação"
         ],
         "yaxis": "y3"
        },
        {
         "marker": {
          "color": "#1E90FF"
         },
         "name": "Masculino",
         "orientation": "h",
         "showlegend": false,
         "text": "85.1%",
         "textposition": "inside",
         "type": "bar",
         "x": [
          85.07462686567165
         ],
         "xaxis": "x3",
         "y": [
          "Estudante de Graduação"
         ],
         "yaxis": "y3"
        },
        {
         "marker": {
          "color": "#FF7F50"
         },
         "name": "Feminino",
         "orientation": "h",
         "showlegend": false,
         "text": "23.9%",
         "textposition": "inside",
         "type": "bar",
         "x": [
          23.91304347826087
         ],
         "xaxis": "x3",
         "y": [
          "Graduação/Bacharelado"
         ],
         "yaxis": "y3"
        },
        {
         "marker": {
          "color": "#1E90FF"
         },
         "name": "Masculino",
         "orientation": "h",
         "showlegend": false,
         "text": "76.1%",
         "textposition": "inside",
         "type": "bar",
         "x": [
          76.08695652173914
         ],
         "xaxis": "x3",
         "y": [
          "Graduação/Bacharelado"
         ],
         "yaxis": "y3"
        },
        {
         "marker": {
          "color": "#FF7F50"
         },
         "name": "Feminino",
         "orientation": "h",
         "showlegend": false,
         "text": "34.7%",
         "textposition": "inside",
         "type": "bar",
         "x": [
          34.72222222222222
         ],
         "xaxis": "x3",
         "y": [
          "Mestrado"
         ],
         "yaxis": "y3"
        },
        {
         "marker": {
          "color": "#1E90FF"
         },
         "name": "Masculino",
         "orientation": "h",
         "showlegend": false,
         "text": "65.3%",
         "textposition": "inside",
         "type": "bar",
         "x": [
          65.27777777777779
         ],
         "xaxis": "x3",
         "y": [
          "Mestrado"
         ],
         "yaxis": "y3"
        },
        {
         "marker": {
          "color": "#FF7F50"
         },
         "name": "Feminino",
         "orientation": "h",
         "showlegend": false,
         "text": "18.8%",
         "textposition": "inside",
         "type": "bar",
         "x": [
          18.75
         ],
         "xaxis": "x3",
         "y": [
          "Doutorado ou Phd"
         ],
         "yaxis": "y3"
        },
        {
         "marker": {
          "color": "#1E90FF"
         },
         "name": "Masculino",
         "orientation": "h",
         "showlegend": false,
         "text": "81.2%",
         "textposition": "inside",
         "type": "bar",
         "x": [
          81.25
         ],
         "xaxis": "x3",
         "y": [
          "Doutorado ou Phd"
         ],
         "yaxis": "y3"
        },
        {
         "marker": {
          "color": "#FF7F50"
         },
         "name": "Feminino",
         "orientation": "h",
         "showlegend": false,
         "text": "0.0%",
         "textposition": "inside",
         "type": "bar",
         "x": [
          0
         ],
         "xaxis": "x4",
         "y": [
          "Não tenho graduação formal"
         ],
         "yaxis": "y4"
        },
        {
         "marker": {
          "color": "#1E90FF"
         },
         "name": "Masculino",
         "orientation": "h",
         "showlegend": false,
         "text": "100.0%",
         "textposition": "inside",
         "type": "bar",
         "x": [
          100
         ],
         "xaxis": "x4",
         "y": [
          "Não tenho graduação formal"
         ],
         "yaxis": "y4"
        },
        {
         "marker": {
          "color": "#FF7F50"
         },
         "name": "Feminino",
         "orientation": "h",
         "showlegend": false,
         "text": "19.1%",
         "textposition": "inside",
         "type": "bar",
         "x": [
          19.148936170212767
         ],
         "xaxis": "x4",
         "y": [
          "Estudante de Graduação"
         ],
         "yaxis": "y4"
        },
        {
         "marker": {
          "color": "#1E90FF"
         },
         "name": "Masculino",
         "orientation": "h",
         "showlegend": false,
         "text": "80.9%",
         "textposition": "inside",
         "type": "bar",
         "x": [
          80.85106382978722
         ],
         "xaxis": "x4",
         "y": [
          "Estudante de Graduação"
         ],
         "yaxis": "y4"
        },
        {
         "marker": {
          "color": "#FF7F50"
         },
         "name": "Feminino",
         "orientation": "h",
         "showlegend": false,
         "text": "22.0%",
         "textposition": "inside",
         "type": "bar",
         "x": [
          21.98581560283688
         ],
         "xaxis": "x4",
         "y": [
          "Graduação/Bacharelado"
         ],
         "yaxis": "y4"
        },
        {
         "marker": {
          "color": "#1E90FF"
         },
         "name": "Masculino",
         "orientation": "h",
         "showlegend": false,
         "text": "78.0%",
         "textposition": "inside",
         "type": "bar",
         "x": [
          78.01418439716312
         ],
         "xaxis": "x4",
         "y": [
          "Graduação/Bacharelado"
         ],
         "yaxis": "y4"
        },
        {
         "marker": {
          "color": "#FF7F50"
         },
         "name": "Feminino",
         "orientation": "h",
         "showlegend": false,
         "text": "32.1%",
         "textposition": "inside",
         "type": "bar",
         "x": [
          32.142857142857146
         ],
         "xaxis": "x4",
         "y": [
          "Mestrado"
         ],
         "yaxis": "y4"
        },
        {
         "marker": {
          "color": "#1E90FF"
         },
         "name": "Masculino",
         "orientation": "h",
         "showlegend": false,
         "text": "67.9%",
         "textposition": "inside",
         "type": "bar",
         "x": [
          67.85714285714286
         ],
         "xaxis": "x4",
         "y": [
          "Mestrado"
         ],
         "yaxis": "y4"
        },
        {
         "marker": {
          "color": "#FF7F50"
         },
         "name": "Feminino",
         "orientation": "h",
         "showlegend": false,
         "text": "23.5%",
         "textposition": "inside",
         "type": "bar",
         "x": [
          23.52941176470588
         ],
         "xaxis": "x4",
         "y": [
          "Doutorado ou Phd"
         ],
         "yaxis": "y4"
        },
        {
         "marker": {
          "color": "#1E90FF"
         },
         "name": "Masculino",
         "orientation": "h",
         "showlegend": false,
         "text": "76.5%",
         "textposition": "inside",
         "type": "bar",
         "x": [
          76.47058823529412
         ],
         "xaxis": "x4",
         "y": [
          "Doutorado ou Phd"
         ],
         "yaxis": "y4"
        }
       ],
       "layout": {
        "annotations": [
         {
          "font": {
           "size": 16
          },
          "showarrow": false,
          "text": "2021",
          "x": 0.10625,
          "xanchor": "center",
          "xref": "paper",
          "y": 1,
          "yanchor": "bottom",
          "yref": "paper"
         },
         {
          "font": {
           "size": 16
          },
          "showarrow": false,
          "text": "2022",
          "x": 0.36875,
          "xanchor": "center",
          "xref": "paper",
          "y": 1,
          "yanchor": "bottom",
          "yref": "paper"
         },
         {
          "font": {
           "size": 16
          },
          "showarrow": false,
          "text": "2023",
          "x": 0.6312500000000001,
          "xanchor": "center",
          "xref": "paper",
          "y": 1,
          "yanchor": "bottom",
          "yref": "paper"
         },
         {
          "font": {
           "size": 16
          },
          "showarrow": false,
          "text": "2024",
          "x": 0.89375,
          "xanchor": "center",
          "xref": "paper",
          "y": 1,
          "yanchor": "bottom",
          "yref": "paper"
         }
        ],
        "barmode": "stack",
        "height": 600,
        "legend": {
         "orientation": "h",
         "x": 0.5,
         "xanchor": "center",
         "y": 1.02,
         "yanchor": "bottom"
        },
        "template": {
         "data": {
          "bar": [
           {
            "error_x": {
             "color": "#2a3f5f"
            },
            "error_y": {
             "color": "#2a3f5f"
            },
            "marker": {
             "line": {
              "color": "white",
              "width": 0.5
             },
             "pattern": {
              "fillmode": "overlay",
              "size": 10,
              "solidity": 0.2
             }
            },
            "type": "bar"
           }
          ],
          "barpolar": [
           {
            "marker": {
             "line": {
              "color": "white",
              "width": 0.5
             },
             "pattern": {
              "fillmode": "overlay",
              "size": 10,
              "solidity": 0.2
             }
            },
            "type": "barpolar"
           }
          ],
          "carpet": [
           {
            "aaxis": {
             "endlinecolor": "#2a3f5f",
             "gridcolor": "#C8D4E3",
             "linecolor": "#C8D4E3",
             "minorgridcolor": "#C8D4E3",
             "startlinecolor": "#2a3f5f"
            },
            "baxis": {
             "endlinecolor": "#2a3f5f",
             "gridcolor": "#C8D4E3",
             "linecolor": "#C8D4E3",
             "minorgridcolor": "#C8D4E3",
             "startlinecolor": "#2a3f5f"
            },
            "type": "carpet"
           }
          ],
          "choropleth": [
           {
            "colorbar": {
             "outlinewidth": 0,
             "ticks": ""
            },
            "type": "choropleth"
           }
          ],
          "contour": [
           {
            "colorbar": {
             "outlinewidth": 0,
             "ticks": ""
            },
            "colorscale": [
             [
              0,
              "#0d0887"
             ],
             [
              0.1111111111111111,
              "#46039f"
             ],
             [
              0.2222222222222222,
              "#7201a8"
             ],
             [
              0.3333333333333333,
              "#9c179e"
             ],
             [
              0.4444444444444444,
              "#bd3786"
             ],
             [
              0.5555555555555556,
              "#d8576b"
             ],
             [
              0.6666666666666666,
              "#ed7953"
             ],
             [
              0.7777777777777778,
              "#fb9f3a"
             ],
             [
              0.8888888888888888,
              "#fdca26"
             ],
             [
              1,
              "#f0f921"
             ]
            ],
            "type": "contour"
           }
          ],
          "contourcarpet": [
           {
            "colorbar": {
             "outlinewidth": 0,
             "ticks": ""
            },
            "type": "contourcarpet"
           }
          ],
          "heatmap": [
           {
            "colorbar": {
             "outlinewidth": 0,
             "ticks": ""
            },
            "colorscale": [
             [
              0,
              "#0d0887"
             ],
             [
              0.1111111111111111,
              "#46039f"
             ],
             [
              0.2222222222222222,
              "#7201a8"
             ],
             [
              0.3333333333333333,
              "#9c179e"
             ],
             [
              0.4444444444444444,
              "#bd3786"
             ],
             [
              0.5555555555555556,
              "#d8576b"
             ],
             [
              0.6666666666666666,
              "#ed7953"
             ],
             [
              0.7777777777777778,
              "#fb9f3a"
             ],
             [
              0.8888888888888888,
              "#fdca26"
             ],
             [
              1,
              "#f0f921"
             ]
            ],
            "type": "heatmap"
           }
          ],
          "heatmapgl": [
           {
            "colorbar": {
             "outlinewidth": 0,
             "ticks": ""
            },
            "colorscale": [
             [
              0,
              "#0d0887"
             ],
             [
              0.1111111111111111,
              "#46039f"
             ],
             [
              0.2222222222222222,
              "#7201a8"
             ],
             [
              0.3333333333333333,
              "#9c179e"
             ],
             [
              0.4444444444444444,
              "#bd3786"
             ],
             [
              0.5555555555555556,
              "#d8576b"
             ],
             [
              0.6666666666666666,
              "#ed7953"
             ],
             [
              0.7777777777777778,
              "#fb9f3a"
             ],
             [
              0.8888888888888888,
              "#fdca26"
             ],
             [
              1,
              "#f0f921"
             ]
            ],
            "type": "heatmapgl"
           }
          ],
          "histogram": [
           {
            "marker": {
             "pattern": {
              "fillmode": "overlay",
              "size": 10,
              "solidity": 0.2
             }
            },
            "type": "histogram"
           }
          ],
          "histogram2d": [
           {
            "colorbar": {
             "outlinewidth": 0,
             "ticks": ""
            },
            "colorscale": [
             [
              0,
              "#0d0887"
             ],
             [
              0.1111111111111111,
              "#46039f"
             ],
             [
              0.2222222222222222,
              "#7201a8"
             ],
             [
              0.3333333333333333,
              "#9c179e"
             ],
             [
              0.4444444444444444,
              "#bd3786"
             ],
             [
              0.5555555555555556,
              "#d8576b"
             ],
             [
              0.6666666666666666,
              "#ed7953"
             ],
             [
              0.7777777777777778,
              "#fb9f3a"
             ],
             [
              0.8888888888888888,
              "#fdca26"
             ],
             [
              1,
              "#f0f921"
             ]
            ],
            "type": "histogram2d"
           }
          ],
          "histogram2dcontour": [
           {
            "colorbar": {
             "outlinewidth": 0,
             "ticks": ""
            },
            "colorscale": [
             [
              0,
              "#0d0887"
             ],
             [
              0.1111111111111111,
              "#46039f"
             ],
             [
              0.2222222222222222,
              "#7201a8"
             ],
             [
              0.3333333333333333,
              "#9c179e"
             ],
             [
              0.4444444444444444,
              "#bd3786"
             ],
             [
              0.5555555555555556,
              "#d8576b"
             ],
             [
              0.6666666666666666,
              "#ed7953"
             ],
             [
              0.7777777777777778,
              "#fb9f3a"
             ],
             [
              0.8888888888888888,
              "#fdca26"
             ],
             [
              1,
              "#f0f921"
             ]
            ],
            "type": "histogram2dcontour"
           }
          ],
          "mesh3d": [
           {
            "colorbar": {
             "outlinewidth": 0,
             "ticks": ""
            },
            "type": "mesh3d"
           }
          ],
          "parcoords": [
           {
            "line": {
             "colorbar": {
              "outlinewidth": 0,
              "ticks": ""
             }
            },
            "type": "parcoords"
           }
          ],
          "pie": [
           {
            "automargin": true,
            "type": "pie"
           }
          ],
          "scatter": [
           {
            "fillpattern": {
             "fillmode": "overlay",
             "size": 10,
             "solidity": 0.2
            },
            "type": "scatter"
           }
          ],
          "scatter3d": [
           {
            "line": {
             "colorbar": {
              "outlinewidth": 0,
              "ticks": ""
             }
            },
            "marker": {
             "colorbar": {
              "outlinewidth": 0,
              "ticks": ""
             }
            },
            "type": "scatter3d"
           }
          ],
          "scattercarpet": [
           {
            "marker": {
             "colorbar": {
              "outlinewidth": 0,
              "ticks": ""
             }
            },
            "type": "scattercarpet"
           }
          ],
          "scattergeo": [
           {
            "marker": {
             "colorbar": {
              "outlinewidth": 0,
              "ticks": ""
             }
            },
            "type": "scattergeo"
           }
          ],
          "scattergl": [
           {
            "marker": {
             "colorbar": {
              "outlinewidth": 0,
              "ticks": ""
             }
            },
            "type": "scattergl"
           }
          ],
          "scattermapbox": [
           {
            "marker": {
             "colorbar": {
              "outlinewidth": 0,
              "ticks": ""
             }
            },
            "type": "scattermapbox"
           }
          ],
          "scatterpolar": [
           {
            "marker": {
             "colorbar": {
              "outlinewidth": 0,
              "ticks": ""
             }
            },
            "type": "scatterpolar"
           }
          ],
          "scatterpolargl": [
           {
            "marker": {
             "colorbar": {
              "outlinewidth": 0,
              "ticks": ""
             }
            },
            "type": "scatterpolargl"
           }
          ],
          "scatterternary": [
           {
            "marker": {
             "colorbar": {
              "outlinewidth": 0,
              "ticks": ""
             }
            },
            "type": "scatterternary"
           }
          ],
          "surface": [
           {
            "colorbar": {
             "outlinewidth": 0,
             "ticks": ""
            },
            "colorscale": [
             [
              0,
              "#0d0887"
             ],
             [
              0.1111111111111111,
              "#46039f"
             ],
             [
              0.2222222222222222,
              "#7201a8"
             ],
             [
              0.3333333333333333,
              "#9c179e"
             ],
             [
              0.4444444444444444,
              "#bd3786"
             ],
             [
              0.5555555555555556,
              "#d8576b"
             ],
             [
              0.6666666666666666,
              "#ed7953"
             ],
             [
              0.7777777777777778,
              "#fb9f3a"
             ],
             [
              0.8888888888888888,
              "#fdca26"
             ],
             [
              1,
              "#f0f921"
             ]
            ],
            "type": "surface"
           }
          ],
          "table": [
           {
            "cells": {
             "fill": {
              "color": "#EBF0F8"
             },
             "line": {
              "color": "white"
             }
            },
            "header": {
             "fill": {
              "color": "#C8D4E3"
             },
             "line": {
              "color": "white"
             }
            },
            "type": "table"
           }
          ]
         },
         "layout": {
          "annotationdefaults": {
           "arrowcolor": "#2a3f5f",
           "arrowhead": 0,
           "arrowwidth": 1
          },
          "autotypenumbers": "strict",
          "coloraxis": {
           "colorbar": {
            "outlinewidth": 0,
            "ticks": ""
           }
          },
          "colorscale": {
           "diverging": [
            [
             0,
             "#8e0152"
            ],
            [
             0.1,
             "#c51b7d"
            ],
            [
             0.2,
             "#de77ae"
            ],
            [
             0.3,
             "#f1b6da"
            ],
            [
             0.4,
             "#fde0ef"
            ],
            [
             0.5,
             "#f7f7f7"
            ],
            [
             0.6,
             "#e6f5d0"
            ],
            [
             0.7,
             "#b8e186"
            ],
            [
             0.8,
             "#7fbc41"
            ],
            [
             0.9,
             "#4d9221"
            ],
            [
             1,
             "#276419"
            ]
           ],
           "sequential": [
            [
             0,
             "#0d0887"
            ],
            [
             0.1111111111111111,
             "#46039f"
            ],
            [
             0.2222222222222222,
             "#7201a8"
            ],
            [
             0.3333333333333333,
             "#9c179e"
            ],
            [
             0.4444444444444444,
             "#bd3786"
            ],
            [
             0.5555555555555556,
             "#d8576b"
            ],
            [
             0.6666666666666666,
             "#ed7953"
            ],
            [
             0.7777777777777778,
             "#fb9f3a"
            ],
            [
             0.8888888888888888,
             "#fdca26"
            ],
            [
             1,
             "#f0f921"
            ]
           ],
           "sequentialminus": [
            [
             0,
             "#0d0887"
            ],
            [
             0.1111111111111111,
             "#46039f"
            ],
            [
             0.2222222222222222,
             "#7201a8"
            ],
            [
             0.3333333333333333,
             "#9c179e"
            ],
            [
             0.4444444444444444,
             "#bd3786"
            ],
            [
             0.5555555555555556,
             "#d8576b"
            ],
            [
             0.6666666666666666,
             "#ed7953"
            ],
            [
             0.7777777777777778,
             "#fb9f3a"
            ],
            [
             0.8888888888888888,
             "#fdca26"
            ],
            [
             1,
             "#f0f921"
            ]
           ]
          },
          "colorway": [
           "#636efa",
           "#EF553B",
           "#00cc96",
           "#ab63fa",
           "#FFA15A",
           "#19d3f3",
           "#FF6692",
           "#B6E880",
           "#FF97FF",
           "#FECB52"
          ],
          "font": {
           "color": "#2a3f5f"
          },
          "geo": {
           "bgcolor": "white",
           "lakecolor": "white",
           "landcolor": "white",
           "showlakes": true,
           "showland": true,
           "subunitcolor": "#C8D4E3"
          },
          "hoverlabel": {
           "align": "left"
          },
          "hovermode": "closest",
          "mapbox": {
           "style": "light"
          },
          "paper_bgcolor": "white",
          "plot_bgcolor": "white",
          "polar": {
           "angularaxis": {
            "gridcolor": "#EBF0F8",
            "linecolor": "#EBF0F8",
            "ticks": ""
           },
           "bgcolor": "white",
           "radialaxis": {
            "gridcolor": "#EBF0F8",
            "linecolor": "#EBF0F8",
            "ticks": ""
           }
          },
          "scene": {
           "xaxis": {
            "backgroundcolor": "white",
            "gridcolor": "#DFE8F3",
            "gridwidth": 2,
            "linecolor": "#EBF0F8",
            "showbackground": true,
            "ticks": "",
            "zerolinecolor": "#EBF0F8"
           },
           "yaxis": {
            "backgroundcolor": "white",
            "gridcolor": "#DFE8F3",
            "gridwidth": 2,
            "linecolor": "#EBF0F8",
            "showbackground": true,
            "ticks": "",
            "zerolinecolor": "#EBF0F8"
           },
           "zaxis": {
            "backgroundcolor": "white",
            "gridcolor": "#DFE8F3",
            "gridwidth": 2,
            "linecolor": "#EBF0F8",
            "showbackground": true,
            "ticks": "",
            "zerolinecolor": "#EBF0F8"
           }
          },
          "shapedefaults": {
           "line": {
            "color": "#2a3f5f"
           }
          },
          "ternary": {
           "aaxis": {
            "gridcolor": "#DFE8F3",
            "linecolor": "#A2B1C6",
            "ticks": ""
           },
           "baxis": {
            "gridcolor": "#DFE8F3",
            "linecolor": "#A2B1C6",
            "ticks": ""
           },
           "bgcolor": "white",
           "caxis": {
            "gridcolor": "#DFE8F3",
            "linecolor": "#A2B1C6",
            "ticks": ""
           }
          },
          "title": {
           "x": 0.05
          },
          "xaxis": {
           "automargin": true,
           "gridcolor": "#EBF0F8",
           "linecolor": "#EBF0F8",
           "ticks": "",
           "title": {
            "standoff": 15
           },
           "zerolinecolor": "#EBF0F8",
           "zerolinewidth": 2
          },
          "yaxis": {
           "automargin": true,
           "gridcolor": "#EBF0F8",
           "linecolor": "#EBF0F8",
           "ticks": "",
           "title": {
            "standoff": 15
           },
           "zerolinecolor": "#EBF0F8",
           "zerolinewidth": 2
          }
         }
        },
        "title": {
         "text": "Distribuição por Gênero em Cada Nível de Formação Acadêmica (2021-2024)"
        },
        "xaxis": {
         "anchor": "y",
         "domain": [
          0,
          0.2125
         ],
         "range": [
          0,
          100
         ],
         "ticksuffix": "%",
         "title": {
          "text": "Proporção (%)"
         }
        },
        "xaxis2": {
         "anchor": "y2",
         "domain": [
          0.2625,
          0.475
         ],
         "range": [
          0,
          100
         ],
         "ticksuffix": "%"
        },
        "xaxis3": {
         "anchor": "y3",
         "domain": [
          0.525,
          0.7375
         ],
         "range": [
          0,
          100
         ],
         "ticksuffix": "%"
        },
        "xaxis4": {
         "anchor": "y4",
         "domain": [
          0.7875,
          1
         ],
         "range": [
          0,
          100
         ],
         "ticksuffix": "%"
        },
        "yaxis": {
         "anchor": "x",
         "domain": [
          0,
          1
         ],
         "title": {
          "text": "Nível de Formação"
         }
        },
        "yaxis2": {
         "anchor": "x2",
         "domain": [
          0,
          1
         ],
         "matches": "y",
         "showticklabels": false
        },
        "yaxis3": {
         "anchor": "x3",
         "domain": [
          0,
          1
         ],
         "matches": "y",
         "showticklabels": false
        },
        "yaxis4": {
         "anchor": "x4",
         "domain": [
          0,
          1
         ],
         "matches": "y",
         "showticklabels": false
        }
       }
      }
     },
     "metadata": {},
     "output_type": "display_data"
    }
   ],
   "source": [
    "# Distribuição escolaridade x genero\n",
    "\n",
    "df_grouped = df_rj.groupby([\"ano_pesquisa\", \"nivel_ensino\", \"genero\"]).size().reset_index(name=\"count\")\n",
    "\n",
    "totais_por_ano_nivel = df_rj.groupby([\"ano_pesquisa\", \"nivel_ensino\"]).size().reset_index(name=\"total_nivel\")\n",
    "df_grouped = df_grouped.merge(totais_por_ano_nivel, on=[\"ano_pesquisa\", \"nivel_ensino\"])\n",
    "\n",
    "df_grouped[\"proporção\"] = df_grouped[\"count\"] / df_grouped[\"total_nivel\"] * 100\n",
    "\n",
    "fig = make_subplots(rows=1, cols=4, shared_yaxes=True, subplot_titles=[\"2021\", \"2022\", \"2023\", \"2024\"])\n",
    "\n",
    "anos = ['2021', '2022', '2023', '2024']\n",
    "cores = {\"Masculino\": \"#1E90FF\", \"Feminino\": \"#FF7F50\"}\n",
    "\n",
    "ordem_niveis = [\n",
    "    'Não tenho graduação formal', \n",
    "    'Estudante de Graduação',\n",
    "    'Graduação/Bacharelado', \n",
    "    'Pós-graduação',\n",
    "    'Mestrado',\n",
    "    'Doutorado ou Phd'\n",
    "]\n",
    "\n",
    "for i, ano in enumerate(anos):\n",
    "   \n",
    "    df_ano = df_grouped[df_grouped[\"ano_pesquisa\"] == ano]\n",
    "    \n",
    "    for nivel in ordem_niveis:\n",
    "        df_nivel = df_ano[df_ano[\"nivel_ensino\"] == nivel]\n",
    "        \n",
    "        if df_nivel.empty:\n",
    "            continue\n",
    "        \n",
    "        \n",
    "        proporcoes = {genero: df_nivel[df_nivel[\"genero\"] == genero][\"proporção\"].values[0] \n",
    "                      if not df_nivel[df_nivel[\"genero\"] == genero].empty else 0 \n",
    "                      for genero in [\"Masculino\", \"Feminino\"]}\n",
    "        \n",
    "        \n",
    "        for genero in [\"Feminino\", \"Masculino\"]:\n",
    "            fig.add_trace(go.Bar(\n",
    "                y=[nivel],\n",
    "                x=[proporcoes[genero]],\n",
    "                name=genero,\n",
    "                orientation=\"h\",\n",
    "                marker=dict(color=cores[genero]),\n",
    "                text=f\"{proporcoes[genero]:.1f}%\",\n",
    "                textposition=\"inside\",\n",
    "                showlegend=True if i == 0 and nivel == ordem_niveis[0] else False\n",
    "            ), row=1, col=i+1)\n",
    "\n",
    "# Configurando layout\n",
    "fig.update_layout(\n",
    "    title=\"Distribuição por Gênero em Cada Nível de Formação Acadêmica (2021-2024)\",\n",
    "    xaxis_title=\"Proporção (%)\",\n",
    "    yaxis_title=\"Nível de Formação\",\n",
    "    barmode=\"stack\",\n",
    "    height=600,\n",
    "    template=\"plotly_white\",\n",
    "    legend=dict(\n",
    "        orientation=\"h\",\n",
    "        yanchor=\"bottom\",\n",
    "        y=1.02,\n",
    "        xanchor=\"center\",\n",
    "        x=0.5\n",
    "    )\n",
    ")\n",
    "\n",
    "# Ajustando os eixos X para mostrar valores em percentuais\n",
    "for i in range(1, 5):\n",
    "    fig.update_xaxes(ticksuffix=\"%\", range=[0, 100], row=1, col=i)\n",
    "    \n",
    "\n",
    "fig.show()"
   ]
  },
  {
   "cell_type": "code",
   "execution_count": 31,
   "metadata": {},
   "outputs": [
    {
     "data": {
      "application/vnd.plotly.v1+json": {
       "config": {
        "plotlyServerURL": "https://plot.ly"
       },
       "data": [
        {
         "marker": {
          "color": "#FF7F50"
         },
         "name": "Feminino",
         "showlegend": true,
         "text": [
          "8",
          "24",
          "32",
          "29"
         ],
         "textposition": "auto",
         "type": "bar",
         "x": [
          "2021",
          "2022",
          "2023",
          "2024"
         ],
         "xaxis": "x",
         "y": [
          8,
          24,
          32,
          29
         ],
         "yaxis": "y"
        },
        {
         "marker": {
          "color": "#1E90FF"
         },
         "name": "Masculino",
         "showlegend": true,
         "text": [
          "47",
          "99",
          "122",
          "107"
         ],
         "textposition": "auto",
         "type": "bar",
         "x": [
          "2021",
          "2022",
          "2023",
          "2024"
         ],
         "xaxis": "x",
         "y": [
          47,
          99,
          122,
          107
         ],
         "yaxis": "y"
        },
        {
         "marker": {
          "color": "#FF7F50"
         },
         "name": "Feminino",
         "showlegend": false,
         "text": [
          "16",
          "14",
          "21",
          "22"
         ],
         "textposition": "auto",
         "type": "bar",
         "x": [
          "2021",
          "2022",
          "2023",
          "2024"
         ],
         "xaxis": "x2",
         "y": [
          16,
          14,
          21,
          22
         ],
         "yaxis": "y2"
        },
        {
         "marker": {
          "color": "#1E90FF"
         },
         "name": "Masculino",
         "showlegend": false,
         "text": [
          "50",
          "51",
          "58",
          "60"
         ],
         "textposition": "auto",
         "type": "bar",
         "x": [
          "2021",
          "2022",
          "2023",
          "2024"
         ],
         "xaxis": "x2",
         "y": [
          50,
          51,
          58,
          60
         ],
         "yaxis": "y2"
        },
        {
         "marker": {
          "color": "#FF7F50"
         },
         "name": "Feminino",
         "showlegend": false,
         "text": [
          "6",
          "13",
          "15",
          "14"
         ],
         "textposition": "auto",
         "type": "bar",
         "x": [
          "2021",
          "2022",
          "2023",
          "2024"
         ],
         "xaxis": "x3",
         "y": [
          6,
          13,
          15,
          14
         ],
         "yaxis": "y3"
        },
        {
         "marker": {
          "color": "#1E90FF"
         },
         "name": "Masculino",
         "showlegend": false,
         "text": [
          "33",
          "44",
          "59",
          "56"
         ],
         "textposition": "auto",
         "type": "bar",
         "x": [
          "2021",
          "2022",
          "2023",
          "2024"
         ],
         "xaxis": "x3",
         "y": [
          33,
          44,
          59,
          56
         ],
         "yaxis": "y3"
        },
        {
         "marker": {
          "color": "#FF7F50"
         },
         "name": "Feminino",
         "showlegend": false,
         "text": [
          "5",
          "8",
          "14",
          "19"
         ],
         "textposition": "auto",
         "type": "bar",
         "x": [
          "2021",
          "2022",
          "2023",
          "2024"
         ],
         "xaxis": "x4",
         "y": [
          5,
          8,
          14,
          19
         ],
         "yaxis": "y4"
        },
        {
         "marker": {
          "color": "#1E90FF"
         },
         "name": "Masculino",
         "showlegend": false,
         "text": [
          "22",
          "22",
          "28",
          "26"
         ],
         "textposition": "auto",
         "type": "bar",
         "x": [
          "2021",
          "2022",
          "2023",
          "2024"
         ],
         "xaxis": "x4",
         "y": [
          22,
          22,
          28,
          26
         ],
         "yaxis": "y4"
        },
        {
         "marker": {
          "color": "#FF7F50"
         },
         "name": "Feminino",
         "showlegend": false,
         "text": [
          "2",
          "8",
          "7",
          "9"
         ],
         "textposition": "auto",
         "type": "bar",
         "x": [
          "2021",
          "2022",
          "2023",
          "2024"
         ],
         "xaxis": "x5",
         "y": [
          2,
          8,
          7,
          9
         ],
         "yaxis": "y5"
        },
        {
         "marker": {
          "color": "#1E90FF"
         },
         "name": "Masculino",
         "showlegend": false,
         "text": [
          "2",
          "10",
          "23",
          "12"
         ],
         "textposition": "auto",
         "type": "bar",
         "x": [
          "2021",
          "2022",
          "2023",
          "2024"
         ],
         "xaxis": "x5",
         "y": [
          2,
          10,
          23,
          12
         ],
         "yaxis": "y5"
        },
        {
         "marker": {
          "color": "#FF7F50"
         },
         "name": "Feminino",
         "showlegend": false,
         "text": [
          "4",
          "6",
          "9",
          "7"
         ],
         "textposition": "auto",
         "type": "bar",
         "x": [
          "2021",
          "2022",
          "2023",
          "2024"
         ],
         "xaxis": "x6",
         "y": [
          4,
          6,
          9,
          7
         ],
         "yaxis": "y6"
        },
        {
         "marker": {
          "color": "#1E90FF"
         },
         "name": "Masculino",
         "showlegend": false,
         "text": [
          "3",
          "1",
          "4",
          "9"
         ],
         "textposition": "auto",
         "type": "bar",
         "x": [
          "2021",
          "2022",
          "2023",
          "2024"
         ],
         "xaxis": "x6",
         "y": [
          3,
          1,
          4,
          9
         ],
         "yaxis": "y6"
        },
        {
         "marker": {
          "color": "#FF7F50"
         },
         "name": "Feminino",
         "showlegend": false,
         "text": [
          "1",
          "0",
          "2",
          "0"
         ],
         "textposition": "auto",
         "type": "bar",
         "x": [
          "2021",
          "2022",
          "2023",
          "2024"
         ],
         "xaxis": "x7",
         "y": [
          1,
          0,
          2,
          0
         ],
         "yaxis": "y7"
        },
        {
         "marker": {
          "color": "#1E90FF"
         },
         "name": "Masculino",
         "showlegend": false,
         "text": [
          "3",
          "14",
          "13",
          "7"
         ],
         "textposition": "auto",
         "type": "bar",
         "x": [
          "2021",
          "2022",
          "2023",
          "2024"
         ],
         "xaxis": "x7",
         "y": [
          3,
          14,
          13,
          7
         ],
         "yaxis": "y7"
        },
        {
         "marker": {
          "color": "#FF7F50"
         },
         "name": "Feminino",
         "showlegend": false,
         "text": [
          "2",
          "1",
          "5",
          "1"
         ],
         "textposition": "auto",
         "type": "bar",
         "x": [
          "2021",
          "2022",
          "2023",
          "2024"
         ],
         "xaxis": "x8",
         "y": [
          2,
          1,
          5,
          1
         ],
         "yaxis": "y8"
        },
        {
         "marker": {
          "color": "#1E90FF"
         },
         "name": "Masculino",
         "showlegend": false,
         "text": [
          "4",
          "4",
          "9",
          "9"
         ],
         "textposition": "auto",
         "type": "bar",
         "x": [
          "2021",
          "2022",
          "2023",
          "2024"
         ],
         "xaxis": "x8",
         "y": [
          4,
          4,
          9,
          9
         ],
         "yaxis": "y8"
        },
        {
         "marker": {
          "color": "#FF7F50"
         },
         "name": "Feminino",
         "showlegend": false,
         "text": [
          "0",
          "2",
          "2",
          "0"
         ],
         "textposition": "auto",
         "type": "bar",
         "x": [
          "2021",
          "2022",
          "2023",
          "2024"
         ],
         "xaxis": "x9",
         "y": [
          0,
          2,
          2,
          0
         ],
         "yaxis": "y9"
        },
        {
         "marker": {
          "color": "#1E90FF"
         },
         "name": "Masculino",
         "showlegend": false,
         "text": [
          "5",
          "6",
          "6",
          "0"
         ],
         "textposition": "auto",
         "type": "bar",
         "x": [
          "2021",
          "2022",
          "2023",
          "2024"
         ],
         "xaxis": "x9",
         "y": [
          5,
          6,
          6,
          0
         ],
         "yaxis": "y9"
        }
       ],
       "layout": {
        "annotations": [
         {
          "font": {
           "size": 16
          },
          "showarrow": false,
          "text": "Computação / Engenharia de Software / TI",
          "x": 0.14333333333333334,
          "xanchor": "center",
          "xref": "paper",
          "y": 1,
          "yanchor": "bottom",
          "yref": "paper"
         },
         {
          "font": {
           "size": 16
          },
          "showarrow": false,
          "text": "Engenharia (outras)",
          "x": 0.5,
          "xanchor": "center",
          "xref": "paper",
          "y": 1,
          "yanchor": "bottom",
          "yref": "paper"
         },
         {
          "font": {
           "size": 16
          },
          "showarrow": false,
          "text": "Economia / Administração / Finanças / Negócios",
          "x": 0.8566666666666667,
          "xanchor": "center",
          "xref": "paper",
          "y": 1,
          "yanchor": "bottom",
          "yref": "paper"
         },
         {
          "font": {
           "size": 16
          },
          "showarrow": false,
          "text": "Estatística / Matemática / Ciências Atuariais",
          "x": 0.14333333333333334,
          "xanchor": "center",
          "xref": "paper",
          "y": 0.6266666666666667,
          "yanchor": "bottom",
          "yref": "paper"
         },
         {
          "font": {
           "size": 16
          },
          "showarrow": false,
          "text": "Outras",
          "x": 0.5,
          "xanchor": "center",
          "xref": "paper",
          "y": 0.6266666666666667,
          "yanchor": "bottom",
          "yref": "paper"
         },
         {
          "font": {
           "size": 16
          },
          "showarrow": false,
          "text": "Marketing / Comunicação / Jornalismo",
          "x": 0.8566666666666667,
          "xanchor": "center",
          "xref": "paper",
          "y": 0.6266666666666667,
          "yanchor": "bottom",
          "yref": "paper"
         },
         {
          "font": {
           "size": 16
          },
          "showarrow": false,
          "text": "Química / Física",
          "x": 0.14333333333333334,
          "xanchor": "center",
          "xref": "paper",
          "y": 0.25333333333333335,
          "yanchor": "bottom",
          "yref": "paper"
         },
         {
          "font": {
           "size": 16
          },
          "showarrow": false,
          "text": "Ciências Biológicas / Medicina / Saúde",
          "x": 0.5,
          "xanchor": "center",
          "xref": "paper",
          "y": 0.25333333333333335,
          "yanchor": "bottom",
          "yref": "paper"
         },
         {
          "font": {
           "size": 16
          },
          "showarrow": false,
          "text": "Ciências Sociais",
          "x": 0.8566666666666667,
          "xanchor": "center",
          "xref": "paper",
          "y": 0.25333333333333335,
          "yanchor": "bottom",
          "yref": "paper"
         }
        ],
        "barmode": "group",
        "height": 750,
        "legend": {
         "orientation": "h",
         "x": 1,
         "xanchor": "right",
         "y": 1.02,
         "yanchor": "bottom"
        },
        "margin": {
         "b": 50,
         "l": 50,
         "r": 50,
         "t": 80
        },
        "template": {
         "data": {
          "bar": [
           {
            "error_x": {
             "color": "#2a3f5f"
            },
            "error_y": {
             "color": "#2a3f5f"
            },
            "marker": {
             "line": {
              "color": "white",
              "width": 0.5
             },
             "pattern": {
              "fillmode": "overlay",
              "size": 10,
              "solidity": 0.2
             }
            },
            "type": "bar"
           }
          ],
          "barpolar": [
           {
            "marker": {
             "line": {
              "color": "white",
              "width": 0.5
             },
             "pattern": {
              "fillmode": "overlay",
              "size": 10,
              "solidity": 0.2
             }
            },
            "type": "barpolar"
           }
          ],
          "carpet": [
           {
            "aaxis": {
             "endlinecolor": "#2a3f5f",
             "gridcolor": "#C8D4E3",
             "linecolor": "#C8D4E3",
             "minorgridcolor": "#C8D4E3",
             "startlinecolor": "#2a3f5f"
            },
            "baxis": {
             "endlinecolor": "#2a3f5f",
             "gridcolor": "#C8D4E3",
             "linecolor": "#C8D4E3",
             "minorgridcolor": "#C8D4E3",
             "startlinecolor": "#2a3f5f"
            },
            "type": "carpet"
           }
          ],
          "choropleth": [
           {
            "colorbar": {
             "outlinewidth": 0,
             "ticks": ""
            },
            "type": "choropleth"
           }
          ],
          "contour": [
           {
            "colorbar": {
             "outlinewidth": 0,
             "ticks": ""
            },
            "colorscale": [
             [
              0,
              "#0d0887"
             ],
             [
              0.1111111111111111,
              "#46039f"
             ],
             [
              0.2222222222222222,
              "#7201a8"
             ],
             [
              0.3333333333333333,
              "#9c179e"
             ],
             [
              0.4444444444444444,
              "#bd3786"
             ],
             [
              0.5555555555555556,
              "#d8576b"
             ],
             [
              0.6666666666666666,
              "#ed7953"
             ],
             [
              0.7777777777777778,
              "#fb9f3a"
             ],
             [
              0.8888888888888888,
              "#fdca26"
             ],
             [
              1,
              "#f0f921"
             ]
            ],
            "type": "contour"
           }
          ],
          "contourcarpet": [
           {
            "colorbar": {
             "outlinewidth": 0,
             "ticks": ""
            },
            "type": "contourcarpet"
           }
          ],
          "heatmap": [
           {
            "colorbar": {
             "outlinewidth": 0,
             "ticks": ""
            },
            "colorscale": [
             [
              0,
              "#0d0887"
             ],
             [
              0.1111111111111111,
              "#46039f"
             ],
             [
              0.2222222222222222,
              "#7201a8"
             ],
             [
              0.3333333333333333,
              "#9c179e"
             ],
             [
              0.4444444444444444,
              "#bd3786"
             ],
             [
              0.5555555555555556,
              "#d8576b"
             ],
             [
              0.6666666666666666,
              "#ed7953"
             ],
             [
              0.7777777777777778,
              "#fb9f3a"
             ],
             [
              0.8888888888888888,
              "#fdca26"
             ],
             [
              1,
              "#f0f921"
             ]
            ],
            "type": "heatmap"
           }
          ],
          "heatmapgl": [
           {
            "colorbar": {
             "outlinewidth": 0,
             "ticks": ""
            },
            "colorscale": [
             [
              0,
              "#0d0887"
             ],
             [
              0.1111111111111111,
              "#46039f"
             ],
             [
              0.2222222222222222,
              "#7201a8"
             ],
             [
              0.3333333333333333,
              "#9c179e"
             ],
             [
              0.4444444444444444,
              "#bd3786"
             ],
             [
              0.5555555555555556,
              "#d8576b"
             ],
             [
              0.6666666666666666,
              "#ed7953"
             ],
             [
              0.7777777777777778,
              "#fb9f3a"
             ],
             [
              0.8888888888888888,
              "#fdca26"
             ],
             [
              1,
              "#f0f921"
             ]
            ],
            "type": "heatmapgl"
           }
          ],
          "histogram": [
           {
            "marker": {
             "pattern": {
              "fillmode": "overlay",
              "size": 10,
              "solidity": 0.2
             }
            },
            "type": "histogram"
           }
          ],
          "histogram2d": [
           {
            "colorbar": {
             "outlinewidth": 0,
             "ticks": ""
            },
            "colorscale": [
             [
              0,
              "#0d0887"
             ],
             [
              0.1111111111111111,
              "#46039f"
             ],
             [
              0.2222222222222222,
              "#7201a8"
             ],
             [
              0.3333333333333333,
              "#9c179e"
             ],
             [
              0.4444444444444444,
              "#bd3786"
             ],
             [
              0.5555555555555556,
              "#d8576b"
             ],
             [
              0.6666666666666666,
              "#ed7953"
             ],
             [
              0.7777777777777778,
              "#fb9f3a"
             ],
             [
              0.8888888888888888,
              "#fdca26"
             ],
             [
              1,
              "#f0f921"
             ]
            ],
            "type": "histogram2d"
           }
          ],
          "histogram2dcontour": [
           {
            "colorbar": {
             "outlinewidth": 0,
             "ticks": ""
            },
            "colorscale": [
             [
              0,
              "#0d0887"
             ],
             [
              0.1111111111111111,
              "#46039f"
             ],
             [
              0.2222222222222222,
              "#7201a8"
             ],
             [
              0.3333333333333333,
              "#9c179e"
             ],
             [
              0.4444444444444444,
              "#bd3786"
             ],
             [
              0.5555555555555556,
              "#d8576b"
             ],
             [
              0.6666666666666666,
              "#ed7953"
             ],
             [
              0.7777777777777778,
              "#fb9f3a"
             ],
             [
              0.8888888888888888,
              "#fdca26"
             ],
             [
              1,
              "#f0f921"
             ]
            ],
            "type": "histogram2dcontour"
           }
          ],
          "mesh3d": [
           {
            "colorbar": {
             "outlinewidth": 0,
             "ticks": ""
            },
            "type": "mesh3d"
           }
          ],
          "parcoords": [
           {
            "line": {
             "colorbar": {
              "outlinewidth": 0,
              "ticks": ""
             }
            },
            "type": "parcoords"
           }
          ],
          "pie": [
           {
            "automargin": true,
            "type": "pie"
           }
          ],
          "scatter": [
           {
            "fillpattern": {
             "fillmode": "overlay",
             "size": 10,
             "solidity": 0.2
            },
            "type": "scatter"
           }
          ],
          "scatter3d": [
           {
            "line": {
             "colorbar": {
              "outlinewidth": 0,
              "ticks": ""
             }
            },
            "marker": {
             "colorbar": {
              "outlinewidth": 0,
              "ticks": ""
             }
            },
            "type": "scatter3d"
           }
          ],
          "scattercarpet": [
           {
            "marker": {
             "colorbar": {
              "outlinewidth": 0,
              "ticks": ""
             }
            },
            "type": "scattercarpet"
           }
          ],
          "scattergeo": [
           {
            "marker": {
             "colorbar": {
              "outlinewidth": 0,
              "ticks": ""
             }
            },
            "type": "scattergeo"
           }
          ],
          "scattergl": [
           {
            "marker": {
             "colorbar": {
              "outlinewidth": 0,
              "ticks": ""
             }
            },
            "type": "scattergl"
           }
          ],
          "scattermapbox": [
           {
            "marker": {
             "colorbar": {
              "outlinewidth": 0,
              "ticks": ""
             }
            },
            "type": "scattermapbox"
           }
          ],
          "scatterpolar": [
           {
            "marker": {
             "colorbar": {
              "outlinewidth": 0,
              "ticks": ""
             }
            },
            "type": "scatterpolar"
           }
          ],
          "scatterpolargl": [
           {
            "marker": {
             "colorbar": {
              "outlinewidth": 0,
              "ticks": ""
             }
            },
            "type": "scatterpolargl"
           }
          ],
          "scatterternary": [
           {
            "marker": {
             "colorbar": {
              "outlinewidth": 0,
              "ticks": ""
             }
            },
            "type": "scatterternary"
           }
          ],
          "surface": [
           {
            "colorbar": {
             "outlinewidth": 0,
             "ticks": ""
            },
            "colorscale": [
             [
              0,
              "#0d0887"
             ],
             [
              0.1111111111111111,
              "#46039f"
             ],
             [
              0.2222222222222222,
              "#7201a8"
             ],
             [
              0.3333333333333333,
              "#9c179e"
             ],
             [
              0.4444444444444444,
              "#bd3786"
             ],
             [
              0.5555555555555556,
              "#d8576b"
             ],
             [
              0.6666666666666666,
              "#ed7953"
             ],
             [
              0.7777777777777778,
              "#fb9f3a"
             ],
             [
              0.8888888888888888,
              "#fdca26"
             ],
             [
              1,
              "#f0f921"
             ]
            ],
            "type": "surface"
           }
          ],
          "table": [
           {
            "cells": {
             "fill": {
              "color": "#EBF0F8"
             },
             "line": {
              "color": "white"
             }
            },
            "header": {
             "fill": {
              "color": "#C8D4E3"
             },
             "line": {
              "color": "white"
             }
            },
            "type": "table"
           }
          ]
         },
         "layout": {
          "annotationdefaults": {
           "arrowcolor": "#2a3f5f",
           "arrowhead": 0,
           "arrowwidth": 1
          },
          "autotypenumbers": "strict",
          "coloraxis": {
           "colorbar": {
            "outlinewidth": 0,
            "ticks": ""
           }
          },
          "colorscale": {
           "diverging": [
            [
             0,
             "#8e0152"
            ],
            [
             0.1,
             "#c51b7d"
            ],
            [
             0.2,
             "#de77ae"
            ],
            [
             0.3,
             "#f1b6da"
            ],
            [
             0.4,
             "#fde0ef"
            ],
            [
             0.5,
             "#f7f7f7"
            ],
            [
             0.6,
             "#e6f5d0"
            ],
            [
             0.7,
             "#b8e186"
            ],
            [
             0.8,
             "#7fbc41"
            ],
            [
             0.9,
             "#4d9221"
            ],
            [
             1,
             "#276419"
            ]
           ],
           "sequential": [
            [
             0,
             "#0d0887"
            ],
            [
             0.1111111111111111,
             "#46039f"
            ],
            [
             0.2222222222222222,
             "#7201a8"
            ],
            [
             0.3333333333333333,
             "#9c179e"
            ],
            [
             0.4444444444444444,
             "#bd3786"
            ],
            [
             0.5555555555555556,
             "#d8576b"
            ],
            [
             0.6666666666666666,
             "#ed7953"
            ],
            [
             0.7777777777777778,
             "#fb9f3a"
            ],
            [
             0.8888888888888888,
             "#fdca26"
            ],
            [
             1,
             "#f0f921"
            ]
           ],
           "sequentialminus": [
            [
             0,
             "#0d0887"
            ],
            [
             0.1111111111111111,
             "#46039f"
            ],
            [
             0.2222222222222222,
             "#7201a8"
            ],
            [
             0.3333333333333333,
             "#9c179e"
            ],
            [
             0.4444444444444444,
             "#bd3786"
            ],
            [
             0.5555555555555556,
             "#d8576b"
            ],
            [
             0.6666666666666666,
             "#ed7953"
            ],
            [
             0.7777777777777778,
             "#fb9f3a"
            ],
            [
             0.8888888888888888,
             "#fdca26"
            ],
            [
             1,
             "#f0f921"
            ]
           ]
          },
          "colorway": [
           "#636efa",
           "#EF553B",
           "#00cc96",
           "#ab63fa",
           "#FFA15A",
           "#19d3f3",
           "#FF6692",
           "#B6E880",
           "#FF97FF",
           "#FECB52"
          ],
          "font": {
           "color": "#2a3f5f"
          },
          "geo": {
           "bgcolor": "white",
           "lakecolor": "white",
           "landcolor": "white",
           "showlakes": true,
           "showland": true,
           "subunitcolor": "#C8D4E3"
          },
          "hoverlabel": {
           "align": "left"
          },
          "hovermode": "closest",
          "mapbox": {
           "style": "light"
          },
          "paper_bgcolor": "white",
          "plot_bgcolor": "white",
          "polar": {
           "angularaxis": {
            "gridcolor": "#EBF0F8",
            "linecolor": "#EBF0F8",
            "ticks": ""
           },
           "bgcolor": "white",
           "radialaxis": {
            "gridcolor": "#EBF0F8",
            "linecolor": "#EBF0F8",
            "ticks": ""
           }
          },
          "scene": {
           "xaxis": {
            "backgroundcolor": "white",
            "gridcolor": "#DFE8F3",
            "gridwidth": 2,
            "linecolor": "#EBF0F8",
            "showbackground": true,
            "ticks": "",
            "zerolinecolor": "#EBF0F8"
           },
           "yaxis": {
            "backgroundcolor": "white",
            "gridcolor": "#DFE8F3",
            "gridwidth": 2,
            "linecolor": "#EBF0F8",
            "showbackground": true,
            "ticks": "",
            "zerolinecolor": "#EBF0F8"
           },
           "zaxis": {
            "backgroundcolor": "white",
            "gridcolor": "#DFE8F3",
            "gridwidth": 2,
            "linecolor": "#EBF0F8",
            "showbackground": true,
            "ticks": "",
            "zerolinecolor": "#EBF0F8"
           }
          },
          "shapedefaults": {
           "line": {
            "color": "#2a3f5f"
           }
          },
          "ternary": {
           "aaxis": {
            "gridcolor": "#DFE8F3",
            "linecolor": "#A2B1C6",
            "ticks": ""
           },
           "baxis": {
            "gridcolor": "#DFE8F3",
            "linecolor": "#A2B1C6",
            "ticks": ""
           },
           "bgcolor": "white",
           "caxis": {
            "gridcolor": "#DFE8F3",
            "linecolor": "#A2B1C6",
            "ticks": ""
           }
          },
          "title": {
           "x": 0.05
          },
          "xaxis": {
           "automargin": true,
           "gridcolor": "#EBF0F8",
           "linecolor": "#EBF0F8",
           "ticks": "",
           "title": {
            "standoff": 15
           },
           "zerolinecolor": "#EBF0F8",
           "zerolinewidth": 2
          },
          "yaxis": {
           "automargin": true,
           "gridcolor": "#EBF0F8",
           "linecolor": "#EBF0F8",
           "ticks": "",
           "title": {
            "standoff": 15
           },
           "zerolinecolor": "#EBF0F8",
           "zerolinewidth": 2
          }
         }
        },
        "title": {
         "text": "Distribuição de Áreas de Formação por Ano e Gênero"
        },
        "width": 1200,
        "xaxis": {
         "anchor": "y",
         "domain": [
          0,
          0.2866666666666667
         ],
         "matches": "x7",
         "showticklabels": false,
         "tickangle": 45,
         "title": {
          "text": ""
         }
        },
        "xaxis2": {
         "anchor": "y2",
         "domain": [
          0.3566666666666667,
          0.6433333333333333
         ],
         "matches": "x8",
         "showticklabels": false,
         "tickangle": 45,
         "title": {
          "text": ""
         }
        },
        "xaxis3": {
         "anchor": "y3",
         "domain": [
          0.7133333333333334,
          1
         ],
         "matches": "x9",
         "showticklabels": false,
         "tickangle": 45,
         "title": {
          "text": ""
         }
        },
        "xaxis4": {
         "anchor": "y4",
         "domain": [
          0,
          0.2866666666666667
         ],
         "matches": "x7",
         "showticklabels": false,
         "tickangle": 45,
         "title": {
          "text": ""
         }
        },
        "xaxis5": {
         "anchor": "y5",
         "domain": [
          0.3566666666666667,
          0.6433333333333333
         ],
         "matches": "x8",
         "showticklabels": false,
         "tickangle": 45,
         "title": {
          "text": ""
         }
        },
        "xaxis6": {
         "anchor": "y6",
         "domain": [
          0.7133333333333334,
          1
         ],
         "matches": "x9",
         "showticklabels": false,
         "tickangle": 45,
         "title": {
          "text": ""
         }
        },
        "xaxis7": {
         "anchor": "y7",
         "domain": [
          0,
          0.2866666666666667
         ],
         "tickangle": 45,
         "title": {
          "text": "Ano"
         }
        },
        "xaxis8": {
         "anchor": "y8",
         "domain": [
          0.3566666666666667,
          0.6433333333333333
         ],
         "tickangle": 45,
         "title": {
          "text": "Ano"
         }
        },
        "xaxis9": {
         "anchor": "y9",
         "domain": [
          0.7133333333333334,
          1
         ],
         "tickangle": 45,
         "title": {
          "text": "Ano"
         }
        },
        "yaxis": {
         "anchor": "x",
         "domain": [
          0.7466666666666667,
          1
         ],
         "title": {
          "text": "Quantidade"
         }
        },
        "yaxis2": {
         "anchor": "x2",
         "domain": [
          0.7466666666666667,
          1
         ]
        },
        "yaxis3": {
         "anchor": "x3",
         "domain": [
          0.7466666666666667,
          1
         ]
        },
        "yaxis4": {
         "anchor": "x4",
         "domain": [
          0.37333333333333335,
          0.6266666666666667
         ],
         "title": {
          "text": "Quantidade"
         }
        },
        "yaxis5": {
         "anchor": "x5",
         "domain": [
          0.37333333333333335,
          0.6266666666666667
         ]
        },
        "yaxis6": {
         "anchor": "x6",
         "domain": [
          0.37333333333333335,
          0.6266666666666667
         ]
        },
        "yaxis7": {
         "anchor": "x7",
         "domain": [
          0,
          0.25333333333333335
         ],
         "title": {
          "text": "Quantidade"
         }
        },
        "yaxis8": {
         "anchor": "x8",
         "domain": [
          0,
          0.25333333333333335
         ]
        },
        "yaxis9": {
         "anchor": "x9",
         "domain": [
          0,
          0.25333333333333335
         ]
        }
       }
      }
     },
     "metadata": {},
     "output_type": "display_data"
    }
   ],
   "source": [
    "# distribuição area formação x genero\n",
    "\n",
    "df = df_rj[df_rj['area_formacao'] != \"Não classificado\"].copy()\n",
    "\n",
    "df_contagem = df.groupby(['area_formacao', 'ano_pesquisa', 'genero']).size().reset_index(name='contagem')\n",
    "\n",
    "\n",
    "cores = {\"Masculino\": \"#1E90FF\", \"Feminino\": \"#FF7F50\"}\n",
    "\n",
    "\n",
    "areas_unicas = df_contagem.groupby('area_formacao')['contagem'].sum().sort_values(ascending=False).index.tolist()\n",
    "anos = sorted(df_contagem['ano_pesquisa'].unique())\n",
    "generos = [\"Feminino\", \"Masculino\"]\n",
    "\n",
    "\n",
    "n_cols = 3  \n",
    "n_rows = -(-len(areas_unicas) // n_cols)  \n",
    "\n",
    "\n",
    "fig = make_subplots(\n",
    "    rows=n_rows, \n",
    "    cols=n_cols,\n",
    "    subplot_titles=areas_unicas,\n",
    "    shared_xaxes=True,\n",
    "    horizontal_spacing=0.07,\n",
    "    vertical_spacing=0.12\n",
    ")\n",
    "\n",
    "\n",
    "for i, area in enumerate(areas_unicas):\n",
    "    row = i // n_cols + 1\n",
    "    col = i % n_cols + 1\n",
    "    \n",
    "    for genero in generos:\n",
    "        df_filtrado = df_contagem[(df_contagem['area_formacao'] == area) & \n",
    "                                  (df_contagem['genero'] == genero)]\n",
    "        \n",
    "        x_anos = []\n",
    "        y_contagens = []\n",
    "        \n",
    "        for ano in anos:\n",
    "            df_ano = df_filtrado[df_filtrado['ano_pesquisa'] == ano]\n",
    "            y_contagens.append(df_ano['contagem'].values[0] if not df_ano.empty else 0)\n",
    "            x_anos.append(ano)\n",
    "        \n",
    "        fig.add_trace(\n",
    "            go.Bar(\n",
    "                x=x_anos,\n",
    "                y=y_contagens,\n",
    "                name=genero,\n",
    "                marker_color=cores[genero],\n",
    "                text=y_contagens,\n",
    "                textposition='auto',\n",
    "                showlegend=i == 0\n",
    "            ),\n",
    "            row=row, col=col\n",
    "        )\n",
    "\n",
    "fig.update_layout(\n",
    "    title='Distribuição de Áreas de Formação por Ano e Gênero',\n",
    "    height=min(1000, n_rows * 250),\n",
    "    width=1200,\n",
    "    template='plotly_white',\n",
    "    barmode='group',\n",
    "    legend=dict(orientation=\"h\", yanchor=\"bottom\", y=1.02, xanchor=\"right\", x=1),\n",
    "    margin=dict(t=80, b=50, l=50, r=50)\n",
    ")\n",
    "\n",
    "\n",
    "for i in range(1, n_rows + 1):\n",
    "    for j in range(1, n_cols + 1):\n",
    "        if (i-1) * n_cols + j <= len(areas_unicas):\n",
    "            fig.update_xaxes(title_text=\"Ano\" if i == n_rows else \"\", tickangle=45, row=i, col=j)\n",
    "            if j == 1:\n",
    "                fig.update_yaxes(title_text=\"Quantidade\", row=i, col=j)\n",
    "\n",
    "fig.show()\n"
   ]
  },
  {
   "cell_type": "code",
   "execution_count": 32,
   "metadata": {},
   "outputs": [
    {
     "data": {
      "application/vnd.plotly.v1+json": {
       "config": {
        "plotlyServerURL": "https://plot.ly"
       },
       "data": [
        {
         "marker": {
          "color": "#FF7F50"
         },
         "name": "Feminino",
         "orientation": "h",
         "showlegend": true,
         "text": [
          "7",
          "56",
          "159",
          "0",
          "77",
          "23"
         ],
         "textfont": {
          "color": "black"
         },
         "textposition": "outside",
         "type": "bar",
         "x": [
          7,
          56,
          159,
          0,
          77,
          23
         ],
         "xaxis": "x",
         "y": [
          "Não tenho graduação formal",
          "Estudante de Graduação",
          "Graduação/Bacharelado",
          "Especialização Lato Sensu",
          "Mestrado",
          "Doutorado ou Phd"
         ],
         "yaxis": "y"
        },
        {
         "marker": {
          "color": "#1E90FF"
         },
         "name": "Masculino",
         "orientation": "h",
         "showlegend": true,
         "text": [
          "54",
          "330",
          "745",
          "0",
          "267",
          "93"
         ],
         "textfont": {
          "color": "black"
         },
         "textposition": "outside",
         "type": "bar",
         "x": [
          54,
          330,
          745,
          0,
          267,
          93
         ],
         "xaxis": "x",
         "y": [
          "Não tenho graduação formal",
          "Estudante de Graduação",
          "Graduação/Bacharelado",
          "Especialização Lato Sensu",
          "Mestrado",
          "Doutorado ou Phd"
         ],
         "yaxis": "y"
        },
        {
         "marker": {
          "color": "#FF7F50"
         },
         "name": "Feminino",
         "orientation": "h",
         "showlegend": false,
         "text": [
          "24",
          "104",
          "365",
          "0",
          "133",
          "57"
         ],
         "textfont": {
          "color": "black"
         },
         "textposition": "outside",
         "type": "bar",
         "x": [
          24,
          104,
          365,
          0,
          133,
          57
         ],
         "xaxis": "x2",
         "y": [
          "Não tenho graduação formal",
          "Estudante de Graduação",
          "Graduação/Bacharelado",
          "Especialização Lato Sensu",
          "Mestrado",
          "Doutorado ou Phd"
         ],
         "yaxis": "y2"
        },
        {
         "marker": {
          "color": "#1E90FF"
         },
         "name": "Masculino",
         "orientation": "h",
         "showlegend": false,
         "text": [
          "86",
          "506",
          "1138",
          "0",
          "386",
          "134"
         ],
         "textfont": {
          "color": "black"
         },
         "textposition": "outside",
         "type": "bar",
         "x": [
          86,
          506,
          1138,
          0,
          386,
          134
         ],
         "xaxis": "x2",
         "y": [
          "Não tenho graduação formal",
          "Estudante de Graduação",
          "Graduação/Bacharelado",
          "Especialização Lato Sensu",
          "Mestrado",
          "Doutorado ou Phd"
         ],
         "yaxis": "y2"
        },
        {
         "marker": {
          "color": "#FF7F50"
         },
         "name": "Feminino",
         "orientation": "h",
         "showlegend": false,
         "text": [
          "20",
          "132",
          "411",
          "0",
          "196",
          "72"
         ],
         "textfont": {
          "color": "black"
         },
         "textposition": "outside",
         "type": "bar",
         "x": [
          20,
          132,
          411,
          0,
          196,
          72
         ],
         "xaxis": "x3",
         "y": [
          "Não tenho graduação formal",
          "Estudante de Graduação",
          "Graduação/Bacharelado",
          "Especialização Lato Sensu",
          "Mestrado",
          "Doutorado ou Phd"
         ],
         "yaxis": "y3"
        },
        {
         "marker": {
          "color": "#1E90FF"
         },
         "name": "Masculino",
         "orientation": "h",
         "showlegend": false,
         "text": [
          "85",
          "542",
          "1376",
          "0",
          "476",
          "137"
         ],
         "textfont": {
          "color": "black"
         },
         "textposition": "outside",
         "type": "bar",
         "x": [
          85,
          542,
          1376,
          0,
          476,
          137
         ],
         "xaxis": "x3",
         "y": [
          "Não tenho graduação formal",
          "Estudante de Graduação",
          "Graduação/Bacharelado",
          "Especialização Lato Sensu",
          "Mestrado",
          "Doutorado ou Phd"
         ],
         "yaxis": "y3"
        },
        {
         "marker": {
          "color": "#FF7F50"
         },
         "name": "Feminino",
         "orientation": "h",
         "showlegend": false,
         "text": [
          "10",
          "125",
          "355",
          "0",
          "186",
          "66"
         ],
         "textfont": {
          "color": "black"
         },
         "textposition": "outside",
         "type": "bar",
         "x": [
          10,
          125,
          355,
          0,
          186,
          66
         ],
         "xaxis": "x4",
         "y": [
          "Não tenho graduação formal",
          "Estudante de Graduação",
          "Graduação/Bacharelado",
          "Especialização Lato Sensu",
          "Mestrado",
          "Doutorado ou Phd"
         ],
         "yaxis": "y4"
        },
        {
         "marker": {
          "color": "#1E90FF"
         },
         "name": "Masculino",
         "orientation": "h",
         "showlegend": false,
         "text": [
          "75",
          "464",
          "1348",
          "0",
          "472",
          "150"
         ],
         "textfont": {
          "color": "black"
         },
         "textposition": "outside",
         "type": "bar",
         "x": [
          75,
          464,
          1348,
          0,
          472,
          150
         ],
         "xaxis": "x4",
         "y": [
          "Não tenho graduação formal",
          "Estudante de Graduação",
          "Graduação/Bacharelado",
          "Especialização Lato Sensu",
          "Mestrado",
          "Doutorado ou Phd"
         ],
         "yaxis": "y4"
        }
       ],
       "layout": {
        "annotations": [
         {
          "font": {
           "size": 16
          },
          "showarrow": false,
          "text": "2021",
          "x": 0.10625,
          "xanchor": "center",
          "xref": "paper",
          "y": 1,
          "yanchor": "bottom",
          "yref": "paper"
         },
         {
          "font": {
           "size": 16
          },
          "showarrow": false,
          "text": "2022",
          "x": 0.36875,
          "xanchor": "center",
          "xref": "paper",
          "y": 1,
          "yanchor": "bottom",
          "yref": "paper"
         },
         {
          "font": {
           "size": 16
          },
          "showarrow": false,
          "text": "2023",
          "x": 0.6312500000000001,
          "xanchor": "center",
          "xref": "paper",
          "y": 1,
          "yanchor": "bottom",
          "yref": "paper"
         },
         {
          "font": {
           "size": 16
          },
          "showarrow": false,
          "text": "2024",
          "x": 0.89375,
          "xanchor": "center",
          "xref": "paper",
          "y": 1,
          "yanchor": "bottom",
          "yref": "paper"
         }
        ],
        "barmode": "group",
        "height": 800,
        "legend": {
         "orientation": "h",
         "x": 0.5,
         "xanchor": "center",
         "y": 1.02,
         "yanchor": "bottom"
        },
        "template": {
         "data": {
          "bar": [
           {
            "error_x": {
             "color": "#2a3f5f"
            },
            "error_y": {
             "color": "#2a3f5f"
            },
            "marker": {
             "line": {
              "color": "white",
              "width": 0.5
             },
             "pattern": {
              "fillmode": "overlay",
              "size": 10,
              "solidity": 0.2
             }
            },
            "type": "bar"
           }
          ],
          "barpolar": [
           {
            "marker": {
             "line": {
              "color": "white",
              "width": 0.5
             },
             "pattern": {
              "fillmode": "overlay",
              "size": 10,
              "solidity": 0.2
             }
            },
            "type": "barpolar"
           }
          ],
          "carpet": [
           {
            "aaxis": {
             "endlinecolor": "#2a3f5f",
             "gridcolor": "#C8D4E3",
             "linecolor": "#C8D4E3",
             "minorgridcolor": "#C8D4E3",
             "startlinecolor": "#2a3f5f"
            },
            "baxis": {
             "endlinecolor": "#2a3f5f",
             "gridcolor": "#C8D4E3",
             "linecolor": "#C8D4E3",
             "minorgridcolor": "#C8D4E3",
             "startlinecolor": "#2a3f5f"
            },
            "type": "carpet"
           }
          ],
          "choropleth": [
           {
            "colorbar": {
             "outlinewidth": 0,
             "ticks": ""
            },
            "type": "choropleth"
           }
          ],
          "contour": [
           {
            "colorbar": {
             "outlinewidth": 0,
             "ticks": ""
            },
            "colorscale": [
             [
              0,
              "#0d0887"
             ],
             [
              0.1111111111111111,
              "#46039f"
             ],
             [
              0.2222222222222222,
              "#7201a8"
             ],
             [
              0.3333333333333333,
              "#9c179e"
             ],
             [
              0.4444444444444444,
              "#bd3786"
             ],
             [
              0.5555555555555556,
              "#d8576b"
             ],
             [
              0.6666666666666666,
              "#ed7953"
             ],
             [
              0.7777777777777778,
              "#fb9f3a"
             ],
             [
              0.8888888888888888,
              "#fdca26"
             ],
             [
              1,
              "#f0f921"
             ]
            ],
            "type": "contour"
           }
          ],
          "contourcarpet": [
           {
            "colorbar": {
             "outlinewidth": 0,
             "ticks": ""
            },
            "type": "contourcarpet"
           }
          ],
          "heatmap": [
           {
            "colorbar": {
             "outlinewidth": 0,
             "ticks": ""
            },
            "colorscale": [
             [
              0,
              "#0d0887"
             ],
             [
              0.1111111111111111,
              "#46039f"
             ],
             [
              0.2222222222222222,
              "#7201a8"
             ],
             [
              0.3333333333333333,
              "#9c179e"
             ],
             [
              0.4444444444444444,
              "#bd3786"
             ],
             [
              0.5555555555555556,
              "#d8576b"
             ],
             [
              0.6666666666666666,
              "#ed7953"
             ],
             [
              0.7777777777777778,
              "#fb9f3a"
             ],
             [
              0.8888888888888888,
              "#fdca26"
             ],
             [
              1,
              "#f0f921"
             ]
            ],
            "type": "heatmap"
           }
          ],
          "heatmapgl": [
           {
            "colorbar": {
             "outlinewidth": 0,
             "ticks": ""
            },
            "colorscale": [
             [
              0,
              "#0d0887"
             ],
             [
              0.1111111111111111,
              "#46039f"
             ],
             [
              0.2222222222222222,
              "#7201a8"
             ],
             [
              0.3333333333333333,
              "#9c179e"
             ],
             [
              0.4444444444444444,
              "#bd3786"
             ],
             [
              0.5555555555555556,
              "#d8576b"
             ],
             [
              0.6666666666666666,
              "#ed7953"
             ],
             [
              0.7777777777777778,
              "#fb9f3a"
             ],
             [
              0.8888888888888888,
              "#fdca26"
             ],
             [
              1,
              "#f0f921"
             ]
            ],
            "type": "heatmapgl"
           }
          ],
          "histogram": [
           {
            "marker": {
             "pattern": {
              "fillmode": "overlay",
              "size": 10,
              "solidity": 0.2
             }
            },
            "type": "histogram"
           }
          ],
          "histogram2d": [
           {
            "colorbar": {
             "outlinewidth": 0,
             "ticks": ""
            },
            "colorscale": [
             [
              0,
              "#0d0887"
             ],
             [
              0.1111111111111111,
              "#46039f"
             ],
             [
              0.2222222222222222,
              "#7201a8"
             ],
             [
              0.3333333333333333,
              "#9c179e"
             ],
             [
              0.4444444444444444,
              "#bd3786"
             ],
             [
              0.5555555555555556,
              "#d8576b"
             ],
             [
              0.6666666666666666,
              "#ed7953"
             ],
             [
              0.7777777777777778,
              "#fb9f3a"
             ],
             [
              0.8888888888888888,
              "#fdca26"
             ],
             [
              1,
              "#f0f921"
             ]
            ],
            "type": "histogram2d"
           }
          ],
          "histogram2dcontour": [
           {
            "colorbar": {
             "outlinewidth": 0,
             "ticks": ""
            },
            "colorscale": [
             [
              0,
              "#0d0887"
             ],
             [
              0.1111111111111111,
              "#46039f"
             ],
             [
              0.2222222222222222,
              "#7201a8"
             ],
             [
              0.3333333333333333,
              "#9c179e"
             ],
             [
              0.4444444444444444,
              "#bd3786"
             ],
             [
              0.5555555555555556,
              "#d8576b"
             ],
             [
              0.6666666666666666,
              "#ed7953"
             ],
             [
              0.7777777777777778,
              "#fb9f3a"
             ],
             [
              0.8888888888888888,
              "#fdca26"
             ],
             [
              1,
              "#f0f921"
             ]
            ],
            "type": "histogram2dcontour"
           }
          ],
          "mesh3d": [
           {
            "colorbar": {
             "outlinewidth": 0,
             "ticks": ""
            },
            "type": "mesh3d"
           }
          ],
          "parcoords": [
           {
            "line": {
             "colorbar": {
              "outlinewidth": 0,
              "ticks": ""
             }
            },
            "type": "parcoords"
           }
          ],
          "pie": [
           {
            "automargin": true,
            "type": "pie"
           }
          ],
          "scatter": [
           {
            "fillpattern": {
             "fillmode": "overlay",
             "size": 10,
             "solidity": 0.2
            },
            "type": "scatter"
           }
          ],
          "scatter3d": [
           {
            "line": {
             "colorbar": {
              "outlinewidth": 0,
              "ticks": ""
             }
            },
            "marker": {
             "colorbar": {
              "outlinewidth": 0,
              "ticks": ""
             }
            },
            "type": "scatter3d"
           }
          ],
          "scattercarpet": [
           {
            "marker": {
             "colorbar": {
              "outlinewidth": 0,
              "ticks": ""
             }
            },
            "type": "scattercarpet"
           }
          ],
          "scattergeo": [
           {
            "marker": {
             "colorbar": {
              "outlinewidth": 0,
              "ticks": ""
             }
            },
            "type": "scattergeo"
           }
          ],
          "scattergl": [
           {
            "marker": {
             "colorbar": {
              "outlinewidth": 0,
              "ticks": ""
             }
            },
            "type": "scattergl"
           }
          ],
          "scattermapbox": [
           {
            "marker": {
             "colorbar": {
              "outlinewidth": 0,
              "ticks": ""
             }
            },
            "type": "scattermapbox"
           }
          ],
          "scatterpolar": [
           {
            "marker": {
             "colorbar": {
              "outlinewidth": 0,
              "ticks": ""
             }
            },
            "type": "scatterpolar"
           }
          ],
          "scatterpolargl": [
           {
            "marker": {
             "colorbar": {
              "outlinewidth": 0,
              "ticks": ""
             }
            },
            "type": "scatterpolargl"
           }
          ],
          "scatterternary": [
           {
            "marker": {
             "colorbar": {
              "outlinewidth": 0,
              "ticks": ""
             }
            },
            "type": "scatterternary"
           }
          ],
          "surface": [
           {
            "colorbar": {
             "outlinewidth": 0,
             "ticks": ""
            },
            "colorscale": [
             [
              0,
              "#0d0887"
             ],
             [
              0.1111111111111111,
              "#46039f"
             ],
             [
              0.2222222222222222,
              "#7201a8"
             ],
             [
              0.3333333333333333,
              "#9c179e"
             ],
             [
              0.4444444444444444,
              "#bd3786"
             ],
             [
              0.5555555555555556,
              "#d8576b"
             ],
             [
              0.6666666666666666,
              "#ed7953"
             ],
             [
              0.7777777777777778,
              "#fb9f3a"
             ],
             [
              0.8888888888888888,
              "#fdca26"
             ],
             [
              1,
              "#f0f921"
             ]
            ],
            "type": "surface"
           }
          ],
          "table": [
           {
            "cells": {
             "fill": {
              "color": "#EBF0F8"
             },
             "line": {
              "color": "white"
             }
            },
            "header": {
             "fill": {
              "color": "#C8D4E3"
             },
             "line": {
              "color": "white"
             }
            },
            "type": "table"
           }
          ]
         },
         "layout": {
          "annotationdefaults": {
           "arrowcolor": "#2a3f5f",
           "arrowhead": 0,
           "arrowwidth": 1
          },
          "autotypenumbers": "strict",
          "coloraxis": {
           "colorbar": {
            "outlinewidth": 0,
            "ticks": ""
           }
          },
          "colorscale": {
           "diverging": [
            [
             0,
             "#8e0152"
            ],
            [
             0.1,
             "#c51b7d"
            ],
            [
             0.2,
             "#de77ae"
            ],
            [
             0.3,
             "#f1b6da"
            ],
            [
             0.4,
             "#fde0ef"
            ],
            [
             0.5,
             "#f7f7f7"
            ],
            [
             0.6,
             "#e6f5d0"
            ],
            [
             0.7,
             "#b8e186"
            ],
            [
             0.8,
             "#7fbc41"
            ],
            [
             0.9,
             "#4d9221"
            ],
            [
             1,
             "#276419"
            ]
           ],
           "sequential": [
            [
             0,
             "#0d0887"
            ],
            [
             0.1111111111111111,
             "#46039f"
            ],
            [
             0.2222222222222222,
             "#7201a8"
            ],
            [
             0.3333333333333333,
             "#9c179e"
            ],
            [
             0.4444444444444444,
             "#bd3786"
            ],
            [
             0.5555555555555556,
             "#d8576b"
            ],
            [
             0.6666666666666666,
             "#ed7953"
            ],
            [
             0.7777777777777778,
             "#fb9f3a"
            ],
            [
             0.8888888888888888,
             "#fdca26"
            ],
            [
             1,
             "#f0f921"
            ]
           ],
           "sequentialminus": [
            [
             0,
             "#0d0887"
            ],
            [
             0.1111111111111111,
             "#46039f"
            ],
            [
             0.2222222222222222,
             "#7201a8"
            ],
            [
             0.3333333333333333,
             "#9c179e"
            ],
            [
             0.4444444444444444,
             "#bd3786"
            ],
            [
             0.5555555555555556,
             "#d8576b"
            ],
            [
             0.6666666666666666,
             "#ed7953"
            ],
            [
             0.7777777777777778,
             "#fb9f3a"
            ],
            [
             0.8888888888888888,
             "#fdca26"
            ],
            [
             1,
             "#f0f921"
            ]
           ]
          },
          "colorway": [
           "#636efa",
           "#EF553B",
           "#00cc96",
           "#ab63fa",
           "#FFA15A",
           "#19d3f3",
           "#FF6692",
           "#B6E880",
           "#FF97FF",
           "#FECB52"
          ],
          "font": {
           "color": "#2a3f5f"
          },
          "geo": {
           "bgcolor": "white",
           "lakecolor": "white",
           "landcolor": "white",
           "showlakes": true,
           "showland": true,
           "subunitcolor": "#C8D4E3"
          },
          "hoverlabel": {
           "align": "left"
          },
          "hovermode": "closest",
          "mapbox": {
           "style": "light"
          },
          "paper_bgcolor": "white",
          "plot_bgcolor": "white",
          "polar": {
           "angularaxis": {
            "gridcolor": "#EBF0F8",
            "linecolor": "#EBF0F8",
            "ticks": ""
           },
           "bgcolor": "white",
           "radialaxis": {
            "gridcolor": "#EBF0F8",
            "linecolor": "#EBF0F8",
            "ticks": ""
           }
          },
          "scene": {
           "xaxis": {
            "backgroundcolor": "white",
            "gridcolor": "#DFE8F3",
            "gridwidth": 2,
            "linecolor": "#EBF0F8",
            "showbackground": true,
            "ticks": "",
            "zerolinecolor": "#EBF0F8"
           },
           "yaxis": {
            "backgroundcolor": "white",
            "gridcolor": "#DFE8F3",
            "gridwidth": 2,
            "linecolor": "#EBF0F8",
            "showbackground": true,
            "ticks": "",
            "zerolinecolor": "#EBF0F8"
           },
           "zaxis": {
            "backgroundcolor": "white",
            "gridcolor": "#DFE8F3",
            "gridwidth": 2,
            "linecolor": "#EBF0F8",
            "showbackground": true,
            "ticks": "",
            "zerolinecolor": "#EBF0F8"
           }
          },
          "shapedefaults": {
           "line": {
            "color": "#2a3f5f"
           }
          },
          "ternary": {
           "aaxis": {
            "gridcolor": "#DFE8F3",
            "linecolor": "#A2B1C6",
            "ticks": ""
           },
           "baxis": {
            "gridcolor": "#DFE8F3",
            "linecolor": "#A2B1C6",
            "ticks": ""
           },
           "bgcolor": "white",
           "caxis": {
            "gridcolor": "#DFE8F3",
            "linecolor": "#A2B1C6",
            "ticks": ""
           }
          },
          "title": {
           "x": 0.05
          },
          "xaxis": {
           "automargin": true,
           "gridcolor": "#EBF0F8",
           "linecolor": "#EBF0F8",
           "ticks": "",
           "title": {
            "standoff": 15
           },
           "zerolinecolor": "#EBF0F8",
           "zerolinewidth": 2
          },
          "yaxis": {
           "automargin": true,
           "gridcolor": "#EBF0F8",
           "linecolor": "#EBF0F8",
           "ticks": "",
           "title": {
            "standoff": 15
           },
           "zerolinecolor": "#EBF0F8",
           "zerolinewidth": 2
          }
         }
        },
        "title": {
         "text": "Distribuição Absoluta por Gênero em Cada Nível de Formação Acadêmica (2021-2024)"
        },
        "xaxis": {
         "anchor": "y",
         "domain": [
          0,
          0.2125
         ],
         "title": {
          "text": "Quantidade"
         }
        },
        "xaxis2": {
         "anchor": "y2",
         "domain": [
          0.2625,
          0.475
         ]
        },
        "xaxis3": {
         "anchor": "y3",
         "domain": [
          0.525,
          0.7375
         ]
        },
        "xaxis4": {
         "anchor": "y4",
         "domain": [
          0.7875,
          1
         ]
        },
        "yaxis": {
         "anchor": "x",
         "domain": [
          0,
          1
         ],
         "title": {
          "text": "Nível de Formação"
         }
        },
        "yaxis2": {
         "anchor": "x2",
         "domain": [
          0,
          1
         ],
         "matches": "y",
         "showticklabels": false
        },
        "yaxis3": {
         "anchor": "x3",
         "domain": [
          0,
          1
         ],
         "matches": "y",
         "showticklabels": false
        },
        "yaxis4": {
         "anchor": "x4",
         "domain": [
          0,
          1
         ],
         "matches": "y",
         "showticklabels": false
        }
       }
      }
     },
     "metadata": {},
     "output_type": "display_data"
    }
   ],
   "source": [
    "# Distribuição escolaridade x genero - VALORES ABSOLUTOS, BARRAS LADO A LADO, SEM REPETIR NOME DO GÊNERO NO EIXO Y\n",
    "\n",
    "df_grouped = df_unificado.groupby([\"ano_pesquisa\", \"nivel_ensino\", \"genero\"]).size().reset_index(name=\"count\")\n",
    "\n",
    "fig = make_subplots(rows=1, cols=4, shared_yaxes=True, subplot_titles=[\"2021\", \"2022\", \"2023\", \"2024\"])\n",
    "\n",
    "anos = ['2021', '2022', '2023', '2024']\n",
    "cores = {\"Masculino\": \"#1E90FF\", \"Feminino\": \"#FF7F50\"}\n",
    "\n",
    "ordem_niveis = [\n",
    "    'Não tenho graduação formal', \n",
    "    'Estudante de Graduação',\n",
    "    'Graduação/Bacharelado', \n",
    "    'Especialização Lato Sensu',\n",
    "    'Mestrado',\n",
    "    'Doutorado ou Phd'\n",
    "]\n",
    "\n",
    "for i, ano in enumerate(anos):\n",
    "    df_ano = df_grouped[df_grouped[\"ano_pesquisa\"] == ano]\n",
    "    \n",
    "    for genero in [\"Feminino\", \"Masculino\"]:\n",
    "        counts = []\n",
    "        niveis = []\n",
    "        \n",
    "        for nivel in ordem_niveis:\n",
    "            df_nivel = df_ano[(df_ano[\"nivel_ensino\"] == nivel) & (df_ano[\"genero\"] == genero)]\n",
    "            count = df_nivel[\"count\"].values[0] if not df_nivel.empty else 0\n",
    "            counts.append(count)\n",
    "            niveis.append(nivel)\n",
    "        \n",
    "        fig.add_trace(go.Bar(\n",
    "            y=niveis,\n",
    "            x=counts,\n",
    "            name=genero,\n",
    "            orientation=\"h\",\n",
    "            marker=dict(color=cores[genero]),\n",
    "            text=[str(c) for c in counts],\n",
    "            textposition=\"outside\",\n",
    "            textfont=dict(color=\"black\"),\n",
    "            showlegend=True if i == 0 else False\n",
    "        ), row=1, col=i+1)\n",
    "\n",
    "# Configurando layout\n",
    "fig.update_layout(\n",
    "    title=\"Distribuição Absoluta por Gênero em Cada Nível de Formação Acadêmica (2021-2024)\",\n",
    "    xaxis_title=\"Quantidade\",\n",
    "    yaxis_title=\"Nível de Formação\",\n",
    "    barmode=\"group\",  # Barras lado a lado\n",
    "    height=800,\n",
    "    template=\"plotly_white\",\n",
    "    legend=dict(\n",
    "        orientation=\"h\",\n",
    "        yanchor=\"bottom\",\n",
    "        y=1.02,\n",
    "        xanchor=\"center\",\n",
    "        x=0.5\n",
    "    )\n",
    ")\n",
    "\n",
    "fig.show()\n"
   ]
  },
  {
   "cell_type": "code",
   "execution_count": 33,
   "metadata": {},
   "outputs": [
    {
     "name": "stderr",
     "output_type": "stream",
     "text": [
      "C:\\Users\\julli\\AppData\\Local\\Temp\\ipykernel_24260\\2667755927.py:1: FutureWarning:\n",
      "\n",
      "The default of observed=False is deprecated and will be changed to True in a future version of pandas. Pass observed=False to retain current behavior or observed=True to adopt the future default and silence this warning.\n",
      "\n",
      "C:\\Users\\julli\\AppData\\Local\\Temp\\ipykernel_24260\\2667755927.py:4: FutureWarning:\n",
      "\n",
      "The default of observed=False is deprecated and will be changed to True in a future version of pandas. Pass observed=False to retain current behavior or observed=True to adopt the future default and silence this warning.\n",
      "\n"
     ]
    },
    {
     "data": {
      "application/vnd.plotly.v1+json": {
       "config": {
        "plotlyServerURL": "https://plot.ly"
       },
       "data": [
        {
         "marker": {
          "color": "#FF7F50"
         },
         "name": "Feminino",
         "orientation": "h",
         "showlegend": true,
         "text": "0",
         "textangle": 0,
         "textposition": "inside",
         "type": "bar",
         "width": 0.7,
         "x": [
          0
         ],
         "xaxis": "x",
         "y": [
          "Não tenho graduação formal"
         ],
         "yaxis": "y"
        },
        {
         "marker": {
          "color": "#1E90FF"
         },
         "name": "Masculino",
         "orientation": "h",
         "showlegend": true,
         "text": "8",
         "textangle": 0,
         "textposition": "inside",
         "type": "bar",
         "width": 0.7,
         "x": [
          8
         ],
         "xaxis": "x",
         "y": [
          "Não tenho graduação formal"
         ],
         "yaxis": "y"
        },
        {
         "marker": {
          "color": "#FF7F50"
         },
         "name": "Feminino",
         "orientation": "h",
         "showlegend": false,
         "text": "8",
         "textangle": 0,
         "textposition": "inside",
         "type": "bar",
         "width": 0.7,
         "x": [
          8
         ],
         "xaxis": "x",
         "y": [
          "Estudante de Graduação"
         ],
         "yaxis": "y"
        },
        {
         "marker": {
          "color": "#1E90FF"
         },
         "name": "Masculino",
         "orientation": "h",
         "showlegend": false,
         "text": "28",
         "textangle": 0,
         "textposition": "inside",
         "type": "bar",
         "width": 0.7,
         "x": [
          28
         ],
         "xaxis": "x",
         "y": [
          "Estudante de Graduação"
         ],
         "yaxis": "y"
        },
        {
         "marker": {
          "color": "#FF7F50"
         },
         "name": "Feminino",
         "orientation": "h",
         "showlegend": false,
         "text": "10",
         "textangle": 0,
         "textposition": "inside",
         "type": "bar",
         "width": 0.7,
         "x": [
          10
         ],
         "xaxis": "x",
         "y": [
          "Graduação/Bacharelado"
         ],
         "yaxis": "y"
        },
        {
         "marker": {
          "color": "#1E90FF"
         },
         "name": "Masculino",
         "orientation": "h",
         "showlegend": false,
         "text": "52",
         "textangle": 0,
         "textposition": "inside",
         "type": "bar",
         "width": 0.7,
         "x": [
          52
         ],
         "xaxis": "x",
         "y": [
          "Graduação/Bacharelado"
         ],
         "yaxis": "y"
        },
        {
         "marker": {
          "color": "#FF7F50"
         },
         "name": "Feminino",
         "orientation": "h",
         "showlegend": false,
         "text": "10",
         "textangle": 0,
         "textposition": "inside",
         "type": "bar",
         "width": 0.7,
         "x": [
          10
         ],
         "xaxis": "x",
         "y": [
          "Mestrado"
         ],
         "yaxis": "y"
        },
        {
         "marker": {
          "color": "#1E90FF"
         },
         "name": "Masculino",
         "orientation": "h",
         "showlegend": false,
         "text": "30",
         "textangle": 0,
         "textposition": "inside",
         "type": "bar",
         "width": 0.7,
         "x": [
          30
         ],
         "xaxis": "x",
         "y": [
          "Mestrado"
         ],
         "yaxis": "y"
        },
        {
         "marker": {
          "color": "#FF7F50"
         },
         "name": "Feminino",
         "orientation": "h",
         "showlegend": false,
         "text": "3",
         "textangle": 0,
         "textposition": "inside",
         "type": "bar",
         "width": 0.7,
         "x": [
          3
         ],
         "xaxis": "x",
         "y": [
          "Doutorado ou Phd"
         ],
         "yaxis": "y"
        },
        {
         "marker": {
          "color": "#1E90FF"
         },
         "name": "Masculino",
         "orientation": "h",
         "showlegend": false,
         "text": "9",
         "textangle": 0,
         "textposition": "inside",
         "type": "bar",
         "width": 0.7,
         "x": [
          9
         ],
         "xaxis": "x",
         "y": [
          "Doutorado ou Phd"
         ],
         "yaxis": "y"
        },
        {
         "marker": {
          "color": "#FF7F50"
         },
         "name": "Feminino",
         "orientation": "h",
         "showlegend": false,
         "text": "1",
         "textangle": 0,
         "textposition": "inside",
         "type": "bar",
         "width": 0.7,
         "x": [
          1
         ],
         "xaxis": "x2",
         "y": [
          "Não tenho graduação formal"
         ],
         "yaxis": "y2"
        },
        {
         "marker": {
          "color": "#1E90FF"
         },
         "name": "Masculino",
         "orientation": "h",
         "showlegend": false,
         "text": "6",
         "textangle": 0,
         "textposition": "inside",
         "type": "bar",
         "width": 0.7,
         "x": [
          6
         ],
         "xaxis": "x2",
         "y": [
          "Não tenho graduação formal"
         ],
         "yaxis": "y2"
        },
        {
         "marker": {
          "color": "#FF7F50"
         },
         "name": "Feminino",
         "orientation": "h",
         "showlegend": false,
         "text": "8",
         "textangle": 0,
         "textposition": "inside",
         "type": "bar",
         "width": 0.7,
         "x": [
          8
         ],
         "xaxis": "x2",
         "y": [
          "Estudante de Graduação"
         ],
         "yaxis": "y2"
        },
        {
         "marker": {
          "color": "#1E90FF"
         },
         "name": "Masculino",
         "orientation": "h",
         "showlegend": false,
         "text": "47",
         "textangle": 0,
         "textposition": "inside",
         "type": "bar",
         "width": 0.7,
         "x": [
          47
         ],
         "xaxis": "x2",
         "y": [
          "Estudante de Graduação"
         ],
         "yaxis": "y2"
        },
        {
         "marker": {
          "color": "#FF7F50"
         },
         "name": "Feminino",
         "orientation": "h",
         "showlegend": false,
         "text": "26",
         "textangle": 0,
         "textposition": "inside",
         "type": "bar",
         "width": 0.7,
         "x": [
          26
         ],
         "xaxis": "x2",
         "y": [
          "Graduação/Bacharelado"
         ],
         "yaxis": "y2"
        },
        {
         "marker": {
          "color": "#1E90FF"
         },
         "name": "Masculino",
         "orientation": "h",
         "showlegend": false,
         "text": "82",
         "textangle": 0,
         "textposition": "inside",
         "type": "bar",
         "width": 0.7,
         "x": [
          82
         ],
         "xaxis": "x2",
         "y": [
          "Graduação/Bacharelado"
         ],
         "yaxis": "y2"
        },
        {
         "marker": {
          "color": "#FF7F50"
         },
         "name": "Feminino",
         "orientation": "h",
         "showlegend": false,
         "text": "9",
         "textangle": 0,
         "textposition": "inside",
         "type": "bar",
         "width": 0.7,
         "x": [
          9
         ],
         "xaxis": "x2",
         "y": [
          "Mestrado"
         ],
         "yaxis": "y2"
        },
        {
         "marker": {
          "color": "#1E90FF"
         },
         "name": "Masculino",
         "orientation": "h",
         "showlegend": false,
         "text": "41",
         "textangle": 0,
         "textposition": "inside",
         "type": "bar",
         "width": 0.7,
         "x": [
          41
         ],
         "xaxis": "x2",
         "y": [
          "Mestrado"
         ],
         "yaxis": "y2"
        },
        {
         "marker": {
          "color": "#FF7F50"
         },
         "name": "Feminino",
         "orientation": "h",
         "showlegend": false,
         "text": "3",
         "textangle": 0,
         "textposition": "inside",
         "type": "bar",
         "width": 0.7,
         "x": [
          3
         ],
         "xaxis": "x2",
         "y": [
          "Doutorado ou Phd"
         ],
         "yaxis": "y2"
        },
        {
         "marker": {
          "color": "#1E90FF"
         },
         "name": "Masculino",
         "orientation": "h",
         "showlegend": false,
         "text": "8",
         "textangle": 0,
         "textposition": "inside",
         "type": "bar",
         "width": 0.7,
         "x": [
          8
         ],
         "xaxis": "x2",
         "y": [
          "Doutorado ou Phd"
         ],
         "yaxis": "y2"
        },
        {
         "marker": {
          "color": "#FF7F50"
         },
         "name": "Feminino",
         "orientation": "h",
         "showlegend": false,
         "text": "2",
         "textangle": 0,
         "textposition": "inside",
         "type": "bar",
         "width": 0.7,
         "x": [
          2
         ],
         "xaxis": "x3",
         "y": [
          "Não tenho graduação formal"
         ],
         "yaxis": "y3"
        },
        {
         "marker": {
          "color": "#1E90FF"
         },
         "name": "Masculino",
         "orientation": "h",
         "showlegend": false,
         "text": "4",
         "textangle": 0,
         "textposition": "inside",
         "type": "bar",
         "width": 0.7,
         "x": [
          4
         ],
         "xaxis": "x3",
         "y": [
          "Não tenho graduação formal"
         ],
         "yaxis": "y3"
        },
        {
         "marker": {
          "color": "#FF7F50"
         },
         "name": "Feminino",
         "orientation": "h",
         "showlegend": false,
         "text": "10",
         "textangle": 0,
         "textposition": "inside",
         "type": "bar",
         "width": 0.7,
         "x": [
          10
         ],
         "xaxis": "x3",
         "y": [
          "Estudante de Graduação"
         ],
         "yaxis": "y3"
        },
        {
         "marker": {
          "color": "#1E90FF"
         },
         "name": "Masculino",
         "orientation": "h",
         "showlegend": false,
         "text": "57",
         "textangle": 0,
         "textposition": "inside",
         "type": "bar",
         "width": 0.7,
         "x": [
          57
         ],
         "xaxis": "x3",
         "y": [
          "Estudante de Graduação"
         ],
         "yaxis": "y3"
        },
        {
         "marker": {
          "color": "#FF7F50"
         },
         "name": "Feminino",
         "orientation": "h",
         "showlegend": false,
         "text": "33",
         "textangle": 0,
         "textposition": "inside",
         "type": "bar",
         "width": 0.7,
         "x": [
          33
         ],
         "xaxis": "x3",
         "y": [
          "Graduação/Bacharelado"
         ],
         "yaxis": "y3"
        },
        {
         "marker": {
          "color": "#1E90FF"
         },
         "name": "Masculino",
         "orientation": "h",
         "showlegend": false,
         "text": "105",
         "textangle": 0,
         "textposition": "inside",
         "type": "bar",
         "width": 0.7,
         "x": [
          105
         ],
         "xaxis": "x3",
         "y": [
          "Graduação/Bacharelado"
         ],
         "yaxis": "y3"
        },
        {
         "marker": {
          "color": "#FF7F50"
         },
         "name": "Feminino",
         "orientation": "h",
         "showlegend": false,
         "text": "25",
         "textangle": 0,
         "textposition": "inside",
         "type": "bar",
         "width": 0.7,
         "x": [
          25
         ],
         "xaxis": "x3",
         "y": [
          "Mestrado"
         ],
         "yaxis": "y3"
        },
        {
         "marker": {
          "color": "#1E90FF"
         },
         "name": "Masculino",
         "orientation": "h",
         "showlegend": false,
         "text": "47",
         "textangle": 0,
         "textposition": "inside",
         "type": "bar",
         "width": 0.7,
         "x": [
          47
         ],
         "xaxis": "x3",
         "y": [
          "Mestrado"
         ],
         "yaxis": "y3"
        },
        {
         "marker": {
          "color": "#FF7F50"
         },
         "name": "Feminino",
         "orientation": "h",
         "showlegend": false,
         "text": "3",
         "textangle": 0,
         "textposition": "inside",
         "type": "bar",
         "width": 0.7,
         "x": [
          3
         ],
         "xaxis": "x3",
         "y": [
          "Doutorado ou Phd"
         ],
         "yaxis": "y3"
        },
        {
         "marker": {
          "color": "#1E90FF"
         },
         "name": "Masculino",
         "orientation": "h",
         "showlegend": false,
         "text": "13",
         "textangle": 0,
         "textposition": "inside",
         "type": "bar",
         "width": 0.7,
         "x": [
          13
         ],
         "xaxis": "x3",
         "y": [
          "Doutorado ou Phd"
         ],
         "yaxis": "y3"
        },
        {
         "marker": {
          "color": "#FF7F50"
         },
         "name": "Feminino",
         "orientation": "h",
         "showlegend": false,
         "text": "0",
         "textangle": 0,
         "textposition": "inside",
         "type": "bar",
         "width": 0.7,
         "x": [
          0
         ],
         "xaxis": "x4",
         "y": [
          "Não tenho graduação formal"
         ],
         "yaxis": "y4"
        },
        {
         "marker": {
          "color": "#1E90FF"
         },
         "name": "Masculino",
         "orientation": "h",
         "showlegend": false,
         "text": "5",
         "textangle": 0,
         "textposition": "inside",
         "type": "bar",
         "width": 0.7,
         "x": [
          5
         ],
         "xaxis": "x4",
         "y": [
          "Não tenho graduação formal"
         ],
         "yaxis": "y4"
        },
        {
         "marker": {
          "color": "#FF7F50"
         },
         "name": "Feminino",
         "orientation": "h",
         "showlegend": false,
         "text": "9",
         "textangle": 0,
         "textposition": "inside",
         "type": "bar",
         "width": 0.7,
         "x": [
          9
         ],
         "xaxis": "x4",
         "y": [
          "Estudante de Graduação"
         ],
         "yaxis": "y4"
        },
        {
         "marker": {
          "color": "#1E90FF"
         },
         "name": "Masculino",
         "orientation": "h",
         "showlegend": false,
         "text": "38",
         "textangle": 0,
         "textposition": "inside",
         "type": "bar",
         "width": 0.7,
         "x": [
          38
         ],
         "xaxis": "x4",
         "y": [
          "Estudante de Graduação"
         ],
         "yaxis": "y4"
        },
        {
         "marker": {
          "color": "#FF7F50"
         },
         "name": "Feminino",
         "orientation": "h",
         "showlegend": false,
         "text": "31",
         "textangle": 0,
         "textposition": "inside",
         "type": "bar",
         "width": 0.7,
         "x": [
          31
         ],
         "xaxis": "x4",
         "y": [
          "Graduação/Bacharelado"
         ],
         "yaxis": "y4"
        },
        {
         "marker": {
          "color": "#1E90FF"
         },
         "name": "Masculino",
         "orientation": "h",
         "showlegend": false,
         "text": "110",
         "textangle": 0,
         "textposition": "inside",
         "type": "bar",
         "width": 0.7,
         "x": [
          110
         ],
         "xaxis": "x4",
         "y": [
          "Graduação/Bacharelado"
         ],
         "yaxis": "y4"
        },
        {
         "marker": {
          "color": "#FF7F50"
         },
         "name": "Feminino",
         "orientation": "h",
         "showlegend": false,
         "text": "18",
         "textangle": 0,
         "textposition": "inside",
         "type": "bar",
         "width": 0.7,
         "x": [
          18
         ],
         "xaxis": "x4",
         "y": [
          "Mestrado"
         ],
         "yaxis": "y4"
        },
        {
         "marker": {
          "color": "#1E90FF"
         },
         "name": "Masculino",
         "orientation": "h",
         "showlegend": false,
         "text": "38",
         "textangle": 0,
         "textposition": "inside",
         "type": "bar",
         "width": 0.7,
         "x": [
          38
         ],
         "xaxis": "x4",
         "y": [
          "Mestrado"
         ],
         "yaxis": "y4"
        },
        {
         "marker": {
          "color": "#FF7F50"
         },
         "name": "Feminino",
         "orientation": "h",
         "showlegend": false,
         "text": "4",
         "textangle": 0,
         "textposition": "inside",
         "type": "bar",
         "width": 0.7,
         "x": [
          4
         ],
         "xaxis": "x4",
         "y": [
          "Doutorado ou Phd"
         ],
         "yaxis": "y4"
        },
        {
         "marker": {
          "color": "#1E90FF"
         },
         "name": "Masculino",
         "orientation": "h",
         "showlegend": false,
         "text": "13",
         "textangle": 0,
         "textposition": "inside",
         "type": "bar",
         "width": 0.7,
         "x": [
          13
         ],
         "xaxis": "x4",
         "y": [
          "Doutorado ou Phd"
         ],
         "yaxis": "y4"
        }
       ],
       "layout": {
        "annotations": [
         {
          "font": {
           "size": 16
          },
          "showarrow": false,
          "text": "2021",
          "x": 0.10625,
          "xanchor": "center",
          "xref": "paper",
          "y": 1,
          "yanchor": "bottom",
          "yref": "paper"
         },
         {
          "font": {
           "size": 16
          },
          "showarrow": false,
          "text": "2022",
          "x": 0.36875,
          "xanchor": "center",
          "xref": "paper",
          "y": 1,
          "yanchor": "bottom",
          "yref": "paper"
         },
         {
          "font": {
           "size": 16
          },
          "showarrow": false,
          "text": "2023",
          "x": 0.6312500000000001,
          "xanchor": "center",
          "xref": "paper",
          "y": 1,
          "yanchor": "bottom",
          "yref": "paper"
         },
         {
          "font": {
           "size": 16
          },
          "showarrow": false,
          "text": "2024",
          "x": 0.89375,
          "xanchor": "center",
          "xref": "paper",
          "y": 1,
          "yanchor": "bottom",
          "yref": "paper"
         }
        ],
        "bargap": 0.2,
        "bargroupgap": 0.1,
        "barmode": "stack",
        "height": 600,
        "legend": {
         "orientation": "h",
         "x": 0.5,
         "xanchor": "center",
         "y": 1.02,
         "yanchor": "bottom"
        },
        "template": {
         "data": {
          "bar": [
           {
            "error_x": {
             "color": "#2a3f5f"
            },
            "error_y": {
             "color": "#2a3f5f"
            },
            "marker": {
             "line": {
              "color": "white",
              "width": 0.5
             },
             "pattern": {
              "fillmode": "overlay",
              "size": 10,
              "solidity": 0.2
             }
            },
            "type": "bar"
           }
          ],
          "barpolar": [
           {
            "marker": {
             "line": {
              "color": "white",
              "width": 0.5
             },
             "pattern": {
              "fillmode": "overlay",
              "size": 10,
              "solidity": 0.2
             }
            },
            "type": "barpolar"
           }
          ],
          "carpet": [
           {
            "aaxis": {
             "endlinecolor": "#2a3f5f",
             "gridcolor": "#C8D4E3",
             "linecolor": "#C8D4E3",
             "minorgridcolor": "#C8D4E3",
             "startlinecolor": "#2a3f5f"
            },
            "baxis": {
             "endlinecolor": "#2a3f5f",
             "gridcolor": "#C8D4E3",
             "linecolor": "#C8D4E3",
             "minorgridcolor": "#C8D4E3",
             "startlinecolor": "#2a3f5f"
            },
            "type": "carpet"
           }
          ],
          "choropleth": [
           {
            "colorbar": {
             "outlinewidth": 0,
             "ticks": ""
            },
            "type": "choropleth"
           }
          ],
          "contour": [
           {
            "colorbar": {
             "outlinewidth": 0,
             "ticks": ""
            },
            "colorscale": [
             [
              0,
              "#0d0887"
             ],
             [
              0.1111111111111111,
              "#46039f"
             ],
             [
              0.2222222222222222,
              "#7201a8"
             ],
             [
              0.3333333333333333,
              "#9c179e"
             ],
             [
              0.4444444444444444,
              "#bd3786"
             ],
             [
              0.5555555555555556,
              "#d8576b"
             ],
             [
              0.6666666666666666,
              "#ed7953"
             ],
             [
              0.7777777777777778,
              "#fb9f3a"
             ],
             [
              0.8888888888888888,
              "#fdca26"
             ],
             [
              1,
              "#f0f921"
             ]
            ],
            "type": "contour"
           }
          ],
          "contourcarpet": [
           {
            "colorbar": {
             "outlinewidth": 0,
             "ticks": ""
            },
            "type": "contourcarpet"
           }
          ],
          "heatmap": [
           {
            "colorbar": {
             "outlinewidth": 0,
             "ticks": ""
            },
            "colorscale": [
             [
              0,
              "#0d0887"
             ],
             [
              0.1111111111111111,
              "#46039f"
             ],
             [
              0.2222222222222222,
              "#7201a8"
             ],
             [
              0.3333333333333333,
              "#9c179e"
             ],
             [
              0.4444444444444444,
              "#bd3786"
             ],
             [
              0.5555555555555556,
              "#d8576b"
             ],
             [
              0.6666666666666666,
              "#ed7953"
             ],
             [
              0.7777777777777778,
              "#fb9f3a"
             ],
             [
              0.8888888888888888,
              "#fdca26"
             ],
             [
              1,
              "#f0f921"
             ]
            ],
            "type": "heatmap"
           }
          ],
          "heatmapgl": [
           {
            "colorbar": {
             "outlinewidth": 0,
             "ticks": ""
            },
            "colorscale": [
             [
              0,
              "#0d0887"
             ],
             [
              0.1111111111111111,
              "#46039f"
             ],
             [
              0.2222222222222222,
              "#7201a8"
             ],
             [
              0.3333333333333333,
              "#9c179e"
             ],
             [
              0.4444444444444444,
              "#bd3786"
             ],
             [
              0.5555555555555556,
              "#d8576b"
             ],
             [
              0.6666666666666666,
              "#ed7953"
             ],
             [
              0.7777777777777778,
              "#fb9f3a"
             ],
             [
              0.8888888888888888,
              "#fdca26"
             ],
             [
              1,
              "#f0f921"
             ]
            ],
            "type": "heatmapgl"
           }
          ],
          "histogram": [
           {
            "marker": {
             "pattern": {
              "fillmode": "overlay",
              "size": 10,
              "solidity": 0.2
             }
            },
            "type": "histogram"
           }
          ],
          "histogram2d": [
           {
            "colorbar": {
             "outlinewidth": 0,
             "ticks": ""
            },
            "colorscale": [
             [
              0,
              "#0d0887"
             ],
             [
              0.1111111111111111,
              "#46039f"
             ],
             [
              0.2222222222222222,
              "#7201a8"
             ],
             [
              0.3333333333333333,
              "#9c179e"
             ],
             [
              0.4444444444444444,
              "#bd3786"
             ],
             [
              0.5555555555555556,
              "#d8576b"
             ],
             [
              0.6666666666666666,
              "#ed7953"
             ],
             [
              0.7777777777777778,
              "#fb9f3a"
             ],
             [
              0.8888888888888888,
              "#fdca26"
             ],
             [
              1,
              "#f0f921"
             ]
            ],
            "type": "histogram2d"
           }
          ],
          "histogram2dcontour": [
           {
            "colorbar": {
             "outlinewidth": 0,
             "ticks": ""
            },
            "colorscale": [
             [
              0,
              "#0d0887"
             ],
             [
              0.1111111111111111,
              "#46039f"
             ],
             [
              0.2222222222222222,
              "#7201a8"
             ],
             [
              0.3333333333333333,
              "#9c179e"
             ],
             [
              0.4444444444444444,
              "#bd3786"
             ],
             [
              0.5555555555555556,
              "#d8576b"
             ],
             [
              0.6666666666666666,
              "#ed7953"
             ],
             [
              0.7777777777777778,
              "#fb9f3a"
             ],
             [
              0.8888888888888888,
              "#fdca26"
             ],
             [
              1,
              "#f0f921"
             ]
            ],
            "type": "histogram2dcontour"
           }
          ],
          "mesh3d": [
           {
            "colorbar": {
             "outlinewidth": 0,
             "ticks": ""
            },
            "type": "mesh3d"
           }
          ],
          "parcoords": [
           {
            "line": {
             "colorbar": {
              "outlinewidth": 0,
              "ticks": ""
             }
            },
            "type": "parcoords"
           }
          ],
          "pie": [
           {
            "automargin": true,
            "type": "pie"
           }
          ],
          "scatter": [
           {
            "fillpattern": {
             "fillmode": "overlay",
             "size": 10,
             "solidity": 0.2
            },
            "type": "scatter"
           }
          ],
          "scatter3d": [
           {
            "line": {
             "colorbar": {
              "outlinewidth": 0,
              "ticks": ""
             }
            },
            "marker": {
             "colorbar": {
              "outlinewidth": 0,
              "ticks": ""
             }
            },
            "type": "scatter3d"
           }
          ],
          "scattercarpet": [
           {
            "marker": {
             "colorbar": {
              "outlinewidth": 0,
              "ticks": ""
             }
            },
            "type": "scattercarpet"
           }
          ],
          "scattergeo": [
           {
            "marker": {
             "colorbar": {
              "outlinewidth": 0,
              "ticks": ""
             }
            },
            "type": "scattergeo"
           }
          ],
          "scattergl": [
           {
            "marker": {
             "colorbar": {
              "outlinewidth": 0,
              "ticks": ""
             }
            },
            "type": "scattergl"
           }
          ],
          "scattermapbox": [
           {
            "marker": {
             "colorbar": {
              "outlinewidth": 0,
              "ticks": ""
             }
            },
            "type": "scattermapbox"
           }
          ],
          "scatterpolar": [
           {
            "marker": {
             "colorbar": {
              "outlinewidth": 0,
              "ticks": ""
             }
            },
            "type": "scatterpolar"
           }
          ],
          "scatterpolargl": [
           {
            "marker": {
             "colorbar": {
              "outlinewidth": 0,
              "ticks": ""
             }
            },
            "type": "scatterpolargl"
           }
          ],
          "scatterternary": [
           {
            "marker": {
             "colorbar": {
              "outlinewidth": 0,
              "ticks": ""
             }
            },
            "type": "scatterternary"
           }
          ],
          "surface": [
           {
            "colorbar": {
             "outlinewidth": 0,
             "ticks": ""
            },
            "colorscale": [
             [
              0,
              "#0d0887"
             ],
             [
              0.1111111111111111,
              "#46039f"
             ],
             [
              0.2222222222222222,
              "#7201a8"
             ],
             [
              0.3333333333333333,
              "#9c179e"
             ],
             [
              0.4444444444444444,
              "#bd3786"
             ],
             [
              0.5555555555555556,
              "#d8576b"
             ],
             [
              0.6666666666666666,
              "#ed7953"
             ],
             [
              0.7777777777777778,
              "#fb9f3a"
             ],
             [
              0.8888888888888888,
              "#fdca26"
             ],
             [
              1,
              "#f0f921"
             ]
            ],
            "type": "surface"
           }
          ],
          "table": [
           {
            "cells": {
             "fill": {
              "color": "#EBF0F8"
             },
             "line": {
              "color": "white"
             }
            },
            "header": {
             "fill": {
              "color": "#C8D4E3"
             },
             "line": {
              "color": "white"
             }
            },
            "type": "table"
           }
          ]
         },
         "layout": {
          "annotationdefaults": {
           "arrowcolor": "#2a3f5f",
           "arrowhead": 0,
           "arrowwidth": 1
          },
          "autotypenumbers": "strict",
          "coloraxis": {
           "colorbar": {
            "outlinewidth": 0,
            "ticks": ""
           }
          },
          "colorscale": {
           "diverging": [
            [
             0,
             "#8e0152"
            ],
            [
             0.1,
             "#c51b7d"
            ],
            [
             0.2,
             "#de77ae"
            ],
            [
             0.3,
             "#f1b6da"
            ],
            [
             0.4,
             "#fde0ef"
            ],
            [
             0.5,
             "#f7f7f7"
            ],
            [
             0.6,
             "#e6f5d0"
            ],
            [
             0.7,
             "#b8e186"
            ],
            [
             0.8,
             "#7fbc41"
            ],
            [
             0.9,
             "#4d9221"
            ],
            [
             1,
             "#276419"
            ]
           ],
           "sequential": [
            [
             0,
             "#0d0887"
            ],
            [
             0.1111111111111111,
             "#46039f"
            ],
            [
             0.2222222222222222,
             "#7201a8"
            ],
            [
             0.3333333333333333,
             "#9c179e"
            ],
            [
             0.4444444444444444,
             "#bd3786"
            ],
            [
             0.5555555555555556,
             "#d8576b"
            ],
            [
             0.6666666666666666,
             "#ed7953"
            ],
            [
             0.7777777777777778,
             "#fb9f3a"
            ],
            [
             0.8888888888888888,
             "#fdca26"
            ],
            [
             1,
             "#f0f921"
            ]
           ],
           "sequentialminus": [
            [
             0,
             "#0d0887"
            ],
            [
             0.1111111111111111,
             "#46039f"
            ],
            [
             0.2222222222222222,
             "#7201a8"
            ],
            [
             0.3333333333333333,
             "#9c179e"
            ],
            [
             0.4444444444444444,
             "#bd3786"
            ],
            [
             0.5555555555555556,
             "#d8576b"
            ],
            [
             0.6666666666666666,
             "#ed7953"
            ],
            [
             0.7777777777777778,
             "#fb9f3a"
            ],
            [
             0.8888888888888888,
             "#fdca26"
            ],
            [
             1,
             "#f0f921"
            ]
           ]
          },
          "colorway": [
           "#636efa",
           "#EF553B",
           "#00cc96",
           "#ab63fa",
           "#FFA15A",
           "#19d3f3",
           "#FF6692",
           "#B6E880",
           "#FF97FF",
           "#FECB52"
          ],
          "font": {
           "color": "#2a3f5f"
          },
          "geo": {
           "bgcolor": "white",
           "lakecolor": "white",
           "landcolor": "white",
           "showlakes": true,
           "showland": true,
           "subunitcolor": "#C8D4E3"
          },
          "hoverlabel": {
           "align": "left"
          },
          "hovermode": "closest",
          "mapbox": {
           "style": "light"
          },
          "paper_bgcolor": "white",
          "plot_bgcolor": "white",
          "polar": {
           "angularaxis": {
            "gridcolor": "#EBF0F8",
            "linecolor": "#EBF0F8",
            "ticks": ""
           },
           "bgcolor": "white",
           "radialaxis": {
            "gridcolor": "#EBF0F8",
            "linecolor": "#EBF0F8",
            "ticks": ""
           }
          },
          "scene": {
           "xaxis": {
            "backgroundcolor": "white",
            "gridcolor": "#DFE8F3",
            "gridwidth": 2,
            "linecolor": "#EBF0F8",
            "showbackground": true,
            "ticks": "",
            "zerolinecolor": "#EBF0F8"
           },
           "yaxis": {
            "backgroundcolor": "white",
            "gridcolor": "#DFE8F3",
            "gridwidth": 2,
            "linecolor": "#EBF0F8",
            "showbackground": true,
            "ticks": "",
            "zerolinecolor": "#EBF0F8"
           },
           "zaxis": {
            "backgroundcolor": "white",
            "gridcolor": "#DFE8F3",
            "gridwidth": 2,
            "linecolor": "#EBF0F8",
            "showbackground": true,
            "ticks": "",
            "zerolinecolor": "#EBF0F8"
           }
          },
          "shapedefaults": {
           "line": {
            "color": "#2a3f5f"
           }
          },
          "ternary": {
           "aaxis": {
            "gridcolor": "#DFE8F3",
            "linecolor": "#A2B1C6",
            "ticks": ""
           },
           "baxis": {
            "gridcolor": "#DFE8F3",
            "linecolor": "#A2B1C6",
            "ticks": ""
           },
           "bgcolor": "white",
           "caxis": {
            "gridcolor": "#DFE8F3",
            "linecolor": "#A2B1C6",
            "ticks": ""
           }
          },
          "title": {
           "x": 0.05
          },
          "xaxis": {
           "automargin": true,
           "gridcolor": "#EBF0F8",
           "linecolor": "#EBF0F8",
           "ticks": "",
           "title": {
            "standoff": 15
           },
           "zerolinecolor": "#EBF0F8",
           "zerolinewidth": 2
          },
          "yaxis": {
           "automargin": true,
           "gridcolor": "#EBF0F8",
           "linecolor": "#EBF0F8",
           "ticks": "",
           "title": {
            "standoff": 15
           },
           "zerolinecolor": "#EBF0F8",
           "zerolinewidth": 2
          }
         }
        },
        "title": {
         "text": "Distribuição por Gênero em Cada Nível de Formação Acadêmica (2021-2023)"
        },
        "uniformtext": {
         "minsize": 10,
         "mode": "hide"
        },
        "xaxis": {
         "anchor": "y",
         "domain": [
          0,
          0.2125
         ],
         "range": [
          0,
          121.00000000000001
         ],
         "tickformat": ",d",
         "title": {
          "text": "Contagem Absoluta"
         }
        },
        "xaxis2": {
         "anchor": "y2",
         "domain": [
          0.2625,
          0.475
         ],
         "range": [
          0,
          121.00000000000001
         ],
         "tickformat": ",d"
        },
        "xaxis3": {
         "anchor": "y3",
         "domain": [
          0.525,
          0.7375
         ],
         "range": [
          0,
          121.00000000000001
         ],
         "tickformat": ",d"
        },
        "xaxis4": {
         "anchor": "y4",
         "domain": [
          0.7875,
          1
         ],
         "range": [
          0,
          121.00000000000001
         ],
         "tickformat": ",d"
        },
        "yaxis": {
         "anchor": "x",
         "categoryarray": [
          "Não tenho graduação formal",
          "Estudante de Graduação",
          "Graduação/Bacharelado",
          "Pós-graduação",
          "Mestrado",
          "Doutorado ou Phd"
         ],
         "categoryorder": "array",
         "domain": [
          0,
          1
         ],
         "title": {
          "text": "Nível de Formação"
         }
        },
        "yaxis2": {
         "anchor": "x2",
         "categoryarray": [
          "Não tenho graduação formal",
          "Estudante de Graduação",
          "Graduação/Bacharelado",
          "Pós-graduação",
          "Mestrado",
          "Doutorado ou Phd"
         ],
         "categoryorder": "array",
         "domain": [
          0,
          1
         ],
         "matches": "y",
         "showticklabels": false
        },
        "yaxis3": {
         "anchor": "x3",
         "categoryarray": [
          "Não tenho graduação formal",
          "Estudante de Graduação",
          "Graduação/Bacharelado",
          "Pós-graduação",
          "Mestrado",
          "Doutorado ou Phd"
         ],
         "categoryorder": "array",
         "domain": [
          0,
          1
         ],
         "matches": "y",
         "showticklabels": false
        },
        "yaxis4": {
         "anchor": "x4",
         "categoryarray": [
          "Não tenho graduação formal",
          "Estudante de Graduação",
          "Graduação/Bacharelado",
          "Pós-graduação",
          "Mestrado",
          "Doutorado ou Phd"
         ],
         "categoryorder": "array",
         "domain": [
          0,
          1
         ],
         "matches": "y",
         "showticklabels": false
        }
       }
      }
     },
     "metadata": {},
     "output_type": "display_data"
    }
   ],
   "source": [
    "df_grouped = df_rj.groupby([\"ano_pesquisa\", \"nivel_ensino\", \"genero\"]).size().reset_index(name=\"count\")\n",
    "\n",
    "# Não precisamos mais calcular a proporção, mas podemos manter os totais por nível para referência\n",
    "totais_por_ano_nivel = df_rj.groupby([\"ano_pesquisa\", \"nivel_ensino\"]).size().reset_index(name=\"total_nivel\")\n",
    "df_grouped = df_grouped.merge(totais_por_ano_nivel, on=[\"ano_pesquisa\", \"nivel_ensino\"])\n",
    "\n",
    "fig = make_subplots(rows=1, cols=4, shared_yaxes=True, subplot_titles=[\"2021\", \"2022\", \"2023\", \"2024\"])\n",
    "\n",
    "anos = ['2021', '2022', '2023', '2024']\n",
    "cores = {\"Masculino\": \"#1E90FF\", \"Feminino\": \"#FF7F50\"}\n",
    "\n",
    "ordem_niveis = [\n",
    "    'Não tenho graduação formal', \n",
    "    'Estudante de Graduação',\n",
    "    'Graduação/Bacharelado', \n",
    "    'Pós-graduação',\n",
    "    'Mestrado',\n",
    "    'Doutorado ou Phd'\n",
    "]\n",
    "\n",
    "# Definir uma largura fixa para as barras\n",
    "largura_barra = 0.7\n",
    "\n",
    "for i, ano in enumerate(anos):\n",
    "   \n",
    "    df_ano = df_grouped[df_grouped[\"ano_pesquisa\"] == ano]\n",
    "    \n",
    "    for nivel in ordem_niveis:\n",
    "        df_nivel = df_ano[df_ano[\"nivel_ensino\"] == nivel]\n",
    "        \n",
    "        if df_nivel.empty:\n",
    "            continue\n",
    "        \n",
    "        # Usando valores absolutos (count) em vez de proporção\n",
    "        contagens = {genero: df_nivel[df_nivel[\"genero\"] == genero][\"count\"].values[0] \n",
    "                      if not df_nivel[df_nivel[\"genero\"] == genero].empty else 0 \n",
    "                      for genero in [\"Masculino\", \"Feminino\"]}\n",
    "        \n",
    "        for genero in [\"Feminino\", \"Masculino\"]:\n",
    "            fig.add_trace(go.Bar(\n",
    "                y=[nivel],\n",
    "                x=[contagens[genero]],\n",
    "                name=genero,\n",
    "                orientation=\"h\",\n",
    "                marker=dict(color=cores[genero]),\n",
    "                text=f\"{int(contagens[genero])}\",  # Formatando como número inteiro\n",
    "                textposition=\"inside\",\n",
    "                textangle=0,  # Garantindo que o texto esteja na horizontal\n",
    "                width=largura_barra,  # Definindo uma largura fixa para todas as barras\n",
    "                showlegend=True if i == 0 and nivel == ordem_niveis[0] else False\n",
    "            ), row=1, col=i+1)\n",
    "\n",
    "# Configurando layout\n",
    "fig.update_layout(\n",
    "    title=\"Distribuição por Gênero em Cada Nível de Formação Acadêmica (2021-2023)\",\n",
    "    xaxis_title=\"Contagem Absoluta\",\n",
    "    yaxis_title=\"Nível de Formação\",\n",
    "    barmode=\"stack\",\n",
    "    height=600,\n",
    "    template=\"plotly_white\",\n",
    "    legend=dict(\n",
    "        orientation=\"h\",\n",
    "        yanchor=\"bottom\",\n",
    "        y=1.02,\n",
    "        xanchor=\"center\",\n",
    "        x=0.5\n",
    "    ),\n",
    "    uniformtext_minsize=10,  # Tamanho mínimo do texto para garantir legibilidade\n",
    "    uniformtext_mode='hide',  # Esconde o texto se não couber na barra\n",
    "    bargap=0.2,  # Espaçamento entre grupos de barras\n",
    "    bargroupgap=0.1  # Espaçamento entre barras do mesmo grupo\n",
    ")\n",
    "\n",
    "# Ajustando os eixos X e configurando uniformidade entre os subplots\n",
    "max_value = df_grouped[\"count\"].max() * 1.1  # 10% a mais para dar margem\n",
    "\n",
    "for i in range(1, 5):\n",
    "    fig.update_xaxes(\n",
    "        row=1, \n",
    "        col=i, \n",
    "        range=[0, max_value],  # Definindo a mesma escala para todos os gráficos\n",
    "        tickformat=\",d\"  # Formato para inteiros com separador de milhar\n",
    "    )\n",
    "\n",
    "# Definindo a mesma escala para o eixo Y em todos os subplots\n",
    "fig.update_yaxes(\n",
    "    categoryorder='array',\n",
    "    categoryarray=ordem_niveis\n",
    ")\n",
    "    \n",
    "fig.show()"
   ]
  },
  {
   "cell_type": "code",
   "execution_count": 34,
   "metadata": {},
   "outputs": [
    {
     "name": "stderr",
     "output_type": "stream",
     "text": [
      "C:\\Users\\julli\\AppData\\Local\\Temp\\ipykernel_24260\\3848518457.py:1: FutureWarning:\n",
      "\n",
      "The default of observed=False is deprecated and will be changed to True in a future version of pandas. Pass observed=False to retain current behavior or observed=True to adopt the future default and silence this warning.\n",
      "\n"
     ]
    },
    {
     "data": {
      "application/vnd.plotly.v1+json": {
       "config": {
        "plotlyServerURL": "https://plot.ly"
       },
       "data": [
        {
         "marker": {
          "color": "#FF7F50"
         },
         "name": "Feminino",
         "orientation": "h",
         "showlegend": true,
         "text": [
          "0",
          "8",
          "10",
          "13",
          "10",
          "3"
         ],
         "textfont": {
          "color": "black",
          "size": 10
         },
         "textposition": "outside",
         "type": "bar",
         "x": [
          0,
          8,
          10,
          13,
          10,
          3
         ],
         "xaxis": "x",
         "y": [
          "Não tenho graduação formal",
          "Estudante de Graduação",
          "Graduação/Bacharelado",
          "Especialização Lato Sensu",
          "Mestrado",
          "Doutorado ou Phd"
         ],
         "yaxis": "y"
        },
        {
         "marker": {
          "color": "#1E90FF"
         },
         "name": "Masculino",
         "orientation": "h",
         "showlegend": true,
         "text": [
          "8",
          "28",
          "52",
          "50",
          "30",
          "9"
         ],
         "textfont": {
          "color": "black",
          "size": 10
         },
         "textposition": "outside",
         "type": "bar",
         "x": [
          8,
          28,
          52,
          50,
          30,
          9
         ],
         "xaxis": "x",
         "y": [
          "Não tenho graduação formal",
          "Estudante de Graduação",
          "Graduação/Bacharelado",
          "Especialização Lato Sensu",
          "Mestrado",
          "Doutorado ou Phd"
         ],
         "yaxis": "y"
        },
        {
         "marker": {
          "color": "#FF7F50"
         },
         "name": "Feminino",
         "orientation": "h",
         "showlegend": false,
         "text": [
          "1",
          "8",
          "26",
          "30",
          "9",
          "3"
         ],
         "textfont": {
          "color": "black",
          "size": 10
         },
         "textposition": "outside",
         "type": "bar",
         "x": [
          1,
          8,
          26,
          30,
          9,
          3
         ],
         "xaxis": "x2",
         "y": [
          "Não tenho graduação formal",
          "Estudante de Graduação",
          "Graduação/Bacharelado",
          "Especialização Lato Sensu",
          "Mestrado",
          "Doutorado ou Phd"
         ],
         "yaxis": "y2"
        },
        {
         "marker": {
          "color": "#1E90FF"
         },
         "name": "Masculino",
         "orientation": "h",
         "showlegend": false,
         "text": [
          "6",
          "47",
          "82",
          "73",
          "41",
          "8"
         ],
         "textfont": {
          "color": "black",
          "size": 10
         },
         "textposition": "outside",
         "type": "bar",
         "x": [
          6,
          47,
          82,
          73,
          41,
          8
         ],
         "xaxis": "x2",
         "y": [
          "Não tenho graduação formal",
          "Estudante de Graduação",
          "Graduação/Bacharelado",
          "Especialização Lato Sensu",
          "Mestrado",
          "Doutorado ou Phd"
         ],
         "yaxis": "y2"
        },
        {
         "marker": {
          "color": "#FF7F50"
         },
         "name": "Feminino",
         "orientation": "h",
         "showlegend": false,
         "text": [
          "2",
          "10",
          "33",
          "36",
          "25",
          "3"
         ],
         "textfont": {
          "color": "black",
          "size": 10
         },
         "textposition": "outside",
         "type": "bar",
         "x": [
          2,
          10,
          33,
          36,
          25,
          3
         ],
         "xaxis": "x3",
         "y": [
          "Não tenho graduação formal",
          "Estudante de Graduação",
          "Graduação/Bacharelado",
          "Especialização Lato Sensu",
          "Mestrado",
          "Doutorado ou Phd"
         ],
         "yaxis": "y3"
        },
        {
         "marker": {
          "color": "#1E90FF"
         },
         "name": "Masculino",
         "orientation": "h",
         "showlegend": false,
         "text": [
          "4",
          "57",
          "105",
          "100",
          "47",
          "13"
         ],
         "textfont": {
          "color": "black",
          "size": 10
         },
         "textposition": "outside",
         "type": "bar",
         "x": [
          4,
          57,
          105,
          100,
          47,
          13
         ],
         "xaxis": "x3",
         "y": [
          "Não tenho graduação formal",
          "Estudante de Graduação",
          "Graduação/Bacharelado",
          "Especialização Lato Sensu",
          "Mestrado",
          "Doutorado ou Phd"
         ],
         "yaxis": "y3"
        },
        {
         "marker": {
          "color": "#FF7F50"
         },
         "name": "Feminino",
         "orientation": "h",
         "showlegend": false,
         "text": [
          "0",
          "9",
          "31",
          "39",
          "18",
          "4"
         ],
         "textfont": {
          "color": "black",
          "size": 10
         },
         "textposition": "outside",
         "type": "bar",
         "x": [
          0,
          9,
          31,
          39,
          18,
          4
         ],
         "xaxis": "x4",
         "y": [
          "Não tenho graduação formal",
          "Estudante de Graduação",
          "Graduação/Bacharelado",
          "Especialização Lato Sensu",
          "Mestrado",
          "Doutorado ou Phd"
         ],
         "yaxis": "y4"
        },
        {
         "marker": {
          "color": "#1E90FF"
         },
         "name": "Masculino",
         "orientation": "h",
         "showlegend": false,
         "text": [
          "5",
          "38",
          "110",
          "87",
          "38",
          "13"
         ],
         "textfont": {
          "color": "black",
          "size": 10
         },
         "textposition": "outside",
         "type": "bar",
         "x": [
          5,
          38,
          110,
          87,
          38,
          13
         ],
         "xaxis": "x4",
         "y": [
          "Não tenho graduação formal",
          "Estudante de Graduação",
          "Graduação/Bacharelado",
          "Especialização Lato Sensu",
          "Mestrado",
          "Doutorado ou Phd"
         ],
         "yaxis": "y4"
        }
       ],
       "layout": {
        "annotations": [
         {
          "font": {
           "size": 16
          },
          "showarrow": false,
          "text": "2021",
          "x": 0.09875,
          "xanchor": "center",
          "xref": "paper",
          "y": 1,
          "yanchor": "bottom",
          "yref": "paper"
         },
         {
          "font": {
           "size": 16
          },
          "showarrow": false,
          "text": "2022",
          "x": 0.36625,
          "xanchor": "center",
          "xref": "paper",
          "y": 1,
          "yanchor": "bottom",
          "yref": "paper"
         },
         {
          "font": {
           "size": 16
          },
          "showarrow": false,
          "text": "2023",
          "x": 0.63375,
          "xanchor": "center",
          "xref": "paper",
          "y": 1,
          "yanchor": "bottom",
          "yref": "paper"
         },
         {
          "font": {
           "size": 16
          },
          "showarrow": false,
          "text": "2024",
          "x": 0.90125,
          "xanchor": "center",
          "xref": "paper",
          "y": 1,
          "yanchor": "bottom",
          "yref": "paper"
         }
        ],
        "barmode": "group",
        "font": {
         "size": 11
        },
        "height": 800,
        "legend": {
         "font": {
          "size": 10
         },
         "orientation": "h",
         "x": 0.5,
         "xanchor": "center",
         "y": 1.02,
         "yanchor": "bottom"
        },
        "template": {
         "data": {
          "bar": [
           {
            "error_x": {
             "color": "#2a3f5f"
            },
            "error_y": {
             "color": "#2a3f5f"
            },
            "marker": {
             "line": {
              "color": "white",
              "width": 0.5
             },
             "pattern": {
              "fillmode": "overlay",
              "size": 10,
              "solidity": 0.2
             }
            },
            "type": "bar"
           }
          ],
          "barpolar": [
           {
            "marker": {
             "line": {
              "color": "white",
              "width": 0.5
             },
             "pattern": {
              "fillmode": "overlay",
              "size": 10,
              "solidity": 0.2
             }
            },
            "type": "barpolar"
           }
          ],
          "carpet": [
           {
            "aaxis": {
             "endlinecolor": "#2a3f5f",
             "gridcolor": "#C8D4E3",
             "linecolor": "#C8D4E3",
             "minorgridcolor": "#C8D4E3",
             "startlinecolor": "#2a3f5f"
            },
            "baxis": {
             "endlinecolor": "#2a3f5f",
             "gridcolor": "#C8D4E3",
             "linecolor": "#C8D4E3",
             "minorgridcolor": "#C8D4E3",
             "startlinecolor": "#2a3f5f"
            },
            "type": "carpet"
           }
          ],
          "choropleth": [
           {
            "colorbar": {
             "outlinewidth": 0,
             "ticks": ""
            },
            "type": "choropleth"
           }
          ],
          "contour": [
           {
            "colorbar": {
             "outlinewidth": 0,
             "ticks": ""
            },
            "colorscale": [
             [
              0,
              "#0d0887"
             ],
             [
              0.1111111111111111,
              "#46039f"
             ],
             [
              0.2222222222222222,
              "#7201a8"
             ],
             [
              0.3333333333333333,
              "#9c179e"
             ],
             [
              0.4444444444444444,
              "#bd3786"
             ],
             [
              0.5555555555555556,
              "#d8576b"
             ],
             [
              0.6666666666666666,
              "#ed7953"
             ],
             [
              0.7777777777777778,
              "#fb9f3a"
             ],
             [
              0.8888888888888888,
              "#fdca26"
             ],
             [
              1,
              "#f0f921"
             ]
            ],
            "type": "contour"
           }
          ],
          "contourcarpet": [
           {
            "colorbar": {
             "outlinewidth": 0,
             "ticks": ""
            },
            "type": "contourcarpet"
           }
          ],
          "heatmap": [
           {
            "colorbar": {
             "outlinewidth": 0,
             "ticks": ""
            },
            "colorscale": [
             [
              0,
              "#0d0887"
             ],
             [
              0.1111111111111111,
              "#46039f"
             ],
             [
              0.2222222222222222,
              "#7201a8"
             ],
             [
              0.3333333333333333,
              "#9c179e"
             ],
             [
              0.4444444444444444,
              "#bd3786"
             ],
             [
              0.5555555555555556,
              "#d8576b"
             ],
             [
              0.6666666666666666,
              "#ed7953"
             ],
             [
              0.7777777777777778,
              "#fb9f3a"
             ],
             [
              0.8888888888888888,
              "#fdca26"
             ],
             [
              1,
              "#f0f921"
             ]
            ],
            "type": "heatmap"
           }
          ],
          "heatmapgl": [
           {
            "colorbar": {
             "outlinewidth": 0,
             "ticks": ""
            },
            "colorscale": [
             [
              0,
              "#0d0887"
             ],
             [
              0.1111111111111111,
              "#46039f"
             ],
             [
              0.2222222222222222,
              "#7201a8"
             ],
             [
              0.3333333333333333,
              "#9c179e"
             ],
             [
              0.4444444444444444,
              "#bd3786"
             ],
             [
              0.5555555555555556,
              "#d8576b"
             ],
             [
              0.6666666666666666,
              "#ed7953"
             ],
             [
              0.7777777777777778,
              "#fb9f3a"
             ],
             [
              0.8888888888888888,
              "#fdca26"
             ],
             [
              1,
              "#f0f921"
             ]
            ],
            "type": "heatmapgl"
           }
          ],
          "histogram": [
           {
            "marker": {
             "pattern": {
              "fillmode": "overlay",
              "size": 10,
              "solidity": 0.2
             }
            },
            "type": "histogram"
           }
          ],
          "histogram2d": [
           {
            "colorbar": {
             "outlinewidth": 0,
             "ticks": ""
            },
            "colorscale": [
             [
              0,
              "#0d0887"
             ],
             [
              0.1111111111111111,
              "#46039f"
             ],
             [
              0.2222222222222222,
              "#7201a8"
             ],
             [
              0.3333333333333333,
              "#9c179e"
             ],
             [
              0.4444444444444444,
              "#bd3786"
             ],
             [
              0.5555555555555556,
              "#d8576b"
             ],
             [
              0.6666666666666666,
              "#ed7953"
             ],
             [
              0.7777777777777778,
              "#fb9f3a"
             ],
             [
              0.8888888888888888,
              "#fdca26"
             ],
             [
              1,
              "#f0f921"
             ]
            ],
            "type": "histogram2d"
           }
          ],
          "histogram2dcontour": [
           {
            "colorbar": {
             "outlinewidth": 0,
             "ticks": ""
            },
            "colorscale": [
             [
              0,
              "#0d0887"
             ],
             [
              0.1111111111111111,
              "#46039f"
             ],
             [
              0.2222222222222222,
              "#7201a8"
             ],
             [
              0.3333333333333333,
              "#9c179e"
             ],
             [
              0.4444444444444444,
              "#bd3786"
             ],
             [
              0.5555555555555556,
              "#d8576b"
             ],
             [
              0.6666666666666666,
              "#ed7953"
             ],
             [
              0.7777777777777778,
              "#fb9f3a"
             ],
             [
              0.8888888888888888,
              "#fdca26"
             ],
             [
              1,
              "#f0f921"
             ]
            ],
            "type": "histogram2dcontour"
           }
          ],
          "mesh3d": [
           {
            "colorbar": {
             "outlinewidth": 0,
             "ticks": ""
            },
            "type": "mesh3d"
           }
          ],
          "parcoords": [
           {
            "line": {
             "colorbar": {
              "outlinewidth": 0,
              "ticks": ""
             }
            },
            "type": "parcoords"
           }
          ],
          "pie": [
           {
            "automargin": true,
            "type": "pie"
           }
          ],
          "scatter": [
           {
            "fillpattern": {
             "fillmode": "overlay",
             "size": 10,
             "solidity": 0.2
            },
            "type": "scatter"
           }
          ],
          "scatter3d": [
           {
            "line": {
             "colorbar": {
              "outlinewidth": 0,
              "ticks": ""
             }
            },
            "marker": {
             "colorbar": {
              "outlinewidth": 0,
              "ticks": ""
             }
            },
            "type": "scatter3d"
           }
          ],
          "scattercarpet": [
           {
            "marker": {
             "colorbar": {
              "outlinewidth": 0,
              "ticks": ""
             }
            },
            "type": "scattercarpet"
           }
          ],
          "scattergeo": [
           {
            "marker": {
             "colorbar": {
              "outlinewidth": 0,
              "ticks": ""
             }
            },
            "type": "scattergeo"
           }
          ],
          "scattergl": [
           {
            "marker": {
             "colorbar": {
              "outlinewidth": 0,
              "ticks": ""
             }
            },
            "type": "scattergl"
           }
          ],
          "scattermapbox": [
           {
            "marker": {
             "colorbar": {
              "outlinewidth": 0,
              "ticks": ""
             }
            },
            "type": "scattermapbox"
           }
          ],
          "scatterpolar": [
           {
            "marker": {
             "colorbar": {
              "outlinewidth": 0,
              "ticks": ""
             }
            },
            "type": "scatterpolar"
           }
          ],
          "scatterpolargl": [
           {
            "marker": {
             "colorbar": {
              "outlinewidth": 0,
              "ticks": ""
             }
            },
            "type": "scatterpolargl"
           }
          ],
          "scatterternary": [
           {
            "marker": {
             "colorbar": {
              "outlinewidth": 0,
              "ticks": ""
             }
            },
            "type": "scatterternary"
           }
          ],
          "surface": [
           {
            "colorbar": {
             "outlinewidth": 0,
             "ticks": ""
            },
            "colorscale": [
             [
              0,
              "#0d0887"
             ],
             [
              0.1111111111111111,
              "#46039f"
             ],
             [
              0.2222222222222222,
              "#7201a8"
             ],
             [
              0.3333333333333333,
              "#9c179e"
             ],
             [
              0.4444444444444444,
              "#bd3786"
             ],
             [
              0.5555555555555556,
              "#d8576b"
             ],
             [
              0.6666666666666666,
              "#ed7953"
             ],
             [
              0.7777777777777778,
              "#fb9f3a"
             ],
             [
              0.8888888888888888,
              "#fdca26"
             ],
             [
              1,
              "#f0f921"
             ]
            ],
            "type": "surface"
           }
          ],
          "table": [
           {
            "cells": {
             "fill": {
              "color": "#EBF0F8"
             },
             "line": {
              "color": "white"
             }
            },
            "header": {
             "fill": {
              "color": "#C8D4E3"
             },
             "line": {
              "color": "white"
             }
            },
            "type": "table"
           }
          ]
         },
         "layout": {
          "annotationdefaults": {
           "arrowcolor": "#2a3f5f",
           "arrowhead": 0,
           "arrowwidth": 1
          },
          "autotypenumbers": "strict",
          "coloraxis": {
           "colorbar": {
            "outlinewidth": 0,
            "ticks": ""
           }
          },
          "colorscale": {
           "diverging": [
            [
             0,
             "#8e0152"
            ],
            [
             0.1,
             "#c51b7d"
            ],
            [
             0.2,
             "#de77ae"
            ],
            [
             0.3,
             "#f1b6da"
            ],
            [
             0.4,
             "#fde0ef"
            ],
            [
             0.5,
             "#f7f7f7"
            ],
            [
             0.6,
             "#e6f5d0"
            ],
            [
             0.7,
             "#b8e186"
            ],
            [
             0.8,
             "#7fbc41"
            ],
            [
             0.9,
             "#4d9221"
            ],
            [
             1,
             "#276419"
            ]
           ],
           "sequential": [
            [
             0,
             "#0d0887"
            ],
            [
             0.1111111111111111,
             "#46039f"
            ],
            [
             0.2222222222222222,
             "#7201a8"
            ],
            [
             0.3333333333333333,
             "#9c179e"
            ],
            [
             0.4444444444444444,
             "#bd3786"
            ],
            [
             0.5555555555555556,
             "#d8576b"
            ],
            [
             0.6666666666666666,
             "#ed7953"
            ],
            [
             0.7777777777777778,
             "#fb9f3a"
            ],
            [
             0.8888888888888888,
             "#fdca26"
            ],
            [
             1,
             "#f0f921"
            ]
           ],
           "sequentialminus": [
            [
             0,
             "#0d0887"
            ],
            [
             0.1111111111111111,
             "#46039f"
            ],
            [
             0.2222222222222222,
             "#7201a8"
            ],
            [
             0.3333333333333333,
             "#9c179e"
            ],
            [
             0.4444444444444444,
             "#bd3786"
            ],
            [
             0.5555555555555556,
             "#d8576b"
            ],
            [
             0.6666666666666666,
             "#ed7953"
            ],
            [
             0.7777777777777778,
             "#fb9f3a"
            ],
            [
             0.8888888888888888,
             "#fdca26"
            ],
            [
             1,
             "#f0f921"
            ]
           ]
          },
          "colorway": [
           "#636efa",
           "#EF553B",
           "#00cc96",
           "#ab63fa",
           "#FFA15A",
           "#19d3f3",
           "#FF6692",
           "#B6E880",
           "#FF97FF",
           "#FECB52"
          ],
          "font": {
           "color": "#2a3f5f"
          },
          "geo": {
           "bgcolor": "white",
           "lakecolor": "white",
           "landcolor": "white",
           "showlakes": true,
           "showland": true,
           "subunitcolor": "#C8D4E3"
          },
          "hoverlabel": {
           "align": "left"
          },
          "hovermode": "closest",
          "mapbox": {
           "style": "light"
          },
          "paper_bgcolor": "white",
          "plot_bgcolor": "white",
          "polar": {
           "angularaxis": {
            "gridcolor": "#EBF0F8",
            "linecolor": "#EBF0F8",
            "ticks": ""
           },
           "bgcolor": "white",
           "radialaxis": {
            "gridcolor": "#EBF0F8",
            "linecolor": "#EBF0F8",
            "ticks": ""
           }
          },
          "scene": {
           "xaxis": {
            "backgroundcolor": "white",
            "gridcolor": "#DFE8F3",
            "gridwidth": 2,
            "linecolor": "#EBF0F8",
            "showbackground": true,
            "ticks": "",
            "zerolinecolor": "#EBF0F8"
           },
           "yaxis": {
            "backgroundcolor": "white",
            "gridcolor": "#DFE8F3",
            "gridwidth": 2,
            "linecolor": "#EBF0F8",
            "showbackground": true,
            "ticks": "",
            "zerolinecolor": "#EBF0F8"
           },
           "zaxis": {
            "backgroundcolor": "white",
            "gridcolor": "#DFE8F3",
            "gridwidth": 2,
            "linecolor": "#EBF0F8",
            "showbackground": true,
            "ticks": "",
            "zerolinecolor": "#EBF0F8"
           }
          },
          "shapedefaults": {
           "line": {
            "color": "#2a3f5f"
           }
          },
          "ternary": {
           "aaxis": {
            "gridcolor": "#DFE8F3",
            "linecolor": "#A2B1C6",
            "ticks": ""
           },
           "baxis": {
            "gridcolor": "#DFE8F3",
            "linecolor": "#A2B1C6",
            "ticks": ""
           },
           "bgcolor": "white",
           "caxis": {
            "gridcolor": "#DFE8F3",
            "linecolor": "#A2B1C6",
            "ticks": ""
           }
          },
          "title": {
           "x": 0.05
          },
          "xaxis": {
           "automargin": true,
           "gridcolor": "#EBF0F8",
           "linecolor": "#EBF0F8",
           "ticks": "",
           "title": {
            "standoff": 15
           },
           "zerolinecolor": "#EBF0F8",
           "zerolinewidth": 2
          },
          "yaxis": {
           "automargin": true,
           "gridcolor": "#EBF0F8",
           "linecolor": "#EBF0F8",
           "ticks": "",
           "title": {
            "standoff": 15
           },
           "zerolinecolor": "#EBF0F8",
           "zerolinewidth": 2
          }
         }
        },
        "title": {
         "font": {
          "size": 16
         },
         "text": "Distribuição Absoluta por Gênero em Cada Nível de Formação Acadêmica (2021-2024)"
        },
        "xaxis": {
         "anchor": "y",
         "domain": [
          0,
          0.1975
         ],
         "range": [
          0,
          132
         ]
        },
        "xaxis2": {
         "anchor": "y2",
         "domain": [
          0.2675,
          0.465
         ],
         "range": [
          0,
          132
         ]
        },
        "xaxis3": {
         "anchor": "y3",
         "domain": [
          0.535,
          0.7325
         ],
         "range": [
          0,
          132
         ]
        },
        "xaxis4": {
         "anchor": "y4",
         "domain": [
          0.8025,
          1
         ],
         "range": [
          0,
          132
         ]
        },
        "yaxis": {
         "anchor": "x",
         "domain": [
          0,
          1
         ]
        },
        "yaxis2": {
         "anchor": "x2",
         "domain": [
          0,
          1
         ],
         "matches": "y",
         "showticklabels": false
        },
        "yaxis3": {
         "anchor": "x3",
         "domain": [
          0,
          1
         ],
         "matches": "y",
         "showticklabels": false
        },
        "yaxis4": {
         "anchor": "x4",
         "domain": [
          0,
          1
         ],
         "matches": "y",
         "showticklabels": false
        }
       }
      }
     },
     "metadata": {},
     "output_type": "display_data"
    }
   ],
   "source": [
    "df_grouped = df_rj.groupby([\"ano_pesquisa\", \"nivel_ensino\", \"genero\"]).size().reset_index(name=\"count\")\n",
    "\n",
    "fig = make_subplots(\n",
    "    rows=1, \n",
    "    cols=4, \n",
    "    shared_yaxes=True, \n",
    "    subplot_titles=[\"2021\", \"2022\", \"2023\", \"2024\"],\n",
    "    horizontal_spacing=0.07\n",
    ")\n",
    "\n",
    "anos = ['2021', '2022', '2023', '2024']\n",
    "cores = {\"Masculino\": \"#1E90FF\", \"Feminino\": \"#FF7F50\"}\n",
    "\n",
    "ordem_niveis = [\n",
    "    'Não tenho graduação formal', \n",
    "    'Estudante de Graduação',\n",
    "    'Graduação/Bacharelado', \n",
    "    'Especialização Lato Sensu',\n",
    "    'Mestrado',\n",
    "    'Doutorado ou Phd'\n",
    "]\n",
    "\n",
    "# Para ajustar range máximo depois\n",
    "max_count = df_grouped['count'].max()\n",
    "\n",
    "for i, ano in enumerate(anos):\n",
    "    df_ano = df_grouped[df_grouped[\"ano_pesquisa\"] == ano]\n",
    "    \n",
    "    for genero in [\"Feminino\", \"Masculino\"]:\n",
    "        counts = []\n",
    "        niveis = []\n",
    "        \n",
    "        for nivel in ordem_niveis:\n",
    "            df_nivel = df_ano[(df_ano[\"nivel_ensino\"] == nivel) & (df_ano[\"genero\"] == genero)]\n",
    "            count = df_nivel[\"count\"].values[0] if not df_nivel.empty else 0\n",
    "            counts.append(count)\n",
    "            niveis.append(nivel)\n",
    "        \n",
    "        fig.add_trace(go.Bar(\n",
    "            y=niveis,\n",
    "            x=counts,\n",
    "            name=genero,\n",
    "            orientation=\"h\",\n",
    "            marker=dict(color=cores[genero]),\n",
    "            text=[str(c) for c in counts],\n",
    "            textposition=\"outside\",  # Deixa o número fora da barra\n",
    "            textfont=dict(color=\"black\", size=10),\n",
    "            showlegend=True if i == 0 else False\n",
    "        ), row=1, col=i+1)\n",
    "\n",
    "# Configurando layout\n",
    "fig.update_layout(\n",
    "    title=\"Distribuição Absoluta por Gênero em Cada Nível de Formação Acadêmica (2021-2024)\",\n",
    "    title_font_size=16,\n",
    "    barmode=\"group\",\n",
    "    height=800,\n",
    "    template=\"plotly_white\",\n",
    "    font=dict(size=11),\n",
    "    legend=dict(\n",
    "        orientation=\"h\",\n",
    "        yanchor=\"bottom\",\n",
    "        y=1.02,\n",
    "        xanchor=\"center\",\n",
    "        x=0.5,\n",
    "        font=dict(size=10)\n",
    "    )\n",
    ")\n",
    "\n",
    "# Ajustando range de cada xaxis para dar espaço aos textos \"outside\"\n",
    "for i in range(1, 5):\n",
    "    fig.update_xaxes(row=1, col=i, range=[0, max_count * 1.2])  # Aumenta 20% do maior valor\n",
    "\n",
    "fig.show()\n"
   ]
  },
  {
   "cell_type": "code",
   "execution_count": 35,
   "metadata": {},
   "outputs": [
    {
     "data": {
      "application/vnd.plotly.v1+json": {
       "config": {
        "plotlyServerURL": "https://plot.ly"
       },
       "data": [
        {
         "marker": {
          "color": "#FF7F50"
         },
         "name": "Feminino",
         "orientation": "h",
         "showlegend": true,
         "textposition": "auto",
         "type": "bar",
         "x": [
          16,
          0,
          7,
          1,
          2,
          0,
          4,
          0,
          0
         ],
         "xaxis": "x",
         "y": [
          "Analista de Dados",
          "Arquiteto de Dados/Data Architect",
          "Cientista de Dados",
          "Desenvolvedor",
          "Engenheiro de Dados",
          "Engenheiro de Dados/Data Engineer/Data Architect",
          "Outro",
          "Product Manager",
          "Professor/Pesquisador"
         ],
         "yaxis": "y"
        },
        {
         "marker": {
          "color": "#1E90FF"
         },
         "name": "Masculino",
         "orientation": "h",
         "showlegend": true,
         "textposition": "auto",
         "type": "bar",
         "x": [
          68,
          0,
          27,
          8,
          15,
          0,
          5,
          0,
          0
         ],
         "xaxis": "x",
         "y": [
          "Analista de Dados",
          "Arquiteto de Dados/Data Architect",
          "Cientista de Dados",
          "Desenvolvedor",
          "Engenheiro de Dados",
          "Engenheiro de Dados/Data Engineer/Data Architect",
          "Outro",
          "Product Manager",
          "Professor/Pesquisador"
         ],
         "yaxis": "y"
        },
        {
         "marker": {
          "color": "#FF7F50"
         },
         "name": "Feminino",
         "orientation": "h",
         "showlegend": false,
         "textposition": "auto",
         "type": "bar",
         "x": [
          25,
          0,
          7,
          2,
          8,
          0,
          8,
          0,
          0
         ],
         "xaxis": "x2",
         "y": [
          "Analista de Dados",
          "Arquiteto de Dados/Data Architect",
          "Cientista de Dados",
          "Desenvolvedor",
          "Engenheiro de Dados",
          "Engenheiro de Dados/Data Engineer/Data Architect",
          "Outro",
          "Product Manager",
          "Professor/Pesquisador"
         ],
         "yaxis": "y2"
        },
        {
         "marker": {
          "color": "#1E90FF"
         },
         "name": "Masculino",
         "orientation": "h",
         "showlegend": false,
         "textposition": "auto",
         "type": "bar",
         "x": [
          68,
          0,
          46,
          11,
          35,
          0,
          18,
          0,
          1
         ],
         "xaxis": "x2",
         "y": [
          "Analista de Dados",
          "Arquiteto de Dados/Data Architect",
          "Cientista de Dados",
          "Desenvolvedor",
          "Engenheiro de Dados",
          "Engenheiro de Dados/Data Engineer/Data Architect",
          "Outro",
          "Product Manager",
          "Professor/Pesquisador"
         ],
         "yaxis": "y2"
        },
        {
         "marker": {
          "color": "#FF7F50"
         },
         "name": "Feminino",
         "orientation": "h",
         "showlegend": false,
         "textposition": "auto",
         "type": "bar",
         "x": [
          43,
          0,
          13,
          0,
          11,
          0,
          7,
          4,
          1
         ],
         "xaxis": "x3",
         "y": [
          "Analista de Dados",
          "Arquiteto de Dados/Data Architect",
          "Cientista de Dados",
          "Desenvolvedor",
          "Engenheiro de Dados",
          "Engenheiro de Dados/Data Engineer/Data Architect",
          "Outro",
          "Product Manager",
          "Professor/Pesquisador"
         ],
         "yaxis": "y3"
        },
        {
         "marker": {
          "color": "#1E90FF"
         },
         "name": "Masculino",
         "orientation": "h",
         "showlegend": false,
         "textposition": "auto",
         "type": "bar",
         "x": [
          108,
          0,
          50,
          10,
          58,
          0,
          26,
          0,
          1
         ],
         "xaxis": "x3",
         "y": [
          "Analista de Dados",
          "Arquiteto de Dados/Data Architect",
          "Cientista de Dados",
          "Desenvolvedor",
          "Engenheiro de Dados",
          "Engenheiro de Dados/Data Engineer/Data Architect",
          "Outro",
          "Product Manager",
          "Professor/Pesquisador"
         ],
         "yaxis": "y3"
        },
        {
         "marker": {
          "color": "#FF7F50"
         },
         "name": "Feminino",
         "orientation": "h",
         "showlegend": false,
         "textposition": "auto",
         "type": "bar",
         "x": [
          30,
          0,
          17,
          6,
          5,
          7,
          5,
          4,
          0
         ],
         "xaxis": "x4",
         "y": [
          "Analista de Dados",
          "Arquiteto de Dados/Data Architect",
          "Cientista de Dados",
          "Desenvolvedor",
          "Engenheiro de Dados",
          "Engenheiro de Dados/Data Engineer/Data Architect",
          "Outro",
          "Product Manager",
          "Professor/Pesquisador"
         ],
         "yaxis": "y4"
        },
        {
         "marker": {
          "color": "#1E90FF"
         },
         "name": "Masculino",
         "orientation": "h",
         "showlegend": false,
         "textposition": "auto",
         "type": "bar",
         "x": [
          68,
          3,
          52,
          13,
          11,
          39,
          19,
          4,
          2
         ],
         "xaxis": "x4",
         "y": [
          "Analista de Dados",
          "Arquiteto de Dados/Data Architect",
          "Cientista de Dados",
          "Desenvolvedor",
          "Engenheiro de Dados",
          "Engenheiro de Dados/Data Engineer/Data Architect",
          "Outro",
          "Product Manager",
          "Professor/Pesquisador"
         ],
         "yaxis": "y4"
        }
       ],
       "layout": {
        "annotations": [
         {
          "font": {
           "size": 16
          },
          "showarrow": false,
          "text": "Ano 2021",
          "x": 0.5,
          "xanchor": "center",
          "xref": "paper",
          "y": 1,
          "yanchor": "bottom",
          "yref": "paper"
         },
         {
          "font": {
           "size": 16
          },
          "showarrow": false,
          "text": "Ano 2022",
          "x": 0.5,
          "xanchor": "center",
          "xref": "paper",
          "y": 0.7375,
          "yanchor": "bottom",
          "yref": "paper"
         },
         {
          "font": {
           "size": 16
          },
          "showarrow": false,
          "text": "Ano 2023",
          "x": 0.5,
          "xanchor": "center",
          "xref": "paper",
          "y": 0.475,
          "yanchor": "bottom",
          "yref": "paper"
         },
         {
          "font": {
           "size": 16
          },
          "showarrow": false,
          "text": "Ano 2024",
          "x": 0.5,
          "xanchor": "center",
          "xref": "paper",
          "y": 0.2125,
          "yanchor": "bottom",
          "yref": "paper"
         }
        ],
        "barmode": "group",
        "height": 800,
        "legend": {
         "orientation": "h",
         "x": 1,
         "xanchor": "right",
         "y": 1.02,
         "yanchor": "bottom"
        },
        "template": {
         "data": {
          "bar": [
           {
            "error_x": {
             "color": "#2a3f5f"
            },
            "error_y": {
             "color": "#2a3f5f"
            },
            "marker": {
             "line": {
              "color": "white",
              "width": 0.5
             },
             "pattern": {
              "fillmode": "overlay",
              "size": 10,
              "solidity": 0.2
             }
            },
            "type": "bar"
           }
          ],
          "barpolar": [
           {
            "marker": {
             "line": {
              "color": "white",
              "width": 0.5
             },
             "pattern": {
              "fillmode": "overlay",
              "size": 10,
              "solidity": 0.2
             }
            },
            "type": "barpolar"
           }
          ],
          "carpet": [
           {
            "aaxis": {
             "endlinecolor": "#2a3f5f",
             "gridcolor": "#C8D4E3",
             "linecolor": "#C8D4E3",
             "minorgridcolor": "#C8D4E3",
             "startlinecolor": "#2a3f5f"
            },
            "baxis": {
             "endlinecolor": "#2a3f5f",
             "gridcolor": "#C8D4E3",
             "linecolor": "#C8D4E3",
             "minorgridcolor": "#C8D4E3",
             "startlinecolor": "#2a3f5f"
            },
            "type": "carpet"
           }
          ],
          "choropleth": [
           {
            "colorbar": {
             "outlinewidth": 0,
             "ticks": ""
            },
            "type": "choropleth"
           }
          ],
          "contour": [
           {
            "colorbar": {
             "outlinewidth": 0,
             "ticks": ""
            },
            "colorscale": [
             [
              0,
              "#0d0887"
             ],
             [
              0.1111111111111111,
              "#46039f"
             ],
             [
              0.2222222222222222,
              "#7201a8"
             ],
             [
              0.3333333333333333,
              "#9c179e"
             ],
             [
              0.4444444444444444,
              "#bd3786"
             ],
             [
              0.5555555555555556,
              "#d8576b"
             ],
             [
              0.6666666666666666,
              "#ed7953"
             ],
             [
              0.7777777777777778,
              "#fb9f3a"
             ],
             [
              0.8888888888888888,
              "#fdca26"
             ],
             [
              1,
              "#f0f921"
             ]
            ],
            "type": "contour"
           }
          ],
          "contourcarpet": [
           {
            "colorbar": {
             "outlinewidth": 0,
             "ticks": ""
            },
            "type": "contourcarpet"
           }
          ],
          "heatmap": [
           {
            "colorbar": {
             "outlinewidth": 0,
             "ticks": ""
            },
            "colorscale": [
             [
              0,
              "#0d0887"
             ],
             [
              0.1111111111111111,
              "#46039f"
             ],
             [
              0.2222222222222222,
              "#7201a8"
             ],
             [
              0.3333333333333333,
              "#9c179e"
             ],
             [
              0.4444444444444444,
              "#bd3786"
             ],
             [
              0.5555555555555556,
              "#d8576b"
             ],
             [
              0.6666666666666666,
              "#ed7953"
             ],
             [
              0.7777777777777778,
              "#fb9f3a"
             ],
             [
              0.8888888888888888,
              "#fdca26"
             ],
             [
              1,
              "#f0f921"
             ]
            ],
            "type": "heatmap"
           }
          ],
          "heatmapgl": [
           {
            "colorbar": {
             "outlinewidth": 0,
             "ticks": ""
            },
            "colorscale": [
             [
              0,
              "#0d0887"
             ],
             [
              0.1111111111111111,
              "#46039f"
             ],
             [
              0.2222222222222222,
              "#7201a8"
             ],
             [
              0.3333333333333333,
              "#9c179e"
             ],
             [
              0.4444444444444444,
              "#bd3786"
             ],
             [
              0.5555555555555556,
              "#d8576b"
             ],
             [
              0.6666666666666666,
              "#ed7953"
             ],
             [
              0.7777777777777778,
              "#fb9f3a"
             ],
             [
              0.8888888888888888,
              "#fdca26"
             ],
             [
              1,
              "#f0f921"
             ]
            ],
            "type": "heatmapgl"
           }
          ],
          "histogram": [
           {
            "marker": {
             "pattern": {
              "fillmode": "overlay",
              "size": 10,
              "solidity": 0.2
             }
            },
            "type": "histogram"
           }
          ],
          "histogram2d": [
           {
            "colorbar": {
             "outlinewidth": 0,
             "ticks": ""
            },
            "colorscale": [
             [
              0,
              "#0d0887"
             ],
             [
              0.1111111111111111,
              "#46039f"
             ],
             [
              0.2222222222222222,
              "#7201a8"
             ],
             [
              0.3333333333333333,
              "#9c179e"
             ],
             [
              0.4444444444444444,
              "#bd3786"
             ],
             [
              0.5555555555555556,
              "#d8576b"
             ],
             [
              0.6666666666666666,
              "#ed7953"
             ],
             [
              0.7777777777777778,
              "#fb9f3a"
             ],
             [
              0.8888888888888888,
              "#fdca26"
             ],
             [
              1,
              "#f0f921"
             ]
            ],
            "type": "histogram2d"
           }
          ],
          "histogram2dcontour": [
           {
            "colorbar": {
             "outlinewidth": 0,
             "ticks": ""
            },
            "colorscale": [
             [
              0,
              "#0d0887"
             ],
             [
              0.1111111111111111,
              "#46039f"
             ],
             [
              0.2222222222222222,
              "#7201a8"
             ],
             [
              0.3333333333333333,
              "#9c179e"
             ],
             [
              0.4444444444444444,
              "#bd3786"
             ],
             [
              0.5555555555555556,
              "#d8576b"
             ],
             [
              0.6666666666666666,
              "#ed7953"
             ],
             [
              0.7777777777777778,
              "#fb9f3a"
             ],
             [
              0.8888888888888888,
              "#fdca26"
             ],
             [
              1,
              "#f0f921"
             ]
            ],
            "type": "histogram2dcontour"
           }
          ],
          "mesh3d": [
           {
            "colorbar": {
             "outlinewidth": 0,
             "ticks": ""
            },
            "type": "mesh3d"
           }
          ],
          "parcoords": [
           {
            "line": {
             "colorbar": {
              "outlinewidth": 0,
              "ticks": ""
             }
            },
            "type": "parcoords"
           }
          ],
          "pie": [
           {
            "automargin": true,
            "type": "pie"
           }
          ],
          "scatter": [
           {
            "fillpattern": {
             "fillmode": "overlay",
             "size": 10,
             "solidity": 0.2
            },
            "type": "scatter"
           }
          ],
          "scatter3d": [
           {
            "line": {
             "colorbar": {
              "outlinewidth": 0,
              "ticks": ""
             }
            },
            "marker": {
             "colorbar": {
              "outlinewidth": 0,
              "ticks": ""
             }
            },
            "type": "scatter3d"
           }
          ],
          "scattercarpet": [
           {
            "marker": {
             "colorbar": {
              "outlinewidth": 0,
              "ticks": ""
             }
            },
            "type": "scattercarpet"
           }
          ],
          "scattergeo": [
           {
            "marker": {
             "colorbar": {
              "outlinewidth": 0,
              "ticks": ""
             }
            },
            "type": "scattergeo"
           }
          ],
          "scattergl": [
           {
            "marker": {
             "colorbar": {
              "outlinewidth": 0,
              "ticks": ""
             }
            },
            "type": "scattergl"
           }
          ],
          "scattermapbox": [
           {
            "marker": {
             "colorbar": {
              "outlinewidth": 0,
              "ticks": ""
             }
            },
            "type": "scattermapbox"
           }
          ],
          "scatterpolar": [
           {
            "marker": {
             "colorbar": {
              "outlinewidth": 0,
              "ticks": ""
             }
            },
            "type": "scatterpolar"
           }
          ],
          "scatterpolargl": [
           {
            "marker": {
             "colorbar": {
              "outlinewidth": 0,
              "ticks": ""
             }
            },
            "type": "scatterpolargl"
           }
          ],
          "scatterternary": [
           {
            "marker": {
             "colorbar": {
              "outlinewidth": 0,
              "ticks": ""
             }
            },
            "type": "scatterternary"
           }
          ],
          "surface": [
           {
            "colorbar": {
             "outlinewidth": 0,
             "ticks": ""
            },
            "colorscale": [
             [
              0,
              "#0d0887"
             ],
             [
              0.1111111111111111,
              "#46039f"
             ],
             [
              0.2222222222222222,
              "#7201a8"
             ],
             [
              0.3333333333333333,
              "#9c179e"
             ],
             [
              0.4444444444444444,
              "#bd3786"
             ],
             [
              0.5555555555555556,
              "#d8576b"
             ],
             [
              0.6666666666666666,
              "#ed7953"
             ],
             [
              0.7777777777777778,
              "#fb9f3a"
             ],
             [
              0.8888888888888888,
              "#fdca26"
             ],
             [
              1,
              "#f0f921"
             ]
            ],
            "type": "surface"
           }
          ],
          "table": [
           {
            "cells": {
             "fill": {
              "color": "#EBF0F8"
             },
             "line": {
              "color": "white"
             }
            },
            "header": {
             "fill": {
              "color": "#C8D4E3"
             },
             "line": {
              "color": "white"
             }
            },
            "type": "table"
           }
          ]
         },
         "layout": {
          "annotationdefaults": {
           "arrowcolor": "#2a3f5f",
           "arrowhead": 0,
           "arrowwidth": 1
          },
          "autotypenumbers": "strict",
          "coloraxis": {
           "colorbar": {
            "outlinewidth": 0,
            "ticks": ""
           }
          },
          "colorscale": {
           "diverging": [
            [
             0,
             "#8e0152"
            ],
            [
             0.1,
             "#c51b7d"
            ],
            [
             0.2,
             "#de77ae"
            ],
            [
             0.3,
             "#f1b6da"
            ],
            [
             0.4,
             "#fde0ef"
            ],
            [
             0.5,
             "#f7f7f7"
            ],
            [
             0.6,
             "#e6f5d0"
            ],
            [
             0.7,
             "#b8e186"
            ],
            [
             0.8,
             "#7fbc41"
            ],
            [
             0.9,
             "#4d9221"
            ],
            [
             1,
             "#276419"
            ]
           ],
           "sequential": [
            [
             0,
             "#0d0887"
            ],
            [
             0.1111111111111111,
             "#46039f"
            ],
            [
             0.2222222222222222,
             "#7201a8"
            ],
            [
             0.3333333333333333,
             "#9c179e"
            ],
            [
             0.4444444444444444,
             "#bd3786"
            ],
            [
             0.5555555555555556,
             "#d8576b"
            ],
            [
             0.6666666666666666,
             "#ed7953"
            ],
            [
             0.7777777777777778,
             "#fb9f3a"
            ],
            [
             0.8888888888888888,
             "#fdca26"
            ],
            [
             1,
             "#f0f921"
            ]
           ],
           "sequentialminus": [
            [
             0,
             "#0d0887"
            ],
            [
             0.1111111111111111,
             "#46039f"
            ],
            [
             0.2222222222222222,
             "#7201a8"
            ],
            [
             0.3333333333333333,
             "#9c179e"
            ],
            [
             0.4444444444444444,
             "#bd3786"
            ],
            [
             0.5555555555555556,
             "#d8576b"
            ],
            [
             0.6666666666666666,
             "#ed7953"
            ],
            [
             0.7777777777777778,
             "#fb9f3a"
            ],
            [
             0.8888888888888888,
             "#fdca26"
            ],
            [
             1,
             "#f0f921"
            ]
           ]
          },
          "colorway": [
           "#636efa",
           "#EF553B",
           "#00cc96",
           "#ab63fa",
           "#FFA15A",
           "#19d3f3",
           "#FF6692",
           "#B6E880",
           "#FF97FF",
           "#FECB52"
          ],
          "font": {
           "color": "#2a3f5f"
          },
          "geo": {
           "bgcolor": "white",
           "lakecolor": "white",
           "landcolor": "white",
           "showlakes": true,
           "showland": true,
           "subunitcolor": "#C8D4E3"
          },
          "hoverlabel": {
           "align": "left"
          },
          "hovermode": "closest",
          "mapbox": {
           "style": "light"
          },
          "paper_bgcolor": "white",
          "plot_bgcolor": "white",
          "polar": {
           "angularaxis": {
            "gridcolor": "#EBF0F8",
            "linecolor": "#EBF0F8",
            "ticks": ""
           },
           "bgcolor": "white",
           "radialaxis": {
            "gridcolor": "#EBF0F8",
            "linecolor": "#EBF0F8",
            "ticks": ""
           }
          },
          "scene": {
           "xaxis": {
            "backgroundcolor": "white",
            "gridcolor": "#DFE8F3",
            "gridwidth": 2,
            "linecolor": "#EBF0F8",
            "showbackground": true,
            "ticks": "",
            "zerolinecolor": "#EBF0F8"
           },
           "yaxis": {
            "backgroundcolor": "white",
            "gridcolor": "#DFE8F3",
            "gridwidth": 2,
            "linecolor": "#EBF0F8",
            "showbackground": true,
            "ticks": "",
            "zerolinecolor": "#EBF0F8"
           },
           "zaxis": {
            "backgroundcolor": "white",
            "gridcolor": "#DFE8F3",
            "gridwidth": 2,
            "linecolor": "#EBF0F8",
            "showbackground": true,
            "ticks": "",
            "zerolinecolor": "#EBF0F8"
           }
          },
          "shapedefaults": {
           "line": {
            "color": "#2a3f5f"
           }
          },
          "ternary": {
           "aaxis": {
            "gridcolor": "#DFE8F3",
            "linecolor": "#A2B1C6",
            "ticks": ""
           },
           "baxis": {
            "gridcolor": "#DFE8F3",
            "linecolor": "#A2B1C6",
            "ticks": ""
           },
           "bgcolor": "white",
           "caxis": {
            "gridcolor": "#DFE8F3",
            "linecolor": "#A2B1C6",
            "ticks": ""
           }
          },
          "title": {
           "x": 0.05
          },
          "xaxis": {
           "automargin": true,
           "gridcolor": "#EBF0F8",
           "linecolor": "#EBF0F8",
           "ticks": "",
           "title": {
            "standoff": 15
           },
           "zerolinecolor": "#EBF0F8",
           "zerolinewidth": 2
          },
          "yaxis": {
           "automargin": true,
           "gridcolor": "#EBF0F8",
           "linecolor": "#EBF0F8",
           "ticks": "",
           "title": {
            "standoff": 15
           },
           "zerolinecolor": "#EBF0F8",
           "zerolinewidth": 2
          }
         }
        },
        "title": {
         "text": "Distribuição de Cargos por Gênero ao Longo dos Anos"
        },
        "width": 1000,
        "xaxis": {
         "anchor": "y",
         "domain": [
          0,
          1
         ],
         "matches": "x4",
         "showticklabels": false
        },
        "xaxis2": {
         "anchor": "y2",
         "domain": [
          0,
          1
         ],
         "matches": "x4",
         "showticklabels": false
        },
        "xaxis3": {
         "anchor": "y3",
         "domain": [
          0,
          1
         ],
         "matches": "x4",
         "showticklabels": false
        },
        "xaxis4": {
         "anchor": "y4",
         "domain": [
          0,
          1
         ],
         "title": {
          "text": "Quantidade"
         }
        },
        "yaxis": {
         "anchor": "x",
         "domain": [
          0.7875,
          1
         ],
         "showgrid": true,
         "title": {
          "text": "Cargo"
         }
        },
        "yaxis2": {
         "anchor": "x2",
         "domain": [
          0.525,
          0.7375
         ],
         "showgrid": true,
         "title": {
          "text": "Cargo"
         }
        },
        "yaxis3": {
         "anchor": "x3",
         "domain": [
          0.2625,
          0.475
         ],
         "showgrid": true,
         "title": {
          "text": "Cargo"
         }
        },
        "yaxis4": {
         "anchor": "x4",
         "domain": [
          0,
          0.2125
         ],
         "showgrid": true,
         "title": {
          "text": "Cargo"
         }
        }
       }
      }
     },
     "metadata": {},
     "output_type": "display_data"
    }
   ],
   "source": [
    "# Distribuição cargo x genero\n",
    "\n",
    "df = df_rj[df_rj['cargo'] != \"Não classificado\"].copy()\n",
    "\n",
    "df_contagem = df.groupby(['cargo', 'ano_pesquisa', 'genero']).size().reset_index(name='contagem')\n",
    "\n",
    "\n",
    "cores = {\"Masculino\": \"#1E90FF\", \"Feminino\": \"#FF7F50\"}\n",
    "\n",
    "cargos_unicos = sorted(df_contagem['cargo'].unique())\n",
    "anos = sorted(df_contagem['ano_pesquisa'].unique())\n",
    "generos = [\"Feminino\", \"Masculino\"]\n",
    "\n",
    "\n",
    "fig = make_subplots(\n",
    "    rows=len(anos), \n",
    "    cols=1,\n",
    "    subplot_titles=[f\"Ano {ano}\" for ano in anos], \n",
    "    shared_xaxes=True,\n",
    "    vertical_spacing=0.05\n",
    ")\n",
    "\n",
    "\n",
    "for i, ano in enumerate(anos):\n",
    "    row = i + 1  \n",
    "    \n",
    "    for genero in generos:\n",
    "        \n",
    "        df_filtrado = df_contagem[(df_contagem['ano_pesquisa'] == ano) & \n",
    "                                  (df_contagem['genero'] == genero)]\n",
    "        \n",
    "        \n",
    "        y_cargos = []\n",
    "        x_contagens = []\n",
    "        \n",
    "        for cargo in cargos_unicos:\n",
    "            df_cargo = df_filtrado[df_filtrado['cargo'] == cargo]\n",
    "            if not df_cargo.empty:\n",
    "                x_contagens.append(df_cargo['contagem'].values[0])\n",
    "            else:\n",
    "                x_contagens.append(0)  #\n",
    "            y_cargos.append(cargo)\n",
    "        \n",
    "        \n",
    "        fig.add_trace(\n",
    "            go.Bar(\n",
    "                y=y_cargos,                # Cargos no eixo Y\n",
    "                x=x_contagens,             # Contagens no eixo X\n",
    "                name=genero,               # Nome na legenda\n",
    "                marker_color=cores[genero],# Cor com base no gênero\n",
    "                textposition='auto',\n",
    "                orientation='h',           # Barras horizontais\n",
    "                showlegend=i == 0          # Mostrar na legenda apenas para o primeiro ano\n",
    "            ),\n",
    "            row=row, col=1\n",
    "        )\n",
    "\n",
    "fig.update_layout(\n",
    "    title='Distribuição de Cargos por Gênero ao Longo dos Anos',\n",
    "    height=max(800, len(anos) * 200),  # Ajuste dinâmico da altura\n",
    "    width=1000,\n",
    "    template='plotly_white',\n",
    "    barmode='group',              # Agrupar barras por gênero\n",
    "    legend=dict(\n",
    "        orientation=\"h\",          # Legenda horizontal\n",
    "        yanchor=\"bottom\",\n",
    "        y=1.02,\n",
    "        xanchor=\"right\",\n",
    "        x=1\n",
    "    )\n",
    ")\n",
    "\n",
    "\n",
    "fig.update_xaxes(title_text=\"Quantidade\", row=len(anos), col=1)\n",
    "\n",
    "\n",
    "for i in range(1, len(anos) + 1):\n",
    "    fig.update_yaxes(title_text=\"Cargo\", row=i, col=1, showgrid=True)\n",
    "\n",
    "fig.show()\n"
   ]
  },
  {
   "cell_type": "code",
   "execution_count": 36,
   "metadata": {},
   "outputs": [
    {
     "data": {
      "application/vnd.plotly.v1+json": {
       "config": {
        "plotlyServerURL": "https://plot.ly"
       },
       "data": [
        {
         "marker": {
          "color": "#FF7F50"
         },
         "name": "Feminino",
         "orientation": "h",
         "showlegend": true,
         "textposition": "auto",
         "type": "bar",
         "x": [
          4,
          20,
          5,
          9
         ],
         "xaxis": "x",
         "y": [
          "Modelo 100% presencial",
          "Modelo 100% remoto",
          "Modelo híbrido com dias fixos de trabalho presencial",
          "Modelo híbrido flexível (o funcionário tem liberdade para escolher quando estar no escritório presencialmente)"
         ],
         "yaxis": "y"
        },
        {
         "marker": {
          "color": "#1E90FF"
         },
         "name": "Masculino",
         "orientation": "h",
         "showlegend": true,
         "textposition": "auto",
         "type": "bar",
         "x": [
          10,
          87,
          26,
          27
         ],
         "xaxis": "x",
         "y": [
          "Modelo 100% presencial",
          "Modelo 100% remoto",
          "Modelo híbrido com dias fixos de trabalho presencial",
          "Modelo híbrido flexível (o funcionário tem liberdade para escolher quando estar no escritório presencialmente)"
         ],
         "yaxis": "y"
        },
        {
         "marker": {
          "color": "#FF7F50"
         },
         "name": "Feminino",
         "orientation": "h",
         "showlegend": false,
         "textposition": "auto",
         "type": "bar",
         "x": [
          9,
          35,
          11,
          12
         ],
         "xaxis": "x2",
         "y": [
          "Modelo 100% presencial",
          "Modelo 100% remoto",
          "Modelo híbrido com dias fixos de trabalho presencial",
          "Modelo híbrido flexível (o funcionário tem liberdade para escolher quando estar no escritório presencialmente)"
         ],
         "yaxis": "y2"
        },
        {
         "marker": {
          "color": "#1E90FF"
         },
         "name": "Masculino",
         "orientation": "h",
         "showlegend": false,
         "textposition": "auto",
         "type": "bar",
         "x": [
          31,
          111,
          27,
          48
         ],
         "xaxis": "x2",
         "y": [
          "Modelo 100% presencial",
          "Modelo 100% remoto",
          "Modelo híbrido com dias fixos de trabalho presencial",
          "Modelo híbrido flexível (o funcionário tem liberdade para escolher quando estar no escritório presencialmente)"
         ],
         "yaxis": "y2"
        },
        {
         "marker": {
          "color": "#FF7F50"
         },
         "name": "Feminino",
         "orientation": "h",
         "showlegend": false,
         "textposition": "auto",
         "type": "bar",
         "x": [
          7,
          45,
          23,
          20
         ],
         "xaxis": "x3",
         "y": [
          "Modelo 100% presencial",
          "Modelo 100% remoto",
          "Modelo híbrido com dias fixos de trabalho presencial",
          "Modelo híbrido flexível (o funcionário tem liberdade para escolher quando estar no escritório presencialmente)"
         ],
         "yaxis": "y3"
        },
        {
         "marker": {
          "color": "#1E90FF"
         },
         "name": "Masculino",
         "orientation": "h",
         "showlegend": false,
         "textposition": "auto",
         "type": "bar",
         "x": [
          38,
          149,
          52,
          61
         ],
         "xaxis": "x3",
         "y": [
          "Modelo 100% presencial",
          "Modelo 100% remoto",
          "Modelo híbrido com dias fixos de trabalho presencial",
          "Modelo híbrido flexível (o funcionário tem liberdade para escolher quando estar no escritório presencialmente)"
         ],
         "yaxis": "y3"
        },
        {
         "marker": {
          "color": "#FF7F50"
         },
         "name": "Feminino",
         "orientation": "h",
         "showlegend": false,
         "textposition": "auto",
         "type": "bar",
         "x": [
          6,
          47,
          16,
          21
         ],
         "xaxis": "x4",
         "y": [
          "Modelo 100% presencial",
          "Modelo 100% remoto",
          "Modelo híbrido com dias fixos de trabalho presencial",
          "Modelo híbrido flexível (o funcionário tem liberdade para escolher quando estar no escritório presencialmente)"
         ],
         "yaxis": "y4"
        },
        {
         "marker": {
          "color": "#1E90FF"
         },
         "name": "Masculino",
         "orientation": "h",
         "showlegend": false,
         "textposition": "auto",
         "type": "bar",
         "x": [
          29,
          140,
          45,
          52
         ],
         "xaxis": "x4",
         "y": [
          "Modelo 100% presencial",
          "Modelo 100% remoto",
          "Modelo híbrido com dias fixos de trabalho presencial",
          "Modelo híbrido flexível (o funcionário tem liberdade para escolher quando estar no escritório presencialmente)"
         ],
         "yaxis": "y4"
        }
       ],
       "layout": {
        "annotations": [
         {
          "font": {
           "size": 16
          },
          "showarrow": false,
          "text": "Ano 2021",
          "x": 0.5,
          "xanchor": "center",
          "xref": "paper",
          "y": 1,
          "yanchor": "bottom",
          "yref": "paper"
         },
         {
          "font": {
           "size": 16
          },
          "showarrow": false,
          "text": "Ano 2022",
          "x": 0.5,
          "xanchor": "center",
          "xref": "paper",
          "y": 0.7375,
          "yanchor": "bottom",
          "yref": "paper"
         },
         {
          "font": {
           "size": 16
          },
          "showarrow": false,
          "text": "Ano 2023",
          "x": 0.5,
          "xanchor": "center",
          "xref": "paper",
          "y": 0.475,
          "yanchor": "bottom",
          "yref": "paper"
         },
         {
          "font": {
           "size": 16
          },
          "showarrow": false,
          "text": "Ano 2024",
          "x": 0.5,
          "xanchor": "center",
          "xref": "paper",
          "y": 0.2125,
          "yanchor": "bottom",
          "yref": "paper"
         }
        ],
        "barmode": "group",
        "height": 800,
        "legend": {
         "orientation": "h",
         "x": 1,
         "xanchor": "right",
         "y": 1.02,
         "yanchor": "bottom"
        },
        "template": {
         "data": {
          "bar": [
           {
            "error_x": {
             "color": "#2a3f5f"
            },
            "error_y": {
             "color": "#2a3f5f"
            },
            "marker": {
             "line": {
              "color": "white",
              "width": 0.5
             },
             "pattern": {
              "fillmode": "overlay",
              "size": 10,
              "solidity": 0.2
             }
            },
            "type": "bar"
           }
          ],
          "barpolar": [
           {
            "marker": {
             "line": {
              "color": "white",
              "width": 0.5
             },
             "pattern": {
              "fillmode": "overlay",
              "size": 10,
              "solidity": 0.2
             }
            },
            "type": "barpolar"
           }
          ],
          "carpet": [
           {
            "aaxis": {
             "endlinecolor": "#2a3f5f",
             "gridcolor": "#C8D4E3",
             "linecolor": "#C8D4E3",
             "minorgridcolor": "#C8D4E3",
             "startlinecolor": "#2a3f5f"
            },
            "baxis": {
             "endlinecolor": "#2a3f5f",
             "gridcolor": "#C8D4E3",
             "linecolor": "#C8D4E3",
             "minorgridcolor": "#C8D4E3",
             "startlinecolor": "#2a3f5f"
            },
            "type": "carpet"
           }
          ],
          "choropleth": [
           {
            "colorbar": {
             "outlinewidth": 0,
             "ticks": ""
            },
            "type": "choropleth"
           }
          ],
          "contour": [
           {
            "colorbar": {
             "outlinewidth": 0,
             "ticks": ""
            },
            "colorscale": [
             [
              0,
              "#0d0887"
             ],
             [
              0.1111111111111111,
              "#46039f"
             ],
             [
              0.2222222222222222,
              "#7201a8"
             ],
             [
              0.3333333333333333,
              "#9c179e"
             ],
             [
              0.4444444444444444,
              "#bd3786"
             ],
             [
              0.5555555555555556,
              "#d8576b"
             ],
             [
              0.6666666666666666,
              "#ed7953"
             ],
             [
              0.7777777777777778,
              "#fb9f3a"
             ],
             [
              0.8888888888888888,
              "#fdca26"
             ],
             [
              1,
              "#f0f921"
             ]
            ],
            "type": "contour"
           }
          ],
          "contourcarpet": [
           {
            "colorbar": {
             "outlinewidth": 0,
             "ticks": ""
            },
            "type": "contourcarpet"
           }
          ],
          "heatmap": [
           {
            "colorbar": {
             "outlinewidth": 0,
             "ticks": ""
            },
            "colorscale": [
             [
              0,
              "#0d0887"
             ],
             [
              0.1111111111111111,
              "#46039f"
             ],
             [
              0.2222222222222222,
              "#7201a8"
             ],
             [
              0.3333333333333333,
              "#9c179e"
             ],
             [
              0.4444444444444444,
              "#bd3786"
             ],
             [
              0.5555555555555556,
              "#d8576b"
             ],
             [
              0.6666666666666666,
              "#ed7953"
             ],
             [
              0.7777777777777778,
              "#fb9f3a"
             ],
             [
              0.8888888888888888,
              "#fdca26"
             ],
             [
              1,
              "#f0f921"
             ]
            ],
            "type": "heatmap"
           }
          ],
          "heatmapgl": [
           {
            "colorbar": {
             "outlinewidth": 0,
             "ticks": ""
            },
            "colorscale": [
             [
              0,
              "#0d0887"
             ],
             [
              0.1111111111111111,
              "#46039f"
             ],
             [
              0.2222222222222222,
              "#7201a8"
             ],
             [
              0.3333333333333333,
              "#9c179e"
             ],
             [
              0.4444444444444444,
              "#bd3786"
             ],
             [
              0.5555555555555556,
              "#d8576b"
             ],
             [
              0.6666666666666666,
              "#ed7953"
             ],
             [
              0.7777777777777778,
              "#fb9f3a"
             ],
             [
              0.8888888888888888,
              "#fdca26"
             ],
             [
              1,
              "#f0f921"
             ]
            ],
            "type": "heatmapgl"
           }
          ],
          "histogram": [
           {
            "marker": {
             "pattern": {
              "fillmode": "overlay",
              "size": 10,
              "solidity": 0.2
             }
            },
            "type": "histogram"
           }
          ],
          "histogram2d": [
           {
            "colorbar": {
             "outlinewidth": 0,
             "ticks": ""
            },
            "colorscale": [
             [
              0,
              "#0d0887"
             ],
             [
              0.1111111111111111,
              "#46039f"
             ],
             [
              0.2222222222222222,
              "#7201a8"
             ],
             [
              0.3333333333333333,
              "#9c179e"
             ],
             [
              0.4444444444444444,
              "#bd3786"
             ],
             [
              0.5555555555555556,
              "#d8576b"
             ],
             [
              0.6666666666666666,
              "#ed7953"
             ],
             [
              0.7777777777777778,
              "#fb9f3a"
             ],
             [
              0.8888888888888888,
              "#fdca26"
             ],
             [
              1,
              "#f0f921"
             ]
            ],
            "type": "histogram2d"
           }
          ],
          "histogram2dcontour": [
           {
            "colorbar": {
             "outlinewidth": 0,
             "ticks": ""
            },
            "colorscale": [
             [
              0,
              "#0d0887"
             ],
             [
              0.1111111111111111,
              "#46039f"
             ],
             [
              0.2222222222222222,
              "#7201a8"
             ],
             [
              0.3333333333333333,
              "#9c179e"
             ],
             [
              0.4444444444444444,
              "#bd3786"
             ],
             [
              0.5555555555555556,
              "#d8576b"
             ],
             [
              0.6666666666666666,
              "#ed7953"
             ],
             [
              0.7777777777777778,
              "#fb9f3a"
             ],
             [
              0.8888888888888888,
              "#fdca26"
             ],
             [
              1,
              "#f0f921"
             ]
            ],
            "type": "histogram2dcontour"
           }
          ],
          "mesh3d": [
           {
            "colorbar": {
             "outlinewidth": 0,
             "ticks": ""
            },
            "type": "mesh3d"
           }
          ],
          "parcoords": [
           {
            "line": {
             "colorbar": {
              "outlinewidth": 0,
              "ticks": ""
             }
            },
            "type": "parcoords"
           }
          ],
          "pie": [
           {
            "automargin": true,
            "type": "pie"
           }
          ],
          "scatter": [
           {
            "fillpattern": {
             "fillmode": "overlay",
             "size": 10,
             "solidity": 0.2
            },
            "type": "scatter"
           }
          ],
          "scatter3d": [
           {
            "line": {
             "colorbar": {
              "outlinewidth": 0,
              "ticks": ""
             }
            },
            "marker": {
             "colorbar": {
              "outlinewidth": 0,
              "ticks": ""
             }
            },
            "type": "scatter3d"
           }
          ],
          "scattercarpet": [
           {
            "marker": {
             "colorbar": {
              "outlinewidth": 0,
              "ticks": ""
             }
            },
            "type": "scattercarpet"
           }
          ],
          "scattergeo": [
           {
            "marker": {
             "colorbar": {
              "outlinewidth": 0,
              "ticks": ""
             }
            },
            "type": "scattergeo"
           }
          ],
          "scattergl": [
           {
            "marker": {
             "colorbar": {
              "outlinewidth": 0,
              "ticks": ""
             }
            },
            "type": "scattergl"
           }
          ],
          "scattermapbox": [
           {
            "marker": {
             "colorbar": {
              "outlinewidth": 0,
              "ticks": ""
             }
            },
            "type": "scattermapbox"
           }
          ],
          "scatterpolar": [
           {
            "marker": {
             "colorbar": {
              "outlinewidth": 0,
              "ticks": ""
             }
            },
            "type": "scatterpolar"
           }
          ],
          "scatterpolargl": [
           {
            "marker": {
             "colorbar": {
              "outlinewidth": 0,
              "ticks": ""
             }
            },
            "type": "scatterpolargl"
           }
          ],
          "scatterternary": [
           {
            "marker": {
             "colorbar": {
              "outlinewidth": 0,
              "ticks": ""
             }
            },
            "type": "scatterternary"
           }
          ],
          "surface": [
           {
            "colorbar": {
             "outlinewidth": 0,
             "ticks": ""
            },
            "colorscale": [
             [
              0,
              "#0d0887"
             ],
             [
              0.1111111111111111,
              "#46039f"
             ],
             [
              0.2222222222222222,
              "#7201a8"
             ],
             [
              0.3333333333333333,
              "#9c179e"
             ],
             [
              0.4444444444444444,
              "#bd3786"
             ],
             [
              0.5555555555555556,
              "#d8576b"
             ],
             [
              0.6666666666666666,
              "#ed7953"
             ],
             [
              0.7777777777777778,
              "#fb9f3a"
             ],
             [
              0.8888888888888888,
              "#fdca26"
             ],
             [
              1,
              "#f0f921"
             ]
            ],
            "type": "surface"
           }
          ],
          "table": [
           {
            "cells": {
             "fill": {
              "color": "#EBF0F8"
             },
             "line": {
              "color": "white"
             }
            },
            "header": {
             "fill": {
              "color": "#C8D4E3"
             },
             "line": {
              "color": "white"
             }
            },
            "type": "table"
           }
          ]
         },
         "layout": {
          "annotationdefaults": {
           "arrowcolor": "#2a3f5f",
           "arrowhead": 0,
           "arrowwidth": 1
          },
          "autotypenumbers": "strict",
          "coloraxis": {
           "colorbar": {
            "outlinewidth": 0,
            "ticks": ""
           }
          },
          "colorscale": {
           "diverging": [
            [
             0,
             "#8e0152"
            ],
            [
             0.1,
             "#c51b7d"
            ],
            [
             0.2,
             "#de77ae"
            ],
            [
             0.3,
             "#f1b6da"
            ],
            [
             0.4,
             "#fde0ef"
            ],
            [
             0.5,
             "#f7f7f7"
            ],
            [
             0.6,
             "#e6f5d0"
            ],
            [
             0.7,
             "#b8e186"
            ],
            [
             0.8,
             "#7fbc41"
            ],
            [
             0.9,
             "#4d9221"
            ],
            [
             1,
             "#276419"
            ]
           ],
           "sequential": [
            [
             0,
             "#0d0887"
            ],
            [
             0.1111111111111111,
             "#46039f"
            ],
            [
             0.2222222222222222,
             "#7201a8"
            ],
            [
             0.3333333333333333,
             "#9c179e"
            ],
            [
             0.4444444444444444,
             "#bd3786"
            ],
            [
             0.5555555555555556,
             "#d8576b"
            ],
            [
             0.6666666666666666,
             "#ed7953"
            ],
            [
             0.7777777777777778,
             "#fb9f3a"
            ],
            [
             0.8888888888888888,
             "#fdca26"
            ],
            [
             1,
             "#f0f921"
            ]
           ],
           "sequentialminus": [
            [
             0,
             "#0d0887"
            ],
            [
             0.1111111111111111,
             "#46039f"
            ],
            [
             0.2222222222222222,
             "#7201a8"
            ],
            [
             0.3333333333333333,
             "#9c179e"
            ],
            [
             0.4444444444444444,
             "#bd3786"
            ],
            [
             0.5555555555555556,
             "#d8576b"
            ],
            [
             0.6666666666666666,
             "#ed7953"
            ],
            [
             0.7777777777777778,
             "#fb9f3a"
            ],
            [
             0.8888888888888888,
             "#fdca26"
            ],
            [
             1,
             "#f0f921"
            ]
           ]
          },
          "colorway": [
           "#636efa",
           "#EF553B",
           "#00cc96",
           "#ab63fa",
           "#FFA15A",
           "#19d3f3",
           "#FF6692",
           "#B6E880",
           "#FF97FF",
           "#FECB52"
          ],
          "font": {
           "color": "#2a3f5f"
          },
          "geo": {
           "bgcolor": "white",
           "lakecolor": "white",
           "landcolor": "white",
           "showlakes": true,
           "showland": true,
           "subunitcolor": "#C8D4E3"
          },
          "hoverlabel": {
           "align": "left"
          },
          "hovermode": "closest",
          "mapbox": {
           "style": "light"
          },
          "paper_bgcolor": "white",
          "plot_bgcolor": "white",
          "polar": {
           "angularaxis": {
            "gridcolor": "#EBF0F8",
            "linecolor": "#EBF0F8",
            "ticks": ""
           },
           "bgcolor": "white",
           "radialaxis": {
            "gridcolor": "#EBF0F8",
            "linecolor": "#EBF0F8",
            "ticks": ""
           }
          },
          "scene": {
           "xaxis": {
            "backgroundcolor": "white",
            "gridcolor": "#DFE8F3",
            "gridwidth": 2,
            "linecolor": "#EBF0F8",
            "showbackground": true,
            "ticks": "",
            "zerolinecolor": "#EBF0F8"
           },
           "yaxis": {
            "backgroundcolor": "white",
            "gridcolor": "#DFE8F3",
            "gridwidth": 2,
            "linecolor": "#EBF0F8",
            "showbackground": true,
            "ticks": "",
            "zerolinecolor": "#EBF0F8"
           },
           "zaxis": {
            "backgroundcolor": "white",
            "gridcolor": "#DFE8F3",
            "gridwidth": 2,
            "linecolor": "#EBF0F8",
            "showbackground": true,
            "ticks": "",
            "zerolinecolor": "#EBF0F8"
           }
          },
          "shapedefaults": {
           "line": {
            "color": "#2a3f5f"
           }
          },
          "ternary": {
           "aaxis": {
            "gridcolor": "#DFE8F3",
            "linecolor": "#A2B1C6",
            "ticks": ""
           },
           "baxis": {
            "gridcolor": "#DFE8F3",
            "linecolor": "#A2B1C6",
            "ticks": ""
           },
           "bgcolor": "white",
           "caxis": {
            "gridcolor": "#DFE8F3",
            "linecolor": "#A2B1C6",
            "ticks": ""
           }
          },
          "title": {
           "x": 0.05
          },
          "xaxis": {
           "automargin": true,
           "gridcolor": "#EBF0F8",
           "linecolor": "#EBF0F8",
           "ticks": "",
           "title": {
            "standoff": 15
           },
           "zerolinecolor": "#EBF0F8",
           "zerolinewidth": 2
          },
          "yaxis": {
           "automargin": true,
           "gridcolor": "#EBF0F8",
           "linecolor": "#EBF0F8",
           "ticks": "",
           "title": {
            "standoff": 15
           },
           "zerolinecolor": "#EBF0F8",
           "zerolinewidth": 2
          }
         }
        },
        "title": {
         "text": "Distribuição de Modalidade de Trabalho por Gênero ao Longo dos Anos"
        },
        "width": 1200,
        "xaxis": {
         "anchor": "y",
         "domain": [
          0,
          1
         ],
         "matches": "x4",
         "showticklabels": false
        },
        "xaxis2": {
         "anchor": "y2",
         "domain": [
          0,
          1
         ],
         "matches": "x4",
         "showticklabels": false
        },
        "xaxis3": {
         "anchor": "y3",
         "domain": [
          0,
          1
         ],
         "matches": "x4",
         "showticklabels": false
        },
        "xaxis4": {
         "anchor": "y4",
         "domain": [
          0,
          1
         ],
         "title": {
          "text": "Quantidade"
         }
        },
        "yaxis": {
         "anchor": "x",
         "domain": [
          0.7875,
          1
         ],
         "showgrid": true,
         "title": {
          "text": "Modalidade"
         }
        },
        "yaxis2": {
         "anchor": "x2",
         "domain": [
          0.525,
          0.7375
         ],
         "showgrid": true,
         "title": {
          "text": "Modalidade"
         }
        },
        "yaxis3": {
         "anchor": "x3",
         "domain": [
          0.2625,
          0.475
         ],
         "showgrid": true,
         "title": {
          "text": "Modalidade"
         }
        },
        "yaxis4": {
         "anchor": "x4",
         "domain": [
          0,
          0.2125
         ],
         "showgrid": true,
         "title": {
          "text": "Modalidade"
         }
        }
       }
      }
     },
     "metadata": {},
     "output_type": "display_data"
    }
   ],
   "source": [
    "# Distribuição modalidade x genero\n",
    "\n",
    "df = df_rj[df_rj['modalidade'].notna()].copy()\n",
    "\n",
    "# Contagem por modalidade, ano e gênero\n",
    "df_contagem = df.groupby(['modalidade', 'ano_pesquisa', 'genero']).size().reset_index(name='contagem')\n",
    "\n",
    "# Paleta de cores\n",
    "cores = {\"Masculino\": \"#1E90FF\", \"Feminino\": \"#FF7F50\"}\n",
    "\n",
    "# Valores únicos organizados\n",
    "modalidades_unicas = sorted(df_contagem['modalidade'].unique())\n",
    "anos = sorted(df_contagem['ano_pesquisa'].unique())\n",
    "generos = [\"Feminino\", \"Masculino\"]\n",
    "\n",
    "# Subplots: um por ano\n",
    "fig = make_subplots(\n",
    "    rows=len(anos), \n",
    "    cols=1,\n",
    "    subplot_titles=[f\"Ano {ano}\" for ano in anos], \n",
    "    shared_xaxes=True,\n",
    "    vertical_spacing=0.05\n",
    ")\n",
    "\n",
    "# Loop pelos anos\n",
    "for i, ano in enumerate(anos):\n",
    "    row = i + 1  \n",
    "    \n",
    "    for genero in generos:\n",
    "        \n",
    "        df_filtrado = df_contagem[(df_contagem['ano_pesquisa'] == ano) & \n",
    "                                  (df_contagem['genero'] == genero)]\n",
    "        \n",
    "        y_modalidades = []\n",
    "        x_contagens = []\n",
    "        \n",
    "        for modalidade in modalidades_unicas:\n",
    "            df_mod = df_filtrado[df_filtrado['modalidade'] == modalidade]\n",
    "            if not df_mod.empty:\n",
    "                x_contagens.append(df_mod['contagem'].values[0])\n",
    "            else:\n",
    "                x_contagens.append(0)\n",
    "            y_modalidades.append(modalidade)\n",
    "        \n",
    "        fig.add_trace(\n",
    "            go.Bar(\n",
    "                y=y_modalidades,           \n",
    "                x=x_contagens,            \n",
    "                name=genero,               \n",
    "                marker_color=cores[genero],\n",
    "                textposition='auto',\n",
    "                orientation='h',           \n",
    "                showlegend=i == 0         \n",
    "            ),\n",
    "            row=row, col=1\n",
    "        )\n",
    "\n",
    "# Layout\n",
    "fig.update_layout(\n",
    "    title='Distribuição de Modalidade de Trabalho por Gênero ao Longo dos Anos',\n",
    "    height=max(800, len(anos) * 200),  \n",
    "    width=1200,\n",
    "    template='plotly_white',\n",
    "    barmode='group',              \n",
    "    legend=dict(\n",
    "        orientation=\"h\",          \n",
    "        yanchor=\"bottom\",\n",
    "        y=1.02,\n",
    "        xanchor=\"right\",\n",
    "        x=1\n",
    "    )\n",
    ")\n",
    "\n",
    "# Eixos\n",
    "fig.update_xaxes(title_text=\"Quantidade\", row=len(anos), col=1)\n",
    "\n",
    "for i in range(1, len(anos) + 1):\n",
    "    fig.update_yaxes(title_text=\"Modalidade\", row=i, col=1, showgrid=True)\n",
    "\n",
    "fig.show()\n"
   ]
  },
  {
   "cell_type": "code",
   "execution_count": 37,
   "metadata": {},
   "outputs": [
    {
     "data": {
      "application/vnd.plotly.v1+json": {
       "config": {
        "plotlyServerURL": "https://plot.ly"
       },
       "data": [
        {
         "marker": {
          "color": "#FF7F50"
         },
         "name": "Feminino",
         "showlegend": true,
         "text": [
          "33",
          "51",
          "73",
          "73"
         ],
         "textposition": "auto",
         "type": "bar",
         "x": [
          "2021",
          "2022",
          "2023",
          "2024"
         ],
         "xaxis": "x",
         "y": [
          33,
          51,
          73,
          73
         ],
         "yaxis": "y"
        },
        {
         "marker": {
          "color": "#1E90FF"
         },
         "name": "Masculino",
         "showlegend": true,
         "text": [
          "121",
          "165",
          "230",
          "193"
         ],
         "textposition": "auto",
         "type": "bar",
         "x": [
          "2021",
          "2022",
          "2023",
          "2024"
         ],
         "xaxis": "x",
         "y": [
          121,
          165,
          230,
          193
         ],
         "yaxis": "y"
        },
        {
         "marker": {
          "color": "#FF7F50"
         },
         "name": "Feminino",
         "showlegend": false,
         "text": [
          "1",
          "6",
          "7",
          "9"
         ],
         "textposition": "auto",
         "type": "bar",
         "x": [
          "2021",
          "2022",
          "2023",
          "2024"
         ],
         "xaxis": "x2",
         "y": [
          1,
          6,
          7,
          9
         ],
         "yaxis": "y2"
        },
        {
         "marker": {
          "color": "#1E90FF"
         },
         "name": "Masculino",
         "showlegend": false,
         "text": [
          "11",
          "24",
          "29",
          "33"
         ],
         "textposition": "auto",
         "type": "bar",
         "x": [
          "2021",
          "2022",
          "2023",
          "2024"
         ],
         "xaxis": "x2",
         "y": [
          11,
          24,
          29,
          33
         ],
         "yaxis": "y2"
        },
        {
         "marker": {
          "color": "#FF7F50"
         },
         "name": "Feminino",
         "showlegend": false,
         "text": [
          "1",
          "8",
          "12",
          "11"
         ],
         "textposition": "auto",
         "type": "bar",
         "x": [
          "2021",
          "2022",
          "2023",
          "2024"
         ],
         "xaxis": "x3",
         "y": [
          1,
          8,
          12,
          11
         ],
         "yaxis": "y3"
        },
        {
         "marker": {
          "color": "#1E90FF"
         },
         "name": "Masculino",
         "showlegend": false,
         "text": [
          "15",
          "23",
          "19",
          "16"
         ],
         "textposition": "auto",
         "type": "bar",
         "x": [
          "2021",
          "2022",
          "2023",
          "2024"
         ],
         "xaxis": "x3",
         "y": [
          15,
          23,
          19,
          16
         ],
         "yaxis": "y3"
        },
        {
         "marker": {
          "color": "#FF7F50"
         },
         "name": "Feminino",
         "showlegend": false,
         "text": [
          "3",
          "7",
          "10",
          "4"
         ],
         "textposition": "auto",
         "type": "bar",
         "x": [
          "2021",
          "2022",
          "2023",
          "2024"
         ],
         "xaxis": "x4",
         "y": [
          3,
          7,
          10,
          4
         ],
         "yaxis": "y4"
        },
        {
         "marker": {
          "color": "#1E90FF"
         },
         "name": "Masculino",
         "showlegend": false,
         "text": [
          "9",
          "13",
          "20",
          "13"
         ],
         "textposition": "auto",
         "type": "bar",
         "x": [
          "2021",
          "2022",
          "2023",
          "2024"
         ],
         "xaxis": "x4",
         "y": [
          9,
          13,
          20,
          13
         ],
         "yaxis": "y4"
        },
        {
         "marker": {
          "color": "#FF7F50"
         },
         "name": "Feminino",
         "showlegend": false,
         "text": [
          "1",
          "3",
          "4",
          "1"
         ],
         "textposition": "auto",
         "type": "bar",
         "x": [
          "2021",
          "2022",
          "2023",
          "2024"
         ],
         "xaxis": "x5",
         "y": [
          1,
          3,
          4,
          1
         ],
         "yaxis": "y5"
        },
        {
         "marker": {
          "color": "#1E90FF"
         },
         "name": "Masculino",
         "showlegend": false,
         "text": [
          "7",
          "8",
          "7",
          "8"
         ],
         "textposition": "auto",
         "type": "bar",
         "x": [
          "2021",
          "2022",
          "2023",
          "2024"
         ],
         "xaxis": "x5",
         "y": [
          7,
          8,
          7,
          8
         ],
         "yaxis": "y5"
        },
        {
         "marker": {
          "color": "#FF7F50"
         },
         "name": "Feminino",
         "showlegend": false,
         "text": [
          "3",
          "1",
          "0",
          "0"
         ],
         "textposition": "auto",
         "type": "bar",
         "x": [
          "2021",
          "2022",
          "2023",
          "2024"
         ],
         "xaxis": "x6",
         "y": [
          3,
          1,
          0,
          0
         ],
         "yaxis": "y6"
        },
        {
         "marker": {
          "color": "#1E90FF"
         },
         "name": "Masculino",
         "showlegend": false,
         "text": [
          "8",
          "14",
          "5",
          "6"
         ],
         "textposition": "auto",
         "type": "bar",
         "x": [
          "2021",
          "2022",
          "2023",
          "2024"
         ],
         "xaxis": "x6",
         "y": [
          8,
          14,
          5,
          6
         ],
         "yaxis": "y6"
        },
        {
         "marker": {
          "color": "#FF7F50"
         },
         "name": "Feminino",
         "showlegend": false,
         "text": [
          "0",
          "0",
          "1",
          "1"
         ],
         "textposition": "auto",
         "type": "bar",
         "x": [
          "2021",
          "2022",
          "2023",
          "2024"
         ],
         "xaxis": "x7",
         "y": [
          0,
          0,
          1,
          1
         ],
         "yaxis": "y7"
        },
        {
         "marker": {
          "color": "#1E90FF"
         },
         "name": "Masculino",
         "showlegend": false,
         "text": [
          "1",
          "4",
          "11",
          "12"
         ],
         "textposition": "auto",
         "type": "bar",
         "x": [
          "2021",
          "2022",
          "2023",
          "2024"
         ],
         "xaxis": "x7",
         "y": [
          1,
          4,
          11,
          12
         ],
         "yaxis": "y7"
        },
        {
         "marker": {
          "color": "#FF7F50"
         },
         "name": "Feminino",
         "showlegend": false,
         "text": [
          "2",
          "1",
          "2",
          "0"
         ],
         "textposition": "auto",
         "type": "bar",
         "x": [
          "2021",
          "2022",
          "2023",
          "2024"
         ],
         "xaxis": "x8",
         "y": [
          2,
          1,
          2,
          0
         ],
         "yaxis": "y8"
        },
        {
         "marker": {
          "color": "#1E90FF"
         },
         "name": "Masculino",
         "showlegend": false,
         "text": [
          "5",
          "4",
          "3",
          "4"
         ],
         "textposition": "auto",
         "type": "bar",
         "x": [
          "2021",
          "2022",
          "2023",
          "2024"
         ],
         "xaxis": "x8",
         "y": [
          5,
          4,
          3,
          4
         ],
         "yaxis": "y8"
        },
        {
         "marker": {
          "color": "#FF7F50"
         },
         "name": "Feminino",
         "showlegend": false,
         "text": [
          "0",
          "0",
          "0",
          "2"
         ],
         "textposition": "auto",
         "type": "bar",
         "x": [
          "2021",
          "2022",
          "2023",
          "2024"
         ],
         "xaxis": "x9",
         "y": [
          0,
          0,
          0,
          2
         ],
         "yaxis": "y9"
        },
        {
         "marker": {
          "color": "#1E90FF"
         },
         "name": "Masculino",
         "showlegend": false,
         "text": [
          "1",
          "3",
          "3",
          "6"
         ],
         "textposition": "auto",
         "type": "bar",
         "x": [
          "2021",
          "2022",
          "2023",
          "2024"
         ],
         "xaxis": "x9",
         "y": [
          1,
          3,
          3,
          6
         ],
         "yaxis": "y9"
        }
       ],
       "layout": {
        "annotations": [
         {
          "font": {
           "size": 16
          },
          "showarrow": false,
          "text": "Empregado (CLT)",
          "x": 0.14333333333333334,
          "xanchor": "center",
          "xref": "paper",
          "y": 1,
          "yanchor": "bottom",
          "yref": "paper"
         },
         {
          "font": {
           "size": 16
          },
          "showarrow": false,
          "text": "Empreendedor ou Empregado (CNPJ)",
          "x": 0.5,
          "xanchor": "center",
          "xref": "paper",
          "y": 1,
          "yanchor": "bottom",
          "yref": "paper"
         },
         {
          "font": {
           "size": 16
          },
          "showarrow": false,
          "text": "Desempregado",
          "x": 0.8566666666666667,
          "xanchor": "center",
          "xref": "paper",
          "y": 1,
          "yanchor": "bottom",
          "yref": "paper"
         },
         {
          "font": {
           "size": 16
          },
          "showarrow": false,
          "text": "Estagiário",
          "x": 0.14333333333333334,
          "xanchor": "center",
          "xref": "paper",
          "y": 0.6266666666666667,
          "yanchor": "bottom",
          "yref": "paper"
         },
         {
          "font": {
           "size": 16
          },
          "showarrow": false,
          "text": "Servidor Público",
          "x": 0.5,
          "xanchor": "center",
          "xref": "paper",
          "y": 0.6266666666666667,
          "yanchor": "bottom",
          "yref": "paper"
         },
         {
          "font": {
           "size": 16
          },
          "showarrow": false,
          "text": "Somente Estudante",
          "x": 0.8566666666666667,
          "xanchor": "center",
          "xref": "paper",
          "y": 0.6266666666666667,
          "yanchor": "bottom",
          "yref": "paper"
         },
         {
          "font": {
           "size": 16
          },
          "showarrow": false,
          "text": "Vivo no Brasil e trabalho remoto para fora do país",
          "x": 0.14333333333333334,
          "xanchor": "center",
          "xref": "paper",
          "y": 0.25333333333333335,
          "yanchor": "bottom",
          "yref": "paper"
         },
         {
          "font": {
           "size": 16
          },
          "showarrow": false,
          "text": "Trabalho na área Acadêmica/Pesquisador",
          "x": 0.5,
          "xanchor": "center",
          "xref": "paper",
          "y": 0.25333333333333335,
          "yanchor": "bottom",
          "yref": "paper"
         },
         {
          "font": {
           "size": 16
          },
          "showarrow": false,
          "text": "Freelancer",
          "x": 0.8566666666666667,
          "xanchor": "center",
          "xref": "paper",
          "y": 0.25333333333333335,
          "yanchor": "bottom",
          "yref": "paper"
         }
        ],
        "barmode": "group",
        "height": 900,
        "legend": {
         "orientation": "h",
         "x": 1,
         "xanchor": "right",
         "y": 1.02,
         "yanchor": "bottom"
        },
        "margin": {
         "b": 50,
         "l": 50,
         "r": 50,
         "t": 80
        },
        "template": {
         "data": {
          "bar": [
           {
            "error_x": {
             "color": "#2a3f5f"
            },
            "error_y": {
             "color": "#2a3f5f"
            },
            "marker": {
             "line": {
              "color": "white",
              "width": 0.5
             },
             "pattern": {
              "fillmode": "overlay",
              "size": 10,
              "solidity": 0.2
             }
            },
            "type": "bar"
           }
          ],
          "barpolar": [
           {
            "marker": {
             "line": {
              "color": "white",
              "width": 0.5
             },
             "pattern": {
              "fillmode": "overlay",
              "size": 10,
              "solidity": 0.2
             }
            },
            "type": "barpolar"
           }
          ],
          "carpet": [
           {
            "aaxis": {
             "endlinecolor": "#2a3f5f",
             "gridcolor": "#C8D4E3",
             "linecolor": "#C8D4E3",
             "minorgridcolor": "#C8D4E3",
             "startlinecolor": "#2a3f5f"
            },
            "baxis": {
             "endlinecolor": "#2a3f5f",
             "gridcolor": "#C8D4E3",
             "linecolor": "#C8D4E3",
             "minorgridcolor": "#C8D4E3",
             "startlinecolor": "#2a3f5f"
            },
            "type": "carpet"
           }
          ],
          "choropleth": [
           {
            "colorbar": {
             "outlinewidth": 0,
             "ticks": ""
            },
            "type": "choropleth"
           }
          ],
          "contour": [
           {
            "colorbar": {
             "outlinewidth": 0,
             "ticks": ""
            },
            "colorscale": [
             [
              0,
              "#0d0887"
             ],
             [
              0.1111111111111111,
              "#46039f"
             ],
             [
              0.2222222222222222,
              "#7201a8"
             ],
             [
              0.3333333333333333,
              "#9c179e"
             ],
             [
              0.4444444444444444,
              "#bd3786"
             ],
             [
              0.5555555555555556,
              "#d8576b"
             ],
             [
              0.6666666666666666,
              "#ed7953"
             ],
             [
              0.7777777777777778,
              "#fb9f3a"
             ],
             [
              0.8888888888888888,
              "#fdca26"
             ],
             [
              1,
              "#f0f921"
             ]
            ],
            "type": "contour"
           }
          ],
          "contourcarpet": [
           {
            "colorbar": {
             "outlinewidth": 0,
             "ticks": ""
            },
            "type": "contourcarpet"
           }
          ],
          "heatmap": [
           {
            "colorbar": {
             "outlinewidth": 0,
             "ticks": ""
            },
            "colorscale": [
             [
              0,
              "#0d0887"
             ],
             [
              0.1111111111111111,
              "#46039f"
             ],
             [
              0.2222222222222222,
              "#7201a8"
             ],
             [
              0.3333333333333333,
              "#9c179e"
             ],
             [
              0.4444444444444444,
              "#bd3786"
             ],
             [
              0.5555555555555556,
              "#d8576b"
             ],
             [
              0.6666666666666666,
              "#ed7953"
             ],
             [
              0.7777777777777778,
              "#fb9f3a"
             ],
             [
              0.8888888888888888,
              "#fdca26"
             ],
             [
              1,
              "#f0f921"
             ]
            ],
            "type": "heatmap"
           }
          ],
          "heatmapgl": [
           {
            "colorbar": {
             "outlinewidth": 0,
             "ticks": ""
            },
            "colorscale": [
             [
              0,
              "#0d0887"
             ],
             [
              0.1111111111111111,
              "#46039f"
             ],
             [
              0.2222222222222222,
              "#7201a8"
             ],
             [
              0.3333333333333333,
              "#9c179e"
             ],
             [
              0.4444444444444444,
              "#bd3786"
             ],
             [
              0.5555555555555556,
              "#d8576b"
             ],
             [
              0.6666666666666666,
              "#ed7953"
             ],
             [
              0.7777777777777778,
              "#fb9f3a"
             ],
             [
              0.8888888888888888,
              "#fdca26"
             ],
             [
              1,
              "#f0f921"
             ]
            ],
            "type": "heatmapgl"
           }
          ],
          "histogram": [
           {
            "marker": {
             "pattern": {
              "fillmode": "overlay",
              "size": 10,
              "solidity": 0.2
             }
            },
            "type": "histogram"
           }
          ],
          "histogram2d": [
           {
            "colorbar": {
             "outlinewidth": 0,
             "ticks": ""
            },
            "colorscale": [
             [
              0,
              "#0d0887"
             ],
             [
              0.1111111111111111,
              "#46039f"
             ],
             [
              0.2222222222222222,
              "#7201a8"
             ],
             [
              0.3333333333333333,
              "#9c179e"
             ],
             [
              0.4444444444444444,
              "#bd3786"
             ],
             [
              0.5555555555555556,
              "#d8576b"
             ],
             [
              0.6666666666666666,
              "#ed7953"
             ],
             [
              0.7777777777777778,
              "#fb9f3a"
             ],
             [
              0.8888888888888888,
              "#fdca26"
             ],
             [
              1,
              "#f0f921"
             ]
            ],
            "type": "histogram2d"
           }
          ],
          "histogram2dcontour": [
           {
            "colorbar": {
             "outlinewidth": 0,
             "ticks": ""
            },
            "colorscale": [
             [
              0,
              "#0d0887"
             ],
             [
              0.1111111111111111,
              "#46039f"
             ],
             [
              0.2222222222222222,
              "#7201a8"
             ],
             [
              0.3333333333333333,
              "#9c179e"
             ],
             [
              0.4444444444444444,
              "#bd3786"
             ],
             [
              0.5555555555555556,
              "#d8576b"
             ],
             [
              0.6666666666666666,
              "#ed7953"
             ],
             [
              0.7777777777777778,
              "#fb9f3a"
             ],
             [
              0.8888888888888888,
              "#fdca26"
             ],
             [
              1,
              "#f0f921"
             ]
            ],
            "type": "histogram2dcontour"
           }
          ],
          "mesh3d": [
           {
            "colorbar": {
             "outlinewidth": 0,
             "ticks": ""
            },
            "type": "mesh3d"
           }
          ],
          "parcoords": [
           {
            "line": {
             "colorbar": {
              "outlinewidth": 0,
              "ticks": ""
             }
            },
            "type": "parcoords"
           }
          ],
          "pie": [
           {
            "automargin": true,
            "type": "pie"
           }
          ],
          "scatter": [
           {
            "fillpattern": {
             "fillmode": "overlay",
             "size": 10,
             "solidity": 0.2
            },
            "type": "scatter"
           }
          ],
          "scatter3d": [
           {
            "line": {
             "colorbar": {
              "outlinewidth": 0,
              "ticks": ""
             }
            },
            "marker": {
             "colorbar": {
              "outlinewidth": 0,
              "ticks": ""
             }
            },
            "type": "scatter3d"
           }
          ],
          "scattercarpet": [
           {
            "marker": {
             "colorbar": {
              "outlinewidth": 0,
              "ticks": ""
             }
            },
            "type": "scattercarpet"
           }
          ],
          "scattergeo": [
           {
            "marker": {
             "colorbar": {
              "outlinewidth": 0,
              "ticks": ""
             }
            },
            "type": "scattergeo"
           }
          ],
          "scattergl": [
           {
            "marker": {
             "colorbar": {
              "outlinewidth": 0,
              "ticks": ""
             }
            },
            "type": "scattergl"
           }
          ],
          "scattermapbox": [
           {
            "marker": {
             "colorbar": {
              "outlinewidth": 0,
              "ticks": ""
             }
            },
            "type": "scattermapbox"
           }
          ],
          "scatterpolar": [
           {
            "marker": {
             "colorbar": {
              "outlinewidth": 0,
              "ticks": ""
             }
            },
            "type": "scatterpolar"
           }
          ],
          "scatterpolargl": [
           {
            "marker": {
             "colorbar": {
              "outlinewidth": 0,
              "ticks": ""
             }
            },
            "type": "scatterpolargl"
           }
          ],
          "scatterternary": [
           {
            "marker": {
             "colorbar": {
              "outlinewidth": 0,
              "ticks": ""
             }
            },
            "type": "scatterternary"
           }
          ],
          "surface": [
           {
            "colorbar": {
             "outlinewidth": 0,
             "ticks": ""
            },
            "colorscale": [
             [
              0,
              "#0d0887"
             ],
             [
              0.1111111111111111,
              "#46039f"
             ],
             [
              0.2222222222222222,
              "#7201a8"
             ],
             [
              0.3333333333333333,
              "#9c179e"
             ],
             [
              0.4444444444444444,
              "#bd3786"
             ],
             [
              0.5555555555555556,
              "#d8576b"
             ],
             [
              0.6666666666666666,
              "#ed7953"
             ],
             [
              0.7777777777777778,
              "#fb9f3a"
             ],
             [
              0.8888888888888888,
              "#fdca26"
             ],
             [
              1,
              "#f0f921"
             ]
            ],
            "type": "surface"
           }
          ],
          "table": [
           {
            "cells": {
             "fill": {
              "color": "#EBF0F8"
             },
             "line": {
              "color": "white"
             }
            },
            "header": {
             "fill": {
              "color": "#C8D4E3"
             },
             "line": {
              "color": "white"
             }
            },
            "type": "table"
           }
          ]
         },
         "layout": {
          "annotationdefaults": {
           "arrowcolor": "#2a3f5f",
           "arrowhead": 0,
           "arrowwidth": 1
          },
          "autotypenumbers": "strict",
          "coloraxis": {
           "colorbar": {
            "outlinewidth": 0,
            "ticks": ""
           }
          },
          "colorscale": {
           "diverging": [
            [
             0,
             "#8e0152"
            ],
            [
             0.1,
             "#c51b7d"
            ],
            [
             0.2,
             "#de77ae"
            ],
            [
             0.3,
             "#f1b6da"
            ],
            [
             0.4,
             "#fde0ef"
            ],
            [
             0.5,
             "#f7f7f7"
            ],
            [
             0.6,
             "#e6f5d0"
            ],
            [
             0.7,
             "#b8e186"
            ],
            [
             0.8,
             "#7fbc41"
            ],
            [
             0.9,
             "#4d9221"
            ],
            [
             1,
             "#276419"
            ]
           ],
           "sequential": [
            [
             0,
             "#0d0887"
            ],
            [
             0.1111111111111111,
             "#46039f"
            ],
            [
             0.2222222222222222,
             "#7201a8"
            ],
            [
             0.3333333333333333,
             "#9c179e"
            ],
            [
             0.4444444444444444,
             "#bd3786"
            ],
            [
             0.5555555555555556,
             "#d8576b"
            ],
            [
             0.6666666666666666,
             "#ed7953"
            ],
            [
             0.7777777777777778,
             "#fb9f3a"
            ],
            [
             0.8888888888888888,
             "#fdca26"
            ],
            [
             1,
             "#f0f921"
            ]
           ],
           "sequentialminus": [
            [
             0,
             "#0d0887"
            ],
            [
             0.1111111111111111,
             "#46039f"
            ],
            [
             0.2222222222222222,
             "#7201a8"
            ],
            [
             0.3333333333333333,
             "#9c179e"
            ],
            [
             0.4444444444444444,
             "#bd3786"
            ],
            [
             0.5555555555555556,
             "#d8576b"
            ],
            [
             0.6666666666666666,
             "#ed7953"
            ],
            [
             0.7777777777777778,
             "#fb9f3a"
            ],
            [
             0.8888888888888888,
             "#fdca26"
            ],
            [
             1,
             "#f0f921"
            ]
           ]
          },
          "colorway": [
           "#636efa",
           "#EF553B",
           "#00cc96",
           "#ab63fa",
           "#FFA15A",
           "#19d3f3",
           "#FF6692",
           "#B6E880",
           "#FF97FF",
           "#FECB52"
          ],
          "font": {
           "color": "#2a3f5f"
          },
          "geo": {
           "bgcolor": "white",
           "lakecolor": "white",
           "landcolor": "white",
           "showlakes": true,
           "showland": true,
           "subunitcolor": "#C8D4E3"
          },
          "hoverlabel": {
           "align": "left"
          },
          "hovermode": "closest",
          "mapbox": {
           "style": "light"
          },
          "paper_bgcolor": "white",
          "plot_bgcolor": "white",
          "polar": {
           "angularaxis": {
            "gridcolor": "#EBF0F8",
            "linecolor": "#EBF0F8",
            "ticks": ""
           },
           "bgcolor": "white",
           "radialaxis": {
            "gridcolor": "#EBF0F8",
            "linecolor": "#EBF0F8",
            "ticks": ""
           }
          },
          "scene": {
           "xaxis": {
            "backgroundcolor": "white",
            "gridcolor": "#DFE8F3",
            "gridwidth": 2,
            "linecolor": "#EBF0F8",
            "showbackground": true,
            "ticks": "",
            "zerolinecolor": "#EBF0F8"
           },
           "yaxis": {
            "backgroundcolor": "white",
            "gridcolor": "#DFE8F3",
            "gridwidth": 2,
            "linecolor": "#EBF0F8",
            "showbackground": true,
            "ticks": "",
            "zerolinecolor": "#EBF0F8"
           },
           "zaxis": {
            "backgroundcolor": "white",
            "gridcolor": "#DFE8F3",
            "gridwidth": 2,
            "linecolor": "#EBF0F8",
            "showbackground": true,
            "ticks": "",
            "zerolinecolor": "#EBF0F8"
           }
          },
          "shapedefaults": {
           "line": {
            "color": "#2a3f5f"
           }
          },
          "ternary": {
           "aaxis": {
            "gridcolor": "#DFE8F3",
            "linecolor": "#A2B1C6",
            "ticks": ""
           },
           "baxis": {
            "gridcolor": "#DFE8F3",
            "linecolor": "#A2B1C6",
            "ticks": ""
           },
           "bgcolor": "white",
           "caxis": {
            "gridcolor": "#DFE8F3",
            "linecolor": "#A2B1C6",
            "ticks": ""
           }
          },
          "title": {
           "x": 0.05
          },
          "xaxis": {
           "automargin": true,
           "gridcolor": "#EBF0F8",
           "linecolor": "#EBF0F8",
           "ticks": "",
           "title": {
            "standoff": 15
           },
           "zerolinecolor": "#EBF0F8",
           "zerolinewidth": 2
          },
          "yaxis": {
           "automargin": true,
           "gridcolor": "#EBF0F8",
           "linecolor": "#EBF0F8",
           "ticks": "",
           "title": {
            "standoff": 15
           },
           "zerolinecolor": "#EBF0F8",
           "zerolinewidth": 2
          }
         }
        },
        "title": {
         "text": "Distribuição da Situação por Ano e Gênero"
        },
        "width": 1300,
        "xaxis": {
         "anchor": "y",
         "domain": [
          0,
          0.2866666666666667
         ],
         "tickangle": 45,
         "title": {
          "text": ""
         }
        },
        "xaxis2": {
         "anchor": "y2",
         "domain": [
          0.3566666666666667,
          0.6433333333333333
         ],
         "tickangle": 45,
         "title": {
          "text": ""
         }
        },
        "xaxis3": {
         "anchor": "y3",
         "domain": [
          0.7133333333333334,
          1
         ],
         "tickangle": 45,
         "title": {
          "text": ""
         }
        },
        "xaxis4": {
         "anchor": "y4",
         "domain": [
          0,
          0.2866666666666667
         ],
         "tickangle": 45,
         "title": {
          "text": ""
         }
        },
        "xaxis5": {
         "anchor": "y5",
         "domain": [
          0.3566666666666667,
          0.6433333333333333
         ],
         "tickangle": 45,
         "title": {
          "text": ""
         }
        },
        "xaxis6": {
         "anchor": "y6",
         "domain": [
          0.7133333333333334,
          1
         ],
         "tickangle": 45,
         "title": {
          "text": ""
         }
        },
        "xaxis7": {
         "anchor": "y7",
         "domain": [
          0,
          0.2866666666666667
         ],
         "tickangle": 45,
         "title": {
          "text": "Ano"
         }
        },
        "xaxis8": {
         "anchor": "y8",
         "domain": [
          0.3566666666666667,
          0.6433333333333333
         ],
         "tickangle": 45,
         "title": {
          "text": "Ano"
         }
        },
        "xaxis9": {
         "anchor": "y9",
         "domain": [
          0.7133333333333334,
          1
         ],
         "tickangle": 45,
         "title": {
          "text": "Ano"
         }
        },
        "yaxis": {
         "anchor": "x",
         "domain": [
          0.7466666666666667,
          1
         ],
         "title": {
          "text": "Quantidade"
         }
        },
        "yaxis2": {
         "anchor": "x2",
         "domain": [
          0.7466666666666667,
          1
         ]
        },
        "yaxis3": {
         "anchor": "x3",
         "domain": [
          0.7466666666666667,
          1
         ]
        },
        "yaxis4": {
         "anchor": "x4",
         "domain": [
          0.37333333333333335,
          0.6266666666666667
         ],
         "title": {
          "text": "Quantidade"
         }
        },
        "yaxis5": {
         "anchor": "x5",
         "domain": [
          0.37333333333333335,
          0.6266666666666667
         ]
        },
        "yaxis6": {
         "anchor": "x6",
         "domain": [
          0.37333333333333335,
          0.6266666666666667
         ]
        },
        "yaxis7": {
         "anchor": "x7",
         "domain": [
          0,
          0.25333333333333335
         ],
         "title": {
          "text": "Quantidade"
         }
        },
        "yaxis8": {
         "anchor": "x8",
         "domain": [
          0,
          0.25333333333333335
         ]
        },
        "yaxis9": {
         "anchor": "x9",
         "domain": [
          0,
          0.25333333333333335
         ]
        }
       }
      }
     },
     "metadata": {},
     "output_type": "display_data"
    }
   ],
   "source": [
    "# Distribuição situação x genero\n",
    "\n",
    "df = df_rj[df_rj['situacao'].notna()].copy()\n",
    "\n",
    "# Contagem por situação, ano e gênero\n",
    "df_contagem = df.groupby(['situacao', 'ano_pesquisa', 'genero']).size().reset_index(name='contagem')\n",
    "\n",
    "# Paleta de cores\n",
    "cores = {\"Masculino\": \"#1E90FF\", \"Feminino\": \"#FF7F50\"}\n",
    "\n",
    "# Ordenar situações pela soma total (mais frequentes primeiro)\n",
    "situacoes_unicas = df_contagem.groupby('situacao')['contagem'].sum().sort_values(ascending=False).index.tolist()\n",
    "anos = sorted(df_contagem['ano_pesquisa'].unique())\n",
    "generos = [\"Feminino\", \"Masculino\"]\n",
    "\n",
    "# Layout da grade de subplots\n",
    "n_cols = 3  \n",
    "n_rows = -(-len(situacoes_unicas) // n_cols)  \n",
    "\n",
    "fig = make_subplots(\n",
    "    rows=n_rows, \n",
    "    cols=n_cols,\n",
    "    subplot_titles=situacoes_unicas,\n",
    "    shared_yaxes=False,\n",
    "    horizontal_spacing=0.07,\n",
    "    vertical_spacing=0.12\n",
    ")\n",
    "\n",
    "# Loop por situação\n",
    "for i, situacao in enumerate(situacoes_unicas):\n",
    "    row = i // n_cols + 1\n",
    "    col = i % n_cols + 1\n",
    "    \n",
    "    for genero in generos:\n",
    "        df_filtrado = df_contagem[(df_contagem['situacao'] == situacao) & \n",
    "                                  (df_contagem['genero'] == genero)]\n",
    "        \n",
    "        x_anos = []\n",
    "        y_contagens = []\n",
    "        \n",
    "        for ano in anos:\n",
    "            df_ano = df_filtrado[df_filtrado['ano_pesquisa'] == ano]\n",
    "            y_contagens.append(df_ano['contagem'].values[0] if not df_ano.empty else 0)\n",
    "            x_anos.append(ano)\n",
    "        \n",
    "        fig.add_trace(\n",
    "            go.Bar(\n",
    "                x=x_anos,\n",
    "                y=y_contagens,\n",
    "                name=genero,\n",
    "                marker_color=cores[genero],\n",
    "                text=y_contagens,\n",
    "                textposition='auto',\n",
    "                showlegend=i == 0\n",
    "            ),\n",
    "            row=row, col=col\n",
    "        )\n",
    "\n",
    "# Layout geral\n",
    "fig.update_layout(\n",
    "    title='Distribuição da Situação por Ano e Gênero',\n",
    "    height=min(1200, n_rows * 300),\n",
    "    width=1300,\n",
    "    template='plotly_white',\n",
    "    barmode='group',\n",
    "    legend=dict(\n",
    "        orientation=\"h\",\n",
    "        yanchor=\"bottom\", y=1.02,\n",
    "        xanchor=\"right\", x=1\n",
    "    ),\n",
    "    margin=dict(t=80, b=50, l=50, r=50)\n",
    ")\n",
    "\n",
    "# Eixos\n",
    "for i in range(1, n_rows + 1):\n",
    "    for j in range(1, n_cols + 1):\n",
    "        if (i-1) * n_cols + j <= len(situacoes_unicas):\n",
    "            fig.update_xaxes(title_text=\"Ano\" if i == n_rows else \"\", tickangle=45, row=i, col=j)\n",
    "            if j == 1:\n",
    "                fig.update_yaxes(title_text=\"Quantidade\", row=i, col=j)\n",
    "\n",
    "fig.show()\n"
   ]
  },
  {
   "cell_type": "markdown",
   "metadata": {},
   "source": [
    "# Estatísticas"
   ]
  },
  {
   "cell_type": "code",
   "execution_count": 38,
   "metadata": {},
   "outputs": [
    {
     "name": "stdout",
     "output_type": "stream",
     "text": [
      "Percentual de mulheres por ano:\n",
      "  ano_pesquisa  percentual_mulheres\n",
      "0         2021            19.819820\n",
      "1         2022            22.985075\n",
      "2         2023            25.000000\n",
      "3         2024            25.765306\n",
      "Percentual com pós-graduação ou superior por gênero:\n",
      "      genero  percentual_pos_ou_superior\n",
      "0   Feminino                   58.308157\n",
      "1  Masculino                   48.292220\n",
      "Percentual geral de mulheres: 23.90%\n",
      "Percentual de mulheres em cargos de liderança: 25.45%\n",
      "Percentual de mulheres em níveis seniores: 24.64%\n",
      "Percentual de mulheres em nível júnior: 23.00%\n"
     ]
    }
   ],
   "source": [
    "percentuais_genero = df_rj.groupby('ano_pesquisa')['genero'].apply(\n",
    "    lambda x: (x == 'Feminino').mean() * 100\n",
    ").reset_index(name='percentual_mulheres')\n",
    "\n",
    "print(\"Percentual de mulheres por ano:\")\n",
    "print(percentuais_genero)\n",
    "\n",
    "ordem_nivel_ensino = ['Especialização Lato Sensu', \n",
    "                      'Mestrado', 'Doutorado ou Phd']\n",
    "escolaridade_superior = df_rj.groupby('genero')['nivel_ensino'].apply(\n",
    "    lambda x: (x.isin(ordem_nivel_ensino)).mean() * 100\n",
    ").reset_index(name='percentual_pos_ou_superior')\n",
    "\n",
    "print(\"Percentual com pós-graduação ou superior por gênero:\")\n",
    "print(escolaridade_superior)\n",
    "\n",
    "# Percentual geral de mulheres\n",
    "perc_total_mulheres = (df_rj['genero'] == 'Feminino').mean() * 100\n",
    "\n",
    "# Filtragem para cargos de liderança - apenas cargo Gestor\n",
    "cargos_lideranca = ['Gestor']\n",
    "df_lideranca = df_rj[df_rj['nivel'].isin(cargos_lideranca)]\n",
    "perc_mulheres_lideranca = (df_lideranca['genero'] == 'Feminino').mean() * 100\n",
    "\n",
    "# Filtragem para níveis seniores técnicos\n",
    "niveis_senior = ['Sênior']\n",
    "df_senior = df_rj[df_rj['nivel'].isin(niveis_senior)]\n",
    "perc_mulheres_senior = (df_senior['genero'] == 'Feminino').mean() * 100\n",
    "\n",
    "# Filtragem para nível júnior\n",
    "df_junior = df_rj[df_rj['nivel'] == 'Júnior']\n",
    "perc_mulheres_junior = (df_junior['genero'] == 'Feminino').mean() * 100\n",
    "\n",
    "print(f\"Percentual geral de mulheres: {perc_total_mulheres:.2f}%\")\n",
    "print(f\"Percentual de mulheres em cargos de liderança: {perc_mulheres_lideranca:.2f}%\")\n",
    "print(f\"Percentual de mulheres em níveis seniores: {perc_mulheres_senior:.2f}%\")\n",
    "print(f\"Percentual de mulheres em nível júnior: {perc_mulheres_junior:.2f}%\")"
   ]
  },
  {
   "cell_type": "code",
   "execution_count": null,
   "metadata": {},
   "outputs": [],
   "source": []
  },
  {
   "cell_type": "code",
   "execution_count": 39,
   "metadata": {},
   "outputs": [
    {
     "name": "stdout",
     "output_type": "stream",
     "text": [
      "Percentual geral de mulheres por ano:\n",
      "  ano_pesquisa  percentual_mulheres\n",
      "0         2021            19.819820\n",
      "1         2022            22.985075\n",
      "2         2023            25.000000\n",
      "3         2024            25.765306\n",
      "\n",
      "Percentual de mulheres em cargos de gestão por ano:\n",
      "  ano_pesquisa  percentual_mulheres_gestoras\n",
      "0         2021                     27.659574\n",
      "1         2022                     19.512195\n",
      "2         2023                     24.731183\n",
      "3         2024                     21.794872\n",
      "Ano 2021: 19.82% de mulheres no total, 27.66% das gestoras são mulheres\n",
      "Ano 2022: 22.99% de mulheres no total, 19.51% das gestoras são mulheres\n",
      "Ano 2023: 25.00% de mulheres no total, 24.73% das gestoras são mulheres\n",
      "Ano 2024: 25.77% de mulheres no total, 21.79% das gestoras são mulheres\n"
     ]
    }
   ],
   "source": [
    "# Percentual geral de mulheres por ano\n",
    "perc_total_mulheres_por_ano = df_rj.groupby('ano_pesquisa')['genero'].apply(\n",
    "    lambda x: (x == 'Feminino').mean() * 100\n",
    ").reset_index(name='percentual_mulheres')\n",
    "\n",
    "# Filtragem para cargos de liderança - apenas cargo Gestor, por ano\n",
    "cargos_lideranca = ['Júnior']\n",
    "df_lideranca = df_rj[df_rj['nivel'].isin(cargos_lideranca)]\n",
    "perc_mulheres_lideranca_por_ano = df_lideranca.groupby('ano_pesquisa')['genero'].apply(\n",
    "    lambda x: (x == 'Feminino').mean() * 100\n",
    ").reset_index(name='percentual_mulheres_gestoras')\n",
    "\n",
    "# Mostrar resultados\n",
    "print(\"Percentual geral de mulheres por ano:\")\n",
    "print(perc_total_mulheres_por_ano)\n",
    "\n",
    "print(\"\\nPercentual de mulheres em cargos de gestão por ano:\")\n",
    "print(perc_mulheres_lideranca_por_ano)\n",
    "\n",
    "\n",
    "for ano in df_rj['ano_pesquisa'].unique():\n",
    "    total_mulheres = perc_total_mulheres_por_ano[perc_total_mulheres_por_ano['ano_pesquisa'] == ano]['percentual_mulheres'].values[0]\n",
    "    \n",
    "    # Verificar se existem gestoras neste ano antes de acessar\n",
    "    gestoras_ano = perc_mulheres_lideranca_por_ano[perc_mulheres_lideranca_por_ano['ano_pesquisa'] == ano]\n",
    "    if not gestoras_ano.empty:\n",
    "        mulheres_gestoras = gestoras_ano['percentual_mulheres_gestoras'].values[0]\n",
    "        print(f\"Ano {ano}: {total_mulheres:.2f}% de mulheres no total, {mulheres_gestoras:.2f}% das gestoras são mulheres\")\n",
    "    else:\n",
    "        print(f\"Ano {ano}: {total_mulheres:.2f}% de mulheres no total, sem dados sobre gestoras\")"
   ]
  },
  {
   "cell_type": "code",
   "execution_count": 40,
   "metadata": {},
   "outputs": [
    {
     "name": "stdout",
     "output_type": "stream",
     "text": [
      "Top 5 formações acadêmicas - Homens:\n",
      "1. Computação / Engenharia de Software / TI: 375 profissionais (36.5%)\n",
      "2. Engenharia (outras): 219 profissionais (21.3%)\n",
      "3. Economia / Administração / Finanças / Negócios: 192 profissionais (18.7%)\n",
      "4. Estatística / Matemática / Ciências Atuariais: 98 profissionais (9.5%)\n",
      "5. Outras: 47 profissionais (4.6%)\n",
      "\n",
      "Top 5 formações acadêmicas - Mulheres:\n",
      "1. Computação / Engenharia de Software / TI: 93 profissionais (28.4%)\n",
      "2. Engenharia (outras): 73 profissionais (22.3%)\n",
      "3. Economia / Administração / Finanças / Negócios: 48 profissionais (14.6%)\n",
      "4. Estatística / Matemática / Ciências Atuariais: 46 profissionais (14.0%)\n",
      "5. Marketing / Comunicação / Jornalismo: 26 profissionais (7.9%)\n"
     ]
    }
   ],
   "source": [
    "# Top 5 formações acadêmicas para homens\n",
    "formacao_homens = df_rj[df_rj['genero'] == 'Masculino']['area_formacao'].value_counts()\n",
    "top_formacao_homens = formacao_homens.head(5)\n",
    "perc_formacao_homens = (formacao_homens.head(5) / formacao_homens.sum() * 100).round(1)\n",
    "\n",
    "# Top 5 formações acadêmicas para mulheres\n",
    "formacao_mulheres = df_rj[df_rj['genero'] == 'Feminino']['area_formacao'].value_counts()\n",
    "top_formacao_mulheres = formacao_mulheres.head(5)\n",
    "perc_formacao_mulheres = (formacao_mulheres.head(5) / formacao_mulheres.sum() * 100).round(1)\n",
    "\n",
    "# Visualizar resultados\n",
    "print(\"Top 5 formações acadêmicas - Homens:\")\n",
    "for i, (area, contagem) in enumerate(top_formacao_homens.items(), 1):\n",
    "    percentual = perc_formacao_homens[area]\n",
    "    print(f\"{i}. {area}: {contagem} profissionais ({percentual}%)\")\n",
    "\n",
    "print(\"\\nTop 5 formações acadêmicas - Mulheres:\")\n",
    "for i, (area, contagem) in enumerate(top_formacao_mulheres.items(), 1):\n",
    "    percentual = perc_formacao_mulheres[area]\n",
    "    print(f\"{i}. {area}: {contagem} profissionais ({percentual}%)\")\n"
   ]
  },
  {
   "cell_type": "code",
   "execution_count": 41,
   "metadata": {},
   "outputs": [
    {
     "name": "stdout",
     "output_type": "stream",
     "text": [
      "Distribuição de gênero por cargo:\n",
      "Product Manager: 66.7% mulheres, 33.3% homens (total: 12 profissionais)\n",
      "Analista de Dados: 26.8% mulheres, 73.2% homens (total: 426 profissionais)\n",
      "Cientista de Dados: 20.1% mulheres, 79.9% homens (total: 219 profissionais)\n",
      "Professor/Pesquisador: 20.0% mulheres, 80.0% homens (total: 5 profissionais)\n",
      "Engenheiro de Dados: 17.9% mulheres, 82.1% homens (total: 145 profissionais)\n",
      "Desenvolvedor: 17.6% mulheres, 82.4% homens (total: 51 profissionais)\n",
      "\n",
      "Média geral de mulheres no setor: 23.3%\n",
      "\n",
      "Comparação de representatividade feminina:\n",
      "Cargos técnicos: nan% mulheres\n",
      "Cargos acadêmicos: 18.4% mulheres\n"
     ]
    }
   ],
   "source": [
    "cargos_interesse = [\n",
    "    'Analista de Dados', 'Cientista de Dados', 'Engenheiro de Dados', \n",
    "    'Desenvolvedor', 'Product Manager', 'Professor/Pesquisador'\n",
    "]\n",
    "\n",
    "df_cargos = df_rj[df_rj['cargo'].isin(cargos_interesse)]\n",
    "\n",
    "# Calcular porcentagem de mulheres por cargo e total de profissionais\n",
    "resultado_cargos = (\n",
    "    df_cargos.groupby('cargo')['genero']\n",
    "    .agg(porcentagem_mulheres=lambda x: (x == 'Feminino').mean() * 100, total_profissionais='count')\n",
    "    .reset_index()\n",
    "    .sort_values('porcentagem_mulheres', ascending=False)\n",
    ")\n",
    "\n",
    "# Exibir resultados formatados\n",
    "print(\"Distribuição de gênero por cargo:\")\n",
    "for _, row in resultado_cargos.iterrows():\n",
    "    print(f\"{row['cargo']}: {row['porcentagem_mulheres']:.1f}% mulheres, {100 - row['porcentagem_mulheres']:.1f}% homens (total: {row['total_profissionais']} profissionais)\")\n",
    "\n",
    "# Média geral de mulheres no setor\n",
    "media_geral = (df_unificado['genero'] == 'Feminino').mean() * 100\n",
    "print(f\"\\nMédia geral de mulheres no setor: {media_geral:.1f}%\")\n",
    "\n",
    "# Comparação entre áreas técnicas e acadêmicas\n",
    "cargos_tecnicos = ['Cientista de Dados', 'Engenheiro de Dados', 'Desenvolvedor']\n",
    "cargos_academicos = ['Professor/Pesquisador']\n",
    "\n",
    "perc_mulheres_tecnicos = df_unificado[df_unificado['cargo'].isin(cargos_tecnicos)]['genero'].eq('Feminino').mean() * 100\n",
    "perc_mulheres_academicos = df_unificado[df_unificado['cargo'].isin(cargos_academicos)]['genero'].eq('Feminino').mean() * 100\n",
    "\n",
    "print(\"\\nComparação de representatividade feminina:\")\n",
    "print(f\"Cargos técnicos: {perc_mulheres_tecnicos:.1f}% mulheres\")\n",
    "print(f\"Cargos acadêmicos: {perc_mulheres_academicos:.1f}% mulheres\")\n"
   ]
  },
  {
   "cell_type": "code",
   "execution_count": 42,
   "metadata": {},
   "outputs": [],
   "source": [
    "from scipy.stats import chi2_contingency, pearsonr\n",
    "from scipy import stats\n",
    "import warnings\n",
    "warnings.filterwarnings('ignore')"
   ]
  },
  {
   "cell_type": "code",
   "execution_count": 43,
   "metadata": {},
   "outputs": [],
   "source": [
    "df_rj['genero_num'] = df_rj['genero'].map({'Feminino': 1, 'Masculino': 0})"
   ]
  },
  {
   "cell_type": "code",
   "execution_count": 44,
   "metadata": {},
   "outputs": [],
   "source": [
    "# dicionário de equivalência\n",
    "map_faixa = {\n",
    "    'R$1k-2k': 'Até R$ 2.000',\n",
    "    'R$2k-3k': 'R$ 2.001 - R$ 4.000',\n",
    "    'R$3k-4k': 'R$ 2.001 - R$ 4.000',\n",
    "    'R$4k-6k': 'R$ 4.001 - R$ 6.000',\n",
    "    'R$6k-8k': 'R$ 6.001 - R$ 8.000',\n",
    "    'R$8k-12k': 'R$ 8.001 - R$ 12.000',\n",
    "    'R$12k-16k': 'R$ 12.001 - R$ 16.000',\n",
    "    'R$16k-20k': 'R$ 16.001 - R$ 20.000',\n",
    "    'R$20k-25k': 'Acima de R$ 20.000',\n",
    "    'R$25k-30k': 'Acima de R$ 20.000',\n",
    "    'R$30k-40k': 'Acima de R$ 20.000',\n",
    "    'R$40k': 'Acima de R$ 20.000'\n",
    "}\n",
    "\n",
    "# ordem final\n",
    "faixa_salarial_ord = [\n",
    "    'Até R$ 2.000',\n",
    "    'R$ 2.001 - R$ 4.000',\n",
    "    'R$ 4.001 - R$ 6.000',\n",
    "    'R$ 6.001 - R$ 8.000',\n",
    "    'R$ 8.001 - R$ 12.000',\n",
    "    'R$ 12.001 - R$ 16.000',\n",
    "    'R$ 16.001 - R$ 20.000',\n",
    "    'Acima de R$ 20.000'\n",
    "]\n",
    "\n",
    "# gerar coluna ordinal\n",
    "df_rj['faixa_salarial_ord'] = pd.Categorical(\n",
    "    df_rj['faixa_salarial'].map(map_faixa),\n",
    "    categories=faixa_salarial_ord,\n",
    "    ordered=True\n",
    ").codes\n"
   ]
  },
  {
   "cell_type": "code",
   "execution_count": 45,
   "metadata": {},
   "outputs": [
    {
     "name": "stdout",
     "output_type": "stream",
     "text": [
      "Dataset carregado: 1385 observações\n",
      "Anos: ['2021', '2022', '2023', '2024']\n",
      "Gêneros: {'Masculino': 1054, 'Feminino': 331}\n"
     ]
    }
   ],
   "source": [
    "print(f\"Dataset carregado: {len(df_rj)} observações\")\n",
    "print(f\"Anos: {sorted(df_rj['ano_pesquisa'].unique())}\")\n",
    "print(f\"Gêneros: {df_rj['genero'].value_counts().to_dict()}\")"
   ]
  },
  {
   "cell_type": "code",
   "execution_count": 46,
   "metadata": {},
   "outputs": [
    {
     "name": "stdout",
     "output_type": "stream",
     "text": [
      "============================================================\n",
      "HIPÓTESES CENTRAIS PARA TESTE\n",
      "============================================================\n",
      "\n",
      "H₁ - EFEITO PRINCIPAL DO GÊNERO:\n",
      "• H₀: Gênero NÃO afeta significativamente a faixa salarial\n",
      "• H₁: Gênero afeta significativamente a faixa salarial\n",
      "• Teste: Chi-quadrado de independência\n",
      "\n",
      "H₂ - EFEITO PRINCIPAL DA EXPERIÊNCIA:  \n",
      "• H₀: Experiência NÃO afeta significativamente a faixa salarial\n",
      "• H₁: Experiência afeta significativamente a faixa salarial\n",
      "• Teste: Chi-quadrado de independência\n",
      "\n",
      "H₃ - COMPARAÇÃO DE IMPORTÂNCIA:\n",
      "• H₀: Gênero e experiência têm igual importância para o salário\n",
      "• H₁: Uma variável é significativamente mais importante que a outra\n",
      "• Teste: Análise de Variância Hierárquica (R² incremental)\n",
      "\n",
      "H₄ - MUDANÇA TEMPORAL:\n",
      "• H₀: O efeito do gênero no salário NÃO mudou entre 2021-2024\n",
      "• H₁: O efeito do gênero no salário mudou significativamente ao longo do tempo\n",
      "• Teste: Chi-quadrado estratificado por ano\n",
      "\n",
      "H₅ - INTERAÇÃO GÊNERO×EXPERIÊNCIA:\n",
      "• H₀: O efeito da experiência no salário é igual para ambos os gêneros\n",
      "• H₁: O efeito da experiência no salário difere entre gêneros\n",
      "• Teste: ANOVA com interação\n",
      "\n",
      "TESTE H₁: GÊNERO × FAIXA SALARIAL\n",
      "==================================================\n",
      "Tabela de Contingência:\n",
      "faixa_salarial  R$1k-2k  R$2k-3k  R$3k-4k  R$4k-6k  R$6k-8k  R$8k-12k  \\\n",
      "genero                                                                  \n",
      "Feminino             21       14       25       45       38        74   \n",
      "Masculino            49       74       74      135      107       208   \n",
      "\n",
      "faixa_salarial  R$12k-16k  R$16k-20k  R$20k-25k  R$25k-30k  R$30k-40k  R$40k  \n",
      "genero                                                                        \n",
      "Feminino               32         22          6          5          5      0  \n",
      "Masculino             123         64         38         26         18      7  \n",
      "\n",
      "Resultados do Teste:\n",
      "Chi-quadrado: 12.932\n",
      "p-value: 0.297771\n",
      "Graus de liberdade: 11\n",
      "Cramér's V: 0.103\n",
      "✗ NÃO REJEITA H₀: Gênero não afeta significativamente o salário (p ≥ 0.05)\n",
      "Tamanho do efeito: MÉDIO\n"
     ]
    }
   ],
   "source": [
    "print(\"=\"*60)\n",
    "print(\"HIPÓTESES CENTRAIS PARA TESTE\")\n",
    "print(\"=\"*60)\n",
    "\n",
    "print(\"\"\"\n",
    "H₁ - EFEITO PRINCIPAL DO GÊNERO:\n",
    "• H₀: Gênero NÃO afeta significativamente a faixa salarial\n",
    "• H₁: Gênero afeta significativamente a faixa salarial\n",
    "• Teste: Chi-quadrado de independência\n",
    "\n",
    "H₂ - EFEITO PRINCIPAL DA EXPERIÊNCIA:  \n",
    "• H₀: Experiência NÃO afeta significativamente a faixa salarial\n",
    "• H₁: Experiência afeta significativamente a faixa salarial\n",
    "• Teste: Chi-quadrado de independência\n",
    "\n",
    "H₃ - COMPARAÇÃO DE IMPORTÂNCIA:\n",
    "• H₀: Gênero e experiência têm igual importância para o salário\n",
    "• H₁: Uma variável é significativamente mais importante que a outra\n",
    "• Teste: Análise de Variância Hierárquica (R² incremental)\n",
    "\n",
    "H₄ - MUDANÇA TEMPORAL:\n",
    "• H₀: O efeito do gênero no salário NÃO mudou entre 2021-2024\n",
    "• H₁: O efeito do gênero no salário mudou significativamente ao longo do tempo\n",
    "• Teste: Chi-quadrado estratificado por ano\n",
    "\n",
    "H₅ - INTERAÇÃO GÊNERO×EXPERIÊNCIA:\n",
    "• H₀: O efeito da experiência no salário é igual para ambos os gêneros\n",
    "• H₁: O efeito da experiência no salário difere entre gêneros\n",
    "• Teste: ANOVA com interação\n",
    "\"\"\")\n",
    "\n",
    "\n",
    "print(\"TESTE H₁: GÊNERO × FAIXA SALARIAL\")\n",
    "print(\"=\"*50)\n",
    "\n",
    "# Tabela de contingência\n",
    "ct_genero_salario = pd.crosstab(df_rj['genero'], df_rj['faixa_salarial'])\n",
    "print(\"Tabela de Contingência:\")\n",
    "print(ct_genero_salario)\n",
    "\n",
    "# Teste Chi-quadrado\n",
    "chi2, p_val, dof, expected = chi2_contingency(ct_genero_salario)\n",
    "\n",
    "# Cramér's V (tamanho do efeito)\n",
    "n = ct_genero_salario.sum().sum()\n",
    "cramers_v = np.sqrt(chi2 / (n * (min(ct_genero_salario.shape) - 1)))\n",
    "\n",
    "print(f\"\\nResultados do Teste:\")\n",
    "print(f\"Chi-quadrado: {chi2:.3f}\")\n",
    "print(f\"p-value: {p_val:.6f}\")\n",
    "print(f\"Graus de liberdade: {dof}\")\n",
    "print(f\"Cramér's V: {cramers_v:.3f}\")\n",
    "\n",
    "# Interpretação\n",
    "alpha = 0.05\n",
    "if p_val < alpha:\n",
    "    print(f\"✓ REJEITA H₀: Gênero afeta significativamente o salário (p < {alpha})\")\n",
    "else:\n",
    "    print(f\"✗ NÃO REJEITA H₀: Gênero não afeta significativamente o salário (p ≥ {alpha})\")\n",
    "\n",
    "# Tamanho do efeito\n",
    "if cramers_v < 0.1:\n",
    "    efeito = \"PEQUENO\"\n",
    "elif cramers_v < 0.3:\n",
    "    efeito = \"MÉDIO\"\n",
    "else:\n",
    "    efeito = \"GRANDE\"\n",
    "print(f\"Tamanho do efeito: {efeito}\")"
   ]
  },
  {
   "cell_type": "code",
   "execution_count": 47,
   "metadata": {},
   "outputs": [
    {
     "name": "stdout",
     "output_type": "stream",
     "text": [
      "\n",
      "TESTE H₂: EXPERIÊNCIA × FAIXA SALARIAL\n",
      "==================================================\n",
      "Tabela de Contingência (primeiras 5 linhas):\n",
      "faixa_salarial                          R$1k-2k  R$2k-3k  R$3k-4k  R$4k-6k  \\\n",
      "tempo_area_dados                                                             \n",
      "Mais de 10 anos                               2        0        6        4   \n",
      "Menos de 1 ano                               31       33       22       34   \n",
      "Não tenho experiência na área de dados       10       13        9        7   \n",
      "de 1 a 2 anos                                19       33       42       75   \n",
      "de 2 a 3 anos                                 0        2        2       10   \n",
      "\n",
      "faixa_salarial                          R$6k-8k  R$8k-12k  R$12k-16k  \\\n",
      "tempo_area_dados                                                       \n",
      "Mais de 10 anos                               1        37         36   \n",
      "Menos de 1 ano                                8         7          3   \n",
      "Não tenho experiência na área de dados        4        11          2   \n",
      "de 1 a 2 anos                                43        35          8   \n",
      "de 2 a 3 anos                                 7        16          1   \n",
      "\n",
      "faixa_salarial                          R$16k-20k  R$20k-25k  R$25k-30k  \\\n",
      "tempo_area_dados                                                          \n",
      "Mais de 10 anos                                26         14         11   \n",
      "Menos de 1 ano                                  1          1          3   \n",
      "Não tenho experiência na área de dados          0          5          1   \n",
      "de 1 a 2 anos                                   4          2          3   \n",
      "de 2 a 3 anos                                   0          0          0   \n",
      "\n",
      "faixa_salarial                          R$30k-40k  R$40k  \n",
      "tempo_area_dados                                          \n",
      "Mais de 10 anos                                15      3  \n",
      "Menos de 1 ano                                  0      0  \n",
      "Não tenho experiência na área de dados          1      0  \n",
      "de 1 a 2 anos                                   0      0  \n",
      "de 2 a 3 anos                                   0      0  \n",
      "\n",
      "Resultados do Teste:\n",
      "Chi-quadrado: 773.414\n",
      "p-value: 0.000000\n",
      "Cramér's V: 0.253\n",
      "✓ REJEITA H₀: Experiência afeta significativamente o salário (p < 0.05)\n",
      "\n",
      "COMPARAÇÃO DE EFEITOS:\n",
      "Cramér's V Gênero: 0.103\n",
      "Cramér's V Experiência: 0.253\n",
      "🎯 CONCLUSÃO: EXPERIÊNCIA tem efeito maior que GÊNERO\n"
     ]
    }
   ],
   "source": [
    "print(\"\\nTESTE H₂: EXPERIÊNCIA × FAIXA SALARIAL\")\n",
    "print(\"=\"*50)\n",
    "\n",
    "if 'tempo_area_dados' in df_rj.columns:\n",
    "    # Tabela de contingência\n",
    "    ct_exp_salario = pd.crosstab(df['tempo_area_dados'], df_rj['faixa_salarial'])\n",
    "    print(\"Tabela de Contingência (primeiras 5 linhas):\")\n",
    "    print(ct_exp_salario.head())\n",
    "    \n",
    "    # Teste Chi-quadrado\n",
    "    chi2_exp, p_val_exp, dof_exp, expected_exp = chi2_contingency(ct_exp_salario)\n",
    "    \n",
    "    # Cramér's V\n",
    "    n_exp = ct_exp_salario.sum().sum()\n",
    "    cramers_v_exp = np.sqrt(chi2_exp / (n_exp * (min(ct_exp_salario.shape) - 1)))\n",
    "    \n",
    "    print(f\"\\nResultados do Teste:\")\n",
    "    print(f\"Chi-quadrado: {chi2_exp:.3f}\")\n",
    "    print(f\"p-value: {p_val_exp:.6f}\")\n",
    "    print(f\"Cramér's V: {cramers_v_exp:.3f}\")\n",
    "    \n",
    "    # Interpretação\n",
    "    if p_val_exp < alpha:\n",
    "        print(f\"✓ REJEITA H₀: Experiência afeta significativamente o salário (p < {alpha})\")\n",
    "    else:\n",
    "        print(f\"✗ NÃO REJEITA H₀: Experiência não afeta significativamente o salário (p ≥ {alpha})\")\n",
    "    \n",
    "    # Comparar tamanhos de efeito\n",
    "    print(f\"\\nCOMPARAÇÃO DE EFEITOS:\")\n",
    "    print(f\"Cramér's V Gênero: {cramers_v:.3f}\")\n",
    "    print(f\"Cramér's V Experiência: {cramers_v_exp:.3f}\")\n",
    "    \n",
    "    if cramers_v_exp > cramers_v:\n",
    "        print(\"🎯 CONCLUSÃO: EXPERIÊNCIA tem efeito maior que GÊNERO\")\n",
    "    else:\n",
    "        print(\"🎯 CONCLUSÃO: GÊNERO tem efeito maior que EXPERIÊNCIA\")"
   ]
  },
  {
   "cell_type": "code",
   "execution_count": 48,
   "metadata": {},
   "outputs": [
    {
     "name": "stdout",
     "output_type": "stream",
     "text": [
      "\n",
      "TESTE H₃: ANÁLISE DE VARIÂNCIA HIERÁRQUICA\n",
      "==================================================\n",
      "MODELOS HIERÁRQUICOS:\n",
      "Modelo 1 - Só Experiência: R² = 0.2359 (23.59%)\n",
      "Modelo 2 - Só Gênero:      R² = 0.0012 (0.12%)\n",
      "Modelo 3 - Ambos:          R² = 0.4016 (40.16%)\n",
      "\n",
      "CONTRIBUIÇÕES INCREMENTAIS:\n",
      "Gênero (controlando exp): ΔR² = 0.1657 (16.57%)\n",
      "Experiência (controlando gênero): ΔR² = 0.4004 (40.04%)\n",
      "\n",
      "🎯 RESPOSTA À PERGUNTA 'GÊNERO PESA MAIS QUE EXPERIÊNCIA?':\n",
      "NÃO - EXPERIÊNCIA explica 40.0% vs 16.6% do gênero\n",
      "Diferença: 23.5 pontos percentuais\n"
     ]
    }
   ],
   "source": [
    "print(\"\\nTESTE H₃: ANÁLISE DE VARIÂNCIA HIERÁRQUICA\")\n",
    "print(\"=\"*50)\n",
    "\n",
    "# Converter experiência para numérico (ponto médio das faixas)\n",
    "exp_mapping = {\n",
    "    'Não tenho experiência na área de dados': 0,\n",
    "    'Menos de 1 ano': 0.5,\n",
    "    'de 1 a 2 anos': 1.5,\n",
    "    'de 2 a 3 anos': 2.5,\n",
    "    'de 3 a 4 anos': 3.5,\n",
    "    'de 4 a 5 anos': 4.5,\n",
    "    'de 4 a 6 anos': 5,\n",
    "    'de 5 a 6 anos': 5.5,\n",
    "    'de 6 a 10 anos': 8,\n",
    "    'de 7 a 10 anos': 8.5,\n",
    "    'de 5 a 10 anos': 7.5,\n",
    "    'Mais de 10 anos': 12\n",
    "}\n",
    "\n",
    "if 'tempo_area_dados' in df_rj.columns:\n",
    "    df_rj['exp_numeric'] = df_rj['tempo_area_dados'].map(exp_mapping)\n",
    "\n",
    "    # Variável dependente (já ordinal numérica)\n",
    "    y = df_rj['faixa_salarial_ord'].dropna()\n",
    "\n",
    "    # MODELO 1: Apenas Experiência\n",
    "    x1 = df_rj.loc[y.index, 'exp_numeric'].fillna(df_rj['exp_numeric'].median())\n",
    "    r1, _ = pearsonr(x1, y)\n",
    "    r2_exp_only = r1**2\n",
    "\n",
    "    # MODELO 2: Apenas Gênero\n",
    "    x2 = df_rj.loc[y.index, 'genero_num'].fillna(df_rj['genero_num'].median())\n",
    "    r2, _ = pearsonr(x2, y)\n",
    "    r2_gen_only = r2**2\n",
    "\n",
    "    # MODELO 3: Experiência + Gênero\n",
    "    from sklearn.linear_model import LinearRegression\n",
    "    X_combined = df_rj.loc[y.index, ['exp_numeric', 'genero_num']].fillna(0)\n",
    "    model = LinearRegression().fit(X_combined, y)\n",
    "    r2_combined = model.score(X_combined, y)\n",
    "\n",
    "    print(\"MODELOS HIERÁRQUICOS:\")\n",
    "    print(f\"Modelo 1 - Só Experiência: R² = {r2_exp_only:.4f} ({r2_exp_only*100:.2f}%)\")\n",
    "    print(f\"Modelo 2 - Só Gênero:      R² = {r2_gen_only:.4f} ({r2_gen_only*100:.2f}%)\")\n",
    "    print(f\"Modelo 3 - Ambos:          R² = {r2_combined:.4f} ({r2_combined*100:.2f}%)\")\n",
    "\n",
    "    # R² incremental\n",
    "    r2_inc_gen = max(0, r2_combined - r2_exp_only)  # Contribuição única do gênero\n",
    "    r2_inc_exp = max(0, r2_combined - r2_gen_only)  # Contribuição única da experiência\n",
    "\n",
    "    print(f\"\\nCONTRIBUIÇÕES INCREMENTAIS:\")\n",
    "    print(f\"Gênero (controlando exp): ΔR² = {r2_inc_gen:.4f} ({r2_inc_gen*100:.2f}%)\")\n",
    "    print(f\"Experiência (controlando gênero): ΔR² = {r2_inc_exp:.4f} ({r2_inc_exp*100:.2f}%)\")\n",
    "\n",
    "    # RESPOSTA À PERGUNTA CENTRAL\n",
    "    print(f\"\\n🎯 RESPOSTA À PERGUNTA 'GÊNERO PESA MAIS QUE EXPERIÊNCIA?':\")\n",
    "    if r2_inc_exp > r2_inc_gen:\n",
    "        print(f\"NÃO - EXPERIÊNCIA explica {r2_inc_exp*100:.1f}% vs {r2_inc_gen*100:.1f}% do gênero\")\n",
    "        print(f\"Diferença: {(r2_inc_exp - r2_inc_gen)*100:.1f} pontos percentuais\")\n",
    "    else:\n",
    "        print(f\"SIM - GÊNERO explica {r2_inc_gen*100:.1f}% vs {r2_inc_exp*100:.1f}% da experiência\")\n",
    "        print(f\"Diferença: {(r2_inc_gen - r2_inc_exp)*100:.1f} pontos percentuais\")\n"
   ]
  },
  {
   "cell_type": "code",
   "execution_count": 49,
   "metadata": {},
   "outputs": [
    {
     "name": "stdout",
     "output_type": "stream",
     "text": [
      "\n",
      "TESTE H₄: EVOLUÇÃO TEMPORAL DO EFEITO DE GÊNERO\n",
      "==================================================\n",
      "Chi-quadrado Gênero×Salário por ano:\n",
      "Ano\tChi²\tp-value\tCramér's V\tSignificativo\n",
      "-------------------------------------------------------\n",
      "2021\t5.79\t0.8871\t0.176\t\tNão\n",
      "2022\t9.07\t0.5255\t0.180\t\tNão\n",
      "2023\t10.85\t0.4563\t0.166\t\tNão\n",
      "2024\t9.65\t0.5621\t0.166\t\tNão\n",
      "\n",
      "TENDÊNCIA TEMPORAL:\n",
      "Correlação anos×Cramér's V: r = -0.828, p = 0.172\n",
      "✗ Sem tendência temporal clara\n"
     ]
    }
   ],
   "source": [
    "print(\"\\nTESTE H₄: EVOLUÇÃO TEMPORAL DO EFEITO DE GÊNERO\")\n",
    "print(\"=\"*50)\n",
    "\n",
    "print(\"Chi-quadrado Gênero×Salário por ano:\")\n",
    "print(\"Ano\\tChi²\\tp-value\\tCramér's V\\tSignificativo\")\n",
    "print(\"-\"*55)\n",
    "\n",
    "resultados_anuais = []\n",
    "\n",
    "for ano in sorted(df['ano_pesquisa'].unique()):\n",
    "    df_ano = df[df['ano_pesquisa'] == ano]\n",
    "    \n",
    "    if len(df_ano) > 50:  # Mínimo de observações\n",
    "        ct_ano = pd.crosstab(df_ano['genero'], df_ano['faixa_salarial'])\n",
    "        \n",
    "        # Teste chi-quadrado\n",
    "        chi2_ano, p_ano, dof_ano, _ = chi2_contingency(ct_ano)\n",
    "        \n",
    "        # Cramér's V\n",
    "        n_ano = ct_ano.sum().sum()\n",
    "        cramers_ano = np.sqrt(chi2_ano / (n_ano * (min(ct_ano.shape) - 1)))\n",
    "        \n",
    "        sig = \"Sim\" if p_ano < 0.05 else \"Não\"\n",
    "        \n",
    "        print(f\"{ano}\\t{chi2_ano:.2f}\\t{p_ano:.4f}\\t{cramers_ano:.3f}\\t\\t{sig}\")\n",
    "        \n",
    "        resultados_anuais.append({\n",
    "            'ano': ano,\n",
    "            'chi2': chi2_ano,\n",
    "            'p_value': p_ano,\n",
    "            'cramers_v': cramers_ano\n",
    "        })\n",
    "\n",
    "# Teste de tendência no Cramér's V\n",
    "if len(resultados_anuais) >= 3:\n",
    "    anos = [int(r['ano']) for r in resultados_anuais]  # força conversão p/ inteiro\n",
    "    cramers_values = [float(r['cramers_v']) for r in resultados_anuais]\n",
    "    \n",
    "    r_tend, p_tend = pearsonr(anos, cramers_values)\n",
    "    \n",
    "    print(f\"\\nTENDÊNCIA TEMPORAL:\")\n",
    "    print(f\"Correlação anos×Cramér's V: r = {r_tend:.3f}, p = {p_tend:.3f}\")\n",
    "    \n",
    "    if abs(r_tend) > 0.5 and p_tend < 0.05:\n",
    "        tendencia = \"CRESCENTE\" if r_tend > 0 else \"DECRESCENTE\"\n",
    "        print(f\"✓ Tendência {tendencia} significativa\")\n",
    "    else:\n",
    "        print(\"✗ Sem tendência temporal clara\")"
   ]
  },
  {
   "cell_type": "code",
   "execution_count": 50,
   "metadata": {},
   "outputs": [
    {
     "name": "stdout",
     "output_type": "stream",
     "text": [
      "\n",
      "============================================================\n",
      "RESUMO EXECUTIVO - TESTES DE HIPÓTESES\n",
      "============================================================\n",
      "\n",
      "📊 HIPÓTESE H₁ (Gênero → Salário):\n",
      "   Status: NÃO REJEITADA (p = 0.2978)\n",
      "   Efeito: MÉDIO (Cramér's V = 0.103)\n",
      "\n",
      "📊 HIPÓTESE H₂ (Experiência → Salário):\n",
      "   Status: REJEITADA (p = 0.0000)\n",
      "   Efeito: Cramér's V = 0.253\n",
      "\n",
      "📊 HIPÓTESE H₃ (Comparação de Importância):\n",
      "   Maior preditor: EXPERIÊNCIA\n",
      "   R² Experiência: 40.0%\n",
      "   R² Gênero: 16.6%\n",
      "\n",
      "📊 HIPÓTESE H₄ (Mudança Temporal):\n",
      "   Tendência temporal: NÃO SIGNIFICATIVA (r = -0.828)\n",
      "\n",
      "🎯 CONCLUSÃO PRINCIPAL:\n",
      "   EXPERIÊNCIA é o fator mais importante para determinar salário\n",
      "   Gênero ainda tem efeito significativo, mas menor que experiência\n"
     ]
    }
   ],
   "source": [
    "print(\"\\n\" + \"=\"*60)\n",
    "print(\"RESUMO EXECUTIVO - TESTES DE HIPÓTESES\")\n",
    "print(\"=\"*60)\n",
    "\n",
    "print(f\"\\n📊 HIPÓTESE H₁ (Gênero → Salário):\")\n",
    "resultado_h1 = \"REJEITADA\" if p_val < 0.05 else \"NÃO REJEITADA\"\n",
    "print(f\"   Status: {resultado_h1} (p = {p_val:.4f})\")\n",
    "print(f\"   Efeito: {efeito} (Cramér's V = {cramers_v:.3f})\")\n",
    "\n",
    "if 'p_val_exp' in locals():\n",
    "    print(f\"\\n📊 HIPÓTESE H₂ (Experiência → Salário):\")\n",
    "    resultado_h2 = \"REJEITADA\" if p_val_exp < 0.05 else \"NÃO REJEITADA\"\n",
    "    print(f\"   Status: {resultado_h2} (p = {p_val_exp:.4f})\")\n",
    "    print(f\"   Efeito: Cramér's V = {cramers_v_exp:.3f}\")\n",
    "\n",
    "if 'r2_inc_exp' in locals():\n",
    "    print(f\"\\n📊 HIPÓTESE H₃ (Comparação de Importância):\")\n",
    "    maior_preditor = \"EXPERIÊNCIA\" if r2_inc_exp > r2_inc_gen else \"GÊNERO\"\n",
    "    print(f\"   Maior preditor: {maior_preditor}\")\n",
    "    print(f\"   R² Experiência: {r2_inc_exp*100:.1f}%\")\n",
    "    print(f\"   R² Gênero: {r2_inc_gen*100:.1f}%\")\n",
    "\n",
    "if resultados_anuais:\n",
    "    print(f\"\\n📊 HIPÓTESE H₄ (Mudança Temporal):\")\n",
    "    if 'r_tend' in locals():\n",
    "        if abs(r_tend) > 0.5 and p_tend < 0.05:\n",
    "            print(f\"   Tendência temporal: SIGNIFICATIVA (r = {r_tend:.3f})\")\n",
    "        else:\n",
    "            print(f\"   Tendência temporal: NÃO SIGNIFICATIVA (r = {r_tend:.3f})\")\n",
    "\n",
    "print(f\"\\n🎯 CONCLUSÃO PRINCIPAL:\")\n",
    "if 'maior_preditor' in locals():\n",
    "    print(f\"   {maior_preditor} é o fator mais importante para determinar salário\")\n",
    "    if maior_preditor == \"EXPERIÊNCIA\":\n",
    "        print(f\"   Gênero ainda tem efeito significativo, mas menor que experiência\")\n",
    "    else:\n",
    "        print(f\"   Gênero supera experiência como preditor salarial\")\n"
   ]
  },
  {
   "cell_type": "code",
   "execution_count": 57,
   "metadata": {},
   "outputs": [
    {
     "name": "stdout",
     "output_type": "stream",
     "text": [
      "TESTE H₅: INTERAÇÃO GÊNERO × EXPERIÊNCIA\n",
      "==================================================\n",
      "Correlação experiência-salário (Pearson):\n",
      "  Masculino: r = nan, p = nan\n",
      "  Feminino:  r = nan, p = nan\n",
      "\n",
      "Correlação experiência-salário (Spearman):\n",
      "  Masculino: ρ = nan, p = nan\n",
      "  Feminino:  ρ = nan, p = nan\n",
      "\n",
      "Teste de Fisher (diferença entre correlações - Pearson):\n",
      "  Z = nan, p = nan\n",
      "\n",
      "✗ NÃO REJEITA H₀: Sem interação significativa (p = nan)\n",
      "  → O efeito da experiência é SIMILAR entre gêneros\n"
     ]
    },
    {
     "data": {
      "image/png": "[encoded data removed]",
      "text/plain": [
       "<Figure size 900x500 with 1 Axes>"
      ]
     },
     "metadata": {},
     "output_type": "display_data"
    },
    {
     "name": "stdout",
     "output_type": "stream",
     "text": [
      "\n",
      "🎯 CONCLUSÃO:\n",
      "A experiência afeta IGUALMENTE ambos os gêneros\n"
     ]
    }
   ],
   "source": [
    "# %%\n",
    "# TESTE H₅: INTERAÇÃO GÊNERO × EXPERIÊNCIA (AJUSTADO)\n",
    "import pandas as pd\n",
    "import numpy as np\n",
    "from scipy import stats\n",
    "import matplotlib.pyplot as plt\n",
    "\n",
    "# %%\n",
    "# Preparar dados\n",
    "exp_mapping = {\n",
    "    'Menos de 1 ano': 0.5, 'De 1 a 2 anos': 1.5, 'De 2 a 3 anos': 2.5,\n",
    "    'De 3 a 4 anos': 3.5, 'De 4 a 5 anos': 4.5, 'De 5 a 10 anos': 7.5,\n",
    "    'Mais de 10 anos': 12.0,\n",
    "    'Não tenho experiência na área de dados': 0.0\n",
    "}\n",
    "\n",
    "faixa_salarial_ord = [\n",
    "    'Até R$ 2.000',\n",
    "    'R$ 2.001 - R$ 4.000',\n",
    "    'R$ 4.001 - R$ 6.000',\n",
    "    'R$ 6.001 - R$ 8.000',\n",
    "    'R$ 8.001 - R$ 12.000',\n",
    "    'R$ 12.001 - R$ 16.000',\n",
    "    'R$ 16.001 - R$ 20.000',\n",
    "    'Acima de R$ 20.000'\n",
    "]\n",
    "\n",
    "# Mapear experiência\n",
    "df['experiencia_anos'] = df['tempo_area_dados'].map(exp_mapping)\n",
    "\n",
    "# Criar faixa salarial ordinal\n",
    "df['faixa_salarial_ord'] = pd.Categorical(\n",
    "    df['faixa_salarial'], categories=faixa_salarial_ord, ordered=True\n",
    ").codes\n",
    "\n",
    "# Remover nulos e quem não tem experiência\n",
    "df_clean = df.dropna(subset=['experiencia_anos', 'faixa_salarial_ord'])\n",
    "df_clean = df_clean[df_clean['experiencia_anos'] > 0]\n",
    "\n",
    "print(\"TESTE H₅: INTERAÇÃO GÊNERO × EXPERIÊNCIA\")\n",
    "print(\"=\"*50)\n",
    "\n",
    "# %%\n",
    "# Calcular correlações por gênero\n",
    "masc_data = df_clean[df_clean['genero'] == 'Masculino']\n",
    "fem_data = df_clean[df_clean['genero'] == 'Feminino']\n",
    "\n",
    "# Pearson\n",
    "r_masc_p, p_masc_p = stats.pearsonr(masc_data['experiencia_anos'], masc_data['faixa_salarial_ord'])\n",
    "r_fem_p, p_fem_p = stats.pearsonr(fem_data['experiencia_anos'], fem_data['faixa_salarial_ord'])\n",
    "\n",
    "# Spearman\n",
    "r_masc_s, p_masc_s = stats.spearmanr(masc_data['experiencia_anos'], masc_data['faixa_salarial_ord'])\n",
    "r_fem_s, p_fem_s = stats.spearmanr(fem_data['experiencia_anos'], fem_data['faixa_salarial_ord'])\n",
    "\n",
    "print(f\"Correlação experiência-salário (Pearson):\")\n",
    "print(f\"  Masculino: r = {r_masc_p:.3f}, p = {p_masc_p:.3f}\")\n",
    "print(f\"  Feminino:  r = {r_fem_p:.3f}, p = {p_fem_p:.3f}\")\n",
    "\n",
    "print(f\"\\nCorrelação experiência-salário (Spearman):\")\n",
    "print(f\"  Masculino: ρ = {r_masc_s:.3f}, p = {p_masc_s:.3f}\")\n",
    "print(f\"  Feminino:  ρ = {r_fem_s:.3f}, p = {p_fem_s:.3f}\")\n",
    "\n",
    "# %%\n",
    "# Teste de Fisher (usando Pearson)\n",
    "def fishers_z_test(r1, n1, r2, n2):\n",
    "    z1 = 0.5 * np.log((1 + r1) / (1 - r1))\n",
    "    z2 = 0.5 * np.log((1 + r2) / (1 - r2))\n",
    "    se = np.sqrt(1/(n1-3) + 1/(n2-3))\n",
    "    z_stat = (z1 - z2) / se\n",
    "    p_val = 2 * (1 - stats.norm.cdf(abs(z_stat)))\n",
    "    return z_stat, p_val\n",
    "\n",
    "z_stat, p_fisher = fishers_z_test(r_masc_p, len(masc_data), r_fem_p, len(fem_data))\n",
    "\n",
    "print(f\"\\nTeste de Fisher (diferença entre correlações - Pearson):\")\n",
    "print(f\"  Z = {z_stat:.3f}, p = {p_fisher:.3f}\")\n",
    "\n",
    "# %%\n",
    "# Interpretação\n",
    "if p_fisher < 0.05:\n",
    "    print(f\"\\n✓ REJEITA H₀: Interação SIGNIFICATIVA (p = {p_fisher:.3f})\")\n",
    "    print(f\"  → O efeito da experiência DIFERE entre gêneros\")\n",
    "    if abs(r_masc_p) > abs(r_fem_p):\n",
    "        print(f\"  → Homens têm maior retorno da experiência\")\n",
    "    else:\n",
    "        print(f\"  → Mulheres têm maior retorno da experiência\")\n",
    "else:\n",
    "    print(f\"\\n✗ NÃO REJEITA H₀: Sem interação significativa (p = {p_fisher:.3f})\")\n",
    "    print(f\"  → O efeito da experiência é SIMILAR entre gêneros\")\n",
    "\n",
    "# %%\n",
    "# Gráfico da interação\n",
    "plt.figure(figsize=(9, 5))\n",
    "\n",
    "for genero in ['Masculino', 'Feminino']:\n",
    "    subset = df_clean[df_clean['genero'] == genero]\n",
    "    medias = subset.groupby('tempo_area_dados')['faixa_salarial_ord'].mean()\n",
    "    \n",
    "    categorias = [\n",
    "        'Menos de 1 ano', 'De 1 a 2 anos', 'De 2 a 3 anos', \n",
    "        'De 3 a 4 anos', 'De 4 a 5 anos', 'De 5 a 10 anos', 'Mais de 10 anos'\n",
    "    ]\n",
    "    \n",
    "    x_vals = [exp_mapping[cat] for cat in categorias if cat in medias.index]\n",
    "    y_vals = [medias[cat] for cat in categorias if cat in medias.index]\n",
    "    \n",
    "    plt.plot(x_vals, y_vals, 'o-', linewidth=2, label=genero, markersize=6)\n",
    "\n",
    "plt.xlabel('Anos de Experiência')\n",
    "plt.ylabel('Faixa Salarial Média')\n",
    "plt.title('Interação Gênero × Experiência')\n",
    "plt.legend()\n",
    "plt.grid(True, alpha=0.3)\n",
    "\n",
    "# Mostrar rótulos reais do salário\n",
    "plt.yticks(range(len(faixa_salarial_ord)), faixa_salarial_ord, rotation=45)\n",
    "\n",
    "plt.show()\n",
    "\n",
    "print(f\"\\n🎯 CONCLUSÃO:\")\n",
    "if p_fisher < 0.05:\n",
    "    print(f\"A experiência afeta DIFERENTEMENTE homens e mulheres\")\n",
    "else:\n",
    "    print(f\"A experiência afeta IGUALMENTE ambos os gêneros\")\n"
   ]
  }
 ],
 "metadata": {
  "kernelspec": {
   "display_name": "base",
   "language": "python",
   "name": "python3"
  },
  "language_info": {
   "codemirror_mode": {
    "name": "ipython",
    "version": 3
   },
   "file_extension": ".py",
   "mimetype": "text/x-python",
   "name": "python",
   "nbconvert_exporter": "python",
   "pygments_lexer": "ipython3",
   "version": "3.11.7"
  }
 },
 "nbformat": 4,
 "nbformat_minor": 2
}
