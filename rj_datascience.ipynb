{
 "cells": [
  {
   "cell_type": "code",
   "execution_count": 4,
   "metadata": {},
   "outputs": [],
   "source": [
    "import pandas as pd\n",
    "import numpy as np\n",
    "import matplotlib.pyplot as plt\n",
    "import seaborn as sns\n",
    "import re\n",
    "import plotly.express as px\n",
    "import plotly.graph_objects as go\n",
    "from plotly.subplots import make_subplots\n"
   ]
  },
  {
   "cell_type": "markdown",
   "metadata": {},
   "source": [
    "# Iniciando df"
   ]
  },
  {
   "cell_type": "code",
   "execution_count": 5,
   "metadata": {},
   "outputs": [],
   "source": [
    "#importando dados\n",
    "\n",
    "df_20 = pd.read_csv('state_of_data_2020.csv', low_memory=False)\n",
    "df_21 = pd.read_csv('state_of_data_2021.csv', low_memory=False)\n",
    "df_22 = pd.read_csv('State_of_data_2022.csv', low_memory=False)\n",
    "df_23 = pd.read_csv('State_of_data_2023.csv', low_memory=False)\n",
    "df_24 = pd.read_csv('State_of_data_2024.csv', low_memory=False)"
   ]
  },
  {
   "cell_type": "code",
   "execution_count": null,
   "metadata": {},
   "outputs": [
    {
     "data": {
      "text/plain": [
       "('P2', 'gender')\n",
       "Masculino    1436\n",
       "Feminino      326\n",
       "Name: count, dtype: int64"
      ]
     },
     "execution_count": 7,
     "metadata": {},
     "output_type": "execute_result"
    }
   ],
   "source": [
    "df_21[\"('P2', 'gender')\"].value_counts()"
   ]
  },
  {
   "cell_type": "code",
   "execution_count": 3,
   "metadata": {},
   "outputs": [
    {
     "name": "stdout",
     "output_type": "stream",
     "text": [
      "('P0', 'id')\n",
      "('P1', 'age')\n",
      "('P2', 'gender')\n",
      "('P3', 'living_in_brasil')\n",
      "('P5', 'living_state')\n",
      "('P6', 'born_or_graduated')\n",
      "('P8', 'degreee_level')\n",
      "('P10', 'job_situation')\n",
      "('P12', 'workers_number')\n",
      "('P13', 'manager')\n",
      "('P16', 'salary_range')\n",
      "('P17', 'time_experience_data_science')\n",
      "('P18', 'time_experience_before')\n",
      "('P19', 'is_data_science_professional')\n",
      "('P20', 'linear_regression')\n",
      "('P20', 'logistic_regression')\n",
      "('P20', 'glms')\n",
      "('P20', 'decision_tree')\n",
      "('P20', 'random_forest')\n",
      "('P20', 'neural_networks')\n",
      "('P20', 'bayesian_inference')\n",
      "('P20', 'ensemble')\n",
      "('P20', 'svms')\n",
      "('P20', 'cnns')\n",
      "('P20', 'rnns')\n",
      "('P20', 'hmms')\n",
      "('P20', 'gans')\n",
      "('P20', 'markov_chains')\n",
      "('P20', 'nlp')\n",
      "('P20', 'gradient_boosted_machines')\n",
      "('P20', 'cluster_analysis')\n",
      "('P20', 'survival_analysis')\n",
      "('P20', 'longitudinal_data_analysis')\n",
      "('P20', 'joint analysis')\n",
      "('P20', 'no_listed_methods')\n",
      "('P21', 'sql_')\n",
      "('P21', 'r')\n",
      "('P21', 'python')\n",
      "('P21', 'c_c++_c#')\n",
      "('P21', 'dotnet')\n",
      "('P21', 'java')\n",
      "('P21', 'julia')\n",
      "('P21', 'sas_stata')\n",
      "('P21', 'visual_basic_vba')\n",
      "('P21', 'scala')\n",
      "('P21', 'matlab')\n",
      "('P21', 'php')\n",
      "('P21', 'no_listed_languages')\n",
      "('P22', 'most_used_proggraming_languages')\n",
      "('P23', 'sql')\n",
      "('P23', 'nosql')\n",
      "('P23', 'images')\n",
      "('P23', 'nlp')\n",
      "('P23', 'videos')\n",
      "('P23', 'sheets')\n",
      "('P23', 'other')\n",
      "('P24', 'sql')\n",
      "('P24', 'nosql')\n",
      "('P24', 'imagens')\n",
      "('P24', 'nlp')\n",
      "('P24', 'vídeos')\n",
      "('P24', 'planilhas')\n",
      "('P24', 'other')\n",
      "('P25', 'aws')\n",
      "('P25', 'gcp')\n",
      "('P25', 'azure')\n",
      "('P25', 'ibm')\n",
      "('P25', 'on_premise_servers')\n",
      "('P25', 'cloud_própria')\n",
      "('P25', 'other')\n",
      "('P26', 'mysql')\n",
      "('P26', 'oracle')\n",
      "('P26', 'sql_server')\n",
      "('P26', 'aurora')\n",
      "('P26', 'dynamodb')\n",
      "('P26', 'coachdb')\n",
      "('P26', 'cassandra')\n",
      "('P26', 'mongodb')\n",
      "('P26', 'mariadb')\n",
      "('P26', 'datomic')\n",
      "('P26', 's3')\n",
      "('P26', 'postgresql')\n",
      "('P26', 'elaticsearch')\n",
      "('P26', 'db2')\n",
      "('P26', 'ms_access')\n",
      "('P26', 'sqlite')\n",
      "('P26', 'sybase')\n",
      "('P26', 'firebase')\n",
      "('P26', 'vertica')\n",
      "('P26', 'redis')\n",
      "('P26', 'neo4j')\n",
      "('P26', 'google_bigtable')\n",
      "('P26', 'hbase')\n",
      "('P26', 'other')\n",
      "('P27', 'microsoft_powerbi')\n",
      "('P27', 'qlik_view_qlik_sense')\n",
      "('P27', 'tableau')\n",
      "('P27', 'metabase')\n",
      "('P27', 'superset')\n",
      "('P27', 'redash')\n",
      "('P27', 'microstrategy')\n",
      "('P27', 'ibm_analytics_cognos')\n",
      "('P27', 'sap_business_objects')\n",
      "('P27', 'oracle_business_intelligence')\n",
      "('P27', 'birst')\n",
      "('P27', 'looker')\n",
      "('P27', 'google_data_studio')\n",
      "('P27', 'only_excel_gsheets')\n",
      "('P27', 'no_bi_tool_at_work')\n",
      "('P27', 'other')\n",
      "('P28', 'sql_&_stored_procedures')\n",
      "('P28', 'apache_airflow')\n",
      "('P28', 'luigi')\n",
      "('P28', 'aws_glue')\n",
      "('P28', 'talend')\n",
      "('P28', 'pentaho')\n",
      "('P28', 'alteryx')\n",
      "('P28', 'oracle_data_integrator')\n",
      "('P28', 'ibm_data_stage')\n",
      "('P28', 'sap_bw_etl')\n",
      "('P28', 'siss_sql_server_integration_services')\n",
      "('P28', 'other')\n",
      "('P29', 'have_data_warehouse')\n",
      "('P30', 'google_bigquery')\n",
      "('P30', 'aws_redshift')\n",
      "('P30', 'snowflake')\n",
      "('P30', 'oracle')\n",
      "('P30', 'postgres_mysql')\n",
      "('P30', 'ibm')\n",
      "('P30', 'teradata')\n",
      "('P30', 'microsoft_azure')\n",
      "('P30', 'do_not_know')\n",
      "('P30', 'other')\n",
      "('P31', 'data_hackers_blog')\n",
      "('P31', 'data_hackers_podcast')\n",
      "('P31', 'weekly_newsletter')\n",
      "('P31', 'slack_channel')\n",
      "('P31', 'data_hackers_bootcamp')\n",
      "('P31', 'do_not_know_data_hackers')\n",
      "('P32', 'prefered_data_hackers_initiative')\n",
      "('P33', 'telegram_groups')\n",
      "('P33', 'whatsapp_groups')\n",
      "('P33', 'youtube_channels')\n",
      "('P33', 'other_brasilian_blogs')\n",
      "('P33', 'other_slack_channels')\n",
      "('P33', 'twitter')\n",
      "('P33', 'abroad_blogs')\n",
      "('P33', 'abroad_podcasts')\n",
      "('P33', 'meetups_and_events')\n",
      "('P33', 'only_data_hackers')\n",
      "('P33', 'other')\n",
      "('P34', 'udacity')\n",
      "('P34', 'coursera')\n",
      "('P34', 'udemy')\n",
      "('P34', 'height')\n",
      "('P34', 'edx')\n",
      "('P34', 'data_camp')\n",
      "('P34', 'data_quest')\n",
      "('P34', 'kaggle_learn')\n",
      "('P34', 'online_courses')\n",
      "('P34', 'other')\n",
      "('P35', 'data_science_plataforms_preference')\n",
      "('P35', 'other')\n",
      "('P36', 'draw_participation')\n",
      "('D1', 'living_macroregion')\n",
      "('D2', 'origin_macroregion')\n",
      "('D3', 'anonymized_degree_area')\n",
      "('D4', 'anonymized_market_sector')\n",
      "('D5', 'anonymized_manager_level')\n",
      "('D6', 'anonymized_role')\n"
     ]
    }
   ],
   "source": [
    "for col in df_20.columns:\n",
    "   print(col)"
   ]
  },
  {
   "cell_type": "markdown",
   "metadata": {},
   "source": [
    "# Preparando dados: padronizar nomes das colunas, selecionar apenas as relevantes e juntar os 3 anos em um único df"
   ]
  },
  {
   "cell_type": "code",
   "execution_count": 48,
   "metadata": {},
   "outputs": [],
   "source": [
    "def load_data(dfs):\n",
    "    \"\"\"\n",
    "    Carrega e padroniza os datasets do State of Data e padroniza as colunas relacionadas a gênero.\n",
    "    \n",
    "    Args:\n",
    "        dfs: dicionário com ano como chave e DataFrame como valor\n",
    "        \n",
    "    Returns:\n",
    "        DataFrame unificado com os dados dos três anos\n",
    "    \"\"\"\n",
    "    datasets = dfs\n",
    "    \n",
    "    gender_columns = {\n",
    "        '2021': \"('P1_b ', 'Genero')\",\n",
    "        '2022': \"('P1_b ', 'Genero')\",\n",
    "        '2023': \"('P1_b ', 'Genero')\",\n",
    "        '2024': \"('1.b_genero')\"\n",
    "    }\n",
    "    \n",
    "    column_mapping = {\n",
    "        # Dados demográficos - Categoria P1\n",
    "        '2021': {\n",
    "            'idade': \"('P1_a ', 'Idade')\",\n",
    "            'faixa_idade': \"('P1_a_a ', 'Faixa idade')\",\n",
    "            'genero': \"('P1_b ', 'Genero')\",\n",
    "            'estado': \"('P1_e ', 'Estado onde mora')\",\n",
    "            'uf': \"('P1_e_a ', 'uf onde mora')\",\n",
    "            'regiao': \"('P1_e_b ', 'Regiao onde mora')\",\n",
    "            'regiao_origem': \"('P1_g_b ', 'Regiao de origem')\",\n",
    "            'mudou_estado': \"('P1_g_c ', 'Mudou de Estado?')\",\n",
    "            'nivel_ensino': \"('P1_h ', 'Nivel de Ensino')\",\n",
    "            'area_formacao': \"('P1_i ', 'Área de Formação')\"\n",
    "        },\n",
    "        '2022': {\n",
    "            'idade': \"('P1_a ', 'Idade')\",\n",
    "            'faixa_idade': \"('P1_a_1 ', 'Faixa idade')\",\n",
    "            'genero': \"('P1_b ', 'Genero')\",\n",
    "            'estado': \"('P1_i ', 'Estado onde mora')\",\n",
    "            'uf': \"('P1_i_1 ', 'uf onde mora')\",\n",
    "            'regiao': \"('P1_i_2 ', 'Regiao onde mora')\",\n",
    "            'regiao_origem': \"('P1_k ', 'Regiao de origem')\",\n",
    "            'mudou_estado': \"('P1_j ', 'Mudou de Estado?')\",\n",
    "            'nivel_ensino': \"('P1_l ', 'Nivel de Ensino')\",\n",
    "            'area_formacao': \"('P1_m ', 'Área de Formação')\"\n",
    "        },\n",
    "        '2023': {\n",
    "            'idade': \"('P1_a ', 'Idade')\",\n",
    "            'faixa_idade': \"('P1_a_1 ', 'Faixa idade')\",\n",
    "            'genero': \"('P1_b ', 'Genero')\",\n",
    "            'estado': \"('P1_i ', 'Estado onde mora')\",\n",
    "            'uf': \"('P1_i_1 ', 'uf onde mora')\",\n",
    "            'regiao': \"('P1_i_2 ', 'Regiao onde mora')\",\n",
    "            'regiao_origem': \"('P1_k ', 'Regiao de origem')\",\n",
    "            'mudou_estado': \"('P1_j ', 'Mudou de Estado?')\",\n",
    "            'nivel_ensino': \"('P1_l ', 'Nivel de Ensino')\",\n",
    "            'area_formacao': \"('P1_m ', 'Área de Formação')\"\n",
    "        },\n",
    "        '2024': {\n",
    "            'idade': '1.a_idade',\n",
    "            'faixa_idade': '1.a.1_faixa_idade',\n",
    "            'genero': '1.b_genero',\n",
    "            'estado': '1.i_estado_onde_mora',\n",
    "            'uf': '1.i.1_uf_onde_mora',\n",
    "            'regiao': '1.i.2_regiao_onde_mora',\n",
    "            'regiao_origem': '1.k.2_regiao_de_origem',\n",
    "            'mudou_estado': '1.j_vive_no_estado_de_formacao',\n",
    "            'nivel_ensino': '1.l_nivel_de_ensino',\n",
    "            'area_formacao': '1.m_área_de_formação'\n",
    "        }\n",
    "    }\n",
    "    \n",
    "    # Colunas para informações profissionais \n",
    "    professional_columns = {\n",
    "    '2021': {\n",
    "        'situacao': \"('P2_a ', 'Qual sua situação atual de trabalho?')\",\n",
    "        'setor': \"('P2_b ', 'Setor')\",\n",
    "        'cargo': \"('P2_f ', 'Cargo Atual')\",\n",
    "        'gestor':\"('P2_d ', 'Gestor?')\",\n",
    "        'nivel': \"('P2_g ', 'Nivel')\",\n",
    "        'faixa_salarial': \"('P2_h ', 'Faixa salarial')\",\n",
    "        'tempo_area_dados': \"('P2_i ', 'Quanto tempo de experiência na área de dados você tem?')\",\n",
    "        'tempo_area_ti': \"('P2_j ', 'Quanto tempo de experiência na área de TI/Engenharia de Software você teve antes de começar a trabalhar na área de dados?')\",\n",
    "        'modalidade': \"('P2_q ', 'Atualmente qual a sua forma de trabalho?')\"\n",
    "    },\n",
    "    '2022': {\n",
    "        'situacao': \"('P2_a ', 'Qual sua situação atual de trabalho?')\",\n",
    "        'setor': \"('P2_b ', 'Setor')\",\n",
    "        'cargo': \"('P2_f ', 'Cargo Atual')\",\n",
    "        'gestor':\"('P2_d ', 'Gestor?')\",\n",
    "        'nivel': \"('P2_g ', 'Nivel')\",\n",
    "        'faixa_salarial': \"('P2_h ', 'Faixa salarial')\",\n",
    "        'tempo_area_dados': \"('P2_i ', 'Quanto tempo de experiência na área de dados você tem?')\",\n",
    "        'tempo_area_ti': \"('P2_j ', 'Quanto tempo de experiência na área de TI/Engenharia de Software você teve antes de começar a trabalhar na área de dados?')\",\n",
    "        'modalidade': \"('P2_p ', 'Atualmente qual a sua forma de trabalho?')\"\n",
    "    },\n",
    "    '2023': {\n",
    "        'situacao': \"('P2_a ', 'Qual sua situação atual de trabalho?')\",\n",
    "        'setor': \"('P2_b ', 'Setor')\",\n",
    "        'cargo': \"('P2_f ', 'Cargo Atual')\",\n",
    "        'gestor':\"('P2_d ', 'Gestor?')\",\n",
    "        'nivel': \"('P2_g ', 'Nivel')\",\n",
    "        'faixa_salarial': \"('P2_h ', 'Faixa salarial')\",\n",
    "        'tempo_area_dados': \"('P2_i ', 'Quanto tempo de experiência na área de dados você tem?')\",\n",
    "        'tempo_area_ti': \"('P2_j ', 'Quanto tempo de experiência na área de TI/Engenharia de Software você teve antes de começar a trabalhar na área de dados?')\",\n",
    "        'modalidade': \"('P2_r ', 'Atualmente qual a sua forma de trabalho?')\"\n",
    "    },\n",
    "    '2024': {\n",
    "        'situacao': '2.a_situação_de_trabalho',\n",
    "        'setor': '2.b_setor',\n",
    "        'cargo': '2.f_cargo_atual',\n",
    "        'gestor':'2.d_atua_como_gestor',\n",
    "        'nivel': '2.g_nivel',\n",
    "        'faixa_salarial': '2.h_faixa_salarial',\n",
    "        'tempo_area_dados': '2.i_tempo_de_experiencia_em_dados',\n",
    "        'tempo_area_ti': '2.j_tempo_de_experiencia_em_ti',\n",
    "        'modalidade': '2.r_modelo_de_trabalho_atual'\n",
    "    }\n",
    "}\n",
    "    \n",
    "    \n",
    "    processed_data = []\n",
    "    \n",
    "    for year, df in datasets.items():\n",
    "        \n",
    "        df['ano_pesquisa'] = year\n",
    "        \n",
    "        # Criando um novo DataFrame apenas com colunas relevantes\n",
    "        year_data = pd.DataFrame()\n",
    "        year_data['ano_pesquisa'] = df['ano_pesquisa']\n",
    "        \n",
    "        # Colunas demográficas\n",
    "        for new_col, old_col in column_mapping[year].items():\n",
    "            year_data[new_col] = df[old_col]\n",
    "        \n",
    "        # Colunas profissionais\n",
    "        for new_col, old_col in professional_columns[year].items():\n",
    "            year_data[new_col] = df[old_col]\n",
    "        \n",
    "        processed_data.append(year_data)\n",
    " \n",
    "    combined_data = pd.concat(processed_data, ignore_index=True)\n",
    "    \n",
    "    return combined_data\n",
    "\n",
    "dfs = {\n",
    "    '2021': df_21,\n",
    "    '2022': df_22,\n",
    "    '2023': df_23,\n",
    "    '2024': df_24\n",
    "}\n",
    "\n",
    "df_unificado = load_data(dfs)\n"
   ]
  },
  {
   "cell_type": "code",
   "execution_count": 49,
   "metadata": {},
   "outputs": [
    {
     "data": {
      "text/html": [
       "<div>\n",
       "<style scoped>\n",
       "    .dataframe tbody tr th:only-of-type {\n",
       "        vertical-align: middle;\n",
       "    }\n",
       "\n",
       "    .dataframe tbody tr th {\n",
       "        vertical-align: top;\n",
       "    }\n",
       "\n",
       "    .dataframe thead th {\n",
       "        text-align: right;\n",
       "    }\n",
       "</style>\n",
       "<table border=\"1\" class=\"dataframe\">\n",
       "  <thead>\n",
       "    <tr style=\"text-align: right;\">\n",
       "      <th></th>\n",
       "      <th>ano_pesquisa</th>\n",
       "      <th>idade</th>\n",
       "      <th>faixa_idade</th>\n",
       "      <th>genero</th>\n",
       "      <th>estado</th>\n",
       "      <th>uf</th>\n",
       "      <th>regiao</th>\n",
       "      <th>regiao_origem</th>\n",
       "      <th>mudou_estado</th>\n",
       "      <th>nivel_ensino</th>\n",
       "      <th>area_formacao</th>\n",
       "      <th>situacao</th>\n",
       "      <th>setor</th>\n",
       "      <th>cargo</th>\n",
       "      <th>gestor</th>\n",
       "      <th>nivel</th>\n",
       "      <th>faixa_salarial</th>\n",
       "      <th>tempo_area_dados</th>\n",
       "      <th>tempo_area_ti</th>\n",
       "      <th>modalidade</th>\n",
       "    </tr>\n",
       "  </thead>\n",
       "  <tbody>\n",
       "    <tr>\n",
       "      <th>0</th>\n",
       "      <td>2021</td>\n",
       "      <td>38.0</td>\n",
       "      <td>35-39</td>\n",
       "      <td>Masculino</td>\n",
       "      <td>Ceará (CE)</td>\n",
       "      <td>CE</td>\n",
       "      <td>Nordeste</td>\n",
       "      <td>NaN</td>\n",
       "      <td>0</td>\n",
       "      <td>Pós-graduação</td>\n",
       "      <td>Química / Física</td>\n",
       "      <td>Empregado (CLT)</td>\n",
       "      <td>Marketing</td>\n",
       "      <td>NaN</td>\n",
       "      <td>1.0</td>\n",
       "      <td>NaN</td>\n",
       "      <td>de R$ 4.001/mês a R$ 6.000/mês</td>\n",
       "      <td>Mais de 10 anos</td>\n",
       "      <td>Não tive experiência na área de TI/Engenharia ...</td>\n",
       "      <td>Modelo 100% presencial</td>\n",
       "    </tr>\n",
       "    <tr>\n",
       "      <th>1</th>\n",
       "      <td>2021</td>\n",
       "      <td>39.0</td>\n",
       "      <td>35-39</td>\n",
       "      <td>Masculino</td>\n",
       "      <td>Bahia (BA)</td>\n",
       "      <td>BA</td>\n",
       "      <td>Nordeste</td>\n",
       "      <td>Sudeste</td>\n",
       "      <td>1</td>\n",
       "      <td>Pós-graduação</td>\n",
       "      <td>Economia/ Administração / Contabilidade / Fina...</td>\n",
       "      <td>Empreendedor ou Empregado (CNPJ)</td>\n",
       "      <td>Consultoria</td>\n",
       "      <td>NaN</td>\n",
       "      <td>1.0</td>\n",
       "      <td>NaN</td>\n",
       "      <td>de R$ 6.001/mês a R$ 8.000/mês</td>\n",
       "      <td>de 2 a 3 anos</td>\n",
       "      <td>Não tive experiência na área de TI/Engenharia ...</td>\n",
       "      <td>Modelo híbrido flexível (o funcionário tem lib...</td>\n",
       "    </tr>\n",
       "    <tr>\n",
       "      <th>2</th>\n",
       "      <td>2021</td>\n",
       "      <td>30.0</td>\n",
       "      <td>30-34</td>\n",
       "      <td>Masculino</td>\n",
       "      <td>Santa Catarina (SC)</td>\n",
       "      <td>SC</td>\n",
       "      <td>Sul</td>\n",
       "      <td>NaN</td>\n",
       "      <td>0</td>\n",
       "      <td>Pós-graduação</td>\n",
       "      <td>Computação / Engenharia de Software / Sistemas...</td>\n",
       "      <td>Empregado (CLT)</td>\n",
       "      <td>Indústria</td>\n",
       "      <td>NaN</td>\n",
       "      <td>1.0</td>\n",
       "      <td>NaN</td>\n",
       "      <td>de R$ 8.001/mês a R$ 12.000/mês</td>\n",
       "      <td>de 1 a 2 anos</td>\n",
       "      <td>de 2 a 3 anos</td>\n",
       "      <td>Modelo 100% presencial</td>\n",
       "    </tr>\n",
       "    <tr>\n",
       "      <th>3</th>\n",
       "      <td>2021</td>\n",
       "      <td>38.0</td>\n",
       "      <td>35-39</td>\n",
       "      <td>Feminino</td>\n",
       "      <td>São Paulo (SP)</td>\n",
       "      <td>SP</td>\n",
       "      <td>Sudeste</td>\n",
       "      <td>NaN</td>\n",
       "      <td>0</td>\n",
       "      <td>Pós-graduação</td>\n",
       "      <td>Outras</td>\n",
       "      <td>Empreendedor ou Empregado (CNPJ)</td>\n",
       "      <td>Serviços</td>\n",
       "      <td>NaN</td>\n",
       "      <td>1.0</td>\n",
       "      <td>NaN</td>\n",
       "      <td>de R$ 12.001/mês a R$ 16.000/mês</td>\n",
       "      <td>Mais de 10 anos</td>\n",
       "      <td>Menos de 1 ano</td>\n",
       "      <td>Modelo 100% presencial</td>\n",
       "    </tr>\n",
       "    <tr>\n",
       "      <th>4</th>\n",
       "      <td>2021</td>\n",
       "      <td>36.0</td>\n",
       "      <td>35-39</td>\n",
       "      <td>Masculino</td>\n",
       "      <td>Santa Catarina (SC)</td>\n",
       "      <td>SC</td>\n",
       "      <td>Sul</td>\n",
       "      <td>NaN</td>\n",
       "      <td>0</td>\n",
       "      <td>Pós-graduação</td>\n",
       "      <td>Outras Engenharias</td>\n",
       "      <td>Empreendedor ou Empregado (CNPJ)</td>\n",
       "      <td>Varejo</td>\n",
       "      <td>NaN</td>\n",
       "      <td>1.0</td>\n",
       "      <td>NaN</td>\n",
       "      <td>de R$ 8.001/mês a R$ 12.000/mês</td>\n",
       "      <td>de 1 a 2 anos</td>\n",
       "      <td>de 4 a 5 anos</td>\n",
       "      <td>Modelo 100% presencial</td>\n",
       "    </tr>\n",
       "  </tbody>\n",
       "</table>\n",
       "</div>"
      ],
      "text/plain": [
       "  ano_pesquisa  idade faixa_idade     genero               estado  uf  \\\n",
       "0         2021   38.0       35-39  Masculino           Ceará (CE)  CE   \n",
       "1         2021   39.0       35-39  Masculino           Bahia (BA)  BA   \n",
       "2         2021   30.0       30-34  Masculino  Santa Catarina (SC)  SC   \n",
       "3         2021   38.0       35-39   Feminino       São Paulo (SP)  SP   \n",
       "4         2021   36.0       35-39  Masculino  Santa Catarina (SC)  SC   \n",
       "\n",
       "     regiao regiao_origem mudou_estado   nivel_ensino  \\\n",
       "0  Nordeste           NaN            0  Pós-graduação   \n",
       "1  Nordeste       Sudeste            1  Pós-graduação   \n",
       "2       Sul           NaN            0  Pós-graduação   \n",
       "3   Sudeste           NaN            0  Pós-graduação   \n",
       "4       Sul           NaN            0  Pós-graduação   \n",
       "\n",
       "                                       area_formacao  \\\n",
       "0                                   Química / Física   \n",
       "1  Economia/ Administração / Contabilidade / Fina...   \n",
       "2  Computação / Engenharia de Software / Sistemas...   \n",
       "3                                             Outras   \n",
       "4                                 Outras Engenharias   \n",
       "\n",
       "                           situacao        setor cargo gestor nivel  \\\n",
       "0                   Empregado (CLT)    Marketing   NaN    1.0   NaN   \n",
       "1  Empreendedor ou Empregado (CNPJ)  Consultoria   NaN    1.0   NaN   \n",
       "2                   Empregado (CLT)    Indústria   NaN    1.0   NaN   \n",
       "3  Empreendedor ou Empregado (CNPJ)     Serviços   NaN    1.0   NaN   \n",
       "4  Empreendedor ou Empregado (CNPJ)       Varejo   NaN    1.0   NaN   \n",
       "\n",
       "                     faixa_salarial tempo_area_dados  \\\n",
       "0    de R$ 4.001/mês a R$ 6.000/mês  Mais de 10 anos   \n",
       "1    de R$ 6.001/mês a R$ 8.000/mês    de 2 a 3 anos   \n",
       "2   de R$ 8.001/mês a R$ 12.000/mês    de 1 a 2 anos   \n",
       "3  de R$ 12.001/mês a R$ 16.000/mês  Mais de 10 anos   \n",
       "4   de R$ 8.001/mês a R$ 12.000/mês    de 1 a 2 anos   \n",
       "\n",
       "                                       tempo_area_ti  \\\n",
       "0  Não tive experiência na área de TI/Engenharia ...   \n",
       "1  Não tive experiência na área de TI/Engenharia ...   \n",
       "2                                      de 2 a 3 anos   \n",
       "3                                     Menos de 1 ano   \n",
       "4                                      de 4 a 5 anos   \n",
       "\n",
       "                                          modalidade  \n",
       "0                             Modelo 100% presencial  \n",
       "1  Modelo híbrido flexível (o funcionário tem lib...  \n",
       "2                             Modelo 100% presencial  \n",
       "3                             Modelo 100% presencial  \n",
       "4                             Modelo 100% presencial  "
      ]
     },
     "execution_count": 49,
     "metadata": {},
     "output_type": "execute_result"
    }
   ],
   "source": [
    "df_unificado.head()"
   ]
  },
  {
   "cell_type": "code",
   "execution_count": 50,
   "metadata": {},
   "outputs": [],
   "source": [
    "df_rj = df_unificado[df_unificado['uf'] == 'RJ']"
   ]
  },
  {
   "cell_type": "code",
   "execution_count": 51,
   "metadata": {},
   "outputs": [],
   "source": [
    "df_rj.to_excel(\"df_rj.xlsx\", index=False)"
   ]
  },
  {
   "cell_type": "code",
   "execution_count": 52,
   "metadata": {},
   "outputs": [
    {
     "data": {
      "text/plain": [
       "ano_pesquisa\n",
       "2021    222\n",
       "2022    338\n",
       "2023    437\n",
       "2024    397\n",
       "Name: count, dtype: int64"
      ]
     },
     "execution_count": 52,
     "metadata": {},
     "output_type": "execute_result"
    }
   ],
   "source": [
    "df_rj[\"ano_pesquisa\"].value_counts().sort_index()"
   ]
  },
  {
   "cell_type": "code",
   "execution_count": 53,
   "metadata": {},
   "outputs": [],
   "source": [
    "# ajustando coluna genero\n",
    "\n",
    "df_rj = df_rj[df_rj['genero'].isin(['Masculino', 'Feminino'])]\n"
   ]
  },
  {
   "cell_type": "code",
   "execution_count": 54,
   "metadata": {},
   "outputs": [
    {
     "data": {
      "text/plain": [
       "ano_pesquisa  genero   \n",
       "2021          Masculino    178\n",
       "              Feminino      44\n",
       "2022          Masculino    260\n",
       "              Feminino      77\n",
       "2023          Masculino    327\n",
       "              Feminino     109\n",
       "2024          Masculino    293\n",
       "              Feminino     101\n",
       "Name: count, dtype: int64"
      ]
     },
     "execution_count": 54,
     "metadata": {},
     "output_type": "execute_result"
    }
   ],
   "source": [
    "df_rj.groupby(\"ano_pesquisa\")[\"genero\"].value_counts()"
   ]
  },
  {
   "cell_type": "code",
   "execution_count": 55,
   "metadata": {},
   "outputs": [],
   "source": [
    "# ajustando nivel ensino \n",
    "\n",
    "df_rj.loc[df_rj[\"nivel_ensino\"] == 'Prefiro não informar', \"nivel_ensino\"] = np.nan\n",
    "\n",
    "df_rj.loc[df_rj[\"nivel_ensino\"] == 'Pós-graduação', \"nivel_ensino\"] = 'Especialização Lato Sensu'\n",
    "\n",
    "ordem_nivel_ensino = ['Não tenho graduação formal', 'Estudante de Graduação', \n",
    "                      'Graduação/Bacharelado', 'Especialização Lato Sensu', \n",
    "                      'Mestrado', 'Doutorado ou Phd']\n",
    "\n",
    "df_rj['nivel_ensino'] = pd.Categorical(df_rj['nivel_ensino'], categories=ordem_nivel_ensino, ordered=True)"
   ]
  },
  {
   "cell_type": "code",
   "execution_count": 56,
   "metadata": {},
   "outputs": [
    {
     "data": {
      "text/plain": [
       "ano_pesquisa  nivel \n",
       "2021          Pleno      66\n",
       "              Júnior     47\n",
       "              Sênior     40\n",
       "2022          Júnior     84\n",
       "              Sênior     75\n",
       "              Pleno      72\n",
       "2023          Sênior    122\n",
       "              Pleno     117\n",
       "              Júnior     93\n",
       "2024          Sênior    112\n",
       "              Pleno      95\n",
       "              Júnior     80\n",
       "Name: count, dtype: int64"
      ]
     },
     "execution_count": 56,
     "metadata": {},
     "output_type": "execute_result"
    }
   ],
   "source": [
    "df_rj.groupby(\"ano_pesquisa\")[\"nivel\"].value_counts()"
   ]
  },
  {
   "cell_type": "code",
   "execution_count": 57,
   "metadata": {},
   "outputs": [],
   "source": [
    "# ajustando faixa salarial\n",
    "\n",
    "df_rj[\"faixa_salarial\"] = df_rj[\"faixa_salarial\"].str.replace(r\"\\s+\", \" \", regex=True).str.strip()\n",
    "\n",
    "df_rj[\"faixa_salarial\"] = df_rj[\"faixa_salarial\"].replace({\n",
    "    'de R$ 1.001/mês a R$ 2.000/mês': \"R$1k-2k\",\n",
    "    'de R$ 2.001/mês a R$ 3.000/mês': \"R$2k-3k\",\n",
    "    'de R$ 2.001/mês a R$ 3000/mês': \"R$2k-3k\",\n",
    "    'de R$ 3.001/mês a R$ 4.000/mês': \"R$3k-4k\", \n",
    "    'de R$ 4.001/mês a R$ 6.000/mês': \"R$4k-6k\",\n",
    "    'de R$ 6.001/mês a R$ 8.000/mês': \"R$6k-8k\",\n",
    "    'de R$ 8.001/mês a R$ 12.000/mês': \"R$8k-12k\",\n",
    "    'de R$ 12.001/mês a R$ 16.000/mês': \"R$12k-16k\",\n",
    "    'de R$ 16.001/mês a R$ 20.000/mês': \"R$16k-20k\",\n",
    "    'de R$ 20.001/mês a R$ 25.000/mês': \"R$20k-25k\",\n",
    "    'de R$ 25.001/mês a R$ 30.000/mês': \"R$25k-30k\",\n",
    "    'de R$ 30.001/mês a R$ 40.000/mês': \"R$30k-40k\",\n",
    "    'Acima de R$ 40.001/mês': \"R$40k\"\n",
    "})\n",
    "\n",
    "faixas_salariais_ordem = [ \n",
    "    'R$1k-2k',\n",
    "    'R$2k-3k',\n",
    "    'R$3k-4k', \n",
    "    'R$4k-6k',\n",
    "    'R$6k-8k',\n",
    "    'R$8k-12k',\n",
    "    'R$12k-16k',\n",
    "    'R$16k-20k',\n",
    "    'R$20k-25k',\n",
    "    'R$25k-30k',\n",
    "    'R$30k-40k',\n",
    "    'R$40k'\n",
    "]\n",
    "\n",
    "df_rj['faixa_salarial'] = pd.Categorical(df_rj['faixa_salarial'], categories=faixas_salariais_ordem, ordered=True)\n"
   ]
  },
  {
   "cell_type": "code",
   "execution_count": 58,
   "metadata": {},
   "outputs": [
    {
     "data": {
      "text/plain": [
       "ano_pesquisa  faixa_salarial\n",
       "2021          R$8k-12k          46\n",
       "              R$4k-6k           36\n",
       "              R$6k-8k           28\n",
       "              R$2k-3k           18\n",
       "              R$12k-16k         18\n",
       "              R$3k-4k           12\n",
       "              R$1k-2k           10\n",
       "              R$16k-20k         10\n",
       "              R$20k-25k          4\n",
       "              R$25k-30k          2\n",
       "              R$30k-40k          1\n",
       "              R$40k              1\n",
       "2022          R$8k-12k          63\n",
       "              R$12k-16k         44\n",
       "              R$4k-6k           41\n",
       "              R$3k-4k           33\n",
       "              R$6k-8k           29\n",
       "              R$2k-3k           23\n",
       "              R$1k-2k           19\n",
       "              R$16k-20k         14\n",
       "              R$25k-30k          7\n",
       "              R$20k-25k          5\n",
       "              R$30k-40k          3\n",
       "              R$40k              0\n",
       "2023          R$8k-12k          95\n",
       "              R$4k-6k           58\n",
       "              R$6k-8k           48\n",
       "              R$12k-16k         44\n",
       "              R$3k-4k           31\n",
       "              R$2k-3k           29\n",
       "              R$1k-2k           27\n",
       "              R$16k-20k         24\n",
       "              R$20k-25k         17\n",
       "              R$25k-30k         10\n",
       "              R$30k-40k          8\n",
       "              R$40k              1\n",
       "2024          R$8k-12k          79\n",
       "              R$12k-16k         49\n",
       "              R$4k-6k           45\n",
       "              R$6k-8k           40\n",
       "              R$16k-20k         38\n",
       "              R$3k-4k           23\n",
       "              R$2k-3k           18\n",
       "              R$20k-25k         18\n",
       "              R$1k-2k           15\n",
       "              R$25k-30k         12\n",
       "              R$30k-40k         11\n",
       "              R$40k              5\n",
       "Name: count, dtype: int64"
      ]
     },
     "execution_count": 58,
     "metadata": {},
     "output_type": "execute_result"
    }
   ],
   "source": [
    "df_rj.groupby(\"ano_pesquisa\")[\"faixa_salarial\"].value_counts()"
   ]
  },
  {
   "cell_type": "code",
   "execution_count": 59,
   "metadata": {},
   "outputs": [],
   "source": [
    "# ajustando cargos\n",
    "\n",
    "mapeamento = {\n",
    "    # Analista de Dados\n",
    "    'Analista de Dados/Data Analyst': 'Analista de Dados',\n",
    "    'Analista de BI/BI Analyst': 'Analista de Dados',\n",
    "    'Analista de BI/BI Analyst/Analytics Engineer': 'Analista de Dados',\n",
    "    'Analista de Negócios/Business Analyst': 'Analista de Dados',\n",
    "    'Analista de Inteligência de Mercado/Market Intelligence': 'Analista de Dados',\n",
    "    'Analista de Marketing': 'Analista de Dados',\n",
    "    'Analista Administrativo': 'Analista de Dados',\n",
    "    'Estatístico': 'Analista de Dados',\n",
    "    'Economista': 'Analista de Dados',\n",
    "    \n",
    "    # Engenheiro de Dados\n",
    "    'Engenheiro de Dados/Arquiteto de Dados/Data Engineer/Data Architect': 'Engenheiro de Dados',\n",
    "    'Engenheiro de Dados/Data Engineer': 'Engenheiro de Dados',\n",
    "    'Analytics Engineer': 'Engenheiro de Dados',\n",
    "    'Arquiteto de Dados': 'Engenheiro de Dados',\n",
    "    'Arquiteto de dados': 'Engenheiro de Dados',\n",
    "    'DBA/Administrador de Banco de Dados': 'Engenheiro de Dados',\n",
    "    \n",
    "    # Cientista de Dados\n",
    "    'Cientista de Dados/Data Scientist': 'Cientista de Dados',\n",
    "    'Engenheiro de Machine Learning/ML Engineer': 'Cientista de Dados',\n",
    "    'Engenheiro de Machine Learning/ML Engineer/AI Engineer': 'Cientista de Dados',\n",
    "    \n",
    "    # Professor/Pesquisador\n",
    "    'Professor': 'Professor/Pesquisador',\n",
    "    'Professor/Pesquisador': 'Professor/Pesquisador',\n",
    "    \n",
    "    # Product Manager\n",
    "    'Data Product Manager/ Product Manager (PM/APM/DPM/GPM/PO)': 'Product Manager',\n",
    "    'Product Manager/ Product Owner (PM/APM/DPM/GPM/PO)': 'Product Manager',\n",
    "    'Product Manager': 'Product Manager',\n",
    "    \n",
    "    # Desenvolvedor\n",
    "    'Desenvolvedor/ Engenheiro de Software/ Analista de Sistemas': 'Desenvolvedor',\n",
    "    'Desenvolvedor ou Engenheiro de Software': 'Desenvolvedor',\n",
    "    'Analista de Sistemas/Analista de TI': 'Desenvolvedor',\n",
    "    'Analista de Suporte/Analista Técnico': 'Desenvolvedor',\n",
    "    'Suporte Técnico': 'Desenvolvedor',\n",
    "    'Técnico': 'Desenvolvedor',\n",
    "    \n",
    "    # Categorias que não se encaixam exatamente\n",
    "    'Outra Opção': 'Outro',\n",
    "    'Outro': 'Outro',\n",
    "    'Outras Engenharias (não inclui dev)': 'Outro'\n",
    "}\n",
    "\n",
    "df_rj['cargo'] = df_rj['cargo'].map(mapeamento).fillna(df_rj['cargo'])"
   ]
  },
  {
   "cell_type": "code",
   "execution_count": 60,
   "metadata": {},
   "outputs": [
    {
     "data": {
      "text/plain": [
       "ano_pesquisa  cargo                                           \n",
       "2021          Analista de Dados                                    84\n",
       "              Cientista de Dados                                   34\n",
       "              Engenheiro de Dados                                  17\n",
       "              Desenvolvedor                                         9\n",
       "              Outro                                                 9\n",
       "2022          Analista de Dados                                    93\n",
       "              Cientista de Dados                                   53\n",
       "              Engenheiro de Dados                                  43\n",
       "              Outro                                                28\n",
       "              Desenvolvedor                                        13\n",
       "              Professor/Pesquisador                                 1\n",
       "2023          Analista de Dados                                   151\n",
       "              Engenheiro de Dados                                  69\n",
       "              Cientista de Dados                                   63\n",
       "              Outro                                                33\n",
       "              Desenvolvedor                                        10\n",
       "              Product Manager                                       4\n",
       "              Professor/Pesquisador                                 2\n",
       "2024          Analista de Dados                                    99\n",
       "              Cientista de Dados                                   69\n",
       "              Engenheiro de Dados/Data Engineer/Data Architect     46\n",
       "              Outro                                                25\n",
       "              Desenvolvedor                                        19\n",
       "              Engenheiro de Dados                                  16\n",
       "              Product Manager                                       8\n",
       "              Arquiteto de Dados/Data Architect                     3\n",
       "              Professor/Pesquisador                                 2\n",
       "Name: count, dtype: int64"
      ]
     },
     "execution_count": 60,
     "metadata": {},
     "output_type": "execute_result"
    }
   ],
   "source": [
    "df_rj.groupby(\"ano_pesquisa\")[\"cargo\"].value_counts()"
   ]
  },
  {
   "cell_type": "code",
   "execution_count": 61,
   "metadata": {},
   "outputs": [],
   "source": [
    "# ajustando nivel senioridade\n",
    "\n",
    "df_rj[\"nivel\"] = df_rj[\"nivel\"].astype('category')\n",
    "\n",
    "if 'Gestor' not in df_rj[\"nivel\"].cat.categories:\n",
    "    df_rj[\"nivel\"] = df_rj[\"nivel\"].cat.add_categories(['Gestor'])\n",
    "\n",
    "\n",
    "df_rj.loc[df_rj[\"gestor\"] == 1.0, \"nivel\"] = \"Gestor\"\n",
    "\n",
    "df_rj[\"nivel\"] = df_rj[\"nivel\"].cat.reorder_categories(['Júnior', 'Pleno', 'Sênior', 'Gestor'])\n"
   ]
  },
  {
   "cell_type": "code",
   "execution_count": 62,
   "metadata": {},
   "outputs": [],
   "source": [
    "# ajustando áreas de formação\n",
    "\n",
    "mapeamento_areas = {\n",
    "    \"Química / Física\": \"Química / Física\",\n",
    "    \"Economia/ Administração / Contabilidade / Finanças\": \"Economia / Administração / Finanças / Negócios\",\n",
    "    \"Computação / Engenharia de Software / Sistemas de Informação/ TI\": \"Computação / Engenharia de Software / TI\",\n",
    "    \"Outras\": \"Outras\",\n",
    "    \"Outras Engenharias\": \"Engenharia (outras)\",\n",
    "    \"Marketing / Publicidade / Comunicação / Jornalismo\": \"Marketing / Comunicação / Jornalismo\",\n",
    "    \"Estatística/ Matemática / Matemática Computacional\": \"Estatística / Matemática / Ciências Atuariais\",\n",
    "    \"Ciências Sociais\": \"Ciências Sociais\",\n",
    "    \"Ciências Biológicas/Farmácia/Medicina/Área da Saúde\": \"Ciências Biológicas / Medicina / Saúde\",\n",
    "    \"Estatística/ Matemática / Matemática Computacional/ Ciências Atuariais\": \"Estatística / Matemática / Ciências Atuariais\",\n",
    "    \"Ciências Biológicas/ Farmácia/ Medicina/ Área da Saúde\": \"Ciências Biológicas / Medicina / Saúde\",\n",
    "    \"Economia/ Administração / Contabilidade / Finanças/ Negócios\": \"Economia / Administração / Finanças / Negócios\",\n",
    "    \"Outra opção\": \"Outras\"\n",
    "}\n",
    "\n",
    "df_rj[\"area_formacao\"] = df_rj[\"area_formacao\"].replace(mapeamento_areas)"
   ]
  },
  {
   "cell_type": "code",
   "execution_count": 63,
   "metadata": {},
   "outputs": [
    {
     "data": {
      "text/plain": [
       "setor\n",
       "Tecnologia/Fábrica de Software         222\n",
       "Finanças ou Bancos                     133\n",
       "Varejo                                 101\n",
       "Área de Consultoria                     99\n",
       "Educação                                95\n",
       "Outra Opção                             77\n",
       "Área da Saúde                           66\n",
       "Telecomunicação                         54\n",
       "Setor de Energia                        47\n",
       "Setor Público                           46\n",
       "Indústria                               42\n",
       "Internet/Ecommerce                      40\n",
       "Marketing                               36\n",
       "Entretenimento ou Esportes              35\n",
       "Seguros ou Previdência                  35\n",
       "Setor Alimentício                       30\n",
       "Outro                                   12\n",
       "Setor Imobiliário/ Construção Civil     11\n",
       "Agronegócios                             9\n",
       "Consultoria                              7\n",
       "Filantropia/ONG's                        7\n",
       "Energia                                  7\n",
       "Setor Farmaceutico                       6\n",
       "Logística                                4\n",
       "Setor Automotivo                         3\n",
       "consultoria                              1\n",
       "Construção Civil                         1\n",
       "Serviços                                 1\n",
       "Name: count, dtype: int64"
      ]
     },
     "execution_count": 63,
     "metadata": {},
     "output_type": "execute_result"
    }
   ],
   "source": [
    "df_rj[\"setor\"].value_counts()"
   ]
  },
  {
   "cell_type": "code",
   "execution_count": 64,
   "metadata": {},
   "outputs": [
    {
     "data": {
      "text/html": [
       "<div>\n",
       "<style scoped>\n",
       "    .dataframe tbody tr th:only-of-type {\n",
       "        vertical-align: middle;\n",
       "    }\n",
       "\n",
       "    .dataframe tbody tr th {\n",
       "        vertical-align: top;\n",
       "    }\n",
       "\n",
       "    .dataframe thead th {\n",
       "        text-align: right;\n",
       "    }\n",
       "</style>\n",
       "<table border=\"1\" class=\"dataframe\">\n",
       "  <thead>\n",
       "    <tr style=\"text-align: right;\">\n",
       "      <th></th>\n",
       "      <th>ano_pesquisa</th>\n",
       "      <th>idade</th>\n",
       "      <th>faixa_idade</th>\n",
       "      <th>genero</th>\n",
       "      <th>estado</th>\n",
       "      <th>uf</th>\n",
       "      <th>regiao</th>\n",
       "      <th>regiao_origem</th>\n",
       "      <th>mudou_estado</th>\n",
       "      <th>nivel_ensino</th>\n",
       "      <th>area_formacao</th>\n",
       "      <th>situacao</th>\n",
       "      <th>setor</th>\n",
       "      <th>cargo</th>\n",
       "      <th>gestor</th>\n",
       "      <th>nivel</th>\n",
       "      <th>faixa_salarial</th>\n",
       "      <th>tempo_area_dados</th>\n",
       "      <th>tempo_area_ti</th>\n",
       "      <th>modalidade</th>\n",
       "    </tr>\n",
       "  </thead>\n",
       "  <tbody>\n",
       "    <tr>\n",
       "      <th>53</th>\n",
       "      <td>2021</td>\n",
       "      <td>39.0</td>\n",
       "      <td>35-39</td>\n",
       "      <td>Masculino</td>\n",
       "      <td>Rio de Janeiro (RJ)</td>\n",
       "      <td>RJ</td>\n",
       "      <td>Sudeste</td>\n",
       "      <td>NaN</td>\n",
       "      <td>0</td>\n",
       "      <td>Não tenho graduação formal</td>\n",
       "      <td>NaN</td>\n",
       "      <td>Empregado (CLT)</td>\n",
       "      <td>Varejo</td>\n",
       "      <td>NaN</td>\n",
       "      <td>1.0</td>\n",
       "      <td>Gestor</td>\n",
       "      <td>R$8k-12k</td>\n",
       "      <td>de 6 a 10 anos</td>\n",
       "      <td>Não tive experiência na área de TI/Engenharia ...</td>\n",
       "      <td>Modelo 100% remoto</td>\n",
       "    </tr>\n",
       "    <tr>\n",
       "      <th>54</th>\n",
       "      <td>2021</td>\n",
       "      <td>33.0</td>\n",
       "      <td>30-34</td>\n",
       "      <td>Masculino</td>\n",
       "      <td>Rio de Janeiro (RJ)</td>\n",
       "      <td>RJ</td>\n",
       "      <td>Sudeste</td>\n",
       "      <td>NaN</td>\n",
       "      <td>0</td>\n",
       "      <td>Especialização Lato Sensu</td>\n",
       "      <td>Computação / Engenharia de Software / TI</td>\n",
       "      <td>Empregado (CLT)</td>\n",
       "      <td>Varejo</td>\n",
       "      <td>NaN</td>\n",
       "      <td>1.0</td>\n",
       "      <td>Gestor</td>\n",
       "      <td>R$8k-12k</td>\n",
       "      <td>Mais de 10 anos</td>\n",
       "      <td>de 1 a 2 anos</td>\n",
       "      <td>Modelo híbrido com dias fixos de trabalho pres...</td>\n",
       "    </tr>\n",
       "    <tr>\n",
       "      <th>57</th>\n",
       "      <td>2021</td>\n",
       "      <td>37.0</td>\n",
       "      <td>35-39</td>\n",
       "      <td>Masculino</td>\n",
       "      <td>Rio de Janeiro (RJ)</td>\n",
       "      <td>RJ</td>\n",
       "      <td>Sudeste</td>\n",
       "      <td>NaN</td>\n",
       "      <td>0</td>\n",
       "      <td>Especialização Lato Sensu</td>\n",
       "      <td>Computação / Engenharia de Software / TI</td>\n",
       "      <td>Empregado (CLT)</td>\n",
       "      <td>Marketing</td>\n",
       "      <td>NaN</td>\n",
       "      <td>1.0</td>\n",
       "      <td>Gestor</td>\n",
       "      <td>R$20k-25k</td>\n",
       "      <td>de 6 a 10 anos</td>\n",
       "      <td>Mais de 10 anos</td>\n",
       "      <td>Modelo 100% remoto</td>\n",
       "    </tr>\n",
       "    <tr>\n",
       "      <th>85</th>\n",
       "      <td>2021</td>\n",
       "      <td>32.0</td>\n",
       "      <td>30-34</td>\n",
       "      <td>Masculino</td>\n",
       "      <td>Rio de Janeiro (RJ)</td>\n",
       "      <td>RJ</td>\n",
       "      <td>Sudeste</td>\n",
       "      <td>Sudeste</td>\n",
       "      <td>1</td>\n",
       "      <td>Especialização Lato Sensu</td>\n",
       "      <td>Economia / Administração / Finanças / Negócios</td>\n",
       "      <td>Servidor Público</td>\n",
       "      <td>Setor Público</td>\n",
       "      <td>NaN</td>\n",
       "      <td>1.0</td>\n",
       "      <td>Gestor</td>\n",
       "      <td>R$8k-12k</td>\n",
       "      <td>Não tenho experiência na área de dados</td>\n",
       "      <td>Não tive experiência na área de TI/Engenharia ...</td>\n",
       "      <td>Modelo 100% presencial</td>\n",
       "    </tr>\n",
       "    <tr>\n",
       "      <th>88</th>\n",
       "      <td>2021</td>\n",
       "      <td>35.0</td>\n",
       "      <td>35-39</td>\n",
       "      <td>Feminino</td>\n",
       "      <td>Rio de Janeiro (RJ)</td>\n",
       "      <td>RJ</td>\n",
       "      <td>Sudeste</td>\n",
       "      <td>NaN</td>\n",
       "      <td>0</td>\n",
       "      <td>Especialização Lato Sensu</td>\n",
       "      <td>Economia / Administração / Finanças / Negócios</td>\n",
       "      <td>Empregado (CLT)</td>\n",
       "      <td>Internet/Ecommerce</td>\n",
       "      <td>NaN</td>\n",
       "      <td>1.0</td>\n",
       "      <td>Gestor</td>\n",
       "      <td>R$20k-25k</td>\n",
       "      <td>de 6 a 10 anos</td>\n",
       "      <td>Não tive experiência na área de TI/Engenharia ...</td>\n",
       "      <td>Modelo 100% remoto</td>\n",
       "    </tr>\n",
       "  </tbody>\n",
       "</table>\n",
       "</div>"
      ],
      "text/plain": [
       "   ano_pesquisa  idade faixa_idade     genero               estado  uf  \\\n",
       "53         2021   39.0       35-39  Masculino  Rio de Janeiro (RJ)  RJ   \n",
       "54         2021   33.0       30-34  Masculino  Rio de Janeiro (RJ)  RJ   \n",
       "57         2021   37.0       35-39  Masculino  Rio de Janeiro (RJ)  RJ   \n",
       "85         2021   32.0       30-34  Masculino  Rio de Janeiro (RJ)  RJ   \n",
       "88         2021   35.0       35-39   Feminino  Rio de Janeiro (RJ)  RJ   \n",
       "\n",
       "     regiao regiao_origem mudou_estado                nivel_ensino  \\\n",
       "53  Sudeste           NaN            0  Não tenho graduação formal   \n",
       "54  Sudeste           NaN            0   Especialização Lato Sensu   \n",
       "57  Sudeste           NaN            0   Especialização Lato Sensu   \n",
       "85  Sudeste       Sudeste            1   Especialização Lato Sensu   \n",
       "88  Sudeste           NaN            0   Especialização Lato Sensu   \n",
       "\n",
       "                                     area_formacao          situacao  \\\n",
       "53                                             NaN   Empregado (CLT)   \n",
       "54        Computação / Engenharia de Software / TI   Empregado (CLT)   \n",
       "57        Computação / Engenharia de Software / TI   Empregado (CLT)   \n",
       "85  Economia / Administração / Finanças / Negócios  Servidor Público   \n",
       "88  Economia / Administração / Finanças / Negócios   Empregado (CLT)   \n",
       "\n",
       "                 setor cargo gestor   nivel faixa_salarial  \\\n",
       "53              Varejo   NaN    1.0  Gestor       R$8k-12k   \n",
       "54              Varejo   NaN    1.0  Gestor       R$8k-12k   \n",
       "57           Marketing   NaN    1.0  Gestor      R$20k-25k   \n",
       "85       Setor Público   NaN    1.0  Gestor       R$8k-12k   \n",
       "88  Internet/Ecommerce   NaN    1.0  Gestor      R$20k-25k   \n",
       "\n",
       "                          tempo_area_dados  \\\n",
       "53                          de 6 a 10 anos   \n",
       "54                         Mais de 10 anos   \n",
       "57                          de 6 a 10 anos   \n",
       "85  Não tenho experiência na área de dados   \n",
       "88                          de 6 a 10 anos   \n",
       "\n",
       "                                        tempo_area_ti  \\\n",
       "53  Não tive experiência na área de TI/Engenharia ...   \n",
       "54                                      de 1 a 2 anos   \n",
       "57                                    Mais de 10 anos   \n",
       "85  Não tive experiência na área de TI/Engenharia ...   \n",
       "88  Não tive experiência na área de TI/Engenharia ...   \n",
       "\n",
       "                                           modalidade  \n",
       "53                                 Modelo 100% remoto  \n",
       "54  Modelo híbrido com dias fixos de trabalho pres...  \n",
       "57                                 Modelo 100% remoto  \n",
       "85                             Modelo 100% presencial  \n",
       "88                                 Modelo 100% remoto  "
      ]
     },
     "execution_count": 64,
     "metadata": {},
     "output_type": "execute_result"
    }
   ],
   "source": [
    "df_rj.head()"
   ]
  },
  {
   "cell_type": "markdown",
   "metadata": {},
   "source": [
    "# Visualizando os dados"
   ]
  },
  {
   "cell_type": "code",
   "execution_count": 65,
   "metadata": {},
   "outputs": [
    {
     "name": "stderr",
     "output_type": "stream",
     "text": [
      "C:\\Users\\julli\\AppData\\Local\\Temp\\ipykernel_8168\\1366915577.py:20: FutureWarning:\n",
      "\n",
      "The default of observed=False is deprecated and will be changed to True in a future version of pandas. Pass observed=False to retain current behavior or observed=True to adopt the future default and silence this warning.\n",
      "\n",
      "C:\\Users\\julli\\AppData\\Local\\Temp\\ipykernel_8168\\1366915577.py:20: FutureWarning:\n",
      "\n",
      "The default of observed=False is deprecated and will be changed to True in a future version of pandas. Pass observed=False to retain current behavior or observed=True to adopt the future default and silence this warning.\n",
      "\n",
      "C:\\Users\\julli\\AppData\\Local\\Temp\\ipykernel_8168\\1366915577.py:20: FutureWarning:\n",
      "\n",
      "The default of observed=False is deprecated and will be changed to True in a future version of pandas. Pass observed=False to retain current behavior or observed=True to adopt the future default and silence this warning.\n",
      "\n",
      "C:\\Users\\julli\\AppData\\Local\\Temp\\ipykernel_8168\\1366915577.py:20: FutureWarning:\n",
      "\n",
      "The default of observed=False is deprecated and will be changed to True in a future version of pandas. Pass observed=False to retain current behavior or observed=True to adopt the future default and silence this warning.\n",
      "\n"
     ]
    },
    {
     "data": {
      "application/vnd.plotly.v1+json": {
       "config": {
        "plotlyServerURL": "https://plot.ly"
       },
       "data": [
        {
         "marker": {
          "color": "#673147"
         },
         "name": "Feminino",
         "orientation": "h",
         "showlegend": true,
         "text": [
          2,
          2,
          4,
          10,
          6,
          8,
          2,
          2,
          1,
          0,
          0,
          0
         ],
         "textposition": "auto",
         "type": "bar",
         "x": [
          2,
          2,
          4,
          10,
          6,
          8,
          2,
          2,
          1,
          0,
          0,
          0
         ],
         "xaxis": "x",
         "y": [
          "R$1k-2k",
          "R$2k-3k",
          "R$3k-4k",
          "R$4k-6k",
          "R$6k-8k",
          "R$8k-12k",
          "R$12k-16k",
          "R$16k-20k",
          "R$20k-25k",
          "R$25k-30k",
          "R$30k-40k",
          "R$40k"
         ],
         "yaxis": "y"
        },
        {
         "marker": {
          "color": "#708090"
         },
         "name": "Masculino",
         "orientation": "h",
         "showlegend": true,
         "text": [
          8,
          16,
          8,
          26,
          22,
          38,
          16,
          8,
          3,
          2,
          1,
          1
         ],
         "textposition": "auto",
         "type": "bar",
         "x": [
          8,
          16,
          8,
          26,
          22,
          38,
          16,
          8,
          3,
          2,
          1,
          1
         ],
         "xaxis": "x",
         "y": [
          "R$1k-2k",
          "R$2k-3k",
          "R$3k-4k",
          "R$4k-6k",
          "R$6k-8k",
          "R$8k-12k",
          "R$12k-16k",
          "R$16k-20k",
          "R$20k-25k",
          "R$25k-30k",
          "R$30k-40k",
          "R$40k"
         ],
         "yaxis": "y"
        },
        {
         "marker": {
          "color": "#673147"
         },
         "name": "Feminino",
         "orientation": "h",
         "showlegend": false,
         "text": [
          7,
          4,
          12,
          7,
          7,
          17,
          8,
          2,
          1,
          2,
          0,
          0
         ],
         "textposition": "auto",
         "type": "bar",
         "x": [
          7,
          4,
          12,
          7,
          7,
          17,
          8,
          2,
          1,
          2,
          0,
          0
         ],
         "xaxis": "x2",
         "y": [
          "R$1k-2k",
          "R$2k-3k",
          "R$3k-4k",
          "R$4k-6k",
          "R$6k-8k",
          "R$8k-12k",
          "R$12k-16k",
          "R$16k-20k",
          "R$20k-25k",
          "R$25k-30k",
          "R$30k-40k",
          "R$40k"
         ],
         "yaxis": "y2"
        },
        {
         "marker": {
          "color": "#708090"
         },
         "name": "Masculino",
         "orientation": "h",
         "showlegend": false,
         "text": [
          12,
          19,
          21,
          34,
          22,
          46,
          36,
          12,
          4,
          5,
          3,
          0
         ],
         "textposition": "auto",
         "type": "bar",
         "x": [
          12,
          19,
          21,
          34,
          22,
          46,
          36,
          12,
          4,
          5,
          3,
          0
         ],
         "xaxis": "x2",
         "y": [
          "R$1k-2k",
          "R$2k-3k",
          "R$3k-4k",
          "R$4k-6k",
          "R$6k-8k",
          "R$8k-12k",
          "R$12k-16k",
          "R$16k-20k",
          "R$20k-25k",
          "R$25k-30k",
          "R$30k-40k",
          "R$40k"
         ],
         "yaxis": "y2"
        },
        {
         "marker": {
          "color": "#673147"
         },
         "name": "Feminino",
         "orientation": "h",
         "showlegend": false,
         "text": [
          7,
          5,
          5,
          15,
          14,
          27,
          10,
          8,
          1,
          2,
          0,
          0
         ],
         "textposition": "auto",
         "type": "bar",
         "x": [
          7,
          5,
          5,
          15,
          14,
          27,
          10,
          8,
          1,
          2,
          0,
          0
         ],
         "xaxis": "x3",
         "y": [
          "R$1k-2k",
          "R$2k-3k",
          "R$3k-4k",
          "R$4k-6k",
          "R$6k-8k",
          "R$8k-12k",
          "R$12k-16k",
          "R$16k-20k",
          "R$20k-25k",
          "R$25k-30k",
          "R$30k-40k",
          "R$40k"
         ],
         "yaxis": "y3"
        },
        {
         "marker": {
          "color": "#708090"
         },
         "name": "Masculino",
         "orientation": "h",
         "showlegend": false,
         "text": [
          20,
          24,
          26,
          43,
          34,
          68,
          34,
          16,
          16,
          8,
          8,
          1
         ],
         "textposition": "auto",
         "type": "bar",
         "x": [
          20,
          24,
          26,
          43,
          34,
          68,
          34,
          16,
          16,
          8,
          8,
          1
         ],
         "xaxis": "x3",
         "y": [
          "R$1k-2k",
          "R$2k-3k",
          "R$3k-4k",
          "R$4k-6k",
          "R$6k-8k",
          "R$8k-12k",
          "R$12k-16k",
          "R$16k-20k",
          "R$20k-25k",
          "R$25k-30k",
          "R$30k-40k",
          "R$40k"
         ],
         "yaxis": "y3"
        },
        {
         "marker": {
          "color": "#673147"
         },
         "name": "Feminino",
         "orientation": "h",
         "showlegend": false,
         "text": [
          5,
          3,
          4,
          13,
          11,
          22,
          12,
          10,
          3,
          1,
          5,
          0
         ],
         "textposition": "auto",
         "type": "bar",
         "x": [
          5,
          3,
          4,
          13,
          11,
          22,
          12,
          10,
          3,
          1,
          5,
          0
         ],
         "xaxis": "x4",
         "y": [
          "R$1k-2k",
          "R$2k-3k",
          "R$3k-4k",
          "R$4k-6k",
          "R$6k-8k",
          "R$8k-12k",
          "R$12k-16k",
          "R$16k-20k",
          "R$20k-25k",
          "R$25k-30k",
          "R$30k-40k",
          "R$40k"
         ],
         "yaxis": "y4"
        },
        {
         "marker": {
          "color": "#708090"
         },
         "name": "Masculino",
         "orientation": "h",
         "showlegend": false,
         "text": [
          10,
          15,
          19,
          32,
          29,
          57,
          37,
          28,
          15,
          11,
          6,
          5
         ],
         "textposition": "auto",
         "type": "bar",
         "x": [
          10,
          15,
          19,
          32,
          29,
          57,
          37,
          28,
          15,
          11,
          6,
          5
         ],
         "xaxis": "x4",
         "y": [
          "R$1k-2k",
          "R$2k-3k",
          "R$3k-4k",
          "R$4k-6k",
          "R$6k-8k",
          "R$8k-12k",
          "R$12k-16k",
          "R$16k-20k",
          "R$20k-25k",
          "R$25k-30k",
          "R$30k-40k",
          "R$40k"
         ],
         "yaxis": "y4"
        }
       ],
       "layout": {
        "annotations": [
         {
          "font": {
           "size": 16
          },
          "showarrow": false,
          "text": "2021",
          "x": 0.10625,
          "xanchor": "center",
          "xref": "paper",
          "y": 1,
          "yanchor": "bottom",
          "yref": "paper"
         },
         {
          "font": {
           "size": 16
          },
          "showarrow": false,
          "text": "2022",
          "x": 0.36875,
          "xanchor": "center",
          "xref": "paper",
          "y": 1,
          "yanchor": "bottom",
          "yref": "paper"
         },
         {
          "font": {
           "size": 16
          },
          "showarrow": false,
          "text": "2023",
          "x": 0.6312500000000001,
          "xanchor": "center",
          "xref": "paper",
          "y": 1,
          "yanchor": "bottom",
          "yref": "paper"
         },
         {
          "font": {
           "size": 16
          },
          "showarrow": false,
          "text": "2024",
          "x": 0.89375,
          "xanchor": "center",
          "xref": "paper",
          "y": 1,
          "yanchor": "bottom",
          "yref": "paper"
         }
        ],
        "bargap": 0.1,
        "height": 600,
        "showlegend": true,
        "template": {
         "data": {
          "bar": [
           {
            "error_x": {
             "color": "#2a3f5f"
            },
            "error_y": {
             "color": "#2a3f5f"
            },
            "marker": {
             "line": {
              "color": "white",
              "width": 0.5
             },
             "pattern": {
              "fillmode": "overlay",
              "size": 10,
              "solidity": 0.2
             }
            },
            "type": "bar"
           }
          ],
          "barpolar": [
           {
            "marker": {
             "line": {
              "color": "white",
              "width": 0.5
             },
             "pattern": {
              "fillmode": "overlay",
              "size": 10,
              "solidity": 0.2
             }
            },
            "type": "barpolar"
           }
          ],
          "carpet": [
           {
            "aaxis": {
             "endlinecolor": "#2a3f5f",
             "gridcolor": "#C8D4E3",
             "linecolor": "#C8D4E3",
             "minorgridcolor": "#C8D4E3",
             "startlinecolor": "#2a3f5f"
            },
            "baxis": {
             "endlinecolor": "#2a3f5f",
             "gridcolor": "#C8D4E3",
             "linecolor": "#C8D4E3",
             "minorgridcolor": "#C8D4E3",
             "startlinecolor": "#2a3f5f"
            },
            "type": "carpet"
           }
          ],
          "choropleth": [
           {
            "colorbar": {
             "outlinewidth": 0,
             "ticks": ""
            },
            "type": "choropleth"
           }
          ],
          "contour": [
           {
            "colorbar": {
             "outlinewidth": 0,
             "ticks": ""
            },
            "colorscale": [
             [
              0,
              "#0d0887"
             ],
             [
              0.1111111111111111,
              "#46039f"
             ],
             [
              0.2222222222222222,
              "#7201a8"
             ],
             [
              0.3333333333333333,
              "#9c179e"
             ],
             [
              0.4444444444444444,
              "#bd3786"
             ],
             [
              0.5555555555555556,
              "#d8576b"
             ],
             [
              0.6666666666666666,
              "#ed7953"
             ],
             [
              0.7777777777777778,
              "#fb9f3a"
             ],
             [
              0.8888888888888888,
              "#fdca26"
             ],
             [
              1,
              "#f0f921"
             ]
            ],
            "type": "contour"
           }
          ],
          "contourcarpet": [
           {
            "colorbar": {
             "outlinewidth": 0,
             "ticks": ""
            },
            "type": "contourcarpet"
           }
          ],
          "heatmap": [
           {
            "colorbar": {
             "outlinewidth": 0,
             "ticks": ""
            },
            "colorscale": [
             [
              0,
              "#0d0887"
             ],
             [
              0.1111111111111111,
              "#46039f"
             ],
             [
              0.2222222222222222,
              "#7201a8"
             ],
             [
              0.3333333333333333,
              "#9c179e"
             ],
             [
              0.4444444444444444,
              "#bd3786"
             ],
             [
              0.5555555555555556,
              "#d8576b"
             ],
             [
              0.6666666666666666,
              "#ed7953"
             ],
             [
              0.7777777777777778,
              "#fb9f3a"
             ],
             [
              0.8888888888888888,
              "#fdca26"
             ],
             [
              1,
              "#f0f921"
             ]
            ],
            "type": "heatmap"
           }
          ],
          "heatmapgl": [
           {
            "colorbar": {
             "outlinewidth": 0,
             "ticks": ""
            },
            "colorscale": [
             [
              0,
              "#0d0887"
             ],
             [
              0.1111111111111111,
              "#46039f"
             ],
             [
              0.2222222222222222,
              "#7201a8"
             ],
             [
              0.3333333333333333,
              "#9c179e"
             ],
             [
              0.4444444444444444,
              "#bd3786"
             ],
             [
              0.5555555555555556,
              "#d8576b"
             ],
             [
              0.6666666666666666,
              "#ed7953"
             ],
             [
              0.7777777777777778,
              "#fb9f3a"
             ],
             [
              0.8888888888888888,
              "#fdca26"
             ],
             [
              1,
              "#f0f921"
             ]
            ],
            "type": "heatmapgl"
           }
          ],
          "histogram": [
           {
            "marker": {
             "pattern": {
              "fillmode": "overlay",
              "size": 10,
              "solidity": 0.2
             }
            },
            "type": "histogram"
           }
          ],
          "histogram2d": [
           {
            "colorbar": {
             "outlinewidth": 0,
             "ticks": ""
            },
            "colorscale": [
             [
              0,
              "#0d0887"
             ],
             [
              0.1111111111111111,
              "#46039f"
             ],
             [
              0.2222222222222222,
              "#7201a8"
             ],
             [
              0.3333333333333333,
              "#9c179e"
             ],
             [
              0.4444444444444444,
              "#bd3786"
             ],
             [
              0.5555555555555556,
              "#d8576b"
             ],
             [
              0.6666666666666666,
              "#ed7953"
             ],
             [
              0.7777777777777778,
              "#fb9f3a"
             ],
             [
              0.8888888888888888,
              "#fdca26"
             ],
             [
              1,
              "#f0f921"
             ]
            ],
            "type": "histogram2d"
           }
          ],
          "histogram2dcontour": [
           {
            "colorbar": {
             "outlinewidth": 0,
             "ticks": ""
            },
            "colorscale": [
             [
              0,
              "#0d0887"
             ],
             [
              0.1111111111111111,
              "#46039f"
             ],
             [
              0.2222222222222222,
              "#7201a8"
             ],
             [
              0.3333333333333333,
              "#9c179e"
             ],
             [
              0.4444444444444444,
              "#bd3786"
             ],
             [
              0.5555555555555556,
              "#d8576b"
             ],
             [
              0.6666666666666666,
              "#ed7953"
             ],
             [
              0.7777777777777778,
              "#fb9f3a"
             ],
             [
              0.8888888888888888,
              "#fdca26"
             ],
             [
              1,
              "#f0f921"
             ]
            ],
            "type": "histogram2dcontour"
           }
          ],
          "mesh3d": [
           {
            "colorbar": {
             "outlinewidth": 0,
             "ticks": ""
            },
            "type": "mesh3d"
           }
          ],
          "parcoords": [
           {
            "line": {
             "colorbar": {
              "outlinewidth": 0,
              "ticks": ""
             }
            },
            "type": "parcoords"
           }
          ],
          "pie": [
           {
            "automargin": true,
            "type": "pie"
           }
          ],
          "scatter": [
           {
            "fillpattern": {
             "fillmode": "overlay",
             "size": 10,
             "solidity": 0.2
            },
            "type": "scatter"
           }
          ],
          "scatter3d": [
           {
            "line": {
             "colorbar": {
              "outlinewidth": 0,
              "ticks": ""
             }
            },
            "marker": {
             "colorbar": {
              "outlinewidth": 0,
              "ticks": ""
             }
            },
            "type": "scatter3d"
           }
          ],
          "scattercarpet": [
           {
            "marker": {
             "colorbar": {
              "outlinewidth": 0,
              "ticks": ""
             }
            },
            "type": "scattercarpet"
           }
          ],
          "scattergeo": [
           {
            "marker": {
             "colorbar": {
              "outlinewidth": 0,
              "ticks": ""
             }
            },
            "type": "scattergeo"
           }
          ],
          "scattergl": [
           {
            "marker": {
             "colorbar": {
              "outlinewidth": 0,
              "ticks": ""
             }
            },
            "type": "scattergl"
           }
          ],
          "scattermapbox": [
           {
            "marker": {
             "colorbar": {
              "outlinewidth": 0,
              "ticks": ""
             }
            },
            "type": "scattermapbox"
           }
          ],
          "scatterpolar": [
           {
            "marker": {
             "colorbar": {
              "outlinewidth": 0,
              "ticks": ""
             }
            },
            "type": "scatterpolar"
           }
          ],
          "scatterpolargl": [
           {
            "marker": {
             "colorbar": {
              "outlinewidth": 0,
              "ticks": ""
             }
            },
            "type": "scatterpolargl"
           }
          ],
          "scatterternary": [
           {
            "marker": {
             "colorbar": {
              "outlinewidth": 0,
              "ticks": ""
             }
            },
            "type": "scatterternary"
           }
          ],
          "surface": [
           {
            "colorbar": {
             "outlinewidth": 0,
             "ticks": ""
            },
            "colorscale": [
             [
              0,
              "#0d0887"
             ],
             [
              0.1111111111111111,
              "#46039f"
             ],
             [
              0.2222222222222222,
              "#7201a8"
             ],
             [
              0.3333333333333333,
              "#9c179e"
             ],
             [
              0.4444444444444444,
              "#bd3786"
             ],
             [
              0.5555555555555556,
              "#d8576b"
             ],
             [
              0.6666666666666666,
              "#ed7953"
             ],
             [
              0.7777777777777778,
              "#fb9f3a"
             ],
             [
              0.8888888888888888,
              "#fdca26"
             ],
             [
              1,
              "#f0f921"
             ]
            ],
            "type": "surface"
           }
          ],
          "table": [
           {
            "cells": {
             "fill": {
              "color": "#EBF0F8"
             },
             "line": {
              "color": "white"
             }
            },
            "header": {
             "fill": {
              "color": "#C8D4E3"
             },
             "line": {
              "color": "white"
             }
            },
            "type": "table"
           }
          ]
         },
         "layout": {
          "annotationdefaults": {
           "arrowcolor": "#2a3f5f",
           "arrowhead": 0,
           "arrowwidth": 1
          },
          "autotypenumbers": "strict",
          "coloraxis": {
           "colorbar": {
            "outlinewidth": 0,
            "ticks": ""
           }
          },
          "colorscale": {
           "diverging": [
            [
             0,
             "#8e0152"
            ],
            [
             0.1,
             "#c51b7d"
            ],
            [
             0.2,
             "#de77ae"
            ],
            [
             0.3,
             "#f1b6da"
            ],
            [
             0.4,
             "#fde0ef"
            ],
            [
             0.5,
             "#f7f7f7"
            ],
            [
             0.6,
             "#e6f5d0"
            ],
            [
             0.7,
             "#b8e186"
            ],
            [
             0.8,
             "#7fbc41"
            ],
            [
             0.9,
             "#4d9221"
            ],
            [
             1,
             "#276419"
            ]
           ],
           "sequential": [
            [
             0,
             "#0d0887"
            ],
            [
             0.1111111111111111,
             "#46039f"
            ],
            [
             0.2222222222222222,
             "#7201a8"
            ],
            [
             0.3333333333333333,
             "#9c179e"
            ],
            [
             0.4444444444444444,
             "#bd3786"
            ],
            [
             0.5555555555555556,
             "#d8576b"
            ],
            [
             0.6666666666666666,
             "#ed7953"
            ],
            [
             0.7777777777777778,
             "#fb9f3a"
            ],
            [
             0.8888888888888888,
             "#fdca26"
            ],
            [
             1,
             "#f0f921"
            ]
           ],
           "sequentialminus": [
            [
             0,
             "#0d0887"
            ],
            [
             0.1111111111111111,
             "#46039f"
            ],
            [
             0.2222222222222222,
             "#7201a8"
            ],
            [
             0.3333333333333333,
             "#9c179e"
            ],
            [
             0.4444444444444444,
             "#bd3786"
            ],
            [
             0.5555555555555556,
             "#d8576b"
            ],
            [
             0.6666666666666666,
             "#ed7953"
            ],
            [
             0.7777777777777778,
             "#fb9f3a"
            ],
            [
             0.8888888888888888,
             "#fdca26"
            ],
            [
             1,
             "#f0f921"
            ]
           ]
          },
          "colorway": [
           "#636efa",
           "#EF553B",
           "#00cc96",
           "#ab63fa",
           "#FFA15A",
           "#19d3f3",
           "#FF6692",
           "#B6E880",
           "#FF97FF",
           "#FECB52"
          ],
          "font": {
           "color": "#2a3f5f"
          },
          "geo": {
           "bgcolor": "white",
           "lakecolor": "white",
           "landcolor": "white",
           "showlakes": true,
           "showland": true,
           "subunitcolor": "#C8D4E3"
          },
          "hoverlabel": {
           "align": "left"
          },
          "hovermode": "closest",
          "mapbox": {
           "style": "light"
          },
          "paper_bgcolor": "white",
          "plot_bgcolor": "white",
          "polar": {
           "angularaxis": {
            "gridcolor": "#EBF0F8",
            "linecolor": "#EBF0F8",
            "ticks": ""
           },
           "bgcolor": "white",
           "radialaxis": {
            "gridcolor": "#EBF0F8",
            "linecolor": "#EBF0F8",
            "ticks": ""
           }
          },
          "scene": {
           "xaxis": {
            "backgroundcolor": "white",
            "gridcolor": "#DFE8F3",
            "gridwidth": 2,
            "linecolor": "#EBF0F8",
            "showbackground": true,
            "ticks": "",
            "zerolinecolor": "#EBF0F8"
           },
           "yaxis": {
            "backgroundcolor": "white",
            "gridcolor": "#DFE8F3",
            "gridwidth": 2,
            "linecolor": "#EBF0F8",
            "showbackground": true,
            "ticks": "",
            "zerolinecolor": "#EBF0F8"
           },
           "zaxis": {
            "backgroundcolor": "white",
            "gridcolor": "#DFE8F3",
            "gridwidth": 2,
            "linecolor": "#EBF0F8",
            "showbackground": true,
            "ticks": "",
            "zerolinecolor": "#EBF0F8"
           }
          },
          "shapedefaults": {
           "line": {
            "color": "#2a3f5f"
           }
          },
          "ternary": {
           "aaxis": {
            "gridcolor": "#DFE8F3",
            "linecolor": "#A2B1C6",
            "ticks": ""
           },
           "baxis": {
            "gridcolor": "#DFE8F3",
            "linecolor": "#A2B1C6",
            "ticks": ""
           },
           "bgcolor": "white",
           "caxis": {
            "gridcolor": "#DFE8F3",
            "linecolor": "#A2B1C6",
            "ticks": ""
           }
          },
          "title": {
           "x": 0.05
          },
          "xaxis": {
           "automargin": true,
           "gridcolor": "#EBF0F8",
           "linecolor": "#EBF0F8",
           "ticks": "",
           "title": {
            "standoff": 15
           },
           "zerolinecolor": "#EBF0F8",
           "zerolinewidth": 2
          },
          "yaxis": {
           "automargin": true,
           "gridcolor": "#EBF0F8",
           "linecolor": "#EBF0F8",
           "ticks": "",
           "title": {
            "standoff": 15
           },
           "zerolinecolor": "#EBF0F8",
           "zerolinewidth": 2
          }
         }
        },
        "title": {
         "text": "Distribuição Salarial por Gênero (2021-2023)"
        },
        "xaxis": {
         "anchor": "y",
         "domain": [
          0,
          0.2125
         ],
         "title": {
          "text": "Quantidade de pessoas"
         }
        },
        "xaxis2": {
         "anchor": "y2",
         "domain": [
          0.2625,
          0.475
         ],
         "title": {
          "text": "Quantidade de pessoas"
         }
        },
        "xaxis3": {
         "anchor": "y3",
         "domain": [
          0.525,
          0.7375
         ],
         "title": {
          "text": "Quantidade de pessoas"
         }
        },
        "xaxis4": {
         "anchor": "y4",
         "domain": [
          0.7875,
          1
         ],
         "title": {
          "text": "Quantidade de pessoas"
         }
        },
        "yaxis": {
         "anchor": "x",
         "domain": [
          0,
          1
         ],
         "title": {
          "text": "Faixa Salarial"
         }
        },
        "yaxis2": {
         "anchor": "x2",
         "domain": [
          0,
          1
         ],
         "matches": "y",
         "showticklabels": false,
         "title": {
          "text": "Faixa Salarial"
         }
        },
        "yaxis3": {
         "anchor": "x3",
         "domain": [
          0,
          1
         ],
         "matches": "y",
         "showticklabels": false,
         "title": {
          "text": "Faixa Salarial"
         }
        },
        "yaxis4": {
         "anchor": "x4",
         "domain": [
          0,
          1
         ],
         "matches": "y",
         "showticklabels": false,
         "title": {
          "text": "Faixa Salarial"
         }
        }
       }
      }
     },
     "metadata": {},
     "output_type": "display_data"
    }
   ],
   "source": [
    "# Distribuição faixa salarial x genero\n",
    "\n",
    "def criar_piramide_salarial(df_rj):\n",
    "    # Configurações de cores\n",
    "    cores = {\"Masculino\": \"#708090\", \"Feminino\": \"#673147\"}\n",
    "\n",
    "    # Criando figura com subplots\n",
    "    fig = make_subplots(\n",
    "        rows=1,\n",
    "        cols=4,\n",
    "        subplot_titles=(\"2021\", \"2022\", \"2023\", \"2024\"),\n",
    "        shared_yaxes=True\n",
    "    )\n",
    "\n",
    "    anos = ['2021', '2022', '2023', '2024']\n",
    "\n",
    "    for idx, ano in enumerate(anos, 1):\n",
    "        # Filtrando dados do ano atual\n",
    "        df_grouped = df_rj[df_rj[\"ano_pesquisa\"] == ano]\n",
    "        df_grouped = df_grouped.groupby([\"faixa_salarial\", \"genero\"]).size().reset_index(name=\"count\")\n",
    "        \n",
    "        # Pivot para separar por gênero\n",
    "        df_plot = df_grouped.pivot(index=\"faixa_salarial\", columns=\"genero\", values=\"count\").fillna(0)\n",
    "\n",
    "        # Garantindo que as colunas existam\n",
    "        for genero in [\"Masculino\", \"Feminino\"]:\n",
    "            if genero not in df_plot.columns:\n",
    "                df_plot[genero] = 0\n",
    "\n",
    "        # Adicionando barras para Feminino\n",
    "        fig.add_trace(\n",
    "            go.Bar(\n",
    "                y=df_plot.index,\n",
    "                x=df_plot[\"Feminino\"],\n",
    "                name=\"Feminino\",  # Removemos o ano para agrupar na legenda\n",
    "                orientation=\"h\",\n",
    "                marker=dict(color=cores[\"Feminino\"]),\n",
    "                text=df_plot[\"Feminino\"].astype(int),\n",
    "                textposition='auto',\n",
    "                showlegend=True if idx == 1 else False  # Exibe legenda apenas no primeiro ano\n",
    "            ),\n",
    "            row=1,\n",
    "            col=idx\n",
    "        )\n",
    "\n",
    "        # Adicionando barras para Masculino\n",
    "        fig.add_trace(\n",
    "            go.Bar(\n",
    "                y=df_plot.index,\n",
    "                x=df_plot[\"Masculino\"],\n",
    "                name=\"Masculino\",  # Removemos o ano para agrupar na legenda\n",
    "                orientation=\"h\",\n",
    "                marker=dict(color=cores[\"Masculino\"]),\n",
    "                text=df_plot[\"Masculino\"].astype(int),\n",
    "                textposition='auto',\n",
    "                showlegend=True if idx == 1 else False  # Exibe legenda apenas no primeiro ano\n",
    "            ),\n",
    "            row=1,\n",
    "            col=idx\n",
    "        )\n",
    "\n",
    "    # Configurando layout\n",
    "    fig.update_layout(\n",
    "        title=\"Distribuição Salarial por Gênero (2021-2023)\",\n",
    "        template=\"plotly_white\",\n",
    "        height=600,\n",
    "        bargap=0.1,\n",
    "        showlegend=True\n",
    "    )\n",
    "\n",
    "    # Configurando eixos\n",
    "    fig.update_xaxes(title_text=\"Quantidade de pessoas\")\n",
    "    fig.update_yaxes(title_text=\"Faixa Salarial\")\n",
    "\n",
    "    return fig\n",
    "\n",
    "# Usar a função\n",
    "fig = criar_piramide_salarial(df_rj)\n",
    "fig.show()"
   ]
  },
  {
   "cell_type": "code",
   "execution_count": 66,
   "metadata": {},
   "outputs": [
    {
     "name": "stderr",
     "output_type": "stream",
     "text": [
      "C:\\Users\\julli\\AppData\\Local\\Temp\\ipykernel_8168\\3022373491.py:4: FutureWarning:\n",
      "\n",
      "The default of observed=False is deprecated and will be changed to True in a future version of pandas. Pass observed=False to retain current behavior or observed=True to adopt the future default and silence this warning.\n",
      "\n"
     ]
    },
    {
     "data": {
      "application/vnd.plotly.v1+json": {
       "config": {
        "plotlyServerURL": "https://plot.ly"
       },
       "data": [
        {
         "marker": {
          "color": "#673147"
         },
         "name": "Feminino",
         "orientation": "h",
         "showlegend": true,
         "text": [
          "29.5%",
          "22.7%",
          "15.9%",
          "18.2%"
         ],
         "textposition": "outside",
         "type": "bar",
         "x": [
          -29.545454545454547,
          -22.727272727272727,
          -15.909090909090908,
          -18.181818181818183
         ],
         "xaxis": "x",
         "y": [
          "Júnior",
          "Pleno",
          "Sênior",
          "Gestor"
         ],
         "yaxis": "y"
        },
        {
         "marker": {
          "color": "#708090"
         },
         "name": "Masculino",
         "orientation": "h",
         "showlegend": true,
         "text": [
          "19.1%",
          "31.5%",
          "18.5%",
          "15.2%"
         ],
         "textposition": "outside",
         "type": "bar",
         "x": [
          19.101123595505616,
          31.46067415730337,
          18.53932584269663,
          15.168539325842698
         ],
         "xaxis": "x",
         "y": [
          "Júnior",
          "Pleno",
          "Sênior",
          "Gestor"
         ],
         "yaxis": "y"
        },
        {
         "marker": {
          "color": "#673147"
         },
         "name": "Feminino",
         "orientation": "h",
         "showlegend": false,
         "text": [
          "20.8%",
          "23.4%",
          "20.8%",
          "22.1%"
         ],
         "textposition": "outside",
         "type": "bar",
         "x": [
          -20.77922077922078,
          -23.376623376623375,
          -20.77922077922078,
          -22.07792207792208
         ],
         "xaxis": "x2",
         "y": [
          "Júnior",
          "Pleno",
          "Sênior",
          "Gestor"
         ],
         "yaxis": "y2"
        },
        {
         "marker": {
          "color": "#708090"
         },
         "name": "Masculino",
         "orientation": "h",
         "showlegend": false,
         "text": [
          "26.2%",
          "20.8%",
          "22.7%",
          "14.6%"
         ],
         "textposition": "outside",
         "type": "bar",
         "x": [
          26.153846153846157,
          20.76923076923077,
          22.692307692307693,
          14.615384615384617
         ],
         "xaxis": "x2",
         "y": [
          "Júnior",
          "Pleno",
          "Sênior",
          "Gestor"
         ],
         "yaxis": "y2"
        },
        {
         "marker": {
          "color": "#673147"
         },
         "name": "Feminino",
         "orientation": "h",
         "showlegend": false,
         "text": [
          "21.1%",
          "23.9%",
          "27.5%",
          "14.7%"
         ],
         "textposition": "outside",
         "type": "bar",
         "x": [
          -21.100917431192663,
          -23.853211009174313,
          -27.522935779816514,
          -14.678899082568808
         ],
         "xaxis": "x3",
         "y": [
          "Júnior",
          "Pleno",
          "Sênior",
          "Gestor"
         ],
         "yaxis": "y3"
        },
        {
         "marker": {
          "color": "#708090"
         },
         "name": "Masculino",
         "orientation": "h",
         "showlegend": false,
         "text": [
          "21.4%",
          "27.8%",
          "28.1%",
          "14.4%"
         ],
         "textposition": "outside",
         "type": "bar",
         "x": [
          21.406727828746178,
          27.82874617737003,
          28.134556574923547,
          14.37308868501529
         ],
         "xaxis": "x3",
         "y": [
          "Júnior",
          "Pleno",
          "Sênior",
          "Gestor"
         ],
         "yaxis": "y3"
        },
        {
         "marker": {
          "color": "#673147"
         },
         "name": "Feminino",
         "orientation": "h",
         "showlegend": false,
         "text": [
          "16.8%",
          "23.8%",
          "32.7%",
          "15.8%"
         ],
         "textposition": "outside",
         "type": "bar",
         "x": [
          -16.831683168316832,
          -23.762376237623762,
          -32.67326732673268,
          -15.841584158415841
         ],
         "xaxis": "x4",
         "y": [
          "Júnior",
          "Pleno",
          "Sênior",
          "Gestor"
         ],
         "yaxis": "y4"
        },
        {
         "marker": {
          "color": "#708090"
         },
         "name": "Masculino",
         "orientation": "h",
         "showlegend": false,
         "text": [
          "21.5%",
          "24.2%",
          "27.0%",
          "18.8%"
         ],
         "textposition": "outside",
         "type": "bar",
         "x": [
          21.501706484641637,
          24.2320819112628,
          26.96245733788396,
          18.771331058020476
         ],
         "xaxis": "x4",
         "y": [
          "Júnior",
          "Pleno",
          "Sênior",
          "Gestor"
         ],
         "yaxis": "y4"
        }
       ],
       "layout": {
        "annotations": [
         {
          "font": {
           "size": 16
          },
          "showarrow": false,
          "text": "2021",
          "x": 0.10625,
          "xanchor": "center",
          "xref": "paper",
          "y": 1,
          "yanchor": "bottom",
          "yref": "paper"
         },
         {
          "font": {
           "size": 16
          },
          "showarrow": false,
          "text": "2022",
          "x": 0.36875,
          "xanchor": "center",
          "xref": "paper",
          "y": 1,
          "yanchor": "bottom",
          "yref": "paper"
         },
         {
          "font": {
           "size": 16
          },
          "showarrow": false,
          "text": "2023",
          "x": 0.6312500000000001,
          "xanchor": "center",
          "xref": "paper",
          "y": 1,
          "yanchor": "bottom",
          "yref": "paper"
         },
         {
          "font": {
           "size": 16
          },
          "showarrow": false,
          "text": "2024",
          "x": 0.89375,
          "xanchor": "center",
          "xref": "paper",
          "y": 1,
          "yanchor": "bottom",
          "yref": "paper"
         }
        ],
        "barmode": "relative",
        "shapes": [
         {
          "line": {
           "color": "black",
           "dash": "dot",
           "width": 1
          },
          "type": "line",
          "x0": 0,
          "x1": 0,
          "xref": "x",
          "y0": -0.5,
          "y1": 3.5,
          "yref": "y"
         },
         {
          "line": {
           "color": "black",
           "dash": "dot",
           "width": 1
          },
          "type": "line",
          "x0": 0,
          "x1": 0,
          "xref": "x2",
          "y0": -0.5,
          "y1": 3.5,
          "yref": "y2"
         },
         {
          "line": {
           "color": "black",
           "dash": "dot",
           "width": 1
          },
          "type": "line",
          "x0": 0,
          "x1": 0,
          "xref": "x3",
          "y0": -0.5,
          "y1": 3.5,
          "yref": "y3"
         },
         {
          "line": {
           "color": "black",
           "dash": "dot",
           "width": 1
          },
          "type": "line",
          "x0": 0,
          "x1": 0,
          "xref": "x4",
          "y0": -0.5,
          "y1": 3.5,
          "yref": "y4"
         }
        ],
        "template": {
         "data": {
          "bar": [
           {
            "error_x": {
             "color": "#2a3f5f"
            },
            "error_y": {
             "color": "#2a3f5f"
            },
            "marker": {
             "line": {
              "color": "white",
              "width": 0.5
             },
             "pattern": {
              "fillmode": "overlay",
              "size": 10,
              "solidity": 0.2
             }
            },
            "type": "bar"
           }
          ],
          "barpolar": [
           {
            "marker": {
             "line": {
              "color": "white",
              "width": 0.5
             },
             "pattern": {
              "fillmode": "overlay",
              "size": 10,
              "solidity": 0.2
             }
            },
            "type": "barpolar"
           }
          ],
          "carpet": [
           {
            "aaxis": {
             "endlinecolor": "#2a3f5f",
             "gridcolor": "#C8D4E3",
             "linecolor": "#C8D4E3",
             "minorgridcolor": "#C8D4E3",
             "startlinecolor": "#2a3f5f"
            },
            "baxis": {
             "endlinecolor": "#2a3f5f",
             "gridcolor": "#C8D4E3",
             "linecolor": "#C8D4E3",
             "minorgridcolor": "#C8D4E3",
             "startlinecolor": "#2a3f5f"
            },
            "type": "carpet"
           }
          ],
          "choropleth": [
           {
            "colorbar": {
             "outlinewidth": 0,
             "ticks": ""
            },
            "type": "choropleth"
           }
          ],
          "contour": [
           {
            "colorbar": {
             "outlinewidth": 0,
             "ticks": ""
            },
            "colorscale": [
             [
              0,
              "#0d0887"
             ],
             [
              0.1111111111111111,
              "#46039f"
             ],
             [
              0.2222222222222222,
              "#7201a8"
             ],
             [
              0.3333333333333333,
              "#9c179e"
             ],
             [
              0.4444444444444444,
              "#bd3786"
             ],
             [
              0.5555555555555556,
              "#d8576b"
             ],
             [
              0.6666666666666666,
              "#ed7953"
             ],
             [
              0.7777777777777778,
              "#fb9f3a"
             ],
             [
              0.8888888888888888,
              "#fdca26"
             ],
             [
              1,
              "#f0f921"
             ]
            ],
            "type": "contour"
           }
          ],
          "contourcarpet": [
           {
            "colorbar": {
             "outlinewidth": 0,
             "ticks": ""
            },
            "type": "contourcarpet"
           }
          ],
          "heatmap": [
           {
            "colorbar": {
             "outlinewidth": 0,
             "ticks": ""
            },
            "colorscale": [
             [
              0,
              "#0d0887"
             ],
             [
              0.1111111111111111,
              "#46039f"
             ],
             [
              0.2222222222222222,
              "#7201a8"
             ],
             [
              0.3333333333333333,
              "#9c179e"
             ],
             [
              0.4444444444444444,
              "#bd3786"
             ],
             [
              0.5555555555555556,
              "#d8576b"
             ],
             [
              0.6666666666666666,
              "#ed7953"
             ],
             [
              0.7777777777777778,
              "#fb9f3a"
             ],
             [
              0.8888888888888888,
              "#fdca26"
             ],
             [
              1,
              "#f0f921"
             ]
            ],
            "type": "heatmap"
           }
          ],
          "heatmapgl": [
           {
            "colorbar": {
             "outlinewidth": 0,
             "ticks": ""
            },
            "colorscale": [
             [
              0,
              "#0d0887"
             ],
             [
              0.1111111111111111,
              "#46039f"
             ],
             [
              0.2222222222222222,
              "#7201a8"
             ],
             [
              0.3333333333333333,
              "#9c179e"
             ],
             [
              0.4444444444444444,
              "#bd3786"
             ],
             [
              0.5555555555555556,
              "#d8576b"
             ],
             [
              0.6666666666666666,
              "#ed7953"
             ],
             [
              0.7777777777777778,
              "#fb9f3a"
             ],
             [
              0.8888888888888888,
              "#fdca26"
             ],
             [
              1,
              "#f0f921"
             ]
            ],
            "type": "heatmapgl"
           }
          ],
          "histogram": [
           {
            "marker": {
             "pattern": {
              "fillmode": "overlay",
              "size": 10,
              "solidity": 0.2
             }
            },
            "type": "histogram"
           }
          ],
          "histogram2d": [
           {
            "colorbar": {
             "outlinewidth": 0,
             "ticks": ""
            },
            "colorscale": [
             [
              0,
              "#0d0887"
             ],
             [
              0.1111111111111111,
              "#46039f"
             ],
             [
              0.2222222222222222,
              "#7201a8"
             ],
             [
              0.3333333333333333,
              "#9c179e"
             ],
             [
              0.4444444444444444,
              "#bd3786"
             ],
             [
              0.5555555555555556,
              "#d8576b"
             ],
             [
              0.6666666666666666,
              "#ed7953"
             ],
             [
              0.7777777777777778,
              "#fb9f3a"
             ],
             [
              0.8888888888888888,
              "#fdca26"
             ],
             [
              1,
              "#f0f921"
             ]
            ],
            "type": "histogram2d"
           }
          ],
          "histogram2dcontour": [
           {
            "colorbar": {
             "outlinewidth": 0,
             "ticks": ""
            },
            "colorscale": [
             [
              0,
              "#0d0887"
             ],
             [
              0.1111111111111111,
              "#46039f"
             ],
             [
              0.2222222222222222,
              "#7201a8"
             ],
             [
              0.3333333333333333,
              "#9c179e"
             ],
             [
              0.4444444444444444,
              "#bd3786"
             ],
             [
              0.5555555555555556,
              "#d8576b"
             ],
             [
              0.6666666666666666,
              "#ed7953"
             ],
             [
              0.7777777777777778,
              "#fb9f3a"
             ],
             [
              0.8888888888888888,
              "#fdca26"
             ],
             [
              1,
              "#f0f921"
             ]
            ],
            "type": "histogram2dcontour"
           }
          ],
          "mesh3d": [
           {
            "colorbar": {
             "outlinewidth": 0,
             "ticks": ""
            },
            "type": "mesh3d"
           }
          ],
          "parcoords": [
           {
            "line": {
             "colorbar": {
              "outlinewidth": 0,
              "ticks": ""
             }
            },
            "type": "parcoords"
           }
          ],
          "pie": [
           {
            "automargin": true,
            "type": "pie"
           }
          ],
          "scatter": [
           {
            "fillpattern": {
             "fillmode": "overlay",
             "size": 10,
             "solidity": 0.2
            },
            "type": "scatter"
           }
          ],
          "scatter3d": [
           {
            "line": {
             "colorbar": {
              "outlinewidth": 0,
              "ticks": ""
             }
            },
            "marker": {
             "colorbar": {
              "outlinewidth": 0,
              "ticks": ""
             }
            },
            "type": "scatter3d"
           }
          ],
          "scattercarpet": [
           {
            "marker": {
             "colorbar": {
              "outlinewidth": 0,
              "ticks": ""
             }
            },
            "type": "scattercarpet"
           }
          ],
          "scattergeo": [
           {
            "marker": {
             "colorbar": {
              "outlinewidth": 0,
              "ticks": ""
             }
            },
            "type": "scattergeo"
           }
          ],
          "scattergl": [
           {
            "marker": {
             "colorbar": {
              "outlinewidth": 0,
              "ticks": ""
             }
            },
            "type": "scattergl"
           }
          ],
          "scattermapbox": [
           {
            "marker": {
             "colorbar": {
              "outlinewidth": 0,
              "ticks": ""
             }
            },
            "type": "scattermapbox"
           }
          ],
          "scatterpolar": [
           {
            "marker": {
             "colorbar": {
              "outlinewidth": 0,
              "ticks": ""
             }
            },
            "type": "scatterpolar"
           }
          ],
          "scatterpolargl": [
           {
            "marker": {
             "colorbar": {
              "outlinewidth": 0,
              "ticks": ""
             }
            },
            "type": "scatterpolargl"
           }
          ],
          "scatterternary": [
           {
            "marker": {
             "colorbar": {
              "outlinewidth": 0,
              "ticks": ""
             }
            },
            "type": "scatterternary"
           }
          ],
          "surface": [
           {
            "colorbar": {
             "outlinewidth": 0,
             "ticks": ""
            },
            "colorscale": [
             [
              0,
              "#0d0887"
             ],
             [
              0.1111111111111111,
              "#46039f"
             ],
             [
              0.2222222222222222,
              "#7201a8"
             ],
             [
              0.3333333333333333,
              "#9c179e"
             ],
             [
              0.4444444444444444,
              "#bd3786"
             ],
             [
              0.5555555555555556,
              "#d8576b"
             ],
             [
              0.6666666666666666,
              "#ed7953"
             ],
             [
              0.7777777777777778,
              "#fb9f3a"
             ],
             [
              0.8888888888888888,
              "#fdca26"
             ],
             [
              1,
              "#f0f921"
             ]
            ],
            "type": "surface"
           }
          ],
          "table": [
           {
            "cells": {
             "fill": {
              "color": "#EBF0F8"
             },
             "line": {
              "color": "white"
             }
            },
            "header": {
             "fill": {
              "color": "#C8D4E3"
             },
             "line": {
              "color": "white"
             }
            },
            "type": "table"
           }
          ]
         },
         "layout": {
          "annotationdefaults": {
           "arrowcolor": "#2a3f5f",
           "arrowhead": 0,
           "arrowwidth": 1
          },
          "autotypenumbers": "strict",
          "coloraxis": {
           "colorbar": {
            "outlinewidth": 0,
            "ticks": ""
           }
          },
          "colorscale": {
           "diverging": [
            [
             0,
             "#8e0152"
            ],
            [
             0.1,
             "#c51b7d"
            ],
            [
             0.2,
             "#de77ae"
            ],
            [
             0.3,
             "#f1b6da"
            ],
            [
             0.4,
             "#fde0ef"
            ],
            [
             0.5,
             "#f7f7f7"
            ],
            [
             0.6,
             "#e6f5d0"
            ],
            [
             0.7,
             "#b8e186"
            ],
            [
             0.8,
             "#7fbc41"
            ],
            [
             0.9,
             "#4d9221"
            ],
            [
             1,
             "#276419"
            ]
           ],
           "sequential": [
            [
             0,
             "#0d0887"
            ],
            [
             0.1111111111111111,
             "#46039f"
            ],
            [
             0.2222222222222222,
             "#7201a8"
            ],
            [
             0.3333333333333333,
             "#9c179e"
            ],
            [
             0.4444444444444444,
             "#bd3786"
            ],
            [
             0.5555555555555556,
             "#d8576b"
            ],
            [
             0.6666666666666666,
             "#ed7953"
            ],
            [
             0.7777777777777778,
             "#fb9f3a"
            ],
            [
             0.8888888888888888,
             "#fdca26"
            ],
            [
             1,
             "#f0f921"
            ]
           ],
           "sequentialminus": [
            [
             0,
             "#0d0887"
            ],
            [
             0.1111111111111111,
             "#46039f"
            ],
            [
             0.2222222222222222,
             "#7201a8"
            ],
            [
             0.3333333333333333,
             "#9c179e"
            ],
            [
             0.4444444444444444,
             "#bd3786"
            ],
            [
             0.5555555555555556,
             "#d8576b"
            ],
            [
             0.6666666666666666,
             "#ed7953"
            ],
            [
             0.7777777777777778,
             "#fb9f3a"
            ],
            [
             0.8888888888888888,
             "#fdca26"
            ],
            [
             1,
             "#f0f921"
            ]
           ]
          },
          "colorway": [
           "#636efa",
           "#EF553B",
           "#00cc96",
           "#ab63fa",
           "#FFA15A",
           "#19d3f3",
           "#FF6692",
           "#B6E880",
           "#FF97FF",
           "#FECB52"
          ],
          "font": {
           "color": "#2a3f5f"
          },
          "geo": {
           "bgcolor": "white",
           "lakecolor": "white",
           "landcolor": "white",
           "showlakes": true,
           "showland": true,
           "subunitcolor": "#C8D4E3"
          },
          "hoverlabel": {
           "align": "left"
          },
          "hovermode": "closest",
          "mapbox": {
           "style": "light"
          },
          "paper_bgcolor": "white",
          "plot_bgcolor": "white",
          "polar": {
           "angularaxis": {
            "gridcolor": "#EBF0F8",
            "linecolor": "#EBF0F8",
            "ticks": ""
           },
           "bgcolor": "white",
           "radialaxis": {
            "gridcolor": "#EBF0F8",
            "linecolor": "#EBF0F8",
            "ticks": ""
           }
          },
          "scene": {
           "xaxis": {
            "backgroundcolor": "white",
            "gridcolor": "#DFE8F3",
            "gridwidth": 2,
            "linecolor": "#EBF0F8",
            "showbackground": true,
            "ticks": "",
            "zerolinecolor": "#EBF0F8"
           },
           "yaxis": {
            "backgroundcolor": "white",
            "gridcolor": "#DFE8F3",
            "gridwidth": 2,
            "linecolor": "#EBF0F8",
            "showbackground": true,
            "ticks": "",
            "zerolinecolor": "#EBF0F8"
           },
           "zaxis": {
            "backgroundcolor": "white",
            "gridcolor": "#DFE8F3",
            "gridwidth": 2,
            "linecolor": "#EBF0F8",
            "showbackground": true,
            "ticks": "",
            "zerolinecolor": "#EBF0F8"
           }
          },
          "shapedefaults": {
           "line": {
            "color": "#2a3f5f"
           }
          },
          "ternary": {
           "aaxis": {
            "gridcolor": "#DFE8F3",
            "linecolor": "#A2B1C6",
            "ticks": ""
           },
           "baxis": {
            "gridcolor": "#DFE8F3",
            "linecolor": "#A2B1C6",
            "ticks": ""
           },
           "bgcolor": "white",
           "caxis": {
            "gridcolor": "#DFE8F3",
            "linecolor": "#A2B1C6",
            "ticks": ""
           }
          },
          "title": {
           "x": 0.05
          },
          "xaxis": {
           "automargin": true,
           "gridcolor": "#EBF0F8",
           "linecolor": "#EBF0F8",
           "ticks": "",
           "title": {
            "standoff": 15
           },
           "zerolinecolor": "#EBF0F8",
           "zerolinewidth": 2
          },
          "yaxis": {
           "automargin": true,
           "gridcolor": "#EBF0F8",
           "linecolor": "#EBF0F8",
           "ticks": "",
           "title": {
            "standoff": 15
           },
           "zerolinecolor": "#EBF0F8",
           "zerolinewidth": 2
          }
         }
        },
        "title": {
         "text": "Distribuição de Senioridade por Gênero (2021-2024)"
        },
        "xaxis": {
         "anchor": "y",
         "domain": [
          0,
          0.2125
         ],
         "range": [
          -100,
          100
         ],
         "ticksuffix": "%",
         "title": {
          "text": "Proporção (%)"
         }
        },
        "xaxis2": {
         "anchor": "y2",
         "domain": [
          0.2625,
          0.475
         ],
         "range": [
          -100,
          100
         ],
         "ticksuffix": "%"
        },
        "xaxis3": {
         "anchor": "y3",
         "domain": [
          0.525,
          0.7375
         ],
         "range": [
          -100,
          100
         ],
         "ticksuffix": "%"
        },
        "xaxis4": {
         "anchor": "y4",
         "domain": [
          0.7875,
          1
         ],
         "range": [
          -100,
          100
         ],
         "ticksuffix": "%"
        },
        "yaxis": {
         "anchor": "x",
         "domain": [
          0,
          1
         ],
         "title": {
          "text": "Nível de Senioridade"
         }
        },
        "yaxis2": {
         "anchor": "x2",
         "domain": [
          0,
          1
         ],
         "matches": "y",
         "showticklabels": false
        },
        "yaxis3": {
         "anchor": "x3",
         "domain": [
          0,
          1
         ],
         "matches": "y",
         "showticklabels": false
        },
        "yaxis4": {
         "anchor": "x4",
         "domain": [
          0,
          1
         ],
         "matches": "y",
         "showticklabels": false
        }
       }
      }
     },
     "metadata": {},
     "output_type": "display_data"
    }
   ],
   "source": [
    "# Proporção niveis senioridade x genero\n",
    "\n",
    "# Criando um DataFrame agrupado para contar quantas pessoas há por nível de senioridade e gênero\n",
    "df_grouped = df_rj.groupby([\"ano_pesquisa\", \"nivel\", \"genero\"]).size().reset_index(name=\"count\")\n",
    "\n",
    "# Calculando o total por ano e gênero para depois calcular proporções\n",
    "totais_por_ano_genero = df_rj.groupby([\"ano_pesquisa\", \"genero\"]).size().reset_index(name=\"total\")\n",
    "df_grouped = df_grouped.merge(totais_por_ano_genero, on=[\"ano_pesquisa\", \"genero\"])\n",
    "\n",
    "# Calculando a proporção\n",
    "df_grouped[\"proporção\"] = df_grouped[\"count\"] / df_grouped[\"total\"] * 100\n",
    "\n",
    "# Criando a figura com subplots\n",
    "fig = make_subplots(rows=1, cols=4, shared_yaxes=True, subplot_titles=[\"2021\", \"2022\", \"2023\", \"2024\"])\n",
    "\n",
    "anos = ['2021', '2022', '2023', '2024']\n",
    "cores = {\"Masculino\": \"#708090\", \"Feminino\": \"#673147\"}\n",
    "\n",
    "for i, ano in enumerate(anos):\n",
    "    # Filtrando dados do ano atual\n",
    "    df_ano = df_grouped[df_grouped[\"ano_pesquisa\"] == ano]\n",
    "    \n",
    "    # Criando um pivot para senioridade x gênero\n",
    "    df_plot = df_ano.pivot(index=\"nivel\", columns=\"genero\", values=\"proporção\").fillna(0)\n",
    "    \n",
    "    # Garantindo que as colunas existam, preenchendo com 0 se necessário\n",
    "    for genero in [\"Masculino\", \"Feminino\"]:\n",
    "        if genero not in df_plot.columns:\n",
    "            df_plot[genero] = 0\n",
    "    \n",
    "    # Filtrando níveis que têm pelo menos um registro\n",
    "    df_plot = df_plot[(df_plot[\"Masculino\"] > 0) | (df_plot[\"Feminino\"] > 0)]\n",
    "    \n",
    "    # Se não houver dados, continue para o próximo ano\n",
    "    if df_plot.empty:\n",
    "        continue\n",
    "    \n",
    "    # Adicionando barras para Feminino (negativo para inverter no gráfico)\n",
    "    fig.add_trace(go.Bar(\n",
    "        y=df_plot.index,\n",
    "        x=-df_plot[\"Feminino\"],\n",
    "        name=\"Feminino\",\n",
    "        orientation=\"h\",\n",
    "        marker=dict(color=cores[\"Feminino\"]),\n",
    "        text=[f\"{val:.1f}%\" for val in df_plot[\"Feminino\"]],\n",
    "        textposition=\"outside\",\n",
    "        showlegend=True if i == 0 else False\n",
    "    ), row=1, col=i+1)\n",
    "\n",
    "    # Adicionando barras para Masculino\n",
    "    fig.add_trace(go.Bar(\n",
    "        y=df_plot.index,\n",
    "        x=df_plot[\"Masculino\"],\n",
    "        name=\"Masculino\",\n",
    "        orientation=\"h\",\n",
    "        marker=dict(color=cores[\"Masculino\"]),\n",
    "        text=[f\"{val:.1f}%\" for val in df_plot[\"Masculino\"]],\n",
    "        textposition=\"outside\",\n",
    "        showlegend=True if i == 0 else False\n",
    "    ), row=1, col=i+1)\n",
    "\n",
    "# Configurando layout\n",
    "fig.update_layout(\n",
    "    title=\"Distribuição de Senioridade por Gênero (2021-2024)\",\n",
    "    xaxis_title=\"Proporção (%)\",\n",
    "    yaxis_title=\"Nível de Senioridade\",\n",
    "    barmode=\"relative\",\n",
    "    template=\"plotly_white\"\n",
    ")\n",
    "\n",
    "# Ajustando os eixos X para mostrar valores em percentuais\n",
    "for i in range(1, 5):\n",
    "    fig.update_xaxes(ticksuffix=\"%\", range=[-100, 100], row=1, col=i)\n",
    "    \n",
    "    # Adicionando linhas de referência em 0\n",
    "    fig.add_shape(\n",
    "        type=\"line\",\n",
    "        x0=0, y0=-0.5,\n",
    "        x1=0, y1=len(df_plot.index) - 0.5,\n",
    "        line=dict(color=\"black\", width=1, dash=\"dot\"),\n",
    "        row=1, col=i\n",
    "    )\n",
    "\n",
    "fig.show()"
   ]
  },
  {
   "cell_type": "code",
   "execution_count": 67,
   "metadata": {},
   "outputs": [
    {
     "name": "stdout",
     "output_type": "stream",
     "text": [
      "Verificação das somas por gênero:\n",
      "  ano_pesquisa     genero  proporção\n",
      "0         2021   Feminino      100.0\n",
      "1         2021  Masculino      100.0\n",
      "2         2022   Feminino      100.0\n",
      "3         2022  Masculino      100.0\n",
      "4         2023   Feminino      100.0\n",
      "5         2023  Masculino      100.0\n",
      "6         2024   Feminino      100.0\n",
      "7         2024  Masculino      100.0\n"
     ]
    },
    {
     "name": "stderr",
     "output_type": "stream",
     "text": [
      "C:\\Users\\julli\\AppData\\Local\\Temp\\ipykernel_8168\\1547542143.py:7: FutureWarning:\n",
      "\n",
      "The default of observed=False is deprecated and will be changed to True in a future version of pandas. Pass observed=False to retain current behavior or observed=True to adopt the future default and silence this warning.\n",
      "\n"
     ]
    },
    {
     "data": {
      "application/vnd.plotly.v1+json": {
       "config": {
        "plotlyServerURL": "https://plot.ly"
       },
       "data": [
        {
         "marker": {
          "color": "#673147"
         },
         "name": "Feminino",
         "orientation": "h",
         "showlegend": true,
         "text": [
          "34%",
          "26%",
          "18%",
          "21%"
         ],
         "textposition": "outside",
         "type": "bar",
         "x": [
          -34.21052631578947,
          -26.31578947368421,
          -18.421052631578945,
          -21.052631578947366
         ],
         "xaxis": "x",
         "y": [
          "Júnior",
          "Pleno",
          "Sênior",
          "Gestor"
         ],
         "yaxis": "y"
        },
        {
         "marker": {
          "color": "#708090"
         },
         "name": "Masculino",
         "orientation": "h",
         "showlegend": true,
         "text": [
          "23%",
          "37%",
          "22%",
          "18%"
         ],
         "textposition": "outside",
         "type": "bar",
         "x": [
          22.666666666666664,
          37.333333333333336,
          22,
          18
         ],
         "xaxis": "x",
         "y": [
          "Júnior",
          "Pleno",
          "Sênior",
          "Gestor"
         ],
         "yaxis": "y"
        },
        {
         "marker": {
          "color": "#673147"
         },
         "name": "Feminino",
         "orientation": "h",
         "showlegend": false,
         "text": [
          "24%",
          "27%",
          "24%",
          "25%"
         ],
         "textposition": "outside",
         "type": "bar",
         "x": [
          -23.88059701492537,
          -26.865671641791046,
          -23.88059701492537,
          -25.37313432835821
         ],
         "xaxis": "x2",
         "y": [
          "Júnior",
          "Pleno",
          "Sênior",
          "Gestor"
         ],
         "yaxis": "y2"
        },
        {
         "marker": {
          "color": "#708090"
         },
         "name": "Masculino",
         "orientation": "h",
         "showlegend": false,
         "text": [
          "31%",
          "25%",
          "27%",
          "17%"
         ],
         "textposition": "outside",
         "type": "bar",
         "x": [
          31.05022831050228,
          24.65753424657534,
          26.94063926940639,
          17.35159817351598
         ],
         "xaxis": "x2",
         "y": [
          "Júnior",
          "Pleno",
          "Sênior",
          "Gestor"
         ],
         "yaxis": "y2"
        },
        {
         "marker": {
          "color": "#673147"
         },
         "name": "Feminino",
         "orientation": "h",
         "showlegend": false,
         "text": [
          "24%",
          "27%",
          "32%",
          "17%"
         ],
         "textposition": "outside",
         "type": "bar",
         "x": [
          -24.210526315789473,
          -27.368421052631582,
          -31.57894736842105,
          -16.842105263157894
         ],
         "xaxis": "x3",
         "y": [
          "Júnior",
          "Pleno",
          "Sênior",
          "Gestor"
         ],
         "yaxis": "y3"
        },
        {
         "marker": {
          "color": "#708090"
         },
         "name": "Masculino",
         "orientation": "h",
         "showlegend": false,
         "text": [
          "23%",
          "30%",
          "31%",
          "16%"
         ],
         "textposition": "outside",
         "type": "bar",
         "x": [
          23.333333333333332,
          30.333333333333336,
          30.666666666666664,
          15.666666666666668
         ],
         "xaxis": "x3",
         "y": [
          "Júnior",
          "Pleno",
          "Sênior",
          "Gestor"
         ],
         "yaxis": "y3"
        },
        {
         "marker": {
          "color": "#673147"
         },
         "name": "Feminino",
         "orientation": "h",
         "showlegend": false,
         "text": [
          "19%",
          "27%",
          "37%",
          "18%"
         ],
         "textposition": "outside",
         "type": "bar",
         "x": [
          -18.88888888888889,
          -26.666666666666668,
          -36.666666666666664,
          -17.77777777777778
         ],
         "xaxis": "x4",
         "y": [
          "Júnior",
          "Pleno",
          "Sênior",
          "Gestor"
         ],
         "yaxis": "y4"
        },
        {
         "marker": {
          "color": "#708090"
         },
         "name": "Masculino",
         "orientation": "h",
         "showlegend": false,
         "text": [
          "24%",
          "26%",
          "29%",
          "21%"
         ],
         "textposition": "outside",
         "type": "bar",
         "x": [
          23.507462686567166,
          26.492537313432834,
          29.47761194029851,
          20.522388059701495
         ],
         "xaxis": "x4",
         "y": [
          "Júnior",
          "Pleno",
          "Sênior",
          "Gestor"
         ],
         "yaxis": "y4"
        }
       ],
       "layout": {
        "annotations": [
         {
          "font": {
           "size": 16
          },
          "showarrow": false,
          "text": "2021",
          "x": 0.10625,
          "xanchor": "center",
          "xref": "paper",
          "y": 1,
          "yanchor": "bottom",
          "yref": "paper"
         },
         {
          "font": {
           "size": 16
          },
          "showarrow": false,
          "text": "2022",
          "x": 0.36875,
          "xanchor": "center",
          "xref": "paper",
          "y": 1,
          "yanchor": "bottom",
          "yref": "paper"
         },
         {
          "font": {
           "size": 16
          },
          "showarrow": false,
          "text": "2023",
          "x": 0.6312500000000001,
          "xanchor": "center",
          "xref": "paper",
          "y": 1,
          "yanchor": "bottom",
          "yref": "paper"
         },
         {
          "font": {
           "size": 16
          },
          "showarrow": false,
          "text": "2024",
          "x": 0.89375,
          "xanchor": "center",
          "xref": "paper",
          "y": 1,
          "yanchor": "bottom",
          "yref": "paper"
         }
        ],
        "barmode": "relative",
        "shapes": [
         {
          "line": {
           "color": "black",
           "dash": "dot",
           "width": 1
          },
          "type": "line",
          "x0": 0,
          "x1": 0,
          "xref": "x",
          "y0": -0.5,
          "y1": 3.5,
          "yref": "y"
         },
         {
          "line": {
           "color": "black",
           "dash": "dot",
           "width": 1
          },
          "type": "line",
          "x0": 0,
          "x1": 0,
          "xref": "x2",
          "y0": -0.5,
          "y1": 3.5,
          "yref": "y2"
         },
         {
          "line": {
           "color": "black",
           "dash": "dot",
           "width": 1
          },
          "type": "line",
          "x0": 0,
          "x1": 0,
          "xref": "x3",
          "y0": -0.5,
          "y1": 3.5,
          "yref": "y3"
         },
         {
          "line": {
           "color": "black",
           "dash": "dot",
           "width": 1
          },
          "type": "line",
          "x0": 0,
          "x1": 0,
          "xref": "x4",
          "y0": -0.5,
          "y1": 3.5,
          "yref": "y4"
         }
        ],
        "template": {
         "data": {
          "bar": [
           {
            "error_x": {
             "color": "#2a3f5f"
            },
            "error_y": {
             "color": "#2a3f5f"
            },
            "marker": {
             "line": {
              "color": "white",
              "width": 0.5
             },
             "pattern": {
              "fillmode": "overlay",
              "size": 10,
              "solidity": 0.2
             }
            },
            "type": "bar"
           }
          ],
          "barpolar": [
           {
            "marker": {
             "line": {
              "color": "white",
              "width": 0.5
             },
             "pattern": {
              "fillmode": "overlay",
              "size": 10,
              "solidity": 0.2
             }
            },
            "type": "barpolar"
           }
          ],
          "carpet": [
           {
            "aaxis": {
             "endlinecolor": "#2a3f5f",
             "gridcolor": "#C8D4E3",
             "linecolor": "#C8D4E3",
             "minorgridcolor": "#C8D4E3",
             "startlinecolor": "#2a3f5f"
            },
            "baxis": {
             "endlinecolor": "#2a3f5f",
             "gridcolor": "#C8D4E3",
             "linecolor": "#C8D4E3",
             "minorgridcolor": "#C8D4E3",
             "startlinecolor": "#2a3f5f"
            },
            "type": "carpet"
           }
          ],
          "choropleth": [
           {
            "colorbar": {
             "outlinewidth": 0,
             "ticks": ""
            },
            "type": "choropleth"
           }
          ],
          "contour": [
           {
            "colorbar": {
             "outlinewidth": 0,
             "ticks": ""
            },
            "colorscale": [
             [
              0,
              "#0d0887"
             ],
             [
              0.1111111111111111,
              "#46039f"
             ],
             [
              0.2222222222222222,
              "#7201a8"
             ],
             [
              0.3333333333333333,
              "#9c179e"
             ],
             [
              0.4444444444444444,
              "#bd3786"
             ],
             [
              0.5555555555555556,
              "#d8576b"
             ],
             [
              0.6666666666666666,
              "#ed7953"
             ],
             [
              0.7777777777777778,
              "#fb9f3a"
             ],
             [
              0.8888888888888888,
              "#fdca26"
             ],
             [
              1,
              "#f0f921"
             ]
            ],
            "type": "contour"
           }
          ],
          "contourcarpet": [
           {
            "colorbar": {
             "outlinewidth": 0,
             "ticks": ""
            },
            "type": "contourcarpet"
           }
          ],
          "heatmap": [
           {
            "colorbar": {
             "outlinewidth": 0,
             "ticks": ""
            },
            "colorscale": [
             [
              0,
              "#0d0887"
             ],
             [
              0.1111111111111111,
              "#46039f"
             ],
             [
              0.2222222222222222,
              "#7201a8"
             ],
             [
              0.3333333333333333,
              "#9c179e"
             ],
             [
              0.4444444444444444,
              "#bd3786"
             ],
             [
              0.5555555555555556,
              "#d8576b"
             ],
             [
              0.6666666666666666,
              "#ed7953"
             ],
             [
              0.7777777777777778,
              "#fb9f3a"
             ],
             [
              0.8888888888888888,
              "#fdca26"
             ],
             [
              1,
              "#f0f921"
             ]
            ],
            "type": "heatmap"
           }
          ],
          "heatmapgl": [
           {
            "colorbar": {
             "outlinewidth": 0,
             "ticks": ""
            },
            "colorscale": [
             [
              0,
              "#0d0887"
             ],
             [
              0.1111111111111111,
              "#46039f"
             ],
             [
              0.2222222222222222,
              "#7201a8"
             ],
             [
              0.3333333333333333,
              "#9c179e"
             ],
             [
              0.4444444444444444,
              "#bd3786"
             ],
             [
              0.5555555555555556,
              "#d8576b"
             ],
             [
              0.6666666666666666,
              "#ed7953"
             ],
             [
              0.7777777777777778,
              "#fb9f3a"
             ],
             [
              0.8888888888888888,
              "#fdca26"
             ],
             [
              1,
              "#f0f921"
             ]
            ],
            "type": "heatmapgl"
           }
          ],
          "histogram": [
           {
            "marker": {
             "pattern": {
              "fillmode": "overlay",
              "size": 10,
              "solidity": 0.2
             }
            },
            "type": "histogram"
           }
          ],
          "histogram2d": [
           {
            "colorbar": {
             "outlinewidth": 0,
             "ticks": ""
            },
            "colorscale": [
             [
              0,
              "#0d0887"
             ],
             [
              0.1111111111111111,
              "#46039f"
             ],
             [
              0.2222222222222222,
              "#7201a8"
             ],
             [
              0.3333333333333333,
              "#9c179e"
             ],
             [
              0.4444444444444444,
              "#bd3786"
             ],
             [
              0.5555555555555556,
              "#d8576b"
             ],
             [
              0.6666666666666666,
              "#ed7953"
             ],
             [
              0.7777777777777778,
              "#fb9f3a"
             ],
             [
              0.8888888888888888,
              "#fdca26"
             ],
             [
              1,
              "#f0f921"
             ]
            ],
            "type": "histogram2d"
           }
          ],
          "histogram2dcontour": [
           {
            "colorbar": {
             "outlinewidth": 0,
             "ticks": ""
            },
            "colorscale": [
             [
              0,
              "#0d0887"
             ],
             [
              0.1111111111111111,
              "#46039f"
             ],
             [
              0.2222222222222222,
              "#7201a8"
             ],
             [
              0.3333333333333333,
              "#9c179e"
             ],
             [
              0.4444444444444444,
              "#bd3786"
             ],
             [
              0.5555555555555556,
              "#d8576b"
             ],
             [
              0.6666666666666666,
              "#ed7953"
             ],
             [
              0.7777777777777778,
              "#fb9f3a"
             ],
             [
              0.8888888888888888,
              "#fdca26"
             ],
             [
              1,
              "#f0f921"
             ]
            ],
            "type": "histogram2dcontour"
           }
          ],
          "mesh3d": [
           {
            "colorbar": {
             "outlinewidth": 0,
             "ticks": ""
            },
            "type": "mesh3d"
           }
          ],
          "parcoords": [
           {
            "line": {
             "colorbar": {
              "outlinewidth": 0,
              "ticks": ""
             }
            },
            "type": "parcoords"
           }
          ],
          "pie": [
           {
            "automargin": true,
            "type": "pie"
           }
          ],
          "scatter": [
           {
            "fillpattern": {
             "fillmode": "overlay",
             "size": 10,
             "solidity": 0.2
            },
            "type": "scatter"
           }
          ],
          "scatter3d": [
           {
            "line": {
             "colorbar": {
              "outlinewidth": 0,
              "ticks": ""
             }
            },
            "marker": {
             "colorbar": {
              "outlinewidth": 0,
              "ticks": ""
             }
            },
            "type": "scatter3d"
           }
          ],
          "scattercarpet": [
           {
            "marker": {
             "colorbar": {
              "outlinewidth": 0,
              "ticks": ""
             }
            },
            "type": "scattercarpet"
           }
          ],
          "scattergeo": [
           {
            "marker": {
             "colorbar": {
              "outlinewidth": 0,
              "ticks": ""
             }
            },
            "type": "scattergeo"
           }
          ],
          "scattergl": [
           {
            "marker": {
             "colorbar": {
              "outlinewidth": 0,
              "ticks": ""
             }
            },
            "type": "scattergl"
           }
          ],
          "scattermapbox": [
           {
            "marker": {
             "colorbar": {
              "outlinewidth": 0,
              "ticks": ""
             }
            },
            "type": "scattermapbox"
           }
          ],
          "scatterpolar": [
           {
            "marker": {
             "colorbar": {
              "outlinewidth": 0,
              "ticks": ""
             }
            },
            "type": "scatterpolar"
           }
          ],
          "scatterpolargl": [
           {
            "marker": {
             "colorbar": {
              "outlinewidth": 0,
              "ticks": ""
             }
            },
            "type": "scatterpolargl"
           }
          ],
          "scatterternary": [
           {
            "marker": {
             "colorbar": {
              "outlinewidth": 0,
              "ticks": ""
             }
            },
            "type": "scatterternary"
           }
          ],
          "surface": [
           {
            "colorbar": {
             "outlinewidth": 0,
             "ticks": ""
            },
            "colorscale": [
             [
              0,
              "#0d0887"
             ],
             [
              0.1111111111111111,
              "#46039f"
             ],
             [
              0.2222222222222222,
              "#7201a8"
             ],
             [
              0.3333333333333333,
              "#9c179e"
             ],
             [
              0.4444444444444444,
              "#bd3786"
             ],
             [
              0.5555555555555556,
              "#d8576b"
             ],
             [
              0.6666666666666666,
              "#ed7953"
             ],
             [
              0.7777777777777778,
              "#fb9f3a"
             ],
             [
              0.8888888888888888,
              "#fdca26"
             ],
             [
              1,
              "#f0f921"
             ]
            ],
            "type": "surface"
           }
          ],
          "table": [
           {
            "cells": {
             "fill": {
              "color": "#EBF0F8"
             },
             "line": {
              "color": "white"
             }
            },
            "header": {
             "fill": {
              "color": "#C8D4E3"
             },
             "line": {
              "color": "white"
             }
            },
            "type": "table"
           }
          ]
         },
         "layout": {
          "annotationdefaults": {
           "arrowcolor": "#2a3f5f",
           "arrowhead": 0,
           "arrowwidth": 1
          },
          "autotypenumbers": "strict",
          "coloraxis": {
           "colorbar": {
            "outlinewidth": 0,
            "ticks": ""
           }
          },
          "colorscale": {
           "diverging": [
            [
             0,
             "#8e0152"
            ],
            [
             0.1,
             "#c51b7d"
            ],
            [
             0.2,
             "#de77ae"
            ],
            [
             0.3,
             "#f1b6da"
            ],
            [
             0.4,
             "#fde0ef"
            ],
            [
             0.5,
             "#f7f7f7"
            ],
            [
             0.6,
             "#e6f5d0"
            ],
            [
             0.7,
             "#b8e186"
            ],
            [
             0.8,
             "#7fbc41"
            ],
            [
             0.9,
             "#4d9221"
            ],
            [
             1,
             "#276419"
            ]
           ],
           "sequential": [
            [
             0,
             "#0d0887"
            ],
            [
             0.1111111111111111,
             "#46039f"
            ],
            [
             0.2222222222222222,
             "#7201a8"
            ],
            [
             0.3333333333333333,
             "#9c179e"
            ],
            [
             0.4444444444444444,
             "#bd3786"
            ],
            [
             0.5555555555555556,
             "#d8576b"
            ],
            [
             0.6666666666666666,
             "#ed7953"
            ],
            [
             0.7777777777777778,
             "#fb9f3a"
            ],
            [
             0.8888888888888888,
             "#fdca26"
            ],
            [
             1,
             "#f0f921"
            ]
           ],
           "sequentialminus": [
            [
             0,
             "#0d0887"
            ],
            [
             0.1111111111111111,
             "#46039f"
            ],
            [
             0.2222222222222222,
             "#7201a8"
            ],
            [
             0.3333333333333333,
             "#9c179e"
            ],
            [
             0.4444444444444444,
             "#bd3786"
            ],
            [
             0.5555555555555556,
             "#d8576b"
            ],
            [
             0.6666666666666666,
             "#ed7953"
            ],
            [
             0.7777777777777778,
             "#fb9f3a"
            ],
            [
             0.8888888888888888,
             "#fdca26"
            ],
            [
             1,
             "#f0f921"
            ]
           ]
          },
          "colorway": [
           "#636efa",
           "#EF553B",
           "#00cc96",
           "#ab63fa",
           "#FFA15A",
           "#19d3f3",
           "#FF6692",
           "#B6E880",
           "#FF97FF",
           "#FECB52"
          ],
          "font": {
           "color": "#2a3f5f"
          },
          "geo": {
           "bgcolor": "white",
           "lakecolor": "white",
           "landcolor": "white",
           "showlakes": true,
           "showland": true,
           "subunitcolor": "#C8D4E3"
          },
          "hoverlabel": {
           "align": "left"
          },
          "hovermode": "closest",
          "mapbox": {
           "style": "light"
          },
          "paper_bgcolor": "white",
          "plot_bgcolor": "white",
          "polar": {
           "angularaxis": {
            "gridcolor": "#EBF0F8",
            "linecolor": "#EBF0F8",
            "ticks": ""
           },
           "bgcolor": "white",
           "radialaxis": {
            "gridcolor": "#EBF0F8",
            "linecolor": "#EBF0F8",
            "ticks": ""
           }
          },
          "scene": {
           "xaxis": {
            "backgroundcolor": "white",
            "gridcolor": "#DFE8F3",
            "gridwidth": 2,
            "linecolor": "#EBF0F8",
            "showbackground": true,
            "ticks": "",
            "zerolinecolor": "#EBF0F8"
           },
           "yaxis": {
            "backgroundcolor": "white",
            "gridcolor": "#DFE8F3",
            "gridwidth": 2,
            "linecolor": "#EBF0F8",
            "showbackground": true,
            "ticks": "",
            "zerolinecolor": "#EBF0F8"
           },
           "zaxis": {
            "backgroundcolor": "white",
            "gridcolor": "#DFE8F3",
            "gridwidth": 2,
            "linecolor": "#EBF0F8",
            "showbackground": true,
            "ticks": "",
            "zerolinecolor": "#EBF0F8"
           }
          },
          "shapedefaults": {
           "line": {
            "color": "#2a3f5f"
           }
          },
          "ternary": {
           "aaxis": {
            "gridcolor": "#DFE8F3",
            "linecolor": "#A2B1C6",
            "ticks": ""
           },
           "baxis": {
            "gridcolor": "#DFE8F3",
            "linecolor": "#A2B1C6",
            "ticks": ""
           },
           "bgcolor": "white",
           "caxis": {
            "gridcolor": "#DFE8F3",
            "linecolor": "#A2B1C6",
            "ticks": ""
           }
          },
          "title": {
           "x": 0.05
          },
          "xaxis": {
           "automargin": true,
           "gridcolor": "#EBF0F8",
           "linecolor": "#EBF0F8",
           "ticks": "",
           "title": {
            "standoff": 15
           },
           "zerolinecolor": "#EBF0F8",
           "zerolinewidth": 2
          },
          "yaxis": {
           "automargin": true,
           "gridcolor": "#EBF0F8",
           "linecolor": "#EBF0F8",
           "ticks": "",
           "title": {
            "standoff": 15
           },
           "zerolinecolor": "#EBF0F8",
           "zerolinewidth": 2
          }
         }
        },
        "title": {
         "text": "Distribuição de Senioridade por Gênero (2021-2024)"
        },
        "xaxis": {
         "anchor": "y",
         "domain": [
          0,
          0.2125
         ],
         "range": [
          -100,
          100
         ],
         "ticksuffix": "%",
         "title": {
          "text": "Proporção (%)"
         }
        },
        "xaxis2": {
         "anchor": "y2",
         "domain": [
          0.2625,
          0.475
         ],
         "range": [
          -100,
          100
         ],
         "ticksuffix": "%"
        },
        "xaxis3": {
         "anchor": "y3",
         "domain": [
          0.525,
          0.7375
         ],
         "range": [
          -100,
          100
         ],
         "ticksuffix": "%"
        },
        "xaxis4": {
         "anchor": "y4",
         "domain": [
          0.7875,
          1
         ],
         "range": [
          -100,
          100
         ],
         "ticksuffix": "%"
        },
        "yaxis": {
         "anchor": "x",
         "domain": [
          0,
          1
         ],
         "title": {
          "text": "Nível de Senioridade"
         }
        },
        "yaxis2": {
         "anchor": "x2",
         "domain": [
          0,
          1
         ],
         "matches": "y",
         "showticklabels": false
        },
        "yaxis3": {
         "anchor": "x3",
         "domain": [
          0,
          1
         ],
         "matches": "y",
         "showticklabels": false
        },
        "yaxis4": {
         "anchor": "x4",
         "domain": [
          0,
          1
         ],
         "matches": "y",
         "showticklabels": false
        }
       }
      }
     },
     "metadata": {},
     "output_type": "display_data"
    }
   ],
   "source": [
    "\n",
    "niveis_desejados = [\"Júnior\", \"Pleno\", \"Sênior\", \"Gestor\"] \n",
    "\n",
    "# Normaliza os nomes dos níveis para minúsculas no filtro\n",
    "df_filtrado = df_rj[df_rj[\"nivel\"].str.lower().isin([n.lower() for n in niveis_desejados])]\n",
    "\n",
    "# Agora agrupe pelos campos desejados\n",
    "df_grouped = df_filtrado.groupby([\"ano_pesquisa\", \"nivel\", \"genero\"]).size().reset_index(name=\"count\")\n",
    "\n",
    "# Calculando o total por ano e gênero para depois calcular proporções\n",
    "totais_por_ano_genero = df_filtrado.groupby([\"ano_pesquisa\", \"genero\"]).size().reset_index(name=\"total\")\n",
    "df_grouped = df_grouped.merge(totais_por_ano_genero, on=[\"ano_pesquisa\", \"genero\"])\n",
    "\n",
    "# Calculando a proporção\n",
    "df_grouped[\"proporção\"] = df_grouped[\"count\"] / df_grouped[\"total\"] * 100\n",
    "\n",
    "# Verificação (opcional): soma das proporções por ano e gênero deve ser 100%\n",
    "verificacao = df_grouped.groupby([\"ano_pesquisa\", \"genero\"])[\"proporção\"].sum().reset_index()\n",
    "print(\"Verificação das somas por gênero:\")\n",
    "print(verificacao)\n",
    "\n",
    "fig = make_subplots(rows=1, cols=4, shared_yaxes=True, subplot_titles=[\"2021\", \"2022\", \"2023\", \"2024\"])\n",
    "\n",
    "anos = ['2021', '2022', '2023', '2024']\n",
    "cores = {\"Masculino\": \"#708090\", \"Feminino\": \"#673147\"}\n",
    "\n",
    "for i, ano in enumerate(anos):\n",
    "    # Filtrando dados do ano atual\n",
    "    df_ano = df_grouped[df_grouped[\"ano_pesquisa\"] == ano]\n",
    "    \n",
    "    # Criando um pivot para senioridade x gênero\n",
    "    df_plot = df_ano.pivot(index=\"nivel\", columns=\"genero\", values=\"proporção\").fillna(0)\n",
    "    \n",
    "    # Garantindo que as colunas existam, preenchendo com 0 se necessário\n",
    "    for genero in [\"Masculino\", \"Feminino\"]:\n",
    "        if genero not in df_plot.columns:\n",
    "            df_plot[genero] = 0\n",
    "    \n",
    "    # Filtrando níveis que têm pelo menos um registro\n",
    "    df_plot = df_plot[(df_plot[\"Masculino\"] > 0) | (df_plot[\"Feminino\"] > 0)]\n",
    "    \n",
    "    # Se não houver dados, continue para o próximo ano\n",
    "    if df_plot.empty:\n",
    "        continue\n",
    "    \n",
    "    # Adicionando barras para Feminino (negativo para inverter no gráfico)\n",
    "    # Arredondando as porcentagens para números inteiros\n",
    "    fig.add_trace(go.Bar(\n",
    "        y=df_plot.index,\n",
    "        x=-df_plot[\"Feminino\"],\n",
    "        name=\"Feminino\",\n",
    "        orientation=\"h\",\n",
    "        marker=dict(color=cores[\"Feminino\"]),\n",
    "        text=[f\"{int(round(val))}%\" for val in df_plot[\"Feminino\"]],  # Arredondamento para inteiros\n",
    "        textposition=\"outside\",\n",
    "        showlegend=True if i == 0 else False\n",
    "    ), row=1, col=i+1)\n",
    "\n",
    "    # Adicionando barras para Masculino\n",
    "    # Arredondando as porcentagens para números inteiros\n",
    "    fig.add_trace(go.Bar(\n",
    "        y=df_plot.index,\n",
    "        x=df_plot[\"Masculino\"],\n",
    "        name=\"Masculino\",\n",
    "        orientation=\"h\",\n",
    "        marker=dict(color=cores[\"Masculino\"]),\n",
    "        text=[f\"{int(round(val))}%\" for val in df_plot[\"Masculino\"]],  # Arredondamento para inteiros\n",
    "        textposition=\"outside\",\n",
    "        showlegend=True if i == 0 else False\n",
    "    ), row=1, col=i+1)\n",
    "\n",
    "# Configurando layout\n",
    "fig.update_layout(\n",
    "    title=\"Distribuição de Senioridade por Gênero (2021-2024)\",\n",
    "    xaxis_title=\"Proporção (%)\",\n",
    "    yaxis_title=\"Nível de Senioridade\",\n",
    "    barmode=\"relative\",\n",
    "    template=\"plotly_white\"\n",
    ")\n",
    "\n",
    "# Ajustando os eixos X para mostrar valores em percentuais\n",
    "for i in range(1, 5):\n",
    "    fig.update_xaxes(ticksuffix=\"%\", range=[-100, 100], row=1, col=i)\n",
    "    \n",
    "    # Adicionando linhas de referência em 0\n",
    "    fig.add_shape(\n",
    "        type=\"line\",\n",
    "        x0=0, y0=-0.5,\n",
    "        x1=0, y1=len(df_plot.index) - 0.5,\n",
    "        line=dict(color=\"black\", width=1, dash=\"dot\"),\n",
    "        row=1, col=i\n",
    "    )\n",
    "\n",
    "fig.show()"
   ]
  },
  {
   "cell_type": "code",
   "execution_count": 68,
   "metadata": {},
   "outputs": [
    {
     "name": "stderr",
     "output_type": "stream",
     "text": [
      "C:\\Users\\julli\\AppData\\Local\\Temp\\ipykernel_8168\\681661558.py:3: FutureWarning:\n",
      "\n",
      "The default of observed=False is deprecated and will be changed to True in a future version of pandas. Pass observed=False to retain current behavior or observed=True to adopt the future default and silence this warning.\n",
      "\n",
      "C:\\Users\\julli\\AppData\\Local\\Temp\\ipykernel_8168\\681661558.py:5: FutureWarning:\n",
      "\n",
      "The default of observed=False is deprecated and will be changed to True in a future version of pandas. Pass observed=False to retain current behavior or observed=True to adopt the future default and silence this warning.\n",
      "\n"
     ]
    },
    {
     "data": {
      "application/vnd.plotly.v1+json": {
       "config": {
        "plotlyServerURL": "https://plot.ly"
       },
       "data": [
        {
         "marker": {
          "color": "#673147"
         },
         "name": "Feminino",
         "orientation": "h",
         "showlegend": true,
         "text": "0.0%",
         "textposition": "inside",
         "type": "bar",
         "x": [
          0
         ],
         "xaxis": "x",
         "y": [
          "Não tenho graduação formal"
         ],
         "yaxis": "y"
        },
        {
         "marker": {
          "color": "#708090"
         },
         "name": "Masculino",
         "orientation": "h",
         "showlegend": true,
         "text": "100.0%",
         "textposition": "inside",
         "type": "bar",
         "x": [
          100
         ],
         "xaxis": "x",
         "y": [
          "Não tenho graduação formal"
         ],
         "yaxis": "y"
        },
        {
         "marker": {
          "color": "#673147"
         },
         "name": "Feminino",
         "orientation": "h",
         "showlegend": false,
         "text": "22.2%",
         "textposition": "inside",
         "type": "bar",
         "x": [
          22.22222222222222
         ],
         "xaxis": "x",
         "y": [
          "Estudante de Graduação"
         ],
         "yaxis": "y"
        },
        {
         "marker": {
          "color": "#708090"
         },
         "name": "Masculino",
         "orientation": "h",
         "showlegend": false,
         "text": "77.8%",
         "textposition": "inside",
         "type": "bar",
         "x": [
          77.77777777777779
         ],
         "xaxis": "x",
         "y": [
          "Estudante de Graduação"
         ],
         "yaxis": "y"
        },
        {
         "marker": {
          "color": "#673147"
         },
         "name": "Feminino",
         "orientation": "h",
         "showlegend": false,
         "text": "16.1%",
         "textposition": "inside",
         "type": "bar",
         "x": [
          16.129032258064516
         ],
         "xaxis": "x",
         "y": [
          "Graduação/Bacharelado"
         ],
         "yaxis": "y"
        },
        {
         "marker": {
          "color": "#708090"
         },
         "name": "Masculino",
         "orientation": "h",
         "showlegend": false,
         "text": "83.9%",
         "textposition": "inside",
         "type": "bar",
         "x": [
          83.87096774193549
         ],
         "xaxis": "x",
         "y": [
          "Graduação/Bacharelado"
         ],
         "yaxis": "y"
        },
        {
         "marker": {
          "color": "#673147"
         },
         "name": "Feminino",
         "orientation": "h",
         "showlegend": false,
         "text": "25.0%",
         "textposition": "inside",
         "type": "bar",
         "x": [
          25
         ],
         "xaxis": "x",
         "y": [
          "Mestrado"
         ],
         "yaxis": "y"
        },
        {
         "marker": {
          "color": "#708090"
         },
         "name": "Masculino",
         "orientation": "h",
         "showlegend": false,
         "text": "75.0%",
         "textposition": "inside",
         "type": "bar",
         "x": [
          75
         ],
         "xaxis": "x",
         "y": [
          "Mestrado"
         ],
         "yaxis": "y"
        },
        {
         "marker": {
          "color": "#673147"
         },
         "name": "Feminino",
         "orientation": "h",
         "showlegend": false,
         "text": "25.0%",
         "textposition": "inside",
         "type": "bar",
         "x": [
          25
         ],
         "xaxis": "x",
         "y": [
          "Doutorado ou Phd"
         ],
         "yaxis": "y"
        },
        {
         "marker": {
          "color": "#708090"
         },
         "name": "Masculino",
         "orientation": "h",
         "showlegend": false,
         "text": "75.0%",
         "textposition": "inside",
         "type": "bar",
         "x": [
          75
         ],
         "xaxis": "x",
         "y": [
          "Doutorado ou Phd"
         ],
         "yaxis": "y"
        },
        {
         "marker": {
          "color": "#673147"
         },
         "name": "Feminino",
         "orientation": "h",
         "showlegend": false,
         "text": "14.3%",
         "textposition": "inside",
         "type": "bar",
         "x": [
          14.285714285714285
         ],
         "xaxis": "x2",
         "y": [
          "Não tenho graduação formal"
         ],
         "yaxis": "y2"
        },
        {
         "marker": {
          "color": "#708090"
         },
         "name": "Masculino",
         "orientation": "h",
         "showlegend": false,
         "text": "85.7%",
         "textposition": "inside",
         "type": "bar",
         "x": [
          85.71428571428571
         ],
         "xaxis": "x2",
         "y": [
          "Não tenho graduação formal"
         ],
         "yaxis": "y2"
        },
        {
         "marker": {
          "color": "#673147"
         },
         "name": "Feminino",
         "orientation": "h",
         "showlegend": false,
         "text": "14.3%",
         "textposition": "inside",
         "type": "bar",
         "x": [
          14.285714285714285
         ],
         "xaxis": "x2",
         "y": [
          "Estudante de Graduação"
         ],
         "yaxis": "y2"
        },
        {
         "marker": {
          "color": "#708090"
         },
         "name": "Masculino",
         "orientation": "h",
         "showlegend": false,
         "text": "85.7%",
         "textposition": "inside",
         "type": "bar",
         "x": [
          85.71428571428571
         ],
         "xaxis": "x2",
         "y": [
          "Estudante de Graduação"
         ],
         "yaxis": "y2"
        },
        {
         "marker": {
          "color": "#673147"
         },
         "name": "Feminino",
         "orientation": "h",
         "showlegend": false,
         "text": "24.1%",
         "textposition": "inside",
         "type": "bar",
         "x": [
          24.074074074074073
         ],
         "xaxis": "x2",
         "y": [
          "Graduação/Bacharelado"
         ],
         "yaxis": "y2"
        },
        {
         "marker": {
          "color": "#708090"
         },
         "name": "Masculino",
         "orientation": "h",
         "showlegend": false,
         "text": "75.9%",
         "textposition": "inside",
         "type": "bar",
         "x": [
          75.92592592592592
         ],
         "xaxis": "x2",
         "y": [
          "Graduação/Bacharelado"
         ],
         "yaxis": "y2"
        },
        {
         "marker": {
          "color": "#673147"
         },
         "name": "Feminino",
         "orientation": "h",
         "showlegend": false,
         "text": "18.0%",
         "textposition": "inside",
         "type": "bar",
         "x": [
          18
         ],
         "xaxis": "x2",
         "y": [
          "Mestrado"
         ],
         "yaxis": "y2"
        },
        {
         "marker": {
          "color": "#708090"
         },
         "name": "Masculino",
         "orientation": "h",
         "showlegend": false,
         "text": "82.0%",
         "textposition": "inside",
         "type": "bar",
         "x": [
          82
         ],
         "xaxis": "x2",
         "y": [
          "Mestrado"
         ],
         "yaxis": "y2"
        },
        {
         "marker": {
          "color": "#673147"
         },
         "name": "Feminino",
         "orientation": "h",
         "showlegend": false,
         "text": "27.3%",
         "textposition": "inside",
         "type": "bar",
         "x": [
          27.27272727272727
         ],
         "xaxis": "x2",
         "y": [
          "Doutorado ou Phd"
         ],
         "yaxis": "y2"
        },
        {
         "marker": {
          "color": "#708090"
         },
         "name": "Masculino",
         "orientation": "h",
         "showlegend": false,
         "text": "72.7%",
         "textposition": "inside",
         "type": "bar",
         "x": [
          72.72727272727273
         ],
         "xaxis": "x2",
         "y": [
          "Doutorado ou Phd"
         ],
         "yaxis": "y2"
        },
        {
         "marker": {
          "color": "#673147"
         },
         "name": "Feminino",
         "orientation": "h",
         "showlegend": false,
         "text": "33.3%",
         "textposition": "inside",
         "type": "bar",
         "x": [
          33.33333333333333
         ],
         "xaxis": "x3",
         "y": [
          "Não tenho graduação formal"
         ],
         "yaxis": "y3"
        },
        {
         "marker": {
          "color": "#708090"
         },
         "name": "Masculino",
         "orientation": "h",
         "showlegend": false,
         "text": "66.7%",
         "textposition": "inside",
         "type": "bar",
         "x": [
          66.66666666666666
         ],
         "xaxis": "x3",
         "y": [
          "Não tenho graduação formal"
         ],
         "yaxis": "y3"
        },
        {
         "marker": {
          "color": "#673147"
         },
         "name": "Feminino",
         "orientation": "h",
         "showlegend": false,
         "text": "14.9%",
         "textposition": "inside",
         "type": "bar",
         "x": [
          14.925373134328357
         ],
         "xaxis": "x3",
         "y": [
          "Estudante de Graduação"
         ],
         "yaxis": "y3"
        },
        {
         "marker": {
          "color": "#708090"
         },
         "name": "Masculino",
         "orientation": "h",
         "showlegend": false,
         "text": "85.1%",
         "textposition": "inside",
         "type": "bar",
         "x": [
          85.07462686567165
         ],
         "xaxis": "x3",
         "y": [
          "Estudante de Graduação"
         ],
         "yaxis": "y3"
        },
        {
         "marker": {
          "color": "#673147"
         },
         "name": "Feminino",
         "orientation": "h",
         "showlegend": false,
         "text": "23.9%",
         "textposition": "inside",
         "type": "bar",
         "x": [
          23.91304347826087
         ],
         "xaxis": "x3",
         "y": [
          "Graduação/Bacharelado"
         ],
         "yaxis": "y3"
        },
        {
         "marker": {
          "color": "#708090"
         },
         "name": "Masculino",
         "orientation": "h",
         "showlegend": false,
         "text": "76.1%",
         "textposition": "inside",
         "type": "bar",
         "x": [
          76.08695652173914
         ],
         "xaxis": "x3",
         "y": [
          "Graduação/Bacharelado"
         ],
         "yaxis": "y3"
        },
        {
         "marker": {
          "color": "#673147"
         },
         "name": "Feminino",
         "orientation": "h",
         "showlegend": false,
         "text": "34.7%",
         "textposition": "inside",
         "type": "bar",
         "x": [
          34.72222222222222
         ],
         "xaxis": "x3",
         "y": [
          "Mestrado"
         ],
         "yaxis": "y3"
        },
        {
         "marker": {
          "color": "#708090"
         },
         "name": "Masculino",
         "orientation": "h",
         "showlegend": false,
         "text": "65.3%",
         "textposition": "inside",
         "type": "bar",
         "x": [
          65.27777777777779
         ],
         "xaxis": "x3",
         "y": [
          "Mestrado"
         ],
         "yaxis": "y3"
        },
        {
         "marker": {
          "color": "#673147"
         },
         "name": "Feminino",
         "orientation": "h",
         "showlegend": false,
         "text": "18.8%",
         "textposition": "inside",
         "type": "bar",
         "x": [
          18.75
         ],
         "xaxis": "x3",
         "y": [
          "Doutorado ou Phd"
         ],
         "yaxis": "y3"
        },
        {
         "marker": {
          "color": "#708090"
         },
         "name": "Masculino",
         "orientation": "h",
         "showlegend": false,
         "text": "81.2%",
         "textposition": "inside",
         "type": "bar",
         "x": [
          81.25
         ],
         "xaxis": "x3",
         "y": [
          "Doutorado ou Phd"
         ],
         "yaxis": "y3"
        },
        {
         "marker": {
          "color": "#673147"
         },
         "name": "Feminino",
         "orientation": "h",
         "showlegend": false,
         "text": "0.0%",
         "textposition": "inside",
         "type": "bar",
         "x": [
          0
         ],
         "xaxis": "x4",
         "y": [
          "Não tenho graduação formal"
         ],
         "yaxis": "y4"
        },
        {
         "marker": {
          "color": "#708090"
         },
         "name": "Masculino",
         "orientation": "h",
         "showlegend": false,
         "text": "100.0%",
         "textposition": "inside",
         "type": "bar",
         "x": [
          100
         ],
         "xaxis": "x4",
         "y": [
          "Não tenho graduação formal"
         ],
         "yaxis": "y4"
        },
        {
         "marker": {
          "color": "#673147"
         },
         "name": "Feminino",
         "orientation": "h",
         "showlegend": false,
         "text": "19.1%",
         "textposition": "inside",
         "type": "bar",
         "x": [
          19.148936170212767
         ],
         "xaxis": "x4",
         "y": [
          "Estudante de Graduação"
         ],
         "yaxis": "y4"
        },
        {
         "marker": {
          "color": "#708090"
         },
         "name": "Masculino",
         "orientation": "h",
         "showlegend": false,
         "text": "80.9%",
         "textposition": "inside",
         "type": "bar",
         "x": [
          80.85106382978722
         ],
         "xaxis": "x4",
         "y": [
          "Estudante de Graduação"
         ],
         "yaxis": "y4"
        },
        {
         "marker": {
          "color": "#673147"
         },
         "name": "Feminino",
         "orientation": "h",
         "showlegend": false,
         "text": "21.8%",
         "textposition": "inside",
         "type": "bar",
         "x": [
          21.830985915492956
         ],
         "xaxis": "x4",
         "y": [
          "Graduação/Bacharelado"
         ],
         "yaxis": "y4"
        },
        {
         "marker": {
          "color": "#708090"
         },
         "name": "Masculino",
         "orientation": "h",
         "showlegend": false,
         "text": "78.2%",
         "textposition": "inside",
         "type": "bar",
         "x": [
          78.16901408450704
         ],
         "xaxis": "x4",
         "y": [
          "Graduação/Bacharelado"
         ],
         "yaxis": "y4"
        },
        {
         "marker": {
          "color": "#673147"
         },
         "name": "Feminino",
         "orientation": "h",
         "showlegend": false,
         "text": "32.1%",
         "textposition": "inside",
         "type": "bar",
         "x": [
          32.142857142857146
         ],
         "xaxis": "x4",
         "y": [
          "Mestrado"
         ],
         "yaxis": "y4"
        },
        {
         "marker": {
          "color": "#708090"
         },
         "name": "Masculino",
         "orientation": "h",
         "showlegend": false,
         "text": "67.9%",
         "textposition": "inside",
         "type": "bar",
         "x": [
          67.85714285714286
         ],
         "xaxis": "x4",
         "y": [
          "Mestrado"
         ],
         "yaxis": "y4"
        },
        {
         "marker": {
          "color": "#673147"
         },
         "name": "Feminino",
         "orientation": "h",
         "showlegend": false,
         "text": "23.5%",
         "textposition": "inside",
         "type": "bar",
         "x": [
          23.52941176470588
         ],
         "xaxis": "x4",
         "y": [
          "Doutorado ou Phd"
         ],
         "yaxis": "y4"
        },
        {
         "marker": {
          "color": "#708090"
         },
         "name": "Masculino",
         "orientation": "h",
         "showlegend": false,
         "text": "76.5%",
         "textposition": "inside",
         "type": "bar",
         "x": [
          76.47058823529412
         ],
         "xaxis": "x4",
         "y": [
          "Doutorado ou Phd"
         ],
         "yaxis": "y4"
        }
       ],
       "layout": {
        "annotations": [
         {
          "font": {
           "size": 16
          },
          "showarrow": false,
          "text": "2021",
          "x": 0.10625,
          "xanchor": "center",
          "xref": "paper",
          "y": 1,
          "yanchor": "bottom",
          "yref": "paper"
         },
         {
          "font": {
           "size": 16
          },
          "showarrow": false,
          "text": "2022",
          "x": 0.36875,
          "xanchor": "center",
          "xref": "paper",
          "y": 1,
          "yanchor": "bottom",
          "yref": "paper"
         },
         {
          "font": {
           "size": 16
          },
          "showarrow": false,
          "text": "2023",
          "x": 0.6312500000000001,
          "xanchor": "center",
          "xref": "paper",
          "y": 1,
          "yanchor": "bottom",
          "yref": "paper"
         },
         {
          "font": {
           "size": 16
          },
          "showarrow": false,
          "text": "2024",
          "x": 0.89375,
          "xanchor": "center",
          "xref": "paper",
          "y": 1,
          "yanchor": "bottom",
          "yref": "paper"
         }
        ],
        "barmode": "stack",
        "height": 600,
        "legend": {
         "orientation": "h",
         "x": 0.5,
         "xanchor": "center",
         "y": 1.02,
         "yanchor": "bottom"
        },
        "template": {
         "data": {
          "bar": [
           {
            "error_x": {
             "color": "#2a3f5f"
            },
            "error_y": {
             "color": "#2a3f5f"
            },
            "marker": {
             "line": {
              "color": "white",
              "width": 0.5
             },
             "pattern": {
              "fillmode": "overlay",
              "size": 10,
              "solidity": 0.2
             }
            },
            "type": "bar"
           }
          ],
          "barpolar": [
           {
            "marker": {
             "line": {
              "color": "white",
              "width": 0.5
             },
             "pattern": {
              "fillmode": "overlay",
              "size": 10,
              "solidity": 0.2
             }
            },
            "type": "barpolar"
           }
          ],
          "carpet": [
           {
            "aaxis": {
             "endlinecolor": "#2a3f5f",
             "gridcolor": "#C8D4E3",
             "linecolor": "#C8D4E3",
             "minorgridcolor": "#C8D4E3",
             "startlinecolor": "#2a3f5f"
            },
            "baxis": {
             "endlinecolor": "#2a3f5f",
             "gridcolor": "#C8D4E3",
             "linecolor": "#C8D4E3",
             "minorgridcolor": "#C8D4E3",
             "startlinecolor": "#2a3f5f"
            },
            "type": "carpet"
           }
          ],
          "choropleth": [
           {
            "colorbar": {
             "outlinewidth": 0,
             "ticks": ""
            },
            "type": "choropleth"
           }
          ],
          "contour": [
           {
            "colorbar": {
             "outlinewidth": 0,
             "ticks": ""
            },
            "colorscale": [
             [
              0,
              "#0d0887"
             ],
             [
              0.1111111111111111,
              "#46039f"
             ],
             [
              0.2222222222222222,
              "#7201a8"
             ],
             [
              0.3333333333333333,
              "#9c179e"
             ],
             [
              0.4444444444444444,
              "#bd3786"
             ],
             [
              0.5555555555555556,
              "#d8576b"
             ],
             [
              0.6666666666666666,
              "#ed7953"
             ],
             [
              0.7777777777777778,
              "#fb9f3a"
             ],
             [
              0.8888888888888888,
              "#fdca26"
             ],
             [
              1,
              "#f0f921"
             ]
            ],
            "type": "contour"
           }
          ],
          "contourcarpet": [
           {
            "colorbar": {
             "outlinewidth": 0,
             "ticks": ""
            },
            "type": "contourcarpet"
           }
          ],
          "heatmap": [
           {
            "colorbar": {
             "outlinewidth": 0,
             "ticks": ""
            },
            "colorscale": [
             [
              0,
              "#0d0887"
             ],
             [
              0.1111111111111111,
              "#46039f"
             ],
             [
              0.2222222222222222,
              "#7201a8"
             ],
             [
              0.3333333333333333,
              "#9c179e"
             ],
             [
              0.4444444444444444,
              "#bd3786"
             ],
             [
              0.5555555555555556,
              "#d8576b"
             ],
             [
              0.6666666666666666,
              "#ed7953"
             ],
             [
              0.7777777777777778,
              "#fb9f3a"
             ],
             [
              0.8888888888888888,
              "#fdca26"
             ],
             [
              1,
              "#f0f921"
             ]
            ],
            "type": "heatmap"
           }
          ],
          "heatmapgl": [
           {
            "colorbar": {
             "outlinewidth": 0,
             "ticks": ""
            },
            "colorscale": [
             [
              0,
              "#0d0887"
             ],
             [
              0.1111111111111111,
              "#46039f"
             ],
             [
              0.2222222222222222,
              "#7201a8"
             ],
             [
              0.3333333333333333,
              "#9c179e"
             ],
             [
              0.4444444444444444,
              "#bd3786"
             ],
             [
              0.5555555555555556,
              "#d8576b"
             ],
             [
              0.6666666666666666,
              "#ed7953"
             ],
             [
              0.7777777777777778,
              "#fb9f3a"
             ],
             [
              0.8888888888888888,
              "#fdca26"
             ],
             [
              1,
              "#f0f921"
             ]
            ],
            "type": "heatmapgl"
           }
          ],
          "histogram": [
           {
            "marker": {
             "pattern": {
              "fillmode": "overlay",
              "size": 10,
              "solidity": 0.2
             }
            },
            "type": "histogram"
           }
          ],
          "histogram2d": [
           {
            "colorbar": {
             "outlinewidth": 0,
             "ticks": ""
            },
            "colorscale": [
             [
              0,
              "#0d0887"
             ],
             [
              0.1111111111111111,
              "#46039f"
             ],
             [
              0.2222222222222222,
              "#7201a8"
             ],
             [
              0.3333333333333333,
              "#9c179e"
             ],
             [
              0.4444444444444444,
              "#bd3786"
             ],
             [
              0.5555555555555556,
              "#d8576b"
             ],
             [
              0.6666666666666666,
              "#ed7953"
             ],
             [
              0.7777777777777778,
              "#fb9f3a"
             ],
             [
              0.8888888888888888,
              "#fdca26"
             ],
             [
              1,
              "#f0f921"
             ]
            ],
            "type": "histogram2d"
           }
          ],
          "histogram2dcontour": [
           {
            "colorbar": {
             "outlinewidth": 0,
             "ticks": ""
            },
            "colorscale": [
             [
              0,
              "#0d0887"
             ],
             [
              0.1111111111111111,
              "#46039f"
             ],
             [
              0.2222222222222222,
              "#7201a8"
             ],
             [
              0.3333333333333333,
              "#9c179e"
             ],
             [
              0.4444444444444444,
              "#bd3786"
             ],
             [
              0.5555555555555556,
              "#d8576b"
             ],
             [
              0.6666666666666666,
              "#ed7953"
             ],
             [
              0.7777777777777778,
              "#fb9f3a"
             ],
             [
              0.8888888888888888,
              "#fdca26"
             ],
             [
              1,
              "#f0f921"
             ]
            ],
            "type": "histogram2dcontour"
           }
          ],
          "mesh3d": [
           {
            "colorbar": {
             "outlinewidth": 0,
             "ticks": ""
            },
            "type": "mesh3d"
           }
          ],
          "parcoords": [
           {
            "line": {
             "colorbar": {
              "outlinewidth": 0,
              "ticks": ""
             }
            },
            "type": "parcoords"
           }
          ],
          "pie": [
           {
            "automargin": true,
            "type": "pie"
           }
          ],
          "scatter": [
           {
            "fillpattern": {
             "fillmode": "overlay",
             "size": 10,
             "solidity": 0.2
            },
            "type": "scatter"
           }
          ],
          "scatter3d": [
           {
            "line": {
             "colorbar": {
              "outlinewidth": 0,
              "ticks": ""
             }
            },
            "marker": {
             "colorbar": {
              "outlinewidth": 0,
              "ticks": ""
             }
            },
            "type": "scatter3d"
           }
          ],
          "scattercarpet": [
           {
            "marker": {
             "colorbar": {
              "outlinewidth": 0,
              "ticks": ""
             }
            },
            "type": "scattercarpet"
           }
          ],
          "scattergeo": [
           {
            "marker": {
             "colorbar": {
              "outlinewidth": 0,
              "ticks": ""
             }
            },
            "type": "scattergeo"
           }
          ],
          "scattergl": [
           {
            "marker": {
             "colorbar": {
              "outlinewidth": 0,
              "ticks": ""
             }
            },
            "type": "scattergl"
           }
          ],
          "scattermapbox": [
           {
            "marker": {
             "colorbar": {
              "outlinewidth": 0,
              "ticks": ""
             }
            },
            "type": "scattermapbox"
           }
          ],
          "scatterpolar": [
           {
            "marker": {
             "colorbar": {
              "outlinewidth": 0,
              "ticks": ""
             }
            },
            "type": "scatterpolar"
           }
          ],
          "scatterpolargl": [
           {
            "marker": {
             "colorbar": {
              "outlinewidth": 0,
              "ticks": ""
             }
            },
            "type": "scatterpolargl"
           }
          ],
          "scatterternary": [
           {
            "marker": {
             "colorbar": {
              "outlinewidth": 0,
              "ticks": ""
             }
            },
            "type": "scatterternary"
           }
          ],
          "surface": [
           {
            "colorbar": {
             "outlinewidth": 0,
             "ticks": ""
            },
            "colorscale": [
             [
              0,
              "#0d0887"
             ],
             [
              0.1111111111111111,
              "#46039f"
             ],
             [
              0.2222222222222222,
              "#7201a8"
             ],
             [
              0.3333333333333333,
              "#9c179e"
             ],
             [
              0.4444444444444444,
              "#bd3786"
             ],
             [
              0.5555555555555556,
              "#d8576b"
             ],
             [
              0.6666666666666666,
              "#ed7953"
             ],
             [
              0.7777777777777778,
              "#fb9f3a"
             ],
             [
              0.8888888888888888,
              "#fdca26"
             ],
             [
              1,
              "#f0f921"
             ]
            ],
            "type": "surface"
           }
          ],
          "table": [
           {
            "cells": {
             "fill": {
              "color": "#EBF0F8"
             },
             "line": {
              "color": "white"
             }
            },
            "header": {
             "fill": {
              "color": "#C8D4E3"
             },
             "line": {
              "color": "white"
             }
            },
            "type": "table"
           }
          ]
         },
         "layout": {
          "annotationdefaults": {
           "arrowcolor": "#2a3f5f",
           "arrowhead": 0,
           "arrowwidth": 1
          },
          "autotypenumbers": "strict",
          "coloraxis": {
           "colorbar": {
            "outlinewidth": 0,
            "ticks": ""
           }
          },
          "colorscale": {
           "diverging": [
            [
             0,
             "#8e0152"
            ],
            [
             0.1,
             "#c51b7d"
            ],
            [
             0.2,
             "#de77ae"
            ],
            [
             0.3,
             "#f1b6da"
            ],
            [
             0.4,
             "#fde0ef"
            ],
            [
             0.5,
             "#f7f7f7"
            ],
            [
             0.6,
             "#e6f5d0"
            ],
            [
             0.7,
             "#b8e186"
            ],
            [
             0.8,
             "#7fbc41"
            ],
            [
             0.9,
             "#4d9221"
            ],
            [
             1,
             "#276419"
            ]
           ],
           "sequential": [
            [
             0,
             "#0d0887"
            ],
            [
             0.1111111111111111,
             "#46039f"
            ],
            [
             0.2222222222222222,
             "#7201a8"
            ],
            [
             0.3333333333333333,
             "#9c179e"
            ],
            [
             0.4444444444444444,
             "#bd3786"
            ],
            [
             0.5555555555555556,
             "#d8576b"
            ],
            [
             0.6666666666666666,
             "#ed7953"
            ],
            [
             0.7777777777777778,
             "#fb9f3a"
            ],
            [
             0.8888888888888888,
             "#fdca26"
            ],
            [
             1,
             "#f0f921"
            ]
           ],
           "sequentialminus": [
            [
             0,
             "#0d0887"
            ],
            [
             0.1111111111111111,
             "#46039f"
            ],
            [
             0.2222222222222222,
             "#7201a8"
            ],
            [
             0.3333333333333333,
             "#9c179e"
            ],
            [
             0.4444444444444444,
             "#bd3786"
            ],
            [
             0.5555555555555556,
             "#d8576b"
            ],
            [
             0.6666666666666666,
             "#ed7953"
            ],
            [
             0.7777777777777778,
             "#fb9f3a"
            ],
            [
             0.8888888888888888,
             "#fdca26"
            ],
            [
             1,
             "#f0f921"
            ]
           ]
          },
          "colorway": [
           "#636efa",
           "#EF553B",
           "#00cc96",
           "#ab63fa",
           "#FFA15A",
           "#19d3f3",
           "#FF6692",
           "#B6E880",
           "#FF97FF",
           "#FECB52"
          ],
          "font": {
           "color": "#2a3f5f"
          },
          "geo": {
           "bgcolor": "white",
           "lakecolor": "white",
           "landcolor": "white",
           "showlakes": true,
           "showland": true,
           "subunitcolor": "#C8D4E3"
          },
          "hoverlabel": {
           "align": "left"
          },
          "hovermode": "closest",
          "mapbox": {
           "style": "light"
          },
          "paper_bgcolor": "white",
          "plot_bgcolor": "white",
          "polar": {
           "angularaxis": {
            "gridcolor": "#EBF0F8",
            "linecolor": "#EBF0F8",
            "ticks": ""
           },
           "bgcolor": "white",
           "radialaxis": {
            "gridcolor": "#EBF0F8",
            "linecolor": "#EBF0F8",
            "ticks": ""
           }
          },
          "scene": {
           "xaxis": {
            "backgroundcolor": "white",
            "gridcolor": "#DFE8F3",
            "gridwidth": 2,
            "linecolor": "#EBF0F8",
            "showbackground": true,
            "ticks": "",
            "zerolinecolor": "#EBF0F8"
           },
           "yaxis": {
            "backgroundcolor": "white",
            "gridcolor": "#DFE8F3",
            "gridwidth": 2,
            "linecolor": "#EBF0F8",
            "showbackground": true,
            "ticks": "",
            "zerolinecolor": "#EBF0F8"
           },
           "zaxis": {
            "backgroundcolor": "white",
            "gridcolor": "#DFE8F3",
            "gridwidth": 2,
            "linecolor": "#EBF0F8",
            "showbackground": true,
            "ticks": "",
            "zerolinecolor": "#EBF0F8"
           }
          },
          "shapedefaults": {
           "line": {
            "color": "#2a3f5f"
           }
          },
          "ternary": {
           "aaxis": {
            "gridcolor": "#DFE8F3",
            "linecolor": "#A2B1C6",
            "ticks": ""
           },
           "baxis": {
            "gridcolor": "#DFE8F3",
            "linecolor": "#A2B1C6",
            "ticks": ""
           },
           "bgcolor": "white",
           "caxis": {
            "gridcolor": "#DFE8F3",
            "linecolor": "#A2B1C6",
            "ticks": ""
           }
          },
          "title": {
           "x": 0.05
          },
          "xaxis": {
           "automargin": true,
           "gridcolor": "#EBF0F8",
           "linecolor": "#EBF0F8",
           "ticks": "",
           "title": {
            "standoff": 15
           },
           "zerolinecolor": "#EBF0F8",
           "zerolinewidth": 2
          },
          "yaxis": {
           "automargin": true,
           "gridcolor": "#EBF0F8",
           "linecolor": "#EBF0F8",
           "ticks": "",
           "title": {
            "standoff": 15
           },
           "zerolinecolor": "#EBF0F8",
           "zerolinewidth": 2
          }
         }
        },
        "title": {
         "text": "Distribuição por Gênero em Cada Nível de Formação Acadêmica (2021-2024)"
        },
        "xaxis": {
         "anchor": "y",
         "domain": [
          0,
          0.2125
         ],
         "range": [
          0,
          100
         ],
         "ticksuffix": "%",
         "title": {
          "text": "Proporção (%)"
         }
        },
        "xaxis2": {
         "anchor": "y2",
         "domain": [
          0.2625,
          0.475
         ],
         "range": [
          0,
          100
         ],
         "ticksuffix": "%"
        },
        "xaxis3": {
         "anchor": "y3",
         "domain": [
          0.525,
          0.7375
         ],
         "range": [
          0,
          100
         ],
         "ticksuffix": "%"
        },
        "xaxis4": {
         "anchor": "y4",
         "domain": [
          0.7875,
          1
         ],
         "range": [
          0,
          100
         ],
         "ticksuffix": "%"
        },
        "yaxis": {
         "anchor": "x",
         "domain": [
          0,
          1
         ],
         "title": {
          "text": "Nível de Formação"
         }
        },
        "yaxis2": {
         "anchor": "x2",
         "domain": [
          0,
          1
         ],
         "matches": "y",
         "showticklabels": false
        },
        "yaxis3": {
         "anchor": "x3",
         "domain": [
          0,
          1
         ],
         "matches": "y",
         "showticklabels": false
        },
        "yaxis4": {
         "anchor": "x4",
         "domain": [
          0,
          1
         ],
         "matches": "y",
         "showticklabels": false
        }
       }
      }
     },
     "metadata": {},
     "output_type": "display_data"
    }
   ],
   "source": [
    "# Distribuição escolaridade x genero\n",
    "\n",
    "df_grouped = df_rj.groupby([\"ano_pesquisa\", \"nivel_ensino\", \"genero\"]).size().reset_index(name=\"count\")\n",
    "\n",
    "totais_por_ano_nivel = df_rj.groupby([\"ano_pesquisa\", \"nivel_ensino\"]).size().reset_index(name=\"total_nivel\")\n",
    "df_grouped = df_grouped.merge(totais_por_ano_nivel, on=[\"ano_pesquisa\", \"nivel_ensino\"])\n",
    "\n",
    "df_grouped[\"proporção\"] = df_grouped[\"count\"] / df_grouped[\"total_nivel\"] * 100\n",
    "\n",
    "fig = make_subplots(rows=1, cols=4, shared_yaxes=True, subplot_titles=[\"2021\", \"2022\", \"2023\", \"2024\"])\n",
    "\n",
    "anos = ['2021', '2022', '2023', '2024']\n",
    "cores = {\"Masculino\": \"#708090\", \"Feminino\": \"#673147\"}\n",
    "\n",
    "ordem_niveis = [\n",
    "    'Não tenho graduação formal', \n",
    "    'Estudante de Graduação',\n",
    "    'Graduação/Bacharelado', \n",
    "    'Pós-graduação',\n",
    "    'Mestrado',\n",
    "    'Doutorado ou Phd'\n",
    "]\n",
    "\n",
    "for i, ano in enumerate(anos):\n",
    "   \n",
    "    df_ano = df_grouped[df_grouped[\"ano_pesquisa\"] == ano]\n",
    "    \n",
    "    for nivel in ordem_niveis:\n",
    "        df_nivel = df_ano[df_ano[\"nivel_ensino\"] == nivel]\n",
    "        \n",
    "        if df_nivel.empty:\n",
    "            continue\n",
    "        \n",
    "        \n",
    "        proporcoes = {genero: df_nivel[df_nivel[\"genero\"] == genero][\"proporção\"].values[0] \n",
    "                      if not df_nivel[df_nivel[\"genero\"] == genero].empty else 0 \n",
    "                      for genero in [\"Masculino\", \"Feminino\"]}\n",
    "        \n",
    "        \n",
    "        for genero in [\"Feminino\", \"Masculino\"]:\n",
    "            fig.add_trace(go.Bar(\n",
    "                y=[nivel],\n",
    "                x=[proporcoes[genero]],\n",
    "                name=genero,\n",
    "                orientation=\"h\",\n",
    "                marker=dict(color=cores[genero]),\n",
    "                text=f\"{proporcoes[genero]:.1f}%\",\n",
    "                textposition=\"inside\",\n",
    "                showlegend=True if i == 0 and nivel == ordem_niveis[0] else False\n",
    "            ), row=1, col=i+1)\n",
    "\n",
    "# Configurando layout\n",
    "fig.update_layout(\n",
    "    title=\"Distribuição por Gênero em Cada Nível de Formação Acadêmica (2021-2024)\",\n",
    "    xaxis_title=\"Proporção (%)\",\n",
    "    yaxis_title=\"Nível de Formação\",\n",
    "    barmode=\"stack\",\n",
    "    height=600,\n",
    "    template=\"plotly_white\",\n",
    "    legend=dict(\n",
    "        orientation=\"h\",\n",
    "        yanchor=\"bottom\",\n",
    "        y=1.02,\n",
    "        xanchor=\"center\",\n",
    "        x=0.5\n",
    "    )\n",
    ")\n",
    "\n",
    "# Ajustando os eixos X para mostrar valores em percentuais\n",
    "for i in range(1, 5):\n",
    "    fig.update_xaxes(ticksuffix=\"%\", range=[0, 100], row=1, col=i)\n",
    "    \n",
    "\n",
    "fig.show()"
   ]
  },
  {
   "cell_type": "code",
   "execution_count": 69,
   "metadata": {},
   "outputs": [
    {
     "data": {
      "application/vnd.plotly.v1+json": {
       "config": {
        "plotlyServerURL": "https://plot.ly"
       },
       "data": [
        {
         "marker": {
          "color": "#673147"
         },
         "name": "Feminino",
         "showlegend": true,
         "text": [
          "8",
          "24",
          "32",
          "29"
         ],
         "textposition": "auto",
         "type": "bar",
         "x": [
          "2021",
          "2022",
          "2023",
          "2024"
         ],
         "xaxis": "x",
         "y": [
          8,
          24,
          32,
          29
         ],
         "yaxis": "y"
        },
        {
         "marker": {
          "color": "#708090"
         },
         "name": "Masculino",
         "showlegend": true,
         "text": [
          "47",
          "101",
          "122",
          "107"
         ],
         "textposition": "auto",
         "type": "bar",
         "x": [
          "2021",
          "2022",
          "2023",
          "2024"
         ],
         "xaxis": "x",
         "y": [
          47,
          101,
          122,
          107
         ],
         "yaxis": "y"
        },
        {
         "marker": {
          "color": "#673147"
         },
         "name": "Feminino",
         "showlegend": false,
         "text": [
          "6",
          "13",
          "15",
          "14"
         ],
         "textposition": "auto",
         "type": "bar",
         "x": [
          "2021",
          "2022",
          "2023",
          "2024"
         ],
         "xaxis": "x2",
         "y": [
          6,
          13,
          15,
          14
         ],
         "yaxis": "y2"
        },
        {
         "marker": {
          "color": "#708090"
         },
         "name": "Masculino",
         "showlegend": false,
         "text": [
          "33",
          "44",
          "59",
          "56"
         ],
         "textposition": "auto",
         "type": "bar",
         "x": [
          "2021",
          "2022",
          "2023",
          "2024"
         ],
         "xaxis": "x2",
         "y": [
          33,
          44,
          59,
          56
         ],
         "yaxis": "y2"
        },
        {
         "marker": {
          "color": "#673147"
         },
         "name": "Feminino",
         "showlegend": false,
         "text": [
          "16",
          "14",
          "21",
          "0"
         ],
         "textposition": "auto",
         "type": "bar",
         "x": [
          "2021",
          "2022",
          "2023",
          "2024"
         ],
         "xaxis": "x3",
         "y": [
          16,
          14,
          21,
          0
         ],
         "yaxis": "y3"
        },
        {
         "marker": {
          "color": "#708090"
         },
         "name": "Masculino",
         "showlegend": false,
         "text": [
          "50",
          "51",
          "58",
          "0"
         ],
         "textposition": "auto",
         "type": "bar",
         "x": [
          "2021",
          "2022",
          "2023",
          "2024"
         ],
         "xaxis": "x3",
         "y": [
          50,
          51,
          58,
          0
         ],
         "yaxis": "y3"
        },
        {
         "marker": {
          "color": "#673147"
         },
         "name": "Feminino",
         "showlegend": false,
         "text": [
          "5",
          "8",
          "14",
          "19"
         ],
         "textposition": "auto",
         "type": "bar",
         "x": [
          "2021",
          "2022",
          "2023",
          "2024"
         ],
         "xaxis": "x4",
         "y": [
          5,
          8,
          14,
          19
         ],
         "yaxis": "y4"
        },
        {
         "marker": {
          "color": "#708090"
         },
         "name": "Masculino",
         "showlegend": false,
         "text": [
          "22",
          "22",
          "28",
          "26"
         ],
         "textposition": "auto",
         "type": "bar",
         "x": [
          "2021",
          "2022",
          "2023",
          "2024"
         ],
         "xaxis": "x4",
         "y": [
          22,
          22,
          28,
          26
         ],
         "yaxis": "y4"
        },
        {
         "marker": {
          "color": "#673147"
         },
         "name": "Feminino",
         "showlegend": false,
         "text": [
          "0",
          "0",
          "0",
          "22"
         ],
         "textposition": "auto",
         "type": "bar",
         "x": [
          "2021",
          "2022",
          "2023",
          "2024"
         ],
         "xaxis": "x5",
         "y": [
          0,
          0,
          0,
          22
         ],
         "yaxis": "y5"
        },
        {
         "marker": {
          "color": "#708090"
         },
         "name": "Masculino",
         "showlegend": false,
         "text": [
          "0",
          "0",
          "0",
          "61"
         ],
         "textposition": "auto",
         "type": "bar",
         "x": [
          "2021",
          "2022",
          "2023",
          "2024"
         ],
         "xaxis": "x5",
         "y": [
          0,
          0,
          0,
          61
         ],
         "yaxis": "y5"
        },
        {
         "marker": {
          "color": "#673147"
         },
         "name": "Feminino",
         "showlegend": false,
         "text": [
          "2",
          "8",
          "7",
          "9"
         ],
         "textposition": "auto",
         "type": "bar",
         "x": [
          "2021",
          "2022",
          "2023",
          "2024"
         ],
         "xaxis": "x6",
         "y": [
          2,
          8,
          7,
          9
         ],
         "yaxis": "y6"
        },
        {
         "marker": {
          "color": "#708090"
         },
         "name": "Masculino",
         "showlegend": false,
         "text": [
          "2",
          "10",
          "23",
          "13"
         ],
         "textposition": "auto",
         "type": "bar",
         "x": [
          "2021",
          "2022",
          "2023",
          "2024"
         ],
         "xaxis": "x6",
         "y": [
          2,
          10,
          23,
          13
         ],
         "yaxis": "y6"
        },
        {
         "marker": {
          "color": "#673147"
         },
         "name": "Feminino",
         "showlegend": false,
         "text": [
          "1",
          "0",
          "2",
          "0"
         ],
         "textposition": "auto",
         "type": "bar",
         "x": [
          "2021",
          "2022",
          "2023",
          "2024"
         ],
         "xaxis": "x7",
         "y": [
          1,
          0,
          2,
          0
         ],
         "yaxis": "y7"
        },
        {
         "marker": {
          "color": "#708090"
         },
         "name": "Masculino",
         "showlegend": false,
         "text": [
          "3",
          "14",
          "13",
          "7"
         ],
         "textposition": "auto",
         "type": "bar",
         "x": [
          "2021",
          "2022",
          "2023",
          "2024"
         ],
         "xaxis": "x7",
         "y": [
          3,
          14,
          13,
          7
         ],
         "yaxis": "y7"
        },
        {
         "marker": {
          "color": "#673147"
         },
         "name": "Feminino",
         "showlegend": false,
         "text": [
          "2",
          "1",
          "5",
          "1"
         ],
         "textposition": "auto",
         "type": "bar",
         "x": [
          "2021",
          "2022",
          "2023",
          "2024"
         ],
         "xaxis": "x8",
         "y": [
          2,
          1,
          5,
          1
         ],
         "yaxis": "y8"
        },
        {
         "marker": {
          "color": "#708090"
         },
         "name": "Masculino",
         "showlegend": false,
         "text": [
          "4",
          "4",
          "9",
          "9"
         ],
         "textposition": "auto",
         "type": "bar",
         "x": [
          "2021",
          "2022",
          "2023",
          "2024"
         ],
         "xaxis": "x8",
         "y": [
          4,
          4,
          9,
          9
         ],
         "yaxis": "y8"
        },
        {
         "marker": {
          "color": "#673147"
         },
         "name": "Feminino",
         "showlegend": false,
         "text": [
          "4",
          "6",
          "9",
          "0"
         ],
         "textposition": "auto",
         "type": "bar",
         "x": [
          "2021",
          "2022",
          "2023",
          "2024"
         ],
         "xaxis": "x9",
         "y": [
          4,
          6,
          9,
          0
         ],
         "yaxis": "y9"
        },
        {
         "marker": {
          "color": "#708090"
         },
         "name": "Masculino",
         "showlegend": false,
         "text": [
          "3",
          "1",
          "4",
          "0"
         ],
         "textposition": "auto",
         "type": "bar",
         "x": [
          "2021",
          "2022",
          "2023",
          "2024"
         ],
         "xaxis": "x9",
         "y": [
          3,
          1,
          4,
          0
         ],
         "yaxis": "y9"
        },
        {
         "marker": {
          "color": "#673147"
         },
         "name": "Feminino",
         "showlegend": false,
         "text": [
          "0",
          "2",
          "2",
          "0"
         ],
         "textposition": "auto",
         "type": "bar",
         "x": [
          "2021",
          "2022",
          "2023",
          "2024"
         ],
         "xaxis": "x10",
         "y": [
          0,
          2,
          2,
          0
         ],
         "yaxis": "y10"
        },
        {
         "marker": {
          "color": "#708090"
         },
         "name": "Masculino",
         "showlegend": false,
         "text": [
          "5",
          "6",
          "6",
          "0"
         ],
         "textposition": "auto",
         "type": "bar",
         "x": [
          "2021",
          "2022",
          "2023",
          "2024"
         ],
         "xaxis": "x10",
         "y": [
          5,
          6,
          6,
          0
         ],
         "yaxis": "y10"
        },
        {
         "marker": {
          "color": "#673147"
         },
         "name": "Feminino",
         "showlegend": false,
         "text": [
          "0",
          "0",
          "0",
          "7"
         ],
         "textposition": "auto",
         "type": "bar",
         "x": [
          "2021",
          "2022",
          "2023",
          "2024"
         ],
         "xaxis": "x11",
         "y": [
          0,
          0,
          0,
          7
         ],
         "yaxis": "y11"
        },
        {
         "marker": {
          "color": "#708090"
         },
         "name": "Masculino",
         "showlegend": false,
         "text": [
          "0",
          "0",
          "0",
          "9"
         ],
         "textposition": "auto",
         "type": "bar",
         "x": [
          "2021",
          "2022",
          "2023",
          "2024"
         ],
         "xaxis": "x11",
         "y": [
          0,
          0,
          0,
          9
         ],
         "yaxis": "y11"
        }
       ],
       "layout": {
        "annotations": [
         {
          "font": {
           "size": 16
          },
          "showarrow": false,
          "text": "Computação / Engenharia de Software / TI",
          "x": 0.14333333333333334,
          "xanchor": "center",
          "xref": "paper",
          "y": 1,
          "yanchor": "bottom",
          "yref": "paper"
         },
         {
          "font": {
           "size": 16
          },
          "showarrow": false,
          "text": "Economia / Administração / Finanças / Negócios",
          "x": 0.5,
          "xanchor": "center",
          "xref": "paper",
          "y": 1,
          "yanchor": "bottom",
          "yref": "paper"
         },
         {
          "font": {
           "size": 16
          },
          "showarrow": false,
          "text": "Engenharia (outras)",
          "x": 0.8566666666666667,
          "xanchor": "center",
          "xref": "paper",
          "y": 1,
          "yanchor": "bottom",
          "yref": "paper"
         },
         {
          "font": {
           "size": 16
          },
          "showarrow": false,
          "text": "Estatística / Matemática / Ciências Atuariais",
          "x": 0.14333333333333334,
          "xanchor": "center",
          "xref": "paper",
          "y": 0.7200000000000001,
          "yanchor": "bottom",
          "yref": "paper"
         },
         {
          "font": {
           "size": 16
          },
          "showarrow": false,
          "text": "Outras Engenharias (não incluir engenharia de software ou TI)",
          "x": 0.5,
          "xanchor": "center",
          "xref": "paper",
          "y": 0.7200000000000001,
          "yanchor": "bottom",
          "yref": "paper"
         },
         {
          "font": {
           "size": 16
          },
          "showarrow": false,
          "text": "Outras",
          "x": 0.8566666666666667,
          "xanchor": "center",
          "xref": "paper",
          "y": 0.7200000000000001,
          "yanchor": "bottom",
          "yref": "paper"
         },
         {
          "font": {
           "size": 16
          },
          "showarrow": false,
          "text": "Química / Física",
          "x": 0.14333333333333334,
          "xanchor": "center",
          "xref": "paper",
          "y": 0.44000000000000006,
          "yanchor": "bottom",
          "yref": "paper"
         },
         {
          "font": {
           "size": 16
          },
          "showarrow": false,
          "text": "Ciências Biológicas / Medicina / Saúde",
          "x": 0.5,
          "xanchor": "center",
          "xref": "paper",
          "y": 0.44000000000000006,
          "yanchor": "bottom",
          "yref": "paper"
         },
         {
          "font": {
           "size": 16
          },
          "showarrow": false,
          "text": "Marketing / Comunicação / Jornalismo",
          "x": 0.8566666666666667,
          "xanchor": "center",
          "xref": "paper",
          "y": 0.44000000000000006,
          "yanchor": "bottom",
          "yref": "paper"
         },
         {
          "font": {
           "size": 16
          },
          "showarrow": false,
          "text": "Ciências Sociais",
          "x": 0.14333333333333334,
          "xanchor": "center",
          "xref": "paper",
          "y": 0.16,
          "yanchor": "bottom",
          "yref": "paper"
         },
         {
          "font": {
           "size": 16
          },
          "showarrow": false,
          "text": "Marketing / Publicidade / Comunicação / Jornalismo / Ciências Sociais",
          "x": 0.5,
          "xanchor": "center",
          "xref": "paper",
          "y": 0.16,
          "yanchor": "bottom",
          "yref": "paper"
         }
        ],
        "barmode": "group",
        "height": 1000,
        "legend": {
         "orientation": "h",
         "x": 1,
         "xanchor": "right",
         "y": 1.02,
         "yanchor": "bottom"
        },
        "margin": {
         "b": 50,
         "l": 50,
         "r": 50,
         "t": 80
        },
        "template": {
         "data": {
          "bar": [
           {
            "error_x": {
             "color": "#2a3f5f"
            },
            "error_y": {
             "color": "#2a3f5f"
            },
            "marker": {
             "line": {
              "color": "white",
              "width": 0.5
             },
             "pattern": {
              "fillmode": "overlay",
              "size": 10,
              "solidity": 0.2
             }
            },
            "type": "bar"
           }
          ],
          "barpolar": [
           {
            "marker": {
             "line": {
              "color": "white",
              "width": 0.5
             },
             "pattern": {
              "fillmode": "overlay",
              "size": 10,
              "solidity": 0.2
             }
            },
            "type": "barpolar"
           }
          ],
          "carpet": [
           {
            "aaxis": {
             "endlinecolor": "#2a3f5f",
             "gridcolor": "#C8D4E3",
             "linecolor": "#C8D4E3",
             "minorgridcolor": "#C8D4E3",
             "startlinecolor": "#2a3f5f"
            },
            "baxis": {
             "endlinecolor": "#2a3f5f",
             "gridcolor": "#C8D4E3",
             "linecolor": "#C8D4E3",
             "minorgridcolor": "#C8D4E3",
             "startlinecolor": "#2a3f5f"
            },
            "type": "carpet"
           }
          ],
          "choropleth": [
           {
            "colorbar": {
             "outlinewidth": 0,
             "ticks": ""
            },
            "type": "choropleth"
           }
          ],
          "contour": [
           {
            "colorbar": {
             "outlinewidth": 0,
             "ticks": ""
            },
            "colorscale": [
             [
              0,
              "#0d0887"
             ],
             [
              0.1111111111111111,
              "#46039f"
             ],
             [
              0.2222222222222222,
              "#7201a8"
             ],
             [
              0.3333333333333333,
              "#9c179e"
             ],
             [
              0.4444444444444444,
              "#bd3786"
             ],
             [
              0.5555555555555556,
              "#d8576b"
             ],
             [
              0.6666666666666666,
              "#ed7953"
             ],
             [
              0.7777777777777778,
              "#fb9f3a"
             ],
             [
              0.8888888888888888,
              "#fdca26"
             ],
             [
              1,
              "#f0f921"
             ]
            ],
            "type": "contour"
           }
          ],
          "contourcarpet": [
           {
            "colorbar": {
             "outlinewidth": 0,
             "ticks": ""
            },
            "type": "contourcarpet"
           }
          ],
          "heatmap": [
           {
            "colorbar": {
             "outlinewidth": 0,
             "ticks": ""
            },
            "colorscale": [
             [
              0,
              "#0d0887"
             ],
             [
              0.1111111111111111,
              "#46039f"
             ],
             [
              0.2222222222222222,
              "#7201a8"
             ],
             [
              0.3333333333333333,
              "#9c179e"
             ],
             [
              0.4444444444444444,
              "#bd3786"
             ],
             [
              0.5555555555555556,
              "#d8576b"
             ],
             [
              0.6666666666666666,
              "#ed7953"
             ],
             [
              0.7777777777777778,
              "#fb9f3a"
             ],
             [
              0.8888888888888888,
              "#fdca26"
             ],
             [
              1,
              "#f0f921"
             ]
            ],
            "type": "heatmap"
           }
          ],
          "heatmapgl": [
           {
            "colorbar": {
             "outlinewidth": 0,
             "ticks": ""
            },
            "colorscale": [
             [
              0,
              "#0d0887"
             ],
             [
              0.1111111111111111,
              "#46039f"
             ],
             [
              0.2222222222222222,
              "#7201a8"
             ],
             [
              0.3333333333333333,
              "#9c179e"
             ],
             [
              0.4444444444444444,
              "#bd3786"
             ],
             [
              0.5555555555555556,
              "#d8576b"
             ],
             [
              0.6666666666666666,
              "#ed7953"
             ],
             [
              0.7777777777777778,
              "#fb9f3a"
             ],
             [
              0.8888888888888888,
              "#fdca26"
             ],
             [
              1,
              "#f0f921"
             ]
            ],
            "type": "heatmapgl"
           }
          ],
          "histogram": [
           {
            "marker": {
             "pattern": {
              "fillmode": "overlay",
              "size": 10,
              "solidity": 0.2
             }
            },
            "type": "histogram"
           }
          ],
          "histogram2d": [
           {
            "colorbar": {
             "outlinewidth": 0,
             "ticks": ""
            },
            "colorscale": [
             [
              0,
              "#0d0887"
             ],
             [
              0.1111111111111111,
              "#46039f"
             ],
             [
              0.2222222222222222,
              "#7201a8"
             ],
             [
              0.3333333333333333,
              "#9c179e"
             ],
             [
              0.4444444444444444,
              "#bd3786"
             ],
             [
              0.5555555555555556,
              "#d8576b"
             ],
             [
              0.6666666666666666,
              "#ed7953"
             ],
             [
              0.7777777777777778,
              "#fb9f3a"
             ],
             [
              0.8888888888888888,
              "#fdca26"
             ],
             [
              1,
              "#f0f921"
             ]
            ],
            "type": "histogram2d"
           }
          ],
          "histogram2dcontour": [
           {
            "colorbar": {
             "outlinewidth": 0,
             "ticks": ""
            },
            "colorscale": [
             [
              0,
              "#0d0887"
             ],
             [
              0.1111111111111111,
              "#46039f"
             ],
             [
              0.2222222222222222,
              "#7201a8"
             ],
             [
              0.3333333333333333,
              "#9c179e"
             ],
             [
              0.4444444444444444,
              "#bd3786"
             ],
             [
              0.5555555555555556,
              "#d8576b"
             ],
             [
              0.6666666666666666,
              "#ed7953"
             ],
             [
              0.7777777777777778,
              "#fb9f3a"
             ],
             [
              0.8888888888888888,
              "#fdca26"
             ],
             [
              1,
              "#f0f921"
             ]
            ],
            "type": "histogram2dcontour"
           }
          ],
          "mesh3d": [
           {
            "colorbar": {
             "outlinewidth": 0,
             "ticks": ""
            },
            "type": "mesh3d"
           }
          ],
          "parcoords": [
           {
            "line": {
             "colorbar": {
              "outlinewidth": 0,
              "ticks": ""
             }
            },
            "type": "parcoords"
           }
          ],
          "pie": [
           {
            "automargin": true,
            "type": "pie"
           }
          ],
          "scatter": [
           {
            "fillpattern": {
             "fillmode": "overlay",
             "size": 10,
             "solidity": 0.2
            },
            "type": "scatter"
           }
          ],
          "scatter3d": [
           {
            "line": {
             "colorbar": {
              "outlinewidth": 0,
              "ticks": ""
             }
            },
            "marker": {
             "colorbar": {
              "outlinewidth": 0,
              "ticks": ""
             }
            },
            "type": "scatter3d"
           }
          ],
          "scattercarpet": [
           {
            "marker": {
             "colorbar": {
              "outlinewidth": 0,
              "ticks": ""
             }
            },
            "type": "scattercarpet"
           }
          ],
          "scattergeo": [
           {
            "marker": {
             "colorbar": {
              "outlinewidth": 0,
              "ticks": ""
             }
            },
            "type": "scattergeo"
           }
          ],
          "scattergl": [
           {
            "marker": {
             "colorbar": {
              "outlinewidth": 0,
              "ticks": ""
             }
            },
            "type": "scattergl"
           }
          ],
          "scattermapbox": [
           {
            "marker": {
             "colorbar": {
              "outlinewidth": 0,
              "ticks": ""
             }
            },
            "type": "scattermapbox"
           }
          ],
          "scatterpolar": [
           {
            "marker": {
             "colorbar": {
              "outlinewidth": 0,
              "ticks": ""
             }
            },
            "type": "scatterpolar"
           }
          ],
          "scatterpolargl": [
           {
            "marker": {
             "colorbar": {
              "outlinewidth": 0,
              "ticks": ""
             }
            },
            "type": "scatterpolargl"
           }
          ],
          "scatterternary": [
           {
            "marker": {
             "colorbar": {
              "outlinewidth": 0,
              "ticks": ""
             }
            },
            "type": "scatterternary"
           }
          ],
          "surface": [
           {
            "colorbar": {
             "outlinewidth": 0,
             "ticks": ""
            },
            "colorscale": [
             [
              0,
              "#0d0887"
             ],
             [
              0.1111111111111111,
              "#46039f"
             ],
             [
              0.2222222222222222,
              "#7201a8"
             ],
             [
              0.3333333333333333,
              "#9c179e"
             ],
             [
              0.4444444444444444,
              "#bd3786"
             ],
             [
              0.5555555555555556,
              "#d8576b"
             ],
             [
              0.6666666666666666,
              "#ed7953"
             ],
             [
              0.7777777777777778,
              "#fb9f3a"
             ],
             [
              0.8888888888888888,
              "#fdca26"
             ],
             [
              1,
              "#f0f921"
             ]
            ],
            "type": "surface"
           }
          ],
          "table": [
           {
            "cells": {
             "fill": {
              "color": "#EBF0F8"
             },
             "line": {
              "color": "white"
             }
            },
            "header": {
             "fill": {
              "color": "#C8D4E3"
             },
             "line": {
              "color": "white"
             }
            },
            "type": "table"
           }
          ]
         },
         "layout": {
          "annotationdefaults": {
           "arrowcolor": "#2a3f5f",
           "arrowhead": 0,
           "arrowwidth": 1
          },
          "autotypenumbers": "strict",
          "coloraxis": {
           "colorbar": {
            "outlinewidth": 0,
            "ticks": ""
           }
          },
          "colorscale": {
           "diverging": [
            [
             0,
             "#8e0152"
            ],
            [
             0.1,
             "#c51b7d"
            ],
            [
             0.2,
             "#de77ae"
            ],
            [
             0.3,
             "#f1b6da"
            ],
            [
             0.4,
             "#fde0ef"
            ],
            [
             0.5,
             "#f7f7f7"
            ],
            [
             0.6,
             "#e6f5d0"
            ],
            [
             0.7,
             "#b8e186"
            ],
            [
             0.8,
             "#7fbc41"
            ],
            [
             0.9,
             "#4d9221"
            ],
            [
             1,
             "#276419"
            ]
           ],
           "sequential": [
            [
             0,
             "#0d0887"
            ],
            [
             0.1111111111111111,
             "#46039f"
            ],
            [
             0.2222222222222222,
             "#7201a8"
            ],
            [
             0.3333333333333333,
             "#9c179e"
            ],
            [
             0.4444444444444444,
             "#bd3786"
            ],
            [
             0.5555555555555556,
             "#d8576b"
            ],
            [
             0.6666666666666666,
             "#ed7953"
            ],
            [
             0.7777777777777778,
             "#fb9f3a"
            ],
            [
             0.8888888888888888,
             "#fdca26"
            ],
            [
             1,
             "#f0f921"
            ]
           ],
           "sequentialminus": [
            [
             0,
             "#0d0887"
            ],
            [
             0.1111111111111111,
             "#46039f"
            ],
            [
             0.2222222222222222,
             "#7201a8"
            ],
            [
             0.3333333333333333,
             "#9c179e"
            ],
            [
             0.4444444444444444,
             "#bd3786"
            ],
            [
             0.5555555555555556,
             "#d8576b"
            ],
            [
             0.6666666666666666,
             "#ed7953"
            ],
            [
             0.7777777777777778,
             "#fb9f3a"
            ],
            [
             0.8888888888888888,
             "#fdca26"
            ],
            [
             1,
             "#f0f921"
            ]
           ]
          },
          "colorway": [
           "#636efa",
           "#EF553B",
           "#00cc96",
           "#ab63fa",
           "#FFA15A",
           "#19d3f3",
           "#FF6692",
           "#B6E880",
           "#FF97FF",
           "#FECB52"
          ],
          "font": {
           "color": "#2a3f5f"
          },
          "geo": {
           "bgcolor": "white",
           "lakecolor": "white",
           "landcolor": "white",
           "showlakes": true,
           "showland": true,
           "subunitcolor": "#C8D4E3"
          },
          "hoverlabel": {
           "align": "left"
          },
          "hovermode": "closest",
          "mapbox": {
           "style": "light"
          },
          "paper_bgcolor": "white",
          "plot_bgcolor": "white",
          "polar": {
           "angularaxis": {
            "gridcolor": "#EBF0F8",
            "linecolor": "#EBF0F8",
            "ticks": ""
           },
           "bgcolor": "white",
           "radialaxis": {
            "gridcolor": "#EBF0F8",
            "linecolor": "#EBF0F8",
            "ticks": ""
           }
          },
          "scene": {
           "xaxis": {
            "backgroundcolor": "white",
            "gridcolor": "#DFE8F3",
            "gridwidth": 2,
            "linecolor": "#EBF0F8",
            "showbackground": true,
            "ticks": "",
            "zerolinecolor": "#EBF0F8"
           },
           "yaxis": {
            "backgroundcolor": "white",
            "gridcolor": "#DFE8F3",
            "gridwidth": 2,
            "linecolor": "#EBF0F8",
            "showbackground": true,
            "ticks": "",
            "zerolinecolor": "#EBF0F8"
           },
           "zaxis": {
            "backgroundcolor": "white",
            "gridcolor": "#DFE8F3",
            "gridwidth": 2,
            "linecolor": "#EBF0F8",
            "showbackground": true,
            "ticks": "",
            "zerolinecolor": "#EBF0F8"
           }
          },
          "shapedefaults": {
           "line": {
            "color": "#2a3f5f"
           }
          },
          "ternary": {
           "aaxis": {
            "gridcolor": "#DFE8F3",
            "linecolor": "#A2B1C6",
            "ticks": ""
           },
           "baxis": {
            "gridcolor": "#DFE8F3",
            "linecolor": "#A2B1C6",
            "ticks": ""
           },
           "bgcolor": "white",
           "caxis": {
            "gridcolor": "#DFE8F3",
            "linecolor": "#A2B1C6",
            "ticks": ""
           }
          },
          "title": {
           "x": 0.05
          },
          "xaxis": {
           "automargin": true,
           "gridcolor": "#EBF0F8",
           "linecolor": "#EBF0F8",
           "ticks": "",
           "title": {
            "standoff": 15
           },
           "zerolinecolor": "#EBF0F8",
           "zerolinewidth": 2
          },
          "yaxis": {
           "automargin": true,
           "gridcolor": "#EBF0F8",
           "linecolor": "#EBF0F8",
           "ticks": "",
           "title": {
            "standoff": 15
           },
           "zerolinecolor": "#EBF0F8",
           "zerolinewidth": 2
          }
         }
        },
        "title": {
         "text": "Distribuição de Áreas de Formação por Ano e Gênero"
        },
        "width": 1200,
        "xaxis": {
         "anchor": "y",
         "domain": [
          0,
          0.2866666666666667
         ],
         "matches": "x10",
         "showticklabels": false,
         "tickangle": 45,
         "title": {
          "text": ""
         }
        },
        "xaxis10": {
         "anchor": "y10",
         "domain": [
          0,
          0.2866666666666667
         ],
         "tickangle": 45,
         "title": {
          "text": "Ano"
         }
        },
        "xaxis11": {
         "anchor": "y11",
         "domain": [
          0.3566666666666667,
          0.6433333333333333
         ],
         "tickangle": 45,
         "title": {
          "text": "Ano"
         }
        },
        "xaxis12": {
         "anchor": "y12",
         "domain": [
          0.7133333333333334,
          1
         ]
        },
        "xaxis2": {
         "anchor": "y2",
         "domain": [
          0.3566666666666667,
          0.6433333333333333
         ],
         "matches": "x11",
         "showticklabels": false,
         "tickangle": 45,
         "title": {
          "text": ""
         }
        },
        "xaxis3": {
         "anchor": "y3",
         "domain": [
          0.7133333333333334,
          1
         ],
         "matches": "x12",
         "showticklabels": false,
         "tickangle": 45,
         "title": {
          "text": ""
         }
        },
        "xaxis4": {
         "anchor": "y4",
         "domain": [
          0,
          0.2866666666666667
         ],
         "matches": "x10",
         "showticklabels": false,
         "tickangle": 45,
         "title": {
          "text": ""
         }
        },
        "xaxis5": {
         "anchor": "y5",
         "domain": [
          0.3566666666666667,
          0.6433333333333333
         ],
         "matches": "x11",
         "showticklabels": false,
         "tickangle": 45,
         "title": {
          "text": ""
         }
        },
        "xaxis6": {
         "anchor": "y6",
         "domain": [
          0.7133333333333334,
          1
         ],
         "matches": "x12",
         "showticklabels": false,
         "tickangle": 45,
         "title": {
          "text": ""
         }
        },
        "xaxis7": {
         "anchor": "y7",
         "domain": [
          0,
          0.2866666666666667
         ],
         "matches": "x10",
         "showticklabels": false,
         "tickangle": 45,
         "title": {
          "text": ""
         }
        },
        "xaxis8": {
         "anchor": "y8",
         "domain": [
          0.3566666666666667,
          0.6433333333333333
         ],
         "matches": "x11",
         "showticklabels": false,
         "tickangle": 45,
         "title": {
          "text": ""
         }
        },
        "xaxis9": {
         "anchor": "y9",
         "domain": [
          0.7133333333333334,
          1
         ],
         "matches": "x12",
         "showticklabels": false,
         "tickangle": 45,
         "title": {
          "text": ""
         }
        },
        "yaxis": {
         "anchor": "x",
         "domain": [
          0.84,
          1
         ],
         "title": {
          "text": "Quantidade"
         }
        },
        "yaxis10": {
         "anchor": "x10",
         "domain": [
          0,
          0.16
         ],
         "title": {
          "text": "Quantidade"
         }
        },
        "yaxis11": {
         "anchor": "x11",
         "domain": [
          0,
          0.16
         ]
        },
        "yaxis12": {
         "anchor": "x12",
         "domain": [
          0,
          0.16
         ]
        },
        "yaxis2": {
         "anchor": "x2",
         "domain": [
          0.84,
          1
         ]
        },
        "yaxis3": {
         "anchor": "x3",
         "domain": [
          0.84,
          1
         ]
        },
        "yaxis4": {
         "anchor": "x4",
         "domain": [
          0.56,
          0.7200000000000001
         ],
         "title": {
          "text": "Quantidade"
         }
        },
        "yaxis5": {
         "anchor": "x5",
         "domain": [
          0.56,
          0.7200000000000001
         ]
        },
        "yaxis6": {
         "anchor": "x6",
         "domain": [
          0.56,
          0.7200000000000001
         ]
        },
        "yaxis7": {
         "anchor": "x7",
         "domain": [
          0.28,
          0.44000000000000006
         ],
         "title": {
          "text": "Quantidade"
         }
        },
        "yaxis8": {
         "anchor": "x8",
         "domain": [
          0.28,
          0.44000000000000006
         ]
        },
        "yaxis9": {
         "anchor": "x9",
         "domain": [
          0.28,
          0.44000000000000006
         ]
        }
       }
      }
     },
     "metadata": {},
     "output_type": "display_data"
    }
   ],
   "source": [
    "# distribuição area formação x genero\n",
    "\n",
    "df = df_rj[df_rj['area_formacao'] != \"Não classificado\"].copy()\n",
    "\n",
    "df_contagem = df.groupby(['area_formacao', 'ano_pesquisa', 'genero']).size().reset_index(name='contagem')\n",
    "\n",
    "\n",
    "cores = {\"Feminino\": \"#673147\", \"Masculino\": \"#708090\"}\n",
    "\n",
    "\n",
    "areas_unicas = df_contagem.groupby('area_formacao')['contagem'].sum().sort_values(ascending=False).index.tolist()\n",
    "anos = sorted(df_contagem['ano_pesquisa'].unique())\n",
    "generos = [\"Feminino\", \"Masculino\"]\n",
    "\n",
    "\n",
    "n_cols = 3  \n",
    "n_rows = -(-len(areas_unicas) // n_cols)  \n",
    "\n",
    "\n",
    "fig = make_subplots(\n",
    "    rows=n_rows, \n",
    "    cols=n_cols,\n",
    "    subplot_titles=areas_unicas,\n",
    "    shared_xaxes=True,\n",
    "    horizontal_spacing=0.07,\n",
    "    vertical_spacing=0.12\n",
    ")\n",
    "\n",
    "\n",
    "for i, area in enumerate(areas_unicas):\n",
    "    row = i // n_cols + 1\n",
    "    col = i % n_cols + 1\n",
    "    \n",
    "    for genero in generos:\n",
    "        df_filtrado = df_contagem[(df_contagem['area_formacao'] == area) & \n",
    "                                  (df_contagem['genero'] == genero)]\n",
    "        \n",
    "        x_anos = []\n",
    "        y_contagens = []\n",
    "        \n",
    "        for ano in anos:\n",
    "            df_ano = df_filtrado[df_filtrado['ano_pesquisa'] == ano]\n",
    "            y_contagens.append(df_ano['contagem'].values[0] if not df_ano.empty else 0)\n",
    "            x_anos.append(ano)\n",
    "        \n",
    "        fig.add_trace(\n",
    "            go.Bar(\n",
    "                x=x_anos,\n",
    "                y=y_contagens,\n",
    "                name=genero,\n",
    "                marker_color=cores[genero],\n",
    "                text=y_contagens,\n",
    "                textposition='auto',\n",
    "                showlegend=i == 0\n",
    "            ),\n",
    "            row=row, col=col\n",
    "        )\n",
    "\n",
    "fig.update_layout(\n",
    "    title='Distribuição de Áreas de Formação por Ano e Gênero',\n",
    "    height=min(1000, n_rows * 250),\n",
    "    width=1200,\n",
    "    template='plotly_white',\n",
    "    barmode='group',\n",
    "    legend=dict(orientation=\"h\", yanchor=\"bottom\", y=1.02, xanchor=\"right\", x=1),\n",
    "    margin=dict(t=80, b=50, l=50, r=50)\n",
    ")\n",
    "\n",
    "\n",
    "for i in range(1, n_rows + 1):\n",
    "    for j in range(1, n_cols + 1):\n",
    "        if (i-1) * n_cols + j <= len(areas_unicas):\n",
    "            fig.update_xaxes(title_text=\"Ano\" if i == n_rows else \"\", tickangle=45, row=i, col=j)\n",
    "            if j == 1:\n",
    "                fig.update_yaxes(title_text=\"Quantidade\", row=i, col=j)\n",
    "\n",
    "fig.show()\n"
   ]
  },
  {
   "cell_type": "code",
   "execution_count": 70,
   "metadata": {},
   "outputs": [
    {
     "data": {
      "application/vnd.plotly.v1+json": {
       "config": {
        "plotlyServerURL": "https://plot.ly"
       },
       "data": [
        {
         "marker": {
          "color": "#673147"
         },
         "name": "Feminino",
         "orientation": "h",
         "showlegend": true,
         "text": [
          "7",
          "56",
          "159",
          "0",
          "77",
          "23"
         ],
         "textfont": {
          "color": "black"
         },
         "textposition": "outside",
         "type": "bar",
         "x": [
          7,
          56,
          159,
          0,
          77,
          23
         ],
         "xaxis": "x",
         "y": [
          "Não tenho graduação formal",
          "Estudante de Graduação",
          "Graduação/Bacharelado",
          "Especialização Lato Sensu",
          "Mestrado",
          "Doutorado ou Phd"
         ],
         "yaxis": "y"
        },
        {
         "marker": {
          "color": "#708090"
         },
         "name": "Masculino",
         "orientation": "h",
         "showlegend": true,
         "text": [
          "54",
          "330",
          "745",
          "0",
          "267",
          "93"
         ],
         "textfont": {
          "color": "black"
         },
         "textposition": "outside",
         "type": "bar",
         "x": [
          54,
          330,
          745,
          0,
          267,
          93
         ],
         "xaxis": "x",
         "y": [
          "Não tenho graduação formal",
          "Estudante de Graduação",
          "Graduação/Bacharelado",
          "Especialização Lato Sensu",
          "Mestrado",
          "Doutorado ou Phd"
         ],
         "yaxis": "y"
        },
        {
         "marker": {
          "color": "#673147"
         },
         "name": "Feminino",
         "orientation": "h",
         "showlegend": false,
         "text": [
          "24",
          "104",
          "365",
          "0",
          "133",
          "57"
         ],
         "textfont": {
          "color": "black"
         },
         "textposition": "outside",
         "type": "bar",
         "x": [
          24,
          104,
          365,
          0,
          133,
          57
         ],
         "xaxis": "x2",
         "y": [
          "Não tenho graduação formal",
          "Estudante de Graduação",
          "Graduação/Bacharelado",
          "Especialização Lato Sensu",
          "Mestrado",
          "Doutorado ou Phd"
         ],
         "yaxis": "y2"
        },
        {
         "marker": {
          "color": "#708090"
         },
         "name": "Masculino",
         "orientation": "h",
         "showlegend": false,
         "text": [
          "86",
          "506",
          "1138",
          "0",
          "386",
          "134"
         ],
         "textfont": {
          "color": "black"
         },
         "textposition": "outside",
         "type": "bar",
         "x": [
          86,
          506,
          1138,
          0,
          386,
          134
         ],
         "xaxis": "x2",
         "y": [
          "Não tenho graduação formal",
          "Estudante de Graduação",
          "Graduação/Bacharelado",
          "Especialização Lato Sensu",
          "Mestrado",
          "Doutorado ou Phd"
         ],
         "yaxis": "y2"
        },
        {
         "marker": {
          "color": "#673147"
         },
         "name": "Feminino",
         "orientation": "h",
         "showlegend": false,
         "text": [
          "20",
          "132",
          "411",
          "0",
          "196",
          "72"
         ],
         "textfont": {
          "color": "black"
         },
         "textposition": "outside",
         "type": "bar",
         "x": [
          20,
          132,
          411,
          0,
          196,
          72
         ],
         "xaxis": "x3",
         "y": [
          "Não tenho graduação formal",
          "Estudante de Graduação",
          "Graduação/Bacharelado",
          "Especialização Lato Sensu",
          "Mestrado",
          "Doutorado ou Phd"
         ],
         "yaxis": "y3"
        },
        {
         "marker": {
          "color": "#708090"
         },
         "name": "Masculino",
         "orientation": "h",
         "showlegend": false,
         "text": [
          "85",
          "542",
          "1376",
          "0",
          "476",
          "137"
         ],
         "textfont": {
          "color": "black"
         },
         "textposition": "outside",
         "type": "bar",
         "x": [
          85,
          542,
          1376,
          0,
          476,
          137
         ],
         "xaxis": "x3",
         "y": [
          "Não tenho graduação formal",
          "Estudante de Graduação",
          "Graduação/Bacharelado",
          "Especialização Lato Sensu",
          "Mestrado",
          "Doutorado ou Phd"
         ],
         "yaxis": "y3"
        },
        {
         "marker": {
          "color": "#673147"
         },
         "name": "Feminino",
         "orientation": "h",
         "showlegend": false,
         "text": [
          "10",
          "125",
          "355",
          "0",
          "186",
          "66"
         ],
         "textfont": {
          "color": "black"
         },
         "textposition": "outside",
         "type": "bar",
         "x": [
          10,
          125,
          355,
          0,
          186,
          66
         ],
         "xaxis": "x4",
         "y": [
          "Não tenho graduação formal",
          "Estudante de Graduação",
          "Graduação/Bacharelado",
          "Especialização Lato Sensu",
          "Mestrado",
          "Doutorado ou Phd"
         ],
         "yaxis": "y4"
        },
        {
         "marker": {
          "color": "#708090"
         },
         "name": "Masculino",
         "orientation": "h",
         "showlegend": false,
         "text": [
          "75",
          "464",
          "1348",
          "0",
          "472",
          "150"
         ],
         "textfont": {
          "color": "black"
         },
         "textposition": "outside",
         "type": "bar",
         "x": [
          75,
          464,
          1348,
          0,
          472,
          150
         ],
         "xaxis": "x4",
         "y": [
          "Não tenho graduação formal",
          "Estudante de Graduação",
          "Graduação/Bacharelado",
          "Especialização Lato Sensu",
          "Mestrado",
          "Doutorado ou Phd"
         ],
         "yaxis": "y4"
        }
       ],
       "layout": {
        "annotations": [
         {
          "font": {
           "size": 16
          },
          "showarrow": false,
          "text": "2021",
          "x": 0.10625,
          "xanchor": "center",
          "xref": "paper",
          "y": 1,
          "yanchor": "bottom",
          "yref": "paper"
         },
         {
          "font": {
           "size": 16
          },
          "showarrow": false,
          "text": "2022",
          "x": 0.36875,
          "xanchor": "center",
          "xref": "paper",
          "y": 1,
          "yanchor": "bottom",
          "yref": "paper"
         },
         {
          "font": {
           "size": 16
          },
          "showarrow": false,
          "text": "2023",
          "x": 0.6312500000000001,
          "xanchor": "center",
          "xref": "paper",
          "y": 1,
          "yanchor": "bottom",
          "yref": "paper"
         },
         {
          "font": {
           "size": 16
          },
          "showarrow": false,
          "text": "2024",
          "x": 0.89375,
          "xanchor": "center",
          "xref": "paper",
          "y": 1,
          "yanchor": "bottom",
          "yref": "paper"
         }
        ],
        "barmode": "group",
        "height": 800,
        "legend": {
         "orientation": "h",
         "x": 0.5,
         "xanchor": "center",
         "y": 1.02,
         "yanchor": "bottom"
        },
        "template": {
         "data": {
          "bar": [
           {
            "error_x": {
             "color": "#2a3f5f"
            },
            "error_y": {
             "color": "#2a3f5f"
            },
            "marker": {
             "line": {
              "color": "white",
              "width": 0.5
             },
             "pattern": {
              "fillmode": "overlay",
              "size": 10,
              "solidity": 0.2
             }
            },
            "type": "bar"
           }
          ],
          "barpolar": [
           {
            "marker": {
             "line": {
              "color": "white",
              "width": 0.5
             },
             "pattern": {
              "fillmode": "overlay",
              "size": 10,
              "solidity": 0.2
             }
            },
            "type": "barpolar"
           }
          ],
          "carpet": [
           {
            "aaxis": {
             "endlinecolor": "#2a3f5f",
             "gridcolor": "#C8D4E3",
             "linecolor": "#C8D4E3",
             "minorgridcolor": "#C8D4E3",
             "startlinecolor": "#2a3f5f"
            },
            "baxis": {
             "endlinecolor": "#2a3f5f",
             "gridcolor": "#C8D4E3",
             "linecolor": "#C8D4E3",
             "minorgridcolor": "#C8D4E3",
             "startlinecolor": "#2a3f5f"
            },
            "type": "carpet"
           }
          ],
          "choropleth": [
           {
            "colorbar": {
             "outlinewidth": 0,
             "ticks": ""
            },
            "type": "choropleth"
           }
          ],
          "contour": [
           {
            "colorbar": {
             "outlinewidth": 0,
             "ticks": ""
            },
            "colorscale": [
             [
              0,
              "#0d0887"
             ],
             [
              0.1111111111111111,
              "#46039f"
             ],
             [
              0.2222222222222222,
              "#7201a8"
             ],
             [
              0.3333333333333333,
              "#9c179e"
             ],
             [
              0.4444444444444444,
              "#bd3786"
             ],
             [
              0.5555555555555556,
              "#d8576b"
             ],
             [
              0.6666666666666666,
              "#ed7953"
             ],
             [
              0.7777777777777778,
              "#fb9f3a"
             ],
             [
              0.8888888888888888,
              "#fdca26"
             ],
             [
              1,
              "#f0f921"
             ]
            ],
            "type": "contour"
           }
          ],
          "contourcarpet": [
           {
            "colorbar": {
             "outlinewidth": 0,
             "ticks": ""
            },
            "type": "contourcarpet"
           }
          ],
          "heatmap": [
           {
            "colorbar": {
             "outlinewidth": 0,
             "ticks": ""
            },
            "colorscale": [
             [
              0,
              "#0d0887"
             ],
             [
              0.1111111111111111,
              "#46039f"
             ],
             [
              0.2222222222222222,
              "#7201a8"
             ],
             [
              0.3333333333333333,
              "#9c179e"
             ],
             [
              0.4444444444444444,
              "#bd3786"
             ],
             [
              0.5555555555555556,
              "#d8576b"
             ],
             [
              0.6666666666666666,
              "#ed7953"
             ],
             [
              0.7777777777777778,
              "#fb9f3a"
             ],
             [
              0.8888888888888888,
              "#fdca26"
             ],
             [
              1,
              "#f0f921"
             ]
            ],
            "type": "heatmap"
           }
          ],
          "heatmapgl": [
           {
            "colorbar": {
             "outlinewidth": 0,
             "ticks": ""
            },
            "colorscale": [
             [
              0,
              "#0d0887"
             ],
             [
              0.1111111111111111,
              "#46039f"
             ],
             [
              0.2222222222222222,
              "#7201a8"
             ],
             [
              0.3333333333333333,
              "#9c179e"
             ],
             [
              0.4444444444444444,
              "#bd3786"
             ],
             [
              0.5555555555555556,
              "#d8576b"
             ],
             [
              0.6666666666666666,
              "#ed7953"
             ],
             [
              0.7777777777777778,
              "#fb9f3a"
             ],
             [
              0.8888888888888888,
              "#fdca26"
             ],
             [
              1,
              "#f0f921"
             ]
            ],
            "type": "heatmapgl"
           }
          ],
          "histogram": [
           {
            "marker": {
             "pattern": {
              "fillmode": "overlay",
              "size": 10,
              "solidity": 0.2
             }
            },
            "type": "histogram"
           }
          ],
          "histogram2d": [
           {
            "colorbar": {
             "outlinewidth": 0,
             "ticks": ""
            },
            "colorscale": [
             [
              0,
              "#0d0887"
             ],
             [
              0.1111111111111111,
              "#46039f"
             ],
             [
              0.2222222222222222,
              "#7201a8"
             ],
             [
              0.3333333333333333,
              "#9c179e"
             ],
             [
              0.4444444444444444,
              "#bd3786"
             ],
             [
              0.5555555555555556,
              "#d8576b"
             ],
             [
              0.6666666666666666,
              "#ed7953"
             ],
             [
              0.7777777777777778,
              "#fb9f3a"
             ],
             [
              0.8888888888888888,
              "#fdca26"
             ],
             [
              1,
              "#f0f921"
             ]
            ],
            "type": "histogram2d"
           }
          ],
          "histogram2dcontour": [
           {
            "colorbar": {
             "outlinewidth": 0,
             "ticks": ""
            },
            "colorscale": [
             [
              0,
              "#0d0887"
             ],
             [
              0.1111111111111111,
              "#46039f"
             ],
             [
              0.2222222222222222,
              "#7201a8"
             ],
             [
              0.3333333333333333,
              "#9c179e"
             ],
             [
              0.4444444444444444,
              "#bd3786"
             ],
             [
              0.5555555555555556,
              "#d8576b"
             ],
             [
              0.6666666666666666,
              "#ed7953"
             ],
             [
              0.7777777777777778,
              "#fb9f3a"
             ],
             [
              0.8888888888888888,
              "#fdca26"
             ],
             [
              1,
              "#f0f921"
             ]
            ],
            "type": "histogram2dcontour"
           }
          ],
          "mesh3d": [
           {
            "colorbar": {
             "outlinewidth": 0,
             "ticks": ""
            },
            "type": "mesh3d"
           }
          ],
          "parcoords": [
           {
            "line": {
             "colorbar": {
              "outlinewidth": 0,
              "ticks": ""
             }
            },
            "type": "parcoords"
           }
          ],
          "pie": [
           {
            "automargin": true,
            "type": "pie"
           }
          ],
          "scatter": [
           {
            "fillpattern": {
             "fillmode": "overlay",
             "size": 10,
             "solidity": 0.2
            },
            "type": "scatter"
           }
          ],
          "scatter3d": [
           {
            "line": {
             "colorbar": {
              "outlinewidth": 0,
              "ticks": ""
             }
            },
            "marker": {
             "colorbar": {
              "outlinewidth": 0,
              "ticks": ""
             }
            },
            "type": "scatter3d"
           }
          ],
          "scattercarpet": [
           {
            "marker": {
             "colorbar": {
              "outlinewidth": 0,
              "ticks": ""
             }
            },
            "type": "scattercarpet"
           }
          ],
          "scattergeo": [
           {
            "marker": {
             "colorbar": {
              "outlinewidth": 0,
              "ticks": ""
             }
            },
            "type": "scattergeo"
           }
          ],
          "scattergl": [
           {
            "marker": {
             "colorbar": {
              "outlinewidth": 0,
              "ticks": ""
             }
            },
            "type": "scattergl"
           }
          ],
          "scattermapbox": [
           {
            "marker": {
             "colorbar": {
              "outlinewidth": 0,
              "ticks": ""
             }
            },
            "type": "scattermapbox"
           }
          ],
          "scatterpolar": [
           {
            "marker": {
             "colorbar": {
              "outlinewidth": 0,
              "ticks": ""
             }
            },
            "type": "scatterpolar"
           }
          ],
          "scatterpolargl": [
           {
            "marker": {
             "colorbar": {
              "outlinewidth": 0,
              "ticks": ""
             }
            },
            "type": "scatterpolargl"
           }
          ],
          "scatterternary": [
           {
            "marker": {
             "colorbar": {
              "outlinewidth": 0,
              "ticks": ""
             }
            },
            "type": "scatterternary"
           }
          ],
          "surface": [
           {
            "colorbar": {
             "outlinewidth": 0,
             "ticks": ""
            },
            "colorscale": [
             [
              0,
              "#0d0887"
             ],
             [
              0.1111111111111111,
              "#46039f"
             ],
             [
              0.2222222222222222,
              "#7201a8"
             ],
             [
              0.3333333333333333,
              "#9c179e"
             ],
             [
              0.4444444444444444,
              "#bd3786"
             ],
             [
              0.5555555555555556,
              "#d8576b"
             ],
             [
              0.6666666666666666,
              "#ed7953"
             ],
             [
              0.7777777777777778,
              "#fb9f3a"
             ],
             [
              0.8888888888888888,
              "#fdca26"
             ],
             [
              1,
              "#f0f921"
             ]
            ],
            "type": "surface"
           }
          ],
          "table": [
           {
            "cells": {
             "fill": {
              "color": "#EBF0F8"
             },
             "line": {
              "color": "white"
             }
            },
            "header": {
             "fill": {
              "color": "#C8D4E3"
             },
             "line": {
              "color": "white"
             }
            },
            "type": "table"
           }
          ]
         },
         "layout": {
          "annotationdefaults": {
           "arrowcolor": "#2a3f5f",
           "arrowhead": 0,
           "arrowwidth": 1
          },
          "autotypenumbers": "strict",
          "coloraxis": {
           "colorbar": {
            "outlinewidth": 0,
            "ticks": ""
           }
          },
          "colorscale": {
           "diverging": [
            [
             0,
             "#8e0152"
            ],
            [
             0.1,
             "#c51b7d"
            ],
            [
             0.2,
             "#de77ae"
            ],
            [
             0.3,
             "#f1b6da"
            ],
            [
             0.4,
             "#fde0ef"
            ],
            [
             0.5,
             "#f7f7f7"
            ],
            [
             0.6,
             "#e6f5d0"
            ],
            [
             0.7,
             "#b8e186"
            ],
            [
             0.8,
             "#7fbc41"
            ],
            [
             0.9,
             "#4d9221"
            ],
            [
             1,
             "#276419"
            ]
           ],
           "sequential": [
            [
             0,
             "#0d0887"
            ],
            [
             0.1111111111111111,
             "#46039f"
            ],
            [
             0.2222222222222222,
             "#7201a8"
            ],
            [
             0.3333333333333333,
             "#9c179e"
            ],
            [
             0.4444444444444444,
             "#bd3786"
            ],
            [
             0.5555555555555556,
             "#d8576b"
            ],
            [
             0.6666666666666666,
             "#ed7953"
            ],
            [
             0.7777777777777778,
             "#fb9f3a"
            ],
            [
             0.8888888888888888,
             "#fdca26"
            ],
            [
             1,
             "#f0f921"
            ]
           ],
           "sequentialminus": [
            [
             0,
             "#0d0887"
            ],
            [
             0.1111111111111111,
             "#46039f"
            ],
            [
             0.2222222222222222,
             "#7201a8"
            ],
            [
             0.3333333333333333,
             "#9c179e"
            ],
            [
             0.4444444444444444,
             "#bd3786"
            ],
            [
             0.5555555555555556,
             "#d8576b"
            ],
            [
             0.6666666666666666,
             "#ed7953"
            ],
            [
             0.7777777777777778,
             "#fb9f3a"
            ],
            [
             0.8888888888888888,
             "#fdca26"
            ],
            [
             1,
             "#f0f921"
            ]
           ]
          },
          "colorway": [
           "#636efa",
           "#EF553B",
           "#00cc96",
           "#ab63fa",
           "#FFA15A",
           "#19d3f3",
           "#FF6692",
           "#B6E880",
           "#FF97FF",
           "#FECB52"
          ],
          "font": {
           "color": "#2a3f5f"
          },
          "geo": {
           "bgcolor": "white",
           "lakecolor": "white",
           "landcolor": "white",
           "showlakes": true,
           "showland": true,
           "subunitcolor": "#C8D4E3"
          },
          "hoverlabel": {
           "align": "left"
          },
          "hovermode": "closest",
          "mapbox": {
           "style": "light"
          },
          "paper_bgcolor": "white",
          "plot_bgcolor": "white",
          "polar": {
           "angularaxis": {
            "gridcolor": "#EBF0F8",
            "linecolor": "#EBF0F8",
            "ticks": ""
           },
           "bgcolor": "white",
           "radialaxis": {
            "gridcolor": "#EBF0F8",
            "linecolor": "#EBF0F8",
            "ticks": ""
           }
          },
          "scene": {
           "xaxis": {
            "backgroundcolor": "white",
            "gridcolor": "#DFE8F3",
            "gridwidth": 2,
            "linecolor": "#EBF0F8",
            "showbackground": true,
            "ticks": "",
            "zerolinecolor": "#EBF0F8"
           },
           "yaxis": {
            "backgroundcolor": "white",
            "gridcolor": "#DFE8F3",
            "gridwidth": 2,
            "linecolor": "#EBF0F8",
            "showbackground": true,
            "ticks": "",
            "zerolinecolor": "#EBF0F8"
           },
           "zaxis": {
            "backgroundcolor": "white",
            "gridcolor": "#DFE8F3",
            "gridwidth": 2,
            "linecolor": "#EBF0F8",
            "showbackground": true,
            "ticks": "",
            "zerolinecolor": "#EBF0F8"
           }
          },
          "shapedefaults": {
           "line": {
            "color": "#2a3f5f"
           }
          },
          "ternary": {
           "aaxis": {
            "gridcolor": "#DFE8F3",
            "linecolor": "#A2B1C6",
            "ticks": ""
           },
           "baxis": {
            "gridcolor": "#DFE8F3",
            "linecolor": "#A2B1C6",
            "ticks": ""
           },
           "bgcolor": "white",
           "caxis": {
            "gridcolor": "#DFE8F3",
            "linecolor": "#A2B1C6",
            "ticks": ""
           }
          },
          "title": {
           "x": 0.05
          },
          "xaxis": {
           "automargin": true,
           "gridcolor": "#EBF0F8",
           "linecolor": "#EBF0F8",
           "ticks": "",
           "title": {
            "standoff": 15
           },
           "zerolinecolor": "#EBF0F8",
           "zerolinewidth": 2
          },
          "yaxis": {
           "automargin": true,
           "gridcolor": "#EBF0F8",
           "linecolor": "#EBF0F8",
           "ticks": "",
           "title": {
            "standoff": 15
           },
           "zerolinecolor": "#EBF0F8",
           "zerolinewidth": 2
          }
         }
        },
        "title": {
         "text": "Distribuição Absoluta por Gênero em Cada Nível de Formação Acadêmica (2021-2023)"
        },
        "xaxis": {
         "anchor": "y",
         "domain": [
          0,
          0.2125
         ],
         "title": {
          "text": "Quantidade"
         }
        },
        "xaxis2": {
         "anchor": "y2",
         "domain": [
          0.2625,
          0.475
         ]
        },
        "xaxis3": {
         "anchor": "y3",
         "domain": [
          0.525,
          0.7375
         ]
        },
        "xaxis4": {
         "anchor": "y4",
         "domain": [
          0.7875,
          1
         ]
        },
        "yaxis": {
         "anchor": "x",
         "domain": [
          0,
          1
         ],
         "title": {
          "text": "Nível de Formação"
         }
        },
        "yaxis2": {
         "anchor": "x2",
         "domain": [
          0,
          1
         ],
         "matches": "y",
         "showticklabels": false
        },
        "yaxis3": {
         "anchor": "x3",
         "domain": [
          0,
          1
         ],
         "matches": "y",
         "showticklabels": false
        },
        "yaxis4": {
         "anchor": "x4",
         "domain": [
          0,
          1
         ],
         "matches": "y",
         "showticklabels": false
        }
       }
      }
     },
     "metadata": {},
     "output_type": "display_data"
    }
   ],
   "source": [
    "# Distribuição escolaridade x genero - VALORES ABSOLUTOS, BARRAS LADO A LADO, SEM REPETIR NOME DO GÊNERO NO EIXO Y\n",
    "\n",
    "df_grouped = df_unificado.groupby([\"ano_pesquisa\", \"nivel_ensino\", \"genero\"]).size().reset_index(name=\"count\")\n",
    "\n",
    "fig = make_subplots(rows=1, cols=4, shared_yaxes=True, subplot_titles=[\"2021\", \"2022\", \"2023\", \"2024\"])\n",
    "\n",
    "anos = ['2021', '2022', '2023', '2024']\n",
    "cores = {\"Masculino\": \"#708090\", \"Feminino\": \"#673147\"}\n",
    "\n",
    "ordem_niveis = [\n",
    "    'Não tenho graduação formal', \n",
    "    'Estudante de Graduação',\n",
    "    'Graduação/Bacharelado', \n",
    "    'Especialização Lato Sensu',\n",
    "    'Mestrado',\n",
    "    'Doutorado ou Phd'\n",
    "]\n",
    "\n",
    "for i, ano in enumerate(anos):\n",
    "    df_ano = df_grouped[df_grouped[\"ano_pesquisa\"] == ano]\n",
    "    \n",
    "    for genero in [\"Feminino\", \"Masculino\"]:\n",
    "        counts = []\n",
    "        niveis = []\n",
    "        \n",
    "        for nivel in ordem_niveis:\n",
    "            df_nivel = df_ano[(df_ano[\"nivel_ensino\"] == nivel) & (df_ano[\"genero\"] == genero)]\n",
    "            count = df_nivel[\"count\"].values[0] if not df_nivel.empty else 0\n",
    "            counts.append(count)\n",
    "            niveis.append(nivel)\n",
    "        \n",
    "        fig.add_trace(go.Bar(\n",
    "            y=niveis,\n",
    "            x=counts,\n",
    "            name=genero,\n",
    "            orientation=\"h\",\n",
    "            marker=dict(color=cores[genero]),\n",
    "            text=[str(c) for c in counts],\n",
    "            textposition=\"outside\",\n",
    "            textfont=dict(color=\"black\"),\n",
    "            showlegend=True if i == 0 else False\n",
    "        ), row=1, col=i+1)\n",
    "\n",
    "# Configurando layout\n",
    "fig.update_layout(\n",
    "    title=\"Distribuição Absoluta por Gênero em Cada Nível de Formação Acadêmica (2021-2023)\",\n",
    "    xaxis_title=\"Quantidade\",\n",
    "    yaxis_title=\"Nível de Formação\",\n",
    "    barmode=\"group\",  # Barras lado a lado\n",
    "    height=800,\n",
    "    template=\"plotly_white\",\n",
    "    legend=dict(\n",
    "        orientation=\"h\",\n",
    "        yanchor=\"bottom\",\n",
    "        y=1.02,\n",
    "        xanchor=\"center\",\n",
    "        x=0.5\n",
    "    )\n",
    ")\n",
    "\n",
    "fig.show()\n"
   ]
  },
  {
   "cell_type": "code",
   "execution_count": 71,
   "metadata": {},
   "outputs": [
    {
     "name": "stderr",
     "output_type": "stream",
     "text": [
      "C:\\Users\\julli\\AppData\\Local\\Temp\\ipykernel_8168\\2918085246.py:1: FutureWarning:\n",
      "\n",
      "The default of observed=False is deprecated and will be changed to True in a future version of pandas. Pass observed=False to retain current behavior or observed=True to adopt the future default and silence this warning.\n",
      "\n",
      "C:\\Users\\julli\\AppData\\Local\\Temp\\ipykernel_8168\\2918085246.py:4: FutureWarning:\n",
      "\n",
      "The default of observed=False is deprecated and will be changed to True in a future version of pandas. Pass observed=False to retain current behavior or observed=True to adopt the future default and silence this warning.\n",
      "\n"
     ]
    },
    {
     "data": {
      "application/vnd.plotly.v1+json": {
       "config": {
        "plotlyServerURL": "https://plot.ly"
       },
       "data": [
        {
         "marker": {
          "color": "#673147"
         },
         "name": "Feminino",
         "orientation": "h",
         "showlegend": true,
         "text": "0",
         "textangle": 0,
         "textposition": "inside",
         "type": "bar",
         "width": 0.7,
         "x": [
          0
         ],
         "xaxis": "x",
         "y": [
          "Não tenho graduação formal"
         ],
         "yaxis": "y"
        },
        {
         "marker": {
          "color": "#708090"
         },
         "name": "Masculino",
         "orientation": "h",
         "showlegend": true,
         "text": "8",
         "textangle": 0,
         "textposition": "inside",
         "type": "bar",
         "width": 0.7,
         "x": [
          8
         ],
         "xaxis": "x",
         "y": [
          "Não tenho graduação formal"
         ],
         "yaxis": "y"
        },
        {
         "marker": {
          "color": "#673147"
         },
         "name": "Feminino",
         "orientation": "h",
         "showlegend": false,
         "text": "8",
         "textangle": 0,
         "textposition": "inside",
         "type": "bar",
         "width": 0.7,
         "x": [
          8
         ],
         "xaxis": "x",
         "y": [
          "Estudante de Graduação"
         ],
         "yaxis": "y"
        },
        {
         "marker": {
          "color": "#708090"
         },
         "name": "Masculino",
         "orientation": "h",
         "showlegend": false,
         "text": "28",
         "textangle": 0,
         "textposition": "inside",
         "type": "bar",
         "width": 0.7,
         "x": [
          28
         ],
         "xaxis": "x",
         "y": [
          "Estudante de Graduação"
         ],
         "yaxis": "y"
        },
        {
         "marker": {
          "color": "#673147"
         },
         "name": "Feminino",
         "orientation": "h",
         "showlegend": false,
         "text": "10",
         "textangle": 0,
         "textposition": "inside",
         "type": "bar",
         "width": 0.7,
         "x": [
          10
         ],
         "xaxis": "x",
         "y": [
          "Graduação/Bacharelado"
         ],
         "yaxis": "y"
        },
        {
         "marker": {
          "color": "#708090"
         },
         "name": "Masculino",
         "orientation": "h",
         "showlegend": false,
         "text": "52",
         "textangle": 0,
         "textposition": "inside",
         "type": "bar",
         "width": 0.7,
         "x": [
          52
         ],
         "xaxis": "x",
         "y": [
          "Graduação/Bacharelado"
         ],
         "yaxis": "y"
        },
        {
         "marker": {
          "color": "#673147"
         },
         "name": "Feminino",
         "orientation": "h",
         "showlegend": false,
         "text": "10",
         "textangle": 0,
         "textposition": "inside",
         "type": "bar",
         "width": 0.7,
         "x": [
          10
         ],
         "xaxis": "x",
         "y": [
          "Mestrado"
         ],
         "yaxis": "y"
        },
        {
         "marker": {
          "color": "#708090"
         },
         "name": "Masculino",
         "orientation": "h",
         "showlegend": false,
         "text": "30",
         "textangle": 0,
         "textposition": "inside",
         "type": "bar",
         "width": 0.7,
         "x": [
          30
         ],
         "xaxis": "x",
         "y": [
          "Mestrado"
         ],
         "yaxis": "y"
        },
        {
         "marker": {
          "color": "#673147"
         },
         "name": "Feminino",
         "orientation": "h",
         "showlegend": false,
         "text": "3",
         "textangle": 0,
         "textposition": "inside",
         "type": "bar",
         "width": 0.7,
         "x": [
          3
         ],
         "xaxis": "x",
         "y": [
          "Doutorado ou Phd"
         ],
         "yaxis": "y"
        },
        {
         "marker": {
          "color": "#708090"
         },
         "name": "Masculino",
         "orientation": "h",
         "showlegend": false,
         "text": "9",
         "textangle": 0,
         "textposition": "inside",
         "type": "bar",
         "width": 0.7,
         "x": [
          9
         ],
         "xaxis": "x",
         "y": [
          "Doutorado ou Phd"
         ],
         "yaxis": "y"
        },
        {
         "marker": {
          "color": "#673147"
         },
         "name": "Feminino",
         "orientation": "h",
         "showlegend": false,
         "text": "1",
         "textangle": 0,
         "textposition": "inside",
         "type": "bar",
         "width": 0.7,
         "x": [
          1
         ],
         "xaxis": "x2",
         "y": [
          "Não tenho graduação formal"
         ],
         "yaxis": "y2"
        },
        {
         "marker": {
          "color": "#708090"
         },
         "name": "Masculino",
         "orientation": "h",
         "showlegend": false,
         "text": "6",
         "textangle": 0,
         "textposition": "inside",
         "type": "bar",
         "width": 0.7,
         "x": [
          6
         ],
         "xaxis": "x2",
         "y": [
          "Não tenho graduação formal"
         ],
         "yaxis": "y2"
        },
        {
         "marker": {
          "color": "#673147"
         },
         "name": "Feminino",
         "orientation": "h",
         "showlegend": false,
         "text": "8",
         "textangle": 0,
         "textposition": "inside",
         "type": "bar",
         "width": 0.7,
         "x": [
          8
         ],
         "xaxis": "x2",
         "y": [
          "Estudante de Graduação"
         ],
         "yaxis": "y2"
        },
        {
         "marker": {
          "color": "#708090"
         },
         "name": "Masculino",
         "orientation": "h",
         "showlegend": false,
         "text": "48",
         "textangle": 0,
         "textposition": "inside",
         "type": "bar",
         "width": 0.7,
         "x": [
          48
         ],
         "xaxis": "x2",
         "y": [
          "Estudante de Graduação"
         ],
         "yaxis": "y2"
        },
        {
         "marker": {
          "color": "#673147"
         },
         "name": "Feminino",
         "orientation": "h",
         "showlegend": false,
         "text": "26",
         "textangle": 0,
         "textposition": "inside",
         "type": "bar",
         "width": 0.7,
         "x": [
          26
         ],
         "xaxis": "x2",
         "y": [
          "Graduação/Bacharelado"
         ],
         "yaxis": "y2"
        },
        {
         "marker": {
          "color": "#708090"
         },
         "name": "Masculino",
         "orientation": "h",
         "showlegend": false,
         "text": "82",
         "textangle": 0,
         "textposition": "inside",
         "type": "bar",
         "width": 0.7,
         "x": [
          82
         ],
         "xaxis": "x2",
         "y": [
          "Graduação/Bacharelado"
         ],
         "yaxis": "y2"
        },
        {
         "marker": {
          "color": "#673147"
         },
         "name": "Feminino",
         "orientation": "h",
         "showlegend": false,
         "text": "9",
         "textangle": 0,
         "textposition": "inside",
         "type": "bar",
         "width": 0.7,
         "x": [
          9
         ],
         "xaxis": "x2",
         "y": [
          "Mestrado"
         ],
         "yaxis": "y2"
        },
        {
         "marker": {
          "color": "#708090"
         },
         "name": "Masculino",
         "orientation": "h",
         "showlegend": false,
         "text": "41",
         "textangle": 0,
         "textposition": "inside",
         "type": "bar",
         "width": 0.7,
         "x": [
          41
         ],
         "xaxis": "x2",
         "y": [
          "Mestrado"
         ],
         "yaxis": "y2"
        },
        {
         "marker": {
          "color": "#673147"
         },
         "name": "Feminino",
         "orientation": "h",
         "showlegend": false,
         "text": "3",
         "textangle": 0,
         "textposition": "inside",
         "type": "bar",
         "width": 0.7,
         "x": [
          3
         ],
         "xaxis": "x2",
         "y": [
          "Doutorado ou Phd"
         ],
         "yaxis": "y2"
        },
        {
         "marker": {
          "color": "#708090"
         },
         "name": "Masculino",
         "orientation": "h",
         "showlegend": false,
         "text": "8",
         "textangle": 0,
         "textposition": "inside",
         "type": "bar",
         "width": 0.7,
         "x": [
          8
         ],
         "xaxis": "x2",
         "y": [
          "Doutorado ou Phd"
         ],
         "yaxis": "y2"
        },
        {
         "marker": {
          "color": "#673147"
         },
         "name": "Feminino",
         "orientation": "h",
         "showlegend": false,
         "text": "2",
         "textangle": 0,
         "textposition": "inside",
         "type": "bar",
         "width": 0.7,
         "x": [
          2
         ],
         "xaxis": "x3",
         "y": [
          "Não tenho graduação formal"
         ],
         "yaxis": "y3"
        },
        {
         "marker": {
          "color": "#708090"
         },
         "name": "Masculino",
         "orientation": "h",
         "showlegend": false,
         "text": "4",
         "textangle": 0,
         "textposition": "inside",
         "type": "bar",
         "width": 0.7,
         "x": [
          4
         ],
         "xaxis": "x3",
         "y": [
          "Não tenho graduação formal"
         ],
         "yaxis": "y3"
        },
        {
         "marker": {
          "color": "#673147"
         },
         "name": "Feminino",
         "orientation": "h",
         "showlegend": false,
         "text": "10",
         "textangle": 0,
         "textposition": "inside",
         "type": "bar",
         "width": 0.7,
         "x": [
          10
         ],
         "xaxis": "x3",
         "y": [
          "Estudante de Graduação"
         ],
         "yaxis": "y3"
        },
        {
         "marker": {
          "color": "#708090"
         },
         "name": "Masculino",
         "orientation": "h",
         "showlegend": false,
         "text": "57",
         "textangle": 0,
         "textposition": "inside",
         "type": "bar",
         "width": 0.7,
         "x": [
          57
         ],
         "xaxis": "x3",
         "y": [
          "Estudante de Graduação"
         ],
         "yaxis": "y3"
        },
        {
         "marker": {
          "color": "#673147"
         },
         "name": "Feminino",
         "orientation": "h",
         "showlegend": false,
         "text": "33",
         "textangle": 0,
         "textposition": "inside",
         "type": "bar",
         "width": 0.7,
         "x": [
          33
         ],
         "xaxis": "x3",
         "y": [
          "Graduação/Bacharelado"
         ],
         "yaxis": "y3"
        },
        {
         "marker": {
          "color": "#708090"
         },
         "name": "Masculino",
         "orientation": "h",
         "showlegend": false,
         "text": "105",
         "textangle": 0,
         "textposition": "inside",
         "type": "bar",
         "width": 0.7,
         "x": [
          105
         ],
         "xaxis": "x3",
         "y": [
          "Graduação/Bacharelado"
         ],
         "yaxis": "y3"
        },
        {
         "marker": {
          "color": "#673147"
         },
         "name": "Feminino",
         "orientation": "h",
         "showlegend": false,
         "text": "25",
         "textangle": 0,
         "textposition": "inside",
         "type": "bar",
         "width": 0.7,
         "x": [
          25
         ],
         "xaxis": "x3",
         "y": [
          "Mestrado"
         ],
         "yaxis": "y3"
        },
        {
         "marker": {
          "color": "#708090"
         },
         "name": "Masculino",
         "orientation": "h",
         "showlegend": false,
         "text": "47",
         "textangle": 0,
         "textposition": "inside",
         "type": "bar",
         "width": 0.7,
         "x": [
          47
         ],
         "xaxis": "x3",
         "y": [
          "Mestrado"
         ],
         "yaxis": "y3"
        },
        {
         "marker": {
          "color": "#673147"
         },
         "name": "Feminino",
         "orientation": "h",
         "showlegend": false,
         "text": "3",
         "textangle": 0,
         "textposition": "inside",
         "type": "bar",
         "width": 0.7,
         "x": [
          3
         ],
         "xaxis": "x3",
         "y": [
          "Doutorado ou Phd"
         ],
         "yaxis": "y3"
        },
        {
         "marker": {
          "color": "#708090"
         },
         "name": "Masculino",
         "orientation": "h",
         "showlegend": false,
         "text": "13",
         "textangle": 0,
         "textposition": "inside",
         "type": "bar",
         "width": 0.7,
         "x": [
          13
         ],
         "xaxis": "x3",
         "y": [
          "Doutorado ou Phd"
         ],
         "yaxis": "y3"
        },
        {
         "marker": {
          "color": "#673147"
         },
         "name": "Feminino",
         "orientation": "h",
         "showlegend": false,
         "text": "0",
         "textangle": 0,
         "textposition": "inside",
         "type": "bar",
         "width": 0.7,
         "x": [
          0
         ],
         "xaxis": "x4",
         "y": [
          "Não tenho graduação formal"
         ],
         "yaxis": "y4"
        },
        {
         "marker": {
          "color": "#708090"
         },
         "name": "Masculino",
         "orientation": "h",
         "showlegend": false,
         "text": "5",
         "textangle": 0,
         "textposition": "inside",
         "type": "bar",
         "width": 0.7,
         "x": [
          5
         ],
         "xaxis": "x4",
         "y": [
          "Não tenho graduação formal"
         ],
         "yaxis": "y4"
        },
        {
         "marker": {
          "color": "#673147"
         },
         "name": "Feminino",
         "orientation": "h",
         "showlegend": false,
         "text": "9",
         "textangle": 0,
         "textposition": "inside",
         "type": "bar",
         "width": 0.7,
         "x": [
          9
         ],
         "xaxis": "x4",
         "y": [
          "Estudante de Graduação"
         ],
         "yaxis": "y4"
        },
        {
         "marker": {
          "color": "#708090"
         },
         "name": "Masculino",
         "orientation": "h",
         "showlegend": false,
         "text": "38",
         "textangle": 0,
         "textposition": "inside",
         "type": "bar",
         "width": 0.7,
         "x": [
          38
         ],
         "xaxis": "x4",
         "y": [
          "Estudante de Graduação"
         ],
         "yaxis": "y4"
        },
        {
         "marker": {
          "color": "#673147"
         },
         "name": "Feminino",
         "orientation": "h",
         "showlegend": false,
         "text": "31",
         "textangle": 0,
         "textposition": "inside",
         "type": "bar",
         "width": 0.7,
         "x": [
          31
         ],
         "xaxis": "x4",
         "y": [
          "Graduação/Bacharelado"
         ],
         "yaxis": "y4"
        },
        {
         "marker": {
          "color": "#708090"
         },
         "name": "Masculino",
         "orientation": "h",
         "showlegend": false,
         "text": "111",
         "textangle": 0,
         "textposition": "inside",
         "type": "bar",
         "width": 0.7,
         "x": [
          111
         ],
         "xaxis": "x4",
         "y": [
          "Graduação/Bacharelado"
         ],
         "yaxis": "y4"
        },
        {
         "marker": {
          "color": "#673147"
         },
         "name": "Feminino",
         "orientation": "h",
         "showlegend": false,
         "text": "18",
         "textangle": 0,
         "textposition": "inside",
         "type": "bar",
         "width": 0.7,
         "x": [
          18
         ],
         "xaxis": "x4",
         "y": [
          "Mestrado"
         ],
         "yaxis": "y4"
        },
        {
         "marker": {
          "color": "#708090"
         },
         "name": "Masculino",
         "orientation": "h",
         "showlegend": false,
         "text": "38",
         "textangle": 0,
         "textposition": "inside",
         "type": "bar",
         "width": 0.7,
         "x": [
          38
         ],
         "xaxis": "x4",
         "y": [
          "Mestrado"
         ],
         "yaxis": "y4"
        },
        {
         "marker": {
          "color": "#673147"
         },
         "name": "Feminino",
         "orientation": "h",
         "showlegend": false,
         "text": "4",
         "textangle": 0,
         "textposition": "inside",
         "type": "bar",
         "width": 0.7,
         "x": [
          4
         ],
         "xaxis": "x4",
         "y": [
          "Doutorado ou Phd"
         ],
         "yaxis": "y4"
        },
        {
         "marker": {
          "color": "#708090"
         },
         "name": "Masculino",
         "orientation": "h",
         "showlegend": false,
         "text": "13",
         "textangle": 0,
         "textposition": "inside",
         "type": "bar",
         "width": 0.7,
         "x": [
          13
         ],
         "xaxis": "x4",
         "y": [
          "Doutorado ou Phd"
         ],
         "yaxis": "y4"
        }
       ],
       "layout": {
        "annotations": [
         {
          "font": {
           "size": 16
          },
          "showarrow": false,
          "text": "2021",
          "x": 0.10625,
          "xanchor": "center",
          "xref": "paper",
          "y": 1,
          "yanchor": "bottom",
          "yref": "paper"
         },
         {
          "font": {
           "size": 16
          },
          "showarrow": false,
          "text": "2022",
          "x": 0.36875,
          "xanchor": "center",
          "xref": "paper",
          "y": 1,
          "yanchor": "bottom",
          "yref": "paper"
         },
         {
          "font": {
           "size": 16
          },
          "showarrow": false,
          "text": "2023",
          "x": 0.6312500000000001,
          "xanchor": "center",
          "xref": "paper",
          "y": 1,
          "yanchor": "bottom",
          "yref": "paper"
         },
         {
          "font": {
           "size": 16
          },
          "showarrow": false,
          "text": "2024",
          "x": 0.89375,
          "xanchor": "center",
          "xref": "paper",
          "y": 1,
          "yanchor": "bottom",
          "yref": "paper"
         }
        ],
        "bargap": 0.2,
        "bargroupgap": 0.1,
        "barmode": "stack",
        "height": 600,
        "legend": {
         "orientation": "h",
         "x": 0.5,
         "xanchor": "center",
         "y": 1.02,
         "yanchor": "bottom"
        },
        "template": {
         "data": {
          "bar": [
           {
            "error_x": {
             "color": "#2a3f5f"
            },
            "error_y": {
             "color": "#2a3f5f"
            },
            "marker": {
             "line": {
              "color": "white",
              "width": 0.5
             },
             "pattern": {
              "fillmode": "overlay",
              "size": 10,
              "solidity": 0.2
             }
            },
            "type": "bar"
           }
          ],
          "barpolar": [
           {
            "marker": {
             "line": {
              "color": "white",
              "width": 0.5
             },
             "pattern": {
              "fillmode": "overlay",
              "size": 10,
              "solidity": 0.2
             }
            },
            "type": "barpolar"
           }
          ],
          "carpet": [
           {
            "aaxis": {
             "endlinecolor": "#2a3f5f",
             "gridcolor": "#C8D4E3",
             "linecolor": "#C8D4E3",
             "minorgridcolor": "#C8D4E3",
             "startlinecolor": "#2a3f5f"
            },
            "baxis": {
             "endlinecolor": "#2a3f5f",
             "gridcolor": "#C8D4E3",
             "linecolor": "#C8D4E3",
             "minorgridcolor": "#C8D4E3",
             "startlinecolor": "#2a3f5f"
            },
            "type": "carpet"
           }
          ],
          "choropleth": [
           {
            "colorbar": {
             "outlinewidth": 0,
             "ticks": ""
            },
            "type": "choropleth"
           }
          ],
          "contour": [
           {
            "colorbar": {
             "outlinewidth": 0,
             "ticks": ""
            },
            "colorscale": [
             [
              0,
              "#0d0887"
             ],
             [
              0.1111111111111111,
              "#46039f"
             ],
             [
              0.2222222222222222,
              "#7201a8"
             ],
             [
              0.3333333333333333,
              "#9c179e"
             ],
             [
              0.4444444444444444,
              "#bd3786"
             ],
             [
              0.5555555555555556,
              "#d8576b"
             ],
             [
              0.6666666666666666,
              "#ed7953"
             ],
             [
              0.7777777777777778,
              "#fb9f3a"
             ],
             [
              0.8888888888888888,
              "#fdca26"
             ],
             [
              1,
              "#f0f921"
             ]
            ],
            "type": "contour"
           }
          ],
          "contourcarpet": [
           {
            "colorbar": {
             "outlinewidth": 0,
             "ticks": ""
            },
            "type": "contourcarpet"
           }
          ],
          "heatmap": [
           {
            "colorbar": {
             "outlinewidth": 0,
             "ticks": ""
            },
            "colorscale": [
             [
              0,
              "#0d0887"
             ],
             [
              0.1111111111111111,
              "#46039f"
             ],
             [
              0.2222222222222222,
              "#7201a8"
             ],
             [
              0.3333333333333333,
              "#9c179e"
             ],
             [
              0.4444444444444444,
              "#bd3786"
             ],
             [
              0.5555555555555556,
              "#d8576b"
             ],
             [
              0.6666666666666666,
              "#ed7953"
             ],
             [
              0.7777777777777778,
              "#fb9f3a"
             ],
             [
              0.8888888888888888,
              "#fdca26"
             ],
             [
              1,
              "#f0f921"
             ]
            ],
            "type": "heatmap"
           }
          ],
          "heatmapgl": [
           {
            "colorbar": {
             "outlinewidth": 0,
             "ticks": ""
            },
            "colorscale": [
             [
              0,
              "#0d0887"
             ],
             [
              0.1111111111111111,
              "#46039f"
             ],
             [
              0.2222222222222222,
              "#7201a8"
             ],
             [
              0.3333333333333333,
              "#9c179e"
             ],
             [
              0.4444444444444444,
              "#bd3786"
             ],
             [
              0.5555555555555556,
              "#d8576b"
             ],
             [
              0.6666666666666666,
              "#ed7953"
             ],
             [
              0.7777777777777778,
              "#fb9f3a"
             ],
             [
              0.8888888888888888,
              "#fdca26"
             ],
             [
              1,
              "#f0f921"
             ]
            ],
            "type": "heatmapgl"
           }
          ],
          "histogram": [
           {
            "marker": {
             "pattern": {
              "fillmode": "overlay",
              "size": 10,
              "solidity": 0.2
             }
            },
            "type": "histogram"
           }
          ],
          "histogram2d": [
           {
            "colorbar": {
             "outlinewidth": 0,
             "ticks": ""
            },
            "colorscale": [
             [
              0,
              "#0d0887"
             ],
             [
              0.1111111111111111,
              "#46039f"
             ],
             [
              0.2222222222222222,
              "#7201a8"
             ],
             [
              0.3333333333333333,
              "#9c179e"
             ],
             [
              0.4444444444444444,
              "#bd3786"
             ],
             [
              0.5555555555555556,
              "#d8576b"
             ],
             [
              0.6666666666666666,
              "#ed7953"
             ],
             [
              0.7777777777777778,
              "#fb9f3a"
             ],
             [
              0.8888888888888888,
              "#fdca26"
             ],
             [
              1,
              "#f0f921"
             ]
            ],
            "type": "histogram2d"
           }
          ],
          "histogram2dcontour": [
           {
            "colorbar": {
             "outlinewidth": 0,
             "ticks": ""
            },
            "colorscale": [
             [
              0,
              "#0d0887"
             ],
             [
              0.1111111111111111,
              "#46039f"
             ],
             [
              0.2222222222222222,
              "#7201a8"
             ],
             [
              0.3333333333333333,
              "#9c179e"
             ],
             [
              0.4444444444444444,
              "#bd3786"
             ],
             [
              0.5555555555555556,
              "#d8576b"
             ],
             [
              0.6666666666666666,
              "#ed7953"
             ],
             [
              0.7777777777777778,
              "#fb9f3a"
             ],
             [
              0.8888888888888888,
              "#fdca26"
             ],
             [
              1,
              "#f0f921"
             ]
            ],
            "type": "histogram2dcontour"
           }
          ],
          "mesh3d": [
           {
            "colorbar": {
             "outlinewidth": 0,
             "ticks": ""
            },
            "type": "mesh3d"
           }
          ],
          "parcoords": [
           {
            "line": {
             "colorbar": {
              "outlinewidth": 0,
              "ticks": ""
             }
            },
            "type": "parcoords"
           }
          ],
          "pie": [
           {
            "automargin": true,
            "type": "pie"
           }
          ],
          "scatter": [
           {
            "fillpattern": {
             "fillmode": "overlay",
             "size": 10,
             "solidity": 0.2
            },
            "type": "scatter"
           }
          ],
          "scatter3d": [
           {
            "line": {
             "colorbar": {
              "outlinewidth": 0,
              "ticks": ""
             }
            },
            "marker": {
             "colorbar": {
              "outlinewidth": 0,
              "ticks": ""
             }
            },
            "type": "scatter3d"
           }
          ],
          "scattercarpet": [
           {
            "marker": {
             "colorbar": {
              "outlinewidth": 0,
              "ticks": ""
             }
            },
            "type": "scattercarpet"
           }
          ],
          "scattergeo": [
           {
            "marker": {
             "colorbar": {
              "outlinewidth": 0,
              "ticks": ""
             }
            },
            "type": "scattergeo"
           }
          ],
          "scattergl": [
           {
            "marker": {
             "colorbar": {
              "outlinewidth": 0,
              "ticks": ""
             }
            },
            "type": "scattergl"
           }
          ],
          "scattermapbox": [
           {
            "marker": {
             "colorbar": {
              "outlinewidth": 0,
              "ticks": ""
             }
            },
            "type": "scattermapbox"
           }
          ],
          "scatterpolar": [
           {
            "marker": {
             "colorbar": {
              "outlinewidth": 0,
              "ticks": ""
             }
            },
            "type": "scatterpolar"
           }
          ],
          "scatterpolargl": [
           {
            "marker": {
             "colorbar": {
              "outlinewidth": 0,
              "ticks": ""
             }
            },
            "type": "scatterpolargl"
           }
          ],
          "scatterternary": [
           {
            "marker": {
             "colorbar": {
              "outlinewidth": 0,
              "ticks": ""
             }
            },
            "type": "scatterternary"
           }
          ],
          "surface": [
           {
            "colorbar": {
             "outlinewidth": 0,
             "ticks": ""
            },
            "colorscale": [
             [
              0,
              "#0d0887"
             ],
             [
              0.1111111111111111,
              "#46039f"
             ],
             [
              0.2222222222222222,
              "#7201a8"
             ],
             [
              0.3333333333333333,
              "#9c179e"
             ],
             [
              0.4444444444444444,
              "#bd3786"
             ],
             [
              0.5555555555555556,
              "#d8576b"
             ],
             [
              0.6666666666666666,
              "#ed7953"
             ],
             [
              0.7777777777777778,
              "#fb9f3a"
             ],
             [
              0.8888888888888888,
              "#fdca26"
             ],
             [
              1,
              "#f0f921"
             ]
            ],
            "type": "surface"
           }
          ],
          "table": [
           {
            "cells": {
             "fill": {
              "color": "#EBF0F8"
             },
             "line": {
              "color": "white"
             }
            },
            "header": {
             "fill": {
              "color": "#C8D4E3"
             },
             "line": {
              "color": "white"
             }
            },
            "type": "table"
           }
          ]
         },
         "layout": {
          "annotationdefaults": {
           "arrowcolor": "#2a3f5f",
           "arrowhead": 0,
           "arrowwidth": 1
          },
          "autotypenumbers": "strict",
          "coloraxis": {
           "colorbar": {
            "outlinewidth": 0,
            "ticks": ""
           }
          },
          "colorscale": {
           "diverging": [
            [
             0,
             "#8e0152"
            ],
            [
             0.1,
             "#c51b7d"
            ],
            [
             0.2,
             "#de77ae"
            ],
            [
             0.3,
             "#f1b6da"
            ],
            [
             0.4,
             "#fde0ef"
            ],
            [
             0.5,
             "#f7f7f7"
            ],
            [
             0.6,
             "#e6f5d0"
            ],
            [
             0.7,
             "#b8e186"
            ],
            [
             0.8,
             "#7fbc41"
            ],
            [
             0.9,
             "#4d9221"
            ],
            [
             1,
             "#276419"
            ]
           ],
           "sequential": [
            [
             0,
             "#0d0887"
            ],
            [
             0.1111111111111111,
             "#46039f"
            ],
            [
             0.2222222222222222,
             "#7201a8"
            ],
            [
             0.3333333333333333,
             "#9c179e"
            ],
            [
             0.4444444444444444,
             "#bd3786"
            ],
            [
             0.5555555555555556,
             "#d8576b"
            ],
            [
             0.6666666666666666,
             "#ed7953"
            ],
            [
             0.7777777777777778,
             "#fb9f3a"
            ],
            [
             0.8888888888888888,
             "#fdca26"
            ],
            [
             1,
             "#f0f921"
            ]
           ],
           "sequentialminus": [
            [
             0,
             "#0d0887"
            ],
            [
             0.1111111111111111,
             "#46039f"
            ],
            [
             0.2222222222222222,
             "#7201a8"
            ],
            [
             0.3333333333333333,
             "#9c179e"
            ],
            [
             0.4444444444444444,
             "#bd3786"
            ],
            [
             0.5555555555555556,
             "#d8576b"
            ],
            [
             0.6666666666666666,
             "#ed7953"
            ],
            [
             0.7777777777777778,
             "#fb9f3a"
            ],
            [
             0.8888888888888888,
             "#fdca26"
            ],
            [
             1,
             "#f0f921"
            ]
           ]
          },
          "colorway": [
           "#636efa",
           "#EF553B",
           "#00cc96",
           "#ab63fa",
           "#FFA15A",
           "#19d3f3",
           "#FF6692",
           "#B6E880",
           "#FF97FF",
           "#FECB52"
          ],
          "font": {
           "color": "#2a3f5f"
          },
          "geo": {
           "bgcolor": "white",
           "lakecolor": "white",
           "landcolor": "white",
           "showlakes": true,
           "showland": true,
           "subunitcolor": "#C8D4E3"
          },
          "hoverlabel": {
           "align": "left"
          },
          "hovermode": "closest",
          "mapbox": {
           "style": "light"
          },
          "paper_bgcolor": "white",
          "plot_bgcolor": "white",
          "polar": {
           "angularaxis": {
            "gridcolor": "#EBF0F8",
            "linecolor": "#EBF0F8",
            "ticks": ""
           },
           "bgcolor": "white",
           "radialaxis": {
            "gridcolor": "#EBF0F8",
            "linecolor": "#EBF0F8",
            "ticks": ""
           }
          },
          "scene": {
           "xaxis": {
            "backgroundcolor": "white",
            "gridcolor": "#DFE8F3",
            "gridwidth": 2,
            "linecolor": "#EBF0F8",
            "showbackground": true,
            "ticks": "",
            "zerolinecolor": "#EBF0F8"
           },
           "yaxis": {
            "backgroundcolor": "white",
            "gridcolor": "#DFE8F3",
            "gridwidth": 2,
            "linecolor": "#EBF0F8",
            "showbackground": true,
            "ticks": "",
            "zerolinecolor": "#EBF0F8"
           },
           "zaxis": {
            "backgroundcolor": "white",
            "gridcolor": "#DFE8F3",
            "gridwidth": 2,
            "linecolor": "#EBF0F8",
            "showbackground": true,
            "ticks": "",
            "zerolinecolor": "#EBF0F8"
           }
          },
          "shapedefaults": {
           "line": {
            "color": "#2a3f5f"
           }
          },
          "ternary": {
           "aaxis": {
            "gridcolor": "#DFE8F3",
            "linecolor": "#A2B1C6",
            "ticks": ""
           },
           "baxis": {
            "gridcolor": "#DFE8F3",
            "linecolor": "#A2B1C6",
            "ticks": ""
           },
           "bgcolor": "white",
           "caxis": {
            "gridcolor": "#DFE8F3",
            "linecolor": "#A2B1C6",
            "ticks": ""
           }
          },
          "title": {
           "x": 0.05
          },
          "xaxis": {
           "automargin": true,
           "gridcolor": "#EBF0F8",
           "linecolor": "#EBF0F8",
           "ticks": "",
           "title": {
            "standoff": 15
           },
           "zerolinecolor": "#EBF0F8",
           "zerolinewidth": 2
          },
          "yaxis": {
           "automargin": true,
           "gridcolor": "#EBF0F8",
           "linecolor": "#EBF0F8",
           "ticks": "",
           "title": {
            "standoff": 15
           },
           "zerolinecolor": "#EBF0F8",
           "zerolinewidth": 2
          }
         }
        },
        "title": {
         "text": "Distribuição por Gênero em Cada Nível de Formação Acadêmica (2021-2023)"
        },
        "uniformtext": {
         "minsize": 10,
         "mode": "hide"
        },
        "xaxis": {
         "anchor": "y",
         "domain": [
          0,
          0.2125
         ],
         "range": [
          0,
          122.10000000000001
         ],
         "tickformat": ",d",
         "title": {
          "text": "Contagem Absoluta"
         }
        },
        "xaxis2": {
         "anchor": "y2",
         "domain": [
          0.2625,
          0.475
         ],
         "range": [
          0,
          122.10000000000001
         ],
         "tickformat": ",d"
        },
        "xaxis3": {
         "anchor": "y3",
         "domain": [
          0.525,
          0.7375
         ],
         "range": [
          0,
          122.10000000000001
         ],
         "tickformat": ",d"
        },
        "xaxis4": {
         "anchor": "y4",
         "domain": [
          0.7875,
          1
         ],
         "range": [
          0,
          122.10000000000001
         ],
         "tickformat": ",d"
        },
        "yaxis": {
         "anchor": "x",
         "categoryarray": [
          "Não tenho graduação formal",
          "Estudante de Graduação",
          "Graduação/Bacharelado",
          "Pós-graduação",
          "Mestrado",
          "Doutorado ou Phd"
         ],
         "categoryorder": "array",
         "domain": [
          0,
          1
         ],
         "title": {
          "text": "Nível de Formação"
         }
        },
        "yaxis2": {
         "anchor": "x2",
         "categoryarray": [
          "Não tenho graduação formal",
          "Estudante de Graduação",
          "Graduação/Bacharelado",
          "Pós-graduação",
          "Mestrado",
          "Doutorado ou Phd"
         ],
         "categoryorder": "array",
         "domain": [
          0,
          1
         ],
         "matches": "y",
         "showticklabels": false
        },
        "yaxis3": {
         "anchor": "x3",
         "categoryarray": [
          "Não tenho graduação formal",
          "Estudante de Graduação",
          "Graduação/Bacharelado",
          "Pós-graduação",
          "Mestrado",
          "Doutorado ou Phd"
         ],
         "categoryorder": "array",
         "domain": [
          0,
          1
         ],
         "matches": "y",
         "showticklabels": false
        },
        "yaxis4": {
         "anchor": "x4",
         "categoryarray": [
          "Não tenho graduação formal",
          "Estudante de Graduação",
          "Graduação/Bacharelado",
          "Pós-graduação",
          "Mestrado",
          "Doutorado ou Phd"
         ],
         "categoryorder": "array",
         "domain": [
          0,
          1
         ],
         "matches": "y",
         "showticklabels": false
        }
       }
      }
     },
     "metadata": {},
     "output_type": "display_data"
    }
   ],
   "source": [
    "df_grouped = df_rj.groupby([\"ano_pesquisa\", \"nivel_ensino\", \"genero\"]).size().reset_index(name=\"count\")\n",
    "\n",
    "# Não precisamos mais calcular a proporção, mas podemos manter os totais por nível para referência\n",
    "totais_por_ano_nivel = df_rj.groupby([\"ano_pesquisa\", \"nivel_ensino\"]).size().reset_index(name=\"total_nivel\")\n",
    "df_grouped = df_grouped.merge(totais_por_ano_nivel, on=[\"ano_pesquisa\", \"nivel_ensino\"])\n",
    "\n",
    "fig = make_subplots(rows=1, cols=4, shared_yaxes=True, subplot_titles=[\"2021\", \"2022\", \"2023\", \"2024\"])\n",
    "\n",
    "anos = ['2021', '2022', '2023', '2024']\n",
    "cores = {\"Masculino\": \"#708090\", \"Feminino\": \"#673147\"}\n",
    "\n",
    "ordem_niveis = [\n",
    "    'Não tenho graduação formal', \n",
    "    'Estudante de Graduação',\n",
    "    'Graduação/Bacharelado', \n",
    "    'Pós-graduação',\n",
    "    'Mestrado',\n",
    "    'Doutorado ou Phd'\n",
    "]\n",
    "\n",
    "# Definir uma largura fixa para as barras\n",
    "largura_barra = 0.7\n",
    "\n",
    "for i, ano in enumerate(anos):\n",
    "   \n",
    "    df_ano = df_grouped[df_grouped[\"ano_pesquisa\"] == ano]\n",
    "    \n",
    "    for nivel in ordem_niveis:\n",
    "        df_nivel = df_ano[df_ano[\"nivel_ensino\"] == nivel]\n",
    "        \n",
    "        if df_nivel.empty:\n",
    "            continue\n",
    "        \n",
    "        # Usando valores absolutos (count) em vez de proporção\n",
    "        contagens = {genero: df_nivel[df_nivel[\"genero\"] == genero][\"count\"].values[0] \n",
    "                      if not df_nivel[df_nivel[\"genero\"] == genero].empty else 0 \n",
    "                      for genero in [\"Masculino\", \"Feminino\"]}\n",
    "        \n",
    "        for genero in [\"Feminino\", \"Masculino\"]:\n",
    "            fig.add_trace(go.Bar(\n",
    "                y=[nivel],\n",
    "                x=[contagens[genero]],\n",
    "                name=genero,\n",
    "                orientation=\"h\",\n",
    "                marker=dict(color=cores[genero]),\n",
    "                text=f\"{int(contagens[genero])}\",  # Formatando como número inteiro\n",
    "                textposition=\"inside\",\n",
    "                textangle=0,  # Garantindo que o texto esteja na horizontal\n",
    "                width=largura_barra,  # Definindo uma largura fixa para todas as barras\n",
    "                showlegend=True if i == 0 and nivel == ordem_niveis[0] else False\n",
    "            ), row=1, col=i+1)\n",
    "\n",
    "# Configurando layout\n",
    "fig.update_layout(\n",
    "    title=\"Distribuição por Gênero em Cada Nível de Formação Acadêmica (2021-2023)\",\n",
    "    xaxis_title=\"Contagem Absoluta\",\n",
    "    yaxis_title=\"Nível de Formação\",\n",
    "    barmode=\"stack\",\n",
    "    height=600,\n",
    "    template=\"plotly_white\",\n",
    "    legend=dict(\n",
    "        orientation=\"h\",\n",
    "        yanchor=\"bottom\",\n",
    "        y=1.02,\n",
    "        xanchor=\"center\",\n",
    "        x=0.5\n",
    "    ),\n",
    "    uniformtext_minsize=10,  # Tamanho mínimo do texto para garantir legibilidade\n",
    "    uniformtext_mode='hide',  # Esconde o texto se não couber na barra\n",
    "    bargap=0.2,  # Espaçamento entre grupos de barras\n",
    "    bargroupgap=0.1  # Espaçamento entre barras do mesmo grupo\n",
    ")\n",
    "\n",
    "# Ajustando os eixos X e configurando uniformidade entre os subplots\n",
    "max_value = df_grouped[\"count\"].max() * 1.1  # 10% a mais para dar margem\n",
    "\n",
    "for i in range(1, 5):\n",
    "    fig.update_xaxes(\n",
    "        row=1, \n",
    "        col=i, \n",
    "        range=[0, max_value],  # Definindo a mesma escala para todos os gráficos\n",
    "        tickformat=\",d\"  # Formato para inteiros com separador de milhar\n",
    "    )\n",
    "\n",
    "# Definindo a mesma escala para o eixo Y em todos os subplots\n",
    "fig.update_yaxes(\n",
    "    categoryorder='array',\n",
    "    categoryarray=ordem_niveis\n",
    ")\n",
    "    \n",
    "fig.show()"
   ]
  },
  {
   "cell_type": "code",
   "execution_count": 72,
   "metadata": {},
   "outputs": [
    {
     "name": "stderr",
     "output_type": "stream",
     "text": [
      "C:\\Users\\julli\\AppData\\Local\\Temp\\ipykernel_8168\\2750855949.py:1: FutureWarning:\n",
      "\n",
      "The default of observed=False is deprecated and will be changed to True in a future version of pandas. Pass observed=False to retain current behavior or observed=True to adopt the future default and silence this warning.\n",
      "\n"
     ]
    },
    {
     "data": {
      "application/vnd.plotly.v1+json": {
       "config": {
        "plotlyServerURL": "https://plot.ly"
       },
       "data": [
        {
         "marker": {
          "color": "#673147"
         },
         "name": "Feminino",
         "orientation": "h",
         "showlegend": true,
         "text": [
          "0",
          "8",
          "10",
          "13",
          "10",
          "3"
         ],
         "textfont": {
          "color": "black",
          "size": 10
         },
         "textposition": "outside",
         "type": "bar",
         "x": [
          0,
          8,
          10,
          13,
          10,
          3
         ],
         "xaxis": "x",
         "y": [
          "Não tenho graduação formal",
          "Estudante de Graduação",
          "Graduação/Bacharelado",
          "Especialização Lato Sensu",
          "Mestrado",
          "Doutorado ou Phd"
         ],
         "yaxis": "y"
        },
        {
         "marker": {
          "color": "#708090"
         },
         "name": "Masculino",
         "orientation": "h",
         "showlegend": true,
         "text": [
          "8",
          "28",
          "52",
          "50",
          "30",
          "9"
         ],
         "textfont": {
          "color": "black",
          "size": 10
         },
         "textposition": "outside",
         "type": "bar",
         "x": [
          8,
          28,
          52,
          50,
          30,
          9
         ],
         "xaxis": "x",
         "y": [
          "Não tenho graduação formal",
          "Estudante de Graduação",
          "Graduação/Bacharelado",
          "Especialização Lato Sensu",
          "Mestrado",
          "Doutorado ou Phd"
         ],
         "yaxis": "y"
        },
        {
         "marker": {
          "color": "#673147"
         },
         "name": "Feminino",
         "orientation": "h",
         "showlegend": false,
         "text": [
          "1",
          "8",
          "26",
          "30",
          "9",
          "3"
         ],
         "textfont": {
          "color": "black",
          "size": 10
         },
         "textposition": "outside",
         "type": "bar",
         "x": [
          1,
          8,
          26,
          30,
          9,
          3
         ],
         "xaxis": "x2",
         "y": [
          "Não tenho graduação formal",
          "Estudante de Graduação",
          "Graduação/Bacharelado",
          "Especialização Lato Sensu",
          "Mestrado",
          "Doutorado ou Phd"
         ],
         "yaxis": "y2"
        },
        {
         "marker": {
          "color": "#708090"
         },
         "name": "Masculino",
         "orientation": "h",
         "showlegend": false,
         "text": [
          "6",
          "48",
          "82",
          "74",
          "41",
          "8"
         ],
         "textfont": {
          "color": "black",
          "size": 10
         },
         "textposition": "outside",
         "type": "bar",
         "x": [
          6,
          48,
          82,
          74,
          41,
          8
         ],
         "xaxis": "x2",
         "y": [
          "Não tenho graduação formal",
          "Estudante de Graduação",
          "Graduação/Bacharelado",
          "Especialização Lato Sensu",
          "Mestrado",
          "Doutorado ou Phd"
         ],
         "yaxis": "y2"
        },
        {
         "marker": {
          "color": "#673147"
         },
         "name": "Feminino",
         "orientation": "h",
         "showlegend": false,
         "text": [
          "2",
          "10",
          "33",
          "36",
          "25",
          "3"
         ],
         "textfont": {
          "color": "black",
          "size": 10
         },
         "textposition": "outside",
         "type": "bar",
         "x": [
          2,
          10,
          33,
          36,
          25,
          3
         ],
         "xaxis": "x3",
         "y": [
          "Não tenho graduação formal",
          "Estudante de Graduação",
          "Graduação/Bacharelado",
          "Especialização Lato Sensu",
          "Mestrado",
          "Doutorado ou Phd"
         ],
         "yaxis": "y3"
        },
        {
         "marker": {
          "color": "#708090"
         },
         "name": "Masculino",
         "orientation": "h",
         "showlegend": false,
         "text": [
          "4",
          "57",
          "105",
          "100",
          "47",
          "13"
         ],
         "textfont": {
          "color": "black",
          "size": 10
         },
         "textposition": "outside",
         "type": "bar",
         "x": [
          4,
          57,
          105,
          100,
          47,
          13
         ],
         "xaxis": "x3",
         "y": [
          "Não tenho graduação formal",
          "Estudante de Graduação",
          "Graduação/Bacharelado",
          "Especialização Lato Sensu",
          "Mestrado",
          "Doutorado ou Phd"
         ],
         "yaxis": "y3"
        },
        {
         "marker": {
          "color": "#673147"
         },
         "name": "Feminino",
         "orientation": "h",
         "showlegend": false,
         "text": [
          "0",
          "9",
          "31",
          "39",
          "18",
          "4"
         ],
         "textfont": {
          "color": "black",
          "size": 10
         },
         "textposition": "outside",
         "type": "bar",
         "x": [
          0,
          9,
          31,
          39,
          18,
          4
         ],
         "xaxis": "x4",
         "y": [
          "Não tenho graduação formal",
          "Estudante de Graduação",
          "Graduação/Bacharelado",
          "Especialização Lato Sensu",
          "Mestrado",
          "Doutorado ou Phd"
         ],
         "yaxis": "y4"
        },
        {
         "marker": {
          "color": "#708090"
         },
         "name": "Masculino",
         "orientation": "h",
         "showlegend": false,
         "text": [
          "5",
          "38",
          "111",
          "88",
          "38",
          "13"
         ],
         "textfont": {
          "color": "black",
          "size": 10
         },
         "textposition": "outside",
         "type": "bar",
         "x": [
          5,
          38,
          111,
          88,
          38,
          13
         ],
         "xaxis": "x4",
         "y": [
          "Não tenho graduação formal",
          "Estudante de Graduação",
          "Graduação/Bacharelado",
          "Especialização Lato Sensu",
          "Mestrado",
          "Doutorado ou Phd"
         ],
         "yaxis": "y4"
        }
       ],
       "layout": {
        "annotations": [
         {
          "font": {
           "size": 16
          },
          "showarrow": false,
          "text": "2021",
          "x": 0.09875,
          "xanchor": "center",
          "xref": "paper",
          "y": 1,
          "yanchor": "bottom",
          "yref": "paper"
         },
         {
          "font": {
           "size": 16
          },
          "showarrow": false,
          "text": "2022",
          "x": 0.36625,
          "xanchor": "center",
          "xref": "paper",
          "y": 1,
          "yanchor": "bottom",
          "yref": "paper"
         },
         {
          "font": {
           "size": 16
          },
          "showarrow": false,
          "text": "2023",
          "x": 0.63375,
          "xanchor": "center",
          "xref": "paper",
          "y": 1,
          "yanchor": "bottom",
          "yref": "paper"
         },
         {
          "font": {
           "size": 16
          },
          "showarrow": false,
          "text": "2024",
          "x": 0.90125,
          "xanchor": "center",
          "xref": "paper",
          "y": 1,
          "yanchor": "bottom",
          "yref": "paper"
         }
        ],
        "barmode": "group",
        "font": {
         "size": 11
        },
        "height": 800,
        "legend": {
         "font": {
          "size": 10
         },
         "orientation": "h",
         "x": 0.5,
         "xanchor": "center",
         "y": 1.02,
         "yanchor": "bottom"
        },
        "template": {
         "data": {
          "bar": [
           {
            "error_x": {
             "color": "#2a3f5f"
            },
            "error_y": {
             "color": "#2a3f5f"
            },
            "marker": {
             "line": {
              "color": "white",
              "width": 0.5
             },
             "pattern": {
              "fillmode": "overlay",
              "size": 10,
              "solidity": 0.2
             }
            },
            "type": "bar"
           }
          ],
          "barpolar": [
           {
            "marker": {
             "line": {
              "color": "white",
              "width": 0.5
             },
             "pattern": {
              "fillmode": "overlay",
              "size": 10,
              "solidity": 0.2
             }
            },
            "type": "barpolar"
           }
          ],
          "carpet": [
           {
            "aaxis": {
             "endlinecolor": "#2a3f5f",
             "gridcolor": "#C8D4E3",
             "linecolor": "#C8D4E3",
             "minorgridcolor": "#C8D4E3",
             "startlinecolor": "#2a3f5f"
            },
            "baxis": {
             "endlinecolor": "#2a3f5f",
             "gridcolor": "#C8D4E3",
             "linecolor": "#C8D4E3",
             "minorgridcolor": "#C8D4E3",
             "startlinecolor": "#2a3f5f"
            },
            "type": "carpet"
           }
          ],
          "choropleth": [
           {
            "colorbar": {
             "outlinewidth": 0,
             "ticks": ""
            },
            "type": "choropleth"
           }
          ],
          "contour": [
           {
            "colorbar": {
             "outlinewidth": 0,
             "ticks": ""
            },
            "colorscale": [
             [
              0,
              "#0d0887"
             ],
             [
              0.1111111111111111,
              "#46039f"
             ],
             [
              0.2222222222222222,
              "#7201a8"
             ],
             [
              0.3333333333333333,
              "#9c179e"
             ],
             [
              0.4444444444444444,
              "#bd3786"
             ],
             [
              0.5555555555555556,
              "#d8576b"
             ],
             [
              0.6666666666666666,
              "#ed7953"
             ],
             [
              0.7777777777777778,
              "#fb9f3a"
             ],
             [
              0.8888888888888888,
              "#fdca26"
             ],
             [
              1,
              "#f0f921"
             ]
            ],
            "type": "contour"
           }
          ],
          "contourcarpet": [
           {
            "colorbar": {
             "outlinewidth": 0,
             "ticks": ""
            },
            "type": "contourcarpet"
           }
          ],
          "heatmap": [
           {
            "colorbar": {
             "outlinewidth": 0,
             "ticks": ""
            },
            "colorscale": [
             [
              0,
              "#0d0887"
             ],
             [
              0.1111111111111111,
              "#46039f"
             ],
             [
              0.2222222222222222,
              "#7201a8"
             ],
             [
              0.3333333333333333,
              "#9c179e"
             ],
             [
              0.4444444444444444,
              "#bd3786"
             ],
             [
              0.5555555555555556,
              "#d8576b"
             ],
             [
              0.6666666666666666,
              "#ed7953"
             ],
             [
              0.7777777777777778,
              "#fb9f3a"
             ],
             [
              0.8888888888888888,
              "#fdca26"
             ],
             [
              1,
              "#f0f921"
             ]
            ],
            "type": "heatmap"
           }
          ],
          "heatmapgl": [
           {
            "colorbar": {
             "outlinewidth": 0,
             "ticks": ""
            },
            "colorscale": [
             [
              0,
              "#0d0887"
             ],
             [
              0.1111111111111111,
              "#46039f"
             ],
             [
              0.2222222222222222,
              "#7201a8"
             ],
             [
              0.3333333333333333,
              "#9c179e"
             ],
             [
              0.4444444444444444,
              "#bd3786"
             ],
             [
              0.5555555555555556,
              "#d8576b"
             ],
             [
              0.6666666666666666,
              "#ed7953"
             ],
             [
              0.7777777777777778,
              "#fb9f3a"
             ],
             [
              0.8888888888888888,
              "#fdca26"
             ],
             [
              1,
              "#f0f921"
             ]
            ],
            "type": "heatmapgl"
           }
          ],
          "histogram": [
           {
            "marker": {
             "pattern": {
              "fillmode": "overlay",
              "size": 10,
              "solidity": 0.2
             }
            },
            "type": "histogram"
           }
          ],
          "histogram2d": [
           {
            "colorbar": {
             "outlinewidth": 0,
             "ticks": ""
            },
            "colorscale": [
             [
              0,
              "#0d0887"
             ],
             [
              0.1111111111111111,
              "#46039f"
             ],
             [
              0.2222222222222222,
              "#7201a8"
             ],
             [
              0.3333333333333333,
              "#9c179e"
             ],
             [
              0.4444444444444444,
              "#bd3786"
             ],
             [
              0.5555555555555556,
              "#d8576b"
             ],
             [
              0.6666666666666666,
              "#ed7953"
             ],
             [
              0.7777777777777778,
              "#fb9f3a"
             ],
             [
              0.8888888888888888,
              "#fdca26"
             ],
             [
              1,
              "#f0f921"
             ]
            ],
            "type": "histogram2d"
           }
          ],
          "histogram2dcontour": [
           {
            "colorbar": {
             "outlinewidth": 0,
             "ticks": ""
            },
            "colorscale": [
             [
              0,
              "#0d0887"
             ],
             [
              0.1111111111111111,
              "#46039f"
             ],
             [
              0.2222222222222222,
              "#7201a8"
             ],
             [
              0.3333333333333333,
              "#9c179e"
             ],
             [
              0.4444444444444444,
              "#bd3786"
             ],
             [
              0.5555555555555556,
              "#d8576b"
             ],
             [
              0.6666666666666666,
              "#ed7953"
             ],
             [
              0.7777777777777778,
              "#fb9f3a"
             ],
             [
              0.8888888888888888,
              "#fdca26"
             ],
             [
              1,
              "#f0f921"
             ]
            ],
            "type": "histogram2dcontour"
           }
          ],
          "mesh3d": [
           {
            "colorbar": {
             "outlinewidth": 0,
             "ticks": ""
            },
            "type": "mesh3d"
           }
          ],
          "parcoords": [
           {
            "line": {
             "colorbar": {
              "outlinewidth": 0,
              "ticks": ""
             }
            },
            "type": "parcoords"
           }
          ],
          "pie": [
           {
            "automargin": true,
            "type": "pie"
           }
          ],
          "scatter": [
           {
            "fillpattern": {
             "fillmode": "overlay",
             "size": 10,
             "solidity": 0.2
            },
            "type": "scatter"
           }
          ],
          "scatter3d": [
           {
            "line": {
             "colorbar": {
              "outlinewidth": 0,
              "ticks": ""
             }
            },
            "marker": {
             "colorbar": {
              "outlinewidth": 0,
              "ticks": ""
             }
            },
            "type": "scatter3d"
           }
          ],
          "scattercarpet": [
           {
            "marker": {
             "colorbar": {
              "outlinewidth": 0,
              "ticks": ""
             }
            },
            "type": "scattercarpet"
           }
          ],
          "scattergeo": [
           {
            "marker": {
             "colorbar": {
              "outlinewidth": 0,
              "ticks": ""
             }
            },
            "type": "scattergeo"
           }
          ],
          "scattergl": [
           {
            "marker": {
             "colorbar": {
              "outlinewidth": 0,
              "ticks": ""
             }
            },
            "type": "scattergl"
           }
          ],
          "scattermapbox": [
           {
            "marker": {
             "colorbar": {
              "outlinewidth": 0,
              "ticks": ""
             }
            },
            "type": "scattermapbox"
           }
          ],
          "scatterpolar": [
           {
            "marker": {
             "colorbar": {
              "outlinewidth": 0,
              "ticks": ""
             }
            },
            "type": "scatterpolar"
           }
          ],
          "scatterpolargl": [
           {
            "marker": {
             "colorbar": {
              "outlinewidth": 0,
              "ticks": ""
             }
            },
            "type": "scatterpolargl"
           }
          ],
          "scatterternary": [
           {
            "marker": {
             "colorbar": {
              "outlinewidth": 0,
              "ticks": ""
             }
            },
            "type": "scatterternary"
           }
          ],
          "surface": [
           {
            "colorbar": {
             "outlinewidth": 0,
             "ticks": ""
            },
            "colorscale": [
             [
              0,
              "#0d0887"
             ],
             [
              0.1111111111111111,
              "#46039f"
             ],
             [
              0.2222222222222222,
              "#7201a8"
             ],
             [
              0.3333333333333333,
              "#9c179e"
             ],
             [
              0.4444444444444444,
              "#bd3786"
             ],
             [
              0.5555555555555556,
              "#d8576b"
             ],
             [
              0.6666666666666666,
              "#ed7953"
             ],
             [
              0.7777777777777778,
              "#fb9f3a"
             ],
             [
              0.8888888888888888,
              "#fdca26"
             ],
             [
              1,
              "#f0f921"
             ]
            ],
            "type": "surface"
           }
          ],
          "table": [
           {
            "cells": {
             "fill": {
              "color": "#EBF0F8"
             },
             "line": {
              "color": "white"
             }
            },
            "header": {
             "fill": {
              "color": "#C8D4E3"
             },
             "line": {
              "color": "white"
             }
            },
            "type": "table"
           }
          ]
         },
         "layout": {
          "annotationdefaults": {
           "arrowcolor": "#2a3f5f",
           "arrowhead": 0,
           "arrowwidth": 1
          },
          "autotypenumbers": "strict",
          "coloraxis": {
           "colorbar": {
            "outlinewidth": 0,
            "ticks": ""
           }
          },
          "colorscale": {
           "diverging": [
            [
             0,
             "#8e0152"
            ],
            [
             0.1,
             "#c51b7d"
            ],
            [
             0.2,
             "#de77ae"
            ],
            [
             0.3,
             "#f1b6da"
            ],
            [
             0.4,
             "#fde0ef"
            ],
            [
             0.5,
             "#f7f7f7"
            ],
            [
             0.6,
             "#e6f5d0"
            ],
            [
             0.7,
             "#b8e186"
            ],
            [
             0.8,
             "#7fbc41"
            ],
            [
             0.9,
             "#4d9221"
            ],
            [
             1,
             "#276419"
            ]
           ],
           "sequential": [
            [
             0,
             "#0d0887"
            ],
            [
             0.1111111111111111,
             "#46039f"
            ],
            [
             0.2222222222222222,
             "#7201a8"
            ],
            [
             0.3333333333333333,
             "#9c179e"
            ],
            [
             0.4444444444444444,
             "#bd3786"
            ],
            [
             0.5555555555555556,
             "#d8576b"
            ],
            [
             0.6666666666666666,
             "#ed7953"
            ],
            [
             0.7777777777777778,
             "#fb9f3a"
            ],
            [
             0.8888888888888888,
             "#fdca26"
            ],
            [
             1,
             "#f0f921"
            ]
           ],
           "sequentialminus": [
            [
             0,
             "#0d0887"
            ],
            [
             0.1111111111111111,
             "#46039f"
            ],
            [
             0.2222222222222222,
             "#7201a8"
            ],
            [
             0.3333333333333333,
             "#9c179e"
            ],
            [
             0.4444444444444444,
             "#bd3786"
            ],
            [
             0.5555555555555556,
             "#d8576b"
            ],
            [
             0.6666666666666666,
             "#ed7953"
            ],
            [
             0.7777777777777778,
             "#fb9f3a"
            ],
            [
             0.8888888888888888,
             "#fdca26"
            ],
            [
             1,
             "#f0f921"
            ]
           ]
          },
          "colorway": [
           "#636efa",
           "#EF553B",
           "#00cc96",
           "#ab63fa",
           "#FFA15A",
           "#19d3f3",
           "#FF6692",
           "#B6E880",
           "#FF97FF",
           "#FECB52"
          ],
          "font": {
           "color": "#2a3f5f"
          },
          "geo": {
           "bgcolor": "white",
           "lakecolor": "white",
           "landcolor": "white",
           "showlakes": true,
           "showland": true,
           "subunitcolor": "#C8D4E3"
          },
          "hoverlabel": {
           "align": "left"
          },
          "hovermode": "closest",
          "mapbox": {
           "style": "light"
          },
          "paper_bgcolor": "white",
          "plot_bgcolor": "white",
          "polar": {
           "angularaxis": {
            "gridcolor": "#EBF0F8",
            "linecolor": "#EBF0F8",
            "ticks": ""
           },
           "bgcolor": "white",
           "radialaxis": {
            "gridcolor": "#EBF0F8",
            "linecolor": "#EBF0F8",
            "ticks": ""
           }
          },
          "scene": {
           "xaxis": {
            "backgroundcolor": "white",
            "gridcolor": "#DFE8F3",
            "gridwidth": 2,
            "linecolor": "#EBF0F8",
            "showbackground": true,
            "ticks": "",
            "zerolinecolor": "#EBF0F8"
           },
           "yaxis": {
            "backgroundcolor": "white",
            "gridcolor": "#DFE8F3",
            "gridwidth": 2,
            "linecolor": "#EBF0F8",
            "showbackground": true,
            "ticks": "",
            "zerolinecolor": "#EBF0F8"
           },
           "zaxis": {
            "backgroundcolor": "white",
            "gridcolor": "#DFE8F3",
            "gridwidth": 2,
            "linecolor": "#EBF0F8",
            "showbackground": true,
            "ticks": "",
            "zerolinecolor": "#EBF0F8"
           }
          },
          "shapedefaults": {
           "line": {
            "color": "#2a3f5f"
           }
          },
          "ternary": {
           "aaxis": {
            "gridcolor": "#DFE8F3",
            "linecolor": "#A2B1C6",
            "ticks": ""
           },
           "baxis": {
            "gridcolor": "#DFE8F3",
            "linecolor": "#A2B1C6",
            "ticks": ""
           },
           "bgcolor": "white",
           "caxis": {
            "gridcolor": "#DFE8F3",
            "linecolor": "#A2B1C6",
            "ticks": ""
           }
          },
          "title": {
           "x": 0.05
          },
          "xaxis": {
           "automargin": true,
           "gridcolor": "#EBF0F8",
           "linecolor": "#EBF0F8",
           "ticks": "",
           "title": {
            "standoff": 15
           },
           "zerolinecolor": "#EBF0F8",
           "zerolinewidth": 2
          },
          "yaxis": {
           "automargin": true,
           "gridcolor": "#EBF0F8",
           "linecolor": "#EBF0F8",
           "ticks": "",
           "title": {
            "standoff": 15
           },
           "zerolinecolor": "#EBF0F8",
           "zerolinewidth": 2
          }
         }
        },
        "title": {
         "font": {
          "size": 16
         },
         "text": "Distribuição Absoluta por Gênero em Cada Nível de Formação Acadêmica (2021-2023)"
        },
        "xaxis": {
         "anchor": "y",
         "domain": [
          0,
          0.1975
         ],
         "range": [
          0,
          133.2
         ]
        },
        "xaxis2": {
         "anchor": "y2",
         "domain": [
          0.2675,
          0.465
         ],
         "range": [
          0,
          133.2
         ]
        },
        "xaxis3": {
         "anchor": "y3",
         "domain": [
          0.535,
          0.7325
         ],
         "range": [
          0,
          133.2
         ]
        },
        "xaxis4": {
         "anchor": "y4",
         "domain": [
          0.8025,
          1
         ],
         "range": [
          0,
          133.2
         ]
        },
        "yaxis": {
         "anchor": "x",
         "domain": [
          0,
          1
         ]
        },
        "yaxis2": {
         "anchor": "x2",
         "domain": [
          0,
          1
         ],
         "matches": "y",
         "showticklabels": false
        },
        "yaxis3": {
         "anchor": "x3",
         "domain": [
          0,
          1
         ],
         "matches": "y",
         "showticklabels": false
        },
        "yaxis4": {
         "anchor": "x4",
         "domain": [
          0,
          1
         ],
         "matches": "y",
         "showticklabels": false
        }
       }
      }
     },
     "metadata": {},
     "output_type": "display_data"
    }
   ],
   "source": [
    "df_grouped = df_rj.groupby([\"ano_pesquisa\", \"nivel_ensino\", \"genero\"]).size().reset_index(name=\"count\")\n",
    "\n",
    "fig = make_subplots(\n",
    "    rows=1, \n",
    "    cols=4, \n",
    "    shared_yaxes=True, \n",
    "    subplot_titles=[\"2021\", \"2022\", \"2023\", \"2024\"],\n",
    "    horizontal_spacing=0.07\n",
    ")\n",
    "\n",
    "anos = ['2021', '2022', '2023', '2024']\n",
    "cores = {\"Masculino\": \"#708090\", \"Feminino\": \"#673147\"}\n",
    "\n",
    "ordem_niveis = [\n",
    "    'Não tenho graduação formal', \n",
    "    'Estudante de Graduação',\n",
    "    'Graduação/Bacharelado', \n",
    "    'Especialização Lato Sensu',\n",
    "    'Mestrado',\n",
    "    'Doutorado ou Phd'\n",
    "]\n",
    "\n",
    "# Para ajustar range máximo depois\n",
    "max_count = df_grouped['count'].max()\n",
    "\n",
    "for i, ano in enumerate(anos):\n",
    "    df_ano = df_grouped[df_grouped[\"ano_pesquisa\"] == ano]\n",
    "    \n",
    "    for genero in [\"Feminino\", \"Masculino\"]:\n",
    "        counts = []\n",
    "        niveis = []\n",
    "        \n",
    "        for nivel in ordem_niveis:\n",
    "            df_nivel = df_ano[(df_ano[\"nivel_ensino\"] == nivel) & (df_ano[\"genero\"] == genero)]\n",
    "            count = df_nivel[\"count\"].values[0] if not df_nivel.empty else 0\n",
    "            counts.append(count)\n",
    "            niveis.append(nivel)\n",
    "        \n",
    "        fig.add_trace(go.Bar(\n",
    "            y=niveis,\n",
    "            x=counts,\n",
    "            name=genero,\n",
    "            orientation=\"h\",\n",
    "            marker=dict(color=cores[genero]),\n",
    "            text=[str(c) for c in counts],\n",
    "            textposition=\"outside\",  # Deixa o número fora da barra\n",
    "            textfont=dict(color=\"black\", size=10),\n",
    "            showlegend=True if i == 0 else False\n",
    "        ), row=1, col=i+1)\n",
    "\n",
    "# Configurando layout\n",
    "fig.update_layout(\n",
    "    title=\"Distribuição Absoluta por Gênero em Cada Nível de Formação Acadêmica (2021-2023)\",\n",
    "    title_font_size=16,\n",
    "    barmode=\"group\",\n",
    "    height=800,\n",
    "    template=\"plotly_white\",\n",
    "    font=dict(size=11),\n",
    "    legend=dict(\n",
    "        orientation=\"h\",\n",
    "        yanchor=\"bottom\",\n",
    "        y=1.02,\n",
    "        xanchor=\"center\",\n",
    "        x=0.5,\n",
    "        font=dict(size=10)\n",
    "    )\n",
    ")\n",
    "\n",
    "# Ajustando range de cada xaxis para dar espaço aos textos \"outside\"\n",
    "for i in range(1, 5):\n",
    "    fig.update_xaxes(row=1, col=i, range=[0, max_count * 1.2])  # Aumenta 20% do maior valor\n",
    "\n",
    "fig.show()\n"
   ]
  },
  {
   "cell_type": "code",
   "execution_count": 73,
   "metadata": {},
   "outputs": [
    {
     "data": {
      "application/vnd.plotly.v1+json": {
       "config": {
        "plotlyServerURL": "https://plot.ly"
       },
       "data": [
        {
         "marker": {
          "color": "#673147"
         },
         "name": "Feminino",
         "orientation": "h",
         "showlegend": true,
         "textposition": "auto",
         "type": "bar",
         "x": [
          16,
          0,
          7,
          1,
          2,
          0,
          4,
          0,
          0
         ],
         "xaxis": "x",
         "y": [
          "Analista de Dados",
          "Arquiteto de Dados/Data Architect",
          "Cientista de Dados",
          "Desenvolvedor",
          "Engenheiro de Dados",
          "Engenheiro de Dados/Data Engineer/Data Architect",
          "Outro",
          "Product Manager",
          "Professor/Pesquisador"
         ],
         "yaxis": "y"
        },
        {
         "marker": {
          "color": "#708090"
         },
         "name": "Masculino",
         "orientation": "h",
         "showlegend": true,
         "textposition": "auto",
         "type": "bar",
         "x": [
          68,
          0,
          27,
          8,
          15,
          0,
          5,
          0,
          0
         ],
         "xaxis": "x",
         "y": [
          "Analista de Dados",
          "Arquiteto de Dados/Data Architect",
          "Cientista de Dados",
          "Desenvolvedor",
          "Engenheiro de Dados",
          "Engenheiro de Dados/Data Engineer/Data Architect",
          "Outro",
          "Product Manager",
          "Professor/Pesquisador"
         ],
         "yaxis": "y"
        },
        {
         "marker": {
          "color": "#673147"
         },
         "name": "Feminino",
         "orientation": "h",
         "showlegend": false,
         "textposition": "auto",
         "type": "bar",
         "x": [
          25,
          0,
          7,
          2,
          8,
          0,
          8,
          0,
          0
         ],
         "xaxis": "x2",
         "y": [
          "Analista de Dados",
          "Arquiteto de Dados/Data Architect",
          "Cientista de Dados",
          "Desenvolvedor",
          "Engenheiro de Dados",
          "Engenheiro de Dados/Data Engineer/Data Architect",
          "Outro",
          "Product Manager",
          "Professor/Pesquisador"
         ],
         "yaxis": "y2"
        },
        {
         "marker": {
          "color": "#708090"
         },
         "name": "Masculino",
         "orientation": "h",
         "showlegend": false,
         "textposition": "auto",
         "type": "bar",
         "x": [
          68,
          0,
          46,
          11,
          35,
          0,
          20,
          0,
          1
         ],
         "xaxis": "x2",
         "y": [
          "Analista de Dados",
          "Arquiteto de Dados/Data Architect",
          "Cientista de Dados",
          "Desenvolvedor",
          "Engenheiro de Dados",
          "Engenheiro de Dados/Data Engineer/Data Architect",
          "Outro",
          "Product Manager",
          "Professor/Pesquisador"
         ],
         "yaxis": "y2"
        },
        {
         "marker": {
          "color": "#673147"
         },
         "name": "Feminino",
         "orientation": "h",
         "showlegend": false,
         "textposition": "auto",
         "type": "bar",
         "x": [
          43,
          0,
          13,
          0,
          11,
          0,
          7,
          4,
          1
         ],
         "xaxis": "x3",
         "y": [
          "Analista de Dados",
          "Arquiteto de Dados/Data Architect",
          "Cientista de Dados",
          "Desenvolvedor",
          "Engenheiro de Dados",
          "Engenheiro de Dados/Data Engineer/Data Architect",
          "Outro",
          "Product Manager",
          "Professor/Pesquisador"
         ],
         "yaxis": "y3"
        },
        {
         "marker": {
          "color": "#708090"
         },
         "name": "Masculino",
         "orientation": "h",
         "showlegend": false,
         "textposition": "auto",
         "type": "bar",
         "x": [
          108,
          0,
          50,
          10,
          58,
          0,
          26,
          0,
          1
         ],
         "xaxis": "x3",
         "y": [
          "Analista de Dados",
          "Arquiteto de Dados/Data Architect",
          "Cientista de Dados",
          "Desenvolvedor",
          "Engenheiro de Dados",
          "Engenheiro de Dados/Data Engineer/Data Architect",
          "Outro",
          "Product Manager",
          "Professor/Pesquisador"
         ],
         "yaxis": "y3"
        },
        {
         "marker": {
          "color": "#673147"
         },
         "name": "Feminino",
         "orientation": "h",
         "showlegend": false,
         "textposition": "auto",
         "type": "bar",
         "x": [
          30,
          0,
          17,
          6,
          5,
          7,
          5,
          4,
          0
         ],
         "xaxis": "x4",
         "y": [
          "Analista de Dados",
          "Arquiteto de Dados/Data Architect",
          "Cientista de Dados",
          "Desenvolvedor",
          "Engenheiro de Dados",
          "Engenheiro de Dados/Data Engineer/Data Architect",
          "Outro",
          "Product Manager",
          "Professor/Pesquisador"
         ],
         "yaxis": "y4"
        },
        {
         "marker": {
          "color": "#708090"
         },
         "name": "Masculino",
         "orientation": "h",
         "showlegend": false,
         "textposition": "auto",
         "type": "bar",
         "x": [
          69,
          3,
          52,
          13,
          11,
          39,
          20,
          4,
          2
         ],
         "xaxis": "x4",
         "y": [
          "Analista de Dados",
          "Arquiteto de Dados/Data Architect",
          "Cientista de Dados",
          "Desenvolvedor",
          "Engenheiro de Dados",
          "Engenheiro de Dados/Data Engineer/Data Architect",
          "Outro",
          "Product Manager",
          "Professor/Pesquisador"
         ],
         "yaxis": "y4"
        }
       ],
       "layout": {
        "annotations": [
         {
          "font": {
           "size": 16
          },
          "showarrow": false,
          "text": "Ano 2021",
          "x": 0.5,
          "xanchor": "center",
          "xref": "paper",
          "y": 1,
          "yanchor": "bottom",
          "yref": "paper"
         },
         {
          "font": {
           "size": 16
          },
          "showarrow": false,
          "text": "Ano 2022",
          "x": 0.5,
          "xanchor": "center",
          "xref": "paper",
          "y": 0.7375,
          "yanchor": "bottom",
          "yref": "paper"
         },
         {
          "font": {
           "size": 16
          },
          "showarrow": false,
          "text": "Ano 2023",
          "x": 0.5,
          "xanchor": "center",
          "xref": "paper",
          "y": 0.475,
          "yanchor": "bottom",
          "yref": "paper"
         },
         {
          "font": {
           "size": 16
          },
          "showarrow": false,
          "text": "Ano 2024",
          "x": 0.5,
          "xanchor": "center",
          "xref": "paper",
          "y": 0.2125,
          "yanchor": "bottom",
          "yref": "paper"
         }
        ],
        "barmode": "group",
        "height": 800,
        "legend": {
         "orientation": "h",
         "x": 1,
         "xanchor": "right",
         "y": 1.02,
         "yanchor": "bottom"
        },
        "template": {
         "data": {
          "bar": [
           {
            "error_x": {
             "color": "#2a3f5f"
            },
            "error_y": {
             "color": "#2a3f5f"
            },
            "marker": {
             "line": {
              "color": "white",
              "width": 0.5
             },
             "pattern": {
              "fillmode": "overlay",
              "size": 10,
              "solidity": 0.2
             }
            },
            "type": "bar"
           }
          ],
          "barpolar": [
           {
            "marker": {
             "line": {
              "color": "white",
              "width": 0.5
             },
             "pattern": {
              "fillmode": "overlay",
              "size": 10,
              "solidity": 0.2
             }
            },
            "type": "barpolar"
           }
          ],
          "carpet": [
           {
            "aaxis": {
             "endlinecolor": "#2a3f5f",
             "gridcolor": "#C8D4E3",
             "linecolor": "#C8D4E3",
             "minorgridcolor": "#C8D4E3",
             "startlinecolor": "#2a3f5f"
            },
            "baxis": {
             "endlinecolor": "#2a3f5f",
             "gridcolor": "#C8D4E3",
             "linecolor": "#C8D4E3",
             "minorgridcolor": "#C8D4E3",
             "startlinecolor": "#2a3f5f"
            },
            "type": "carpet"
           }
          ],
          "choropleth": [
           {
            "colorbar": {
             "outlinewidth": 0,
             "ticks": ""
            },
            "type": "choropleth"
           }
          ],
          "contour": [
           {
            "colorbar": {
             "outlinewidth": 0,
             "ticks": ""
            },
            "colorscale": [
             [
              0,
              "#0d0887"
             ],
             [
              0.1111111111111111,
              "#46039f"
             ],
             [
              0.2222222222222222,
              "#7201a8"
             ],
             [
              0.3333333333333333,
              "#9c179e"
             ],
             [
              0.4444444444444444,
              "#bd3786"
             ],
             [
              0.5555555555555556,
              "#d8576b"
             ],
             [
              0.6666666666666666,
              "#ed7953"
             ],
             [
              0.7777777777777778,
              "#fb9f3a"
             ],
             [
              0.8888888888888888,
              "#fdca26"
             ],
             [
              1,
              "#f0f921"
             ]
            ],
            "type": "contour"
           }
          ],
          "contourcarpet": [
           {
            "colorbar": {
             "outlinewidth": 0,
             "ticks": ""
            },
            "type": "contourcarpet"
           }
          ],
          "heatmap": [
           {
            "colorbar": {
             "outlinewidth": 0,
             "ticks": ""
            },
            "colorscale": [
             [
              0,
              "#0d0887"
             ],
             [
              0.1111111111111111,
              "#46039f"
             ],
             [
              0.2222222222222222,
              "#7201a8"
             ],
             [
              0.3333333333333333,
              "#9c179e"
             ],
             [
              0.4444444444444444,
              "#bd3786"
             ],
             [
              0.5555555555555556,
              "#d8576b"
             ],
             [
              0.6666666666666666,
              "#ed7953"
             ],
             [
              0.7777777777777778,
              "#fb9f3a"
             ],
             [
              0.8888888888888888,
              "#fdca26"
             ],
             [
              1,
              "#f0f921"
             ]
            ],
            "type": "heatmap"
           }
          ],
          "heatmapgl": [
           {
            "colorbar": {
             "outlinewidth": 0,
             "ticks": ""
            },
            "colorscale": [
             [
              0,
              "#0d0887"
             ],
             [
              0.1111111111111111,
              "#46039f"
             ],
             [
              0.2222222222222222,
              "#7201a8"
             ],
             [
              0.3333333333333333,
              "#9c179e"
             ],
             [
              0.4444444444444444,
              "#bd3786"
             ],
             [
              0.5555555555555556,
              "#d8576b"
             ],
             [
              0.6666666666666666,
              "#ed7953"
             ],
             [
              0.7777777777777778,
              "#fb9f3a"
             ],
             [
              0.8888888888888888,
              "#fdca26"
             ],
             [
              1,
              "#f0f921"
             ]
            ],
            "type": "heatmapgl"
           }
          ],
          "histogram": [
           {
            "marker": {
             "pattern": {
              "fillmode": "overlay",
              "size": 10,
              "solidity": 0.2
             }
            },
            "type": "histogram"
           }
          ],
          "histogram2d": [
           {
            "colorbar": {
             "outlinewidth": 0,
             "ticks": ""
            },
            "colorscale": [
             [
              0,
              "#0d0887"
             ],
             [
              0.1111111111111111,
              "#46039f"
             ],
             [
              0.2222222222222222,
              "#7201a8"
             ],
             [
              0.3333333333333333,
              "#9c179e"
             ],
             [
              0.4444444444444444,
              "#bd3786"
             ],
             [
              0.5555555555555556,
              "#d8576b"
             ],
             [
              0.6666666666666666,
              "#ed7953"
             ],
             [
              0.7777777777777778,
              "#fb9f3a"
             ],
             [
              0.8888888888888888,
              "#fdca26"
             ],
             [
              1,
              "#f0f921"
             ]
            ],
            "type": "histogram2d"
           }
          ],
          "histogram2dcontour": [
           {
            "colorbar": {
             "outlinewidth": 0,
             "ticks": ""
            },
            "colorscale": [
             [
              0,
              "#0d0887"
             ],
             [
              0.1111111111111111,
              "#46039f"
             ],
             [
              0.2222222222222222,
              "#7201a8"
             ],
             [
              0.3333333333333333,
              "#9c179e"
             ],
             [
              0.4444444444444444,
              "#bd3786"
             ],
             [
              0.5555555555555556,
              "#d8576b"
             ],
             [
              0.6666666666666666,
              "#ed7953"
             ],
             [
              0.7777777777777778,
              "#fb9f3a"
             ],
             [
              0.8888888888888888,
              "#fdca26"
             ],
             [
              1,
              "#f0f921"
             ]
            ],
            "type": "histogram2dcontour"
           }
          ],
          "mesh3d": [
           {
            "colorbar": {
             "outlinewidth": 0,
             "ticks": ""
            },
            "type": "mesh3d"
           }
          ],
          "parcoords": [
           {
            "line": {
             "colorbar": {
              "outlinewidth": 0,
              "ticks": ""
             }
            },
            "type": "parcoords"
           }
          ],
          "pie": [
           {
            "automargin": true,
            "type": "pie"
           }
          ],
          "scatter": [
           {
            "fillpattern": {
             "fillmode": "overlay",
             "size": 10,
             "solidity": 0.2
            },
            "type": "scatter"
           }
          ],
          "scatter3d": [
           {
            "line": {
             "colorbar": {
              "outlinewidth": 0,
              "ticks": ""
             }
            },
            "marker": {
             "colorbar": {
              "outlinewidth": 0,
              "ticks": ""
             }
            },
            "type": "scatter3d"
           }
          ],
          "scattercarpet": [
           {
            "marker": {
             "colorbar": {
              "outlinewidth": 0,
              "ticks": ""
             }
            },
            "type": "scattercarpet"
           }
          ],
          "scattergeo": [
           {
            "marker": {
             "colorbar": {
              "outlinewidth": 0,
              "ticks": ""
             }
            },
            "type": "scattergeo"
           }
          ],
          "scattergl": [
           {
            "marker": {
             "colorbar": {
              "outlinewidth": 0,
              "ticks": ""
             }
            },
            "type": "scattergl"
           }
          ],
          "scattermapbox": [
           {
            "marker": {
             "colorbar": {
              "outlinewidth": 0,
              "ticks": ""
             }
            },
            "type": "scattermapbox"
           }
          ],
          "scatterpolar": [
           {
            "marker": {
             "colorbar": {
              "outlinewidth": 0,
              "ticks": ""
             }
            },
            "type": "scatterpolar"
           }
          ],
          "scatterpolargl": [
           {
            "marker": {
             "colorbar": {
              "outlinewidth": 0,
              "ticks": ""
             }
            },
            "type": "scatterpolargl"
           }
          ],
          "scatterternary": [
           {
            "marker": {
             "colorbar": {
              "outlinewidth": 0,
              "ticks": ""
             }
            },
            "type": "scatterternary"
           }
          ],
          "surface": [
           {
            "colorbar": {
             "outlinewidth": 0,
             "ticks": ""
            },
            "colorscale": [
             [
              0,
              "#0d0887"
             ],
             [
              0.1111111111111111,
              "#46039f"
             ],
             [
              0.2222222222222222,
              "#7201a8"
             ],
             [
              0.3333333333333333,
              "#9c179e"
             ],
             [
              0.4444444444444444,
              "#bd3786"
             ],
             [
              0.5555555555555556,
              "#d8576b"
             ],
             [
              0.6666666666666666,
              "#ed7953"
             ],
             [
              0.7777777777777778,
              "#fb9f3a"
             ],
             [
              0.8888888888888888,
              "#fdca26"
             ],
             [
              1,
              "#f0f921"
             ]
            ],
            "type": "surface"
           }
          ],
          "table": [
           {
            "cells": {
             "fill": {
              "color": "#EBF0F8"
             },
             "line": {
              "color": "white"
             }
            },
            "header": {
             "fill": {
              "color": "#C8D4E3"
             },
             "line": {
              "color": "white"
             }
            },
            "type": "table"
           }
          ]
         },
         "layout": {
          "annotationdefaults": {
           "arrowcolor": "#2a3f5f",
           "arrowhead": 0,
           "arrowwidth": 1
          },
          "autotypenumbers": "strict",
          "coloraxis": {
           "colorbar": {
            "outlinewidth": 0,
            "ticks": ""
           }
          },
          "colorscale": {
           "diverging": [
            [
             0,
             "#8e0152"
            ],
            [
             0.1,
             "#c51b7d"
            ],
            [
             0.2,
             "#de77ae"
            ],
            [
             0.3,
             "#f1b6da"
            ],
            [
             0.4,
             "#fde0ef"
            ],
            [
             0.5,
             "#f7f7f7"
            ],
            [
             0.6,
             "#e6f5d0"
            ],
            [
             0.7,
             "#b8e186"
            ],
            [
             0.8,
             "#7fbc41"
            ],
            [
             0.9,
             "#4d9221"
            ],
            [
             1,
             "#276419"
            ]
           ],
           "sequential": [
            [
             0,
             "#0d0887"
            ],
            [
             0.1111111111111111,
             "#46039f"
            ],
            [
             0.2222222222222222,
             "#7201a8"
            ],
            [
             0.3333333333333333,
             "#9c179e"
            ],
            [
             0.4444444444444444,
             "#bd3786"
            ],
            [
             0.5555555555555556,
             "#d8576b"
            ],
            [
             0.6666666666666666,
             "#ed7953"
            ],
            [
             0.7777777777777778,
             "#fb9f3a"
            ],
            [
             0.8888888888888888,
             "#fdca26"
            ],
            [
             1,
             "#f0f921"
            ]
           ],
           "sequentialminus": [
            [
             0,
             "#0d0887"
            ],
            [
             0.1111111111111111,
             "#46039f"
            ],
            [
             0.2222222222222222,
             "#7201a8"
            ],
            [
             0.3333333333333333,
             "#9c179e"
            ],
            [
             0.4444444444444444,
             "#bd3786"
            ],
            [
             0.5555555555555556,
             "#d8576b"
            ],
            [
             0.6666666666666666,
             "#ed7953"
            ],
            [
             0.7777777777777778,
             "#fb9f3a"
            ],
            [
             0.8888888888888888,
             "#fdca26"
            ],
            [
             1,
             "#f0f921"
            ]
           ]
          },
          "colorway": [
           "#636efa",
           "#EF553B",
           "#00cc96",
           "#ab63fa",
           "#FFA15A",
           "#19d3f3",
           "#FF6692",
           "#B6E880",
           "#FF97FF",
           "#FECB52"
          ],
          "font": {
           "color": "#2a3f5f"
          },
          "geo": {
           "bgcolor": "white",
           "lakecolor": "white",
           "landcolor": "white",
           "showlakes": true,
           "showland": true,
           "subunitcolor": "#C8D4E3"
          },
          "hoverlabel": {
           "align": "left"
          },
          "hovermode": "closest",
          "mapbox": {
           "style": "light"
          },
          "paper_bgcolor": "white",
          "plot_bgcolor": "white",
          "polar": {
           "angularaxis": {
            "gridcolor": "#EBF0F8",
            "linecolor": "#EBF0F8",
            "ticks": ""
           },
           "bgcolor": "white",
           "radialaxis": {
            "gridcolor": "#EBF0F8",
            "linecolor": "#EBF0F8",
            "ticks": ""
           }
          },
          "scene": {
           "xaxis": {
            "backgroundcolor": "white",
            "gridcolor": "#DFE8F3",
            "gridwidth": 2,
            "linecolor": "#EBF0F8",
            "showbackground": true,
            "ticks": "",
            "zerolinecolor": "#EBF0F8"
           },
           "yaxis": {
            "backgroundcolor": "white",
            "gridcolor": "#DFE8F3",
            "gridwidth": 2,
            "linecolor": "#EBF0F8",
            "showbackground": true,
            "ticks": "",
            "zerolinecolor": "#EBF0F8"
           },
           "zaxis": {
            "backgroundcolor": "white",
            "gridcolor": "#DFE8F3",
            "gridwidth": 2,
            "linecolor": "#EBF0F8",
            "showbackground": true,
            "ticks": "",
            "zerolinecolor": "#EBF0F8"
           }
          },
          "shapedefaults": {
           "line": {
            "color": "#2a3f5f"
           }
          },
          "ternary": {
           "aaxis": {
            "gridcolor": "#DFE8F3",
            "linecolor": "#A2B1C6",
            "ticks": ""
           },
           "baxis": {
            "gridcolor": "#DFE8F3",
            "linecolor": "#A2B1C6",
            "ticks": ""
           },
           "bgcolor": "white",
           "caxis": {
            "gridcolor": "#DFE8F3",
            "linecolor": "#A2B1C6",
            "ticks": ""
           }
          },
          "title": {
           "x": 0.05
          },
          "xaxis": {
           "automargin": true,
           "gridcolor": "#EBF0F8",
           "linecolor": "#EBF0F8",
           "ticks": "",
           "title": {
            "standoff": 15
           },
           "zerolinecolor": "#EBF0F8",
           "zerolinewidth": 2
          },
          "yaxis": {
           "automargin": true,
           "gridcolor": "#EBF0F8",
           "linecolor": "#EBF0F8",
           "ticks": "",
           "title": {
            "standoff": 15
           },
           "zerolinecolor": "#EBF0F8",
           "zerolinewidth": 2
          }
         }
        },
        "title": {
         "text": "Distribuição de Cargos por Gênero ao Longo dos Anos"
        },
        "width": 1000,
        "xaxis": {
         "anchor": "y",
         "domain": [
          0,
          1
         ],
         "matches": "x4",
         "showticklabels": false
        },
        "xaxis2": {
         "anchor": "y2",
         "domain": [
          0,
          1
         ],
         "matches": "x4",
         "showticklabels": false
        },
        "xaxis3": {
         "anchor": "y3",
         "domain": [
          0,
          1
         ],
         "matches": "x4",
         "showticklabels": false
        },
        "xaxis4": {
         "anchor": "y4",
         "domain": [
          0,
          1
         ],
         "title": {
          "text": "Quantidade"
         }
        },
        "yaxis": {
         "anchor": "x",
         "domain": [
          0.7875,
          1
         ],
         "showgrid": true,
         "title": {
          "text": "Cargo"
         }
        },
        "yaxis2": {
         "anchor": "x2",
         "domain": [
          0.525,
          0.7375
         ],
         "showgrid": true,
         "title": {
          "text": "Cargo"
         }
        },
        "yaxis3": {
         "anchor": "x3",
         "domain": [
          0.2625,
          0.475
         ],
         "showgrid": true,
         "title": {
          "text": "Cargo"
         }
        },
        "yaxis4": {
         "anchor": "x4",
         "domain": [
          0,
          0.2125
         ],
         "showgrid": true,
         "title": {
          "text": "Cargo"
         }
        }
       }
      }
     },
     "metadata": {},
     "output_type": "display_data"
    }
   ],
   "source": [
    "# Distribuição cargo x genero\n",
    "\n",
    "df = df_rj[df_rj['cargo'] != \"Não classificado\"].copy()\n",
    "\n",
    "df_contagem = df.groupby(['cargo', 'ano_pesquisa', 'genero']).size().reset_index(name='contagem')\n",
    "\n",
    "\n",
    "cores = {\"Feminino\": \"#673147\", \"Masculino\": \"#708090\"}\n",
    "\n",
    "cargos_unicos = sorted(df_contagem['cargo'].unique())\n",
    "anos = sorted(df_contagem['ano_pesquisa'].unique())\n",
    "generos = [\"Feminino\", \"Masculino\"]\n",
    "\n",
    "\n",
    "fig = make_subplots(\n",
    "    rows=len(anos), \n",
    "    cols=1,\n",
    "    subplot_titles=[f\"Ano {ano}\" for ano in anos], \n",
    "    shared_xaxes=True,\n",
    "    vertical_spacing=0.05\n",
    ")\n",
    "\n",
    "\n",
    "for i, ano in enumerate(anos):\n",
    "    row = i + 1  \n",
    "    \n",
    "    for genero in generos:\n",
    "        \n",
    "        df_filtrado = df_contagem[(df_contagem['ano_pesquisa'] == ano) & \n",
    "                                  (df_contagem['genero'] == genero)]\n",
    "        \n",
    "        \n",
    "        y_cargos = []\n",
    "        x_contagens = []\n",
    "        \n",
    "        for cargo in cargos_unicos:\n",
    "            df_cargo = df_filtrado[df_filtrado['cargo'] == cargo]\n",
    "            if not df_cargo.empty:\n",
    "                x_contagens.append(df_cargo['contagem'].values[0])\n",
    "            else:\n",
    "                x_contagens.append(0)  #\n",
    "            y_cargos.append(cargo)\n",
    "        \n",
    "        \n",
    "        fig.add_trace(\n",
    "            go.Bar(\n",
    "                y=y_cargos,                # Cargos no eixo Y\n",
    "                x=x_contagens,             # Contagens no eixo X\n",
    "                name=genero,               # Nome na legenda\n",
    "                marker_color=cores[genero],# Cor com base no gênero\n",
    "                textposition='auto',\n",
    "                orientation='h',           # Barras horizontais\n",
    "                showlegend=i == 0          # Mostrar na legenda apenas para o primeiro ano\n",
    "            ),\n",
    "            row=row, col=1\n",
    "        )\n",
    "\n",
    "fig.update_layout(\n",
    "    title='Distribuição de Cargos por Gênero ao Longo dos Anos',\n",
    "    height=max(800, len(anos) * 200),  # Ajuste dinâmico da altura\n",
    "    width=1000,\n",
    "    template='plotly_white',\n",
    "    barmode='group',              # Agrupar barras por gênero\n",
    "    legend=dict(\n",
    "        orientation=\"h\",          # Legenda horizontal\n",
    "        yanchor=\"bottom\",\n",
    "        y=1.02,\n",
    "        xanchor=\"right\",\n",
    "        x=1\n",
    "    )\n",
    ")\n",
    "\n",
    "\n",
    "fig.update_xaxes(title_text=\"Quantidade\", row=len(anos), col=1)\n",
    "\n",
    "\n",
    "for i in range(1, len(anos) + 1):\n",
    "    fig.update_yaxes(title_text=\"Cargo\", row=i, col=1, showgrid=True)\n",
    "\n",
    "fig.show()\n"
   ]
  },
  {
   "cell_type": "markdown",
   "metadata": {},
   "source": [
    "# Estatísticas"
   ]
  },
  {
   "cell_type": "code",
   "execution_count": 74,
   "metadata": {},
   "outputs": [
    {
     "name": "stdout",
     "output_type": "stream",
     "text": [
      "Percentual de mulheres por ano:\n",
      "  ano_pesquisa  percentual_mulheres\n",
      "0         2021            19.819820\n",
      "1         2022            22.848665\n",
      "2         2023            25.000000\n",
      "3         2024            25.634518\n",
      "Percentual com pós-graduação ou superior por gênero:\n",
      "      genero  percentual_pos_ou_superior\n",
      "0   Feminino                   58.308157\n",
      "1  Masculino                   48.298677\n",
      "Percentual geral de mulheres: 23.83%\n",
      "Percentual de mulheres em cargos de liderança: 25.45%\n",
      "Percentual de mulheres em níveis seniores: 24.64%\n",
      "Percentual de mulheres em nível júnior: 22.70%\n"
     ]
    }
   ],
   "source": [
    "percentuais_genero = df_rj.groupby('ano_pesquisa')['genero'].apply(\n",
    "    lambda x: (x == 'Feminino').mean() * 100\n",
    ").reset_index(name='percentual_mulheres')\n",
    "\n",
    "print(\"Percentual de mulheres por ano:\")\n",
    "print(percentuais_genero)\n",
    "\n",
    "ordem_nivel_ensino = ['Especialização Lato Sensu', \n",
    "                      'Mestrado', 'Doutorado ou Phd']\n",
    "escolaridade_superior = df_rj.groupby('genero')['nivel_ensino'].apply(\n",
    "    lambda x: (x.isin(ordem_nivel_ensino)).mean() * 100\n",
    ").reset_index(name='percentual_pos_ou_superior')\n",
    "\n",
    "print(\"Percentual com pós-graduação ou superior por gênero:\")\n",
    "print(escolaridade_superior)\n",
    "\n",
    "# Percentual geral de mulheres\n",
    "perc_total_mulheres = (df_rj['genero'] == 'Feminino').mean() * 100\n",
    "\n",
    "# Filtragem para cargos de liderança - apenas cargo Gestor\n",
    "cargos_lideranca = ['Gestor']\n",
    "df_lideranca = df_rj[df_rj['nivel'].isin(cargos_lideranca)]\n",
    "perc_mulheres_lideranca = (df_lideranca['genero'] == 'Feminino').mean() * 100\n",
    "\n",
    "# Filtragem para níveis seniores técnicos\n",
    "niveis_senior = ['Sênior']\n",
    "df_senior = df_rj[df_rj['nivel'].isin(niveis_senior)]\n",
    "perc_mulheres_senior = (df_senior['genero'] == 'Feminino').mean() * 100\n",
    "\n",
    "# Filtragem para nível júnior\n",
    "df_junior = df_rj[df_rj['nivel'] == 'Júnior']\n",
    "perc_mulheres_junior = (df_junior['genero'] == 'Feminino').mean() * 100\n",
    "\n",
    "print(f\"Percentual geral de mulheres: {perc_total_mulheres:.2f}%\")\n",
    "print(f\"Percentual de mulheres em cargos de liderança: {perc_mulheres_lideranca:.2f}%\")\n",
    "print(f\"Percentual de mulheres em níveis seniores: {perc_mulheres_senior:.2f}%\")\n",
    "print(f\"Percentual de mulheres em nível júnior: {perc_mulheres_junior:.2f}%\")"
   ]
  },
  {
   "cell_type": "code",
   "execution_count": null,
   "metadata": {},
   "outputs": [],
   "source": []
  },
  {
   "cell_type": "code",
   "execution_count": 75,
   "metadata": {},
   "outputs": [
    {
     "name": "stdout",
     "output_type": "stream",
     "text": [
      "Percentual geral de mulheres por ano:\n",
      "  ano_pesquisa  percentual_mulheres\n",
      "0         2021            19.819820\n",
      "1         2022            22.848665\n",
      "2         2023            25.000000\n",
      "3         2024            25.634518\n",
      "\n",
      "Percentual de mulheres em cargos de gestão por ano:\n",
      "  ano_pesquisa  percentual_mulheres_gestoras\n",
      "0         2021                     27.659574\n",
      "1         2022                     19.047619\n",
      "2         2023                     24.731183\n",
      "3         2024                     21.250000\n",
      "Ano 2021: 19.82% de mulheres no total, 27.66% das gestoras são mulheres\n",
      "Ano 2022: 22.85% de mulheres no total, 19.05% das gestoras são mulheres\n",
      "Ano 2023: 25.00% de mulheres no total, 24.73% das gestoras são mulheres\n",
      "Ano 2024: 25.63% de mulheres no total, 21.25% das gestoras são mulheres\n"
     ]
    }
   ],
   "source": [
    "# Percentual geral de mulheres por ano\n",
    "perc_total_mulheres_por_ano = df_rj.groupby('ano_pesquisa')['genero'].apply(\n",
    "    lambda x: (x == 'Feminino').mean() * 100\n",
    ").reset_index(name='percentual_mulheres')\n",
    "\n",
    "# Filtragem para cargos de liderança - apenas cargo Gestor, por ano\n",
    "cargos_lideranca = ['Júnior']\n",
    "df_lideranca = df_rj[df_rj['nivel'].isin(cargos_lideranca)]\n",
    "perc_mulheres_lideranca_por_ano = df_lideranca.groupby('ano_pesquisa')['genero'].apply(\n",
    "    lambda x: (x == 'Feminino').mean() * 100\n",
    ").reset_index(name='percentual_mulheres_gestoras')\n",
    "\n",
    "# Mostrar resultados\n",
    "print(\"Percentual geral de mulheres por ano:\")\n",
    "print(perc_total_mulheres_por_ano)\n",
    "\n",
    "print(\"\\nPercentual de mulheres em cargos de gestão por ano:\")\n",
    "print(perc_mulheres_lideranca_por_ano)\n",
    "\n",
    "\n",
    "for ano in df_rj['ano_pesquisa'].unique():\n",
    "    total_mulheres = perc_total_mulheres_por_ano[perc_total_mulheres_por_ano['ano_pesquisa'] == ano]['percentual_mulheres'].values[0]\n",
    "    \n",
    "    # Verificar se existem gestoras neste ano antes de acessar\n",
    "    gestoras_ano = perc_mulheres_lideranca_por_ano[perc_mulheres_lideranca_por_ano['ano_pesquisa'] == ano]\n",
    "    if not gestoras_ano.empty:\n",
    "        mulheres_gestoras = gestoras_ano['percentual_mulheres_gestoras'].values[0]\n",
    "        print(f\"Ano {ano}: {total_mulheres:.2f}% de mulheres no total, {mulheres_gestoras:.2f}% das gestoras são mulheres\")\n",
    "    else:\n",
    "        print(f\"Ano {ano}: {total_mulheres:.2f}% de mulheres no total, sem dados sobre gestoras\")"
   ]
  },
  {
   "cell_type": "code",
   "execution_count": 76,
   "metadata": {},
   "outputs": [
    {
     "name": "stdout",
     "output_type": "stream",
     "text": [
      "Top 5 formações acadêmicas - Homens:\n",
      "1. Computação / Engenharia de Software / TI: 377 profissionais (36.5%)\n",
      "2. Economia / Administração / Finanças / Negócios: 192 profissionais (18.6%)\n",
      "3. Engenharia (outras): 159 profissionais (15.4%)\n",
      "4. Estatística / Matemática / Ciências Atuariais: 98 profissionais (9.5%)\n",
      "5. Outras Engenharias (não incluir engenharia de software ou TI): 61 profissionais (5.9%)\n",
      "\n",
      "Top 5 formações acadêmicas - Mulheres:\n",
      "1. Computação / Engenharia de Software / TI: 93 profissionais (28.4%)\n",
      "2. Engenharia (outras): 51 profissionais (15.5%)\n",
      "3. Economia / Administração / Finanças / Negócios: 48 profissionais (14.6%)\n",
      "4. Estatística / Matemática / Ciências Atuariais: 46 profissionais (14.0%)\n",
      "5. Outras: 26 profissionais (7.9%)\n"
     ]
    }
   ],
   "source": [
    "# Top 5 formações acadêmicas para homens\n",
    "formacao_homens = df_rj[df_rj['genero'] == 'Masculino']['area_formacao'].value_counts()\n",
    "top_formacao_homens = formacao_homens.head(5)\n",
    "perc_formacao_homens = (formacao_homens.head(5) / formacao_homens.sum() * 100).round(1)\n",
    "\n",
    "# Top 5 formações acadêmicas para mulheres\n",
    "formacao_mulheres = df_rj[df_rj['genero'] == 'Feminino']['area_formacao'].value_counts()\n",
    "top_formacao_mulheres = formacao_mulheres.head(5)\n",
    "perc_formacao_mulheres = (formacao_mulheres.head(5) / formacao_mulheres.sum() * 100).round(1)\n",
    "\n",
    "# Visualizar resultados\n",
    "print(\"Top 5 formações acadêmicas - Homens:\")\n",
    "for i, (area, contagem) in enumerate(top_formacao_homens.items(), 1):\n",
    "    percentual = perc_formacao_homens[area]\n",
    "    print(f\"{i}. {area}: {contagem} profissionais ({percentual}%)\")\n",
    "\n",
    "print(\"\\nTop 5 formações acadêmicas - Mulheres:\")\n",
    "for i, (area, contagem) in enumerate(top_formacao_mulheres.items(), 1):\n",
    "    percentual = perc_formacao_mulheres[area]\n",
    "    print(f\"{i}. {area}: {contagem} profissionais ({percentual}%)\")\n"
   ]
  },
  {
   "cell_type": "code",
   "execution_count": 77,
   "metadata": {},
   "outputs": [
    {
     "name": "stdout",
     "output_type": "stream",
     "text": [
      "Distribuição de gênero por cargo:\n",
      "Product Manager: 66.7% mulheres, 33.3% homens (total: 12 profissionais)\n",
      "Analista de Dados: 26.7% mulheres, 73.3% homens (total: 427 profissionais)\n",
      "Cientista de Dados: 20.1% mulheres, 79.9% homens (total: 219 profissionais)\n",
      "Professor/Pesquisador: 20.0% mulheres, 80.0% homens (total: 5 profissionais)\n",
      "Engenheiro de Dados: 17.9% mulheres, 82.1% homens (total: 145 profissionais)\n",
      "Desenvolvedor: 17.6% mulheres, 82.4% homens (total: 51 profissionais)\n",
      "\n",
      "Média geral de mulheres no setor: 23.3%\n",
      "\n",
      "Comparação de representatividade feminina:\n",
      "Cargos técnicos: nan% mulheres\n",
      "Cargos acadêmicos: 18.4% mulheres\n"
     ]
    }
   ],
   "source": [
    "cargos_interesse = [\n",
    "    'Analista de Dados', 'Cientista de Dados', 'Engenheiro de Dados', \n",
    "    'Desenvolvedor', 'Product Manager', 'Professor/Pesquisador'\n",
    "]\n",
    "\n",
    "df_cargos = df_rj[df_rj['cargo'].isin(cargos_interesse)]\n",
    "\n",
    "# Calcular porcentagem de mulheres por cargo e total de profissionais\n",
    "resultado_cargos = (\n",
    "    df_cargos.groupby('cargo')['genero']\n",
    "    .agg(porcentagem_mulheres=lambda x: (x == 'Feminino').mean() * 100, total_profissionais='count')\n",
    "    .reset_index()\n",
    "    .sort_values('porcentagem_mulheres', ascending=False)\n",
    ")\n",
    "\n",
    "# Exibir resultados formatados\n",
    "print(\"Distribuição de gênero por cargo:\")\n",
    "for _, row in resultado_cargos.iterrows():\n",
    "    print(f\"{row['cargo']}: {row['porcentagem_mulheres']:.1f}% mulheres, {100 - row['porcentagem_mulheres']:.1f}% homens (total: {row['total_profissionais']} profissionais)\")\n",
    "\n",
    "# Média geral de mulheres no setor\n",
    "media_geral = (df_unificado['genero'] == 'Feminino').mean() * 100\n",
    "print(f\"\\nMédia geral de mulheres no setor: {media_geral:.1f}%\")\n",
    "\n",
    "# Comparação entre áreas técnicas e acadêmicas\n",
    "cargos_tecnicos = ['Cientista de Dados', 'Engenheiro de Dados', 'Desenvolvedor']\n",
    "cargos_academicos = ['Professor/Pesquisador']\n",
    "\n",
    "perc_mulheres_tecnicos = df_unificado[df_unificado['cargo'].isin(cargos_tecnicos)]['genero'].eq('Feminino').mean() * 100\n",
    "perc_mulheres_academicos = df_unificado[df_unificado['cargo'].isin(cargos_academicos)]['genero'].eq('Feminino').mean() * 100\n",
    "\n",
    "print(\"\\nComparação de representatividade feminina:\")\n",
    "print(f\"Cargos técnicos: {perc_mulheres_tecnicos:.1f}% mulheres\")\n",
    "print(f\"Cargos acadêmicos: {perc_mulheres_academicos:.1f}% mulheres\")\n"
   ]
  },
  {
   "cell_type": "code",
   "execution_count": null,
   "metadata": {},
   "outputs": [],
   "source": []
  },
  {
   "cell_type": "code",
   "execution_count": null,
   "metadata": {},
   "outputs": [],
   "source": []
  }
 ],
 "metadata": {
  "kernelspec": {
   "display_name": "Python 3",
   "language": "python",
   "name": "python3"
  },
  "language_info": {
   "codemirror_mode": {
    "name": "ipython",
    "version": 3
   },
   "file_extension": ".py",
   "mimetype": "text/x-python",
   "name": "python",
   "nbconvert_exporter": "python",
   "pygments_lexer": "ipython3",
   "version": "3.12.9"
  }
 },
 "nbformat": 4,
 "nbformat_minor": 2
}
