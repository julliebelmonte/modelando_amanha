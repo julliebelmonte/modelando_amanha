{
 "cells": [
  {
   "cell_type": "code",
   "execution_count": 1,
   "metadata": {},
   "outputs": [],
   "source": [
    "import pandas as pd\n",
    "import numpy as np\n",
    "import matplotlib.pyplot as plt\n",
    "import seaborn as sns\n",
    "import re\n",
    "import plotly.express as px\n",
    "import plotly.graph_objects as go\n",
    "from plotly.subplots import make_subplots\n"
   ]
  },
  {
   "cell_type": "code",
   "execution_count": 2,
   "metadata": {},
   "outputs": [],
   "source": [
    "df_rj = pd.read_excel('df_rj.xlsx')"
   ]
  },
  {
   "cell_type": "code",
   "execution_count": 3,
   "metadata": {},
   "outputs": [
    {
     "data": {
      "text/plain": [
       "ano_pesquisa\n",
       "2021    222\n",
       "2022    338\n",
       "2023    437\n",
       "2024    397\n",
       "Name: count, dtype: int64"
      ]
     },
     "execution_count": 3,
     "metadata": {},
     "output_type": "execute_result"
    }
   ],
   "source": [
    "df_rj[\"ano_pesquisa\"].value_counts().sort_index()"
   ]
  },
  {
   "cell_type": "code",
   "execution_count": null,
   "metadata": {},
   "outputs": [],
   "source": [
    "df_rj = df_rj[df_rj['genero'].isin(['Masculino', 'Feminino'])]"
   ]
  },
  {
   "cell_type": "code",
   "execution_count": 5,
   "metadata": {},
   "outputs": [
    {
     "data": {
      "text/plain": [
       "ano_pesquisa  genero   \n",
       "2021          Masculino    178\n",
       "              Feminino      44\n",
       "2022          Masculino    260\n",
       "              Feminino      77\n",
       "2023          Masculino    327\n",
       "              Feminino     109\n",
       "2024          Masculino    293\n",
       "              Feminino     101\n",
       "Name: count, dtype: int64"
      ]
     },
     "execution_count": 5,
     "metadata": {},
     "output_type": "execute_result"
    }
   ],
   "source": [
    "df_rj.groupby(\"ano_pesquisa\")[\"genero\"].value_counts()"
   ]
  },
  {
   "cell_type": "code",
   "execution_count": 6,
   "metadata": {},
   "outputs": [],
   "source": [
    "# ajustando nivel ensino \n",
    "\n",
    "df_rj.loc[df_rj[\"nivel_ensino\"] == 'Prefiro não informar', \"nivel_ensino\"] = np.nan\n",
    "\n",
    "df_rj.loc[df_rj[\"nivel_ensino\"] == 'Pós-graduação', \"nivel_ensino\"] = 'Especialização Lato Sensu'\n",
    "\n",
    "ordem_nivel_ensino = ['Não tenho graduação formal', 'Estudante de Graduação', \n",
    "                      'Graduação/Bacharelado', 'Especialização Lato Sensu', \n",
    "                      'Mestrado', 'Doutorado ou Phd']\n",
    "\n",
    "df_rj['nivel_ensino'] = pd.Categorical(df_rj['nivel_ensino'], categories=ordem_nivel_ensino, ordered=True)"
   ]
  },
  {
   "cell_type": "code",
   "execution_count": 7,
   "metadata": {},
   "outputs": [
    {
     "data": {
      "text/plain": [
       "ano_pesquisa  nivel \n",
       "2021          Pleno      66\n",
       "              Júnior     47\n",
       "              Sênior     40\n",
       "2022          Júnior     84\n",
       "              Sênior     75\n",
       "              Pleno      72\n",
       "2023          Sênior    122\n",
       "              Pleno     117\n",
       "              Júnior     93\n",
       "2024          Sênior    112\n",
       "              Pleno      95\n",
       "              Júnior     80\n",
       "Name: count, dtype: int64"
      ]
     },
     "execution_count": 7,
     "metadata": {},
     "output_type": "execute_result"
    }
   ],
   "source": [
    "df_rj.groupby(\"ano_pesquisa\")[\"nivel\"].value_counts()"
   ]
  },
  {
   "cell_type": "code",
   "execution_count": 8,
   "metadata": {},
   "outputs": [],
   "source": [
    "# ajustando faixa salarial\n",
    "\n",
    "df_rj[\"faixa_salarial\"] = df_rj[\"faixa_salarial\"].str.replace(r\"\\s+\", \" \", regex=True).str.strip()\n",
    "\n",
    "df_rj[\"faixa_salarial\"] = df_rj[\"faixa_salarial\"].replace({\n",
    "    'de R$ 1.001/mês a R$ 2.000/mês': \"R$1k-2k\",\n",
    "    'de R$ 2.001/mês a R$ 3.000/mês': \"R$2k-3k\",\n",
    "    'de R$ 2.001/mês a R$ 3000/mês': \"R$2k-3k\",\n",
    "    'de R$ 3.001/mês a R$ 4.000/mês': \"R$3k-4k\", \n",
    "    'de R$ 4.001/mês a R$ 6.000/mês': \"R$4k-6k\",\n",
    "    'de R$ 6.001/mês a R$ 8.000/mês': \"R$6k-8k\",\n",
    "    'de R$ 8.001/mês a R$ 12.000/mês': \"R$8k-12k\",\n",
    "    'de R$ 12.001/mês a R$ 16.000/mês': \"R$12k-16k\",\n",
    "    'de R$ 16.001/mês a R$ 20.000/mês': \"R$16k-20k\",\n",
    "    'de R$ 20.001/mês a R$ 25.000/mês': \"R$20k-25k\",\n",
    "    'de R$ 25.001/mês a R$ 30.000/mês': \"R$25k-30k\",\n",
    "    'de R$ 30.001/mês a R$ 40.000/mês': \"R$30k-40k\",\n",
    "    'Acima de R$ 40.001/mês': \"R$40k\"\n",
    "})\n",
    "\n",
    "faixas_salariais_ordem = [ \n",
    "    'R$1k-2k',\n",
    "    'R$2k-3k',\n",
    "    'R$3k-4k', \n",
    "    'R$4k-6k',\n",
    "    'R$6k-8k',\n",
    "    'R$8k-12k',\n",
    "    'R$12k-16k',\n",
    "    'R$16k-20k',\n",
    "    'R$20k-25k',\n",
    "    'R$25k-30k',\n",
    "    'R$30k-40k',\n",
    "    'R$40k'\n",
    "]\n",
    "\n",
    "df_rj['faixa_salarial'] = pd.Categorical(df_rj['faixa_salarial'], categories=faixas_salariais_ordem, ordered=True)\n"
   ]
  },
  {
   "cell_type": "code",
   "execution_count": 9,
   "metadata": {},
   "outputs": [
    {
     "data": {
      "text/plain": [
       "ano_pesquisa  faixa_salarial\n",
       "2021          R$8k-12k          46\n",
       "              R$4k-6k           36\n",
       "              R$6k-8k           28\n",
       "              R$2k-3k           18\n",
       "              R$12k-16k         18\n",
       "              R$3k-4k           12\n",
       "              R$1k-2k           10\n",
       "              R$16k-20k         10\n",
       "              R$20k-25k          4\n",
       "              R$25k-30k          2\n",
       "              R$30k-40k          1\n",
       "              R$40k              1\n",
       "2022          R$8k-12k          63\n",
       "              R$12k-16k         44\n",
       "              R$4k-6k           41\n",
       "              R$3k-4k           33\n",
       "              R$6k-8k           29\n",
       "              R$2k-3k           23\n",
       "              R$1k-2k           19\n",
       "              R$16k-20k         14\n",
       "              R$25k-30k          7\n",
       "              R$20k-25k          5\n",
       "              R$30k-40k          3\n",
       "              R$40k              0\n",
       "2023          R$8k-12k          95\n",
       "              R$4k-6k           58\n",
       "              R$6k-8k           48\n",
       "              R$12k-16k         44\n",
       "              R$3k-4k           31\n",
       "              R$2k-3k           29\n",
       "              R$1k-2k           27\n",
       "              R$16k-20k         24\n",
       "              R$20k-25k         17\n",
       "              R$25k-30k         10\n",
       "              R$30k-40k          8\n",
       "              R$40k              1\n",
       "2024          R$8k-12k          79\n",
       "              R$12k-16k         49\n",
       "              R$4k-6k           45\n",
       "              R$6k-8k           40\n",
       "              R$16k-20k         38\n",
       "              R$3k-4k           23\n",
       "              R$2k-3k           18\n",
       "              R$20k-25k         18\n",
       "              R$1k-2k           15\n",
       "              R$25k-30k         12\n",
       "              R$30k-40k         11\n",
       "              R$40k              5\n",
       "Name: count, dtype: int64"
      ]
     },
     "execution_count": 9,
     "metadata": {},
     "output_type": "execute_result"
    }
   ],
   "source": [
    "df_rj.groupby(\"ano_pesquisa\")[\"faixa_salarial\"].value_counts()"
   ]
  },
  {
   "cell_type": "code",
   "execution_count": 10,
   "metadata": {},
   "outputs": [],
   "source": [
    "# ajustando cargos\n",
    "\n",
    "mapeamento = {\n",
    "    # Analista de Dados\n",
    "    'Analista de Dados/Data Analyst': 'Analista de Dados',\n",
    "    'Analista de BI/BI Analyst': 'Analista de Dados',\n",
    "    'Analista de BI/BI Analyst/Analytics Engineer': 'Analista de Dados',\n",
    "    'Analista de Negócios/Business Analyst': 'Analista de Dados',\n",
    "    'Analista de Inteligência de Mercado/Market Intelligence': 'Analista de Dados',\n",
    "    'Analista de Marketing': 'Analista de Dados',\n",
    "    'Analista Administrativo': 'Analista de Dados',\n",
    "    'Estatístico': 'Analista de Dados',\n",
    "    'Economista': 'Analista de Dados',\n",
    "    \n",
    "    # Engenheiro de Dados\n",
    "    'Engenheiro de Dados/Arquiteto de Dados/Data Engineer/Data Architect': 'Engenheiro de Dados',\n",
    "    'Engenheiro de Dados/Data Engineer': 'Engenheiro de Dados',\n",
    "    'Analytics Engineer': 'Engenheiro de Dados',\n",
    "    'Arquiteto de Dados': 'Engenheiro de Dados',\n",
    "    'Arquiteto de dados': 'Engenheiro de Dados',\n",
    "    'DBA/Administrador de Banco de Dados': 'Engenheiro de Dados',\n",
    "    \n",
    "    # Cientista de Dados\n",
    "    'Cientista de Dados/Data Scientist': 'Cientista de Dados',\n",
    "    'Engenheiro de Machine Learning/ML Engineer': 'Cientista de Dados',\n",
    "    'Engenheiro de Machine Learning/ML Engineer/AI Engineer': 'Cientista de Dados',\n",
    "    \n",
    "    # Professor/Pesquisador\n",
    "    'Professor': 'Professor/Pesquisador',\n",
    "    'Professor/Pesquisador': 'Professor/Pesquisador',\n",
    "    \n",
    "    # Product Manager\n",
    "    'Data Product Manager/ Product Manager (PM/APM/DPM/GPM/PO)': 'Product Manager',\n",
    "    'Product Manager/ Product Owner (PM/APM/DPM/GPM/PO)': 'Product Manager',\n",
    "    'Product Manager': 'Product Manager',\n",
    "    \n",
    "    # Desenvolvedor\n",
    "    'Desenvolvedor/ Engenheiro de Software/ Analista de Sistemas': 'Desenvolvedor',\n",
    "    'Desenvolvedor ou Engenheiro de Software': 'Desenvolvedor',\n",
    "    'Analista de Sistemas/Analista de TI': 'Desenvolvedor',\n",
    "    'Analista de Suporte/Analista Técnico': 'Desenvolvedor',\n",
    "    'Suporte Técnico': 'Desenvolvedor',\n",
    "    'Técnico': 'Desenvolvedor',\n",
    "    \n",
    "    # Categorias que não se encaixam exatamente\n",
    "    'Outra Opção': 'Outro',\n",
    "    'Outro': 'Outro',\n",
    "    'Outras Engenharias (não inclui dev)': 'Outro'\n",
    "}\n",
    "\n",
    "df_rj['cargo'] = df_rj['cargo'].map(mapeamento).fillna(df_rj['cargo'])"
   ]
  },
  {
   "cell_type": "code",
   "execution_count": 11,
   "metadata": {},
   "outputs": [
    {
     "data": {
      "text/plain": [
       "ano_pesquisa  cargo                                           \n",
       "2021          Analista de Dados                                    84\n",
       "              Cientista de Dados                                   34\n",
       "              Engenheiro de Dados                                  17\n",
       "              Desenvolvedor                                         9\n",
       "              Outro                                                 9\n",
       "2022          Analista de Dados                                    93\n",
       "              Cientista de Dados                                   53\n",
       "              Engenheiro de Dados                                  43\n",
       "              Outro                                                28\n",
       "              Desenvolvedor                                        13\n",
       "              Professor/Pesquisador                                 1\n",
       "2023          Analista de Dados                                   151\n",
       "              Engenheiro de Dados                                  69\n",
       "              Cientista de Dados                                   63\n",
       "              Outro                                                33\n",
       "              Desenvolvedor                                        10\n",
       "              Product Manager                                       4\n",
       "              Professor/Pesquisador                                 2\n",
       "2024          Analista de Dados                                    99\n",
       "              Cientista de Dados                                   69\n",
       "              Engenheiro de Dados/Data Engineer/Data Architect     46\n",
       "              Outro                                                25\n",
       "              Desenvolvedor                                        19\n",
       "              Engenheiro de Dados                                  16\n",
       "              Product Manager                                       8\n",
       "              Arquiteto de Dados/Data Architect                     3\n",
       "              Professor/Pesquisador                                 2\n",
       "Name: count, dtype: int64"
      ]
     },
     "execution_count": 11,
     "metadata": {},
     "output_type": "execute_result"
    }
   ],
   "source": [
    "df_rj.groupby(\"ano_pesquisa\")[\"cargo\"].value_counts()"
   ]
  },
  {
   "cell_type": "code",
   "execution_count": 12,
   "metadata": {},
   "outputs": [],
   "source": [
    "# ajustando nivel senioridade\n",
    "\n",
    "df_rj[\"nivel\"] = df_rj[\"nivel\"].astype('category')\n",
    "\n",
    "if 'Gestor' not in df_rj[\"nivel\"].cat.categories:\n",
    "    df_rj[\"nivel\"] = df_rj[\"nivel\"].cat.add_categories(['Gestor'])\n",
    "\n",
    "\n",
    "df_rj.loc[df_rj[\"gestor\"] == 1.0, \"nivel\"] = \"Gestor\"\n",
    "\n",
    "df_rj[\"nivel\"] = df_rj[\"nivel\"].cat.reorder_categories(['Júnior', 'Pleno', 'Sênior', 'Gestor'])\n"
   ]
  },
  {
   "cell_type": "code",
   "execution_count": 13,
   "metadata": {},
   "outputs": [],
   "source": [
    "# ajustando áreas de formação\n",
    "\n",
    "mapeamento_areas = {\n",
    "    \"Química / Física\": \"Química / Física\",\n",
    "    \"Economia/ Administração / Contabilidade / Finanças\": \"Economia / Administração / Finanças / Negócios\",\n",
    "    \"Computação / Engenharia de Software / Sistemas de Informação/ TI\": \"Computação / Engenharia de Software / TI\",\n",
    "    \"Outras\": \"Outras\",\n",
    "    \"Outras Engenharias\": \"Engenharia (outras)\",\n",
    "    \"Marketing / Publicidade / Comunicação / Jornalismo\": \"Marketing / Comunicação / Jornalismo\",\n",
    "    \"Estatística/ Matemática / Matemática Computacional\": \"Estatística / Matemática / Ciências Atuariais\",\n",
    "    \"Ciências Sociais\": \"Ciências Sociais\",\n",
    "    \"Ciências Biológicas/Farmácia/Medicina/Área da Saúde\": \"Ciências Biológicas / Medicina / Saúde\",\n",
    "    \"Estatística/ Matemática / Matemática Computacional/ Ciências Atuariais\": \"Estatística / Matemática / Ciências Atuariais\",\n",
    "    \"Ciências Biológicas/ Farmácia/ Medicina/ Área da Saúde\": \"Ciências Biológicas / Medicina / Saúde\",\n",
    "    \"Economia/ Administração / Contabilidade / Finanças/ Negócios\": \"Economia / Administração / Finanças / Negócios\",\n",
    "    \"Outra opção\": \"Outras\"\n",
    "}\n",
    "\n",
    "df_rj[\"area_formacao\"] = df_rj[\"area_formacao\"].replace(mapeamento_areas)"
   ]
  },
  {
   "cell_type": "code",
   "execution_count": 14,
   "metadata": {},
   "outputs": [
    {
     "data": {
      "text/plain": [
       "setor\n",
       "Tecnologia/Fábrica de Software         222\n",
       "Finanças ou Bancos                     133\n",
       "Varejo                                 101\n",
       "Área de Consultoria                     99\n",
       "Educação                                95\n",
       "Outra Opção                             77\n",
       "Área da Saúde                           66\n",
       "Telecomunicação                         54\n",
       "Setor de Energia                        47\n",
       "Setor Público                           46\n",
       "Indústria                               42\n",
       "Internet/Ecommerce                      40\n",
       "Marketing                               36\n",
       "Entretenimento ou Esportes              35\n",
       "Seguros ou Previdência                  35\n",
       "Setor Alimentício                       30\n",
       "Outro                                   12\n",
       "Setor Imobiliário/ Construção Civil     11\n",
       "Agronegócios                             9\n",
       "Consultoria                              7\n",
       "Filantropia/ONG's                        7\n",
       "Energia                                  7\n",
       "Setor Farmaceutico                       6\n",
       "Logística                                4\n",
       "Setor Automotivo                         3\n",
       "consultoria                              1\n",
       "Construção Civil                         1\n",
       "Serviços                                 1\n",
       "Name: count, dtype: int64"
      ]
     },
     "execution_count": 14,
     "metadata": {},
     "output_type": "execute_result"
    }
   ],
   "source": [
    "df_rj[\"setor\"].value_counts()"
   ]
  },
  {
   "cell_type": "code",
   "execution_count": 15,
   "metadata": {},
   "outputs": [
    {
     "data": {
      "text/html": [
       "<div>\n",
       "<style scoped>\n",
       "    .dataframe tbody tr th:only-of-type {\n",
       "        vertical-align: middle;\n",
       "    }\n",
       "\n",
       "    .dataframe tbody tr th {\n",
       "        vertical-align: top;\n",
       "    }\n",
       "\n",
       "    .dataframe thead th {\n",
       "        text-align: right;\n",
       "    }\n",
       "</style>\n",
       "<table border=\"1\" class=\"dataframe\">\n",
       "  <thead>\n",
       "    <tr style=\"text-align: right;\">\n",
       "      <th></th>\n",
       "      <th>ano_pesquisa</th>\n",
       "      <th>idade</th>\n",
       "      <th>faixa_idade</th>\n",
       "      <th>genero</th>\n",
       "      <th>estado</th>\n",
       "      <th>uf</th>\n",
       "      <th>regiao</th>\n",
       "      <th>regiao_origem</th>\n",
       "      <th>mudou_estado</th>\n",
       "      <th>nivel_ensino</th>\n",
       "      <th>area_formacao</th>\n",
       "      <th>situacao</th>\n",
       "      <th>setor</th>\n",
       "      <th>cargo</th>\n",
       "      <th>gestor</th>\n",
       "      <th>nivel</th>\n",
       "      <th>faixa_salarial</th>\n",
       "      <th>tempo_area_dados</th>\n",
       "      <th>tempo_area_ti</th>\n",
       "      <th>modalidade</th>\n",
       "    </tr>\n",
       "  </thead>\n",
       "  <tbody>\n",
       "    <tr>\n",
       "      <th>0</th>\n",
       "      <td>2021</td>\n",
       "      <td>39.0</td>\n",
       "      <td>35-39</td>\n",
       "      <td>Masculino</td>\n",
       "      <td>Rio de Janeiro (RJ)</td>\n",
       "      <td>RJ</td>\n",
       "      <td>Sudeste</td>\n",
       "      <td>NaN</td>\n",
       "      <td>0</td>\n",
       "      <td>Não tenho graduação formal</td>\n",
       "      <td>area_formacao</td>\n",
       "      <td>Empregado (CLT)</td>\n",
       "      <td>Varejo</td>\n",
       "      <td>NaN</td>\n",
       "      <td>1.0</td>\n",
       "      <td>Gestor</td>\n",
       "      <td>R$8k-12k</td>\n",
       "      <td>de 6 a 10 anos</td>\n",
       "      <td>Não tive experiência na área de TI/Engenharia ...</td>\n",
       "      <td>Modelo 100% remoto</td>\n",
       "    </tr>\n",
       "    <tr>\n",
       "      <th>1</th>\n",
       "      <td>2021</td>\n",
       "      <td>33.0</td>\n",
       "      <td>30-34</td>\n",
       "      <td>Masculino</td>\n",
       "      <td>Rio de Janeiro (RJ)</td>\n",
       "      <td>RJ</td>\n",
       "      <td>Sudeste</td>\n",
       "      <td>NaN</td>\n",
       "      <td>0</td>\n",
       "      <td>Especialização Lato Sensu</td>\n",
       "      <td>Computação / Engenharia de Software / TI</td>\n",
       "      <td>Empregado (CLT)</td>\n",
       "      <td>Varejo</td>\n",
       "      <td>NaN</td>\n",
       "      <td>1.0</td>\n",
       "      <td>Gestor</td>\n",
       "      <td>R$8k-12k</td>\n",
       "      <td>Mais de 10 anos</td>\n",
       "      <td>de 1 a 2 anos</td>\n",
       "      <td>Modelo híbrido com dias fixos de trabalho pres...</td>\n",
       "    </tr>\n",
       "    <tr>\n",
       "      <th>2</th>\n",
       "      <td>2021</td>\n",
       "      <td>37.0</td>\n",
       "      <td>35-39</td>\n",
       "      <td>Masculino</td>\n",
       "      <td>Rio de Janeiro (RJ)</td>\n",
       "      <td>RJ</td>\n",
       "      <td>Sudeste</td>\n",
       "      <td>NaN</td>\n",
       "      <td>0</td>\n",
       "      <td>Especialização Lato Sensu</td>\n",
       "      <td>Computação / Engenharia de Software / TI</td>\n",
       "      <td>Empregado (CLT)</td>\n",
       "      <td>Marketing</td>\n",
       "      <td>NaN</td>\n",
       "      <td>1.0</td>\n",
       "      <td>Gestor</td>\n",
       "      <td>R$20k-25k</td>\n",
       "      <td>de 6 a 10 anos</td>\n",
       "      <td>Mais de 10 anos</td>\n",
       "      <td>Modelo 100% remoto</td>\n",
       "    </tr>\n",
       "    <tr>\n",
       "      <th>3</th>\n",
       "      <td>2021</td>\n",
       "      <td>32.0</td>\n",
       "      <td>30-34</td>\n",
       "      <td>Masculino</td>\n",
       "      <td>Rio de Janeiro (RJ)</td>\n",
       "      <td>RJ</td>\n",
       "      <td>Sudeste</td>\n",
       "      <td>Sudeste</td>\n",
       "      <td>1</td>\n",
       "      <td>Especialização Lato Sensu</td>\n",
       "      <td>Economia / Administração / Finanças / Negócios</td>\n",
       "      <td>Servidor Público</td>\n",
       "      <td>Setor Público</td>\n",
       "      <td>NaN</td>\n",
       "      <td>1.0</td>\n",
       "      <td>Gestor</td>\n",
       "      <td>R$8k-12k</td>\n",
       "      <td>Não tenho experiência na área de dados</td>\n",
       "      <td>Não tive experiência na área de TI/Engenharia ...</td>\n",
       "      <td>Modelo 100% presencial</td>\n",
       "    </tr>\n",
       "    <tr>\n",
       "      <th>4</th>\n",
       "      <td>2021</td>\n",
       "      <td>35.0</td>\n",
       "      <td>35-39</td>\n",
       "      <td>Feminino</td>\n",
       "      <td>Rio de Janeiro (RJ)</td>\n",
       "      <td>RJ</td>\n",
       "      <td>Sudeste</td>\n",
       "      <td>NaN</td>\n",
       "      <td>0</td>\n",
       "      <td>Especialização Lato Sensu</td>\n",
       "      <td>Economia / Administração / Finanças / Negócios</td>\n",
       "      <td>Empregado (CLT)</td>\n",
       "      <td>Internet/Ecommerce</td>\n",
       "      <td>NaN</td>\n",
       "      <td>1.0</td>\n",
       "      <td>Gestor</td>\n",
       "      <td>R$20k-25k</td>\n",
       "      <td>de 6 a 10 anos</td>\n",
       "      <td>Não tive experiência na área de TI/Engenharia ...</td>\n",
       "      <td>Modelo 100% remoto</td>\n",
       "    </tr>\n",
       "  </tbody>\n",
       "</table>\n",
       "</div>"
      ],
      "text/plain": [
       "   ano_pesquisa  idade faixa_idade     genero               estado  uf  \\\n",
       "0          2021   39.0       35-39  Masculino  Rio de Janeiro (RJ)  RJ   \n",
       "1          2021   33.0       30-34  Masculino  Rio de Janeiro (RJ)  RJ   \n",
       "2          2021   37.0       35-39  Masculino  Rio de Janeiro (RJ)  RJ   \n",
       "3          2021   32.0       30-34  Masculino  Rio de Janeiro (RJ)  RJ   \n",
       "4          2021   35.0       35-39   Feminino  Rio de Janeiro (RJ)  RJ   \n",
       "\n",
       "    regiao regiao_origem  mudou_estado                nivel_ensino  \\\n",
       "0  Sudeste           NaN             0  Não tenho graduação formal   \n",
       "1  Sudeste           NaN             0   Especialização Lato Sensu   \n",
       "2  Sudeste           NaN             0   Especialização Lato Sensu   \n",
       "3  Sudeste       Sudeste             1   Especialização Lato Sensu   \n",
       "4  Sudeste           NaN             0   Especialização Lato Sensu   \n",
       "\n",
       "                                    area_formacao          situacao  \\\n",
       "0                                   area_formacao   Empregado (CLT)   \n",
       "1        Computação / Engenharia de Software / TI   Empregado (CLT)   \n",
       "2        Computação / Engenharia de Software / TI   Empregado (CLT)   \n",
       "3  Economia / Administração / Finanças / Negócios  Servidor Público   \n",
       "4  Economia / Administração / Finanças / Negócios   Empregado (CLT)   \n",
       "\n",
       "                setor cargo  gestor   nivel faixa_salarial  \\\n",
       "0              Varejo   NaN     1.0  Gestor       R$8k-12k   \n",
       "1              Varejo   NaN     1.0  Gestor       R$8k-12k   \n",
       "2           Marketing   NaN     1.0  Gestor      R$20k-25k   \n",
       "3       Setor Público   NaN     1.0  Gestor       R$8k-12k   \n",
       "4  Internet/Ecommerce   NaN     1.0  Gestor      R$20k-25k   \n",
       "\n",
       "                         tempo_area_dados  \\\n",
       "0                          de 6 a 10 anos   \n",
       "1                         Mais de 10 anos   \n",
       "2                          de 6 a 10 anos   \n",
       "3  Não tenho experiência na área de dados   \n",
       "4                          de 6 a 10 anos   \n",
       "\n",
       "                                       tempo_area_ti  \\\n",
       "0  Não tive experiência na área de TI/Engenharia ...   \n",
       "1                                      de 1 a 2 anos   \n",
       "2                                    Mais de 10 anos   \n",
       "3  Não tive experiência na área de TI/Engenharia ...   \n",
       "4  Não tive experiência na área de TI/Engenharia ...   \n",
       "\n",
       "                                          modalidade  \n",
       "0                                 Modelo 100% remoto  \n",
       "1  Modelo híbrido com dias fixos de trabalho pres...  \n",
       "2                                 Modelo 100% remoto  \n",
       "3                             Modelo 100% presencial  \n",
       "4                                 Modelo 100% remoto  "
      ]
     },
     "execution_count": 15,
     "metadata": {},
     "output_type": "execute_result"
    }
   ],
   "source": [
    "df_rj.head()"
   ]
  },
  {
   "cell_type": "markdown",
   "metadata": {},
   "source": [
    "# Visualizando os dados"
   ]
  },
  {
   "cell_type": "code",
   "execution_count": null,
   "metadata": {},
   "outputs": [],
   "source": [
    "# Configuraçãos gerais do gráfico\n",
    "\n",
    "def grafico_barras_horizontal(\n",
    "    df,\n",
    "    eixo_x,           # coluna para valores (quantidade ou proporção)\n",
    "    eixo_y,           # coluna para categorias (ex: faixa salarial, nível, área)\n",
    "    eixo_ano,         # coluna do ano\n",
    "    eixo_genero,      # coluna do gênero\n",
    "    anos,\n",
    "    cores,\n",
    "    titulo,\n",
    "    ordem_y=None,\n",
    "    barmode=\"group\",\n",
    "    invertido=False,  # se True, inverte valores do Feminino (piramide)\n",
    "    x_range=None,\n",
    "    x_sufixo=\"\",\n",
    "    altura=600,\n",
    "    largura=1000\n",
    "):\n",
    "    fig = make_subplots(\n",
    "        rows=1,\n",
    "        cols=len(anos),\n",
    "        subplot_titles=anos,\n",
    "        shared_yaxes=True,\n",
    "        horizontal_spacing=0.07\n",
    "    )\n",
    "    for idx, ano in enumerate(anos, 1):\n",
    "        df_ano = df[df[eixo_ano] == ano]\n",
    "        df_grouped = df_ano.groupby([eixo_y, eixo_genero])[eixo_x].sum().reset_index()\n",
    "        df_plot = df_grouped.pivot(index=eixo_y, columns=eixo_genero, values=eixo_x).fillna(0)\n",
    "        categorias_y = ordem_y if ordem_y else df_plot.index.tolist()\n",
    "        for genero in cores.keys():\n",
    "            if genero not in df_plot.columns:\n",
    "                df_plot[genero] = 0\n",
    "            valores = df_plot.loc[categorias_y, genero] if genero in df_plot.columns else [0]*len(categorias_y)\n",
    "            if invertido and genero == \"Feminino\":\n",
    "                valores = -valores\n",
    "            fig.add_trace(\n",
    "                go.Bar(\n",
    "                    y=categorias_y,\n",
    "                    x=valores,\n",
    "                    name=genero,\n",
    "                    orientation=\"h\",\n",
    "                    marker=dict(color=cores[genero]),\n",
    "                    text=[f\"{int(round(val))}{x_sufixo}\" for val in valores],\n",
    "                    textposition=\"outside\",\n",
    "                    showlegend=True if idx == 1 else False\n",
    "                ),\n",
    "                row=1,\n",
    "                col=idx\n",
    "            )\n",
    "    fig.update_layout(\n",
    "        title=titulo,\n",
    "        template=\"plotly_white\",\n",
    "        height=altura,\n",
    "        width=largura,\n",
    "        bargap=0.1,\n",
    "        barmode=barmode,\n",
    "        legend=dict(\n",
    "            orientation=\"h\",\n",
    "            yanchor=\"bottom\",\n",
    "            y=1.02,\n",
    "            xanchor=\"center\",\n",
    "            x=0.5\n",
    "        )\n",
    "    )\n",
    "    for i in range(1, len(anos)+1):\n",
    "        fig.update_xaxes(\n",
    "            title_text=\"Quantidade\" if x_sufixo == \"\" else f\"Proporção ({x_sufixo})\",\n",
    "            ticksuffix=x_sufixo,\n",
    "            range=x_range,\n",
    "            row=1,\n",
    "            col=i\n",
    "        )\n",
    "        fig.update_yaxes(title_text=eixo_y)\n",
    "        if invertido:\n",
    "            fig.add_shape(\n",
    "                type=\"line\",\n",
    "                x0=0, y0=-0.5,\n",
    "                x1=0, y1=len(categorias_y) - 0.5,\n",
    "                line=dict(color=\"black\", width=1, dash=\"dot\"),\n",
    "                row=1, col=i\n",
    "            )\n",
    "    fig.show()\n",
    "    return fig\n",
    "\n",
    "# Exemplo de chamada para senioridade x gênero (proporção, pirâmide invertida):\n",
    "grafico_barras_horizontal(\n",
    "    df=df_grouped,                # seu DataFrame já agrupado e com proporção\n",
    "    eixo_x=\"proporção\",\n",
    "    eixo_y=\"nivel\",\n",
    "    eixo_ano=\"ano_pesquisa\",\n",
    "    eixo_genero=\"genero\",\n",
    "    anos=[\"2021\", \"2022\", \"2023\", \"2024\"],\n",
    "    cores={\"Masculino\": \"#1E90FF\", \"Feminino\": \"#FF7F50\"},\n",
    "    titulo=\"Distribuição de Senioridade por Gênero (2021-2024)\",\n",
    "    ordem_y=[\"Júnior\", \"Pleno\", \"Sênior\", \"Gestor\"],\n",
    "    barmode=\"relative\",\n",
    "    invertido=True,\n",
    "    x_range=[-100, 100],\n",
    "    x_sufixo=\"%\",\n",
    "    altura=600\n",
    ")\n",
    "\n",
    "# Para outros gráficos, só troque os parâmetros conforme o recorte\n"
   ]
  },
  {
   "cell_type": "code",
   "execution_count": null,
   "metadata": {},
   "outputs": [
    {
     "name": "stderr",
     "output_type": "stream",
     "text": [
      "C:\\Users\\julli\\AppData\\Local\\Temp\\ipykernel_26276\\3618649428.py:20: FutureWarning:\n",
      "\n",
      "The default of observed=False is deprecated and will be changed to True in a future version of pandas. Pass observed=False to retain current behavior or observed=True to adopt the future default and silence this warning.\n",
      "\n",
      "C:\\Users\\julli\\AppData\\Local\\Temp\\ipykernel_26276\\3618649428.py:20: FutureWarning:\n",
      "\n",
      "The default of observed=False is deprecated and will be changed to True in a future version of pandas. Pass observed=False to retain current behavior or observed=True to adopt the future default and silence this warning.\n",
      "\n",
      "C:\\Users\\julli\\AppData\\Local\\Temp\\ipykernel_26276\\3618649428.py:20: FutureWarning:\n",
      "\n",
      "The default of observed=False is deprecated and will be changed to True in a future version of pandas. Pass observed=False to retain current behavior or observed=True to adopt the future default and silence this warning.\n",
      "\n",
      "C:\\Users\\julli\\AppData\\Local\\Temp\\ipykernel_26276\\3618649428.py:20: FutureWarning:\n",
      "\n",
      "The default of observed=False is deprecated and will be changed to True in a future version of pandas. Pass observed=False to retain current behavior or observed=True to adopt the future default and silence this warning.\n",
      "\n"
     ]
    },
    {
     "data": {
      "application/vnd.plotly.v1+json": {
       "config": {
        "plotlyServerURL": "https://plot.ly"
       },
       "data": [
        {
         "marker": {
          "color": "#FF7F50"
         },
         "name": "Feminino",
         "orientation": "h",
         "showlegend": true,
         "text": [],
         "textposition": "auto",
         "type": "bar",
         "x": [],
         "xaxis": "x",
         "y": [],
         "yaxis": "y"
        },
        {
         "marker": {
          "color": "#1E90FF"
         },
         "name": "Masculino",
         "orientation": "h",
         "showlegend": true,
         "text": [],
         "textposition": "auto",
         "type": "bar",
         "x": [],
         "xaxis": "x",
         "y": [],
         "yaxis": "y"
        },
        {
         "marker": {
          "color": "#FF7F50"
         },
         "name": "Feminino",
         "orientation": "h",
         "showlegend": false,
         "text": [],
         "textposition": "auto",
         "type": "bar",
         "x": [],
         "xaxis": "x2",
         "y": [],
         "yaxis": "y2"
        },
        {
         "marker": {
          "color": "#1E90FF"
         },
         "name": "Masculino",
         "orientation": "h",
         "showlegend": false,
         "text": [],
         "textposition": "auto",
         "type": "bar",
         "x": [],
         "xaxis": "x2",
         "y": [],
         "yaxis": "y2"
        },
        {
         "marker": {
          "color": "#FF7F50"
         },
         "name": "Feminino",
         "orientation": "h",
         "showlegend": false,
         "text": [],
         "textposition": "auto",
         "type": "bar",
         "x": [],
         "xaxis": "x3",
         "y": [],
         "yaxis": "y3"
        },
        {
         "marker": {
          "color": "#1E90FF"
         },
         "name": "Masculino",
         "orientation": "h",
         "showlegend": false,
         "text": [],
         "textposition": "auto",
         "type": "bar",
         "x": [],
         "xaxis": "x3",
         "y": [],
         "yaxis": "y3"
        },
        {
         "marker": {
          "color": "#FF7F50"
         },
         "name": "Feminino",
         "orientation": "h",
         "showlegend": false,
         "text": [],
         "textposition": "auto",
         "type": "bar",
         "x": [],
         "xaxis": "x4",
         "y": [],
         "yaxis": "y4"
        },
        {
         "marker": {
          "color": "#1E90FF"
         },
         "name": "Masculino",
         "orientation": "h",
         "showlegend": false,
         "text": [],
         "textposition": "auto",
         "type": "bar",
         "x": [],
         "xaxis": "x4",
         "y": [],
         "yaxis": "y4"
        }
       ],
       "layout": {
        "annotations": [
         {
          "font": {
           "size": 16
          },
          "showarrow": false,
          "text": "2021",
          "x": 0.10625,
          "xanchor": "center",
          "xref": "paper",
          "y": 1,
          "yanchor": "bottom",
          "yref": "paper"
         },
         {
          "font": {
           "size": 16
          },
          "showarrow": false,
          "text": "2022",
          "x": 0.36875,
          "xanchor": "center",
          "xref": "paper",
          "y": 1,
          "yanchor": "bottom",
          "yref": "paper"
         },
         {
          "font": {
           "size": 16
          },
          "showarrow": false,
          "text": "2023",
          "x": 0.6312500000000001,
          "xanchor": "center",
          "xref": "paper",
          "y": 1,
          "yanchor": "bottom",
          "yref": "paper"
         },
         {
          "font": {
           "size": 16
          },
          "showarrow": false,
          "text": "2024",
          "x": 0.89375,
          "xanchor": "center",
          "xref": "paper",
          "y": 1,
          "yanchor": "bottom",
          "yref": "paper"
         }
        ],
        "bargap": 0.1,
        "height": 600,
        "showlegend": true,
        "template": {
         "data": {
          "bar": [
           {
            "error_x": {
             "color": "#2a3f5f"
            },
            "error_y": {
             "color": "#2a3f5f"
            },
            "marker": {
             "line": {
              "color": "white",
              "width": 0.5
             },
             "pattern": {
              "fillmode": "overlay",
              "size": 10,
              "solidity": 0.2
             }
            },
            "type": "bar"
           }
          ],
          "barpolar": [
           {
            "marker": {
             "line": {
              "color": "white",
              "width": 0.5
             },
             "pattern": {
              "fillmode": "overlay",
              "size": 10,
              "solidity": 0.2
             }
            },
            "type": "barpolar"
           }
          ],
          "carpet": [
           {
            "aaxis": {
             "endlinecolor": "#2a3f5f",
             "gridcolor": "#C8D4E3",
             "linecolor": "#C8D4E3",
             "minorgridcolor": "#C8D4E3",
             "startlinecolor": "#2a3f5f"
            },
            "baxis": {
             "endlinecolor": "#2a3f5f",
             "gridcolor": "#C8D4E3",
             "linecolor": "#C8D4E3",
             "minorgridcolor": "#C8D4E3",
             "startlinecolor": "#2a3f5f"
            },
            "type": "carpet"
           }
          ],
          "choropleth": [
           {
            "colorbar": {
             "outlinewidth": 0,
             "ticks": ""
            },
            "type": "choropleth"
           }
          ],
          "contour": [
           {
            "colorbar": {
             "outlinewidth": 0,
             "ticks": ""
            },
            "colorscale": [
             [
              0,
              "#0d0887"
             ],
             [
              0.1111111111111111,
              "#46039f"
             ],
             [
              0.2222222222222222,
              "#7201a8"
             ],
             [
              0.3333333333333333,
              "#9c179e"
             ],
             [
              0.4444444444444444,
              "#bd3786"
             ],
             [
              0.5555555555555556,
              "#d8576b"
             ],
             [
              0.6666666666666666,
              "#ed7953"
             ],
             [
              0.7777777777777778,
              "#fb9f3a"
             ],
             [
              0.8888888888888888,
              "#fdca26"
             ],
             [
              1,
              "#f0f921"
             ]
            ],
            "type": "contour"
           }
          ],
          "contourcarpet": [
           {
            "colorbar": {
             "outlinewidth": 0,
             "ticks": ""
            },
            "type": "contourcarpet"
           }
          ],
          "heatmap": [
           {
            "colorbar": {
             "outlinewidth": 0,
             "ticks": ""
            },
            "colorscale": [
             [
              0,
              "#0d0887"
             ],
             [
              0.1111111111111111,
              "#46039f"
             ],
             [
              0.2222222222222222,
              "#7201a8"
             ],
             [
              0.3333333333333333,
              "#9c179e"
             ],
             [
              0.4444444444444444,
              "#bd3786"
             ],
             [
              0.5555555555555556,
              "#d8576b"
             ],
             [
              0.6666666666666666,
              "#ed7953"
             ],
             [
              0.7777777777777778,
              "#fb9f3a"
             ],
             [
              0.8888888888888888,
              "#fdca26"
             ],
             [
              1,
              "#f0f921"
             ]
            ],
            "type": "heatmap"
           }
          ],
          "heatmapgl": [
           {
            "colorbar": {
             "outlinewidth": 0,
             "ticks": ""
            },
            "colorscale": [
             [
              0,
              "#0d0887"
             ],
             [
              0.1111111111111111,
              "#46039f"
             ],
             [
              0.2222222222222222,
              "#7201a8"
             ],
             [
              0.3333333333333333,
              "#9c179e"
             ],
             [
              0.4444444444444444,
              "#bd3786"
             ],
             [
              0.5555555555555556,
              "#d8576b"
             ],
             [
              0.6666666666666666,
              "#ed7953"
             ],
             [
              0.7777777777777778,
              "#fb9f3a"
             ],
             [
              0.8888888888888888,
              "#fdca26"
             ],
             [
              1,
              "#f0f921"
             ]
            ],
            "type": "heatmapgl"
           }
          ],
          "histogram": [
           {
            "marker": {
             "pattern": {
              "fillmode": "overlay",
              "size": 10,
              "solidity": 0.2
             }
            },
            "type": "histogram"
           }
          ],
          "histogram2d": [
           {
            "colorbar": {
             "outlinewidth": 0,
             "ticks": ""
            },
            "colorscale": [
             [
              0,
              "#0d0887"
             ],
             [
              0.1111111111111111,
              "#46039f"
             ],
             [
              0.2222222222222222,
              "#7201a8"
             ],
             [
              0.3333333333333333,
              "#9c179e"
             ],
             [
              0.4444444444444444,
              "#bd3786"
             ],
             [
              0.5555555555555556,
              "#d8576b"
             ],
             [
              0.6666666666666666,
              "#ed7953"
             ],
             [
              0.7777777777777778,
              "#fb9f3a"
             ],
             [
              0.8888888888888888,
              "#fdca26"
             ],
             [
              1,
              "#f0f921"
             ]
            ],
            "type": "histogram2d"
           }
          ],
          "histogram2dcontour": [
           {
            "colorbar": {
             "outlinewidth": 0,
             "ticks": ""
            },
            "colorscale": [
             [
              0,
              "#0d0887"
             ],
             [
              0.1111111111111111,
              "#46039f"
             ],
             [
              0.2222222222222222,
              "#7201a8"
             ],
             [
              0.3333333333333333,
              "#9c179e"
             ],
             [
              0.4444444444444444,
              "#bd3786"
             ],
             [
              0.5555555555555556,
              "#d8576b"
             ],
             [
              0.6666666666666666,
              "#ed7953"
             ],
             [
              0.7777777777777778,
              "#fb9f3a"
             ],
             [
              0.8888888888888888,
              "#fdca26"
             ],
             [
              1,
              "#f0f921"
             ]
            ],
            "type": "histogram2dcontour"
           }
          ],
          "mesh3d": [
           {
            "colorbar": {
             "outlinewidth": 0,
             "ticks": ""
            },
            "type": "mesh3d"
           }
          ],
          "parcoords": [
           {
            "line": {
             "colorbar": {
              "outlinewidth": 0,
              "ticks": ""
             }
            },
            "type": "parcoords"
           }
          ],
          "pie": [
           {
            "automargin": true,
            "type": "pie"
           }
          ],
          "scatter": [
           {
            "fillpattern": {
             "fillmode": "overlay",
             "size": 10,
             "solidity": 0.2
            },
            "type": "scatter"
           }
          ],
          "scatter3d": [
           {
            "line": {
             "colorbar": {
              "outlinewidth": 0,
              "ticks": ""
             }
            },
            "marker": {
             "colorbar": {
              "outlinewidth": 0,
              "ticks": ""
             }
            },
            "type": "scatter3d"
           }
          ],
          "scattercarpet": [
           {
            "marker": {
             "colorbar": {
              "outlinewidth": 0,
              "ticks": ""
             }
            },
            "type": "scattercarpet"
           }
          ],
          "scattergeo": [
           {
            "marker": {
             "colorbar": {
              "outlinewidth": 0,
              "ticks": ""
             }
            },
            "type": "scattergeo"
           }
          ],
          "scattergl": [
           {
            "marker": {
             "colorbar": {
              "outlinewidth": 0,
              "ticks": ""
             }
            },
            "type": "scattergl"
           }
          ],
          "scattermapbox": [
           {
            "marker": {
             "colorbar": {
              "outlinewidth": 0,
              "ticks": ""
             }
            },
            "type": "scattermapbox"
           }
          ],
          "scatterpolar": [
           {
            "marker": {
             "colorbar": {
              "outlinewidth": 0,
              "ticks": ""
             }
            },
            "type": "scatterpolar"
           }
          ],
          "scatterpolargl": [
           {
            "marker": {
             "colorbar": {
              "outlinewidth": 0,
              "ticks": ""
             }
            },
            "type": "scatterpolargl"
           }
          ],
          "scatterternary": [
           {
            "marker": {
             "colorbar": {
              "outlinewidth": 0,
              "ticks": ""
             }
            },
            "type": "scatterternary"
           }
          ],
          "surface": [
           {
            "colorbar": {
             "outlinewidth": 0,
             "ticks": ""
            },
            "colorscale": [
             [
              0,
              "#0d0887"
             ],
             [
              0.1111111111111111,
              "#46039f"
             ],
             [
              0.2222222222222222,
              "#7201a8"
             ],
             [
              0.3333333333333333,
              "#9c179e"
             ],
             [
              0.4444444444444444,
              "#bd3786"
             ],
             [
              0.5555555555555556,
              "#d8576b"
             ],
             [
              0.6666666666666666,
              "#ed7953"
             ],
             [
              0.7777777777777778,
              "#fb9f3a"
             ],
             [
              0.8888888888888888,
              "#fdca26"
             ],
             [
              1,
              "#f0f921"
             ]
            ],
            "type": "surface"
           }
          ],
          "table": [
           {
            "cells": {
             "fill": {
              "color": "#EBF0F8"
             },
             "line": {
              "color": "white"
             }
            },
            "header": {
             "fill": {
              "color": "#C8D4E3"
             },
             "line": {
              "color": "white"
             }
            },
            "type": "table"
           }
          ]
         },
         "layout": {
          "annotationdefaults": {
           "arrowcolor": "#2a3f5f",
           "arrowhead": 0,
           "arrowwidth": 1
          },
          "autotypenumbers": "strict",
          "coloraxis": {
           "colorbar": {
            "outlinewidth": 0,
            "ticks": ""
           }
          },
          "colorscale": {
           "diverging": [
            [
             0,
             "#8e0152"
            ],
            [
             0.1,
             "#c51b7d"
            ],
            [
             0.2,
             "#de77ae"
            ],
            [
             0.3,
             "#f1b6da"
            ],
            [
             0.4,
             "#fde0ef"
            ],
            [
             0.5,
             "#f7f7f7"
            ],
            [
             0.6,
             "#e6f5d0"
            ],
            [
             0.7,
             "#b8e186"
            ],
            [
             0.8,
             "#7fbc41"
            ],
            [
             0.9,
             "#4d9221"
            ],
            [
             1,
             "#276419"
            ]
           ],
           "sequential": [
            [
             0,
             "#0d0887"
            ],
            [
             0.1111111111111111,
             "#46039f"
            ],
            [
             0.2222222222222222,
             "#7201a8"
            ],
            [
             0.3333333333333333,
             "#9c179e"
            ],
            [
             0.4444444444444444,
             "#bd3786"
            ],
            [
             0.5555555555555556,
             "#d8576b"
            ],
            [
             0.6666666666666666,
             "#ed7953"
            ],
            [
             0.7777777777777778,
             "#fb9f3a"
            ],
            [
             0.8888888888888888,
             "#fdca26"
            ],
            [
             1,
             "#f0f921"
            ]
           ],
           "sequentialminus": [
            [
             0,
             "#0d0887"
            ],
            [
             0.1111111111111111,
             "#46039f"
            ],
            [
             0.2222222222222222,
             "#7201a8"
            ],
            [
             0.3333333333333333,
             "#9c179e"
            ],
            [
             0.4444444444444444,
             "#bd3786"
            ],
            [
             0.5555555555555556,
             "#d8576b"
            ],
            [
             0.6666666666666666,
             "#ed7953"
            ],
            [
             0.7777777777777778,
             "#fb9f3a"
            ],
            [
             0.8888888888888888,
             "#fdca26"
            ],
            [
             1,
             "#f0f921"
            ]
           ]
          },
          "colorway": [
           "#636efa",
           "#EF553B",
           "#00cc96",
           "#ab63fa",
           "#FFA15A",
           "#19d3f3",
           "#FF6692",
           "#B6E880",
           "#FF97FF",
           "#FECB52"
          ],
          "font": {
           "color": "#2a3f5f"
          },
          "geo": {
           "bgcolor": "white",
           "lakecolor": "white",
           "landcolor": "white",
           "showlakes": true,
           "showland": true,
           "subunitcolor": "#C8D4E3"
          },
          "hoverlabel": {
           "align": "left"
          },
          "hovermode": "closest",
          "mapbox": {
           "style": "light"
          },
          "paper_bgcolor": "white",
          "plot_bgcolor": "white",
          "polar": {
           "angularaxis": {
            "gridcolor": "#EBF0F8",
            "linecolor": "#EBF0F8",
            "ticks": ""
           },
           "bgcolor": "white",
           "radialaxis": {
            "gridcolor": "#EBF0F8",
            "linecolor": "#EBF0F8",
            "ticks": ""
           }
          },
          "scene": {
           "xaxis": {
            "backgroundcolor": "white",
            "gridcolor": "#DFE8F3",
            "gridwidth": 2,
            "linecolor": "#EBF0F8",
            "showbackground": true,
            "ticks": "",
            "zerolinecolor": "#EBF0F8"
           },
           "yaxis": {
            "backgroundcolor": "white",
            "gridcolor": "#DFE8F3",
            "gridwidth": 2,
            "linecolor": "#EBF0F8",
            "showbackground": true,
            "ticks": "",
            "zerolinecolor": "#EBF0F8"
           },
           "zaxis": {
            "backgroundcolor": "white",
            "gridcolor": "#DFE8F3",
            "gridwidth": 2,
            "linecolor": "#EBF0F8",
            "showbackground": true,
            "ticks": "",
            "zerolinecolor": "#EBF0F8"
           }
          },
          "shapedefaults": {
           "line": {
            "color": "#2a3f5f"
           }
          },
          "ternary": {
           "aaxis": {
            "gridcolor": "#DFE8F3",
            "linecolor": "#A2B1C6",
            "ticks": ""
           },
           "baxis": {
            "gridcolor": "#DFE8F3",
            "linecolor": "#A2B1C6",
            "ticks": ""
           },
           "bgcolor": "white",
           "caxis": {
            "gridcolor": "#DFE8F3",
            "linecolor": "#A2B1C6",
            "ticks": ""
           }
          },
          "title": {
           "x": 0.05
          },
          "xaxis": {
           "automargin": true,
           "gridcolor": "#EBF0F8",
           "linecolor": "#EBF0F8",
           "ticks": "",
           "title": {
            "standoff": 15
           },
           "zerolinecolor": "#EBF0F8",
           "zerolinewidth": 2
          },
          "yaxis": {
           "automargin": true,
           "gridcolor": "#EBF0F8",
           "linecolor": "#EBF0F8",
           "ticks": "",
           "title": {
            "standoff": 15
           },
           "zerolinecolor": "#EBF0F8",
           "zerolinewidth": 2
          }
         }
        },
        "title": {
         "text": "Distribuição Salarial por Gênero (2021-2024)"
        },
        "xaxis": {
         "anchor": "y",
         "domain": [
          0,
          0.2125
         ],
         "title": {
          "text": "Quantidade de pessoas"
         }
        },
        "xaxis2": {
         "anchor": "y2",
         "domain": [
          0.2625,
          0.475
         ],
         "title": {
          "text": "Quantidade de pessoas"
         }
        },
        "xaxis3": {
         "anchor": "y3",
         "domain": [
          0.525,
          0.7375
         ],
         "title": {
          "text": "Quantidade de pessoas"
         }
        },
        "xaxis4": {
         "anchor": "y4",
         "domain": [
          0.7875,
          1
         ],
         "title": {
          "text": "Quantidade de pessoas"
         }
        },
        "yaxis": {
         "anchor": "x",
         "domain": [
          0,
          1
         ],
         "title": {
          "text": "Faixa Salarial"
         }
        },
        "yaxis2": {
         "anchor": "x2",
         "domain": [
          0,
          1
         ],
         "matches": "y",
         "showticklabels": false,
         "title": {
          "text": "Faixa Salarial"
         }
        },
        "yaxis3": {
         "anchor": "x3",
         "domain": [
          0,
          1
         ],
         "matches": "y",
         "showticklabels": false,
         "title": {
          "text": "Faixa Salarial"
         }
        },
        "yaxis4": {
         "anchor": "x4",
         "domain": [
          0,
          1
         ],
         "matches": "y",
         "showticklabels": false,
         "title": {
          "text": "Faixa Salarial"
         }
        }
       }
      }
     },
     "metadata": {},
     "output_type": "display_data"
    }
   ],
   "source": [
    "# Distribuição faixa salarial x genero\n",
    "\n",
    "def criar_piramide_salarial(df_rj):\n",
    "    \n",
    "    cores = {\"Masculino\": \"#1E90FF\", \"Feminino\": \"#FF7F50\"}\n",
    "\n",
    "    # Criando figura com subplots\n",
    "    fig = make_subplots(\n",
    "        rows=1,\n",
    "        cols=4,\n",
    "        subplot_titles=(\"2021\", \"2022\", \"2023\", \"2024\"),\n",
    "        shared_yaxes=True\n",
    "    )\n",
    "\n",
    "    anos = [\"2021\", \"2022\", \"2023\", \"2024\"]\n",
    "\n",
    "    for idx, ano in enumerate(anos, 1):\n",
    "        # Filtrando dados do ano atual\n",
    "        df_grouped = df_rj[df_rj[\"ano_pesquisa\"] == ano]\n",
    "        df_grouped = df_grouped.groupby([\"faixa_salarial\", \"genero\"]).size().reset_index(name=\"count\")\n",
    "        \n",
    "        # Pivot para separar por gênero\n",
    "        df_plot = df_grouped.pivot(index=\"faixa_salarial\", columns=\"genero\", values=\"count\").fillna(0)\n",
    "\n",
    "        # Garantindo que as colunas existam\n",
    "        for genero in [\"Masculino\", \"Feminino\"]:\n",
    "            if genero not in df_plot.columns:\n",
    "                df_plot[genero] = 0\n",
    "\n",
    "        # Adicionando barras para Feminino\n",
    "        fig.add_trace(\n",
    "            go.Bar(\n",
    "                y=df_plot.index,\n",
    "                x=df_plot[\"Feminino\"],\n",
    "                name=\"Feminino\",\n",
    "                orientation=\"h\",\n",
    "                marker=dict(color=cores[\"Feminino\"]),\n",
    "                text=df_plot[\"Feminino\"].astype(int),\n",
    "                textposition=\"auto\",\n",
    "                showlegend=True if idx == 1 else False\n",
    "            ),\n",
    "            row=1,\n",
    "            col=idx\n",
    "        )\n",
    "\n",
    "        # Adicionando barras para Masculino\n",
    "        fig.add_trace(\n",
    "            go.Bar(\n",
    "                y=df_plot.index,\n",
    "                x=df_plot[\"Masculino\"],\n",
    "                name=\"Masculino\",\n",
    "                orientation=\"h\",\n",
    "                marker=dict(color=cores[\"Masculino\"]),\n",
    "                text=df_plot[\"Masculino\"].astype(int),\n",
    "                textposition=\"auto\",\n",
    "                showlegend=True if idx == 1 else False\n",
    "            ),\n",
    "            row=1,\n",
    "            col=idx\n",
    "        )\n",
    "\n",
    "    # Configurando layout\n",
    "    fig.update_layout(\n",
    "        title=\"Distribuição Salarial por Gênero (2021-2024)\",\n",
    "        template=\"plotly_white\",\n",
    "        height=600,\n",
    "        bargap=0.1,\n",
    "        showlegend=True\n",
    "    )\n",
    "\n",
    "    # Configurando eixos\n",
    "    fig.update_xaxes(title_text=\"Quantidade de pessoas\")\n",
    "    fig.update_yaxes(title_text=\"Faixa Salarial\")\n",
    "\n",
    "    return fig\n",
    "\n",
    "\n",
    "# Usar a função\n",
    "fig = criar_piramide_salarial(df_rj)\n",
    "fig.show()\n"
   ]
  },
  {
   "cell_type": "code",
   "execution_count": null,
   "metadata": {},
   "outputs": [
    {
     "name": "stdout",
     "output_type": "stream",
     "text": [
      "Verificação das somas por gênero:\n",
      "   ano_pesquisa     genero  proporção\n",
      "0          2021   Feminino      100.0\n",
      "1          2021  Masculino      100.0\n",
      "2          2022   Feminino      100.0\n",
      "3          2022  Masculino      100.0\n",
      "4          2023   Feminino      100.0\n",
      "5          2023  Masculino      100.0\n",
      "6          2024   Feminino      100.0\n",
      "7          2024  Masculino      100.0\n"
     ]
    },
    {
     "name": "stderr",
     "output_type": "stream",
     "text": [
      "C:\\Users\\julli\\AppData\\Local\\Temp\\ipykernel_26276\\2276574859.py:7: FutureWarning:\n",
      "\n",
      "The default of observed=False is deprecated and will be changed to True in a future version of pandas. Pass observed=False to retain current behavior or observed=True to adopt the future default and silence this warning.\n",
      "\n"
     ]
    },
    {
     "data": {
      "application/vnd.plotly.v1+json": {
       "config": {
        "plotlyServerURL": "https://plot.ly"
       },
       "data": [],
       "layout": {
        "annotations": [
         {
          "font": {
           "size": 16
          },
          "showarrow": false,
          "text": "2021",
          "x": 0.10625,
          "xanchor": "center",
          "xref": "paper",
          "y": 1,
          "yanchor": "bottom",
          "yref": "paper"
         },
         {
          "font": {
           "size": 16
          },
          "showarrow": false,
          "text": "2022",
          "x": 0.36875,
          "xanchor": "center",
          "xref": "paper",
          "y": 1,
          "yanchor": "bottom",
          "yref": "paper"
         },
         {
          "font": {
           "size": 16
          },
          "showarrow": false,
          "text": "2023",
          "x": 0.6312500000000001,
          "xanchor": "center",
          "xref": "paper",
          "y": 1,
          "yanchor": "bottom",
          "yref": "paper"
         },
         {
          "font": {
           "size": 16
          },
          "showarrow": false,
          "text": "2024",
          "x": 0.89375,
          "xanchor": "center",
          "xref": "paper",
          "y": 1,
          "yanchor": "bottom",
          "yref": "paper"
         }
        ],
        "barmode": "relative",
        "shapes": [
         {
          "line": {
           "color": "black",
           "dash": "dot",
           "width": 1
          },
          "type": "line",
          "x0": 0,
          "x1": 0,
          "xref": "x",
          "y0": -0.5,
          "y1": -0.5,
          "yref": "y"
         },
         {
          "line": {
           "color": "black",
           "dash": "dot",
           "width": 1
          },
          "type": "line",
          "x0": 0,
          "x1": 0,
          "xref": "x2",
          "y0": -0.5,
          "y1": -0.5,
          "yref": "y2"
         },
         {
          "line": {
           "color": "black",
           "dash": "dot",
           "width": 1
          },
          "type": "line",
          "x0": 0,
          "x1": 0,
          "xref": "x3",
          "y0": -0.5,
          "y1": -0.5,
          "yref": "y3"
         },
         {
          "line": {
           "color": "black",
           "dash": "dot",
           "width": 1
          },
          "type": "line",
          "x0": 0,
          "x1": 0,
          "xref": "x4",
          "y0": -0.5,
          "y1": -0.5,
          "yref": "y4"
         }
        ],
        "template": {
         "data": {
          "bar": [
           {
            "error_x": {
             "color": "#2a3f5f"
            },
            "error_y": {
             "color": "#2a3f5f"
            },
            "marker": {
             "line": {
              "color": "white",
              "width": 0.5
             },
             "pattern": {
              "fillmode": "overlay",
              "size": 10,
              "solidity": 0.2
             }
            },
            "type": "bar"
           }
          ],
          "barpolar": [
           {
            "marker": {
             "line": {
              "color": "white",
              "width": 0.5
             },
             "pattern": {
              "fillmode": "overlay",
              "size": 10,
              "solidity": 0.2
             }
            },
            "type": "barpolar"
           }
          ],
          "carpet": [
           {
            "aaxis": {
             "endlinecolor": "#2a3f5f",
             "gridcolor": "#C8D4E3",
             "linecolor": "#C8D4E3",
             "minorgridcolor": "#C8D4E3",
             "startlinecolor": "#2a3f5f"
            },
            "baxis": {
             "endlinecolor": "#2a3f5f",
             "gridcolor": "#C8D4E3",
             "linecolor": "#C8D4E3",
             "minorgridcolor": "#C8D4E3",
             "startlinecolor": "#2a3f5f"
            },
            "type": "carpet"
           }
          ],
          "choropleth": [
           {
            "colorbar": {
             "outlinewidth": 0,
             "ticks": ""
            },
            "type": "choropleth"
           }
          ],
          "contour": [
           {
            "colorbar": {
             "outlinewidth": 0,
             "ticks": ""
            },
            "colorscale": [
             [
              0,
              "#0d0887"
             ],
             [
              0.1111111111111111,
              "#46039f"
             ],
             [
              0.2222222222222222,
              "#7201a8"
             ],
             [
              0.3333333333333333,
              "#9c179e"
             ],
             [
              0.4444444444444444,
              "#bd3786"
             ],
             [
              0.5555555555555556,
              "#d8576b"
             ],
             [
              0.6666666666666666,
              "#ed7953"
             ],
             [
              0.7777777777777778,
              "#fb9f3a"
             ],
             [
              0.8888888888888888,
              "#fdca26"
             ],
             [
              1,
              "#f0f921"
             ]
            ],
            "type": "contour"
           }
          ],
          "contourcarpet": [
           {
            "colorbar": {
             "outlinewidth": 0,
             "ticks": ""
            },
            "type": "contourcarpet"
           }
          ],
          "heatmap": [
           {
            "colorbar": {
             "outlinewidth": 0,
             "ticks": ""
            },
            "colorscale": [
             [
              0,
              "#0d0887"
             ],
             [
              0.1111111111111111,
              "#46039f"
             ],
             [
              0.2222222222222222,
              "#7201a8"
             ],
             [
              0.3333333333333333,
              "#9c179e"
             ],
             [
              0.4444444444444444,
              "#bd3786"
             ],
             [
              0.5555555555555556,
              "#d8576b"
             ],
             [
              0.6666666666666666,
              "#ed7953"
             ],
             [
              0.7777777777777778,
              "#fb9f3a"
             ],
             [
              0.8888888888888888,
              "#fdca26"
             ],
             [
              1,
              "#f0f921"
             ]
            ],
            "type": "heatmap"
           }
          ],
          "heatmapgl": [
           {
            "colorbar": {
             "outlinewidth": 0,
             "ticks": ""
            },
            "colorscale": [
             [
              0,
              "#0d0887"
             ],
             [
              0.1111111111111111,
              "#46039f"
             ],
             [
              0.2222222222222222,
              "#7201a8"
             ],
             [
              0.3333333333333333,
              "#9c179e"
             ],
             [
              0.4444444444444444,
              "#bd3786"
             ],
             [
              0.5555555555555556,
              "#d8576b"
             ],
             [
              0.6666666666666666,
              "#ed7953"
             ],
             [
              0.7777777777777778,
              "#fb9f3a"
             ],
             [
              0.8888888888888888,
              "#fdca26"
             ],
             [
              1,
              "#f0f921"
             ]
            ],
            "type": "heatmapgl"
           }
          ],
          "histogram": [
           {
            "marker": {
             "pattern": {
              "fillmode": "overlay",
              "size": 10,
              "solidity": 0.2
             }
            },
            "type": "histogram"
           }
          ],
          "histogram2d": [
           {
            "colorbar": {
             "outlinewidth": 0,
             "ticks": ""
            },
            "colorscale": [
             [
              0,
              "#0d0887"
             ],
             [
              0.1111111111111111,
              "#46039f"
             ],
             [
              0.2222222222222222,
              "#7201a8"
             ],
             [
              0.3333333333333333,
              "#9c179e"
             ],
             [
              0.4444444444444444,
              "#bd3786"
             ],
             [
              0.5555555555555556,
              "#d8576b"
             ],
             [
              0.6666666666666666,
              "#ed7953"
             ],
             [
              0.7777777777777778,
              "#fb9f3a"
             ],
             [
              0.8888888888888888,
              "#fdca26"
             ],
             [
              1,
              "#f0f921"
             ]
            ],
            "type": "histogram2d"
           }
          ],
          "histogram2dcontour": [
           {
            "colorbar": {
             "outlinewidth": 0,
             "ticks": ""
            },
            "colorscale": [
             [
              0,
              "#0d0887"
             ],
             [
              0.1111111111111111,
              "#46039f"
             ],
             [
              0.2222222222222222,
              "#7201a8"
             ],
             [
              0.3333333333333333,
              "#9c179e"
             ],
             [
              0.4444444444444444,
              "#bd3786"
             ],
             [
              0.5555555555555556,
              "#d8576b"
             ],
             [
              0.6666666666666666,
              "#ed7953"
             ],
             [
              0.7777777777777778,
              "#fb9f3a"
             ],
             [
              0.8888888888888888,
              "#fdca26"
             ],
             [
              1,
              "#f0f921"
             ]
            ],
            "type": "histogram2dcontour"
           }
          ],
          "mesh3d": [
           {
            "colorbar": {
             "outlinewidth": 0,
             "ticks": ""
            },
            "type": "mesh3d"
           }
          ],
          "parcoords": [
           {
            "line": {
             "colorbar": {
              "outlinewidth": 0,
              "ticks": ""
             }
            },
            "type": "parcoords"
           }
          ],
          "pie": [
           {
            "automargin": true,
            "type": "pie"
           }
          ],
          "scatter": [
           {
            "fillpattern": {
             "fillmode": "overlay",
             "size": 10,
             "solidity": 0.2
            },
            "type": "scatter"
           }
          ],
          "scatter3d": [
           {
            "line": {
             "colorbar": {
              "outlinewidth": 0,
              "ticks": ""
             }
            },
            "marker": {
             "colorbar": {
              "outlinewidth": 0,
              "ticks": ""
             }
            },
            "type": "scatter3d"
           }
          ],
          "scattercarpet": [
           {
            "marker": {
             "colorbar": {
              "outlinewidth": 0,
              "ticks": ""
             }
            },
            "type": "scattercarpet"
           }
          ],
          "scattergeo": [
           {
            "marker": {
             "colorbar": {
              "outlinewidth": 0,
              "ticks": ""
             }
            },
            "type": "scattergeo"
           }
          ],
          "scattergl": [
           {
            "marker": {
             "colorbar": {
              "outlinewidth": 0,
              "ticks": ""
             }
            },
            "type": "scattergl"
           }
          ],
          "scattermapbox": [
           {
            "marker": {
             "colorbar": {
              "outlinewidth": 0,
              "ticks": ""
             }
            },
            "type": "scattermapbox"
           }
          ],
          "scatterpolar": [
           {
            "marker": {
             "colorbar": {
              "outlinewidth": 0,
              "ticks": ""
             }
            },
            "type": "scatterpolar"
           }
          ],
          "scatterpolargl": [
           {
            "marker": {
             "colorbar": {
              "outlinewidth": 0,
              "ticks": ""
             }
            },
            "type": "scatterpolargl"
           }
          ],
          "scatterternary": [
           {
            "marker": {
             "colorbar": {
              "outlinewidth": 0,
              "ticks": ""
             }
            },
            "type": "scatterternary"
           }
          ],
          "surface": [
           {
            "colorbar": {
             "outlinewidth": 0,
             "ticks": ""
            },
            "colorscale": [
             [
              0,
              "#0d0887"
             ],
             [
              0.1111111111111111,
              "#46039f"
             ],
             [
              0.2222222222222222,
              "#7201a8"
             ],
             [
              0.3333333333333333,
              "#9c179e"
             ],
             [
              0.4444444444444444,
              "#bd3786"
             ],
             [
              0.5555555555555556,
              "#d8576b"
             ],
             [
              0.6666666666666666,
              "#ed7953"
             ],
             [
              0.7777777777777778,
              "#fb9f3a"
             ],
             [
              0.8888888888888888,
              "#fdca26"
             ],
             [
              1,
              "#f0f921"
             ]
            ],
            "type": "surface"
           }
          ],
          "table": [
           {
            "cells": {
             "fill": {
              "color": "#EBF0F8"
             },
             "line": {
              "color": "white"
             }
            },
            "header": {
             "fill": {
              "color": "#C8D4E3"
             },
             "line": {
              "color": "white"
             }
            },
            "type": "table"
           }
          ]
         },
         "layout": {
          "annotationdefaults": {
           "arrowcolor": "#2a3f5f",
           "arrowhead": 0,
           "arrowwidth": 1
          },
          "autotypenumbers": "strict",
          "coloraxis": {
           "colorbar": {
            "outlinewidth": 0,
            "ticks": ""
           }
          },
          "colorscale": {
           "diverging": [
            [
             0,
             "#8e0152"
            ],
            [
             0.1,
             "#c51b7d"
            ],
            [
             0.2,
             "#de77ae"
            ],
            [
             0.3,
             "#f1b6da"
            ],
            [
             0.4,
             "#fde0ef"
            ],
            [
             0.5,
             "#f7f7f7"
            ],
            [
             0.6,
             "#e6f5d0"
            ],
            [
             0.7,
             "#b8e186"
            ],
            [
             0.8,
             "#7fbc41"
            ],
            [
             0.9,
             "#4d9221"
            ],
            [
             1,
             "#276419"
            ]
           ],
           "sequential": [
            [
             0,
             "#0d0887"
            ],
            [
             0.1111111111111111,
             "#46039f"
            ],
            [
             0.2222222222222222,
             "#7201a8"
            ],
            [
             0.3333333333333333,
             "#9c179e"
            ],
            [
             0.4444444444444444,
             "#bd3786"
            ],
            [
             0.5555555555555556,
             "#d8576b"
            ],
            [
             0.6666666666666666,
             "#ed7953"
            ],
            [
             0.7777777777777778,
             "#fb9f3a"
            ],
            [
             0.8888888888888888,
             "#fdca26"
            ],
            [
             1,
             "#f0f921"
            ]
           ],
           "sequentialminus": [
            [
             0,
             "#0d0887"
            ],
            [
             0.1111111111111111,
             "#46039f"
            ],
            [
             0.2222222222222222,
             "#7201a8"
            ],
            [
             0.3333333333333333,
             "#9c179e"
            ],
            [
             0.4444444444444444,
             "#bd3786"
            ],
            [
             0.5555555555555556,
             "#d8576b"
            ],
            [
             0.6666666666666666,
             "#ed7953"
            ],
            [
             0.7777777777777778,
             "#fb9f3a"
            ],
            [
             0.8888888888888888,
             "#fdca26"
            ],
            [
             1,
             "#f0f921"
            ]
           ]
          },
          "colorway": [
           "#636efa",
           "#EF553B",
           "#00cc96",
           "#ab63fa",
           "#FFA15A",
           "#19d3f3",
           "#FF6692",
           "#B6E880",
           "#FF97FF",
           "#FECB52"
          ],
          "font": {
           "color": "#2a3f5f"
          },
          "geo": {
           "bgcolor": "white",
           "lakecolor": "white",
           "landcolor": "white",
           "showlakes": true,
           "showland": true,
           "subunitcolor": "#C8D4E3"
          },
          "hoverlabel": {
           "align": "left"
          },
          "hovermode": "closest",
          "mapbox": {
           "style": "light"
          },
          "paper_bgcolor": "white",
          "plot_bgcolor": "white",
          "polar": {
           "angularaxis": {
            "gridcolor": "#EBF0F8",
            "linecolor": "#EBF0F8",
            "ticks": ""
           },
           "bgcolor": "white",
           "radialaxis": {
            "gridcolor": "#EBF0F8",
            "linecolor": "#EBF0F8",
            "ticks": ""
           }
          },
          "scene": {
           "xaxis": {
            "backgroundcolor": "white",
            "gridcolor": "#DFE8F3",
            "gridwidth": 2,
            "linecolor": "#EBF0F8",
            "showbackground": true,
            "ticks": "",
            "zerolinecolor": "#EBF0F8"
           },
           "yaxis": {
            "backgroundcolor": "white",
            "gridcolor": "#DFE8F3",
            "gridwidth": 2,
            "linecolor": "#EBF0F8",
            "showbackground": true,
            "ticks": "",
            "zerolinecolor": "#EBF0F8"
           },
           "zaxis": {
            "backgroundcolor": "white",
            "gridcolor": "#DFE8F3",
            "gridwidth": 2,
            "linecolor": "#EBF0F8",
            "showbackground": true,
            "ticks": "",
            "zerolinecolor": "#EBF0F8"
           }
          },
          "shapedefaults": {
           "line": {
            "color": "#2a3f5f"
           }
          },
          "ternary": {
           "aaxis": {
            "gridcolor": "#DFE8F3",
            "linecolor": "#A2B1C6",
            "ticks": ""
           },
           "baxis": {
            "gridcolor": "#DFE8F3",
            "linecolor": "#A2B1C6",
            "ticks": ""
           },
           "bgcolor": "white",
           "caxis": {
            "gridcolor": "#DFE8F3",
            "linecolor": "#A2B1C6",
            "ticks": ""
           }
          },
          "title": {
           "x": 0.05
          },
          "xaxis": {
           "automargin": true,
           "gridcolor": "#EBF0F8",
           "linecolor": "#EBF0F8",
           "ticks": "",
           "title": {
            "standoff": 15
           },
           "zerolinecolor": "#EBF0F8",
           "zerolinewidth": 2
          },
          "yaxis": {
           "automargin": true,
           "gridcolor": "#EBF0F8",
           "linecolor": "#EBF0F8",
           "ticks": "",
           "title": {
            "standoff": 15
           },
           "zerolinecolor": "#EBF0F8",
           "zerolinewidth": 2
          }
         }
        },
        "title": {
         "text": "Distribuição de Senioridade por Gênero (2021-2024)"
        },
        "xaxis": {
         "anchor": "y",
         "domain": [
          0,
          0.2125
         ],
         "range": [
          -100,
          100
         ],
         "ticksuffix": "%",
         "title": {
          "text": "Proporção (%)"
         }
        },
        "xaxis2": {
         "anchor": "y2",
         "domain": [
          0.2625,
          0.475
         ],
         "range": [
          -100,
          100
         ],
         "ticksuffix": "%"
        },
        "xaxis3": {
         "anchor": "y3",
         "domain": [
          0.525,
          0.7375
         ],
         "range": [
          -100,
          100
         ],
         "ticksuffix": "%"
        },
        "xaxis4": {
         "anchor": "y4",
         "domain": [
          0.7875,
          1
         ],
         "range": [
          -100,
          100
         ],
         "ticksuffix": "%"
        },
        "yaxis": {
         "anchor": "x",
         "domain": [
          0,
          1
         ],
         "title": {
          "text": "Nível de Senioridade"
         }
        },
        "yaxis2": {
         "anchor": "x2",
         "domain": [
          0,
          1
         ],
         "matches": "y",
         "showticklabels": false
        },
        "yaxis3": {
         "anchor": "x3",
         "domain": [
          0,
          1
         ],
         "matches": "y",
         "showticklabels": false
        },
        "yaxis4": {
         "anchor": "x4",
         "domain": [
          0,
          1
         ],
         "matches": "y",
         "showticklabels": false
        }
       }
      }
     },
     "metadata": {},
     "output_type": "display_data"
    }
   ],
   "source": [
    "# senioridade x genero\n",
    "\n",
    "niveis_desejados = [\"Júnior\", \"Pleno\", \"Sênior\", \"Gestor\"] \n",
    "\n",
    "# Normaliza os nomes dos níveis para minúsculas no filtro\n",
    "df_filtrado = df_rj[df_rj[\"nivel\"].str.lower().isin([n.lower() for n in niveis_desejados])]\n",
    "\n",
    "# Agora agrupe pelos campos desejados\n",
    "df_grouped = df_filtrado.groupby([\"ano_pesquisa\", \"nivel\", \"genero\"]).size().reset_index(name=\"count\")\n",
    "\n",
    "# Calculando o total por ano e gênero para depois calcular proporções\n",
    "totais_por_ano_genero = df_filtrado.groupby([\"ano_pesquisa\", \"genero\"]).size().reset_index(name=\"total\")\n",
    "df_grouped = df_grouped.merge(totais_por_ano_genero, on=[\"ano_pesquisa\", \"genero\"])\n",
    "\n",
    "# Calculando a proporção\n",
    "df_grouped[\"proporção\"] = df_grouped[\"count\"] / df_grouped[\"total\"] * 100\n",
    "\n",
    "# Verificação (opcional): soma das proporções por ano e gênero deve ser 100%\n",
    "verificacao = df_grouped.groupby([\"ano_pesquisa\", \"genero\"])[\"proporção\"].sum().reset_index()\n",
    "print(\"Verificação das somas por gênero:\")\n",
    "print(verificacao)\n",
    "\n",
    "fig = make_subplots(rows=1, cols=4, shared_yaxes=True, subplot_titles=[\"2021\", \"2022\", \"2023\", \"2024\"])\n",
    "\n",
    "anos = ['2021', '2022', '2023', '2024']\n",
    "cores = {\"Masculino\": \"#1E90FF\",  \"Feminino\": \"#FF7F50\" }\n",
    "\n",
    "for i, ano in enumerate(anos):\n",
    "    # Filtrando dados do ano atual\n",
    "    df_ano = df_grouped[df_grouped[\"ano_pesquisa\"] == ano]\n",
    "    \n",
    "    # Criando um pivot para senioridade x gênero\n",
    "    df_plot = df_ano.pivot(index=\"nivel\", columns=\"genero\", values=\"proporção\").fillna(0)\n",
    "    \n",
    "    # Garantindo que as colunas existam, preenchendo com 0 se necessário\n",
    "    for genero in [\"Masculino\", \"Feminino\"]:\n",
    "        if genero not in df_plot.columns:\n",
    "            df_plot[genero] = 0\n",
    "    \n",
    "    # Filtrando níveis que têm pelo menos um registro\n",
    "    df_plot = df_plot[(df_plot[\"Masculino\"] > 0) | (df_plot[\"Feminino\"] > 0)]\n",
    "    \n",
    "    # Se não houver dados, continue para o próximo ano\n",
    "    if df_plot.empty:\n",
    "        continue\n",
    "    \n",
    "    # Adicionando barras para Feminino (negativo para inverter no gráfico)\n",
    "    # Arredondando as porcentagens para números inteiros\n",
    "    fig.add_trace(go.Bar(\n",
    "        y=df_plot.index,\n",
    "        x=-df_plot[\"Feminino\"],\n",
    "        name=\"Feminino\",\n",
    "        orientation=\"h\",\n",
    "        marker=dict(color=cores[\"Feminino\"]),\n",
    "        text=[f\"{int(round(val))}%\" for val in df_plot[\"Feminino\"]],  # Arredondamento para inteiros\n",
    "        textposition=\"outside\",\n",
    "        showlegend=True if i == 0 else False\n",
    "    ), row=1, col=i+1)\n",
    "\n",
    "    # Adicionando barras para Masculino\n",
    "    # Arredondando as porcentagens para números inteiros\n",
    "    fig.add_trace(go.Bar(\n",
    "        y=df_plot.index,\n",
    "        x=df_plot[\"Masculino\"],\n",
    "        name=\"Masculino\",\n",
    "        orientation=\"h\",\n",
    "        marker=dict(color=cores[\"Masculino\"]),\n",
    "        text=[f\"{int(round(val))}%\" for val in df_plot[\"Masculino\"]],  # Arredondamento para inteiros\n",
    "        textposition=\"outside\",\n",
    "        showlegend=True if i == 0 else False\n",
    "    ), row=1, col=i+1)\n",
    "\n",
    "# Configurando layout\n",
    "fig.update_layout(\n",
    "    title=\"Distribuição de Senioridade por Gênero (2021-2024)\",\n",
    "    xaxis_title=\"Proporção (%)\",\n",
    "    yaxis_title=\"Nível de Senioridade\",\n",
    "    barmode=\"relative\",\n",
    "    template=\"plotly_white\"\n",
    ")\n",
    "\n",
    "# Ajustando os eixos X para mostrar valores em percentuais\n",
    "for i in range(1, 5):\n",
    "    fig.update_xaxes(ticksuffix=\"%\", range=[-100, 100], row=1, col=i)\n",
    "    \n",
    "    # Adicionando linhas de referência em 0\n",
    "    fig.add_shape(\n",
    "        type=\"line\",\n",
    "        x0=0, y0=-0.5,\n",
    "        x1=0, y1=len(df_plot.index) - 0.5,\n",
    "        line=dict(color=\"black\", width=1, dash=\"dot\"),\n",
    "        row=1, col=i\n",
    "    )\n",
    "\n",
    "fig.show()"
   ]
  },
  {
   "cell_type": "code",
   "execution_count": 21,
   "metadata": {},
   "outputs": [
    {
     "name": "stderr",
     "output_type": "stream",
     "text": [
      "C:\\Users\\julli\\AppData\\Local\\Temp\\ipykernel_26276\\2965339718.py:3: FutureWarning:\n",
      "\n",
      "The default of observed=False is deprecated and will be changed to True in a future version of pandas. Pass observed=False to retain current behavior or observed=True to adopt the future default and silence this warning.\n",
      "\n",
      "C:\\Users\\julli\\AppData\\Local\\Temp\\ipykernel_26276\\2965339718.py:5: FutureWarning:\n",
      "\n",
      "The default of observed=False is deprecated and will be changed to True in a future version of pandas. Pass observed=False to retain current behavior or observed=True to adopt the future default and silence this warning.\n",
      "\n"
     ]
    },
    {
     "data": {
      "application/vnd.plotly.v1+json": {
       "config": {
        "plotlyServerURL": "https://plot.ly"
       },
       "data": [],
       "layout": {
        "annotations": [
         {
          "font": {
           "size": 16
          },
          "showarrow": false,
          "text": "2021",
          "x": 0.10625,
          "xanchor": "center",
          "xref": "paper",
          "y": 1,
          "yanchor": "bottom",
          "yref": "paper"
         },
         {
          "font": {
           "size": 16
          },
          "showarrow": false,
          "text": "2022",
          "x": 0.36875,
          "xanchor": "center",
          "xref": "paper",
          "y": 1,
          "yanchor": "bottom",
          "yref": "paper"
         },
         {
          "font": {
           "size": 16
          },
          "showarrow": false,
          "text": "2023",
          "x": 0.6312500000000001,
          "xanchor": "center",
          "xref": "paper",
          "y": 1,
          "yanchor": "bottom",
          "yref": "paper"
         },
         {
          "font": {
           "size": 16
          },
          "showarrow": false,
          "text": "2024",
          "x": 0.89375,
          "xanchor": "center",
          "xref": "paper",
          "y": 1,
          "yanchor": "bottom",
          "yref": "paper"
         }
        ],
        "barmode": "stack",
        "height": 600,
        "legend": {
         "orientation": "h",
         "x": 0.5,
         "xanchor": "center",
         "y": 1.02,
         "yanchor": "bottom"
        },
        "template": {
         "data": {
          "bar": [
           {
            "error_x": {
             "color": "#2a3f5f"
            },
            "error_y": {
             "color": "#2a3f5f"
            },
            "marker": {
             "line": {
              "color": "white",
              "width": 0.5
             },
             "pattern": {
              "fillmode": "overlay",
              "size": 10,
              "solidity": 0.2
             }
            },
            "type": "bar"
           }
          ],
          "barpolar": [
           {
            "marker": {
             "line": {
              "color": "white",
              "width": 0.5
             },
             "pattern": {
              "fillmode": "overlay",
              "size": 10,
              "solidity": 0.2
             }
            },
            "type": "barpolar"
           }
          ],
          "carpet": [
           {
            "aaxis": {
             "endlinecolor": "#2a3f5f",
             "gridcolor": "#C8D4E3",
             "linecolor": "#C8D4E3",
             "minorgridcolor": "#C8D4E3",
             "startlinecolor": "#2a3f5f"
            },
            "baxis": {
             "endlinecolor": "#2a3f5f",
             "gridcolor": "#C8D4E3",
             "linecolor": "#C8D4E3",
             "minorgridcolor": "#C8D4E3",
             "startlinecolor": "#2a3f5f"
            },
            "type": "carpet"
           }
          ],
          "choropleth": [
           {
            "colorbar": {
             "outlinewidth": 0,
             "ticks": ""
            },
            "type": "choropleth"
           }
          ],
          "contour": [
           {
            "colorbar": {
             "outlinewidth": 0,
             "ticks": ""
            },
            "colorscale": [
             [
              0,
              "#0d0887"
             ],
             [
              0.1111111111111111,
              "#46039f"
             ],
             [
              0.2222222222222222,
              "#7201a8"
             ],
             [
              0.3333333333333333,
              "#9c179e"
             ],
             [
              0.4444444444444444,
              "#bd3786"
             ],
             [
              0.5555555555555556,
              "#d8576b"
             ],
             [
              0.6666666666666666,
              "#ed7953"
             ],
             [
              0.7777777777777778,
              "#fb9f3a"
             ],
             [
              0.8888888888888888,
              "#fdca26"
             ],
             [
              1,
              "#f0f921"
             ]
            ],
            "type": "contour"
           }
          ],
          "contourcarpet": [
           {
            "colorbar": {
             "outlinewidth": 0,
             "ticks": ""
            },
            "type": "contourcarpet"
           }
          ],
          "heatmap": [
           {
            "colorbar": {
             "outlinewidth": 0,
             "ticks": ""
            },
            "colorscale": [
             [
              0,
              "#0d0887"
             ],
             [
              0.1111111111111111,
              "#46039f"
             ],
             [
              0.2222222222222222,
              "#7201a8"
             ],
             [
              0.3333333333333333,
              "#9c179e"
             ],
             [
              0.4444444444444444,
              "#bd3786"
             ],
             [
              0.5555555555555556,
              "#d8576b"
             ],
             [
              0.6666666666666666,
              "#ed7953"
             ],
             [
              0.7777777777777778,
              "#fb9f3a"
             ],
             [
              0.8888888888888888,
              "#fdca26"
             ],
             [
              1,
              "#f0f921"
             ]
            ],
            "type": "heatmap"
           }
          ],
          "heatmapgl": [
           {
            "colorbar": {
             "outlinewidth": 0,
             "ticks": ""
            },
            "colorscale": [
             [
              0,
              "#0d0887"
             ],
             [
              0.1111111111111111,
              "#46039f"
             ],
             [
              0.2222222222222222,
              "#7201a8"
             ],
             [
              0.3333333333333333,
              "#9c179e"
             ],
             [
              0.4444444444444444,
              "#bd3786"
             ],
             [
              0.5555555555555556,
              "#d8576b"
             ],
             [
              0.6666666666666666,
              "#ed7953"
             ],
             [
              0.7777777777777778,
              "#fb9f3a"
             ],
             [
              0.8888888888888888,
              "#fdca26"
             ],
             [
              1,
              "#f0f921"
             ]
            ],
            "type": "heatmapgl"
           }
          ],
          "histogram": [
           {
            "marker": {
             "pattern": {
              "fillmode": "overlay",
              "size": 10,
              "solidity": 0.2
             }
            },
            "type": "histogram"
           }
          ],
          "histogram2d": [
           {
            "colorbar": {
             "outlinewidth": 0,
             "ticks": ""
            },
            "colorscale": [
             [
              0,
              "#0d0887"
             ],
             [
              0.1111111111111111,
              "#46039f"
             ],
             [
              0.2222222222222222,
              "#7201a8"
             ],
             [
              0.3333333333333333,
              "#9c179e"
             ],
             [
              0.4444444444444444,
              "#bd3786"
             ],
             [
              0.5555555555555556,
              "#d8576b"
             ],
             [
              0.6666666666666666,
              "#ed7953"
             ],
             [
              0.7777777777777778,
              "#fb9f3a"
             ],
             [
              0.8888888888888888,
              "#fdca26"
             ],
             [
              1,
              "#f0f921"
             ]
            ],
            "type": "histogram2d"
           }
          ],
          "histogram2dcontour": [
           {
            "colorbar": {
             "outlinewidth": 0,
             "ticks": ""
            },
            "colorscale": [
             [
              0,
              "#0d0887"
             ],
             [
              0.1111111111111111,
              "#46039f"
             ],
             [
              0.2222222222222222,
              "#7201a8"
             ],
             [
              0.3333333333333333,
              "#9c179e"
             ],
             [
              0.4444444444444444,
              "#bd3786"
             ],
             [
              0.5555555555555556,
              "#d8576b"
             ],
             [
              0.6666666666666666,
              "#ed7953"
             ],
             [
              0.7777777777777778,
              "#fb9f3a"
             ],
             [
              0.8888888888888888,
              "#fdca26"
             ],
             [
              1,
              "#f0f921"
             ]
            ],
            "type": "histogram2dcontour"
           }
          ],
          "mesh3d": [
           {
            "colorbar": {
             "outlinewidth": 0,
             "ticks": ""
            },
            "type": "mesh3d"
           }
          ],
          "parcoords": [
           {
            "line": {
             "colorbar": {
              "outlinewidth": 0,
              "ticks": ""
             }
            },
            "type": "parcoords"
           }
          ],
          "pie": [
           {
            "automargin": true,
            "type": "pie"
           }
          ],
          "scatter": [
           {
            "fillpattern": {
             "fillmode": "overlay",
             "size": 10,
             "solidity": 0.2
            },
            "type": "scatter"
           }
          ],
          "scatter3d": [
           {
            "line": {
             "colorbar": {
              "outlinewidth": 0,
              "ticks": ""
             }
            },
            "marker": {
             "colorbar": {
              "outlinewidth": 0,
              "ticks": ""
             }
            },
            "type": "scatter3d"
           }
          ],
          "scattercarpet": [
           {
            "marker": {
             "colorbar": {
              "outlinewidth": 0,
              "ticks": ""
             }
            },
            "type": "scattercarpet"
           }
          ],
          "scattergeo": [
           {
            "marker": {
             "colorbar": {
              "outlinewidth": 0,
              "ticks": ""
             }
            },
            "type": "scattergeo"
           }
          ],
          "scattergl": [
           {
            "marker": {
             "colorbar": {
              "outlinewidth": 0,
              "ticks": ""
             }
            },
            "type": "scattergl"
           }
          ],
          "scattermapbox": [
           {
            "marker": {
             "colorbar": {
              "outlinewidth": 0,
              "ticks": ""
             }
            },
            "type": "scattermapbox"
           }
          ],
          "scatterpolar": [
           {
            "marker": {
             "colorbar": {
              "outlinewidth": 0,
              "ticks": ""
             }
            },
            "type": "scatterpolar"
           }
          ],
          "scatterpolargl": [
           {
            "marker": {
             "colorbar": {
              "outlinewidth": 0,
              "ticks": ""
             }
            },
            "type": "scatterpolargl"
           }
          ],
          "scatterternary": [
           {
            "marker": {
             "colorbar": {
              "outlinewidth": 0,
              "ticks": ""
             }
            },
            "type": "scatterternary"
           }
          ],
          "surface": [
           {
            "colorbar": {
             "outlinewidth": 0,
             "ticks": ""
            },
            "colorscale": [
             [
              0,
              "#0d0887"
             ],
             [
              0.1111111111111111,
              "#46039f"
             ],
             [
              0.2222222222222222,
              "#7201a8"
             ],
             [
              0.3333333333333333,
              "#9c179e"
             ],
             [
              0.4444444444444444,
              "#bd3786"
             ],
             [
              0.5555555555555556,
              "#d8576b"
             ],
             [
              0.6666666666666666,
              "#ed7953"
             ],
             [
              0.7777777777777778,
              "#fb9f3a"
             ],
             [
              0.8888888888888888,
              "#fdca26"
             ],
             [
              1,
              "#f0f921"
             ]
            ],
            "type": "surface"
           }
          ],
          "table": [
           {
            "cells": {
             "fill": {
              "color": "#EBF0F8"
             },
             "line": {
              "color": "white"
             }
            },
            "header": {
             "fill": {
              "color": "#C8D4E3"
             },
             "line": {
              "color": "white"
             }
            },
            "type": "table"
           }
          ]
         },
         "layout": {
          "annotationdefaults": {
           "arrowcolor": "#2a3f5f",
           "arrowhead": 0,
           "arrowwidth": 1
          },
          "autotypenumbers": "strict",
          "coloraxis": {
           "colorbar": {
            "outlinewidth": 0,
            "ticks": ""
           }
          },
          "colorscale": {
           "diverging": [
            [
             0,
             "#8e0152"
            ],
            [
             0.1,
             "#c51b7d"
            ],
            [
             0.2,
             "#de77ae"
            ],
            [
             0.3,
             "#f1b6da"
            ],
            [
             0.4,
             "#fde0ef"
            ],
            [
             0.5,
             "#f7f7f7"
            ],
            [
             0.6,
             "#e6f5d0"
            ],
            [
             0.7,
             "#b8e186"
            ],
            [
             0.8,
             "#7fbc41"
            ],
            [
             0.9,
             "#4d9221"
            ],
            [
             1,
             "#276419"
            ]
           ],
           "sequential": [
            [
             0,
             "#0d0887"
            ],
            [
             0.1111111111111111,
             "#46039f"
            ],
            [
             0.2222222222222222,
             "#7201a8"
            ],
            [
             0.3333333333333333,
             "#9c179e"
            ],
            [
             0.4444444444444444,
             "#bd3786"
            ],
            [
             0.5555555555555556,
             "#d8576b"
            ],
            [
             0.6666666666666666,
             "#ed7953"
            ],
            [
             0.7777777777777778,
             "#fb9f3a"
            ],
            [
             0.8888888888888888,
             "#fdca26"
            ],
            [
             1,
             "#f0f921"
            ]
           ],
           "sequentialminus": [
            [
             0,
             "#0d0887"
            ],
            [
             0.1111111111111111,
             "#46039f"
            ],
            [
             0.2222222222222222,
             "#7201a8"
            ],
            [
             0.3333333333333333,
             "#9c179e"
            ],
            [
             0.4444444444444444,
             "#bd3786"
            ],
            [
             0.5555555555555556,
             "#d8576b"
            ],
            [
             0.6666666666666666,
             "#ed7953"
            ],
            [
             0.7777777777777778,
             "#fb9f3a"
            ],
            [
             0.8888888888888888,
             "#fdca26"
            ],
            [
             1,
             "#f0f921"
            ]
           ]
          },
          "colorway": [
           "#636efa",
           "#EF553B",
           "#00cc96",
           "#ab63fa",
           "#FFA15A",
           "#19d3f3",
           "#FF6692",
           "#B6E880",
           "#FF97FF",
           "#FECB52"
          ],
          "font": {
           "color": "#2a3f5f"
          },
          "geo": {
           "bgcolor": "white",
           "lakecolor": "white",
           "landcolor": "white",
           "showlakes": true,
           "showland": true,
           "subunitcolor": "#C8D4E3"
          },
          "hoverlabel": {
           "align": "left"
          },
          "hovermode": "closest",
          "mapbox": {
           "style": "light"
          },
          "paper_bgcolor": "white",
          "plot_bgcolor": "white",
          "polar": {
           "angularaxis": {
            "gridcolor": "#EBF0F8",
            "linecolor": "#EBF0F8",
            "ticks": ""
           },
           "bgcolor": "white",
           "radialaxis": {
            "gridcolor": "#EBF0F8",
            "linecolor": "#EBF0F8",
            "ticks": ""
           }
          },
          "scene": {
           "xaxis": {
            "backgroundcolor": "white",
            "gridcolor": "#DFE8F3",
            "gridwidth": 2,
            "linecolor": "#EBF0F8",
            "showbackground": true,
            "ticks": "",
            "zerolinecolor": "#EBF0F8"
           },
           "yaxis": {
            "backgroundcolor": "white",
            "gridcolor": "#DFE8F3",
            "gridwidth": 2,
            "linecolor": "#EBF0F8",
            "showbackground": true,
            "ticks": "",
            "zerolinecolor": "#EBF0F8"
           },
           "zaxis": {
            "backgroundcolor": "white",
            "gridcolor": "#DFE8F3",
            "gridwidth": 2,
            "linecolor": "#EBF0F8",
            "showbackground": true,
            "ticks": "",
            "zerolinecolor": "#EBF0F8"
           }
          },
          "shapedefaults": {
           "line": {
            "color": "#2a3f5f"
           }
          },
          "ternary": {
           "aaxis": {
            "gridcolor": "#DFE8F3",
            "linecolor": "#A2B1C6",
            "ticks": ""
           },
           "baxis": {
            "gridcolor": "#DFE8F3",
            "linecolor": "#A2B1C6",
            "ticks": ""
           },
           "bgcolor": "white",
           "caxis": {
            "gridcolor": "#DFE8F3",
            "linecolor": "#A2B1C6",
            "ticks": ""
           }
          },
          "title": {
           "x": 0.05
          },
          "xaxis": {
           "automargin": true,
           "gridcolor": "#EBF0F8",
           "linecolor": "#EBF0F8",
           "ticks": "",
           "title": {
            "standoff": 15
           },
           "zerolinecolor": "#EBF0F8",
           "zerolinewidth": 2
          },
          "yaxis": {
           "automargin": true,
           "gridcolor": "#EBF0F8",
           "linecolor": "#EBF0F8",
           "ticks": "",
           "title": {
            "standoff": 15
           },
           "zerolinecolor": "#EBF0F8",
           "zerolinewidth": 2
          }
         }
        },
        "title": {
         "text": "Distribuição por Gênero em Cada Nível de Formação Acadêmica (2021-2024)"
        },
        "xaxis": {
         "anchor": "y",
         "domain": [
          0,
          0.2125
         ],
         "range": [
          0,
          100
         ],
         "ticksuffix": "%",
         "title": {
          "text": "Proporção (%)"
         }
        },
        "xaxis2": {
         "anchor": "y2",
         "domain": [
          0.2625,
          0.475
         ],
         "range": [
          0,
          100
         ],
         "ticksuffix": "%"
        },
        "xaxis3": {
         "anchor": "y3",
         "domain": [
          0.525,
          0.7375
         ],
         "range": [
          0,
          100
         ],
         "ticksuffix": "%"
        },
        "xaxis4": {
         "anchor": "y4",
         "domain": [
          0.7875,
          1
         ],
         "range": [
          0,
          100
         ],
         "ticksuffix": "%"
        },
        "yaxis": {
         "anchor": "x",
         "domain": [
          0,
          1
         ],
         "title": {
          "text": "Nível de Formação"
         }
        },
        "yaxis2": {
         "anchor": "x2",
         "domain": [
          0,
          1
         ],
         "matches": "y",
         "showticklabels": false
        },
        "yaxis3": {
         "anchor": "x3",
         "domain": [
          0,
          1
         ],
         "matches": "y",
         "showticklabels": false
        },
        "yaxis4": {
         "anchor": "x4",
         "domain": [
          0,
          1
         ],
         "matches": "y",
         "showticklabels": false
        }
       }
      }
     },
     "metadata": {},
     "output_type": "display_data"
    }
   ],
   "source": [
    "# Distribuição escolaridade x genero\n",
    "\n",
    "df_grouped = df_rj.groupby([\"ano_pesquisa\", \"nivel_ensino\", \"genero\"]).size().reset_index(name=\"count\")\n",
    "\n",
    "totais_por_ano_nivel = df_rj.groupby([\"ano_pesquisa\", \"nivel_ensino\"]).size().reset_index(name=\"total_nivel\")\n",
    "df_grouped = df_grouped.merge(totais_por_ano_nivel, on=[\"ano_pesquisa\", \"nivel_ensino\"])\n",
    "\n",
    "df_grouped[\"proporção\"] = df_grouped[\"count\"] / df_grouped[\"total_nivel\"] * 100\n",
    "\n",
    "fig = make_subplots(rows=1, cols=4, shared_yaxes=True, subplot_titles=[\"2021\", \"2022\", \"2023\", \"2024\"])\n",
    "\n",
    "anos = ['2021', '2022', '2023', '2024']\n",
    "cores = {\"Masculino\": \"#1E90FF\",  \"Feminino\": \"#FF7F50\" }\n",
    "\n",
    "ordem_niveis = [\n",
    "    'Não tenho graduação formal', \n",
    "    'Estudante de Graduação',\n",
    "    'Graduação/Bacharelado', \n",
    "    'Pós-graduação',\n",
    "    'Mestrado',\n",
    "    'Doutorado ou Phd'\n",
    "]\n",
    "\n",
    "for i, ano in enumerate(anos):\n",
    "   \n",
    "    df_ano = df_grouped[df_grouped[\"ano_pesquisa\"] == ano]\n",
    "    \n",
    "    for nivel in ordem_niveis:\n",
    "        df_nivel = df_ano[df_ano[\"nivel_ensino\"] == nivel]\n",
    "        \n",
    "        if df_nivel.empty:\n",
    "            continue\n",
    "        \n",
    "        \n",
    "        proporcoes = {genero: df_nivel[df_nivel[\"genero\"] == genero][\"proporção\"].values[0] \n",
    "                      if not df_nivel[df_nivel[\"genero\"] == genero].empty else 0 \n",
    "                      for genero in [\"Masculino\", \"Feminino\"]}\n",
    "        \n",
    "        \n",
    "        for genero in [\"Feminino\", \"Masculino\"]:\n",
    "            fig.add_trace(go.Bar(\n",
    "                y=[nivel],\n",
    "                x=[proporcoes[genero]],\n",
    "                name=genero,\n",
    "                orientation=\"h\",\n",
    "                marker=dict(color=cores[genero]),\n",
    "                text=f\"{proporcoes[genero]:.1f}%\",\n",
    "                textposition=\"inside\",\n",
    "                showlegend=True if i == 0 and nivel == ordem_niveis[0] else False\n",
    "            ), row=1, col=i+1)\n",
    "\n",
    "# Configurando layout\n",
    "fig.update_layout(\n",
    "    title=\"Distribuição por Gênero em Cada Nível de Formação Acadêmica (2021-2024)\",\n",
    "    xaxis_title=\"Proporção (%)\",\n",
    "    yaxis_title=\"Nível de Formação\",\n",
    "    barmode=\"stack\",\n",
    "    height=600,\n",
    "    template=\"plotly_white\",\n",
    "    legend=dict(\n",
    "        orientation=\"h\",\n",
    "        yanchor=\"bottom\",\n",
    "        y=1.02,\n",
    "        xanchor=\"center\",\n",
    "        x=0.5\n",
    "    )\n",
    ")\n",
    "\n",
    "# Ajustando os eixos X para mostrar valores em percentuais\n",
    "for i in range(1, 5):\n",
    "    fig.update_xaxes(ticksuffix=\"%\", range=[0, 100], row=1, col=i)\n",
    "    \n",
    "\n",
    "fig.show()"
   ]
  },
  {
   "cell_type": "code",
   "execution_count": 22,
   "metadata": {},
   "outputs": [
    {
     "data": {
      "application/vnd.plotly.v1+json": {
       "config": {
        "plotlyServerURL": "https://plot.ly"
       },
       "data": [
        {
         "marker": {
          "color": "#FF7F50"
         },
         "name": "Feminino",
         "showlegend": true,
         "text": [
          "8",
          "24",
          "32",
          "29"
         ],
         "textposition": "auto",
         "type": "bar",
         "x": [
          2021,
          2022,
          2023,
          2024
         ],
         "xaxis": "x",
         "y": [
          8,
          24,
          32,
          29
         ],
         "yaxis": "y"
        },
        {
         "marker": {
          "color": "#1E90FF"
         },
         "name": "Masculino",
         "showlegend": true,
         "text": [
          "47",
          "101",
          "122",
          "107"
         ],
         "textposition": "auto",
         "type": "bar",
         "x": [
          2021,
          2022,
          2023,
          2024
         ],
         "xaxis": "x",
         "y": [
          47,
          101,
          122,
          107
         ],
         "yaxis": "y"
        },
        {
         "marker": {
          "color": "#FF7F50"
         },
         "name": "Feminino",
         "showlegend": false,
         "text": [
          "6",
          "13",
          "15",
          "14"
         ],
         "textposition": "auto",
         "type": "bar",
         "x": [
          2021,
          2022,
          2023,
          2024
         ],
         "xaxis": "x2",
         "y": [
          6,
          13,
          15,
          14
         ],
         "yaxis": "y2"
        },
        {
         "marker": {
          "color": "#1E90FF"
         },
         "name": "Masculino",
         "showlegend": false,
         "text": [
          "33",
          "44",
          "59",
          "56"
         ],
         "textposition": "auto",
         "type": "bar",
         "x": [
          2021,
          2022,
          2023,
          2024
         ],
         "xaxis": "x2",
         "y": [
          33,
          44,
          59,
          56
         ],
         "yaxis": "y2"
        },
        {
         "marker": {
          "color": "#FF7F50"
         },
         "name": "Feminino",
         "showlegend": false,
         "text": [
          "16",
          "14",
          "21",
          "0"
         ],
         "textposition": "auto",
         "type": "bar",
         "x": [
          2021,
          2022,
          2023,
          2024
         ],
         "xaxis": "x3",
         "y": [
          16,
          14,
          21,
          0
         ],
         "yaxis": "y3"
        },
        {
         "marker": {
          "color": "#1E90FF"
         },
         "name": "Masculino",
         "showlegend": false,
         "text": [
          "50",
          "51",
          "58",
          "0"
         ],
         "textposition": "auto",
         "type": "bar",
         "x": [
          2021,
          2022,
          2023,
          2024
         ],
         "xaxis": "x3",
         "y": [
          50,
          51,
          58,
          0
         ],
         "yaxis": "y3"
        },
        {
         "marker": {
          "color": "#FF7F50"
         },
         "name": "Feminino",
         "showlegend": false,
         "text": [
          "5",
          "8",
          "14",
          "19"
         ],
         "textposition": "auto",
         "type": "bar",
         "x": [
          2021,
          2022,
          2023,
          2024
         ],
         "xaxis": "x4",
         "y": [
          5,
          8,
          14,
          19
         ],
         "yaxis": "y4"
        },
        {
         "marker": {
          "color": "#1E90FF"
         },
         "name": "Masculino",
         "showlegend": false,
         "text": [
          "22",
          "22",
          "28",
          "26"
         ],
         "textposition": "auto",
         "type": "bar",
         "x": [
          2021,
          2022,
          2023,
          2024
         ],
         "xaxis": "x4",
         "y": [
          22,
          22,
          28,
          26
         ],
         "yaxis": "y4"
        },
        {
         "marker": {
          "color": "#FF7F50"
         },
         "name": "Feminino",
         "showlegend": false,
         "text": [
          "0",
          "0",
          "0",
          "22"
         ],
         "textposition": "auto",
         "type": "bar",
         "x": [
          2021,
          2022,
          2023,
          2024
         ],
         "xaxis": "x5",
         "y": [
          0,
          0,
          0,
          22
         ],
         "yaxis": "y5"
        },
        {
         "marker": {
          "color": "#1E90FF"
         },
         "name": "Masculino",
         "showlegend": false,
         "text": [
          "0",
          "0",
          "0",
          "61"
         ],
         "textposition": "auto",
         "type": "bar",
         "x": [
          2021,
          2022,
          2023,
          2024
         ],
         "xaxis": "x5",
         "y": [
          0,
          0,
          0,
          61
         ],
         "yaxis": "y5"
        },
        {
         "marker": {
          "color": "#FF7F50"
         },
         "name": "Feminino",
         "showlegend": false,
         "text": [
          "2",
          "8",
          "7",
          "9"
         ],
         "textposition": "auto",
         "type": "bar",
         "x": [
          2021,
          2022,
          2023,
          2024
         ],
         "xaxis": "x6",
         "y": [
          2,
          8,
          7,
          9
         ],
         "yaxis": "y6"
        },
        {
         "marker": {
          "color": "#1E90FF"
         },
         "name": "Masculino",
         "showlegend": false,
         "text": [
          "2",
          "10",
          "23",
          "13"
         ],
         "textposition": "auto",
         "type": "bar",
         "x": [
          2021,
          2022,
          2023,
          2024
         ],
         "xaxis": "x6",
         "y": [
          2,
          10,
          23,
          13
         ],
         "yaxis": "y6"
        },
        {
         "marker": {
          "color": "#FF7F50"
         },
         "name": "Feminino",
         "showlegend": false,
         "text": [
          "1",
          "0",
          "2",
          "0"
         ],
         "textposition": "auto",
         "type": "bar",
         "x": [
          2021,
          2022,
          2023,
          2024
         ],
         "xaxis": "x7",
         "y": [
          1,
          0,
          2,
          0
         ],
         "yaxis": "y7"
        },
        {
         "marker": {
          "color": "#1E90FF"
         },
         "name": "Masculino",
         "showlegend": false,
         "text": [
          "3",
          "14",
          "13",
          "7"
         ],
         "textposition": "auto",
         "type": "bar",
         "x": [
          2021,
          2022,
          2023,
          2024
         ],
         "xaxis": "x7",
         "y": [
          3,
          14,
          13,
          7
         ],
         "yaxis": "y7"
        },
        {
         "marker": {
          "color": "#FF7F50"
         },
         "name": "Feminino",
         "showlegend": false,
         "text": [
          "2",
          "1",
          "5",
          "1"
         ],
         "textposition": "auto",
         "type": "bar",
         "x": [
          2021,
          2022,
          2023,
          2024
         ],
         "xaxis": "x8",
         "y": [
          2,
          1,
          5,
          1
         ],
         "yaxis": "y8"
        },
        {
         "marker": {
          "color": "#1E90FF"
         },
         "name": "Masculino",
         "showlegend": false,
         "text": [
          "4",
          "4",
          "9",
          "9"
         ],
         "textposition": "auto",
         "type": "bar",
         "x": [
          2021,
          2022,
          2023,
          2024
         ],
         "xaxis": "x8",
         "y": [
          4,
          4,
          9,
          9
         ],
         "yaxis": "y8"
        },
        {
         "marker": {
          "color": "#FF7F50"
         },
         "name": "Feminino",
         "showlegend": false,
         "text": [
          "4",
          "6",
          "9",
          "0"
         ],
         "textposition": "auto",
         "type": "bar",
         "x": [
          2021,
          2022,
          2023,
          2024
         ],
         "xaxis": "x9",
         "y": [
          4,
          6,
          9,
          0
         ],
         "yaxis": "y9"
        },
        {
         "marker": {
          "color": "#1E90FF"
         },
         "name": "Masculino",
         "showlegend": false,
         "text": [
          "3",
          "1",
          "4",
          "0"
         ],
         "textposition": "auto",
         "type": "bar",
         "x": [
          2021,
          2022,
          2023,
          2024
         ],
         "xaxis": "x9",
         "y": [
          3,
          1,
          4,
          0
         ],
         "yaxis": "y9"
        },
        {
         "marker": {
          "color": "#FF7F50"
         },
         "name": "Feminino",
         "showlegend": false,
         "text": [
          "0",
          "2",
          "2",
          "0"
         ],
         "textposition": "auto",
         "type": "bar",
         "x": [
          2021,
          2022,
          2023,
          2024
         ],
         "xaxis": "x10",
         "y": [
          0,
          2,
          2,
          0
         ],
         "yaxis": "y10"
        },
        {
         "marker": {
          "color": "#1E90FF"
         },
         "name": "Masculino",
         "showlegend": false,
         "text": [
          "5",
          "6",
          "6",
          "0"
         ],
         "textposition": "auto",
         "type": "bar",
         "x": [
          2021,
          2022,
          2023,
          2024
         ],
         "xaxis": "x10",
         "y": [
          5,
          6,
          6,
          0
         ],
         "yaxis": "y10"
        },
        {
         "marker": {
          "color": "#FF7F50"
         },
         "name": "Feminino",
         "showlegend": false,
         "text": [
          "0",
          "0",
          "0",
          "7"
         ],
         "textposition": "auto",
         "type": "bar",
         "x": [
          2021,
          2022,
          2023,
          2024
         ],
         "xaxis": "x11",
         "y": [
          0,
          0,
          0,
          7
         ],
         "yaxis": "y11"
        },
        {
         "marker": {
          "color": "#1E90FF"
         },
         "name": "Masculino",
         "showlegend": false,
         "text": [
          "0",
          "0",
          "0",
          "9"
         ],
         "textposition": "auto",
         "type": "bar",
         "x": [
          2021,
          2022,
          2023,
          2024
         ],
         "xaxis": "x11",
         "y": [
          0,
          0,
          0,
          9
         ],
         "yaxis": "y11"
        },
        {
         "marker": {
          "color": "#FF7F50"
         },
         "name": "Feminino",
         "showlegend": false,
         "text": [
          "0",
          "0",
          "0",
          "0"
         ],
         "textposition": "auto",
         "type": "bar",
         "x": [
          2021,
          2022,
          2023,
          2024
         ],
         "xaxis": "x12",
         "y": [
          0,
          0,
          0,
          0
         ],
         "yaxis": "y12"
        },
        {
         "marker": {
          "color": "#1E90FF"
         },
         "name": "Masculino",
         "showlegend": false,
         "text": [
          "1",
          "0",
          "0",
          "0"
         ],
         "textposition": "auto",
         "type": "bar",
         "x": [
          2021,
          2022,
          2023,
          2024
         ],
         "xaxis": "x12",
         "y": [
          1,
          0,
          0,
          0
         ],
         "yaxis": "y12"
        }
       ],
       "layout": {
        "annotations": [
         {
          "font": {
           "size": 16
          },
          "showarrow": false,
          "text": "Computação / Engenharia de Software / TI",
          "x": 0.14333333333333334,
          "xanchor": "center",
          "xref": "paper",
          "y": 1,
          "yanchor": "bottom",
          "yref": "paper"
         },
         {
          "font": {
           "size": 16
          },
          "showarrow": false,
          "text": "Economia / Administração / Finanças / Negócios",
          "x": 0.5,
          "xanchor": "center",
          "xref": "paper",
          "y": 1,
          "yanchor": "bottom",
          "yref": "paper"
         },
         {
          "font": {
           "size": 16
          },
          "showarrow": false,
          "text": "Engenharia (outras)",
          "x": 0.8566666666666667,
          "xanchor": "center",
          "xref": "paper",
          "y": 1,
          "yanchor": "bottom",
          "yref": "paper"
         },
         {
          "font": {
           "size": 16
          },
          "showarrow": false,
          "text": "Estatística / Matemática / Ciências Atuariais",
          "x": 0.14333333333333334,
          "xanchor": "center",
          "xref": "paper",
          "y": 0.7200000000000001,
          "yanchor": "bottom",
          "yref": "paper"
         },
         {
          "font": {
           "size": 16
          },
          "showarrow": false,
          "text": "Outras Engenharias (não incluir engenharia de software ou TI)",
          "x": 0.5,
          "xanchor": "center",
          "xref": "paper",
          "y": 0.7200000000000001,
          "yanchor": "bottom",
          "yref": "paper"
         },
         {
          "font": {
           "size": 16
          },
          "showarrow": false,
          "text": "Outras",
          "x": 0.8566666666666667,
          "xanchor": "center",
          "xref": "paper",
          "y": 0.7200000000000001,
          "yanchor": "bottom",
          "yref": "paper"
         },
         {
          "font": {
           "size": 16
          },
          "showarrow": false,
          "text": "Química / Física",
          "x": 0.14333333333333334,
          "xanchor": "center",
          "xref": "paper",
          "y": 0.44000000000000006,
          "yanchor": "bottom",
          "yref": "paper"
         },
         {
          "font": {
           "size": 16
          },
          "showarrow": false,
          "text": "Ciências Biológicas / Medicina / Saúde",
          "x": 0.5,
          "xanchor": "center",
          "xref": "paper",
          "y": 0.44000000000000006,
          "yanchor": "bottom",
          "yref": "paper"
         },
         {
          "font": {
           "size": 16
          },
          "showarrow": false,
          "text": "Marketing / Comunicação / Jornalismo",
          "x": 0.8566666666666667,
          "xanchor": "center",
          "xref": "paper",
          "y": 0.44000000000000006,
          "yanchor": "bottom",
          "yref": "paper"
         },
         {
          "font": {
           "size": 16
          },
          "showarrow": false,
          "text": "Ciências Sociais",
          "x": 0.14333333333333334,
          "xanchor": "center",
          "xref": "paper",
          "y": 0.16,
          "yanchor": "bottom",
          "yref": "paper"
         },
         {
          "font": {
           "size": 16
          },
          "showarrow": false,
          "text": "Marketing / Publicidade / Comunicação / Jornalismo / Ciências Sociais",
          "x": 0.5,
          "xanchor": "center",
          "xref": "paper",
          "y": 0.16,
          "yanchor": "bottom",
          "yref": "paper"
         },
         {
          "font": {
           "size": 16
          },
          "showarrow": false,
          "text": "area_formacao",
          "x": 0.8566666666666667,
          "xanchor": "center",
          "xref": "paper",
          "y": 0.16,
          "yanchor": "bottom",
          "yref": "paper"
         }
        ],
        "barmode": "group",
        "height": 1000,
        "legend": {
         "orientation": "h",
         "x": 1,
         "xanchor": "right",
         "y": 1.02,
         "yanchor": "bottom"
        },
        "margin": {
         "b": 50,
         "l": 50,
         "r": 50,
         "t": 80
        },
        "template": {
         "data": {
          "bar": [
           {
            "error_x": {
             "color": "#2a3f5f"
            },
            "error_y": {
             "color": "#2a3f5f"
            },
            "marker": {
             "line": {
              "color": "white",
              "width": 0.5
             },
             "pattern": {
              "fillmode": "overlay",
              "size": 10,
              "solidity": 0.2
             }
            },
            "type": "bar"
           }
          ],
          "barpolar": [
           {
            "marker": {
             "line": {
              "color": "white",
              "width": 0.5
             },
             "pattern": {
              "fillmode": "overlay",
              "size": 10,
              "solidity": 0.2
             }
            },
            "type": "barpolar"
           }
          ],
          "carpet": [
           {
            "aaxis": {
             "endlinecolor": "#2a3f5f",
             "gridcolor": "#C8D4E3",
             "linecolor": "#C8D4E3",
             "minorgridcolor": "#C8D4E3",
             "startlinecolor": "#2a3f5f"
            },
            "baxis": {
             "endlinecolor": "#2a3f5f",
             "gridcolor": "#C8D4E3",
             "linecolor": "#C8D4E3",
             "minorgridcolor": "#C8D4E3",
             "startlinecolor": "#2a3f5f"
            },
            "type": "carpet"
           }
          ],
          "choropleth": [
           {
            "colorbar": {
             "outlinewidth": 0,
             "ticks": ""
            },
            "type": "choropleth"
           }
          ],
          "contour": [
           {
            "colorbar": {
             "outlinewidth": 0,
             "ticks": ""
            },
            "colorscale": [
             [
              0,
              "#0d0887"
             ],
             [
              0.1111111111111111,
              "#46039f"
             ],
             [
              0.2222222222222222,
              "#7201a8"
             ],
             [
              0.3333333333333333,
              "#9c179e"
             ],
             [
              0.4444444444444444,
              "#bd3786"
             ],
             [
              0.5555555555555556,
              "#d8576b"
             ],
             [
              0.6666666666666666,
              "#ed7953"
             ],
             [
              0.7777777777777778,
              "#fb9f3a"
             ],
             [
              0.8888888888888888,
              "#fdca26"
             ],
             [
              1,
              "#f0f921"
             ]
            ],
            "type": "contour"
           }
          ],
          "contourcarpet": [
           {
            "colorbar": {
             "outlinewidth": 0,
             "ticks": ""
            },
            "type": "contourcarpet"
           }
          ],
          "heatmap": [
           {
            "colorbar": {
             "outlinewidth": 0,
             "ticks": ""
            },
            "colorscale": [
             [
              0,
              "#0d0887"
             ],
             [
              0.1111111111111111,
              "#46039f"
             ],
             [
              0.2222222222222222,
              "#7201a8"
             ],
             [
              0.3333333333333333,
              "#9c179e"
             ],
             [
              0.4444444444444444,
              "#bd3786"
             ],
             [
              0.5555555555555556,
              "#d8576b"
             ],
             [
              0.6666666666666666,
              "#ed7953"
             ],
             [
              0.7777777777777778,
              "#fb9f3a"
             ],
             [
              0.8888888888888888,
              "#fdca26"
             ],
             [
              1,
              "#f0f921"
             ]
            ],
            "type": "heatmap"
           }
          ],
          "heatmapgl": [
           {
            "colorbar": {
             "outlinewidth": 0,
             "ticks": ""
            },
            "colorscale": [
             [
              0,
              "#0d0887"
             ],
             [
              0.1111111111111111,
              "#46039f"
             ],
             [
              0.2222222222222222,
              "#7201a8"
             ],
             [
              0.3333333333333333,
              "#9c179e"
             ],
             [
              0.4444444444444444,
              "#bd3786"
             ],
             [
              0.5555555555555556,
              "#d8576b"
             ],
             [
              0.6666666666666666,
              "#ed7953"
             ],
             [
              0.7777777777777778,
              "#fb9f3a"
             ],
             [
              0.8888888888888888,
              "#fdca26"
             ],
             [
              1,
              "#f0f921"
             ]
            ],
            "type": "heatmapgl"
           }
          ],
          "histogram": [
           {
            "marker": {
             "pattern": {
              "fillmode": "overlay",
              "size": 10,
              "solidity": 0.2
             }
            },
            "type": "histogram"
           }
          ],
          "histogram2d": [
           {
            "colorbar": {
             "outlinewidth": 0,
             "ticks": ""
            },
            "colorscale": [
             [
              0,
              "#0d0887"
             ],
             [
              0.1111111111111111,
              "#46039f"
             ],
             [
              0.2222222222222222,
              "#7201a8"
             ],
             [
              0.3333333333333333,
              "#9c179e"
             ],
             [
              0.4444444444444444,
              "#bd3786"
             ],
             [
              0.5555555555555556,
              "#d8576b"
             ],
             [
              0.6666666666666666,
              "#ed7953"
             ],
             [
              0.7777777777777778,
              "#fb9f3a"
             ],
             [
              0.8888888888888888,
              "#fdca26"
             ],
             [
              1,
              "#f0f921"
             ]
            ],
            "type": "histogram2d"
           }
          ],
          "histogram2dcontour": [
           {
            "colorbar": {
             "outlinewidth": 0,
             "ticks": ""
            },
            "colorscale": [
             [
              0,
              "#0d0887"
             ],
             [
              0.1111111111111111,
              "#46039f"
             ],
             [
              0.2222222222222222,
              "#7201a8"
             ],
             [
              0.3333333333333333,
              "#9c179e"
             ],
             [
              0.4444444444444444,
              "#bd3786"
             ],
             [
              0.5555555555555556,
              "#d8576b"
             ],
             [
              0.6666666666666666,
              "#ed7953"
             ],
             [
              0.7777777777777778,
              "#fb9f3a"
             ],
             [
              0.8888888888888888,
              "#fdca26"
             ],
             [
              1,
              "#f0f921"
             ]
            ],
            "type": "histogram2dcontour"
           }
          ],
          "mesh3d": [
           {
            "colorbar": {
             "outlinewidth": 0,
             "ticks": ""
            },
            "type": "mesh3d"
           }
          ],
          "parcoords": [
           {
            "line": {
             "colorbar": {
              "outlinewidth": 0,
              "ticks": ""
             }
            },
            "type": "parcoords"
           }
          ],
          "pie": [
           {
            "automargin": true,
            "type": "pie"
           }
          ],
          "scatter": [
           {
            "fillpattern": {
             "fillmode": "overlay",
             "size": 10,
             "solidity": 0.2
            },
            "type": "scatter"
           }
          ],
          "scatter3d": [
           {
            "line": {
             "colorbar": {
              "outlinewidth": 0,
              "ticks": ""
             }
            },
            "marker": {
             "colorbar": {
              "outlinewidth": 0,
              "ticks": ""
             }
            },
            "type": "scatter3d"
           }
          ],
          "scattercarpet": [
           {
            "marker": {
             "colorbar": {
              "outlinewidth": 0,
              "ticks": ""
             }
            },
            "type": "scattercarpet"
           }
          ],
          "scattergeo": [
           {
            "marker": {
             "colorbar": {
              "outlinewidth": 0,
              "ticks": ""
             }
            },
            "type": "scattergeo"
           }
          ],
          "scattergl": [
           {
            "marker": {
             "colorbar": {
              "outlinewidth": 0,
              "ticks": ""
             }
            },
            "type": "scattergl"
           }
          ],
          "scattermapbox": [
           {
            "marker": {
             "colorbar": {
              "outlinewidth": 0,
              "ticks": ""
             }
            },
            "type": "scattermapbox"
           }
          ],
          "scatterpolar": [
           {
            "marker": {
             "colorbar": {
              "outlinewidth": 0,
              "ticks": ""
             }
            },
            "type": "scatterpolar"
           }
          ],
          "scatterpolargl": [
           {
            "marker": {
             "colorbar": {
              "outlinewidth": 0,
              "ticks": ""
             }
            },
            "type": "scatterpolargl"
           }
          ],
          "scatterternary": [
           {
            "marker": {
             "colorbar": {
              "outlinewidth": 0,
              "ticks": ""
             }
            },
            "type": "scatterternary"
           }
          ],
          "surface": [
           {
            "colorbar": {
             "outlinewidth": 0,
             "ticks": ""
            },
            "colorscale": [
             [
              0,
              "#0d0887"
             ],
             [
              0.1111111111111111,
              "#46039f"
             ],
             [
              0.2222222222222222,
              "#7201a8"
             ],
             [
              0.3333333333333333,
              "#9c179e"
             ],
             [
              0.4444444444444444,
              "#bd3786"
             ],
             [
              0.5555555555555556,
              "#d8576b"
             ],
             [
              0.6666666666666666,
              "#ed7953"
             ],
             [
              0.7777777777777778,
              "#fb9f3a"
             ],
             [
              0.8888888888888888,
              "#fdca26"
             ],
             [
              1,
              "#f0f921"
             ]
            ],
            "type": "surface"
           }
          ],
          "table": [
           {
            "cells": {
             "fill": {
              "color": "#EBF0F8"
             },
             "line": {
              "color": "white"
             }
            },
            "header": {
             "fill": {
              "color": "#C8D4E3"
             },
             "line": {
              "color": "white"
             }
            },
            "type": "table"
           }
          ]
         },
         "layout": {
          "annotationdefaults": {
           "arrowcolor": "#2a3f5f",
           "arrowhead": 0,
           "arrowwidth": 1
          },
          "autotypenumbers": "strict",
          "coloraxis": {
           "colorbar": {
            "outlinewidth": 0,
            "ticks": ""
           }
          },
          "colorscale": {
           "diverging": [
            [
             0,
             "#8e0152"
            ],
            [
             0.1,
             "#c51b7d"
            ],
            [
             0.2,
             "#de77ae"
            ],
            [
             0.3,
             "#f1b6da"
            ],
            [
             0.4,
             "#fde0ef"
            ],
            [
             0.5,
             "#f7f7f7"
            ],
            [
             0.6,
             "#e6f5d0"
            ],
            [
             0.7,
             "#b8e186"
            ],
            [
             0.8,
             "#7fbc41"
            ],
            [
             0.9,
             "#4d9221"
            ],
            [
             1,
             "#276419"
            ]
           ],
           "sequential": [
            [
             0,
             "#0d0887"
            ],
            [
             0.1111111111111111,
             "#46039f"
            ],
            [
             0.2222222222222222,
             "#7201a8"
            ],
            [
             0.3333333333333333,
             "#9c179e"
            ],
            [
             0.4444444444444444,
             "#bd3786"
            ],
            [
             0.5555555555555556,
             "#d8576b"
            ],
            [
             0.6666666666666666,
             "#ed7953"
            ],
            [
             0.7777777777777778,
             "#fb9f3a"
            ],
            [
             0.8888888888888888,
             "#fdca26"
            ],
            [
             1,
             "#f0f921"
            ]
           ],
           "sequentialminus": [
            [
             0,
             "#0d0887"
            ],
            [
             0.1111111111111111,
             "#46039f"
            ],
            [
             0.2222222222222222,
             "#7201a8"
            ],
            [
             0.3333333333333333,
             "#9c179e"
            ],
            [
             0.4444444444444444,
             "#bd3786"
            ],
            [
             0.5555555555555556,
             "#d8576b"
            ],
            [
             0.6666666666666666,
             "#ed7953"
            ],
            [
             0.7777777777777778,
             "#fb9f3a"
            ],
            [
             0.8888888888888888,
             "#fdca26"
            ],
            [
             1,
             "#f0f921"
            ]
           ]
          },
          "colorway": [
           "#636efa",
           "#EF553B",
           "#00cc96",
           "#ab63fa",
           "#FFA15A",
           "#19d3f3",
           "#FF6692",
           "#B6E880",
           "#FF97FF",
           "#FECB52"
          ],
          "font": {
           "color": "#2a3f5f"
          },
          "geo": {
           "bgcolor": "white",
           "lakecolor": "white",
           "landcolor": "white",
           "showlakes": true,
           "showland": true,
           "subunitcolor": "#C8D4E3"
          },
          "hoverlabel": {
           "align": "left"
          },
          "hovermode": "closest",
          "mapbox": {
           "style": "light"
          },
          "paper_bgcolor": "white",
          "plot_bgcolor": "white",
          "polar": {
           "angularaxis": {
            "gridcolor": "#EBF0F8",
            "linecolor": "#EBF0F8",
            "ticks": ""
           },
           "bgcolor": "white",
           "radialaxis": {
            "gridcolor": "#EBF0F8",
            "linecolor": "#EBF0F8",
            "ticks": ""
           }
          },
          "scene": {
           "xaxis": {
            "backgroundcolor": "white",
            "gridcolor": "#DFE8F3",
            "gridwidth": 2,
            "linecolor": "#EBF0F8",
            "showbackground": true,
            "ticks": "",
            "zerolinecolor": "#EBF0F8"
           },
           "yaxis": {
            "backgroundcolor": "white",
            "gridcolor": "#DFE8F3",
            "gridwidth": 2,
            "linecolor": "#EBF0F8",
            "showbackground": true,
            "ticks": "",
            "zerolinecolor": "#EBF0F8"
           },
           "zaxis": {
            "backgroundcolor": "white",
            "gridcolor": "#DFE8F3",
            "gridwidth": 2,
            "linecolor": "#EBF0F8",
            "showbackground": true,
            "ticks": "",
            "zerolinecolor": "#EBF0F8"
           }
          },
          "shapedefaults": {
           "line": {
            "color": "#2a3f5f"
           }
          },
          "ternary": {
           "aaxis": {
            "gridcolor": "#DFE8F3",
            "linecolor": "#A2B1C6",
            "ticks": ""
           },
           "baxis": {
            "gridcolor": "#DFE8F3",
            "linecolor": "#A2B1C6",
            "ticks": ""
           },
           "bgcolor": "white",
           "caxis": {
            "gridcolor": "#DFE8F3",
            "linecolor": "#A2B1C6",
            "ticks": ""
           }
          },
          "title": {
           "x": 0.05
          },
          "xaxis": {
           "automargin": true,
           "gridcolor": "#EBF0F8",
           "linecolor": "#EBF0F8",
           "ticks": "",
           "title": {
            "standoff": 15
           },
           "zerolinecolor": "#EBF0F8",
           "zerolinewidth": 2
          },
          "yaxis": {
           "automargin": true,
           "gridcolor": "#EBF0F8",
           "linecolor": "#EBF0F8",
           "ticks": "",
           "title": {
            "standoff": 15
           },
           "zerolinecolor": "#EBF0F8",
           "zerolinewidth": 2
          }
         }
        },
        "title": {
         "text": "Distribuição de Áreas de Formação por Ano e Gênero"
        },
        "width": 1200,
        "xaxis": {
         "anchor": "y",
         "domain": [
          0,
          0.2866666666666667
         ],
         "matches": "x10",
         "showticklabels": false,
         "tickangle": 45,
         "title": {
          "text": ""
         }
        },
        "xaxis10": {
         "anchor": "y10",
         "domain": [
          0,
          0.2866666666666667
         ],
         "tickangle": 45,
         "title": {
          "text": "Ano"
         }
        },
        "xaxis11": {
         "anchor": "y11",
         "domain": [
          0.3566666666666667,
          0.6433333333333333
         ],
         "tickangle": 45,
         "title": {
          "text": "Ano"
         }
        },
        "xaxis12": {
         "anchor": "y12",
         "domain": [
          0.7133333333333334,
          1
         ],
         "tickangle": 45,
         "title": {
          "text": "Ano"
         }
        },
        "xaxis2": {
         "anchor": "y2",
         "domain": [
          0.3566666666666667,
          0.6433333333333333
         ],
         "matches": "x11",
         "showticklabels": false,
         "tickangle": 45,
         "title": {
          "text": ""
         }
        },
        "xaxis3": {
         "anchor": "y3",
         "domain": [
          0.7133333333333334,
          1
         ],
         "matches": "x12",
         "showticklabels": false,
         "tickangle": 45,
         "title": {
          "text": ""
         }
        },
        "xaxis4": {
         "anchor": "y4",
         "domain": [
          0,
          0.2866666666666667
         ],
         "matches": "x10",
         "showticklabels": false,
         "tickangle": 45,
         "title": {
          "text": ""
         }
        },
        "xaxis5": {
         "anchor": "y5",
         "domain": [
          0.3566666666666667,
          0.6433333333333333
         ],
         "matches": "x11",
         "showticklabels": false,
         "tickangle": 45,
         "title": {
          "text": ""
         }
        },
        "xaxis6": {
         "anchor": "y6",
         "domain": [
          0.7133333333333334,
          1
         ],
         "matches": "x12",
         "showticklabels": false,
         "tickangle": 45,
         "title": {
          "text": ""
         }
        },
        "xaxis7": {
         "anchor": "y7",
         "domain": [
          0,
          0.2866666666666667
         ],
         "matches": "x10",
         "showticklabels": false,
         "tickangle": 45,
         "title": {
          "text": ""
         }
        },
        "xaxis8": {
         "anchor": "y8",
         "domain": [
          0.3566666666666667,
          0.6433333333333333
         ],
         "matches": "x11",
         "showticklabels": false,
         "tickangle": 45,
         "title": {
          "text": ""
         }
        },
        "xaxis9": {
         "anchor": "y9",
         "domain": [
          0.7133333333333334,
          1
         ],
         "matches": "x12",
         "showticklabels": false,
         "tickangle": 45,
         "title": {
          "text": ""
         }
        },
        "yaxis": {
         "anchor": "x",
         "domain": [
          0.84,
          1
         ],
         "title": {
          "text": "Quantidade"
         }
        },
        "yaxis10": {
         "anchor": "x10",
         "domain": [
          0,
          0.16
         ],
         "title": {
          "text": "Quantidade"
         }
        },
        "yaxis11": {
         "anchor": "x11",
         "domain": [
          0,
          0.16
         ]
        },
        "yaxis12": {
         "anchor": "x12",
         "domain": [
          0,
          0.16
         ]
        },
        "yaxis2": {
         "anchor": "x2",
         "domain": [
          0.84,
          1
         ]
        },
        "yaxis3": {
         "anchor": "x3",
         "domain": [
          0.84,
          1
         ]
        },
        "yaxis4": {
         "anchor": "x4",
         "domain": [
          0.56,
          0.7200000000000001
         ],
         "title": {
          "text": "Quantidade"
         }
        },
        "yaxis5": {
         "anchor": "x5",
         "domain": [
          0.56,
          0.7200000000000001
         ]
        },
        "yaxis6": {
         "anchor": "x6",
         "domain": [
          0.56,
          0.7200000000000001
         ]
        },
        "yaxis7": {
         "anchor": "x7",
         "domain": [
          0.28,
          0.44000000000000006
         ],
         "title": {
          "text": "Quantidade"
         }
        },
        "yaxis8": {
         "anchor": "x8",
         "domain": [
          0.28,
          0.44000000000000006
         ]
        },
        "yaxis9": {
         "anchor": "x9",
         "domain": [
          0.28,
          0.44000000000000006
         ]
        }
       }
      }
     },
     "metadata": {},
     "output_type": "display_data"
    }
   ],
   "source": [
    "# distribuição area formação x genero\n",
    "\n",
    "df = df_rj[df_rj['area_formacao'] != \"Não classificado\"].copy()\n",
    "\n",
    "df_contagem = df.groupby(['area_formacao', 'ano_pesquisa', 'genero']).size().reset_index(name='contagem')\n",
    "\n",
    "\n",
    "cores = {\"Masculino\": \"#1E90FF\",  \"Feminino\": \"#FF7F50\" }\n",
    "\n",
    "\n",
    "areas_unicas = df_contagem.groupby('area_formacao')['contagem'].sum().sort_values(ascending=False).index.tolist()\n",
    "anos = sorted(df_contagem['ano_pesquisa'].unique())\n",
    "generos = [\"Feminino\", \"Masculino\"]\n",
    "\n",
    "\n",
    "n_cols = 3  \n",
    "n_rows = -(-len(areas_unicas) // n_cols)  \n",
    "\n",
    "\n",
    "fig = make_subplots(\n",
    "    rows=n_rows, \n",
    "    cols=n_cols,\n",
    "    subplot_titles=areas_unicas,\n",
    "    shared_xaxes=True,\n",
    "    horizontal_spacing=0.07,\n",
    "    vertical_spacing=0.12\n",
    ")\n",
    "\n",
    "\n",
    "for i, area in enumerate(areas_unicas):\n",
    "    row = i // n_cols + 1\n",
    "    col = i % n_cols + 1\n",
    "    \n",
    "    for genero in generos:\n",
    "        df_filtrado = df_contagem[(df_contagem['area_formacao'] == area) & \n",
    "                                  (df_contagem['genero'] == genero)]\n",
    "        \n",
    "        x_anos = []\n",
    "        y_contagens = []\n",
    "        \n",
    "        for ano in anos:\n",
    "            df_ano = df_filtrado[df_filtrado['ano_pesquisa'] == ano]\n",
    "            y_contagens.append(df_ano['contagem'].values[0] if not df_ano.empty else 0)\n",
    "            x_anos.append(ano)\n",
    "        \n",
    "        fig.add_trace(\n",
    "            go.Bar(\n",
    "                x=x_anos,\n",
    "                y=y_contagens,\n",
    "                name=genero,\n",
    "                marker_color=cores[genero],\n",
    "                text=y_contagens,\n",
    "                textposition='auto',\n",
    "                showlegend=i == 0\n",
    "            ),\n",
    "            row=row, col=col\n",
    "        )\n",
    "\n",
    "fig.update_layout(\n",
    "    title='Distribuição de Áreas de Formação por Ano e Gênero',\n",
    "    height=min(1000, n_rows * 250),\n",
    "    width=1200,\n",
    "    template='plotly_white',\n",
    "    barmode='group',\n",
    "    legend=dict(orientation=\"h\", yanchor=\"bottom\", y=1.02, xanchor=\"right\", x=1),\n",
    "    margin=dict(t=80, b=50, l=50, r=50)\n",
    ")\n",
    "\n",
    "\n",
    "for i in range(1, n_rows + 1):\n",
    "    for j in range(1, n_cols + 1):\n",
    "        if (i-1) * n_cols + j <= len(areas_unicas):\n",
    "            fig.update_xaxes(title_text=\"Ano\" if i == n_rows else \"\", tickangle=45, row=i, col=j)\n",
    "            if j == 1:\n",
    "                fig.update_yaxes(title_text=\"Quantidade\", row=i, col=j)\n",
    "\n",
    "fig.show()\n"
   ]
  },
  {
   "cell_type": "code",
   "execution_count": 23,
   "metadata": {},
   "outputs": [
    {
     "name": "stderr",
     "output_type": "stream",
     "text": [
      "C:\\Users\\julli\\AppData\\Local\\Temp\\ipykernel_26276\\3028215544.py:3: FutureWarning:\n",
      "\n",
      "The default of observed=False is deprecated and will be changed to True in a future version of pandas. Pass observed=False to retain current behavior or observed=True to adopt the future default and silence this warning.\n",
      "\n"
     ]
    },
    {
     "data": {
      "application/vnd.plotly.v1+json": {
       "config": {
        "plotlyServerURL": "https://plot.ly"
       },
       "data": [
        {
         "marker": {
          "color": "#FF7F50"
         },
         "name": "Feminino",
         "orientation": "h",
         "showlegend": true,
         "text": [
          "0",
          "0",
          "0",
          "0",
          "0",
          "0"
         ],
         "textfont": {
          "color": "black"
         },
         "textposition": "outside",
         "type": "bar",
         "x": [
          0,
          0,
          0,
          0,
          0,
          0
         ],
         "xaxis": "x",
         "y": [
          "Não tenho graduação formal",
          "Estudante de Graduação",
          "Graduação/Bacharelado",
          "Especialização Lato Sensu",
          "Mestrado",
          "Doutorado ou Phd"
         ],
         "yaxis": "y"
        },
        {
         "marker": {
          "color": "#1E90FF"
         },
         "name": "Masculino",
         "orientation": "h",
         "showlegend": true,
         "text": [
          "0",
          "0",
          "0",
          "0",
          "0",
          "0"
         ],
         "textfont": {
          "color": "black"
         },
         "textposition": "outside",
         "type": "bar",
         "x": [
          0,
          0,
          0,
          0,
          0,
          0
         ],
         "xaxis": "x",
         "y": [
          "Não tenho graduação formal",
          "Estudante de Graduação",
          "Graduação/Bacharelado",
          "Especialização Lato Sensu",
          "Mestrado",
          "Doutorado ou Phd"
         ],
         "yaxis": "y"
        },
        {
         "marker": {
          "color": "#FF7F50"
         },
         "name": "Feminino",
         "orientation": "h",
         "showlegend": false,
         "text": [
          "0",
          "0",
          "0",
          "0",
          "0",
          "0"
         ],
         "textfont": {
          "color": "black"
         },
         "textposition": "outside",
         "type": "bar",
         "x": [
          0,
          0,
          0,
          0,
          0,
          0
         ],
         "xaxis": "x2",
         "y": [
          "Não tenho graduação formal",
          "Estudante de Graduação",
          "Graduação/Bacharelado",
          "Especialização Lato Sensu",
          "Mestrado",
          "Doutorado ou Phd"
         ],
         "yaxis": "y2"
        },
        {
         "marker": {
          "color": "#1E90FF"
         },
         "name": "Masculino",
         "orientation": "h",
         "showlegend": false,
         "text": [
          "0",
          "0",
          "0",
          "0",
          "0",
          "0"
         ],
         "textfont": {
          "color": "black"
         },
         "textposition": "outside",
         "type": "bar",
         "x": [
          0,
          0,
          0,
          0,
          0,
          0
         ],
         "xaxis": "x2",
         "y": [
          "Não tenho graduação formal",
          "Estudante de Graduação",
          "Graduação/Bacharelado",
          "Especialização Lato Sensu",
          "Mestrado",
          "Doutorado ou Phd"
         ],
         "yaxis": "y2"
        },
        {
         "marker": {
          "color": "#FF7F50"
         },
         "name": "Feminino",
         "orientation": "h",
         "showlegend": false,
         "text": [
          "0",
          "0",
          "0",
          "0",
          "0",
          "0"
         ],
         "textfont": {
          "color": "black"
         },
         "textposition": "outside",
         "type": "bar",
         "x": [
          0,
          0,
          0,
          0,
          0,
          0
         ],
         "xaxis": "x3",
         "y": [
          "Não tenho graduação formal",
          "Estudante de Graduação",
          "Graduação/Bacharelado",
          "Especialização Lato Sensu",
          "Mestrado",
          "Doutorado ou Phd"
         ],
         "yaxis": "y3"
        },
        {
         "marker": {
          "color": "#1E90FF"
         },
         "name": "Masculino",
         "orientation": "h",
         "showlegend": false,
         "text": [
          "0",
          "0",
          "0",
          "0",
          "0",
          "0"
         ],
         "textfont": {
          "color": "black"
         },
         "textposition": "outside",
         "type": "bar",
         "x": [
          0,
          0,
          0,
          0,
          0,
          0
         ],
         "xaxis": "x3",
         "y": [
          "Não tenho graduação formal",
          "Estudante de Graduação",
          "Graduação/Bacharelado",
          "Especialização Lato Sensu",
          "Mestrado",
          "Doutorado ou Phd"
         ],
         "yaxis": "y3"
        },
        {
         "marker": {
          "color": "#FF7F50"
         },
         "name": "Feminino",
         "orientation": "h",
         "showlegend": false,
         "text": [
          "0",
          "0",
          "0",
          "0",
          "0",
          "0"
         ],
         "textfont": {
          "color": "black"
         },
         "textposition": "outside",
         "type": "bar",
         "x": [
          0,
          0,
          0,
          0,
          0,
          0
         ],
         "xaxis": "x4",
         "y": [
          "Não tenho graduação formal",
          "Estudante de Graduação",
          "Graduação/Bacharelado",
          "Especialização Lato Sensu",
          "Mestrado",
          "Doutorado ou Phd"
         ],
         "yaxis": "y4"
        },
        {
         "marker": {
          "color": "#1E90FF"
         },
         "name": "Masculino",
         "orientation": "h",
         "showlegend": false,
         "text": [
          "0",
          "0",
          "0",
          "0",
          "0",
          "0"
         ],
         "textfont": {
          "color": "black"
         },
         "textposition": "outside",
         "type": "bar",
         "x": [
          0,
          0,
          0,
          0,
          0,
          0
         ],
         "xaxis": "x4",
         "y": [
          "Não tenho graduação formal",
          "Estudante de Graduação",
          "Graduação/Bacharelado",
          "Especialização Lato Sensu",
          "Mestrado",
          "Doutorado ou Phd"
         ],
         "yaxis": "y4"
        }
       ],
       "layout": {
        "annotations": [
         {
          "font": {
           "size": 16
          },
          "showarrow": false,
          "text": "2021",
          "x": 0.10625,
          "xanchor": "center",
          "xref": "paper",
          "y": 1,
          "yanchor": "bottom",
          "yref": "paper"
         },
         {
          "font": {
           "size": 16
          },
          "showarrow": false,
          "text": "2022",
          "x": 0.36875,
          "xanchor": "center",
          "xref": "paper",
          "y": 1,
          "yanchor": "bottom",
          "yref": "paper"
         },
         {
          "font": {
           "size": 16
          },
          "showarrow": false,
          "text": "2023",
          "x": 0.6312500000000001,
          "xanchor": "center",
          "xref": "paper",
          "y": 1,
          "yanchor": "bottom",
          "yref": "paper"
         },
         {
          "font": {
           "size": 16
          },
          "showarrow": false,
          "text": "2024",
          "x": 0.89375,
          "xanchor": "center",
          "xref": "paper",
          "y": 1,
          "yanchor": "bottom",
          "yref": "paper"
         }
        ],
        "barmode": "group",
        "height": 800,
        "legend": {
         "orientation": "h",
         "x": 0.5,
         "xanchor": "center",
         "y": 1.02,
         "yanchor": "bottom"
        },
        "template": {
         "data": {
          "bar": [
           {
            "error_x": {
             "color": "#2a3f5f"
            },
            "error_y": {
             "color": "#2a3f5f"
            },
            "marker": {
             "line": {
              "color": "white",
              "width": 0.5
             },
             "pattern": {
              "fillmode": "overlay",
              "size": 10,
              "solidity": 0.2
             }
            },
            "type": "bar"
           }
          ],
          "barpolar": [
           {
            "marker": {
             "line": {
              "color": "white",
              "width": 0.5
             },
             "pattern": {
              "fillmode": "overlay",
              "size": 10,
              "solidity": 0.2
             }
            },
            "type": "barpolar"
           }
          ],
          "carpet": [
           {
            "aaxis": {
             "endlinecolor": "#2a3f5f",
             "gridcolor": "#C8D4E3",
             "linecolor": "#C8D4E3",
             "minorgridcolor": "#C8D4E3",
             "startlinecolor": "#2a3f5f"
            },
            "baxis": {
             "endlinecolor": "#2a3f5f",
             "gridcolor": "#C8D4E3",
             "linecolor": "#C8D4E3",
             "minorgridcolor": "#C8D4E3",
             "startlinecolor": "#2a3f5f"
            },
            "type": "carpet"
           }
          ],
          "choropleth": [
           {
            "colorbar": {
             "outlinewidth": 0,
             "ticks": ""
            },
            "type": "choropleth"
           }
          ],
          "contour": [
           {
            "colorbar": {
             "outlinewidth": 0,
             "ticks": ""
            },
            "colorscale": [
             [
              0,
              "#0d0887"
             ],
             [
              0.1111111111111111,
              "#46039f"
             ],
             [
              0.2222222222222222,
              "#7201a8"
             ],
             [
              0.3333333333333333,
              "#9c179e"
             ],
             [
              0.4444444444444444,
              "#bd3786"
             ],
             [
              0.5555555555555556,
              "#d8576b"
             ],
             [
              0.6666666666666666,
              "#ed7953"
             ],
             [
              0.7777777777777778,
              "#fb9f3a"
             ],
             [
              0.8888888888888888,
              "#fdca26"
             ],
             [
              1,
              "#f0f921"
             ]
            ],
            "type": "contour"
           }
          ],
          "contourcarpet": [
           {
            "colorbar": {
             "outlinewidth": 0,
             "ticks": ""
            },
            "type": "contourcarpet"
           }
          ],
          "heatmap": [
           {
            "colorbar": {
             "outlinewidth": 0,
             "ticks": ""
            },
            "colorscale": [
             [
              0,
              "#0d0887"
             ],
             [
              0.1111111111111111,
              "#46039f"
             ],
             [
              0.2222222222222222,
              "#7201a8"
             ],
             [
              0.3333333333333333,
              "#9c179e"
             ],
             [
              0.4444444444444444,
              "#bd3786"
             ],
             [
              0.5555555555555556,
              "#d8576b"
             ],
             [
              0.6666666666666666,
              "#ed7953"
             ],
             [
              0.7777777777777778,
              "#fb9f3a"
             ],
             [
              0.8888888888888888,
              "#fdca26"
             ],
             [
              1,
              "#f0f921"
             ]
            ],
            "type": "heatmap"
           }
          ],
          "heatmapgl": [
           {
            "colorbar": {
             "outlinewidth": 0,
             "ticks": ""
            },
            "colorscale": [
             [
              0,
              "#0d0887"
             ],
             [
              0.1111111111111111,
              "#46039f"
             ],
             [
              0.2222222222222222,
              "#7201a8"
             ],
             [
              0.3333333333333333,
              "#9c179e"
             ],
             [
              0.4444444444444444,
              "#bd3786"
             ],
             [
              0.5555555555555556,
              "#d8576b"
             ],
             [
              0.6666666666666666,
              "#ed7953"
             ],
             [
              0.7777777777777778,
              "#fb9f3a"
             ],
             [
              0.8888888888888888,
              "#fdca26"
             ],
             [
              1,
              "#f0f921"
             ]
            ],
            "type": "heatmapgl"
           }
          ],
          "histogram": [
           {
            "marker": {
             "pattern": {
              "fillmode": "overlay",
              "size": 10,
              "solidity": 0.2
             }
            },
            "type": "histogram"
           }
          ],
          "histogram2d": [
           {
            "colorbar": {
             "outlinewidth": 0,
             "ticks": ""
            },
            "colorscale": [
             [
              0,
              "#0d0887"
             ],
             [
              0.1111111111111111,
              "#46039f"
             ],
             [
              0.2222222222222222,
              "#7201a8"
             ],
             [
              0.3333333333333333,
              "#9c179e"
             ],
             [
              0.4444444444444444,
              "#bd3786"
             ],
             [
              0.5555555555555556,
              "#d8576b"
             ],
             [
              0.6666666666666666,
              "#ed7953"
             ],
             [
              0.7777777777777778,
              "#fb9f3a"
             ],
             [
              0.8888888888888888,
              "#fdca26"
             ],
             [
              1,
              "#f0f921"
             ]
            ],
            "type": "histogram2d"
           }
          ],
          "histogram2dcontour": [
           {
            "colorbar": {
             "outlinewidth": 0,
             "ticks": ""
            },
            "colorscale": [
             [
              0,
              "#0d0887"
             ],
             [
              0.1111111111111111,
              "#46039f"
             ],
             [
              0.2222222222222222,
              "#7201a8"
             ],
             [
              0.3333333333333333,
              "#9c179e"
             ],
             [
              0.4444444444444444,
              "#bd3786"
             ],
             [
              0.5555555555555556,
              "#d8576b"
             ],
             [
              0.6666666666666666,
              "#ed7953"
             ],
             [
              0.7777777777777778,
              "#fb9f3a"
             ],
             [
              0.8888888888888888,
              "#fdca26"
             ],
             [
              1,
              "#f0f921"
             ]
            ],
            "type": "histogram2dcontour"
           }
          ],
          "mesh3d": [
           {
            "colorbar": {
             "outlinewidth": 0,
             "ticks": ""
            },
            "type": "mesh3d"
           }
          ],
          "parcoords": [
           {
            "line": {
             "colorbar": {
              "outlinewidth": 0,
              "ticks": ""
             }
            },
            "type": "parcoords"
           }
          ],
          "pie": [
           {
            "automargin": true,
            "type": "pie"
           }
          ],
          "scatter": [
           {
            "fillpattern": {
             "fillmode": "overlay",
             "size": 10,
             "solidity": 0.2
            },
            "type": "scatter"
           }
          ],
          "scatter3d": [
           {
            "line": {
             "colorbar": {
              "outlinewidth": 0,
              "ticks": ""
             }
            },
            "marker": {
             "colorbar": {
              "outlinewidth": 0,
              "ticks": ""
             }
            },
            "type": "scatter3d"
           }
          ],
          "scattercarpet": [
           {
            "marker": {
             "colorbar": {
              "outlinewidth": 0,
              "ticks": ""
             }
            },
            "type": "scattercarpet"
           }
          ],
          "scattergeo": [
           {
            "marker": {
             "colorbar": {
              "outlinewidth": 0,
              "ticks": ""
             }
            },
            "type": "scattergeo"
           }
          ],
          "scattergl": [
           {
            "marker": {
             "colorbar": {
              "outlinewidth": 0,
              "ticks": ""
             }
            },
            "type": "scattergl"
           }
          ],
          "scattermapbox": [
           {
            "marker": {
             "colorbar": {
              "outlinewidth": 0,
              "ticks": ""
             }
            },
            "type": "scattermapbox"
           }
          ],
          "scatterpolar": [
           {
            "marker": {
             "colorbar": {
              "outlinewidth": 0,
              "ticks": ""
             }
            },
            "type": "scatterpolar"
           }
          ],
          "scatterpolargl": [
           {
            "marker": {
             "colorbar": {
              "outlinewidth": 0,
              "ticks": ""
             }
            },
            "type": "scatterpolargl"
           }
          ],
          "scatterternary": [
           {
            "marker": {
             "colorbar": {
              "outlinewidth": 0,
              "ticks": ""
             }
            },
            "type": "scatterternary"
           }
          ],
          "surface": [
           {
            "colorbar": {
             "outlinewidth": 0,
             "ticks": ""
            },
            "colorscale": [
             [
              0,
              "#0d0887"
             ],
             [
              0.1111111111111111,
              "#46039f"
             ],
             [
              0.2222222222222222,
              "#7201a8"
             ],
             [
              0.3333333333333333,
              "#9c179e"
             ],
             [
              0.4444444444444444,
              "#bd3786"
             ],
             [
              0.5555555555555556,
              "#d8576b"
             ],
             [
              0.6666666666666666,
              "#ed7953"
             ],
             [
              0.7777777777777778,
              "#fb9f3a"
             ],
             [
              0.8888888888888888,
              "#fdca26"
             ],
             [
              1,
              "#f0f921"
             ]
            ],
            "type": "surface"
           }
          ],
          "table": [
           {
            "cells": {
             "fill": {
              "color": "#EBF0F8"
             },
             "line": {
              "color": "white"
             }
            },
            "header": {
             "fill": {
              "color": "#C8D4E3"
             },
             "line": {
              "color": "white"
             }
            },
            "type": "table"
           }
          ]
         },
         "layout": {
          "annotationdefaults": {
           "arrowcolor": "#2a3f5f",
           "arrowhead": 0,
           "arrowwidth": 1
          },
          "autotypenumbers": "strict",
          "coloraxis": {
           "colorbar": {
            "outlinewidth": 0,
            "ticks": ""
           }
          },
          "colorscale": {
           "diverging": [
            [
             0,
             "#8e0152"
            ],
            [
             0.1,
             "#c51b7d"
            ],
            [
             0.2,
             "#de77ae"
            ],
            [
             0.3,
             "#f1b6da"
            ],
            [
             0.4,
             "#fde0ef"
            ],
            [
             0.5,
             "#f7f7f7"
            ],
            [
             0.6,
             "#e6f5d0"
            ],
            [
             0.7,
             "#b8e186"
            ],
            [
             0.8,
             "#7fbc41"
            ],
            [
             0.9,
             "#4d9221"
            ],
            [
             1,
             "#276419"
            ]
           ],
           "sequential": [
            [
             0,
             "#0d0887"
            ],
            [
             0.1111111111111111,
             "#46039f"
            ],
            [
             0.2222222222222222,
             "#7201a8"
            ],
            [
             0.3333333333333333,
             "#9c179e"
            ],
            [
             0.4444444444444444,
             "#bd3786"
            ],
            [
             0.5555555555555556,
             "#d8576b"
            ],
            [
             0.6666666666666666,
             "#ed7953"
            ],
            [
             0.7777777777777778,
             "#fb9f3a"
            ],
            [
             0.8888888888888888,
             "#fdca26"
            ],
            [
             1,
             "#f0f921"
            ]
           ],
           "sequentialminus": [
            [
             0,
             "#0d0887"
            ],
            [
             0.1111111111111111,
             "#46039f"
            ],
            [
             0.2222222222222222,
             "#7201a8"
            ],
            [
             0.3333333333333333,
             "#9c179e"
            ],
            [
             0.4444444444444444,
             "#bd3786"
            ],
            [
             0.5555555555555556,
             "#d8576b"
            ],
            [
             0.6666666666666666,
             "#ed7953"
            ],
            [
             0.7777777777777778,
             "#fb9f3a"
            ],
            [
             0.8888888888888888,
             "#fdca26"
            ],
            [
             1,
             "#f0f921"
            ]
           ]
          },
          "colorway": [
           "#636efa",
           "#EF553B",
           "#00cc96",
           "#ab63fa",
           "#FFA15A",
           "#19d3f3",
           "#FF6692",
           "#B6E880",
           "#FF97FF",
           "#FECB52"
          ],
          "font": {
           "color": "#2a3f5f"
          },
          "geo": {
           "bgcolor": "white",
           "lakecolor": "white",
           "landcolor": "white",
           "showlakes": true,
           "showland": true,
           "subunitcolor": "#C8D4E3"
          },
          "hoverlabel": {
           "align": "left"
          },
          "hovermode": "closest",
          "mapbox": {
           "style": "light"
          },
          "paper_bgcolor": "white",
          "plot_bgcolor": "white",
          "polar": {
           "angularaxis": {
            "gridcolor": "#EBF0F8",
            "linecolor": "#EBF0F8",
            "ticks": ""
           },
           "bgcolor": "white",
           "radialaxis": {
            "gridcolor": "#EBF0F8",
            "linecolor": "#EBF0F8",
            "ticks": ""
           }
          },
          "scene": {
           "xaxis": {
            "backgroundcolor": "white",
            "gridcolor": "#DFE8F3",
            "gridwidth": 2,
            "linecolor": "#EBF0F8",
            "showbackground": true,
            "ticks": "",
            "zerolinecolor": "#EBF0F8"
           },
           "yaxis": {
            "backgroundcolor": "white",
            "gridcolor": "#DFE8F3",
            "gridwidth": 2,
            "linecolor": "#EBF0F8",
            "showbackground": true,
            "ticks": "",
            "zerolinecolor": "#EBF0F8"
           },
           "zaxis": {
            "backgroundcolor": "white",
            "gridcolor": "#DFE8F3",
            "gridwidth": 2,
            "linecolor": "#EBF0F8",
            "showbackground": true,
            "ticks": "",
            "zerolinecolor": "#EBF0F8"
           }
          },
          "shapedefaults": {
           "line": {
            "color": "#2a3f5f"
           }
          },
          "ternary": {
           "aaxis": {
            "gridcolor": "#DFE8F3",
            "linecolor": "#A2B1C6",
            "ticks": ""
           },
           "baxis": {
            "gridcolor": "#DFE8F3",
            "linecolor": "#A2B1C6",
            "ticks": ""
           },
           "bgcolor": "white",
           "caxis": {
            "gridcolor": "#DFE8F3",
            "linecolor": "#A2B1C6",
            "ticks": ""
           }
          },
          "title": {
           "x": 0.05
          },
          "xaxis": {
           "automargin": true,
           "gridcolor": "#EBF0F8",
           "linecolor": "#EBF0F8",
           "ticks": "",
           "title": {
            "standoff": 15
           },
           "zerolinecolor": "#EBF0F8",
           "zerolinewidth": 2
          },
          "yaxis": {
           "automargin": true,
           "gridcolor": "#EBF0F8",
           "linecolor": "#EBF0F8",
           "ticks": "",
           "title": {
            "standoff": 15
           },
           "zerolinecolor": "#EBF0F8",
           "zerolinewidth": 2
          }
         }
        },
        "title": {
         "text": "Distribuição Absoluta por Gênero em Cada Nível de Formação Acadêmica (2021-2023)"
        },
        "xaxis": {
         "anchor": "y",
         "domain": [
          0,
          0.2125
         ],
         "title": {
          "text": "Quantidade"
         }
        },
        "xaxis2": {
         "anchor": "y2",
         "domain": [
          0.2625,
          0.475
         ]
        },
        "xaxis3": {
         "anchor": "y3",
         "domain": [
          0.525,
          0.7375
         ]
        },
        "xaxis4": {
         "anchor": "y4",
         "domain": [
          0.7875,
          1
         ]
        },
        "yaxis": {
         "anchor": "x",
         "domain": [
          0,
          1
         ],
         "title": {
          "text": "Nível de Formação"
         }
        },
        "yaxis2": {
         "anchor": "x2",
         "domain": [
          0,
          1
         ],
         "matches": "y",
         "showticklabels": false
        },
        "yaxis3": {
         "anchor": "x3",
         "domain": [
          0,
          1
         ],
         "matches": "y",
         "showticklabels": false
        },
        "yaxis4": {
         "anchor": "x4",
         "domain": [
          0,
          1
         ],
         "matches": "y",
         "showticklabels": false
        }
       }
      }
     },
     "metadata": {},
     "output_type": "display_data"
    }
   ],
   "source": [
    "# Distribuição escolaridade x genero - VALORES ABSOLUTOS, BARRAS LADO A LADO, SEM REPETIR NOME DO GÊNERO NO EIXO Y\n",
    "\n",
    "df_grouped = df_rj.groupby([\"ano_pesquisa\", \"nivel_ensino\", \"genero\"]).size().reset_index(name=\"count\")\n",
    "\n",
    "fig = make_subplots(rows=1, cols=4, shared_yaxes=True, subplot_titles=[\"2021\", \"2022\", \"2023\", \"2024\"])\n",
    "\n",
    "anos = ['2021', '2022', '2023', '2024']\n",
    "cores = {\"Masculino\": \"#1E90FF\",  \"Feminino\": \"#FF7F50\" }\n",
    "\n",
    "ordem_niveis = [\n",
    "    'Não tenho graduação formal', \n",
    "    'Estudante de Graduação',\n",
    "    'Graduação/Bacharelado', \n",
    "    'Especialização Lato Sensu',\n",
    "    'Mestrado',\n",
    "    'Doutorado ou Phd'\n",
    "]\n",
    "\n",
    "for i, ano in enumerate(anos):\n",
    "    df_ano = df_grouped[df_grouped[\"ano_pesquisa\"] == ano]\n",
    "    \n",
    "    for genero in [\"Feminino\", \"Masculino\"]:\n",
    "        counts = []\n",
    "        niveis = []\n",
    "        \n",
    "        for nivel in ordem_niveis:\n",
    "            df_nivel = df_ano[(df_ano[\"nivel_ensino\"] == nivel) & (df_ano[\"genero\"] == genero)]\n",
    "            count = df_nivel[\"count\"].values[0] if not df_nivel.empty else 0\n",
    "            counts.append(count)\n",
    "            niveis.append(nivel)\n",
    "        \n",
    "        fig.add_trace(go.Bar(\n",
    "            y=niveis,\n",
    "            x=counts,\n",
    "            name=genero,\n",
    "            orientation=\"h\",\n",
    "            marker=dict(color=cores[genero]),\n",
    "            text=[str(c) for c in counts],\n",
    "            textposition=\"outside\",\n",
    "            textfont=dict(color=\"black\"),\n",
    "            showlegend=True if i == 0 else False\n",
    "        ), row=1, col=i+1)\n",
    "\n",
    "# Configurando layout\n",
    "fig.update_layout(\n",
    "    title=\"Distribuição Absoluta por Gênero em Cada Nível de Formação Acadêmica (2021-2023)\",\n",
    "    xaxis_title=\"Quantidade\",\n",
    "    yaxis_title=\"Nível de Formação\",\n",
    "    barmode=\"group\",  # Barras lado a lado\n",
    "    height=800,\n",
    "    template=\"plotly_white\",\n",
    "    legend=dict(\n",
    "        orientation=\"h\",\n",
    "        yanchor=\"bottom\",\n",
    "        y=1.02,\n",
    "        xanchor=\"center\",\n",
    "        x=0.5\n",
    "    )\n",
    ")\n",
    "\n",
    "fig.show()\n"
   ]
  },
  {
   "cell_type": "code",
   "execution_count": 24,
   "metadata": {},
   "outputs": [
    {
     "name": "stderr",
     "output_type": "stream",
     "text": [
      "C:\\Users\\julli\\AppData\\Local\\Temp\\ipykernel_26276\\2902978945.py:1: FutureWarning:\n",
      "\n",
      "The default of observed=False is deprecated and will be changed to True in a future version of pandas. Pass observed=False to retain current behavior or observed=True to adopt the future default and silence this warning.\n",
      "\n",
      "C:\\Users\\julli\\AppData\\Local\\Temp\\ipykernel_26276\\2902978945.py:4: FutureWarning:\n",
      "\n",
      "The default of observed=False is deprecated and will be changed to True in a future version of pandas. Pass observed=False to retain current behavior or observed=True to adopt the future default and silence this warning.\n",
      "\n"
     ]
    },
    {
     "data": {
      "application/vnd.plotly.v1+json": {
       "config": {
        "plotlyServerURL": "https://plot.ly"
       },
       "data": [],
       "layout": {
        "annotations": [
         {
          "font": {
           "size": 16
          },
          "showarrow": false,
          "text": "2021",
          "x": 0.10625,
          "xanchor": "center",
          "xref": "paper",
          "y": 1,
          "yanchor": "bottom",
          "yref": "paper"
         },
         {
          "font": {
           "size": 16
          },
          "showarrow": false,
          "text": "2022",
          "x": 0.36875,
          "xanchor": "center",
          "xref": "paper",
          "y": 1,
          "yanchor": "bottom",
          "yref": "paper"
         },
         {
          "font": {
           "size": 16
          },
          "showarrow": false,
          "text": "2023",
          "x": 0.6312500000000001,
          "xanchor": "center",
          "xref": "paper",
          "y": 1,
          "yanchor": "bottom",
          "yref": "paper"
         },
         {
          "font": {
           "size": 16
          },
          "showarrow": false,
          "text": "2024",
          "x": 0.89375,
          "xanchor": "center",
          "xref": "paper",
          "y": 1,
          "yanchor": "bottom",
          "yref": "paper"
         }
        ],
        "bargap": 0.2,
        "bargroupgap": 0.1,
        "barmode": "stack",
        "height": 600,
        "legend": {
         "orientation": "h",
         "x": 0.5,
         "xanchor": "center",
         "y": 1.02,
         "yanchor": "bottom"
        },
        "template": {
         "data": {
          "bar": [
           {
            "error_x": {
             "color": "#2a3f5f"
            },
            "error_y": {
             "color": "#2a3f5f"
            },
            "marker": {
             "line": {
              "color": "white",
              "width": 0.5
             },
             "pattern": {
              "fillmode": "overlay",
              "size": 10,
              "solidity": 0.2
             }
            },
            "type": "bar"
           }
          ],
          "barpolar": [
           {
            "marker": {
             "line": {
              "color": "white",
              "width": 0.5
             },
             "pattern": {
              "fillmode": "overlay",
              "size": 10,
              "solidity": 0.2
             }
            },
            "type": "barpolar"
           }
          ],
          "carpet": [
           {
            "aaxis": {
             "endlinecolor": "#2a3f5f",
             "gridcolor": "#C8D4E3",
             "linecolor": "#C8D4E3",
             "minorgridcolor": "#C8D4E3",
             "startlinecolor": "#2a3f5f"
            },
            "baxis": {
             "endlinecolor": "#2a3f5f",
             "gridcolor": "#C8D4E3",
             "linecolor": "#C8D4E3",
             "minorgridcolor": "#C8D4E3",
             "startlinecolor": "#2a3f5f"
            },
            "type": "carpet"
           }
          ],
          "choropleth": [
           {
            "colorbar": {
             "outlinewidth": 0,
             "ticks": ""
            },
            "type": "choropleth"
           }
          ],
          "contour": [
           {
            "colorbar": {
             "outlinewidth": 0,
             "ticks": ""
            },
            "colorscale": [
             [
              0,
              "#0d0887"
             ],
             [
              0.1111111111111111,
              "#46039f"
             ],
             [
              0.2222222222222222,
              "#7201a8"
             ],
             [
              0.3333333333333333,
              "#9c179e"
             ],
             [
              0.4444444444444444,
              "#bd3786"
             ],
             [
              0.5555555555555556,
              "#d8576b"
             ],
             [
              0.6666666666666666,
              "#ed7953"
             ],
             [
              0.7777777777777778,
              "#fb9f3a"
             ],
             [
              0.8888888888888888,
              "#fdca26"
             ],
             [
              1,
              "#f0f921"
             ]
            ],
            "type": "contour"
           }
          ],
          "contourcarpet": [
           {
            "colorbar": {
             "outlinewidth": 0,
             "ticks": ""
            },
            "type": "contourcarpet"
           }
          ],
          "heatmap": [
           {
            "colorbar": {
             "outlinewidth": 0,
             "ticks": ""
            },
            "colorscale": [
             [
              0,
              "#0d0887"
             ],
             [
              0.1111111111111111,
              "#46039f"
             ],
             [
              0.2222222222222222,
              "#7201a8"
             ],
             [
              0.3333333333333333,
              "#9c179e"
             ],
             [
              0.4444444444444444,
              "#bd3786"
             ],
             [
              0.5555555555555556,
              "#d8576b"
             ],
             [
              0.6666666666666666,
              "#ed7953"
             ],
             [
              0.7777777777777778,
              "#fb9f3a"
             ],
             [
              0.8888888888888888,
              "#fdca26"
             ],
             [
              1,
              "#f0f921"
             ]
            ],
            "type": "heatmap"
           }
          ],
          "heatmapgl": [
           {
            "colorbar": {
             "outlinewidth": 0,
             "ticks": ""
            },
            "colorscale": [
             [
              0,
              "#0d0887"
             ],
             [
              0.1111111111111111,
              "#46039f"
             ],
             [
              0.2222222222222222,
              "#7201a8"
             ],
             [
              0.3333333333333333,
              "#9c179e"
             ],
             [
              0.4444444444444444,
              "#bd3786"
             ],
             [
              0.5555555555555556,
              "#d8576b"
             ],
             [
              0.6666666666666666,
              "#ed7953"
             ],
             [
              0.7777777777777778,
              "#fb9f3a"
             ],
             [
              0.8888888888888888,
              "#fdca26"
             ],
             [
              1,
              "#f0f921"
             ]
            ],
            "type": "heatmapgl"
           }
          ],
          "histogram": [
           {
            "marker": {
             "pattern": {
              "fillmode": "overlay",
              "size": 10,
              "solidity": 0.2
             }
            },
            "type": "histogram"
           }
          ],
          "histogram2d": [
           {
            "colorbar": {
             "outlinewidth": 0,
             "ticks": ""
            },
            "colorscale": [
             [
              0,
              "#0d0887"
             ],
             [
              0.1111111111111111,
              "#46039f"
             ],
             [
              0.2222222222222222,
              "#7201a8"
             ],
             [
              0.3333333333333333,
              "#9c179e"
             ],
             [
              0.4444444444444444,
              "#bd3786"
             ],
             [
              0.5555555555555556,
              "#d8576b"
             ],
             [
              0.6666666666666666,
              "#ed7953"
             ],
             [
              0.7777777777777778,
              "#fb9f3a"
             ],
             [
              0.8888888888888888,
              "#fdca26"
             ],
             [
              1,
              "#f0f921"
             ]
            ],
            "type": "histogram2d"
           }
          ],
          "histogram2dcontour": [
           {
            "colorbar": {
             "outlinewidth": 0,
             "ticks": ""
            },
            "colorscale": [
             [
              0,
              "#0d0887"
             ],
             [
              0.1111111111111111,
              "#46039f"
             ],
             [
              0.2222222222222222,
              "#7201a8"
             ],
             [
              0.3333333333333333,
              "#9c179e"
             ],
             [
              0.4444444444444444,
              "#bd3786"
             ],
             [
              0.5555555555555556,
              "#d8576b"
             ],
             [
              0.6666666666666666,
              "#ed7953"
             ],
             [
              0.7777777777777778,
              "#fb9f3a"
             ],
             [
              0.8888888888888888,
              "#fdca26"
             ],
             [
              1,
              "#f0f921"
             ]
            ],
            "type": "histogram2dcontour"
           }
          ],
          "mesh3d": [
           {
            "colorbar": {
             "outlinewidth": 0,
             "ticks": ""
            },
            "type": "mesh3d"
           }
          ],
          "parcoords": [
           {
            "line": {
             "colorbar": {
              "outlinewidth": 0,
              "ticks": ""
             }
            },
            "type": "parcoords"
           }
          ],
          "pie": [
           {
            "automargin": true,
            "type": "pie"
           }
          ],
          "scatter": [
           {
            "fillpattern": {
             "fillmode": "overlay",
             "size": 10,
             "solidity": 0.2
            },
            "type": "scatter"
           }
          ],
          "scatter3d": [
           {
            "line": {
             "colorbar": {
              "outlinewidth": 0,
              "ticks": ""
             }
            },
            "marker": {
             "colorbar": {
              "outlinewidth": 0,
              "ticks": ""
             }
            },
            "type": "scatter3d"
           }
          ],
          "scattercarpet": [
           {
            "marker": {
             "colorbar": {
              "outlinewidth": 0,
              "ticks": ""
             }
            },
            "type": "scattercarpet"
           }
          ],
          "scattergeo": [
           {
            "marker": {
             "colorbar": {
              "outlinewidth": 0,
              "ticks": ""
             }
            },
            "type": "scattergeo"
           }
          ],
          "scattergl": [
           {
            "marker": {
             "colorbar": {
              "outlinewidth": 0,
              "ticks": ""
             }
            },
            "type": "scattergl"
           }
          ],
          "scattermapbox": [
           {
            "marker": {
             "colorbar": {
              "outlinewidth": 0,
              "ticks": ""
             }
            },
            "type": "scattermapbox"
           }
          ],
          "scatterpolar": [
           {
            "marker": {
             "colorbar": {
              "outlinewidth": 0,
              "ticks": ""
             }
            },
            "type": "scatterpolar"
           }
          ],
          "scatterpolargl": [
           {
            "marker": {
             "colorbar": {
              "outlinewidth": 0,
              "ticks": ""
             }
            },
            "type": "scatterpolargl"
           }
          ],
          "scatterternary": [
           {
            "marker": {
             "colorbar": {
              "outlinewidth": 0,
              "ticks": ""
             }
            },
            "type": "scatterternary"
           }
          ],
          "surface": [
           {
            "colorbar": {
             "outlinewidth": 0,
             "ticks": ""
            },
            "colorscale": [
             [
              0,
              "#0d0887"
             ],
             [
              0.1111111111111111,
              "#46039f"
             ],
             [
              0.2222222222222222,
              "#7201a8"
             ],
             [
              0.3333333333333333,
              "#9c179e"
             ],
             [
              0.4444444444444444,
              "#bd3786"
             ],
             [
              0.5555555555555556,
              "#d8576b"
             ],
             [
              0.6666666666666666,
              "#ed7953"
             ],
             [
              0.7777777777777778,
              "#fb9f3a"
             ],
             [
              0.8888888888888888,
              "#fdca26"
             ],
             [
              1,
              "#f0f921"
             ]
            ],
            "type": "surface"
           }
          ],
          "table": [
           {
            "cells": {
             "fill": {
              "color": "#EBF0F8"
             },
             "line": {
              "color": "white"
             }
            },
            "header": {
             "fill": {
              "color": "#C8D4E3"
             },
             "line": {
              "color": "white"
             }
            },
            "type": "table"
           }
          ]
         },
         "layout": {
          "annotationdefaults": {
           "arrowcolor": "#2a3f5f",
           "arrowhead": 0,
           "arrowwidth": 1
          },
          "autotypenumbers": "strict",
          "coloraxis": {
           "colorbar": {
            "outlinewidth": 0,
            "ticks": ""
           }
          },
          "colorscale": {
           "diverging": [
            [
             0,
             "#8e0152"
            ],
            [
             0.1,
             "#c51b7d"
            ],
            [
             0.2,
             "#de77ae"
            ],
            [
             0.3,
             "#f1b6da"
            ],
            [
             0.4,
             "#fde0ef"
            ],
            [
             0.5,
             "#f7f7f7"
            ],
            [
             0.6,
             "#e6f5d0"
            ],
            [
             0.7,
             "#b8e186"
            ],
            [
             0.8,
             "#7fbc41"
            ],
            [
             0.9,
             "#4d9221"
            ],
            [
             1,
             "#276419"
            ]
           ],
           "sequential": [
            [
             0,
             "#0d0887"
            ],
            [
             0.1111111111111111,
             "#46039f"
            ],
            [
             0.2222222222222222,
             "#7201a8"
            ],
            [
             0.3333333333333333,
             "#9c179e"
            ],
            [
             0.4444444444444444,
             "#bd3786"
            ],
            [
             0.5555555555555556,
             "#d8576b"
            ],
            [
             0.6666666666666666,
             "#ed7953"
            ],
            [
             0.7777777777777778,
             "#fb9f3a"
            ],
            [
             0.8888888888888888,
             "#fdca26"
            ],
            [
             1,
             "#f0f921"
            ]
           ],
           "sequentialminus": [
            [
             0,
             "#0d0887"
            ],
            [
             0.1111111111111111,
             "#46039f"
            ],
            [
             0.2222222222222222,
             "#7201a8"
            ],
            [
             0.3333333333333333,
             "#9c179e"
            ],
            [
             0.4444444444444444,
             "#bd3786"
            ],
            [
             0.5555555555555556,
             "#d8576b"
            ],
            [
             0.6666666666666666,
             "#ed7953"
            ],
            [
             0.7777777777777778,
             "#fb9f3a"
            ],
            [
             0.8888888888888888,
             "#fdca26"
            ],
            [
             1,
             "#f0f921"
            ]
           ]
          },
          "colorway": [
           "#636efa",
           "#EF553B",
           "#00cc96",
           "#ab63fa",
           "#FFA15A",
           "#19d3f3",
           "#FF6692",
           "#B6E880",
           "#FF97FF",
           "#FECB52"
          ],
          "font": {
           "color": "#2a3f5f"
          },
          "geo": {
           "bgcolor": "white",
           "lakecolor": "white",
           "landcolor": "white",
           "showlakes": true,
           "showland": true,
           "subunitcolor": "#C8D4E3"
          },
          "hoverlabel": {
           "align": "left"
          },
          "hovermode": "closest",
          "mapbox": {
           "style": "light"
          },
          "paper_bgcolor": "white",
          "plot_bgcolor": "white",
          "polar": {
           "angularaxis": {
            "gridcolor": "#EBF0F8",
            "linecolor": "#EBF0F8",
            "ticks": ""
           },
           "bgcolor": "white",
           "radialaxis": {
            "gridcolor": "#EBF0F8",
            "linecolor": "#EBF0F8",
            "ticks": ""
           }
          },
          "scene": {
           "xaxis": {
            "backgroundcolor": "white",
            "gridcolor": "#DFE8F3",
            "gridwidth": 2,
            "linecolor": "#EBF0F8",
            "showbackground": true,
            "ticks": "",
            "zerolinecolor": "#EBF0F8"
           },
           "yaxis": {
            "backgroundcolor": "white",
            "gridcolor": "#DFE8F3",
            "gridwidth": 2,
            "linecolor": "#EBF0F8",
            "showbackground": true,
            "ticks": "",
            "zerolinecolor": "#EBF0F8"
           },
           "zaxis": {
            "backgroundcolor": "white",
            "gridcolor": "#DFE8F3",
            "gridwidth": 2,
            "linecolor": "#EBF0F8",
            "showbackground": true,
            "ticks": "",
            "zerolinecolor": "#EBF0F8"
           }
          },
          "shapedefaults": {
           "line": {
            "color": "#2a3f5f"
           }
          },
          "ternary": {
           "aaxis": {
            "gridcolor": "#DFE8F3",
            "linecolor": "#A2B1C6",
            "ticks": ""
           },
           "baxis": {
            "gridcolor": "#DFE8F3",
            "linecolor": "#A2B1C6",
            "ticks": ""
           },
           "bgcolor": "white",
           "caxis": {
            "gridcolor": "#DFE8F3",
            "linecolor": "#A2B1C6",
            "ticks": ""
           }
          },
          "title": {
           "x": 0.05
          },
          "xaxis": {
           "automargin": true,
           "gridcolor": "#EBF0F8",
           "linecolor": "#EBF0F8",
           "ticks": "",
           "title": {
            "standoff": 15
           },
           "zerolinecolor": "#EBF0F8",
           "zerolinewidth": 2
          },
          "yaxis": {
           "automargin": true,
           "gridcolor": "#EBF0F8",
           "linecolor": "#EBF0F8",
           "ticks": "",
           "title": {
            "standoff": 15
           },
           "zerolinecolor": "#EBF0F8",
           "zerolinewidth": 2
          }
         }
        },
        "title": {
         "text": "Distribuição por Gênero em Cada Nível de Formação Acadêmica (2021-2023)"
        },
        "uniformtext": {
         "minsize": 10,
         "mode": "hide"
        },
        "xaxis": {
         "anchor": "y",
         "domain": [
          0,
          0.2125
         ],
         "range": [
          0,
          122.10000000000001
         ],
         "tickformat": ",d",
         "title": {
          "text": "Contagem Absoluta"
         }
        },
        "xaxis2": {
         "anchor": "y2",
         "domain": [
          0.2625,
          0.475
         ],
         "range": [
          0,
          122.10000000000001
         ],
         "tickformat": ",d"
        },
        "xaxis3": {
         "anchor": "y3",
         "domain": [
          0.525,
          0.7375
         ],
         "range": [
          0,
          122.10000000000001
         ],
         "tickformat": ",d"
        },
        "xaxis4": {
         "anchor": "y4",
         "domain": [
          0.7875,
          1
         ],
         "range": [
          0,
          122.10000000000001
         ],
         "tickformat": ",d"
        },
        "yaxis": {
         "anchor": "x",
         "categoryarray": [
          "Não tenho graduação formal",
          "Estudante de Graduação",
          "Graduação/Bacharelado",
          "Pós-graduação",
          "Mestrado",
          "Doutorado ou Phd"
         ],
         "categoryorder": "array",
         "domain": [
          0,
          1
         ],
         "title": {
          "text": "Nível de Formação"
         }
        },
        "yaxis2": {
         "anchor": "x2",
         "categoryarray": [
          "Não tenho graduação formal",
          "Estudante de Graduação",
          "Graduação/Bacharelado",
          "Pós-graduação",
          "Mestrado",
          "Doutorado ou Phd"
         ],
         "categoryorder": "array",
         "domain": [
          0,
          1
         ],
         "matches": "y",
         "showticklabels": false
        },
        "yaxis3": {
         "anchor": "x3",
         "categoryarray": [
          "Não tenho graduação formal",
          "Estudante de Graduação",
          "Graduação/Bacharelado",
          "Pós-graduação",
          "Mestrado",
          "Doutorado ou Phd"
         ],
         "categoryorder": "array",
         "domain": [
          0,
          1
         ],
         "matches": "y",
         "showticklabels": false
        },
        "yaxis4": {
         "anchor": "x4",
         "categoryarray": [
          "Não tenho graduação formal",
          "Estudante de Graduação",
          "Graduação/Bacharelado",
          "Pós-graduação",
          "Mestrado",
          "Doutorado ou Phd"
         ],
         "categoryorder": "array",
         "domain": [
          0,
          1
         ],
         "matches": "y",
         "showticklabels": false
        }
       }
      }
     },
     "metadata": {},
     "output_type": "display_data"
    }
   ],
   "source": [
    "df_grouped = df_rj.groupby([\"ano_pesquisa\", \"nivel_ensino\", \"genero\"]).size().reset_index(name=\"count\")\n",
    "\n",
    "# Não precisamos mais calcular a proporção, mas podemos manter os totais por nível para referência\n",
    "totais_por_ano_nivel = df_rj.groupby([\"ano_pesquisa\", \"nivel_ensino\"]).size().reset_index(name=\"total_nivel\")\n",
    "df_grouped = df_grouped.merge(totais_por_ano_nivel, on=[\"ano_pesquisa\", \"nivel_ensino\"])\n",
    "\n",
    "fig = make_subplots(rows=1, cols=4, shared_yaxes=True, subplot_titles=[\"2021\", \"2022\", \"2023\", \"2024\"])\n",
    "\n",
    "anos = ['2021', '2022', '2023', '2024']\n",
    "cores = {\"Masculino\": \"#1E90FF\",  \"Feminino\": \"#FF7F50\" }\n",
    "\n",
    "ordem_niveis = [\n",
    "    'Não tenho graduação formal', \n",
    "    'Estudante de Graduação',\n",
    "    'Graduação/Bacharelado', \n",
    "    'Pós-graduação',\n",
    "    'Mestrado',\n",
    "    'Doutorado ou Phd'\n",
    "]\n",
    "\n",
    "# Definir uma largura fixa para as barras\n",
    "largura_barra = 0.7\n",
    "\n",
    "for i, ano in enumerate(anos):\n",
    "   \n",
    "    df_ano = df_grouped[df_grouped[\"ano_pesquisa\"] == ano]\n",
    "    \n",
    "    for nivel in ordem_niveis:\n",
    "        df_nivel = df_ano[df_ano[\"nivel_ensino\"] == nivel]\n",
    "        \n",
    "        if df_nivel.empty:\n",
    "            continue\n",
    "        \n",
    "        # Usando valores absolutos (count) em vez de proporção\n",
    "        contagens = {genero: df_nivel[df_nivel[\"genero\"] == genero][\"count\"].values[0] \n",
    "                      if not df_nivel[df_nivel[\"genero\"] == genero].empty else 0 \n",
    "                      for genero in [\"Masculino\", \"Feminino\"]}\n",
    "        \n",
    "        for genero in [\"Feminino\", \"Masculino\"]:\n",
    "            fig.add_trace(go.Bar(\n",
    "                y=[nivel],\n",
    "                x=[contagens[genero]],\n",
    "                name=genero,\n",
    "                orientation=\"h\",\n",
    "                marker=dict(color=cores[genero]),\n",
    "                text=f\"{int(contagens[genero])}\",  # Formatando como número inteiro\n",
    "                textposition=\"inside\",\n",
    "                textangle=0,  # Garantindo que o texto esteja na horizontal\n",
    "                width=largura_barra,  # Definindo uma largura fixa para todas as barras\n",
    "                showlegend=True if i == 0 and nivel == ordem_niveis[0] else False\n",
    "            ), row=1, col=i+1)\n",
    "\n",
    "# Configurando layout\n",
    "fig.update_layout(\n",
    "    title=\"Distribuição por Gênero em Cada Nível de Formação Acadêmica (2021-2023)\",\n",
    "    xaxis_title=\"Contagem Absoluta\",\n",
    "    yaxis_title=\"Nível de Formação\",\n",
    "    barmode=\"stack\",\n",
    "    height=600,\n",
    "    template=\"plotly_white\",\n",
    "    legend=dict(\n",
    "        orientation=\"h\",\n",
    "        yanchor=\"bottom\",\n",
    "        y=1.02,\n",
    "        xanchor=\"center\",\n",
    "        x=0.5\n",
    "    ),\n",
    "    uniformtext_minsize=10,  # Tamanho mínimo do texto para garantir legibilidade\n",
    "    uniformtext_mode='hide',  # Esconde o texto se não couber na barra\n",
    "    bargap=0.2,  # Espaçamento entre grupos de barras\n",
    "    bargroupgap=0.1  # Espaçamento entre barras do mesmo grupo\n",
    ")\n",
    "\n",
    "# Ajustando os eixos X e configurando uniformidade entre os subplots\n",
    "max_value = df_grouped[\"count\"].max() * 1.1  # 10% a mais para dar margem\n",
    "\n",
    "for i in range(1, 5):\n",
    "    fig.update_xaxes(\n",
    "        row=1, \n",
    "        col=i, \n",
    "        range=[0, max_value],  # Definindo a mesma escala para todos os gráficos\n",
    "        tickformat=\",d\"  # Formato para inteiros com separador de milhar\n",
    "    )\n",
    "\n",
    "# Definindo a mesma escala para o eixo Y em todos os subplots\n",
    "fig.update_yaxes(\n",
    "    categoryorder='array',\n",
    "    categoryarray=ordem_niveis\n",
    ")\n",
    "    \n",
    "fig.show()"
   ]
  },
  {
   "cell_type": "code",
   "execution_count": 25,
   "metadata": {},
   "outputs": [
    {
     "name": "stderr",
     "output_type": "stream",
     "text": [
      "C:\\Users\\julli\\AppData\\Local\\Temp\\ipykernel_26276\\2070847814.py:1: FutureWarning:\n",
      "\n",
      "The default of observed=False is deprecated and will be changed to True in a future version of pandas. Pass observed=False to retain current behavior or observed=True to adopt the future default and silence this warning.\n",
      "\n"
     ]
    },
    {
     "data": {
      "application/vnd.plotly.v1+json": {
       "config": {
        "plotlyServerURL": "https://plot.ly"
       },
       "data": [
        {
         "marker": {
          "color": "#FF7F50"
         },
         "name": "Feminino",
         "orientation": "h",
         "showlegend": true,
         "text": [
          "0",
          "0",
          "0",
          "0",
          "0",
          "0"
         ],
         "textfont": {
          "color": "black",
          "size": 10
         },
         "textposition": "outside",
         "type": "bar",
         "x": [
          0,
          0,
          0,
          0,
          0,
          0
         ],
         "xaxis": "x",
         "y": [
          "Não tenho graduação formal",
          "Estudante de Graduação",
          "Graduação/Bacharelado",
          "Especialização Lato Sensu",
          "Mestrado",
          "Doutorado ou Phd"
         ],
         "yaxis": "y"
        },
        {
         "marker": {
          "color": "#1E90FF"
         },
         "name": "Masculino",
         "orientation": "h",
         "showlegend": true,
         "text": [
          "0",
          "0",
          "0",
          "0",
          "0",
          "0"
         ],
         "textfont": {
          "color": "black",
          "size": 10
         },
         "textposition": "outside",
         "type": "bar",
         "x": [
          0,
          0,
          0,
          0,
          0,
          0
         ],
         "xaxis": "x",
         "y": [
          "Não tenho graduação formal",
          "Estudante de Graduação",
          "Graduação/Bacharelado",
          "Especialização Lato Sensu",
          "Mestrado",
          "Doutorado ou Phd"
         ],
         "yaxis": "y"
        },
        {
         "marker": {
          "color": "#FF7F50"
         },
         "name": "Feminino",
         "orientation": "h",
         "showlegend": false,
         "text": [
          "0",
          "0",
          "0",
          "0",
          "0",
          "0"
         ],
         "textfont": {
          "color": "black",
          "size": 10
         },
         "textposition": "outside",
         "type": "bar",
         "x": [
          0,
          0,
          0,
          0,
          0,
          0
         ],
         "xaxis": "x2",
         "y": [
          "Não tenho graduação formal",
          "Estudante de Graduação",
          "Graduação/Bacharelado",
          "Especialização Lato Sensu",
          "Mestrado",
          "Doutorado ou Phd"
         ],
         "yaxis": "y2"
        },
        {
         "marker": {
          "color": "#1E90FF"
         },
         "name": "Masculino",
         "orientation": "h",
         "showlegend": false,
         "text": [
          "0",
          "0",
          "0",
          "0",
          "0",
          "0"
         ],
         "textfont": {
          "color": "black",
          "size": 10
         },
         "textposition": "outside",
         "type": "bar",
         "x": [
          0,
          0,
          0,
          0,
          0,
          0
         ],
         "xaxis": "x2",
         "y": [
          "Não tenho graduação formal",
          "Estudante de Graduação",
          "Graduação/Bacharelado",
          "Especialização Lato Sensu",
          "Mestrado",
          "Doutorado ou Phd"
         ],
         "yaxis": "y2"
        },
        {
         "marker": {
          "color": "#FF7F50"
         },
         "name": "Feminino",
         "orientation": "h",
         "showlegend": false,
         "text": [
          "0",
          "0",
          "0",
          "0",
          "0",
          "0"
         ],
         "textfont": {
          "color": "black",
          "size": 10
         },
         "textposition": "outside",
         "type": "bar",
         "x": [
          0,
          0,
          0,
          0,
          0,
          0
         ],
         "xaxis": "x3",
         "y": [
          "Não tenho graduação formal",
          "Estudante de Graduação",
          "Graduação/Bacharelado",
          "Especialização Lato Sensu",
          "Mestrado",
          "Doutorado ou Phd"
         ],
         "yaxis": "y3"
        },
        {
         "marker": {
          "color": "#1E90FF"
         },
         "name": "Masculino",
         "orientation": "h",
         "showlegend": false,
         "text": [
          "0",
          "0",
          "0",
          "0",
          "0",
          "0"
         ],
         "textfont": {
          "color": "black",
          "size": 10
         },
         "textposition": "outside",
         "type": "bar",
         "x": [
          0,
          0,
          0,
          0,
          0,
          0
         ],
         "xaxis": "x3",
         "y": [
          "Não tenho graduação formal",
          "Estudante de Graduação",
          "Graduação/Bacharelado",
          "Especialização Lato Sensu",
          "Mestrado",
          "Doutorado ou Phd"
         ],
         "yaxis": "y3"
        },
        {
         "marker": {
          "color": "#FF7F50"
         },
         "name": "Feminino",
         "orientation": "h",
         "showlegend": false,
         "text": [
          "0",
          "0",
          "0",
          "0",
          "0",
          "0"
         ],
         "textfont": {
          "color": "black",
          "size": 10
         },
         "textposition": "outside",
         "type": "bar",
         "x": [
          0,
          0,
          0,
          0,
          0,
          0
         ],
         "xaxis": "x4",
         "y": [
          "Não tenho graduação formal",
          "Estudante de Graduação",
          "Graduação/Bacharelado",
          "Especialização Lato Sensu",
          "Mestrado",
          "Doutorado ou Phd"
         ],
         "yaxis": "y4"
        },
        {
         "marker": {
          "color": "#1E90FF"
         },
         "name": "Masculino",
         "orientation": "h",
         "showlegend": false,
         "text": [
          "0",
          "0",
          "0",
          "0",
          "0",
          "0"
         ],
         "textfont": {
          "color": "black",
          "size": 10
         },
         "textposition": "outside",
         "type": "bar",
         "x": [
          0,
          0,
          0,
          0,
          0,
          0
         ],
         "xaxis": "x4",
         "y": [
          "Não tenho graduação formal",
          "Estudante de Graduação",
          "Graduação/Bacharelado",
          "Especialização Lato Sensu",
          "Mestrado",
          "Doutorado ou Phd"
         ],
         "yaxis": "y4"
        }
       ],
       "layout": {
        "annotations": [
         {
          "font": {
           "size": 16
          },
          "showarrow": false,
          "text": "2021",
          "x": 0.09875,
          "xanchor": "center",
          "xref": "paper",
          "y": 1,
          "yanchor": "bottom",
          "yref": "paper"
         },
         {
          "font": {
           "size": 16
          },
          "showarrow": false,
          "text": "2022",
          "x": 0.36625,
          "xanchor": "center",
          "xref": "paper",
          "y": 1,
          "yanchor": "bottom",
          "yref": "paper"
         },
         {
          "font": {
           "size": 16
          },
          "showarrow": false,
          "text": "2023",
          "x": 0.63375,
          "xanchor": "center",
          "xref": "paper",
          "y": 1,
          "yanchor": "bottom",
          "yref": "paper"
         },
         {
          "font": {
           "size": 16
          },
          "showarrow": false,
          "text": "2024",
          "x": 0.90125,
          "xanchor": "center",
          "xref": "paper",
          "y": 1,
          "yanchor": "bottom",
          "yref": "paper"
         }
        ],
        "barmode": "group",
        "font": {
         "size": 11
        },
        "height": 800,
        "legend": {
         "font": {
          "size": 10
         },
         "orientation": "h",
         "x": 0.5,
         "xanchor": "center",
         "y": 1.02,
         "yanchor": "bottom"
        },
        "template": {
         "data": {
          "bar": [
           {
            "error_x": {
             "color": "#2a3f5f"
            },
            "error_y": {
             "color": "#2a3f5f"
            },
            "marker": {
             "line": {
              "color": "white",
              "width": 0.5
             },
             "pattern": {
              "fillmode": "overlay",
              "size": 10,
              "solidity": 0.2
             }
            },
            "type": "bar"
           }
          ],
          "barpolar": [
           {
            "marker": {
             "line": {
              "color": "white",
              "width": 0.5
             },
             "pattern": {
              "fillmode": "overlay",
              "size": 10,
              "solidity": 0.2
             }
            },
            "type": "barpolar"
           }
          ],
          "carpet": [
           {
            "aaxis": {
             "endlinecolor": "#2a3f5f",
             "gridcolor": "#C8D4E3",
             "linecolor": "#C8D4E3",
             "minorgridcolor": "#C8D4E3",
             "startlinecolor": "#2a3f5f"
            },
            "baxis": {
             "endlinecolor": "#2a3f5f",
             "gridcolor": "#C8D4E3",
             "linecolor": "#C8D4E3",
             "minorgridcolor": "#C8D4E3",
             "startlinecolor": "#2a3f5f"
            },
            "type": "carpet"
           }
          ],
          "choropleth": [
           {
            "colorbar": {
             "outlinewidth": 0,
             "ticks": ""
            },
            "type": "choropleth"
           }
          ],
          "contour": [
           {
            "colorbar": {
             "outlinewidth": 0,
             "ticks": ""
            },
            "colorscale": [
             [
              0,
              "#0d0887"
             ],
             [
              0.1111111111111111,
              "#46039f"
             ],
             [
              0.2222222222222222,
              "#7201a8"
             ],
             [
              0.3333333333333333,
              "#9c179e"
             ],
             [
              0.4444444444444444,
              "#bd3786"
             ],
             [
              0.5555555555555556,
              "#d8576b"
             ],
             [
              0.6666666666666666,
              "#ed7953"
             ],
             [
              0.7777777777777778,
              "#fb9f3a"
             ],
             [
              0.8888888888888888,
              "#fdca26"
             ],
             [
              1,
              "#f0f921"
             ]
            ],
            "type": "contour"
           }
          ],
          "contourcarpet": [
           {
            "colorbar": {
             "outlinewidth": 0,
             "ticks": ""
            },
            "type": "contourcarpet"
           }
          ],
          "heatmap": [
           {
            "colorbar": {
             "outlinewidth": 0,
             "ticks": ""
            },
            "colorscale": [
             [
              0,
              "#0d0887"
             ],
             [
              0.1111111111111111,
              "#46039f"
             ],
             [
              0.2222222222222222,
              "#7201a8"
             ],
             [
              0.3333333333333333,
              "#9c179e"
             ],
             [
              0.4444444444444444,
              "#bd3786"
             ],
             [
              0.5555555555555556,
              "#d8576b"
             ],
             [
              0.6666666666666666,
              "#ed7953"
             ],
             [
              0.7777777777777778,
              "#fb9f3a"
             ],
             [
              0.8888888888888888,
              "#fdca26"
             ],
             [
              1,
              "#f0f921"
             ]
            ],
            "type": "heatmap"
           }
          ],
          "heatmapgl": [
           {
            "colorbar": {
             "outlinewidth": 0,
             "ticks": ""
            },
            "colorscale": [
             [
              0,
              "#0d0887"
             ],
             [
              0.1111111111111111,
              "#46039f"
             ],
             [
              0.2222222222222222,
              "#7201a8"
             ],
             [
              0.3333333333333333,
              "#9c179e"
             ],
             [
              0.4444444444444444,
              "#bd3786"
             ],
             [
              0.5555555555555556,
              "#d8576b"
             ],
             [
              0.6666666666666666,
              "#ed7953"
             ],
             [
              0.7777777777777778,
              "#fb9f3a"
             ],
             [
              0.8888888888888888,
              "#fdca26"
             ],
             [
              1,
              "#f0f921"
             ]
            ],
            "type": "heatmapgl"
           }
          ],
          "histogram": [
           {
            "marker": {
             "pattern": {
              "fillmode": "overlay",
              "size": 10,
              "solidity": 0.2
             }
            },
            "type": "histogram"
           }
          ],
          "histogram2d": [
           {
            "colorbar": {
             "outlinewidth": 0,
             "ticks": ""
            },
            "colorscale": [
             [
              0,
              "#0d0887"
             ],
             [
              0.1111111111111111,
              "#46039f"
             ],
             [
              0.2222222222222222,
              "#7201a8"
             ],
             [
              0.3333333333333333,
              "#9c179e"
             ],
             [
              0.4444444444444444,
              "#bd3786"
             ],
             [
              0.5555555555555556,
              "#d8576b"
             ],
             [
              0.6666666666666666,
              "#ed7953"
             ],
             [
              0.7777777777777778,
              "#fb9f3a"
             ],
             [
              0.8888888888888888,
              "#fdca26"
             ],
             [
              1,
              "#f0f921"
             ]
            ],
            "type": "histogram2d"
           }
          ],
          "histogram2dcontour": [
           {
            "colorbar": {
             "outlinewidth": 0,
             "ticks": ""
            },
            "colorscale": [
             [
              0,
              "#0d0887"
             ],
             [
              0.1111111111111111,
              "#46039f"
             ],
             [
              0.2222222222222222,
              "#7201a8"
             ],
             [
              0.3333333333333333,
              "#9c179e"
             ],
             [
              0.4444444444444444,
              "#bd3786"
             ],
             [
              0.5555555555555556,
              "#d8576b"
             ],
             [
              0.6666666666666666,
              "#ed7953"
             ],
             [
              0.7777777777777778,
              "#fb9f3a"
             ],
             [
              0.8888888888888888,
              "#fdca26"
             ],
             [
              1,
              "#f0f921"
             ]
            ],
            "type": "histogram2dcontour"
           }
          ],
          "mesh3d": [
           {
            "colorbar": {
             "outlinewidth": 0,
             "ticks": ""
            },
            "type": "mesh3d"
           }
          ],
          "parcoords": [
           {
            "line": {
             "colorbar": {
              "outlinewidth": 0,
              "ticks": ""
             }
            },
            "type": "parcoords"
           }
          ],
          "pie": [
           {
            "automargin": true,
            "type": "pie"
           }
          ],
          "scatter": [
           {
            "fillpattern": {
             "fillmode": "overlay",
             "size": 10,
             "solidity": 0.2
            },
            "type": "scatter"
           }
          ],
          "scatter3d": [
           {
            "line": {
             "colorbar": {
              "outlinewidth": 0,
              "ticks": ""
             }
            },
            "marker": {
             "colorbar": {
              "outlinewidth": 0,
              "ticks": ""
             }
            },
            "type": "scatter3d"
           }
          ],
          "scattercarpet": [
           {
            "marker": {
             "colorbar": {
              "outlinewidth": 0,
              "ticks": ""
             }
            },
            "type": "scattercarpet"
           }
          ],
          "scattergeo": [
           {
            "marker": {
             "colorbar": {
              "outlinewidth": 0,
              "ticks": ""
             }
            },
            "type": "scattergeo"
           }
          ],
          "scattergl": [
           {
            "marker": {
             "colorbar": {
              "outlinewidth": 0,
              "ticks": ""
             }
            },
            "type": "scattergl"
           }
          ],
          "scattermapbox": [
           {
            "marker": {
             "colorbar": {
              "outlinewidth": 0,
              "ticks": ""
             }
            },
            "type": "scattermapbox"
           }
          ],
          "scatterpolar": [
           {
            "marker": {
             "colorbar": {
              "outlinewidth": 0,
              "ticks": ""
             }
            },
            "type": "scatterpolar"
           }
          ],
          "scatterpolargl": [
           {
            "marker": {
             "colorbar": {
              "outlinewidth": 0,
              "ticks": ""
             }
            },
            "type": "scatterpolargl"
           }
          ],
          "scatterternary": [
           {
            "marker": {
             "colorbar": {
              "outlinewidth": 0,
              "ticks": ""
             }
            },
            "type": "scatterternary"
           }
          ],
          "surface": [
           {
            "colorbar": {
             "outlinewidth": 0,
             "ticks": ""
            },
            "colorscale": [
             [
              0,
              "#0d0887"
             ],
             [
              0.1111111111111111,
              "#46039f"
             ],
             [
              0.2222222222222222,
              "#7201a8"
             ],
             [
              0.3333333333333333,
              "#9c179e"
             ],
             [
              0.4444444444444444,
              "#bd3786"
             ],
             [
              0.5555555555555556,
              "#d8576b"
             ],
             [
              0.6666666666666666,
              "#ed7953"
             ],
             [
              0.7777777777777778,
              "#fb9f3a"
             ],
             [
              0.8888888888888888,
              "#fdca26"
             ],
             [
              1,
              "#f0f921"
             ]
            ],
            "type": "surface"
           }
          ],
          "table": [
           {
            "cells": {
             "fill": {
              "color": "#EBF0F8"
             },
             "line": {
              "color": "white"
             }
            },
            "header": {
             "fill": {
              "color": "#C8D4E3"
             },
             "line": {
              "color": "white"
             }
            },
            "type": "table"
           }
          ]
         },
         "layout": {
          "annotationdefaults": {
           "arrowcolor": "#2a3f5f",
           "arrowhead": 0,
           "arrowwidth": 1
          },
          "autotypenumbers": "strict",
          "coloraxis": {
           "colorbar": {
            "outlinewidth": 0,
            "ticks": ""
           }
          },
          "colorscale": {
           "diverging": [
            [
             0,
             "#8e0152"
            ],
            [
             0.1,
             "#c51b7d"
            ],
            [
             0.2,
             "#de77ae"
            ],
            [
             0.3,
             "#f1b6da"
            ],
            [
             0.4,
             "#fde0ef"
            ],
            [
             0.5,
             "#f7f7f7"
            ],
            [
             0.6,
             "#e6f5d0"
            ],
            [
             0.7,
             "#b8e186"
            ],
            [
             0.8,
             "#7fbc41"
            ],
            [
             0.9,
             "#4d9221"
            ],
            [
             1,
             "#276419"
            ]
           ],
           "sequential": [
            [
             0,
             "#0d0887"
            ],
            [
             0.1111111111111111,
             "#46039f"
            ],
            [
             0.2222222222222222,
             "#7201a8"
            ],
            [
             0.3333333333333333,
             "#9c179e"
            ],
            [
             0.4444444444444444,
             "#bd3786"
            ],
            [
             0.5555555555555556,
             "#d8576b"
            ],
            [
             0.6666666666666666,
             "#ed7953"
            ],
            [
             0.7777777777777778,
             "#fb9f3a"
            ],
            [
             0.8888888888888888,
             "#fdca26"
            ],
            [
             1,
             "#f0f921"
            ]
           ],
           "sequentialminus": [
            [
             0,
             "#0d0887"
            ],
            [
             0.1111111111111111,
             "#46039f"
            ],
            [
             0.2222222222222222,
             "#7201a8"
            ],
            [
             0.3333333333333333,
             "#9c179e"
            ],
            [
             0.4444444444444444,
             "#bd3786"
            ],
            [
             0.5555555555555556,
             "#d8576b"
            ],
            [
             0.6666666666666666,
             "#ed7953"
            ],
            [
             0.7777777777777778,
             "#fb9f3a"
            ],
            [
             0.8888888888888888,
             "#fdca26"
            ],
            [
             1,
             "#f0f921"
            ]
           ]
          },
          "colorway": [
           "#636efa",
           "#EF553B",
           "#00cc96",
           "#ab63fa",
           "#FFA15A",
           "#19d3f3",
           "#FF6692",
           "#B6E880",
           "#FF97FF",
           "#FECB52"
          ],
          "font": {
           "color": "#2a3f5f"
          },
          "geo": {
           "bgcolor": "white",
           "lakecolor": "white",
           "landcolor": "white",
           "showlakes": true,
           "showland": true,
           "subunitcolor": "#C8D4E3"
          },
          "hoverlabel": {
           "align": "left"
          },
          "hovermode": "closest",
          "mapbox": {
           "style": "light"
          },
          "paper_bgcolor": "white",
          "plot_bgcolor": "white",
          "polar": {
           "angularaxis": {
            "gridcolor": "#EBF0F8",
            "linecolor": "#EBF0F8",
            "ticks": ""
           },
           "bgcolor": "white",
           "radialaxis": {
            "gridcolor": "#EBF0F8",
            "linecolor": "#EBF0F8",
            "ticks": ""
           }
          },
          "scene": {
           "xaxis": {
            "backgroundcolor": "white",
            "gridcolor": "#DFE8F3",
            "gridwidth": 2,
            "linecolor": "#EBF0F8",
            "showbackground": true,
            "ticks": "",
            "zerolinecolor": "#EBF0F8"
           },
           "yaxis": {
            "backgroundcolor": "white",
            "gridcolor": "#DFE8F3",
            "gridwidth": 2,
            "linecolor": "#EBF0F8",
            "showbackground": true,
            "ticks": "",
            "zerolinecolor": "#EBF0F8"
           },
           "zaxis": {
            "backgroundcolor": "white",
            "gridcolor": "#DFE8F3",
            "gridwidth": 2,
            "linecolor": "#EBF0F8",
            "showbackground": true,
            "ticks": "",
            "zerolinecolor": "#EBF0F8"
           }
          },
          "shapedefaults": {
           "line": {
            "color": "#2a3f5f"
           }
          },
          "ternary": {
           "aaxis": {
            "gridcolor": "#DFE8F3",
            "linecolor": "#A2B1C6",
            "ticks": ""
           },
           "baxis": {
            "gridcolor": "#DFE8F3",
            "linecolor": "#A2B1C6",
            "ticks": ""
           },
           "bgcolor": "white",
           "caxis": {
            "gridcolor": "#DFE8F3",
            "linecolor": "#A2B1C6",
            "ticks": ""
           }
          },
          "title": {
           "x": 0.05
          },
          "xaxis": {
           "automargin": true,
           "gridcolor": "#EBF0F8",
           "linecolor": "#EBF0F8",
           "ticks": "",
           "title": {
            "standoff": 15
           },
           "zerolinecolor": "#EBF0F8",
           "zerolinewidth": 2
          },
          "yaxis": {
           "automargin": true,
           "gridcolor": "#EBF0F8",
           "linecolor": "#EBF0F8",
           "ticks": "",
           "title": {
            "standoff": 15
           },
           "zerolinecolor": "#EBF0F8",
           "zerolinewidth": 2
          }
         }
        },
        "title": {
         "font": {
          "size": 16
         },
         "text": "Distribuição Absoluta por Gênero em Cada Nível de Formação Acadêmica (2021-2023)"
        },
        "xaxis": {
         "anchor": "y",
         "domain": [
          0,
          0.1975
         ],
         "range": [
          0,
          133.2
         ]
        },
        "xaxis2": {
         "anchor": "y2",
         "domain": [
          0.2675,
          0.465
         ],
         "range": [
          0,
          133.2
         ]
        },
        "xaxis3": {
         "anchor": "y3",
         "domain": [
          0.535,
          0.7325
         ],
         "range": [
          0,
          133.2
         ]
        },
        "xaxis4": {
         "anchor": "y4",
         "domain": [
          0.8025,
          1
         ],
         "range": [
          0,
          133.2
         ]
        },
        "yaxis": {
         "anchor": "x",
         "domain": [
          0,
          1
         ]
        },
        "yaxis2": {
         "anchor": "x2",
         "domain": [
          0,
          1
         ],
         "matches": "y",
         "showticklabels": false
        },
        "yaxis3": {
         "anchor": "x3",
         "domain": [
          0,
          1
         ],
         "matches": "y",
         "showticklabels": false
        },
        "yaxis4": {
         "anchor": "x4",
         "domain": [
          0,
          1
         ],
         "matches": "y",
         "showticklabels": false
        }
       }
      }
     },
     "metadata": {},
     "output_type": "display_data"
    }
   ],
   "source": [
    "df_grouped = df_rj.groupby([\"ano_pesquisa\", \"nivel_ensino\", \"genero\"]).size().reset_index(name=\"count\")\n",
    "\n",
    "fig = make_subplots(\n",
    "    rows=1, \n",
    "    cols=4, \n",
    "    shared_yaxes=True, \n",
    "    subplot_titles=[\"2021\", \"2022\", \"2023\", \"2024\"],\n",
    "    horizontal_spacing=0.07\n",
    ")\n",
    "\n",
    "anos = ['2021', '2022', '2023', '2024']\n",
    "cores = {\"Masculino\": \"#1E90FF\",  \"Feminino\": \"#FF7F50\" }\n",
    "\n",
    "ordem_niveis = [\n",
    "    'Não tenho graduação formal', \n",
    "    'Estudante de Graduação',\n",
    "    'Graduação/Bacharelado', \n",
    "    'Especialização Lato Sensu',\n",
    "    'Mestrado',\n",
    "    'Doutorado ou Phd'\n",
    "]\n",
    "\n",
    "# Para ajustar range máximo depois\n",
    "max_count = df_grouped['count'].max()\n",
    "\n",
    "for i, ano in enumerate(anos):\n",
    "    df_ano = df_grouped[df_grouped[\"ano_pesquisa\"] == ano]\n",
    "    \n",
    "    for genero in [\"Feminino\", \"Masculino\"]:\n",
    "        counts = []\n",
    "        niveis = []\n",
    "        \n",
    "        for nivel in ordem_niveis:\n",
    "            df_nivel = df_ano[(df_ano[\"nivel_ensino\"] == nivel) & (df_ano[\"genero\"] == genero)]\n",
    "            count = df_nivel[\"count\"].values[0] if not df_nivel.empty else 0\n",
    "            counts.append(count)\n",
    "            niveis.append(nivel)\n",
    "        \n",
    "        fig.add_trace(go.Bar(\n",
    "            y=niveis,\n",
    "            x=counts,\n",
    "            name=genero,\n",
    "            orientation=\"h\",\n",
    "            marker=dict(color=cores[genero]),\n",
    "            text=[str(c) for c in counts],\n",
    "            textposition=\"outside\",  # Deixa o número fora da barra\n",
    "            textfont=dict(color=\"black\", size=10),\n",
    "            showlegend=True if i == 0 else False\n",
    "        ), row=1, col=i+1)\n",
    "\n",
    "# Configurando layout\n",
    "fig.update_layout(\n",
    "    title=\"Distribuição Absoluta por Gênero em Cada Nível de Formação Acadêmica (2021-2023)\",\n",
    "    title_font_size=16,\n",
    "    barmode=\"group\",\n",
    "    height=800,\n",
    "    template=\"plotly_white\",\n",
    "    font=dict(size=11),\n",
    "    legend=dict(\n",
    "        orientation=\"h\",\n",
    "        yanchor=\"bottom\",\n",
    "        y=1.02,\n",
    "        xanchor=\"center\",\n",
    "        x=0.5,\n",
    "        font=dict(size=10)\n",
    "    )\n",
    ")\n",
    "\n",
    "# Ajustando range de cada xaxis para dar espaço aos textos \"outside\"\n",
    "for i in range(1, 5):\n",
    "    fig.update_xaxes(row=1, col=i, range=[0, max_count * 1.2])  # Aumenta 20% do maior valor\n",
    "\n",
    "fig.show()\n"
   ]
  },
  {
   "cell_type": "code",
   "execution_count": 26,
   "metadata": {},
   "outputs": [
    {
     "data": {
      "application/vnd.plotly.v1+json": {
       "config": {
        "plotlyServerURL": "https://plot.ly"
       },
       "data": [
        {
         "marker": {
          "color": "#FF7F50"
         },
         "name": "Feminino",
         "orientation": "h",
         "showlegend": true,
         "textposition": "auto",
         "type": "bar",
         "x": [
          16,
          0,
          7,
          1,
          2,
          0,
          4,
          0,
          0
         ],
         "xaxis": "x",
         "y": [
          "Analista de Dados",
          "Arquiteto de Dados/Data Architect",
          "Cientista de Dados",
          "Desenvolvedor",
          "Engenheiro de Dados",
          "Engenheiro de Dados/Data Engineer/Data Architect",
          "Outro",
          "Product Manager",
          "Professor/Pesquisador"
         ],
         "yaxis": "y"
        },
        {
         "marker": {
          "color": "#1E90FF"
         },
         "name": "Masculino",
         "orientation": "h",
         "showlegend": true,
         "textposition": "auto",
         "type": "bar",
         "x": [
          68,
          0,
          27,
          8,
          15,
          0,
          5,
          0,
          0
         ],
         "xaxis": "x",
         "y": [
          "Analista de Dados",
          "Arquiteto de Dados/Data Architect",
          "Cientista de Dados",
          "Desenvolvedor",
          "Engenheiro de Dados",
          "Engenheiro de Dados/Data Engineer/Data Architect",
          "Outro",
          "Product Manager",
          "Professor/Pesquisador"
         ],
         "yaxis": "y"
        },
        {
         "marker": {
          "color": "#FF7F50"
         },
         "name": "Feminino",
         "orientation": "h",
         "showlegend": false,
         "textposition": "auto",
         "type": "bar",
         "x": [
          25,
          0,
          7,
          2,
          8,
          0,
          8,
          0,
          0
         ],
         "xaxis": "x2",
         "y": [
          "Analista de Dados",
          "Arquiteto de Dados/Data Architect",
          "Cientista de Dados",
          "Desenvolvedor",
          "Engenheiro de Dados",
          "Engenheiro de Dados/Data Engineer/Data Architect",
          "Outro",
          "Product Manager",
          "Professor/Pesquisador"
         ],
         "yaxis": "y2"
        },
        {
         "marker": {
          "color": "#1E90FF"
         },
         "name": "Masculino",
         "orientation": "h",
         "showlegend": false,
         "textposition": "auto",
         "type": "bar",
         "x": [
          68,
          0,
          46,
          11,
          35,
          0,
          20,
          0,
          1
         ],
         "xaxis": "x2",
         "y": [
          "Analista de Dados",
          "Arquiteto de Dados/Data Architect",
          "Cientista de Dados",
          "Desenvolvedor",
          "Engenheiro de Dados",
          "Engenheiro de Dados/Data Engineer/Data Architect",
          "Outro",
          "Product Manager",
          "Professor/Pesquisador"
         ],
         "yaxis": "y2"
        },
        {
         "marker": {
          "color": "#FF7F50"
         },
         "name": "Feminino",
         "orientation": "h",
         "showlegend": false,
         "textposition": "auto",
         "type": "bar",
         "x": [
          43,
          0,
          13,
          0,
          11,
          0,
          7,
          4,
          1
         ],
         "xaxis": "x3",
         "y": [
          "Analista de Dados",
          "Arquiteto de Dados/Data Architect",
          "Cientista de Dados",
          "Desenvolvedor",
          "Engenheiro de Dados",
          "Engenheiro de Dados/Data Engineer/Data Architect",
          "Outro",
          "Product Manager",
          "Professor/Pesquisador"
         ],
         "yaxis": "y3"
        },
        {
         "marker": {
          "color": "#1E90FF"
         },
         "name": "Masculino",
         "orientation": "h",
         "showlegend": false,
         "textposition": "auto",
         "type": "bar",
         "x": [
          108,
          0,
          50,
          10,
          58,
          0,
          26,
          0,
          1
         ],
         "xaxis": "x3",
         "y": [
          "Analista de Dados",
          "Arquiteto de Dados/Data Architect",
          "Cientista de Dados",
          "Desenvolvedor",
          "Engenheiro de Dados",
          "Engenheiro de Dados/Data Engineer/Data Architect",
          "Outro",
          "Product Manager",
          "Professor/Pesquisador"
         ],
         "yaxis": "y3"
        },
        {
         "marker": {
          "color": "#FF7F50"
         },
         "name": "Feminino",
         "orientation": "h",
         "showlegend": false,
         "textposition": "auto",
         "type": "bar",
         "x": [
          30,
          0,
          17,
          6,
          5,
          7,
          5,
          4,
          0
         ],
         "xaxis": "x4",
         "y": [
          "Analista de Dados",
          "Arquiteto de Dados/Data Architect",
          "Cientista de Dados",
          "Desenvolvedor",
          "Engenheiro de Dados",
          "Engenheiro de Dados/Data Engineer/Data Architect",
          "Outro",
          "Product Manager",
          "Professor/Pesquisador"
         ],
         "yaxis": "y4"
        },
        {
         "marker": {
          "color": "#1E90FF"
         },
         "name": "Masculino",
         "orientation": "h",
         "showlegend": false,
         "textposition": "auto",
         "type": "bar",
         "x": [
          69,
          3,
          52,
          13,
          11,
          39,
          20,
          4,
          2
         ],
         "xaxis": "x4",
         "y": [
          "Analista de Dados",
          "Arquiteto de Dados/Data Architect",
          "Cientista de Dados",
          "Desenvolvedor",
          "Engenheiro de Dados",
          "Engenheiro de Dados/Data Engineer/Data Architect",
          "Outro",
          "Product Manager",
          "Professor/Pesquisador"
         ],
         "yaxis": "y4"
        }
       ],
       "layout": {
        "annotations": [
         {
          "font": {
           "size": 16
          },
          "showarrow": false,
          "text": "Ano 2021",
          "x": 0.5,
          "xanchor": "center",
          "xref": "paper",
          "y": 1,
          "yanchor": "bottom",
          "yref": "paper"
         },
         {
          "font": {
           "size": 16
          },
          "showarrow": false,
          "text": "Ano 2022",
          "x": 0.5,
          "xanchor": "center",
          "xref": "paper",
          "y": 0.7375,
          "yanchor": "bottom",
          "yref": "paper"
         },
         {
          "font": {
           "size": 16
          },
          "showarrow": false,
          "text": "Ano 2023",
          "x": 0.5,
          "xanchor": "center",
          "xref": "paper",
          "y": 0.475,
          "yanchor": "bottom",
          "yref": "paper"
         },
         {
          "font": {
           "size": 16
          },
          "showarrow": false,
          "text": "Ano 2024",
          "x": 0.5,
          "xanchor": "center",
          "xref": "paper",
          "y": 0.2125,
          "yanchor": "bottom",
          "yref": "paper"
         }
        ],
        "barmode": "group",
        "height": 800,
        "legend": {
         "orientation": "h",
         "x": 1,
         "xanchor": "right",
         "y": 1.02,
         "yanchor": "bottom"
        },
        "template": {
         "data": {
          "bar": [
           {
            "error_x": {
             "color": "#2a3f5f"
            },
            "error_y": {
             "color": "#2a3f5f"
            },
            "marker": {
             "line": {
              "color": "white",
              "width": 0.5
             },
             "pattern": {
              "fillmode": "overlay",
              "size": 10,
              "solidity": 0.2
             }
            },
            "type": "bar"
           }
          ],
          "barpolar": [
           {
            "marker": {
             "line": {
              "color": "white",
              "width": 0.5
             },
             "pattern": {
              "fillmode": "overlay",
              "size": 10,
              "solidity": 0.2
             }
            },
            "type": "barpolar"
           }
          ],
          "carpet": [
           {
            "aaxis": {
             "endlinecolor": "#2a3f5f",
             "gridcolor": "#C8D4E3",
             "linecolor": "#C8D4E3",
             "minorgridcolor": "#C8D4E3",
             "startlinecolor": "#2a3f5f"
            },
            "baxis": {
             "endlinecolor": "#2a3f5f",
             "gridcolor": "#C8D4E3",
             "linecolor": "#C8D4E3",
             "minorgridcolor": "#C8D4E3",
             "startlinecolor": "#2a3f5f"
            },
            "type": "carpet"
           }
          ],
          "choropleth": [
           {
            "colorbar": {
             "outlinewidth": 0,
             "ticks": ""
            },
            "type": "choropleth"
           }
          ],
          "contour": [
           {
            "colorbar": {
             "outlinewidth": 0,
             "ticks": ""
            },
            "colorscale": [
             [
              0,
              "#0d0887"
             ],
             [
              0.1111111111111111,
              "#46039f"
             ],
             [
              0.2222222222222222,
              "#7201a8"
             ],
             [
              0.3333333333333333,
              "#9c179e"
             ],
             [
              0.4444444444444444,
              "#bd3786"
             ],
             [
              0.5555555555555556,
              "#d8576b"
             ],
             [
              0.6666666666666666,
              "#ed7953"
             ],
             [
              0.7777777777777778,
              "#fb9f3a"
             ],
             [
              0.8888888888888888,
              "#fdca26"
             ],
             [
              1,
              "#f0f921"
             ]
            ],
            "type": "contour"
           }
          ],
          "contourcarpet": [
           {
            "colorbar": {
             "outlinewidth": 0,
             "ticks": ""
            },
            "type": "contourcarpet"
           }
          ],
          "heatmap": [
           {
            "colorbar": {
             "outlinewidth": 0,
             "ticks": ""
            },
            "colorscale": [
             [
              0,
              "#0d0887"
             ],
             [
              0.1111111111111111,
              "#46039f"
             ],
             [
              0.2222222222222222,
              "#7201a8"
             ],
             [
              0.3333333333333333,
              "#9c179e"
             ],
             [
              0.4444444444444444,
              "#bd3786"
             ],
             [
              0.5555555555555556,
              "#d8576b"
             ],
             [
              0.6666666666666666,
              "#ed7953"
             ],
             [
              0.7777777777777778,
              "#fb9f3a"
             ],
             [
              0.8888888888888888,
              "#fdca26"
             ],
             [
              1,
              "#f0f921"
             ]
            ],
            "type": "heatmap"
           }
          ],
          "heatmapgl": [
           {
            "colorbar": {
             "outlinewidth": 0,
             "ticks": ""
            },
            "colorscale": [
             [
              0,
              "#0d0887"
             ],
             [
              0.1111111111111111,
              "#46039f"
             ],
             [
              0.2222222222222222,
              "#7201a8"
             ],
             [
              0.3333333333333333,
              "#9c179e"
             ],
             [
              0.4444444444444444,
              "#bd3786"
             ],
             [
              0.5555555555555556,
              "#d8576b"
             ],
             [
              0.6666666666666666,
              "#ed7953"
             ],
             [
              0.7777777777777778,
              "#fb9f3a"
             ],
             [
              0.8888888888888888,
              "#fdca26"
             ],
             [
              1,
              "#f0f921"
             ]
            ],
            "type": "heatmapgl"
           }
          ],
          "histogram": [
           {
            "marker": {
             "pattern": {
              "fillmode": "overlay",
              "size": 10,
              "solidity": 0.2
             }
            },
            "type": "histogram"
           }
          ],
          "histogram2d": [
           {
            "colorbar": {
             "outlinewidth": 0,
             "ticks": ""
            },
            "colorscale": [
             [
              0,
              "#0d0887"
             ],
             [
              0.1111111111111111,
              "#46039f"
             ],
             [
              0.2222222222222222,
              "#7201a8"
             ],
             [
              0.3333333333333333,
              "#9c179e"
             ],
             [
              0.4444444444444444,
              "#bd3786"
             ],
             [
              0.5555555555555556,
              "#d8576b"
             ],
             [
              0.6666666666666666,
              "#ed7953"
             ],
             [
              0.7777777777777778,
              "#fb9f3a"
             ],
             [
              0.8888888888888888,
              "#fdca26"
             ],
             [
              1,
              "#f0f921"
             ]
            ],
            "type": "histogram2d"
           }
          ],
          "histogram2dcontour": [
           {
            "colorbar": {
             "outlinewidth": 0,
             "ticks": ""
            },
            "colorscale": [
             [
              0,
              "#0d0887"
             ],
             [
              0.1111111111111111,
              "#46039f"
             ],
             [
              0.2222222222222222,
              "#7201a8"
             ],
             [
              0.3333333333333333,
              "#9c179e"
             ],
             [
              0.4444444444444444,
              "#bd3786"
             ],
             [
              0.5555555555555556,
              "#d8576b"
             ],
             [
              0.6666666666666666,
              "#ed7953"
             ],
             [
              0.7777777777777778,
              "#fb9f3a"
             ],
             [
              0.8888888888888888,
              "#fdca26"
             ],
             [
              1,
              "#f0f921"
             ]
            ],
            "type": "histogram2dcontour"
           }
          ],
          "mesh3d": [
           {
            "colorbar": {
             "outlinewidth": 0,
             "ticks": ""
            },
            "type": "mesh3d"
           }
          ],
          "parcoords": [
           {
            "line": {
             "colorbar": {
              "outlinewidth": 0,
              "ticks": ""
             }
            },
            "type": "parcoords"
           }
          ],
          "pie": [
           {
            "automargin": true,
            "type": "pie"
           }
          ],
          "scatter": [
           {
            "fillpattern": {
             "fillmode": "overlay",
             "size": 10,
             "solidity": 0.2
            },
            "type": "scatter"
           }
          ],
          "scatter3d": [
           {
            "line": {
             "colorbar": {
              "outlinewidth": 0,
              "ticks": ""
             }
            },
            "marker": {
             "colorbar": {
              "outlinewidth": 0,
              "ticks": ""
             }
            },
            "type": "scatter3d"
           }
          ],
          "scattercarpet": [
           {
            "marker": {
             "colorbar": {
              "outlinewidth": 0,
              "ticks": ""
             }
            },
            "type": "scattercarpet"
           }
          ],
          "scattergeo": [
           {
            "marker": {
             "colorbar": {
              "outlinewidth": 0,
              "ticks": ""
             }
            },
            "type": "scattergeo"
           }
          ],
          "scattergl": [
           {
            "marker": {
             "colorbar": {
              "outlinewidth": 0,
              "ticks": ""
             }
            },
            "type": "scattergl"
           }
          ],
          "scattermapbox": [
           {
            "marker": {
             "colorbar": {
              "outlinewidth": 0,
              "ticks": ""
             }
            },
            "type": "scattermapbox"
           }
          ],
          "scatterpolar": [
           {
            "marker": {
             "colorbar": {
              "outlinewidth": 0,
              "ticks": ""
             }
            },
            "type": "scatterpolar"
           }
          ],
          "scatterpolargl": [
           {
            "marker": {
             "colorbar": {
              "outlinewidth": 0,
              "ticks": ""
             }
            },
            "type": "scatterpolargl"
           }
          ],
          "scatterternary": [
           {
            "marker": {
             "colorbar": {
              "outlinewidth": 0,
              "ticks": ""
             }
            },
            "type": "scatterternary"
           }
          ],
          "surface": [
           {
            "colorbar": {
             "outlinewidth": 0,
             "ticks": ""
            },
            "colorscale": [
             [
              0,
              "#0d0887"
             ],
             [
              0.1111111111111111,
              "#46039f"
             ],
             [
              0.2222222222222222,
              "#7201a8"
             ],
             [
              0.3333333333333333,
              "#9c179e"
             ],
             [
              0.4444444444444444,
              "#bd3786"
             ],
             [
              0.5555555555555556,
              "#d8576b"
             ],
             [
              0.6666666666666666,
              "#ed7953"
             ],
             [
              0.7777777777777778,
              "#fb9f3a"
             ],
             [
              0.8888888888888888,
              "#fdca26"
             ],
             [
              1,
              "#f0f921"
             ]
            ],
            "type": "surface"
           }
          ],
          "table": [
           {
            "cells": {
             "fill": {
              "color": "#EBF0F8"
             },
             "line": {
              "color": "white"
             }
            },
            "header": {
             "fill": {
              "color": "#C8D4E3"
             },
             "line": {
              "color": "white"
             }
            },
            "type": "table"
           }
          ]
         },
         "layout": {
          "annotationdefaults": {
           "arrowcolor": "#2a3f5f",
           "arrowhead": 0,
           "arrowwidth": 1
          },
          "autotypenumbers": "strict",
          "coloraxis": {
           "colorbar": {
            "outlinewidth": 0,
            "ticks": ""
           }
          },
          "colorscale": {
           "diverging": [
            [
             0,
             "#8e0152"
            ],
            [
             0.1,
             "#c51b7d"
            ],
            [
             0.2,
             "#de77ae"
            ],
            [
             0.3,
             "#f1b6da"
            ],
            [
             0.4,
             "#fde0ef"
            ],
            [
             0.5,
             "#f7f7f7"
            ],
            [
             0.6,
             "#e6f5d0"
            ],
            [
             0.7,
             "#b8e186"
            ],
            [
             0.8,
             "#7fbc41"
            ],
            [
             0.9,
             "#4d9221"
            ],
            [
             1,
             "#276419"
            ]
           ],
           "sequential": [
            [
             0,
             "#0d0887"
            ],
            [
             0.1111111111111111,
             "#46039f"
            ],
            [
             0.2222222222222222,
             "#7201a8"
            ],
            [
             0.3333333333333333,
             "#9c179e"
            ],
            [
             0.4444444444444444,
             "#bd3786"
            ],
            [
             0.5555555555555556,
             "#d8576b"
            ],
            [
             0.6666666666666666,
             "#ed7953"
            ],
            [
             0.7777777777777778,
             "#fb9f3a"
            ],
            [
             0.8888888888888888,
             "#fdca26"
            ],
            [
             1,
             "#f0f921"
            ]
           ],
           "sequentialminus": [
            [
             0,
             "#0d0887"
            ],
            [
             0.1111111111111111,
             "#46039f"
            ],
            [
             0.2222222222222222,
             "#7201a8"
            ],
            [
             0.3333333333333333,
             "#9c179e"
            ],
            [
             0.4444444444444444,
             "#bd3786"
            ],
            [
             0.5555555555555556,
             "#d8576b"
            ],
            [
             0.6666666666666666,
             "#ed7953"
            ],
            [
             0.7777777777777778,
             "#fb9f3a"
            ],
            [
             0.8888888888888888,
             "#fdca26"
            ],
            [
             1,
             "#f0f921"
            ]
           ]
          },
          "colorway": [
           "#636efa",
           "#EF553B",
           "#00cc96",
           "#ab63fa",
           "#FFA15A",
           "#19d3f3",
           "#FF6692",
           "#B6E880",
           "#FF97FF",
           "#FECB52"
          ],
          "font": {
           "color": "#2a3f5f"
          },
          "geo": {
           "bgcolor": "white",
           "lakecolor": "white",
           "landcolor": "white",
           "showlakes": true,
           "showland": true,
           "subunitcolor": "#C8D4E3"
          },
          "hoverlabel": {
           "align": "left"
          },
          "hovermode": "closest",
          "mapbox": {
           "style": "light"
          },
          "paper_bgcolor": "white",
          "plot_bgcolor": "white",
          "polar": {
           "angularaxis": {
            "gridcolor": "#EBF0F8",
            "linecolor": "#EBF0F8",
            "ticks": ""
           },
           "bgcolor": "white",
           "radialaxis": {
            "gridcolor": "#EBF0F8",
            "linecolor": "#EBF0F8",
            "ticks": ""
           }
          },
          "scene": {
           "xaxis": {
            "backgroundcolor": "white",
            "gridcolor": "#DFE8F3",
            "gridwidth": 2,
            "linecolor": "#EBF0F8",
            "showbackground": true,
            "ticks": "",
            "zerolinecolor": "#EBF0F8"
           },
           "yaxis": {
            "backgroundcolor": "white",
            "gridcolor": "#DFE8F3",
            "gridwidth": 2,
            "linecolor": "#EBF0F8",
            "showbackground": true,
            "ticks": "",
            "zerolinecolor": "#EBF0F8"
           },
           "zaxis": {
            "backgroundcolor": "white",
            "gridcolor": "#DFE8F3",
            "gridwidth": 2,
            "linecolor": "#EBF0F8",
            "showbackground": true,
            "ticks": "",
            "zerolinecolor": "#EBF0F8"
           }
          },
          "shapedefaults": {
           "line": {
            "color": "#2a3f5f"
           }
          },
          "ternary": {
           "aaxis": {
            "gridcolor": "#DFE8F3",
            "linecolor": "#A2B1C6",
            "ticks": ""
           },
           "baxis": {
            "gridcolor": "#DFE8F3",
            "linecolor": "#A2B1C6",
            "ticks": ""
           },
           "bgcolor": "white",
           "caxis": {
            "gridcolor": "#DFE8F3",
            "linecolor": "#A2B1C6",
            "ticks": ""
           }
          },
          "title": {
           "x": 0.05
          },
          "xaxis": {
           "automargin": true,
           "gridcolor": "#EBF0F8",
           "linecolor": "#EBF0F8",
           "ticks": "",
           "title": {
            "standoff": 15
           },
           "zerolinecolor": "#EBF0F8",
           "zerolinewidth": 2
          },
          "yaxis": {
           "automargin": true,
           "gridcolor": "#EBF0F8",
           "linecolor": "#EBF0F8",
           "ticks": "",
           "title": {
            "standoff": 15
           },
           "zerolinecolor": "#EBF0F8",
           "zerolinewidth": 2
          }
         }
        },
        "title": {
         "text": "Distribuição de Cargos por Gênero ao Longo dos Anos"
        },
        "width": 1000,
        "xaxis": {
         "anchor": "y",
         "domain": [
          0,
          1
         ],
         "matches": "x4",
         "showticklabels": false
        },
        "xaxis2": {
         "anchor": "y2",
         "domain": [
          0,
          1
         ],
         "matches": "x4",
         "showticklabels": false
        },
        "xaxis3": {
         "anchor": "y3",
         "domain": [
          0,
          1
         ],
         "matches": "x4",
         "showticklabels": false
        },
        "xaxis4": {
         "anchor": "y4",
         "domain": [
          0,
          1
         ],
         "title": {
          "text": "Quantidade"
         }
        },
        "yaxis": {
         "anchor": "x",
         "domain": [
          0.7875,
          1
         ],
         "showgrid": true,
         "title": {
          "text": "Cargo"
         }
        },
        "yaxis2": {
         "anchor": "x2",
         "domain": [
          0.525,
          0.7375
         ],
         "showgrid": true,
         "title": {
          "text": "Cargo"
         }
        },
        "yaxis3": {
         "anchor": "x3",
         "domain": [
          0.2625,
          0.475
         ],
         "showgrid": true,
         "title": {
          "text": "Cargo"
         }
        },
        "yaxis4": {
         "anchor": "x4",
         "domain": [
          0,
          0.2125
         ],
         "showgrid": true,
         "title": {
          "text": "Cargo"
         }
        }
       }
      }
     },
     "metadata": {},
     "output_type": "display_data"
    }
   ],
   "source": [
    "# Distribuição cargo x genero\n",
    "\n",
    "df = df_rj[df_rj['cargo'] != \"Não classificado\"].copy()\n",
    "\n",
    "df_contagem = df.groupby(['cargo', 'ano_pesquisa', 'genero']).size().reset_index(name='contagem')\n",
    "\n",
    "\n",
    "cores = {\"Masculino\": \"#1E90FF\",  \"Feminino\": \"#FF7F50\" }\n",
    "\n",
    "cargos_unicos = sorted(df_contagem['cargo'].unique())\n",
    "anos = sorted(df_contagem['ano_pesquisa'].unique())\n",
    "generos = [\"Feminino\", \"Masculino\"]\n",
    "\n",
    "\n",
    "fig = make_subplots(\n",
    "    rows=len(anos), \n",
    "    cols=1,\n",
    "    subplot_titles=[f\"Ano {ano}\" for ano in anos], \n",
    "    shared_xaxes=True,\n",
    "    vertical_spacing=0.05\n",
    ")\n",
    "\n",
    "\n",
    "for i, ano in enumerate(anos):\n",
    "    row = i + 1  \n",
    "    \n",
    "    for genero in generos:\n",
    "        \n",
    "        df_filtrado = df_contagem[(df_contagem['ano_pesquisa'] == ano) & \n",
    "                                  (df_contagem['genero'] == genero)]\n",
    "        \n",
    "        \n",
    "        y_cargos = []\n",
    "        x_contagens = []\n",
    "        \n",
    "        for cargo in cargos_unicos:\n",
    "            df_cargo = df_filtrado[df_filtrado['cargo'] == cargo]\n",
    "            if not df_cargo.empty:\n",
    "                x_contagens.append(df_cargo['contagem'].values[0])\n",
    "            else:\n",
    "                x_contagens.append(0)  #\n",
    "            y_cargos.append(cargo)\n",
    "        \n",
    "        \n",
    "        fig.add_trace(\n",
    "            go.Bar(\n",
    "                y=y_cargos,                # Cargos no eixo Y\n",
    "                x=x_contagens,             # Contagens no eixo X\n",
    "                name=genero,               # Nome na legenda\n",
    "                marker_color=cores[genero],# Cor com base no gênero\n",
    "                textposition='auto',\n",
    "                orientation='h',           # Barras horizontais\n",
    "                showlegend=i == 0          # Mostrar na legenda apenas para o primeiro ano\n",
    "            ),\n",
    "            row=row, col=1\n",
    "        )\n",
    "\n",
    "fig.update_layout(\n",
    "    title='Distribuição de Cargos por Gênero ao Longo dos Anos',\n",
    "    height=max(800, len(anos) * 200),  # Ajuste dinâmico da altura\n",
    "    width=1000,\n",
    "    template='plotly_white',\n",
    "    barmode='group',              # Agrupar barras por gênero\n",
    "    legend=dict(\n",
    "        orientation=\"h\",          # Legenda horizontal\n",
    "        yanchor=\"bottom\",\n",
    "        y=1.02,\n",
    "        xanchor=\"right\",\n",
    "        x=1\n",
    "    )\n",
    ")\n",
    "\n",
    "\n",
    "fig.update_xaxes(title_text=\"Quantidade\", row=len(anos), col=1)\n",
    "\n",
    "\n",
    "for i in range(1, len(anos) + 1):\n",
    "    fig.update_yaxes(title_text=\"Cargo\", row=i, col=1, showgrid=True)\n",
    "\n",
    "fig.show()\n"
   ]
  },
  {
   "cell_type": "markdown",
   "metadata": {},
   "source": [
    "# Estatísticas"
   ]
  },
  {
   "cell_type": "code",
   "execution_count": 30,
   "metadata": {},
   "outputs": [
    {
     "name": "stdout",
     "output_type": "stream",
     "text": [
      "Percentual de mulheres por ano:\n",
      "   ano_pesquisa  percentual_mulheres\n",
      "0          2021            19.819820\n",
      "1          2022            22.848665\n",
      "2          2023            25.000000\n",
      "3          2024            25.634518\n",
      "Percentual com pós-graduação ou superior por gênero:\n",
      "      genero  percentual_pos_ou_superior\n",
      "0   Feminino                   58.308157\n",
      "1  Masculino                   48.298677\n",
      "Percentual geral de mulheres: 23.83%\n",
      "Percentual de mulheres em cargos de liderança: 25.45%\n",
      "Percentual de mulheres em níveis seniores: 24.64%\n",
      "Percentual de mulheres em nível júnior: 22.70%\n"
     ]
    }
   ],
   "source": [
    "percentuais_genero = df_rj.groupby('ano_pesquisa')['genero'].apply(\n",
    "    lambda x: (x == 'Feminino').mean() * 100\n",
    ").reset_index(name='percentual_mulheres')\n",
    "\n",
    "print(\"Percentual de mulheres por ano:\")\n",
    "print(percentuais_genero)\n",
    "\n",
    "ordem_nivel_ensino = ['Especialização Lato Sensu', \n",
    "                      'Mestrado', 'Doutorado ou Phd']\n",
    "escolaridade_superior = df_rj.groupby('genero')['nivel_ensino'].apply(\n",
    "    lambda x: (x.isin(ordem_nivel_ensino)).mean() * 100\n",
    ").reset_index(name='percentual_pos_ou_superior')\n",
    "\n",
    "print(\"Percentual com pós-graduação ou superior por gênero:\")\n",
    "print(escolaridade_superior)\n",
    "\n",
    "# Percentual geral de mulheres\n",
    "perc_total_mulheres = (df_rj['genero'] == 'Feminino').mean() * 100\n",
    "\n",
    "# Filtragem para cargos de liderança - apenas cargo Gestor\n",
    "cargos_lideranca = ['Gestor']\n",
    "df_lideranca = df_rj[df_rj['nivel'].isin(cargos_lideranca)]\n",
    "perc_mulheres_lideranca = (df_lideranca['genero'] == 'Feminino').mean() * 100\n",
    "\n",
    "# Filtragem para níveis seniores técnicos\n",
    "niveis_senior = ['Sênior']\n",
    "df_senior = df_rj[df_rj['nivel'].isin(niveis_senior)]\n",
    "perc_mulheres_senior = (df_senior['genero'] == 'Feminino').mean() * 100\n",
    "\n",
    "# Filtragem para nível júnior\n",
    "df_junior = df_rj[df_rj['nivel'] == 'Júnior']\n",
    "perc_mulheres_junior = (df_junior['genero'] == 'Feminino').mean() * 100\n",
    "\n",
    "print(f\"Percentual geral de mulheres: {perc_total_mulheres:.2f}%\")\n",
    "print(f\"Percentual de mulheres em cargos de liderança: {perc_mulheres_lideranca:.2f}%\")\n",
    "print(f\"Percentual de mulheres em níveis seniores: {perc_mulheres_senior:.2f}%\")\n",
    "print(f\"Percentual de mulheres em nível júnior: {perc_mulheres_junior:.2f}%\")"
   ]
  },
  {
   "cell_type": "code",
   "execution_count": 29,
   "metadata": {},
   "outputs": [
    {
     "name": "stdout",
     "output_type": "stream",
     "text": [
      "Percentual geral de mulheres por ano:\n",
      "   ano_pesquisa  percentual_mulheres\n",
      "0          2021            19.819820\n",
      "1          2022            22.848665\n",
      "2          2023            25.000000\n",
      "3          2024            25.634518\n",
      "\n",
      "Percentual de mulheres em cargos de gestão por ano:\n",
      "   ano_pesquisa  percentual_mulheres_gestoras\n",
      "0          2021                     27.659574\n",
      "1          2022                     19.047619\n",
      "2          2023                     24.731183\n",
      "3          2024                     21.250000\n",
      "Ano 2021: 19.82% de mulheres no total, 27.66% das gestoras são mulheres\n",
      "Ano 2022: 22.85% de mulheres no total, 19.05% das gestoras são mulheres\n",
      "Ano 2023: 25.00% de mulheres no total, 24.73% das gestoras são mulheres\n",
      "Ano 2024: 25.63% de mulheres no total, 21.25% das gestoras são mulheres\n"
     ]
    }
   ],
   "source": [
    "# Percentual geral de mulheres por ano\n",
    "perc_total_mulheres_por_ano = df_rj.groupby('ano_pesquisa')['genero'].apply(\n",
    "    lambda x: (x == 'Feminino').mean() * 100\n",
    ").reset_index(name='percentual_mulheres')\n",
    "\n",
    "# Filtragem para cargos de liderança - apenas cargo Gestor, por ano\n",
    "cargos_lideranca = ['Júnior']\n",
    "df_lideranca = df_rj[df_rj['nivel'].isin(cargos_lideranca)]\n",
    "perc_mulheres_lideranca_por_ano = df_lideranca.groupby('ano_pesquisa')['genero'].apply(\n",
    "    lambda x: (x == 'Feminino').mean() * 100\n",
    ").reset_index(name='percentual_mulheres_gestoras')\n",
    "\n",
    "# Mostrar resultados\n",
    "print(\"Percentual geral de mulheres por ano:\")\n",
    "print(perc_total_mulheres_por_ano)\n",
    "\n",
    "print(\"\\nPercentual de mulheres em cargos de gestão por ano:\")\n",
    "print(perc_mulheres_lideranca_por_ano)\n",
    "\n",
    "\n",
    "for ano in df_rj['ano_pesquisa'].unique():\n",
    "    total_mulheres = perc_total_mulheres_por_ano[perc_total_mulheres_por_ano['ano_pesquisa'] == ano]['percentual_mulheres'].values[0]\n",
    "    \n",
    "    # Verificar se existem gestoras neste ano antes de acessar\n",
    "    gestoras_ano = perc_mulheres_lideranca_por_ano[perc_mulheres_lideranca_por_ano['ano_pesquisa'] == ano]\n",
    "    if not gestoras_ano.empty:\n",
    "        mulheres_gestoras = gestoras_ano['percentual_mulheres_gestoras'].values[0]\n",
    "        print(f\"Ano {ano}: {total_mulheres:.2f}% de mulheres no total, {mulheres_gestoras:.2f}% das gestoras são mulheres\")\n",
    "    else:\n",
    "        print(f\"Ano {ano}: {total_mulheres:.2f}% de mulheres no total, sem dados sobre gestoras\")"
   ]
  },
  {
   "cell_type": "code",
   "execution_count": 28,
   "metadata": {},
   "outputs": [
    {
     "name": "stdout",
     "output_type": "stream",
     "text": [
      "Top 5 formações acadêmicas - Homens:\n",
      "1. Computação / Engenharia de Software / TI: 377 profissionais (36.5%)\n",
      "2. Economia / Administração / Finanças / Negócios: 192 profissionais (18.6%)\n",
      "3. Engenharia (outras): 159 profissionais (15.4%)\n",
      "4. Estatística / Matemática / Ciências Atuariais: 98 profissionais (9.5%)\n",
      "5. Outras Engenharias (não incluir engenharia de software ou TI): 61 profissionais (5.9%)\n",
      "\n",
      "Top 5 formações acadêmicas - Mulheres:\n",
      "1. Computação / Engenharia de Software / TI: 93 profissionais (28.4%)\n",
      "2. Engenharia (outras): 51 profissionais (15.5%)\n",
      "3. Economia / Administração / Finanças / Negócios: 48 profissionais (14.6%)\n",
      "4. Estatística / Matemática / Ciências Atuariais: 46 profissionais (14.0%)\n",
      "5. Outras: 26 profissionais (7.9%)\n"
     ]
    }
   ],
   "source": [
    "# Top 5 formações acadêmicas para homens\n",
    "formacao_homens = df_rj[df_rj['genero'] == 'Masculino']['area_formacao'].value_counts()\n",
    "top_formacao_homens = formacao_homens.head(5)\n",
    "perc_formacao_homens = (formacao_homens.head(5) / formacao_homens.sum() * 100).round(1)\n",
    "\n",
    "# Top 5 formações acadêmicas para mulheres\n",
    "formacao_mulheres = df_rj[df_rj['genero'] == 'Feminino']['area_formacao'].value_counts()\n",
    "top_formacao_mulheres = formacao_mulheres.head(5)\n",
    "perc_formacao_mulheres = (formacao_mulheres.head(5) / formacao_mulheres.sum() * 100).round(1)\n",
    "\n",
    "# Visualizar resultados\n",
    "print(\"Top 5 formações acadêmicas - Homens:\")\n",
    "for i, (area, contagem) in enumerate(top_formacao_homens.items(), 1):\n",
    "    percentual = perc_formacao_homens[area]\n",
    "    print(f\"{i}. {area}: {contagem} profissionais ({percentual}%)\")\n",
    "\n",
    "print(\"\\nTop 5 formações acadêmicas - Mulheres:\")\n",
    "for i, (area, contagem) in enumerate(top_formacao_mulheres.items(), 1):\n",
    "    percentual = perc_formacao_mulheres[area]\n",
    "    print(f\"{i}. {area}: {contagem} profissionais ({percentual}%)\")\n"
   ]
  },
  {
   "cell_type": "code",
   "execution_count": 27,
   "metadata": {},
   "outputs": [
    {
     "name": "stdout",
     "output_type": "stream",
     "text": [
      "Distribuição de gênero por cargo:\n",
      "Product Manager: 66.7% mulheres, 33.3% homens (total: 12 profissionais)\n",
      "Analista de Dados: 26.7% mulheres, 73.3% homens (total: 427 profissionais)\n",
      "Cientista de Dados: 20.1% mulheres, 79.9% homens (total: 219 profissionais)\n",
      "Professor/Pesquisador: 20.0% mulheres, 80.0% homens (total: 5 profissionais)\n",
      "Engenheiro de Dados: 17.9% mulheres, 82.1% homens (total: 145 profissionais)\n",
      "Desenvolvedor: 17.6% mulheres, 82.4% homens (total: 51 profissionais)\n",
      "\n",
      "Média geral de mulheres no setor: 23.8%\n",
      "\n",
      "Comparação de representatividade feminina:\n",
      "Cargos técnicos: 19.0% mulheres\n",
      "Cargos acadêmicos: 20.0% mulheres\n"
     ]
    }
   ],
   "source": [
    "cargos_interesse = [\n",
    "    'Analista de Dados', 'Cientista de Dados', 'Engenheiro de Dados', \n",
    "    'Desenvolvedor', 'Product Manager', 'Professor/Pesquisador'\n",
    "]\n",
    "\n",
    "df_cargos = df_rj[df_rj['cargo'].isin(cargos_interesse)]\n",
    "\n",
    "# Calcular porcentagem de mulheres por cargo e total de profissionais\n",
    "resultado_cargos = (\n",
    "    df_cargos.groupby('cargo')['genero']\n",
    "    .agg(porcentagem_mulheres=lambda x: (x == 'Feminino').mean() * 100, total_profissionais='count')\n",
    "    .reset_index()\n",
    "    .sort_values('porcentagem_mulheres', ascending=False)\n",
    ")\n",
    "\n",
    "# Exibir resultados formatados\n",
    "print(\"Distribuição de gênero por cargo:\")\n",
    "for _, row in resultado_cargos.iterrows():\n",
    "    print(f\"{row['cargo']}: {row['porcentagem_mulheres']:.1f}% mulheres, {100 - row['porcentagem_mulheres']:.1f}% homens (total: {row['total_profissionais']} profissionais)\")\n",
    "\n",
    "# Média geral de mulheres no setor\n",
    "media_geral = (df_rj['genero'] == 'Feminino').mean() * 100\n",
    "print(f\"\\nMédia geral de mulheres no setor: {media_geral:.1f}%\")\n",
    "\n",
    "# Comparação entre áreas técnicas e acadêmicas\n",
    "cargos_tecnicos = ['Cientista de Dados', 'Engenheiro de Dados', 'Desenvolvedor']\n",
    "cargos_academicos = ['Professor/Pesquisador']\n",
    "\n",
    "perc_mulheres_tecnicos = df_rj[df_rj['cargo'].isin(cargos_tecnicos)]['genero'].eq('Feminino').mean() * 100\n",
    "perc_mulheres_academicos = df_rj[df_rj['cargo'].isin(cargos_academicos)]['genero'].eq('Feminino').mean() * 100\n",
    "\n",
    "print(\"\\nComparação de representatividade feminina:\")\n",
    "print(f\"Cargos técnicos: {perc_mulheres_tecnicos:.1f}% mulheres\")\n",
    "print(f\"Cargos acadêmicos: {perc_mulheres_academicos:.1f}% mulheres\")\n"
   ]
  }
 ],
 "metadata": {
  "kernelspec": {
   "display_name": "base",
   "language": "python",
   "name": "python3"
  },
  "language_info": {
   "codemirror_mode": {
    "name": "ipython",
    "version": 3
   },
   "file_extension": ".py",
   "mimetype": "text/x-python",
   "name": "python",
   "nbconvert_exporter": "python",
   "pygments_lexer": "ipython3",
   "version": "3.11.7"
  }
 },
 "nbformat": 4,
 "nbformat_minor": 2
}
